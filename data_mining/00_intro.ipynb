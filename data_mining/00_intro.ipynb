{
 "cells": [
  {
   "cell_type": "markdown",
   "metadata": {},
   "source": [
    "## CLASS INTRO "
   ]
  },
  {
   "cell_type": "code",
   "execution_count": 41,
   "metadata": {},
   "outputs": [
    {
     "name": "stdout",
     "output_type": "stream",
     "text": [
      "65 A D 68\n"
     ]
    },
    {
     "data": {
      "text/plain": [
       "True"
      ]
     },
     "execution_count": 41,
     "metadata": {},
     "output_type": "execute_result"
    }
   ],
   "source": [
    "k=3\n",
    "print(ord('A'), chr(65), chr(65 + k), ord(chr(65 + k)))\n",
    "\n",
    "mychar = 'V'\n",
    "mychar.isalpha()"
   ]
  },
  {
   "cell_type": "code",
   "execution_count": 49,
   "metadata": {},
   "outputs": [
    {
     "name": "stdout",
     "output_type": "stream",
     "text": [
      "0 Red\n",
      "1 Green\n",
      "2 Blue\n",
      "0 Red\n",
      "1 Green\n",
      "2 Blue\n"
     ]
    }
   ],
   "source": [
    "colors = ['Red', 'Green', 'Blue']\n",
    "\n",
    "i = 0\n",
    "\n",
    "for color in colors:\n",
    "    print(i, color)\n",
    "    i += 1\n",
    "\n",
    "colors = ['Red', 'Green', 'Blue']\n",
    "\n",
    "for i, color in enumerate(colors):\n",
    "    print (i, color)"
   ]
  },
  {
   "cell_type": "code",
   "execution_count": null,
   "metadata": {},
   "outputs": [],
   "source": [
    "def pos_or_neg(num_list):\n",
    "    \n",
    "    for x in num_list:\n",
    "        if x == 0:\n",
    "            print(f'{x} is zero.')\n",
    "        elif x > 0:\n",
    "            print(f'{x} is positive.')\n",
    "        else:\n",
    "            print(f'{x} is negative.')\n",
    "            \n",
    "seq = [0, 10, -10, 1e10, -1.5]\n",
    "\n",
    "    \n",
    "# function call\n",
    "pos_or_neg(seq)"
   ]
  },
  {
   "cell_type": "code",
   "execution_count": null,
   "metadata": {},
   "outputs": [],
   "source": [
    "find_average = lambda x, y: (x + y) / 2\n",
    "\n",
    "find_average(10, 20)"
   ]
  },
  {
   "cell_type": "code",
   "execution_count": 51,
   "metadata": {},
   "outputs": [
    {
     "data": {
      "text/plain": [
       "[0, 4, 16, 36, 64, 100]"
      ]
     },
     "execution_count": 51,
     "metadata": {},
     "output_type": "execute_result"
    }
   ],
   "source": [
    "[n ** 2 for n in range(12) if n%2 == 0]"
   ]
  },
  {
   "cell_type": "code",
   "execution_count": 55,
   "metadata": {},
   "outputs": [
    {
     "name": "stdout",
     "output_type": "stream",
     "text": [
      "dict_keys([1, 5, 10])\n",
      "dict_values(['Red', 'Green', 'Blue'])\n",
      "Green\n"
     ]
    }
   ],
   "source": [
    "xy = {1: 'Red', 5: 'Green', 10: 'Blue'}\n",
    "print(xy.keys())\n",
    "print(xy.values())\n",
    "print(xy[5])"
   ]
  },
  {
   "cell_type": "code",
   "execution_count": 57,
   "metadata": {},
   "outputs": [
    {
     "name": "stdout",
     "output_type": "stream",
     "text": [
      "1.1447298858494002\n",
      "1.1447298858494002\n"
     ]
    }
   ],
   "source": [
    "import math\n",
    "print(math.log(math.pi))\n",
    "\n",
    "from numpy import log, pi\n",
    "print(log(pi))"
   ]
  }
 ],
 "metadata": {
  "kernelspec": {
   "display_name": "Python 3",
   "language": "python",
   "name": "python3"
  },
  "language_info": {
   "codemirror_mode": {
    "name": "ipython",
    "version": 3
   },
   "file_extension": ".py",
   "mimetype": "text/x-python",
   "name": "python",
   "nbconvert_exporter": "python",
   "pygments_lexer": "ipython3",
   "version": "3.8.5"
  }
 },
 "nbformat": 4,
 "nbformat_minor": 4
}
