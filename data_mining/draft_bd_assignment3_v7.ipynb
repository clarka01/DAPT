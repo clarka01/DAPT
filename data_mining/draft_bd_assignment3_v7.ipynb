{
 "cells": [
  {
   "cell_type": "code",
   "execution_count": 164,
   "metadata": {},
   "outputs": [],
   "source": [
    "# data processing\n",
    "import numpy as np\n",
    "import pandas as pd\n",
    "from datetime import date\n",
    "\n",
    "# plotting\n",
    "import matplotlib.pyplot as plt\n",
    "import seaborn as sns\n",
    "\n",
    "# pd.options.mode.chained_assignment = None\n",
    "\n",
    "# ignore less critical warnings\n",
    "#import warnings\n",
    "#warnings.filterwarnings('ignore')"
   ]
  },
  {
   "cell_type": "code",
   "execution_count": 165,
   "metadata": {},
   "outputs": [],
   "source": [
    "# full path of the orders dataset\n",
    "orders_file = 'C:/Users/short/Desktop/python_vscode/631_Assignment3/data/olist_orders_dataset.csv'\n",
    "\n",
    "# full path of the customer dataset\n",
    "cust_file = 'C:/Users/short/Desktop/python_vscode/631_Assignment3/data/olist_customers_dataset.csv'\n",
    "\n",
    "# join the names of the brazilian states, from https://www.kaggle.com/olistbr/brazilian-ecommerce/discussion/74572\n",
    "states = pd.read_html('https://en.wikipedia.org/wiki/ISO_3166-2:BR')"
   ]
  },
  {
   "cell_type": "code",
   "execution_count": 166,
   "metadata": {},
   "outputs": [],
   "source": [
    "def read_olist_data(file1, file2, use_cols, cutoff_date):\n",
    "    # read the orders data\n",
    "    orders = pd.read_csv(file1)\n",
    "\n",
    "    # date-time conversion\n",
    "    orders['order_purchase_timestamp'] = pd.to_datetime(orders['order_purchase_timestamp'])\n",
    "\n",
    "    # convert the order purchase timestamps into dates\n",
    "    orders['order_purchase_date'] = orders['order_purchase_timestamp'].dt.date\n",
    "\n",
    "    # convert order_delivered_customer_date\n",
    "    orders['order_delivered_customer_date'] = pd.to_datetime(orders['order_delivered_customer_date'], format = '%Y/%m/%d')\n",
    "    # orders['order_delivered_customer_date'] = orders['order_delivered_customer_date'].dt.date\n",
    "\n",
    "    # convert estimated delivery date into dates\n",
    "    orders['order_estimated_delivery_date'] = pd.to_datetime(orders['order_estimated_delivery_date'], format = '%Y/%m/%d') \n",
    "    \n",
    "    # create an order date col\n",
    "    orders['order_date'] = pd.to_datetime(orders['order_purchase_date'], format = '%Y/%m/%d') \n",
    "\n",
    "    # extract weekday from the order date\n",
    "    orders['weekday'] = orders['order_purchase_timestamp'].dt.day_name()\n",
    "\n",
    "    # read the file that contains the unique customer identifier\n",
    "    # also, let's keep only the following two columns: customer_id, customer_unique_id\n",
    "    cust = pd.read_csv(file2, usecols = ['customer_id', 'customer_unique_id', 'customer_state'])\n",
    "\n",
    "    # merge orders and cust dataframes using an inner join on customer_id\n",
    "    orders_out = pd.merge(orders, cust, on = 'customer_id', how  = 'inner')\n",
    "    \n",
    "    # discard (incomplete) data -- data collected on/after 8/22/2018\n",
    "    # we do this here by using a boolean (True/False) mask\n",
    "    mask = orders_out['order_purchase_date'] <= cutoff_date\n",
    "    \n",
    "    # apply the mask so that we only grab TRUE records.\n",
    "    orders_out = orders_out[mask]\n",
    "    \n",
    "    # sort the output dataset by order date for each customer\n",
    "    orders_out = orders_out[use_cols].sort_values(['customer_unique_id', 'order_purchase_timestamp'])\n",
    "    \n",
    "    return orders_out"
   ]
  },
  {
   "cell_type": "code",
   "execution_count": 167,
   "metadata": {},
   "outputs": [],
   "source": [
    "# we will keep only these columns for this exercise\n",
    "use_cols = ['customer_unique_id', 'order_id', 'order_status', 'order_purchase_timestamp', 'order_date', 'order_estimated_delivery_date', 'order_delivered_customer_date', 'weekday', 'customer_state']\n",
    "\n",
    "# we will discard (incomplete) data after 08/22/2018 (see 06_pandas_wrangle.ipynb for the rationale)\n",
    "cutoff_date = date(2018, 8, 22)"
   ]
  },
  {
   "cell_type": "code",
   "execution_count": 168,
   "metadata": {},
   "outputs": [],
   "source": [
    "orders_df = read_olist_data(orders_file, cust_file, use_cols, cutoff_date)"
   ]
  },
  {
   "cell_type": "code",
   "execution_count": 169,
   "metadata": {},
   "outputs": [
    {
     "data": {
      "text/html": [
       "<div>\n",
       "<style scoped>\n",
       "    .dataframe tbody tr th:only-of-type {\n",
       "        vertical-align: middle;\n",
       "    }\n",
       "\n",
       "    .dataframe tbody tr th {\n",
       "        vertical-align: top;\n",
       "    }\n",
       "\n",
       "    .dataframe thead th {\n",
       "        text-align: right;\n",
       "    }\n",
       "</style>\n",
       "<table border=\"1\" class=\"dataframe\">\n",
       "  <thead>\n",
       "    <tr style=\"text-align: right;\">\n",
       "      <th></th>\n",
       "      <th>customer_unique_id</th>\n",
       "      <th>order_id</th>\n",
       "      <th>order_status</th>\n",
       "      <th>order_purchase_timestamp</th>\n",
       "      <th>order_date</th>\n",
       "      <th>order_estimated_delivery_date</th>\n",
       "      <th>order_delivered_customer_date</th>\n",
       "      <th>weekday</th>\n",
       "      <th>customer_state</th>\n",
       "    </tr>\n",
       "  </thead>\n",
       "  <tbody>\n",
       "    <tr>\n",
       "      <th>52798</th>\n",
       "      <td>0000366f3b9a7992bf8c76cfdf3221e2</td>\n",
       "      <td>e22acc9c116caa3f2b7121bbb380d08e</td>\n",
       "      <td>delivered</td>\n",
       "      <td>2018-05-10 10:56:27</td>\n",
       "      <td>2018-05-10</td>\n",
       "      <td>2018-05-21</td>\n",
       "      <td>2018-05-16 20:48:37</td>\n",
       "      <td>Thursday</td>\n",
       "      <td>SP</td>\n",
       "    </tr>\n",
       "    <tr>\n",
       "      <th>73889</th>\n",
       "      <td>0000b849f77a49e4a4ce2b2a4ca5be3f</td>\n",
       "      <td>3594e05a005ac4d06a72673270ef9ec9</td>\n",
       "      <td>delivered</td>\n",
       "      <td>2018-05-07 11:11:27</td>\n",
       "      <td>2018-05-07</td>\n",
       "      <td>2018-05-15</td>\n",
       "      <td>2018-05-10 18:02:42</td>\n",
       "      <td>Monday</td>\n",
       "      <td>SP</td>\n",
       "    </tr>\n",
       "    <tr>\n",
       "      <th>26460</th>\n",
       "      <td>0000f46a3911fa3c0805444483337064</td>\n",
       "      <td>b33ec3b699337181488304f362a6b734</td>\n",
       "      <td>delivered</td>\n",
       "      <td>2017-03-10 21:05:03</td>\n",
       "      <td>2017-03-10</td>\n",
       "      <td>2017-04-07</td>\n",
       "      <td>2017-04-05 14:38:47</td>\n",
       "      <td>Friday</td>\n",
       "      <td>SC</td>\n",
       "    </tr>\n",
       "    <tr>\n",
       "      <th>98493</th>\n",
       "      <td>0000f6ccb0745a6a4b88665a16c9f078</td>\n",
       "      <td>41272756ecddd9a9ed0180413cc22fb6</td>\n",
       "      <td>delivered</td>\n",
       "      <td>2017-10-12 20:29:41</td>\n",
       "      <td>2017-10-12</td>\n",
       "      <td>2017-11-13</td>\n",
       "      <td>2017-11-01 21:23:05</td>\n",
       "      <td>Thursday</td>\n",
       "      <td>PA</td>\n",
       "    </tr>\n",
       "    <tr>\n",
       "      <th>41564</th>\n",
       "      <td>0004aac84e0df4da2b147fca70cf8255</td>\n",
       "      <td>d957021f1127559cd947b62533f484f7</td>\n",
       "      <td>delivered</td>\n",
       "      <td>2017-11-14 19:45:42</td>\n",
       "      <td>2017-11-14</td>\n",
       "      <td>2017-12-05</td>\n",
       "      <td>2017-11-27 23:08:56</td>\n",
       "      <td>Tuesday</td>\n",
       "      <td>SP</td>\n",
       "    </tr>\n",
       "  </tbody>\n",
       "</table>\n",
       "</div>"
      ],
      "text/plain": [
       "                     customer_unique_id                          order_id  \\\n",
       "52798  0000366f3b9a7992bf8c76cfdf3221e2  e22acc9c116caa3f2b7121bbb380d08e   \n",
       "73889  0000b849f77a49e4a4ce2b2a4ca5be3f  3594e05a005ac4d06a72673270ef9ec9   \n",
       "26460  0000f46a3911fa3c0805444483337064  b33ec3b699337181488304f362a6b734   \n",
       "98493  0000f6ccb0745a6a4b88665a16c9f078  41272756ecddd9a9ed0180413cc22fb6   \n",
       "41564  0004aac84e0df4da2b147fca70cf8255  d957021f1127559cd947b62533f484f7   \n",
       "\n",
       "      order_status order_purchase_timestamp order_date  \\\n",
       "52798    delivered      2018-05-10 10:56:27 2018-05-10   \n",
       "73889    delivered      2018-05-07 11:11:27 2018-05-07   \n",
       "26460    delivered      2017-03-10 21:05:03 2017-03-10   \n",
       "98493    delivered      2017-10-12 20:29:41 2017-10-12   \n",
       "41564    delivered      2017-11-14 19:45:42 2017-11-14   \n",
       "\n",
       "      order_estimated_delivery_date order_delivered_customer_date   weekday  \\\n",
       "52798                    2018-05-21           2018-05-16 20:48:37  Thursday   \n",
       "73889                    2018-05-15           2018-05-10 18:02:42    Monday   \n",
       "26460                    2017-04-07           2017-04-05 14:38:47    Friday   \n",
       "98493                    2017-11-13           2017-11-01 21:23:05  Thursday   \n",
       "41564                    2017-12-05           2017-11-27 23:08:56   Tuesday   \n",
       "\n",
       "      customer_state  \n",
       "52798             SP  \n",
       "73889             SP  \n",
       "26460             SC  \n",
       "98493             PA  \n",
       "41564             SP  "
      ]
     },
     "execution_count": 169,
     "metadata": {},
     "output_type": "execute_result"
    }
   ],
   "source": [
    "orders_df.head()"
   ]
  },
  {
   "cell_type": "code",
   "execution_count": 170,
   "metadata": {},
   "outputs": [],
   "source": [
    "# first set of brackets, states2[0], is the table we want from the list states2, then get all rows, cols 0 - 2\n",
    "br_states = states[0].iloc[:, 0:2]\n",
    "\n",
    "br_states.reset_index(drop = True, inplace = True)"
   ]
  },
  {
   "cell_type": "code",
   "execution_count": 171,
   "metadata": {},
   "outputs": [],
   "source": [
    "br_states.columns = ['cust_state', 'state_name']\n",
    "\n",
    "br_states['customer_state'] = br_states['cust_state'].str.replace('BR-', '')\n",
    "\n",
    "br_states = br_states.drop('cust_state', axis = 1)\n",
    "\n",
    "# make this a dictionary we can use as a lookup table\n",
    "repl = br_states.set_index('customer_state')['state_name'].to_dict()\n",
    "\n",
    "# replace the state abbrevs with the names of each state\n",
    "orders_df = orders_df.replace(repl)"
   ]
  },
  {
   "cell_type": "code",
   "execution_count": 172,
   "metadata": {},
   "outputs": [
    {
     "data": {
      "text/html": [
       "<div>\n",
       "<style scoped>\n",
       "    .dataframe tbody tr th:only-of-type {\n",
       "        vertical-align: middle;\n",
       "    }\n",
       "\n",
       "    .dataframe tbody tr th {\n",
       "        vertical-align: top;\n",
       "    }\n",
       "\n",
       "    .dataframe thead th {\n",
       "        text-align: right;\n",
       "    }\n",
       "</style>\n",
       "<table border=\"1\" class=\"dataframe\">\n",
       "  <thead>\n",
       "    <tr style=\"text-align: right;\">\n",
       "      <th></th>\n",
       "      <th>customer_unique_id</th>\n",
       "      <th>order_id</th>\n",
       "      <th>order_status</th>\n",
       "      <th>order_purchase_timestamp</th>\n",
       "      <th>order_date</th>\n",
       "      <th>order_estimated_delivery_date</th>\n",
       "      <th>order_delivered_customer_date</th>\n",
       "      <th>weekday</th>\n",
       "      <th>customer_state</th>\n",
       "    </tr>\n",
       "  </thead>\n",
       "  <tbody>\n",
       "    <tr>\n",
       "      <th>52798</th>\n",
       "      <td>0000366f3b9a7992bf8c76cfdf3221e2</td>\n",
       "      <td>e22acc9c116caa3f2b7121bbb380d08e</td>\n",
       "      <td>delivered</td>\n",
       "      <td>2018-05-10 10:56:27</td>\n",
       "      <td>2018-05-10</td>\n",
       "      <td>2018-05-21</td>\n",
       "      <td>2018-05-16 20:48:37</td>\n",
       "      <td>Thursday</td>\n",
       "      <td>São Paulo</td>\n",
       "    </tr>\n",
       "    <tr>\n",
       "      <th>73889</th>\n",
       "      <td>0000b849f77a49e4a4ce2b2a4ca5be3f</td>\n",
       "      <td>3594e05a005ac4d06a72673270ef9ec9</td>\n",
       "      <td>delivered</td>\n",
       "      <td>2018-05-07 11:11:27</td>\n",
       "      <td>2018-05-07</td>\n",
       "      <td>2018-05-15</td>\n",
       "      <td>2018-05-10 18:02:42</td>\n",
       "      <td>Monday</td>\n",
       "      <td>São Paulo</td>\n",
       "    </tr>\n",
       "    <tr>\n",
       "      <th>26460</th>\n",
       "      <td>0000f46a3911fa3c0805444483337064</td>\n",
       "      <td>b33ec3b699337181488304f362a6b734</td>\n",
       "      <td>delivered</td>\n",
       "      <td>2017-03-10 21:05:03</td>\n",
       "      <td>2017-03-10</td>\n",
       "      <td>2017-04-07</td>\n",
       "      <td>2017-04-05 14:38:47</td>\n",
       "      <td>Friday</td>\n",
       "      <td>Santa Catarina</td>\n",
       "    </tr>\n",
       "    <tr>\n",
       "      <th>98493</th>\n",
       "      <td>0000f6ccb0745a6a4b88665a16c9f078</td>\n",
       "      <td>41272756ecddd9a9ed0180413cc22fb6</td>\n",
       "      <td>delivered</td>\n",
       "      <td>2017-10-12 20:29:41</td>\n",
       "      <td>2017-10-12</td>\n",
       "      <td>2017-11-13</td>\n",
       "      <td>2017-11-01 21:23:05</td>\n",
       "      <td>Thursday</td>\n",
       "      <td>Pará</td>\n",
       "    </tr>\n",
       "    <tr>\n",
       "      <th>41564</th>\n",
       "      <td>0004aac84e0df4da2b147fca70cf8255</td>\n",
       "      <td>d957021f1127559cd947b62533f484f7</td>\n",
       "      <td>delivered</td>\n",
       "      <td>2017-11-14 19:45:42</td>\n",
       "      <td>2017-11-14</td>\n",
       "      <td>2017-12-05</td>\n",
       "      <td>2017-11-27 23:08:56</td>\n",
       "      <td>Tuesday</td>\n",
       "      <td>São Paulo</td>\n",
       "    </tr>\n",
       "  </tbody>\n",
       "</table>\n",
       "</div>"
      ],
      "text/plain": [
       "                     customer_unique_id                          order_id  \\\n",
       "52798  0000366f3b9a7992bf8c76cfdf3221e2  e22acc9c116caa3f2b7121bbb380d08e   \n",
       "73889  0000b849f77a49e4a4ce2b2a4ca5be3f  3594e05a005ac4d06a72673270ef9ec9   \n",
       "26460  0000f46a3911fa3c0805444483337064  b33ec3b699337181488304f362a6b734   \n",
       "98493  0000f6ccb0745a6a4b88665a16c9f078  41272756ecddd9a9ed0180413cc22fb6   \n",
       "41564  0004aac84e0df4da2b147fca70cf8255  d957021f1127559cd947b62533f484f7   \n",
       "\n",
       "      order_status order_purchase_timestamp order_date  \\\n",
       "52798    delivered      2018-05-10 10:56:27 2018-05-10   \n",
       "73889    delivered      2018-05-07 11:11:27 2018-05-07   \n",
       "26460    delivered      2017-03-10 21:05:03 2017-03-10   \n",
       "98493    delivered      2017-10-12 20:29:41 2017-10-12   \n",
       "41564    delivered      2017-11-14 19:45:42 2017-11-14   \n",
       "\n",
       "      order_estimated_delivery_date order_delivered_customer_date   weekday  \\\n",
       "52798                    2018-05-21           2018-05-16 20:48:37  Thursday   \n",
       "73889                    2018-05-15           2018-05-10 18:02:42    Monday   \n",
       "26460                    2017-04-07           2017-04-05 14:38:47    Friday   \n",
       "98493                    2017-11-13           2017-11-01 21:23:05  Thursday   \n",
       "41564                    2017-12-05           2017-11-27 23:08:56   Tuesday   \n",
       "\n",
       "       customer_state  \n",
       "52798       São Paulo  \n",
       "73889       São Paulo  \n",
       "26460  Santa Catarina  \n",
       "98493            Pará  \n",
       "41564       São Paulo  "
      ]
     },
     "execution_count": 172,
     "metadata": {},
     "output_type": "execute_result"
    }
   ],
   "source": [
    "orders_df.head()"
   ]
  },
  {
   "cell_type": "markdown",
   "metadata": {},
   "source": [
    "## Create customer attributes"
   ]
  },
  {
   "cell_type": "markdown",
   "metadata": {},
   "source": [
    "#### first, subset the data in the observation period using a mask"
   ]
  },
  {
   "cell_type": "code",
   "execution_count": 173,
   "metadata": {},
   "outputs": [
    {
     "data": {
      "text/plain": [
       "(98906, 45430)"
      ]
     },
     "execution_count": 173,
     "metadata": {},
     "output_type": "execute_result"
    }
   ],
   "source": [
    "# set the snapshot date\n",
    "snapshot_date = date(2017, 12, 31)\n",
    "#odate = orders_df['order_purchase_timestamp'].dt.date\n",
    "\n",
    "df2 = orders_df.query('order_date <= @snapshot_date')\n",
    "\n",
    "# mask = orders_df['order_purchase_timestamp'].dt.date <= snapshot_date\n",
    "\n",
    "# mask.head()\n",
    "\n",
    "# apply the filter\n",
    "# df_raw = orders_df[mask]\n",
    "\n",
    "len(orders_df), len(df2)"
   ]
  },
  {
   "cell_type": "code",
   "execution_count": null,
   "metadata": {},
   "outputs": [],
   "source": [
    "# mask = orders_df['order_purchase_timestamp'].dt.date <= snapshot_date\n",
    "\n",
    "# mask.head()\n",
    "\n",
    "# apply the filter\n",
    "# df_raw = orders_df[mask]\n",
    "\n",
    "# len(orders_df), len(df_raw)"
   ]
  },
  {
   "cell_type": "code",
   "execution_count": 174,
   "metadata": {},
   "outputs": [
    {
     "data": {
      "text/plain": [
       "Timestamp('2017-12-31 23:29:31')"
      ]
     },
     "execution_count": 174,
     "metadata": {},
     "output_type": "execute_result"
    }
   ],
   "source": [
    "# check the max date\n",
    "# df_raw.order_purchase_timestamp.max()\n",
    "df2.order_purchase_timestamp.max()"
   ]
  },
  {
   "cell_type": "markdown",
   "metadata": {},
   "source": [
    "#### Customer Recency (replicated attribute)"
   ]
  },
  {
   "cell_type": "code",
   "execution_count": 175,
   "metadata": {},
   "outputs": [
    {
     "data": {
      "text/html": [
       "<div>\n",
       "<style scoped>\n",
       "    .dataframe tbody tr th:only-of-type {\n",
       "        vertical-align: middle;\n",
       "    }\n",
       "\n",
       "    .dataframe tbody tr th {\n",
       "        vertical-align: top;\n",
       "    }\n",
       "\n",
       "    .dataframe thead th {\n",
       "        text-align: right;\n",
       "    }\n",
       "</style>\n",
       "<table border=\"1\" class=\"dataframe\">\n",
       "  <thead>\n",
       "    <tr style=\"text-align: right;\">\n",
       "      <th></th>\n",
       "      <th>customer_unique_id</th>\n",
       "      <th>order_purchase_timestamp</th>\n",
       "    </tr>\n",
       "  </thead>\n",
       "  <tbody>\n",
       "    <tr>\n",
       "      <th>0</th>\n",
       "      <td>0000f46a3911fa3c0805444483337064</td>\n",
       "      <td>2017-03-10 21:05:03</td>\n",
       "    </tr>\n",
       "    <tr>\n",
       "      <th>1</th>\n",
       "      <td>0000f6ccb0745a6a4b88665a16c9f078</td>\n",
       "      <td>2017-10-12 20:29:41</td>\n",
       "    </tr>\n",
       "    <tr>\n",
       "      <th>2</th>\n",
       "      <td>0004aac84e0df4da2b147fca70cf8255</td>\n",
       "      <td>2017-11-14 19:45:42</td>\n",
       "    </tr>\n",
       "    <tr>\n",
       "      <th>3</th>\n",
       "      <td>0005e1862207bf6ccc02e4228effd9a0</td>\n",
       "      <td>2017-03-04 23:32:12</td>\n",
       "    </tr>\n",
       "    <tr>\n",
       "      <th>4</th>\n",
       "      <td>0006fdc98a402fceb4eb0ee528f6a8d4</td>\n",
       "      <td>2017-07-18 09:23:10</td>\n",
       "    </tr>\n",
       "  </tbody>\n",
       "</table>\n",
       "</div>"
      ],
      "text/plain": [
       "                 customer_unique_id order_purchase_timestamp\n",
       "0  0000f46a3911fa3c0805444483337064      2017-03-10 21:05:03\n",
       "1  0000f6ccb0745a6a4b88665a16c9f078      2017-10-12 20:29:41\n",
       "2  0004aac84e0df4da2b147fca70cf8255      2017-11-14 19:45:42\n",
       "3  0005e1862207bf6ccc02e4228effd9a0      2017-03-04 23:32:12\n",
       "4  0006fdc98a402fceb4eb0ee528f6a8d4      2017-07-18 09:23:10"
      ]
     },
     "execution_count": 175,
     "metadata": {},
     "output_type": "execute_result"
    }
   ],
   "source": [
    "# To calculate recency (days since the most recent order), we will have to extract \n",
    "# the most recent order date for each customer.\n",
    "cust_recency = df2.groupby('customer_unique_id')['order_purchase_timestamp'].max().reset_index()\n",
    "\n",
    "cust_recency.head()"
   ]
  },
  {
   "cell_type": "code",
   "execution_count": 176,
   "metadata": {},
   "outputs": [
    {
     "data": {
      "text/plain": [
       "0   296 days\n",
       "1    80 days\n",
       "2    47 days\n",
       "3   302 days\n",
       "4   166 days\n",
       "Name: order_purchase_timestamp, dtype: timedelta64[ns]"
      ]
     },
     "execution_count": 176,
     "metadata": {},
     "output_type": "execute_result"
    }
   ],
   "source": [
    "# count the number of days between the most recent order date and the snapshot date\n",
    "delta = snapshot_date - cust_recency['order_purchase_timestamp'].dt.date\n",
    "\n",
    "delta.head()"
   ]
  },
  {
   "cell_type": "code",
   "execution_count": 177,
   "metadata": {},
   "outputs": [
    {
     "data": {
      "text/html": [
       "<div>\n",
       "<style scoped>\n",
       "    .dataframe tbody tr th:only-of-type {\n",
       "        vertical-align: middle;\n",
       "    }\n",
       "\n",
       "    .dataframe tbody tr th {\n",
       "        vertical-align: top;\n",
       "    }\n",
       "\n",
       "    .dataframe thead th {\n",
       "        text-align: right;\n",
       "    }\n",
       "</style>\n",
       "<table border=\"1\" class=\"dataframe\">\n",
       "  <thead>\n",
       "    <tr style=\"text-align: right;\">\n",
       "      <th></th>\n",
       "      <th>customer_unique_id</th>\n",
       "      <th>order_purchase_timestamp</th>\n",
       "      <th>order_recency</th>\n",
       "    </tr>\n",
       "  </thead>\n",
       "  <tbody>\n",
       "    <tr>\n",
       "      <th>0</th>\n",
       "      <td>0000f46a3911fa3c0805444483337064</td>\n",
       "      <td>2017-03-10 21:05:03</td>\n",
       "      <td>9</td>\n",
       "    </tr>\n",
       "    <tr>\n",
       "      <th>1</th>\n",
       "      <td>0000f6ccb0745a6a4b88665a16c9f078</td>\n",
       "      <td>2017-10-12 20:29:41</td>\n",
       "      <td>2</td>\n",
       "    </tr>\n",
       "    <tr>\n",
       "      <th>2</th>\n",
       "      <td>0004aac84e0df4da2b147fca70cf8255</td>\n",
       "      <td>2017-11-14 19:45:42</td>\n",
       "      <td>1</td>\n",
       "    </tr>\n",
       "    <tr>\n",
       "      <th>3</th>\n",
       "      <td>0005e1862207bf6ccc02e4228effd9a0</td>\n",
       "      <td>2017-03-04 23:32:12</td>\n",
       "      <td>10</td>\n",
       "    </tr>\n",
       "    <tr>\n",
       "      <th>4</th>\n",
       "      <td>0006fdc98a402fceb4eb0ee528f6a8d4</td>\n",
       "      <td>2017-07-18 09:23:10</td>\n",
       "      <td>5</td>\n",
       "    </tr>\n",
       "  </tbody>\n",
       "</table>\n",
       "</div>"
      ],
      "text/plain": [
       "                 customer_unique_id order_purchase_timestamp  order_recency\n",
       "0  0000f46a3911fa3c0805444483337064      2017-03-10 21:05:03              9\n",
       "1  0000f6ccb0745a6a4b88665a16c9f078      2017-10-12 20:29:41              2\n",
       "2  0004aac84e0df4da2b147fca70cf8255      2017-11-14 19:45:42              1\n",
       "3  0005e1862207bf6ccc02e4228effd9a0      2017-03-04 23:32:12             10\n",
       "4  0006fdc98a402fceb4eb0ee528f6a8d4      2017-07-18 09:23:10              5"
      ]
     },
     "execution_count": 177,
     "metadata": {},
     "output_type": "execute_result"
    }
   ],
   "source": [
    "# grab the number of days (as an integer) from the calculated deltas\n",
    "# divide by 30 to get number of months\n",
    "cust_recency['order_recency'] = delta.dt.days / 30\n",
    "\n",
    "cust_recency['order_recency'] = cust_recency['order_recency'].astype(int)\n",
    "\n",
    "cust_recency.head()"
   ]
  },
  {
   "cell_type": "code",
   "execution_count": 178,
   "metadata": {},
   "outputs": [
    {
     "data": {
      "text/plain": [
       "44034"
      ]
     },
     "execution_count": 178,
     "metadata": {},
     "output_type": "execute_result"
    }
   ],
   "source": [
    "# drop the date from this df\n",
    "cust_recency = cust_recency.drop('order_purchase_timestamp', axis = 1)\n",
    "\n",
    "# how many records (unique customers) do we have for this timeframe?\n",
    "# This is the number of customers who are included in the modeling dasetset for this specific time-frame.\n",
    "len(cust_recency)"
   ]
  },
  {
   "cell_type": "code",
   "execution_count": 179,
   "metadata": {},
   "outputs": [
    {
     "data": {
      "text/html": [
       "<div>\n",
       "<style scoped>\n",
       "    .dataframe tbody tr th:only-of-type {\n",
       "        vertical-align: middle;\n",
       "    }\n",
       "\n",
       "    .dataframe tbody tr th {\n",
       "        vertical-align: top;\n",
       "    }\n",
       "\n",
       "    .dataframe thead th {\n",
       "        text-align: right;\n",
       "    }\n",
       "</style>\n",
       "<table border=\"1\" class=\"dataframe\">\n",
       "  <thead>\n",
       "    <tr style=\"text-align: right;\">\n",
       "      <th></th>\n",
       "      <th>order_recency</th>\n",
       "      <th>cust_count</th>\n",
       "    </tr>\n",
       "  </thead>\n",
       "  <tbody>\n",
       "    <tr>\n",
       "      <th>0</th>\n",
       "      <td>0</td>\n",
       "      <td>5336</td>\n",
       "    </tr>\n",
       "    <tr>\n",
       "      <th>1</th>\n",
       "      <td>1</td>\n",
       "      <td>7548</td>\n",
       "    </tr>\n",
       "    <tr>\n",
       "      <th>2</th>\n",
       "      <td>2</td>\n",
       "      <td>4354</td>\n",
       "    </tr>\n",
       "    <tr>\n",
       "      <th>3</th>\n",
       "      <td>3</td>\n",
       "      <td>4160</td>\n",
       "    </tr>\n",
       "    <tr>\n",
       "      <th>4</th>\n",
       "      <td>4</td>\n",
       "      <td>3972</td>\n",
       "    </tr>\n",
       "  </tbody>\n",
       "</table>\n",
       "</div>"
      ],
      "text/plain": [
       "   order_recency  cust_count\n",
       "0              0        5336\n",
       "1              1        7548\n",
       "2              2        4354\n",
       "3              3        4160\n",
       "4              4        3972"
      ]
     },
     "execution_count": 179,
     "metadata": {},
     "output_type": "execute_result"
    }
   ],
   "source": [
    "# Let's take a look at the cumulative distribution of customers by recency.\n",
    "recency_distr = cust_recency.groupby('order_recency').size().reset_index()\n",
    "\n",
    "recency_distr = recency_distr.rename(columns = {0: 'cust_count'})\n",
    "\n",
    "recency_distr.head()"
   ]
  },
  {
   "cell_type": "code",
   "execution_count": 180,
   "metadata": {},
   "outputs": [],
   "source": [
    "# calculate cumulative percentages \n",
    "# cumulative_pctg = recency_distr['cust_count'].cumsum() / sum(recency_distr['cust_count'])\n",
    "\n",
    "# cumulative_pctg.head()"
   ]
  },
  {
   "cell_type": "markdown",
   "metadata": {},
   "source": [
    "#### Days to delivery (experimental attribute)"
   ]
  },
  {
   "cell_type": "code",
   "execution_count": null,
   "metadata": {},
   "outputs": [],
   "source": [
    "# delta2 = df_raw['order_delivered_customer_date'] - df_raw['order_purchase_timestamp']"
   ]
  },
  {
   "cell_type": "code",
   "execution_count": 181,
   "metadata": {},
   "outputs": [
    {
     "data": {
      "text/html": [
       "<div>\n",
       "<style scoped>\n",
       "    .dataframe tbody tr th:only-of-type {\n",
       "        vertical-align: middle;\n",
       "    }\n",
       "\n",
       "    .dataframe tbody tr th {\n",
       "        vertical-align: top;\n",
       "    }\n",
       "\n",
       "    .dataframe thead th {\n",
       "        text-align: right;\n",
       "    }\n",
       "</style>\n",
       "<table border=\"1\" class=\"dataframe\">\n",
       "  <thead>\n",
       "    <tr style=\"text-align: right;\">\n",
       "      <th></th>\n",
       "      <th>customer_unique_id</th>\n",
       "      <th>order_id</th>\n",
       "      <th>order_status</th>\n",
       "      <th>order_purchase_timestamp</th>\n",
       "      <th>order_date</th>\n",
       "      <th>order_estimated_delivery_date</th>\n",
       "      <th>order_delivered_customer_date</th>\n",
       "      <th>weekday</th>\n",
       "      <th>customer_state</th>\n",
       "    </tr>\n",
       "  </thead>\n",
       "  <tbody>\n",
       "    <tr>\n",
       "      <th>26460</th>\n",
       "      <td>0000f46a3911fa3c0805444483337064</td>\n",
       "      <td>b33ec3b699337181488304f362a6b734</td>\n",
       "      <td>delivered</td>\n",
       "      <td>2017-03-10 21:05:03</td>\n",
       "      <td>2017-03-10</td>\n",
       "      <td>2017-04-07</td>\n",
       "      <td>2017-04-05 14:38:47</td>\n",
       "      <td>Friday</td>\n",
       "      <td>Santa Catarina</td>\n",
       "    </tr>\n",
       "    <tr>\n",
       "      <th>98493</th>\n",
       "      <td>0000f6ccb0745a6a4b88665a16c9f078</td>\n",
       "      <td>41272756ecddd9a9ed0180413cc22fb6</td>\n",
       "      <td>delivered</td>\n",
       "      <td>2017-10-12 20:29:41</td>\n",
       "      <td>2017-10-12</td>\n",
       "      <td>2017-11-13</td>\n",
       "      <td>2017-11-01 21:23:05</td>\n",
       "      <td>Thursday</td>\n",
       "      <td>Pará</td>\n",
       "    </tr>\n",
       "    <tr>\n",
       "      <th>41564</th>\n",
       "      <td>0004aac84e0df4da2b147fca70cf8255</td>\n",
       "      <td>d957021f1127559cd947b62533f484f7</td>\n",
       "      <td>delivered</td>\n",
       "      <td>2017-11-14 19:45:42</td>\n",
       "      <td>2017-11-14</td>\n",
       "      <td>2017-12-05</td>\n",
       "      <td>2017-11-27 23:08:56</td>\n",
       "      <td>Tuesday</td>\n",
       "      <td>São Paulo</td>\n",
       "    </tr>\n",
       "    <tr>\n",
       "      <th>71235</th>\n",
       "      <td>0005e1862207bf6ccc02e4228effd9a0</td>\n",
       "      <td>ae76bef74b97bcb0b3e355e60d9a6f9c</td>\n",
       "      <td>delivered</td>\n",
       "      <td>2017-03-04 23:32:12</td>\n",
       "      <td>2017-03-04</td>\n",
       "      <td>2017-04-06</td>\n",
       "      <td>2017-03-09 08:33:08</td>\n",
       "      <td>Saturday</td>\n",
       "      <td>Rio de Janeiro</td>\n",
       "    </tr>\n",
       "    <tr>\n",
       "      <th>26203</th>\n",
       "      <td>0006fdc98a402fceb4eb0ee528f6a8d4</td>\n",
       "      <td>6681163e3dab91c549952b2845b20281</td>\n",
       "      <td>delivered</td>\n",
       "      <td>2017-07-18 09:23:10</td>\n",
       "      <td>2017-07-18</td>\n",
       "      <td>2017-08-15</td>\n",
       "      <td>2017-08-03 18:42:49</td>\n",
       "      <td>Tuesday</td>\n",
       "      <td>Espírito Santo</td>\n",
       "    </tr>\n",
       "  </tbody>\n",
       "</table>\n",
       "</div>"
      ],
      "text/plain": [
       "                     customer_unique_id                          order_id  \\\n",
       "26460  0000f46a3911fa3c0805444483337064  b33ec3b699337181488304f362a6b734   \n",
       "98493  0000f6ccb0745a6a4b88665a16c9f078  41272756ecddd9a9ed0180413cc22fb6   \n",
       "41564  0004aac84e0df4da2b147fca70cf8255  d957021f1127559cd947b62533f484f7   \n",
       "71235  0005e1862207bf6ccc02e4228effd9a0  ae76bef74b97bcb0b3e355e60d9a6f9c   \n",
       "26203  0006fdc98a402fceb4eb0ee528f6a8d4  6681163e3dab91c549952b2845b20281   \n",
       "\n",
       "      order_status order_purchase_timestamp order_date  \\\n",
       "26460    delivered      2017-03-10 21:05:03 2017-03-10   \n",
       "98493    delivered      2017-10-12 20:29:41 2017-10-12   \n",
       "41564    delivered      2017-11-14 19:45:42 2017-11-14   \n",
       "71235    delivered      2017-03-04 23:32:12 2017-03-04   \n",
       "26203    delivered      2017-07-18 09:23:10 2017-07-18   \n",
       "\n",
       "      order_estimated_delivery_date order_delivered_customer_date   weekday  \\\n",
       "26460                    2017-04-07           2017-04-05 14:38:47    Friday   \n",
       "98493                    2017-11-13           2017-11-01 21:23:05  Thursday   \n",
       "41564                    2017-12-05           2017-11-27 23:08:56   Tuesday   \n",
       "71235                    2017-04-06           2017-03-09 08:33:08  Saturday   \n",
       "26203                    2017-08-15           2017-08-03 18:42:49   Tuesday   \n",
       "\n",
       "       customer_state  \n",
       "26460  Santa Catarina  \n",
       "98493            Pará  \n",
       "41564       São Paulo  \n",
       "71235  Rio de Janeiro  \n",
       "26203  Espírito Santo  "
      ]
     },
     "execution_count": 181,
     "metadata": {},
     "output_type": "execute_result"
    }
   ],
   "source": [
    "df2.fillna(0)\n",
    "\n",
    "df2.head()"
   ]
  },
  {
   "cell_type": "code",
   "execution_count": 185,
   "metadata": {},
   "outputs": [],
   "source": [
    "# note that we need to use engine = 'python' in order to run this on the timedelta64\n",
    "df2.eval('days_to_delivery =  order_delivered_customer_date - order_date', inplace = True, engine = 'python')"
   ]
  },
  {
   "cell_type": "code",
   "execution_count": 186,
   "metadata": {},
   "outputs": [
    {
     "data": {
      "text/plain": [
       "customer_unique_id                        object\n",
       "order_id                                  object\n",
       "order_status                              object\n",
       "order_purchase_timestamp          datetime64[ns]\n",
       "order_date                        datetime64[ns]\n",
       "order_estimated_delivery_date     datetime64[ns]\n",
       "order_delivered_customer_date     datetime64[ns]\n",
       "weekday                                   object\n",
       "customer_state                            object\n",
       "days_to_delivery                 timedelta64[ns]\n",
       "dtype: object"
      ]
     },
     "execution_count": 186,
     "metadata": {},
     "output_type": "execute_result"
    }
   ],
   "source": [
    "# just curious\n",
    "df2.dtypes"
   ]
  },
  {
   "cell_type": "code",
   "execution_count": 187,
   "metadata": {},
   "outputs": [],
   "source": [
    "# df2.loc['days_to_delivery'] = df2.copy(pd.to_numeric(df2['days_to_delivery']), deep = False)\n",
    "# dfView = df2.copy(deep = False)\n",
    "dfView.loc[:, 'days_to_delivery'] = df2['days_to_delivery'].dt.days / 7\n",
    "\n",
    "#cust_recency['order_recency'] = delta.dt.days / 30\n",
    "\n",
    "#cust_recency['order_recency'] = cust_recency['order_recency'].astype(int)\n",
    "#view.loc[:, 'days_to_delivery'] = pd.to_numeric(df2['days_to_delivery'])\n",
    "# view_of_df = df.copy(deep=False)"
   ]
  },
  {
   "cell_type": "code",
   "execution_count": 188,
   "metadata": {},
   "outputs": [],
   "source": [
    "dfView['days_to_delivery'] = pd.to_numeric(dfView['days_to_delivery'])"
   ]
  },
  {
   "cell_type": "code",
   "execution_count": 189,
   "metadata": {},
   "outputs": [
    {
     "data": {
      "text/html": [
       "<div>\n",
       "<style scoped>\n",
       "    .dataframe tbody tr th:only-of-type {\n",
       "        vertical-align: middle;\n",
       "    }\n",
       "\n",
       "    .dataframe tbody tr th {\n",
       "        vertical-align: top;\n",
       "    }\n",
       "\n",
       "    .dataframe thead th {\n",
       "        text-align: right;\n",
       "    }\n",
       "</style>\n",
       "<table border=\"1\" class=\"dataframe\">\n",
       "  <thead>\n",
       "    <tr style=\"text-align: right;\">\n",
       "      <th></th>\n",
       "      <th>customer_unique_id</th>\n",
       "      <th>order_id</th>\n",
       "      <th>order_status</th>\n",
       "      <th>order_purchase_timestamp</th>\n",
       "      <th>order_date</th>\n",
       "      <th>order_estimated_delivery_date</th>\n",
       "      <th>order_delivered_customer_date</th>\n",
       "      <th>weekday</th>\n",
       "      <th>customer_state</th>\n",
       "      <th>days_to_delivery</th>\n",
       "    </tr>\n",
       "  </thead>\n",
       "  <tbody>\n",
       "    <tr>\n",
       "      <th>26460</th>\n",
       "      <td>0000f46a3911fa3c0805444483337064</td>\n",
       "      <td>b33ec3b699337181488304f362a6b734</td>\n",
       "      <td>delivered</td>\n",
       "      <td>2017-03-10 21:05:03</td>\n",
       "      <td>2017-03-10</td>\n",
       "      <td>2017-04-07</td>\n",
       "      <td>2017-04-05 14:38:47</td>\n",
       "      <td>Friday</td>\n",
       "      <td>Santa Catarina</td>\n",
       "      <td>3.714286</td>\n",
       "    </tr>\n",
       "    <tr>\n",
       "      <th>98493</th>\n",
       "      <td>0000f6ccb0745a6a4b88665a16c9f078</td>\n",
       "      <td>41272756ecddd9a9ed0180413cc22fb6</td>\n",
       "      <td>delivered</td>\n",
       "      <td>2017-10-12 20:29:41</td>\n",
       "      <td>2017-10-12</td>\n",
       "      <td>2017-11-13</td>\n",
       "      <td>2017-11-01 21:23:05</td>\n",
       "      <td>Thursday</td>\n",
       "      <td>Pará</td>\n",
       "      <td>2.857143</td>\n",
       "    </tr>\n",
       "    <tr>\n",
       "      <th>41564</th>\n",
       "      <td>0004aac84e0df4da2b147fca70cf8255</td>\n",
       "      <td>d957021f1127559cd947b62533f484f7</td>\n",
       "      <td>delivered</td>\n",
       "      <td>2017-11-14 19:45:42</td>\n",
       "      <td>2017-11-14</td>\n",
       "      <td>2017-12-05</td>\n",
       "      <td>2017-11-27 23:08:56</td>\n",
       "      <td>Tuesday</td>\n",
       "      <td>São Paulo</td>\n",
       "      <td>1.857143</td>\n",
       "    </tr>\n",
       "    <tr>\n",
       "      <th>71235</th>\n",
       "      <td>0005e1862207bf6ccc02e4228effd9a0</td>\n",
       "      <td>ae76bef74b97bcb0b3e355e60d9a6f9c</td>\n",
       "      <td>delivered</td>\n",
       "      <td>2017-03-04 23:32:12</td>\n",
       "      <td>2017-03-04</td>\n",
       "      <td>2017-04-06</td>\n",
       "      <td>2017-03-09 08:33:08</td>\n",
       "      <td>Saturday</td>\n",
       "      <td>Rio de Janeiro</td>\n",
       "      <td>0.714286</td>\n",
       "    </tr>\n",
       "    <tr>\n",
       "      <th>26203</th>\n",
       "      <td>0006fdc98a402fceb4eb0ee528f6a8d4</td>\n",
       "      <td>6681163e3dab91c549952b2845b20281</td>\n",
       "      <td>delivered</td>\n",
       "      <td>2017-07-18 09:23:10</td>\n",
       "      <td>2017-07-18</td>\n",
       "      <td>2017-08-15</td>\n",
       "      <td>2017-08-03 18:42:49</td>\n",
       "      <td>Tuesday</td>\n",
       "      <td>Espírito Santo</td>\n",
       "      <td>2.285714</td>\n",
       "    </tr>\n",
       "  </tbody>\n",
       "</table>\n",
       "</div>"
      ],
      "text/plain": [
       "                     customer_unique_id                          order_id  \\\n",
       "26460  0000f46a3911fa3c0805444483337064  b33ec3b699337181488304f362a6b734   \n",
       "98493  0000f6ccb0745a6a4b88665a16c9f078  41272756ecddd9a9ed0180413cc22fb6   \n",
       "41564  0004aac84e0df4da2b147fca70cf8255  d957021f1127559cd947b62533f484f7   \n",
       "71235  0005e1862207bf6ccc02e4228effd9a0  ae76bef74b97bcb0b3e355e60d9a6f9c   \n",
       "26203  0006fdc98a402fceb4eb0ee528f6a8d4  6681163e3dab91c549952b2845b20281   \n",
       "\n",
       "      order_status order_purchase_timestamp order_date  \\\n",
       "26460    delivered      2017-03-10 21:05:03 2017-03-10   \n",
       "98493    delivered      2017-10-12 20:29:41 2017-10-12   \n",
       "41564    delivered      2017-11-14 19:45:42 2017-11-14   \n",
       "71235    delivered      2017-03-04 23:32:12 2017-03-04   \n",
       "26203    delivered      2017-07-18 09:23:10 2017-07-18   \n",
       "\n",
       "      order_estimated_delivery_date order_delivered_customer_date   weekday  \\\n",
       "26460                    2017-04-07           2017-04-05 14:38:47    Friday   \n",
       "98493                    2017-11-13           2017-11-01 21:23:05  Thursday   \n",
       "41564                    2017-12-05           2017-11-27 23:08:56   Tuesday   \n",
       "71235                    2017-04-06           2017-03-09 08:33:08  Saturday   \n",
       "26203                    2017-08-15           2017-08-03 18:42:49   Tuesday   \n",
       "\n",
       "       customer_state  days_to_delivery  \n",
       "26460  Santa Catarina          3.714286  \n",
       "98493            Pará          2.857143  \n",
       "41564       São Paulo          1.857143  \n",
       "71235  Rio de Janeiro          0.714286  \n",
       "26203  Espírito Santo          2.285714  "
      ]
     },
     "execution_count": 189,
     "metadata": {},
     "output_type": "execute_result"
    }
   ],
   "source": [
    "dfView.head()"
   ]
  },
  {
   "cell_type": "code",
   "execution_count": 190,
   "metadata": {},
   "outputs": [
    {
     "data": {
      "text/plain": [
       "customer_unique_id                       object\n",
       "order_id                                 object\n",
       "order_status                             object\n",
       "order_purchase_timestamp         datetime64[ns]\n",
       "order_date                       datetime64[ns]\n",
       "order_estimated_delivery_date    datetime64[ns]\n",
       "order_delivered_customer_date    datetime64[ns]\n",
       "weekday                                  object\n",
       "customer_state                           object\n",
       "days_to_delivery                        float64\n",
       "dtype: object"
      ]
     },
     "execution_count": 190,
     "metadata": {},
     "output_type": "execute_result"
    }
   ],
   "source": [
    "dfView.dtypes"
   ]
  },
  {
   "cell_type": "code",
   "execution_count": 191,
   "metadata": {},
   "outputs": [
    {
     "data": {
      "text/html": [
       "<div>\n",
       "<style scoped>\n",
       "    .dataframe tbody tr th:only-of-type {\n",
       "        vertical-align: middle;\n",
       "    }\n",
       "\n",
       "    .dataframe tbody tr th {\n",
       "        vertical-align: top;\n",
       "    }\n",
       "\n",
       "    .dataframe thead th {\n",
       "        text-align: right;\n",
       "    }\n",
       "</style>\n",
       "<table border=\"1\" class=\"dataframe\">\n",
       "  <thead>\n",
       "    <tr style=\"text-align: right;\">\n",
       "      <th></th>\n",
       "      <th>customer_unique_id</th>\n",
       "      <th>days_to_delivery</th>\n",
       "    </tr>\n",
       "  </thead>\n",
       "  <tbody>\n",
       "    <tr>\n",
       "      <th>0</th>\n",
       "      <td>0000f46a3911fa3c0805444483337064</td>\n",
       "      <td>3.714286</td>\n",
       "    </tr>\n",
       "    <tr>\n",
       "      <th>1</th>\n",
       "      <td>0000f6ccb0745a6a4b88665a16c9f078</td>\n",
       "      <td>2.857143</td>\n",
       "    </tr>\n",
       "    <tr>\n",
       "      <th>2</th>\n",
       "      <td>0004aac84e0df4da2b147fca70cf8255</td>\n",
       "      <td>1.857143</td>\n",
       "    </tr>\n",
       "    <tr>\n",
       "      <th>3</th>\n",
       "      <td>0005e1862207bf6ccc02e4228effd9a0</td>\n",
       "      <td>0.714286</td>\n",
       "    </tr>\n",
       "    <tr>\n",
       "      <th>4</th>\n",
       "      <td>0006fdc98a402fceb4eb0ee528f6a8d4</td>\n",
       "      <td>2.285714</td>\n",
       "    </tr>\n",
       "  </tbody>\n",
       "</table>\n",
       "</div>"
      ],
      "text/plain": [
       "                 customer_unique_id  days_to_delivery\n",
       "0  0000f46a3911fa3c0805444483337064          3.714286\n",
       "1  0000f6ccb0745a6a4b88665a16c9f078          2.857143\n",
       "2  0004aac84e0df4da2b147fca70cf8255          1.857143\n",
       "3  0005e1862207bf6ccc02e4228effd9a0          0.714286\n",
       "4  0006fdc98a402fceb4eb0ee528f6a8d4          2.285714"
      ]
     },
     "execution_count": 191,
     "metadata": {},
     "output_type": "execute_result"
    }
   ],
   "source": [
    "weeks_to_delivery = dfView.groupby('customer_unique_id')['days_to_delivery'].mean().reset_index()\n",
    "\n",
    "weeks_to_delivery.head()"
   ]
  },
  {
   "cell_type": "code",
   "execution_count": 192,
   "metadata": {},
   "outputs": [],
   "source": [
    "weeks_to_delivery.rename(columns = { weeks_to_delivery.columns[1]: 'avg_weeks_to_delivery' }, inplace = True)"
   ]
  },
  {
   "cell_type": "code",
   "execution_count": 193,
   "metadata": {},
   "outputs": [
    {
     "data": {
      "text/plain": [
       "customer_unique_id        object\n",
       "avg_weeks_to_delivery    float64\n",
       "dtype: object"
      ]
     },
     "execution_count": 193,
     "metadata": {},
     "output_type": "execute_result"
    }
   ],
   "source": [
    "weeks_to_delivery.dtypes"
   ]
  },
  {
   "cell_type": "markdown",
   "metadata": {},
   "source": [
    "#### Total Customer Orders (replicated attribute)"
   ]
  },
  {
   "cell_type": "code",
   "execution_count": 96,
   "metadata": {},
   "outputs": [
    {
     "data": {
      "text/plain": [
       "1     42770\n",
       "2      1164\n",
       "3        80\n",
       "4        14\n",
       "5         4\n",
       "10        1\n",
       "6         1\n",
       "Name: total_orders, dtype: int64"
      ]
     },
     "execution_count": 96,
     "metadata": {},
     "output_type": "execute_result"
    }
   ],
   "source": [
    "# count total records (i.e., orders) per customer\n",
    "cust_orders = df2.groupby('customer_unique_id').size().reset_index().rename(columns = {0: 'total_orders'})\n",
    "\n",
    "cust_orders.total_orders.value_counts()\n",
    "\n",
    "# cust_orders.head()"
   ]
  },
  {
   "cell_type": "markdown",
   "metadata": {},
   "source": [
    "#### Order Status (experimental attribute)"
   ]
  },
  {
   "cell_type": "code",
   "execution_count": 87,
   "metadata": {},
   "outputs": [
    {
     "data": {
      "text/html": [
       "<div>\n",
       "<style scoped>\n",
       "    .dataframe tbody tr th:only-of-type {\n",
       "        vertical-align: middle;\n",
       "    }\n",
       "\n",
       "    .dataframe tbody tr th {\n",
       "        vertical-align: top;\n",
       "    }\n",
       "\n",
       "    .dataframe thead th {\n",
       "        text-align: right;\n",
       "    }\n",
       "</style>\n",
       "<table border=\"1\" class=\"dataframe\">\n",
       "  <thead>\n",
       "    <tr style=\"text-align: right;\">\n",
       "      <th></th>\n",
       "      <th>customer_unique_id</th>\n",
       "      <th>order_id</th>\n",
       "      <th>order_purchase_timestamp</th>\n",
       "      <th>order_date</th>\n",
       "      <th>order_estimated_delivery_date</th>\n",
       "      <th>order_delivered_customer_date</th>\n",
       "      <th>weekday</th>\n",
       "      <th>customer_state</th>\n",
       "      <th>days_to_delivery</th>\n",
       "      <th>order_status_approved</th>\n",
       "      <th>order_status_canceled</th>\n",
       "      <th>order_status_created</th>\n",
       "      <th>order_status_delivered</th>\n",
       "      <th>order_status_invoiced</th>\n",
       "      <th>order_status_processing</th>\n",
       "      <th>order_status_shipped</th>\n",
       "      <th>order_status_unavailable</th>\n",
       "    </tr>\n",
       "  </thead>\n",
       "  <tbody>\n",
       "    <tr>\n",
       "      <th>26460</th>\n",
       "      <td>0000f46a3911fa3c0805444483337064</td>\n",
       "      <td>b33ec3b699337181488304f362a6b734</td>\n",
       "      <td>2017-03-10 21:05:03</td>\n",
       "      <td>2017-03-10</td>\n",
       "      <td>2017-04-07</td>\n",
       "      <td>2017-04-05 14:38:47</td>\n",
       "      <td>Friday</td>\n",
       "      <td>Santa Catarina</td>\n",
       "      <td>26 days 14:38:47</td>\n",
       "      <td>0</td>\n",
       "      <td>0</td>\n",
       "      <td>0</td>\n",
       "      <td>1</td>\n",
       "      <td>0</td>\n",
       "      <td>0</td>\n",
       "      <td>0</td>\n",
       "      <td>0</td>\n",
       "    </tr>\n",
       "    <tr>\n",
       "      <th>98493</th>\n",
       "      <td>0000f6ccb0745a6a4b88665a16c9f078</td>\n",
       "      <td>41272756ecddd9a9ed0180413cc22fb6</td>\n",
       "      <td>2017-10-12 20:29:41</td>\n",
       "      <td>2017-10-12</td>\n",
       "      <td>2017-11-13</td>\n",
       "      <td>2017-11-01 21:23:05</td>\n",
       "      <td>Thursday</td>\n",
       "      <td>Pará</td>\n",
       "      <td>20 days 21:23:05</td>\n",
       "      <td>0</td>\n",
       "      <td>0</td>\n",
       "      <td>0</td>\n",
       "      <td>1</td>\n",
       "      <td>0</td>\n",
       "      <td>0</td>\n",
       "      <td>0</td>\n",
       "      <td>0</td>\n",
       "    </tr>\n",
       "    <tr>\n",
       "      <th>41564</th>\n",
       "      <td>0004aac84e0df4da2b147fca70cf8255</td>\n",
       "      <td>d957021f1127559cd947b62533f484f7</td>\n",
       "      <td>2017-11-14 19:45:42</td>\n",
       "      <td>2017-11-14</td>\n",
       "      <td>2017-12-05</td>\n",
       "      <td>2017-11-27 23:08:56</td>\n",
       "      <td>Tuesday</td>\n",
       "      <td>São Paulo</td>\n",
       "      <td>13 days 23:08:56</td>\n",
       "      <td>0</td>\n",
       "      <td>0</td>\n",
       "      <td>0</td>\n",
       "      <td>1</td>\n",
       "      <td>0</td>\n",
       "      <td>0</td>\n",
       "      <td>0</td>\n",
       "      <td>0</td>\n",
       "    </tr>\n",
       "    <tr>\n",
       "      <th>71235</th>\n",
       "      <td>0005e1862207bf6ccc02e4228effd9a0</td>\n",
       "      <td>ae76bef74b97bcb0b3e355e60d9a6f9c</td>\n",
       "      <td>2017-03-04 23:32:12</td>\n",
       "      <td>2017-03-04</td>\n",
       "      <td>2017-04-06</td>\n",
       "      <td>2017-03-09 08:33:08</td>\n",
       "      <td>Saturday</td>\n",
       "      <td>Rio de Janeiro</td>\n",
       "      <td>5 days 08:33:08</td>\n",
       "      <td>0</td>\n",
       "      <td>0</td>\n",
       "      <td>0</td>\n",
       "      <td>1</td>\n",
       "      <td>0</td>\n",
       "      <td>0</td>\n",
       "      <td>0</td>\n",
       "      <td>0</td>\n",
       "    </tr>\n",
       "    <tr>\n",
       "      <th>26203</th>\n",
       "      <td>0006fdc98a402fceb4eb0ee528f6a8d4</td>\n",
       "      <td>6681163e3dab91c549952b2845b20281</td>\n",
       "      <td>2017-07-18 09:23:10</td>\n",
       "      <td>2017-07-18</td>\n",
       "      <td>2017-08-15</td>\n",
       "      <td>2017-08-03 18:42:49</td>\n",
       "      <td>Tuesday</td>\n",
       "      <td>Espírito Santo</td>\n",
       "      <td>16 days 18:42:49</td>\n",
       "      <td>0</td>\n",
       "      <td>0</td>\n",
       "      <td>0</td>\n",
       "      <td>1</td>\n",
       "      <td>0</td>\n",
       "      <td>0</td>\n",
       "      <td>0</td>\n",
       "      <td>0</td>\n",
       "    </tr>\n",
       "  </tbody>\n",
       "</table>\n",
       "</div>"
      ],
      "text/plain": [
       "                     customer_unique_id                          order_id  \\\n",
       "26460  0000f46a3911fa3c0805444483337064  b33ec3b699337181488304f362a6b734   \n",
       "98493  0000f6ccb0745a6a4b88665a16c9f078  41272756ecddd9a9ed0180413cc22fb6   \n",
       "41564  0004aac84e0df4da2b147fca70cf8255  d957021f1127559cd947b62533f484f7   \n",
       "71235  0005e1862207bf6ccc02e4228effd9a0  ae76bef74b97bcb0b3e355e60d9a6f9c   \n",
       "26203  0006fdc98a402fceb4eb0ee528f6a8d4  6681163e3dab91c549952b2845b20281   \n",
       "\n",
       "      order_purchase_timestamp order_date order_estimated_delivery_date  \\\n",
       "26460      2017-03-10 21:05:03 2017-03-10                    2017-04-07   \n",
       "98493      2017-10-12 20:29:41 2017-10-12                    2017-11-13   \n",
       "41564      2017-11-14 19:45:42 2017-11-14                    2017-12-05   \n",
       "71235      2017-03-04 23:32:12 2017-03-04                    2017-04-06   \n",
       "26203      2017-07-18 09:23:10 2017-07-18                    2017-08-15   \n",
       "\n",
       "      order_delivered_customer_date   weekday  customer_state  \\\n",
       "26460           2017-04-05 14:38:47    Friday  Santa Catarina   \n",
       "98493           2017-11-01 21:23:05  Thursday            Pará   \n",
       "41564           2017-11-27 23:08:56   Tuesday       São Paulo   \n",
       "71235           2017-03-09 08:33:08  Saturday  Rio de Janeiro   \n",
       "26203           2017-08-03 18:42:49   Tuesday  Espírito Santo   \n",
       "\n",
       "      days_to_delivery  order_status_approved  order_status_canceled  \\\n",
       "26460 26 days 14:38:47                      0                      0   \n",
       "98493 20 days 21:23:05                      0                      0   \n",
       "41564 13 days 23:08:56                      0                      0   \n",
       "71235  5 days 08:33:08                      0                      0   \n",
       "26203 16 days 18:42:49                      0                      0   \n",
       "\n",
       "       order_status_created  order_status_delivered  order_status_invoiced  \\\n",
       "26460                     0                       1                      0   \n",
       "98493                     0                       1                      0   \n",
       "41564                     0                       1                      0   \n",
       "71235                     0                       1                      0   \n",
       "26203                     0                       1                      0   \n",
       "\n",
       "       order_status_processing  order_status_shipped  order_status_unavailable  \n",
       "26460                        0                     0                         0  \n",
       "98493                        0                     0                         0  \n",
       "41564                        0                     0                         0  \n",
       "71235                        0                     0                         0  \n",
       "26203                        0                     0                         0  "
      ]
     },
     "execution_count": 87,
     "metadata": {},
     "output_type": "execute_result"
    }
   ],
   "source": [
    "# get dummies\n",
    "df2 = pd.get_dummies(df2, columns = ['order_status'])\n",
    "\n",
    "df2.head()"
   ]
  },
  {
   "cell_type": "code",
   "execution_count": 88,
   "metadata": {},
   "outputs": [
    {
     "data": {
      "text/html": [
       "<div>\n",
       "<style scoped>\n",
       "    .dataframe tbody tr th:only-of-type {\n",
       "        vertical-align: middle;\n",
       "    }\n",
       "\n",
       "    .dataframe tbody tr th {\n",
       "        vertical-align: top;\n",
       "    }\n",
       "\n",
       "    .dataframe thead th {\n",
       "        text-align: right;\n",
       "    }\n",
       "</style>\n",
       "<table border=\"1\" class=\"dataframe\">\n",
       "  <thead>\n",
       "    <tr style=\"text-align: right;\">\n",
       "      <th></th>\n",
       "      <th>customer_unique_id</th>\n",
       "      <th>order_status_approved</th>\n",
       "      <th>order_status_canceled</th>\n",
       "      <th>order_status_created</th>\n",
       "      <th>order_status_delivered</th>\n",
       "      <th>order_status_invoiced</th>\n",
       "      <th>order_status_processing</th>\n",
       "      <th>order_status_shipped</th>\n",
       "      <th>order_status_unavailable</th>\n",
       "    </tr>\n",
       "  </thead>\n",
       "  <tbody>\n",
       "    <tr>\n",
       "      <th>0</th>\n",
       "      <td>0000f46a3911fa3c0805444483337064</td>\n",
       "      <td>0</td>\n",
       "      <td>0</td>\n",
       "      <td>0</td>\n",
       "      <td>1</td>\n",
       "      <td>0</td>\n",
       "      <td>0</td>\n",
       "      <td>0</td>\n",
       "      <td>0</td>\n",
       "    </tr>\n",
       "    <tr>\n",
       "      <th>1</th>\n",
       "      <td>0000f6ccb0745a6a4b88665a16c9f078</td>\n",
       "      <td>0</td>\n",
       "      <td>0</td>\n",
       "      <td>0</td>\n",
       "      <td>1</td>\n",
       "      <td>0</td>\n",
       "      <td>0</td>\n",
       "      <td>0</td>\n",
       "      <td>0</td>\n",
       "    </tr>\n",
       "    <tr>\n",
       "      <th>2</th>\n",
       "      <td>0004aac84e0df4da2b147fca70cf8255</td>\n",
       "      <td>0</td>\n",
       "      <td>0</td>\n",
       "      <td>0</td>\n",
       "      <td>1</td>\n",
       "      <td>0</td>\n",
       "      <td>0</td>\n",
       "      <td>0</td>\n",
       "      <td>0</td>\n",
       "    </tr>\n",
       "    <tr>\n",
       "      <th>3</th>\n",
       "      <td>0005e1862207bf6ccc02e4228effd9a0</td>\n",
       "      <td>0</td>\n",
       "      <td>0</td>\n",
       "      <td>0</td>\n",
       "      <td>1</td>\n",
       "      <td>0</td>\n",
       "      <td>0</td>\n",
       "      <td>0</td>\n",
       "      <td>0</td>\n",
       "    </tr>\n",
       "    <tr>\n",
       "      <th>4</th>\n",
       "      <td>0006fdc98a402fceb4eb0ee528f6a8d4</td>\n",
       "      <td>0</td>\n",
       "      <td>0</td>\n",
       "      <td>0</td>\n",
       "      <td>1</td>\n",
       "      <td>0</td>\n",
       "      <td>0</td>\n",
       "      <td>0</td>\n",
       "      <td>0</td>\n",
       "    </tr>\n",
       "  </tbody>\n",
       "</table>\n",
       "</div>"
      ],
      "text/plain": [
       "                 customer_unique_id  order_status_approved  \\\n",
       "0  0000f46a3911fa3c0805444483337064                      0   \n",
       "1  0000f6ccb0745a6a4b88665a16c9f078                      0   \n",
       "2  0004aac84e0df4da2b147fca70cf8255                      0   \n",
       "3  0005e1862207bf6ccc02e4228effd9a0                      0   \n",
       "4  0006fdc98a402fceb4eb0ee528f6a8d4                      0   \n",
       "\n",
       "   order_status_canceled  order_status_created  order_status_delivered  \\\n",
       "0                      0                     0                       1   \n",
       "1                      0                     0                       1   \n",
       "2                      0                     0                       1   \n",
       "3                      0                     0                       1   \n",
       "4                      0                     0                       1   \n",
       "\n",
       "   order_status_invoiced  order_status_processing  order_status_shipped  \\\n",
       "0                      0                        0                     0   \n",
       "1                      0                        0                     0   \n",
       "2                      0                        0                     0   \n",
       "3                      0                        0                     0   \n",
       "4                      0                        0                     0   \n",
       "\n",
       "   order_status_unavailable  \n",
       "0                         0  \n",
       "1                         0  \n",
       "2                         0  \n",
       "3                         0  \n",
       "4                         0  "
      ]
     },
     "execution_count": 88,
     "metadata": {},
     "output_type": "execute_result"
    }
   ],
   "source": [
    "# grab all binary columns that we just created\n",
    "dummies = [x for x in df2.columns if 'order_status' in x]\n",
    "\n",
    "# aggreagte data to the customer-level, so that we have one record per customer\n",
    "status = df2.groupby('customer_unique_id')[dummies].sum().reset_index()\n",
    "\n",
    "status.head()"
   ]
  },
  {
   "cell_type": "markdown",
   "metadata": {},
   "source": [
    "#### Weekday (replicated attribute)"
   ]
  },
  {
   "cell_type": "code",
   "execution_count": 90,
   "metadata": {},
   "outputs": [
    {
     "data": {
      "text/html": [
       "<div>\n",
       "<style scoped>\n",
       "    .dataframe tbody tr th:only-of-type {\n",
       "        vertical-align: middle;\n",
       "    }\n",
       "\n",
       "    .dataframe tbody tr th {\n",
       "        vertical-align: top;\n",
       "    }\n",
       "\n",
       "    .dataframe thead th {\n",
       "        text-align: right;\n",
       "    }\n",
       "</style>\n",
       "<table border=\"1\" class=\"dataframe\">\n",
       "  <thead>\n",
       "    <tr style=\"text-align: right;\">\n",
       "      <th></th>\n",
       "      <th>customer_unique_id</th>\n",
       "      <th>order_id</th>\n",
       "      <th>order_purchase_timestamp</th>\n",
       "      <th>order_date</th>\n",
       "      <th>order_estimated_delivery_date</th>\n",
       "      <th>order_delivered_customer_date</th>\n",
       "      <th>customer_state</th>\n",
       "      <th>days_to_delivery</th>\n",
       "      <th>order_status_approved</th>\n",
       "      <th>order_status_canceled</th>\n",
       "      <th>...</th>\n",
       "      <th>order_status_processing</th>\n",
       "      <th>order_status_shipped</th>\n",
       "      <th>order_status_unavailable</th>\n",
       "      <th>weekday_Friday</th>\n",
       "      <th>weekday_Monday</th>\n",
       "      <th>weekday_Saturday</th>\n",
       "      <th>weekday_Sunday</th>\n",
       "      <th>weekday_Thursday</th>\n",
       "      <th>weekday_Tuesday</th>\n",
       "      <th>weekday_Wednesday</th>\n",
       "    </tr>\n",
       "  </thead>\n",
       "  <tbody>\n",
       "    <tr>\n",
       "      <th>26460</th>\n",
       "      <td>0000f46a3911fa3c0805444483337064</td>\n",
       "      <td>b33ec3b699337181488304f362a6b734</td>\n",
       "      <td>2017-03-10 21:05:03</td>\n",
       "      <td>2017-03-10</td>\n",
       "      <td>2017-04-07</td>\n",
       "      <td>2017-04-05 14:38:47</td>\n",
       "      <td>Santa Catarina</td>\n",
       "      <td>26 days 14:38:47</td>\n",
       "      <td>0</td>\n",
       "      <td>0</td>\n",
       "      <td>...</td>\n",
       "      <td>0</td>\n",
       "      <td>0</td>\n",
       "      <td>0</td>\n",
       "      <td>1</td>\n",
       "      <td>0</td>\n",
       "      <td>0</td>\n",
       "      <td>0</td>\n",
       "      <td>0</td>\n",
       "      <td>0</td>\n",
       "      <td>0</td>\n",
       "    </tr>\n",
       "    <tr>\n",
       "      <th>98493</th>\n",
       "      <td>0000f6ccb0745a6a4b88665a16c9f078</td>\n",
       "      <td>41272756ecddd9a9ed0180413cc22fb6</td>\n",
       "      <td>2017-10-12 20:29:41</td>\n",
       "      <td>2017-10-12</td>\n",
       "      <td>2017-11-13</td>\n",
       "      <td>2017-11-01 21:23:05</td>\n",
       "      <td>Pará</td>\n",
       "      <td>20 days 21:23:05</td>\n",
       "      <td>0</td>\n",
       "      <td>0</td>\n",
       "      <td>...</td>\n",
       "      <td>0</td>\n",
       "      <td>0</td>\n",
       "      <td>0</td>\n",
       "      <td>0</td>\n",
       "      <td>0</td>\n",
       "      <td>0</td>\n",
       "      <td>0</td>\n",
       "      <td>1</td>\n",
       "      <td>0</td>\n",
       "      <td>0</td>\n",
       "    </tr>\n",
       "    <tr>\n",
       "      <th>41564</th>\n",
       "      <td>0004aac84e0df4da2b147fca70cf8255</td>\n",
       "      <td>d957021f1127559cd947b62533f484f7</td>\n",
       "      <td>2017-11-14 19:45:42</td>\n",
       "      <td>2017-11-14</td>\n",
       "      <td>2017-12-05</td>\n",
       "      <td>2017-11-27 23:08:56</td>\n",
       "      <td>São Paulo</td>\n",
       "      <td>13 days 23:08:56</td>\n",
       "      <td>0</td>\n",
       "      <td>0</td>\n",
       "      <td>...</td>\n",
       "      <td>0</td>\n",
       "      <td>0</td>\n",
       "      <td>0</td>\n",
       "      <td>0</td>\n",
       "      <td>0</td>\n",
       "      <td>0</td>\n",
       "      <td>0</td>\n",
       "      <td>0</td>\n",
       "      <td>1</td>\n",
       "      <td>0</td>\n",
       "    </tr>\n",
       "    <tr>\n",
       "      <th>71235</th>\n",
       "      <td>0005e1862207bf6ccc02e4228effd9a0</td>\n",
       "      <td>ae76bef74b97bcb0b3e355e60d9a6f9c</td>\n",
       "      <td>2017-03-04 23:32:12</td>\n",
       "      <td>2017-03-04</td>\n",
       "      <td>2017-04-06</td>\n",
       "      <td>2017-03-09 08:33:08</td>\n",
       "      <td>Rio de Janeiro</td>\n",
       "      <td>5 days 08:33:08</td>\n",
       "      <td>0</td>\n",
       "      <td>0</td>\n",
       "      <td>...</td>\n",
       "      <td>0</td>\n",
       "      <td>0</td>\n",
       "      <td>0</td>\n",
       "      <td>0</td>\n",
       "      <td>0</td>\n",
       "      <td>1</td>\n",
       "      <td>0</td>\n",
       "      <td>0</td>\n",
       "      <td>0</td>\n",
       "      <td>0</td>\n",
       "    </tr>\n",
       "    <tr>\n",
       "      <th>26203</th>\n",
       "      <td>0006fdc98a402fceb4eb0ee528f6a8d4</td>\n",
       "      <td>6681163e3dab91c549952b2845b20281</td>\n",
       "      <td>2017-07-18 09:23:10</td>\n",
       "      <td>2017-07-18</td>\n",
       "      <td>2017-08-15</td>\n",
       "      <td>2017-08-03 18:42:49</td>\n",
       "      <td>Espírito Santo</td>\n",
       "      <td>16 days 18:42:49</td>\n",
       "      <td>0</td>\n",
       "      <td>0</td>\n",
       "      <td>...</td>\n",
       "      <td>0</td>\n",
       "      <td>0</td>\n",
       "      <td>0</td>\n",
       "      <td>0</td>\n",
       "      <td>0</td>\n",
       "      <td>0</td>\n",
       "      <td>0</td>\n",
       "      <td>0</td>\n",
       "      <td>1</td>\n",
       "      <td>0</td>\n",
       "    </tr>\n",
       "  </tbody>\n",
       "</table>\n",
       "<p>5 rows × 23 columns</p>\n",
       "</div>"
      ],
      "text/plain": [
       "                     customer_unique_id                          order_id  \\\n",
       "26460  0000f46a3911fa3c0805444483337064  b33ec3b699337181488304f362a6b734   \n",
       "98493  0000f6ccb0745a6a4b88665a16c9f078  41272756ecddd9a9ed0180413cc22fb6   \n",
       "41564  0004aac84e0df4da2b147fca70cf8255  d957021f1127559cd947b62533f484f7   \n",
       "71235  0005e1862207bf6ccc02e4228effd9a0  ae76bef74b97bcb0b3e355e60d9a6f9c   \n",
       "26203  0006fdc98a402fceb4eb0ee528f6a8d4  6681163e3dab91c549952b2845b20281   \n",
       "\n",
       "      order_purchase_timestamp order_date order_estimated_delivery_date  \\\n",
       "26460      2017-03-10 21:05:03 2017-03-10                    2017-04-07   \n",
       "98493      2017-10-12 20:29:41 2017-10-12                    2017-11-13   \n",
       "41564      2017-11-14 19:45:42 2017-11-14                    2017-12-05   \n",
       "71235      2017-03-04 23:32:12 2017-03-04                    2017-04-06   \n",
       "26203      2017-07-18 09:23:10 2017-07-18                    2017-08-15   \n",
       "\n",
       "      order_delivered_customer_date  customer_state days_to_delivery  \\\n",
       "26460           2017-04-05 14:38:47  Santa Catarina 26 days 14:38:47   \n",
       "98493           2017-11-01 21:23:05            Pará 20 days 21:23:05   \n",
       "41564           2017-11-27 23:08:56       São Paulo 13 days 23:08:56   \n",
       "71235           2017-03-09 08:33:08  Rio de Janeiro  5 days 08:33:08   \n",
       "26203           2017-08-03 18:42:49  Espírito Santo 16 days 18:42:49   \n",
       "\n",
       "       order_status_approved  order_status_canceled  ...  \\\n",
       "26460                      0                      0  ...   \n",
       "98493                      0                      0  ...   \n",
       "41564                      0                      0  ...   \n",
       "71235                      0                      0  ...   \n",
       "26203                      0                      0  ...   \n",
       "\n",
       "       order_status_processing  order_status_shipped  \\\n",
       "26460                        0                     0   \n",
       "98493                        0                     0   \n",
       "41564                        0                     0   \n",
       "71235                        0                     0   \n",
       "26203                        0                     0   \n",
       "\n",
       "       order_status_unavailable  weekday_Friday  weekday_Monday  \\\n",
       "26460                         0               1               0   \n",
       "98493                         0               0               0   \n",
       "41564                         0               0               0   \n",
       "71235                         0               0               0   \n",
       "26203                         0               0               0   \n",
       "\n",
       "       weekday_Saturday  weekday_Sunday  weekday_Thursday  weekday_Tuesday  \\\n",
       "26460                 0               0                 0                0   \n",
       "98493                 0               0                 1                0   \n",
       "41564                 0               0                 0                1   \n",
       "71235                 1               0                 0                0   \n",
       "26203                 0               0                 0                1   \n",
       "\n",
       "       weekday_Wednesday  \n",
       "26460                  0  \n",
       "98493                  0  \n",
       "41564                  0  \n",
       "71235                  0  \n",
       "26203                  0  \n",
       "\n",
       "[5 rows x 23 columns]"
      ]
     },
     "execution_count": 90,
     "metadata": {},
     "output_type": "execute_result"
    }
   ],
   "source": [
    "# get dummies\n",
    "df2 = pd.get_dummies(df2, columns = ['weekday'])\n",
    "\n",
    "df2.head()"
   ]
  },
  {
   "cell_type": "code",
   "execution_count": 91,
   "metadata": {},
   "outputs": [
    {
     "data": {
      "text/plain": [
       "45431"
      ]
     },
     "execution_count": 91,
     "metadata": {},
     "output_type": "execute_result"
    }
   ],
   "source": [
    "len(df2)"
   ]
  },
  {
   "cell_type": "code",
   "execution_count": 92,
   "metadata": {},
   "outputs": [
    {
     "data": {
      "text/html": [
       "<div>\n",
       "<style scoped>\n",
       "    .dataframe tbody tr th:only-of-type {\n",
       "        vertical-align: middle;\n",
       "    }\n",
       "\n",
       "    .dataframe tbody tr th {\n",
       "        vertical-align: top;\n",
       "    }\n",
       "\n",
       "    .dataframe thead th {\n",
       "        text-align: right;\n",
       "    }\n",
       "</style>\n",
       "<table border=\"1\" class=\"dataframe\">\n",
       "  <thead>\n",
       "    <tr style=\"text-align: right;\">\n",
       "      <th></th>\n",
       "      <th>customer_unique_id</th>\n",
       "      <th>weekday_Friday</th>\n",
       "      <th>weekday_Monday</th>\n",
       "      <th>weekday_Saturday</th>\n",
       "      <th>weekday_Sunday</th>\n",
       "      <th>weekday_Thursday</th>\n",
       "      <th>weekday_Tuesday</th>\n",
       "      <th>weekday_Wednesday</th>\n",
       "    </tr>\n",
       "  </thead>\n",
       "  <tbody>\n",
       "    <tr>\n",
       "      <th>0</th>\n",
       "      <td>0000f46a3911fa3c0805444483337064</td>\n",
       "      <td>1</td>\n",
       "      <td>0</td>\n",
       "      <td>0</td>\n",
       "      <td>0</td>\n",
       "      <td>0</td>\n",
       "      <td>0</td>\n",
       "      <td>0</td>\n",
       "    </tr>\n",
       "    <tr>\n",
       "      <th>1</th>\n",
       "      <td>0000f6ccb0745a6a4b88665a16c9f078</td>\n",
       "      <td>0</td>\n",
       "      <td>0</td>\n",
       "      <td>0</td>\n",
       "      <td>0</td>\n",
       "      <td>1</td>\n",
       "      <td>0</td>\n",
       "      <td>0</td>\n",
       "    </tr>\n",
       "    <tr>\n",
       "      <th>2</th>\n",
       "      <td>0004aac84e0df4da2b147fca70cf8255</td>\n",
       "      <td>0</td>\n",
       "      <td>0</td>\n",
       "      <td>0</td>\n",
       "      <td>0</td>\n",
       "      <td>0</td>\n",
       "      <td>1</td>\n",
       "      <td>0</td>\n",
       "    </tr>\n",
       "    <tr>\n",
       "      <th>3</th>\n",
       "      <td>0005e1862207bf6ccc02e4228effd9a0</td>\n",
       "      <td>0</td>\n",
       "      <td>0</td>\n",
       "      <td>1</td>\n",
       "      <td>0</td>\n",
       "      <td>0</td>\n",
       "      <td>0</td>\n",
       "      <td>0</td>\n",
       "    </tr>\n",
       "    <tr>\n",
       "      <th>4</th>\n",
       "      <td>0006fdc98a402fceb4eb0ee528f6a8d4</td>\n",
       "      <td>0</td>\n",
       "      <td>0</td>\n",
       "      <td>0</td>\n",
       "      <td>0</td>\n",
       "      <td>0</td>\n",
       "      <td>1</td>\n",
       "      <td>0</td>\n",
       "    </tr>\n",
       "  </tbody>\n",
       "</table>\n",
       "</div>"
      ],
      "text/plain": [
       "                 customer_unique_id  weekday_Friday  weekday_Monday  \\\n",
       "0  0000f46a3911fa3c0805444483337064               1               0   \n",
       "1  0000f6ccb0745a6a4b88665a16c9f078               0               0   \n",
       "2  0004aac84e0df4da2b147fca70cf8255               0               0   \n",
       "3  0005e1862207bf6ccc02e4228effd9a0               0               0   \n",
       "4  0006fdc98a402fceb4eb0ee528f6a8d4               0               0   \n",
       "\n",
       "   weekday_Saturday  weekday_Sunday  weekday_Thursday  weekday_Tuesday  \\\n",
       "0                 0               0                 0                0   \n",
       "1                 0               0                 1                0   \n",
       "2                 0               0                 0                1   \n",
       "3                 1               0                 0                0   \n",
       "4                 0               0                 0                1   \n",
       "\n",
       "   weekday_Wednesday  \n",
       "0                  0  \n",
       "1                  0  \n",
       "2                  0  \n",
       "3                  0  \n",
       "4                  0  "
      ]
     },
     "execution_count": 92,
     "metadata": {},
     "output_type": "execute_result"
    }
   ],
   "source": [
    "# grab all binary columns that we just created\n",
    "dummies = [x for x in df2.columns if 'weekday' in x]\n",
    "\n",
    "# aggreagte data to the customer-level, so that we have one record per customer\n",
    "cust_weekday = df2.groupby('customer_unique_id')[dummies].sum().reset_index()\n",
    "\n",
    "cust_weekday.head()"
   ]
  },
  {
   "cell_type": "markdown",
   "metadata": {},
   "source": [
    "#### Weekend vs. Weekday (experimental attribute)"
   ]
  },
  {
   "cell_type": "code",
   "execution_count": 112,
   "metadata": {},
   "outputs": [],
   "source": [
    "df2.eval('weekend_purchase =  weekday_Saturday >= 1 or weekday_Sunday >= 1', inplace = True)\n",
    "\n",
    "df2['weekend_purchase'] = [1 if x == True else 0 for x in df2['weekend_purchase']]"
   ]
  },
  {
   "cell_type": "code",
   "execution_count": 110,
   "metadata": {},
   "outputs": [],
   "source": [
    "df2.eval('weekday_purchase =  weekday_Saturday == 0 and weekday_Sunday == 0', inplace = True)\n",
    "\n",
    "df2['weekday_purchase'] = [1 if x == True else 0 for x in df2['weekday_purchase']]"
   ]
  },
  {
   "cell_type": "code",
   "execution_count": 139,
   "metadata": {},
   "outputs": [
    {
     "data": {
      "text/plain": [
       "customer_unique_id    object\n",
       "weekend_purchase       int64\n",
       "dtype: object"
      ]
     },
     "execution_count": 139,
     "metadata": {},
     "output_type": "execute_result"
    }
   ],
   "source": [
    "weekend_purchase.dtypes"
   ]
  },
  {
   "cell_type": "code",
   "execution_count": 140,
   "metadata": {},
   "outputs": [
    {
     "data": {
      "text/plain": [
       "customer_unique_id    ffffd2657e2aad2907e67c3e9daecbeb\n",
       "weekend_purchase                                     4\n",
       "dtype: object"
      ]
     },
     "execution_count": 140,
     "metadata": {},
     "output_type": "execute_result"
    }
   ],
   "source": [
    "# aggreagte data to the customer-level, so that we have one record per customer\n",
    "weekend_purchase = df2.groupby('customer_unique_id')['weekend_purchase'].sum().reset_index()\n",
    "\n",
    "weekend_purchase.head()"
   ]
  },
  {
   "cell_type": "code",
   "execution_count": 116,
   "metadata": {},
   "outputs": [
    {
     "data": {
      "text/html": [
       "<div>\n",
       "<style scoped>\n",
       "    .dataframe tbody tr th:only-of-type {\n",
       "        vertical-align: middle;\n",
       "    }\n",
       "\n",
       "    .dataframe tbody tr th {\n",
       "        vertical-align: top;\n",
       "    }\n",
       "\n",
       "    .dataframe thead th {\n",
       "        text-align: right;\n",
       "    }\n",
       "</style>\n",
       "<table border=\"1\" class=\"dataframe\">\n",
       "  <thead>\n",
       "    <tr style=\"text-align: right;\">\n",
       "      <th></th>\n",
       "      <th>customer_unique_id</th>\n",
       "      <th>weekday_purchase</th>\n",
       "    </tr>\n",
       "  </thead>\n",
       "  <tbody>\n",
       "    <tr>\n",
       "      <th>0</th>\n",
       "      <td>0000f46a3911fa3c0805444483337064</td>\n",
       "      <td>1</td>\n",
       "    </tr>\n",
       "    <tr>\n",
       "      <th>1</th>\n",
       "      <td>0000f6ccb0745a6a4b88665a16c9f078</td>\n",
       "      <td>1</td>\n",
       "    </tr>\n",
       "    <tr>\n",
       "      <th>2</th>\n",
       "      <td>0004aac84e0df4da2b147fca70cf8255</td>\n",
       "      <td>1</td>\n",
       "    </tr>\n",
       "    <tr>\n",
       "      <th>3</th>\n",
       "      <td>0005e1862207bf6ccc02e4228effd9a0</td>\n",
       "      <td>0</td>\n",
       "    </tr>\n",
       "    <tr>\n",
       "      <th>4</th>\n",
       "      <td>0006fdc98a402fceb4eb0ee528f6a8d4</td>\n",
       "      <td>1</td>\n",
       "    </tr>\n",
       "  </tbody>\n",
       "</table>\n",
       "</div>"
      ],
      "text/plain": [
       "                 customer_unique_id  weekday_purchase\n",
       "0  0000f46a3911fa3c0805444483337064                 1\n",
       "1  0000f6ccb0745a6a4b88665a16c9f078                 1\n",
       "2  0004aac84e0df4da2b147fca70cf8255                 1\n",
       "3  0005e1862207bf6ccc02e4228effd9a0                 0\n",
       "4  0006fdc98a402fceb4eb0ee528f6a8d4                 1"
      ]
     },
     "execution_count": 116,
     "metadata": {},
     "output_type": "execute_result"
    }
   ],
   "source": [
    "# aggreagte data to the customer-level, so that we have one record per customer\n",
    "weekday_purchase = df2.groupby('customer_unique_id')['weekday_purchase'].sum().reset_index()\n",
    "\n",
    "weekday_purchase.head()"
   ]
  },
  {
   "cell_type": "markdown",
   "metadata": {},
   "source": [
    "### Perform a QA step: check that we get the same number of rows on our customer attributes"
   ]
  },
  {
   "cell_type": "code",
   "execution_count": 127,
   "metadata": {},
   "outputs": [],
   "source": [
    "# replicated attributes\n",
    "replicates = dict({'cust_recency':cust_recency.shape, 'cust_orders':cust_orders.shape, 'cust_weekday':cust_weekday.shape})\n",
    "\n",
    "# new attributes\n",
    "experimental = dict({'status':status.shape, 'weeks_to_delivery':weeks_to_delivery.shape, 'weekday_purchases':weekday_purchase.shape, \\\n",
    "                     'weekend_purchases':weekend_purchase.shape})"
   ]
  },
  {
   "cell_type": "code",
   "execution_count": 131,
   "metadata": {},
   "outputs": [
    {
     "data": {
      "text/plain": [
       "{'cust_recency': (44034, 2),\n",
       " 'cust_orders': (44034, 2),\n",
       " 'cust_weekday': (44034, 8)}"
      ]
     },
     "execution_count": 131,
     "metadata": {},
     "output_type": "execute_result"
    }
   ],
   "source": [
    "replicates"
   ]
  },
  {
   "cell_type": "code",
   "execution_count": 130,
   "metadata": {},
   "outputs": [
    {
     "data": {
      "text/plain": [
       "{'status': (44034, 9),\n",
       " 'weeks_to_delivery': (44034, 2),\n",
       " 'weekday_purchases': (44034, 2),\n",
       " 'weekend_purchases': (44034, 2)}"
      ]
     },
     "execution_count": 130,
     "metadata": {},
     "output_type": "execute_result"
    }
   ],
   "source": [
    "experimental"
   ]
  },
  {
   "cell_type": "markdown",
   "metadata": {},
   "source": [
    "## Create a mask and select orders placed between January and July 2018"
   ]
  },
  {
   "cell_type": "code",
   "execution_count": 145,
   "metadata": {},
   "outputs": [
    {
     "data": {
      "text/plain": [
       "47479"
      ]
     },
     "execution_count": 145,
     "metadata": {},
     "output_type": "execute_result"
    }
   ],
   "source": [
    "mask2 = orders_df['order_date'].between('2018-01-01', '2018-07-31', inclusive = True)\n",
    "\n",
    "target_events_raw = orders_df[mask2]\n",
    "\n",
    "len(target_events_raw)"
   ]
  },
  {
   "cell_type": "code",
   "execution_count": 146,
   "metadata": {},
   "outputs": [
    {
     "name": "stdout",
     "output_type": "stream",
     "text": [
      "2018-01-01 02:48:41 2018-07-31 23:54:20\n"
     ]
    }
   ],
   "source": [
    "# confirm the min and max dates are between Jan and July 2018\n",
    "print (target_events_raw['order_purchase_timestamp'].min(), target_events_raw['order_purchase_timestamp'].max())"
   ]
  },
  {
   "cell_type": "code",
   "execution_count": null,
   "metadata": {},
   "outputs": [],
   "source": [
    "## Merge all customer attributes"
   ]
  },
  {
   "cell_type": "code",
   "execution_count": 153,
   "metadata": {},
   "outputs": [
    {
     "data": {
      "text/plain": [
       "(44034, 14)"
      ]
     },
     "execution_count": 153,
     "metadata": {},
     "output_type": "execute_result"
    }
   ],
   "source": [
    "# merging customer attributes\n",
    "customer_attributes = pd.merge(cust_recency, cust_orders, on = 'customer_unique_id').merge(weekend_purchase, on = 'customer_unique_id').merge(weekday_purchase, on = 'customer_unique_id').merge(weeks_to_delivery, on = 'customer_unique_id').merge(status, on = 'customer_unique_id')\n",
    "\n",
    "customer_attributes.shape"
   ]
  },
  {
   "cell_type": "code",
   "execution_count": 154,
   "metadata": {},
   "outputs": [
    {
     "data": {
      "text/html": [
       "<div>\n",
       "<style scoped>\n",
       "    .dataframe tbody tr th:only-of-type {\n",
       "        vertical-align: middle;\n",
       "    }\n",
       "\n",
       "    .dataframe tbody tr th {\n",
       "        vertical-align: top;\n",
       "    }\n",
       "\n",
       "    .dataframe thead th {\n",
       "        text-align: right;\n",
       "    }\n",
       "</style>\n",
       "<table border=\"1\" class=\"dataframe\">\n",
       "  <thead>\n",
       "    <tr style=\"text-align: right;\">\n",
       "      <th></th>\n",
       "      <th>customer_unique_id</th>\n",
       "      <th>order_recency</th>\n",
       "      <th>total_orders</th>\n",
       "      <th>weekend_purchase</th>\n",
       "      <th>weekday_purchase</th>\n",
       "      <th>avg_weeks_to_delivery</th>\n",
       "      <th>order_status_approved</th>\n",
       "      <th>order_status_canceled</th>\n",
       "      <th>order_status_created</th>\n",
       "      <th>order_status_delivered</th>\n",
       "      <th>order_status_invoiced</th>\n",
       "      <th>order_status_processing</th>\n",
       "      <th>order_status_shipped</th>\n",
       "      <th>order_status_unavailable</th>\n",
       "    </tr>\n",
       "  </thead>\n",
       "  <tbody>\n",
       "    <tr>\n",
       "      <th>0</th>\n",
       "      <td>0000f46a3911fa3c0805444483337064</td>\n",
       "      <td>9</td>\n",
       "      <td>1</td>\n",
       "      <td>0</td>\n",
       "      <td>1</td>\n",
       "      <td>3.714286</td>\n",
       "      <td>0</td>\n",
       "      <td>0</td>\n",
       "      <td>0</td>\n",
       "      <td>1</td>\n",
       "      <td>0</td>\n",
       "      <td>0</td>\n",
       "      <td>0</td>\n",
       "      <td>0</td>\n",
       "    </tr>\n",
       "    <tr>\n",
       "      <th>1</th>\n",
       "      <td>0000f6ccb0745a6a4b88665a16c9f078</td>\n",
       "      <td>2</td>\n",
       "      <td>1</td>\n",
       "      <td>0</td>\n",
       "      <td>1</td>\n",
       "      <td>2.857143</td>\n",
       "      <td>0</td>\n",
       "      <td>0</td>\n",
       "      <td>0</td>\n",
       "      <td>1</td>\n",
       "      <td>0</td>\n",
       "      <td>0</td>\n",
       "      <td>0</td>\n",
       "      <td>0</td>\n",
       "    </tr>\n",
       "    <tr>\n",
       "      <th>2</th>\n",
       "      <td>0004aac84e0df4da2b147fca70cf8255</td>\n",
       "      <td>1</td>\n",
       "      <td>1</td>\n",
       "      <td>0</td>\n",
       "      <td>1</td>\n",
       "      <td>1.857143</td>\n",
       "      <td>0</td>\n",
       "      <td>0</td>\n",
       "      <td>0</td>\n",
       "      <td>1</td>\n",
       "      <td>0</td>\n",
       "      <td>0</td>\n",
       "      <td>0</td>\n",
       "      <td>0</td>\n",
       "    </tr>\n",
       "    <tr>\n",
       "      <th>3</th>\n",
       "      <td>0005e1862207bf6ccc02e4228effd9a0</td>\n",
       "      <td>10</td>\n",
       "      <td>1</td>\n",
       "      <td>1</td>\n",
       "      <td>0</td>\n",
       "      <td>0.714286</td>\n",
       "      <td>0</td>\n",
       "      <td>0</td>\n",
       "      <td>0</td>\n",
       "      <td>1</td>\n",
       "      <td>0</td>\n",
       "      <td>0</td>\n",
       "      <td>0</td>\n",
       "      <td>0</td>\n",
       "    </tr>\n",
       "    <tr>\n",
       "      <th>4</th>\n",
       "      <td>0006fdc98a402fceb4eb0ee528f6a8d4</td>\n",
       "      <td>5</td>\n",
       "      <td>1</td>\n",
       "      <td>0</td>\n",
       "      <td>1</td>\n",
       "      <td>2.285714</td>\n",
       "      <td>0</td>\n",
       "      <td>0</td>\n",
       "      <td>0</td>\n",
       "      <td>1</td>\n",
       "      <td>0</td>\n",
       "      <td>0</td>\n",
       "      <td>0</td>\n",
       "      <td>0</td>\n",
       "    </tr>\n",
       "  </tbody>\n",
       "</table>\n",
       "</div>"
      ],
      "text/plain": [
       "                 customer_unique_id  order_recency  total_orders  \\\n",
       "0  0000f46a3911fa3c0805444483337064              9             1   \n",
       "1  0000f6ccb0745a6a4b88665a16c9f078              2             1   \n",
       "2  0004aac84e0df4da2b147fca70cf8255              1             1   \n",
       "3  0005e1862207bf6ccc02e4228effd9a0             10             1   \n",
       "4  0006fdc98a402fceb4eb0ee528f6a8d4              5             1   \n",
       "\n",
       "   weekend_purchase  weekday_purchase  avg_weeks_to_delivery  \\\n",
       "0                 0                 1               3.714286   \n",
       "1                 0                 1               2.857143   \n",
       "2                 0                 1               1.857143   \n",
       "3                 1                 0               0.714286   \n",
       "4                 0                 1               2.285714   \n",
       "\n",
       "   order_status_approved  order_status_canceled  order_status_created  \\\n",
       "0                      0                      0                     0   \n",
       "1                      0                      0                     0   \n",
       "2                      0                      0                     0   \n",
       "3                      0                      0                     0   \n",
       "4                      0                      0                     0   \n",
       "\n",
       "   order_status_delivered  order_status_invoiced  order_status_processing  \\\n",
       "0                       1                      0                        0   \n",
       "1                       1                      0                        0   \n",
       "2                       1                      0                        0   \n",
       "3                       1                      0                        0   \n",
       "4                       1                      0                        0   \n",
       "\n",
       "   order_status_shipped  order_status_unavailable  \n",
       "0                     0                         0  \n",
       "1                     0                         0  \n",
       "2                     0                         0  \n",
       "3                     0                         0  \n",
       "4                     0                         0  "
      ]
     },
     "execution_count": 154,
     "metadata": {},
     "output_type": "execute_result"
    }
   ],
   "source": [
    "customer_attributes.head()"
   ]
  },
  {
   "cell_type": "code",
   "execution_count": 155,
   "metadata": {},
   "outputs": [
    {
     "data": {
      "text/plain": [
       "0    33639\n",
       "1    10191\n",
       "2      196\n",
       "3        7\n",
       "4        1\n",
       "Name: weekend_purchase, dtype: int64"
      ]
     },
     "execution_count": 155,
     "metadata": {},
     "output_type": "execute_result"
    }
   ],
   "source": [
    "customer_attributes.weekend_purchase.value_counts()"
   ]
  },
  {
   "cell_type": "code",
   "execution_count": 156,
   "metadata": {},
   "outputs": [
    {
     "data": {
      "text/plain": [
       "1    33015\n",
       "0    10156\n",
       "2      801\n",
       "3       51\n",
       "4        6\n",
       "5        3\n",
       "7        1\n",
       "6        1\n",
       "Name: weekday_purchase, dtype: int64"
      ]
     },
     "execution_count": 156,
     "metadata": {},
     "output_type": "execute_result"
    }
   ],
   "source": [
    "customer_attributes.weekday_purchase.value_counts()"
   ]
  },
  {
   "cell_type": "code",
   "execution_count": 157,
   "metadata": {},
   "outputs": [
    {
     "data": {
      "text/plain": [
       "43713"
      ]
     },
     "execution_count": 157,
     "metadata": {},
     "output_type": "execute_result"
    }
   ],
   "source": [
    "# Exclude customers who have not placed an order within the past one year.\n",
    "customer_attributes = customer_attributes[customer_attributes['order_recency'] <= 12]\n",
    "\n",
    "len(customer_attributes)"
   ]
  },
  {
   "cell_type": "code",
   "execution_count": 158,
   "metadata": {},
   "outputs": [
    {
     "name": "stdout",
     "output_type": "stream",
     "text": [
      "Number of customers who made at least one purchase during the prediction window: 46,412\n"
     ]
    }
   ],
   "source": [
    "# count the number of orders (we will convert this into a binary flag later)\n",
    "target_events = target_events_raw.groupby('customer_unique_id').size().reset_index().rename(columns = {0: 'purch'})\n",
    "\n",
    "# target_events.head()\n",
    "\n",
    "print(f'Number of customers who made at least one purchase during the prediction window: {len(target_events):,}')"
   ]
  },
  {
   "cell_type": "code",
   "execution_count": 160,
   "metadata": {},
   "outputs": [
    {
     "data": {
      "text/plain": [
       "(43713, 15)"
      ]
     },
     "execution_count": 160,
     "metadata": {},
     "output_type": "execute_result"
    }
   ],
   "source": [
    "# merge `target_events` with the dataframe that contains customer attributes\n",
    "customer_attributes = pd.merge(customer_attributes, target_events, how = 'left', on = 'customer_unique_id')\n",
    "\n",
    "customer_attributes.shape"
   ]
  },
  {
   "cell_type": "code",
   "execution_count": 161,
   "metadata": {},
   "outputs": [
    {
     "data": {
      "text/plain": [
       "0    43091\n",
       "1      622\n",
       "Name: purch, dtype: int64"
      ]
     },
     "execution_count": 161,
     "metadata": {},
     "output_type": "execute_result"
    }
   ],
   "source": [
    "# create the binary target flag\n",
    "customer_attributes['purch'] = [1 if x > 0 else 0 for x in customer_attributes['purch']]\n",
    "\n",
    "customer_attributes.purch.value_counts()"
   ]
  },
  {
   "cell_type": "code",
   "execution_count": 162,
   "metadata": {},
   "outputs": [
    {
     "data": {
      "text/plain": [
       "0    0.985771\n",
       "1    0.014229\n",
       "Name: purch, dtype: float64"
      ]
     },
     "execution_count": 162,
     "metadata": {},
     "output_type": "execute_result"
    }
   ],
   "source": [
    "# % distribution of the target flag\n",
    "customer_attributes.purch.value_counts() / len(customer_attributes)"
   ]
  }
 ],
 "metadata": {
  "kernelspec": {
   "display_name": "Python 3",
   "language": "python",
   "name": "python3"
  },
  "language_info": {
   "codemirror_mode": {
    "name": "ipython",
    "version": 3
   },
   "file_extension": ".py",
   "mimetype": "text/x-python",
   "name": "python",
   "nbconvert_exporter": "python",
   "pygments_lexer": "ipython3",
   "version": "3.8.5"
  }
 },
 "nbformat": 4,
 "nbformat_minor": 2
}
