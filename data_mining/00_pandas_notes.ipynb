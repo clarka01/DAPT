{
 "cells": [
  {
   "cell_type": "markdown",
   "metadata": {},
   "source": [
    "## Pandas"
   ]
  },
  {
   "cell_type": "code",
   "execution_count": 36,
   "metadata": {},
   "outputs": [
    {
     "data": {
      "text/html": [
       "<div>\n",
       "<style scoped>\n",
       "    .dataframe tbody tr th:only-of-type {\n",
       "        vertical-align: middle;\n",
       "    }\n",
       "\n",
       "    .dataframe tbody tr th {\n",
       "        vertical-align: top;\n",
       "    }\n",
       "\n",
       "    .dataframe thead th {\n",
       "        text-align: right;\n",
       "    }\n",
       "</style>\n",
       "<table border=\"1\" class=\"dataframe\">\n",
       "  <thead>\n",
       "    <tr style=\"text-align: right;\">\n",
       "      <th></th>\n",
       "      <th>County_name</th>\n",
       "      <th>State</th>\n",
       "      <th>Region_num</th>\n",
       "      <th>Location</th>\n",
       "      <th>Square_miles</th>\n",
       "      <th>Population</th>\n",
       "      <th>Pop_Size_Group</th>\n",
       "      <th>Pct_Age18_to_34</th>\n",
       "      <th>Pct_65_or_over</th>\n",
       "      <th>Num_physicians</th>\n",
       "      <th>Num_hospital_beds</th>\n",
       "      <th>Num_serious_crimes</th>\n",
       "      <th>Pct_High_Sch_grads</th>\n",
       "      <th>Pct_Bachelors</th>\n",
       "      <th>Pct_below_poverty</th>\n",
       "      <th>Pct_unemployed</th>\n",
       "      <th>Per_cap_income</th>\n",
       "      <th>Total_personal_income</th>\n",
       "    </tr>\n",
       "  </thead>\n",
       "  <tbody>\n",
       "    <tr>\n",
       "      <th>0</th>\n",
       "      <td>Los_Angeles</td>\n",
       "      <td>CA</td>\n",
       "      <td>4</td>\n",
       "      <td>West</td>\n",
       "      <td>4060</td>\n",
       "      <td>8863164</td>\n",
       "      <td>Large</td>\n",
       "      <td>32.1</td>\n",
       "      <td>9.7</td>\n",
       "      <td>23677</td>\n",
       "      <td>27700</td>\n",
       "      <td>688936</td>\n",
       "      <td>70.0</td>\n",
       "      <td>22.3</td>\n",
       "      <td>11.6</td>\n",
       "      <td>8.0</td>\n",
       "      <td>20786</td>\n",
       "      <td>184230</td>\n",
       "    </tr>\n",
       "    <tr>\n",
       "      <th>1</th>\n",
       "      <td>Cook</td>\n",
       "      <td>IL</td>\n",
       "      <td>2</td>\n",
       "      <td>East</td>\n",
       "      <td>946</td>\n",
       "      <td>5105067</td>\n",
       "      <td>Large</td>\n",
       "      <td>29.2</td>\n",
       "      <td>12.4</td>\n",
       "      <td>15153</td>\n",
       "      <td>21550</td>\n",
       "      <td>436936</td>\n",
       "      <td>73.4</td>\n",
       "      <td>22.8</td>\n",
       "      <td>11.1</td>\n",
       "      <td>7.2</td>\n",
       "      <td>21729</td>\n",
       "      <td>110928</td>\n",
       "    </tr>\n",
       "    <tr>\n",
       "      <th>2</th>\n",
       "      <td>Harris</td>\n",
       "      <td>TX</td>\n",
       "      <td>3</td>\n",
       "      <td>West</td>\n",
       "      <td>1729</td>\n",
       "      <td>2818199</td>\n",
       "      <td>Large</td>\n",
       "      <td>31.3</td>\n",
       "      <td>7.1</td>\n",
       "      <td>7553</td>\n",
       "      <td>12449</td>\n",
       "      <td>253526</td>\n",
       "      <td>74.9</td>\n",
       "      <td>25.4</td>\n",
       "      <td>12.5</td>\n",
       "      <td>5.7</td>\n",
       "      <td>19517</td>\n",
       "      <td>55003</td>\n",
       "    </tr>\n",
       "  </tbody>\n",
       "</table>\n",
       "</div>"
      ],
      "text/plain": [
       "   County_name State  Region_num Location  Square_miles  Population  \\\n",
       "0  Los_Angeles    CA           4     West          4060     8863164   \n",
       "1         Cook    IL           2     East           946     5105067   \n",
       "2       Harris    TX           3     West          1729     2818199   \n",
       "\n",
       "  Pop_Size_Group  Pct_Age18_to_34  Pct_65_or_over  Num_physicians  \\\n",
       "0          Large             32.1             9.7           23677   \n",
       "1          Large             29.2            12.4           15153   \n",
       "2          Large             31.3             7.1            7553   \n",
       "\n",
       "   Num_hospital_beds  Num_serious_crimes  Pct_High_Sch_grads  Pct_Bachelors  \\\n",
       "0              27700              688936                70.0           22.3   \n",
       "1              21550              436936                73.4           22.8   \n",
       "2              12449              253526                74.9           25.4   \n",
       "\n",
       "   Pct_below_poverty  Pct_unemployed  Per_cap_income  Total_personal_income  \n",
       "0               11.6             8.0           20786                 184230  \n",
       "1               11.1             7.2           21729                 110928  \n",
       "2               12.5             5.7           19517                  55003  "
      ]
     },
     "execution_count": 36,
     "metadata": {},
     "output_type": "execute_result"
    }
   ],
   "source": [
    "import pandas as pd\n",
    "\n",
    "demo = pd.read_csv(r'C:\\Users\\clark\\Desktop\\DAPT Courses\\semester_2\\622_stat_multivariate\\assignment2\\Demographics.txt', sep=',')\n",
    "#df = pd.read_excel(r'../file.csv\")\n",
    "#https://docs.python.org/3/library/codecs.html#standard-encodings\n",
    "#https://pandas.pydata.org/pandas-docs/stable/reference/api/pandas.read_csv.html\n",
    "demo.head(3)"
   ]
  },
  {
   "cell_type": "code",
   "execution_count": 37,
   "metadata": {},
   "outputs": [
    {
     "data": {
      "text/plain": [
       "Medium    159\n",
       "Large     142\n",
       "Small     139\n",
       "Name: Pop_Size_Group, dtype: int64"
      ]
     },
     "execution_count": 37,
     "metadata": {},
     "output_type": "execute_result"
    }
   ],
   "source": [
    "demo.shape\n",
    "demo.Pop_Size_Group.value_counts()"
   ]
  },
  {
   "cell_type": "code",
   "execution_count": 44,
   "metadata": {},
   "outputs": [],
   "source": [
    "drop_cols = ['County_name', 'State', 'Region_num', 'Location', 'Population']\n",
    "\n",
    "demo = demo.drop(drop_cols, axis=1)\n",
    "\n",
    "#demo[['County_name', 'State']]"
   ]
  },
  {
   "cell_type": "code",
   "execution_count": null,
   "metadata": {},
   "outputs": [],
   "source": []
  }
 ],
 "metadata": {
  "kernelspec": {
   "display_name": "Python 3",
   "language": "python",
   "name": "python3"
  },
  "language_info": {
   "codemirror_mode": {
    "name": "ipython",
    "version": 3
   },
   "file_extension": ".py",
   "mimetype": "text/x-python",
   "name": "python",
   "nbconvert_exporter": "python",
   "pygments_lexer": "ipython3",
   "version": "3.8.5"
  }
 },
 "nbformat": 4,
 "nbformat_minor": 4
}
