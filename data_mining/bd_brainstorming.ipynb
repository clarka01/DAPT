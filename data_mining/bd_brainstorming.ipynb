{
 "cells": [
  {
   "cell_type": "code",
   "execution_count": 2,
   "metadata": {},
   "outputs": [],
   "source": [
    "# data processing\n",
    "import numpy as np\n",
    "import pandas as pd\n",
    "from datetime import date\n",
    "\n",
    "# plotting\n",
    "import matplotlib.pyplot as plt\n",
    "import seaborn as sns"
   ]
  },
  {
   "cell_type": "code",
   "execution_count": 3,
   "metadata": {},
   "outputs": [],
   "source": [
    "# full path of the orders dataset\n",
    "orders_file = 'C:/Users/short/Desktop/python_vscode/631_Assignment3/data/olist_orders_dataset.csv'\n",
    "\n",
    "# full path of the customer dataset\n",
    "cust_file = 'C:/Users/short/Desktop/python_vscode/631_Assignment3/data/olist_customers_dataset.csv'"
   ]
  },
  {
   "cell_type": "code",
   "execution_count": 4,
   "metadata": {},
   "outputs": [],
   "source": [
    "def read_olist_data(file1, file2, use_cols, cutoff_date, verbose):\n",
    "    # read the orders data\n",
    "    orders = pd.read_csv(file1)\n",
    "    if verbose:\n",
    "        print (f'{len(orders):,} read from the orders file.')\n",
    "    # date-time conversion\n",
    "    orders['order_purchase_timestamp'] = pd.to_datetime(orders['order_purchase_timestamp'])\n",
    "    # let's convert the order purchase timestamps into dates\n",
    "    orders['order_purchase_date'] = orders['order_purchase_timestamp'].dt.date\n",
    "    # create an order date col\n",
    "    orders['order_date'] = pd.to_datetime(orders['order_purchase_date'], format = '%Y/%m/%d') \n",
    "    # extract month from the order date\n",
    "    orders['weekday'] = orders['order_purchase_timestamp'].dt.day_name()\n",
    "    # read the file that contains the unique customer identifier\n",
    "    # also, let's keep only the following two columns: customer_id, customer_unique_id\n",
    "    cust = pd.read_csv(file2, usecols = ['customer_id', 'customer_unique_id', 'customer_state'])\n",
    "    if verbose:\n",
    "        print (f'{len(cust):,} read from the customer file.')\n",
    "    # merge orders and cust dataframes using an inner join on customer_id\n",
    "    orders_out = pd.merge(orders, cust, on = 'customer_id', how  = 'inner')\n",
    "    # discard (incomplete) data -- data collected on/after 8/22/2018\n",
    "    # we do this here by using a boolean (True/False) mask\n",
    "    mask = orders_out['order_purchase_date'] <= cutoff_date\n",
    "    # apply the mask so that we only grab TRUE records.\n",
    "    orders_out = orders_out[mask]\n",
    "    # sort the output dataset by order date for each customer\n",
    "    orders_out = orders_out[use_cols].sort_values(['customer_unique_id', 'order_purchase_timestamp'])\n",
    "    if verbose:\n",
    "        print (f'{len(orders_out):,} records in the output  file.')\n",
    "    return orders_out"
   ]
  },
  {
   "cell_type": "code",
   "execution_count": 5,
   "metadata": {},
   "outputs": [
    {
     "name": "stdout",
     "output_type": "stream",
     "text": [
      "99,441 read from the orders file.\n",
      "99,441 read from the customer file.\n",
      "98,906 records in the output  file.\n"
     ]
    }
   ],
   "source": [
    "# we will keep only these columns for this exercise\n",
    "use_cols = ['customer_unique_id', 'order_id', 'order_purchase_timestamp', 'order_date', 'weekday', 'customer_state']\n",
    "# we will discard (incomplete) data\n",
    "cutoff_date = date(2018, 8, 22)\n",
    "orders = read_olist_data(orders_file, cust_file, use_cols, cutoff_date, 1)"
   ]
  },
  {
   "cell_type": "code",
   "execution_count": 6,
   "metadata": {},
   "outputs": [],
   "source": [
    "# get the state names from wikipedia\n",
    "states = pd.read_html('https://en.wikipedia.org/wiki/ISO_3166-2:BR')\n",
    "#print(f'Total tables: {len(states2)}')\n",
    "\n",
    "# first set of brackets, states2[0], is the table we want from the list states2\n",
    "# then get all rows, cols 0 - 2\n",
    "br_states = states[0].iloc[:, 0:2]\n",
    "\n",
    "br_states.reset_index(drop = True, inplace = True)\n",
    "\n",
    "br_states.columns = ['cust_state', 'state_name']\n",
    "\n",
    "br_states['customer_state'] = br_states['cust_state'].str.replace('BR-', '')\n",
    "\n",
    "br_states = br_states.drop('cust_state', axis = 1)\n",
    "\n",
    "# make this a dictionary we can use as a lookup table\n",
    "repl = br_states.set_index('customer_state')['state_name'].to_dict()\n",
    "\n",
    "# replace the state abbrevs with the names of each state\n",
    "orders2 = orders.replace(repl)"
   ]
  },
  {
   "cell_type": "code",
   "execution_count": 7,
   "metadata": {},
   "outputs": [
    {
     "data": {
      "text/html": [
       "<div>\n",
       "<style scoped>\n",
       "    .dataframe tbody tr th:only-of-type {\n",
       "        vertical-align: middle;\n",
       "    }\n",
       "\n",
       "    .dataframe tbody tr th {\n",
       "        vertical-align: top;\n",
       "    }\n",
       "\n",
       "    .dataframe thead th {\n",
       "        text-align: right;\n",
       "    }\n",
       "</style>\n",
       "<table border=\"1\" class=\"dataframe\">\n",
       "  <thead>\n",
       "    <tr style=\"text-align: right;\">\n",
       "      <th></th>\n",
       "      <th>customer_unique_id</th>\n",
       "      <th>order_id</th>\n",
       "      <th>order_purchase_timestamp</th>\n",
       "      <th>order_date</th>\n",
       "      <th>weekday</th>\n",
       "      <th>customer_state</th>\n",
       "    </tr>\n",
       "  </thead>\n",
       "  <tbody>\n",
       "    <tr>\n",
       "      <th>52798</th>\n",
       "      <td>0000366f3b9a7992bf8c76cfdf3221e2</td>\n",
       "      <td>e22acc9c116caa3f2b7121bbb380d08e</td>\n",
       "      <td>2018-05-10 10:56:27</td>\n",
       "      <td>2018-05-10</td>\n",
       "      <td>Thursday</td>\n",
       "      <td>São Paulo</td>\n",
       "    </tr>\n",
       "    <tr>\n",
       "      <th>73889</th>\n",
       "      <td>0000b849f77a49e4a4ce2b2a4ca5be3f</td>\n",
       "      <td>3594e05a005ac4d06a72673270ef9ec9</td>\n",
       "      <td>2018-05-07 11:11:27</td>\n",
       "      <td>2018-05-07</td>\n",
       "      <td>Monday</td>\n",
       "      <td>São Paulo</td>\n",
       "    </tr>\n",
       "    <tr>\n",
       "      <th>26460</th>\n",
       "      <td>0000f46a3911fa3c0805444483337064</td>\n",
       "      <td>b33ec3b699337181488304f362a6b734</td>\n",
       "      <td>2017-03-10 21:05:03</td>\n",
       "      <td>2017-03-10</td>\n",
       "      <td>Friday</td>\n",
       "      <td>Santa Catarina</td>\n",
       "    </tr>\n",
       "    <tr>\n",
       "      <th>98493</th>\n",
       "      <td>0000f6ccb0745a6a4b88665a16c9f078</td>\n",
       "      <td>41272756ecddd9a9ed0180413cc22fb6</td>\n",
       "      <td>2017-10-12 20:29:41</td>\n",
       "      <td>2017-10-12</td>\n",
       "      <td>Thursday</td>\n",
       "      <td>Pará</td>\n",
       "    </tr>\n",
       "    <tr>\n",
       "      <th>41564</th>\n",
       "      <td>0004aac84e0df4da2b147fca70cf8255</td>\n",
       "      <td>d957021f1127559cd947b62533f484f7</td>\n",
       "      <td>2017-11-14 19:45:42</td>\n",
       "      <td>2017-11-14</td>\n",
       "      <td>Tuesday</td>\n",
       "      <td>São Paulo</td>\n",
       "    </tr>\n",
       "  </tbody>\n",
       "</table>\n",
       "</div>"
      ],
      "text/plain": [
       "                     customer_unique_id                          order_id  \\\n",
       "52798  0000366f3b9a7992bf8c76cfdf3221e2  e22acc9c116caa3f2b7121bbb380d08e   \n",
       "73889  0000b849f77a49e4a4ce2b2a4ca5be3f  3594e05a005ac4d06a72673270ef9ec9   \n",
       "26460  0000f46a3911fa3c0805444483337064  b33ec3b699337181488304f362a6b734   \n",
       "98493  0000f6ccb0745a6a4b88665a16c9f078  41272756ecddd9a9ed0180413cc22fb6   \n",
       "41564  0004aac84e0df4da2b147fca70cf8255  d957021f1127559cd947b62533f484f7   \n",
       "\n",
       "      order_purchase_timestamp order_date   weekday  customer_state  \n",
       "52798      2018-05-10 10:56:27 2018-05-10  Thursday       São Paulo  \n",
       "73889      2018-05-07 11:11:27 2018-05-07    Monday       São Paulo  \n",
       "26460      2017-03-10 21:05:03 2017-03-10    Friday  Santa Catarina  \n",
       "98493      2017-10-12 20:29:41 2017-10-12  Thursday            Pará  \n",
       "41564      2017-11-14 19:45:42 2017-11-14   Tuesday       São Paulo  "
      ]
     },
     "execution_count": 7,
     "metadata": {},
     "output_type": "execute_result"
    }
   ],
   "source": [
    "orders2.head()"
   ]
  },
  {
   "cell_type": "code",
   "execution_count": null,
   "metadata": {},
   "outputs": [],
   "source": []
  }
 ],
 "metadata": {
  "kernelspec": {
   "display_name": "Python 3",
   "language": "python",
   "name": "python3"
  },
  "language_info": {
   "codemirror_mode": {
    "name": "ipython",
    "version": 3
   },
   "file_extension": ".py",
   "mimetype": "text/x-python",
   "name": "python",
   "nbconvert_exporter": "python",
   "pygments_lexer": "ipython3",
   "version": "3.8.5"
  }
 },
 "nbformat": 4,
 "nbformat_minor": 4
}
