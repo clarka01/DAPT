{
 "cells": [
  {
   "cell_type": "markdown",
   "metadata": {},
   "source": [
    "# Homework 1 Solution [DAPT 631]"
   ]
  },
  {
   "cell_type": "markdown",
   "metadata": {},
   "source": [
    "The dataset for this homework exercise is borrowed from [UCI Machine Learning Repository](https://archive.ics.uci.edu/ml/datasets/Wine+Quality)."
   ]
  },
  {
   "cell_type": "code",
   "execution_count": 1,
   "metadata": {},
   "outputs": [],
   "source": [
    "import pandas as pd"
   ]
  },
  {
   "cell_type": "code",
   "execution_count": null,
   "metadata": {},
   "outputs": [],
   "source": [
    "'''\n",
    "# this code was used to read two separate datasets from UCI Machine Learning repo and combine them to create one consolidated data set.\n",
    "\n",
    "df_white = pd.read_csv('https://archive.ics.uci.edu/ml/machine-learning-databases/wine-quality/winequality-white.csv', sep=';')\n",
    "df_white['wine type'] = 'White'\n",
    "\n",
    "df_red = pd.read_csv('https://archive.ics.uci.edu/ml/machine-learning-databases/wine-quality/winequality-red.csv', sep=';')\n",
    "df_red['wine type'] = 'Red'\n",
    "\n",
    "df = pd.concat([df_white, df_red], axis=0)\n",
    "\n",
    "df.to_csv(r'../data/winequality.csv')\n",
    "'''"
   ]
  },
  {
   "cell_type": "markdown",
   "metadata": {},
   "source": [
    "Read data."
   ]
  },
  {
   "cell_type": "code",
   "execution_count": 2,
   "metadata": {},
   "outputs": [
    {
     "data": {
      "text/plain": [
       "(6497, 13)"
      ]
     },
     "execution_count": 2,
     "metadata": {},
     "output_type": "execute_result"
    }
   ],
   "source": [
    "# read data from the csv file\n",
    "# ignore the first (index) column while reading data in\n",
    "\n",
    "df = pd.read_csv(r'../data/winequality.csv', index_col=0)\n",
    "\n",
    "# always check the shape (number of rows and columns)\n",
    "df.shape"
   ]
  },
  {
   "cell_type": "code",
   "execution_count": 3,
   "metadata": {},
   "outputs": [
    {
     "data": {
      "text/html": [
       "<div>\n",
       "<style scoped>\n",
       "    .dataframe tbody tr th:only-of-type {\n",
       "        vertical-align: middle;\n",
       "    }\n",
       "\n",
       "    .dataframe tbody tr th {\n",
       "        vertical-align: top;\n",
       "    }\n",
       "\n",
       "    .dataframe thead th {\n",
       "        text-align: right;\n",
       "    }\n",
       "</style>\n",
       "<table border=\"1\" class=\"dataframe\">\n",
       "  <thead>\n",
       "    <tr style=\"text-align: right;\">\n",
       "      <th></th>\n",
       "      <th>fixed acidity</th>\n",
       "      <th>volatile acidity</th>\n",
       "      <th>citric acid</th>\n",
       "      <th>residual sugar</th>\n",
       "      <th>chlorides</th>\n",
       "      <th>free sulfur dioxide</th>\n",
       "      <th>total sulfur dioxide</th>\n",
       "      <th>density</th>\n",
       "      <th>pH</th>\n",
       "      <th>sulphates</th>\n",
       "      <th>alcohol</th>\n",
       "      <th>quality</th>\n",
       "      <th>wine type</th>\n",
       "    </tr>\n",
       "  </thead>\n",
       "  <tbody>\n",
       "    <tr>\n",
       "      <th>0</th>\n",
       "      <td>7.0</td>\n",
       "      <td>0.27</td>\n",
       "      <td>0.36</td>\n",
       "      <td>20.7</td>\n",
       "      <td>0.045</td>\n",
       "      <td>45.0</td>\n",
       "      <td>170.0</td>\n",
       "      <td>1.0010</td>\n",
       "      <td>3.00</td>\n",
       "      <td>0.45</td>\n",
       "      <td>8.8</td>\n",
       "      <td>6</td>\n",
       "      <td>White</td>\n",
       "    </tr>\n",
       "    <tr>\n",
       "      <th>1</th>\n",
       "      <td>6.3</td>\n",
       "      <td>0.30</td>\n",
       "      <td>0.34</td>\n",
       "      <td>1.6</td>\n",
       "      <td>0.049</td>\n",
       "      <td>14.0</td>\n",
       "      <td>132.0</td>\n",
       "      <td>0.9940</td>\n",
       "      <td>3.30</td>\n",
       "      <td>0.49</td>\n",
       "      <td>9.5</td>\n",
       "      <td>6</td>\n",
       "      <td>White</td>\n",
       "    </tr>\n",
       "    <tr>\n",
       "      <th>2</th>\n",
       "      <td>8.1</td>\n",
       "      <td>0.28</td>\n",
       "      <td>0.40</td>\n",
       "      <td>6.9</td>\n",
       "      <td>0.050</td>\n",
       "      <td>30.0</td>\n",
       "      <td>97.0</td>\n",
       "      <td>0.9951</td>\n",
       "      <td>3.26</td>\n",
       "      <td>0.44</td>\n",
       "      <td>10.1</td>\n",
       "      <td>6</td>\n",
       "      <td>White</td>\n",
       "    </tr>\n",
       "    <tr>\n",
       "      <th>3</th>\n",
       "      <td>7.2</td>\n",
       "      <td>0.23</td>\n",
       "      <td>0.32</td>\n",
       "      <td>8.5</td>\n",
       "      <td>0.058</td>\n",
       "      <td>47.0</td>\n",
       "      <td>186.0</td>\n",
       "      <td>0.9956</td>\n",
       "      <td>3.19</td>\n",
       "      <td>0.40</td>\n",
       "      <td>9.9</td>\n",
       "      <td>6</td>\n",
       "      <td>White</td>\n",
       "    </tr>\n",
       "    <tr>\n",
       "      <th>4</th>\n",
       "      <td>7.2</td>\n",
       "      <td>0.23</td>\n",
       "      <td>0.32</td>\n",
       "      <td>8.5</td>\n",
       "      <td>0.058</td>\n",
       "      <td>47.0</td>\n",
       "      <td>186.0</td>\n",
       "      <td>0.9956</td>\n",
       "      <td>3.19</td>\n",
       "      <td>0.40</td>\n",
       "      <td>9.9</td>\n",
       "      <td>6</td>\n",
       "      <td>White</td>\n",
       "    </tr>\n",
       "  </tbody>\n",
       "</table>\n",
       "</div>"
      ],
      "text/plain": [
       "   fixed acidity  volatile acidity  citric acid  residual sugar  chlorides  \\\n",
       "0            7.0              0.27         0.36            20.7      0.045   \n",
       "1            6.3              0.30         0.34             1.6      0.049   \n",
       "2            8.1              0.28         0.40             6.9      0.050   \n",
       "3            7.2              0.23         0.32             8.5      0.058   \n",
       "4            7.2              0.23         0.32             8.5      0.058   \n",
       "\n",
       "   free sulfur dioxide  total sulfur dioxide  density    pH  sulphates  \\\n",
       "0                 45.0                 170.0   1.0010  3.00       0.45   \n",
       "1                 14.0                 132.0   0.9940  3.30       0.49   \n",
       "2                 30.0                  97.0   0.9951  3.26       0.44   \n",
       "3                 47.0                 186.0   0.9956  3.19       0.40   \n",
       "4                 47.0                 186.0   0.9956  3.19       0.40   \n",
       "\n",
       "   alcohol  quality wine type  \n",
       "0      8.8        6     White  \n",
       "1      9.5        6     White  \n",
       "2     10.1        6     White  \n",
       "3      9.9        6     White  \n",
       "4      9.9        6     White  "
      ]
     },
     "execution_count": 3,
     "metadata": {},
     "output_type": "execute_result"
    }
   ],
   "source": [
    "# always take a quick look at the data\n",
    "df.head()"
   ]
  },
  {
   "cell_type": "code",
   "execution_count": 4,
   "metadata": {},
   "outputs": [
    {
     "data": {
      "text/html": [
       "<div>\n",
       "<style scoped>\n",
       "    .dataframe tbody tr th:only-of-type {\n",
       "        vertical-align: middle;\n",
       "    }\n",
       "\n",
       "    .dataframe tbody tr th {\n",
       "        vertical-align: top;\n",
       "    }\n",
       "\n",
       "    .dataframe thead th {\n",
       "        text-align: right;\n",
       "    }\n",
       "</style>\n",
       "<table border=\"1\" class=\"dataframe\">\n",
       "  <thead>\n",
       "    <tr style=\"text-align: right;\">\n",
       "      <th></th>\n",
       "      <th>count</th>\n",
       "      <th>mean</th>\n",
       "      <th>std</th>\n",
       "      <th>min</th>\n",
       "      <th>25%</th>\n",
       "      <th>50%</th>\n",
       "      <th>75%</th>\n",
       "      <th>max</th>\n",
       "    </tr>\n",
       "  </thead>\n",
       "  <tbody>\n",
       "    <tr>\n",
       "      <th>fixed acidity</th>\n",
       "      <td>6497.0</td>\n",
       "      <td>7.215307</td>\n",
       "      <td>1.296434</td>\n",
       "      <td>3.80000</td>\n",
       "      <td>6.40000</td>\n",
       "      <td>7.00000</td>\n",
       "      <td>7.70000</td>\n",
       "      <td>15.90000</td>\n",
       "    </tr>\n",
       "    <tr>\n",
       "      <th>volatile acidity</th>\n",
       "      <td>6497.0</td>\n",
       "      <td>0.339666</td>\n",
       "      <td>0.164636</td>\n",
       "      <td>0.08000</td>\n",
       "      <td>0.23000</td>\n",
       "      <td>0.29000</td>\n",
       "      <td>0.40000</td>\n",
       "      <td>1.58000</td>\n",
       "    </tr>\n",
       "    <tr>\n",
       "      <th>citric acid</th>\n",
       "      <td>6497.0</td>\n",
       "      <td>0.318633</td>\n",
       "      <td>0.145318</td>\n",
       "      <td>0.00000</td>\n",
       "      <td>0.25000</td>\n",
       "      <td>0.31000</td>\n",
       "      <td>0.39000</td>\n",
       "      <td>1.66000</td>\n",
       "    </tr>\n",
       "    <tr>\n",
       "      <th>residual sugar</th>\n",
       "      <td>6497.0</td>\n",
       "      <td>5.443235</td>\n",
       "      <td>4.757804</td>\n",
       "      <td>0.60000</td>\n",
       "      <td>1.80000</td>\n",
       "      <td>3.00000</td>\n",
       "      <td>8.10000</td>\n",
       "      <td>65.80000</td>\n",
       "    </tr>\n",
       "    <tr>\n",
       "      <th>chlorides</th>\n",
       "      <td>6497.0</td>\n",
       "      <td>0.056034</td>\n",
       "      <td>0.035034</td>\n",
       "      <td>0.00900</td>\n",
       "      <td>0.03800</td>\n",
       "      <td>0.04700</td>\n",
       "      <td>0.06500</td>\n",
       "      <td>0.61100</td>\n",
       "    </tr>\n",
       "    <tr>\n",
       "      <th>free sulfur dioxide</th>\n",
       "      <td>6497.0</td>\n",
       "      <td>30.525319</td>\n",
       "      <td>17.749400</td>\n",
       "      <td>1.00000</td>\n",
       "      <td>17.00000</td>\n",
       "      <td>29.00000</td>\n",
       "      <td>41.00000</td>\n",
       "      <td>289.00000</td>\n",
       "    </tr>\n",
       "    <tr>\n",
       "      <th>total sulfur dioxide</th>\n",
       "      <td>6497.0</td>\n",
       "      <td>115.744574</td>\n",
       "      <td>56.521855</td>\n",
       "      <td>6.00000</td>\n",
       "      <td>77.00000</td>\n",
       "      <td>118.00000</td>\n",
       "      <td>156.00000</td>\n",
       "      <td>440.00000</td>\n",
       "    </tr>\n",
       "    <tr>\n",
       "      <th>density</th>\n",
       "      <td>6497.0</td>\n",
       "      <td>0.994697</td>\n",
       "      <td>0.002999</td>\n",
       "      <td>0.98711</td>\n",
       "      <td>0.99234</td>\n",
       "      <td>0.99489</td>\n",
       "      <td>0.99699</td>\n",
       "      <td>1.03898</td>\n",
       "    </tr>\n",
       "    <tr>\n",
       "      <th>pH</th>\n",
       "      <td>6497.0</td>\n",
       "      <td>3.218501</td>\n",
       "      <td>0.160787</td>\n",
       "      <td>2.72000</td>\n",
       "      <td>3.11000</td>\n",
       "      <td>3.21000</td>\n",
       "      <td>3.32000</td>\n",
       "      <td>4.01000</td>\n",
       "    </tr>\n",
       "    <tr>\n",
       "      <th>sulphates</th>\n",
       "      <td>6497.0</td>\n",
       "      <td>0.531268</td>\n",
       "      <td>0.148806</td>\n",
       "      <td>0.22000</td>\n",
       "      <td>0.43000</td>\n",
       "      <td>0.51000</td>\n",
       "      <td>0.60000</td>\n",
       "      <td>2.00000</td>\n",
       "    </tr>\n",
       "    <tr>\n",
       "      <th>alcohol</th>\n",
       "      <td>6497.0</td>\n",
       "      <td>10.491801</td>\n",
       "      <td>1.192712</td>\n",
       "      <td>8.00000</td>\n",
       "      <td>9.50000</td>\n",
       "      <td>10.30000</td>\n",
       "      <td>11.30000</td>\n",
       "      <td>14.90000</td>\n",
       "    </tr>\n",
       "    <tr>\n",
       "      <th>quality</th>\n",
       "      <td>6497.0</td>\n",
       "      <td>5.818378</td>\n",
       "      <td>0.873255</td>\n",
       "      <td>3.00000</td>\n",
       "      <td>5.00000</td>\n",
       "      <td>6.00000</td>\n",
       "      <td>6.00000</td>\n",
       "      <td>9.00000</td>\n",
       "    </tr>\n",
       "  </tbody>\n",
       "</table>\n",
       "</div>"
      ],
      "text/plain": [
       "                       count        mean        std      min       25%  \\\n",
       "fixed acidity         6497.0    7.215307   1.296434  3.80000   6.40000   \n",
       "volatile acidity      6497.0    0.339666   0.164636  0.08000   0.23000   \n",
       "citric acid           6497.0    0.318633   0.145318  0.00000   0.25000   \n",
       "residual sugar        6497.0    5.443235   4.757804  0.60000   1.80000   \n",
       "chlorides             6497.0    0.056034   0.035034  0.00900   0.03800   \n",
       "free sulfur dioxide   6497.0   30.525319  17.749400  1.00000  17.00000   \n",
       "total sulfur dioxide  6497.0  115.744574  56.521855  6.00000  77.00000   \n",
       "density               6497.0    0.994697   0.002999  0.98711   0.99234   \n",
       "pH                    6497.0    3.218501   0.160787  2.72000   3.11000   \n",
       "sulphates             6497.0    0.531268   0.148806  0.22000   0.43000   \n",
       "alcohol               6497.0   10.491801   1.192712  8.00000   9.50000   \n",
       "quality               6497.0    5.818378   0.873255  3.00000   5.00000   \n",
       "\n",
       "                            50%        75%        max  \n",
       "fixed acidity           7.00000    7.70000   15.90000  \n",
       "volatile acidity        0.29000    0.40000    1.58000  \n",
       "citric acid             0.31000    0.39000    1.66000  \n",
       "residual sugar          3.00000    8.10000   65.80000  \n",
       "chlorides               0.04700    0.06500    0.61100  \n",
       "free sulfur dioxide    29.00000   41.00000  289.00000  \n",
       "total sulfur dioxide  118.00000  156.00000  440.00000  \n",
       "density                 0.99489    0.99699    1.03898  \n",
       "pH                      3.21000    3.32000    4.01000  \n",
       "sulphates               0.51000    0.60000    2.00000  \n",
       "alcohol                10.30000   11.30000   14.90000  \n",
       "quality                 6.00000    6.00000    9.00000  "
      ]
     },
     "execution_count": 4,
     "metadata": {},
     "output_type": "execute_result"
    }
   ],
   "source": [
    "# check averages and other descriptive stats\n",
    "df.describe().T"
   ]
  },
  {
   "cell_type": "markdown",
   "metadata": {},
   "source": [
    "**Observations:**\n",
    "\n",
    "* All variables have a count of 6,497, which is the same as the total number of records in this dataframe. We don't have variables with missing values, which is good to confirm.\n",
    "* I would also check the min values here -- to ensure that there are no negative values. If there are, that would trigger some investigation (further EDA).\n",
    "* Some attributes, like sulfur dioxide, vary substantially across different wines (as indicated by their high standard deviation.) \n",
    "* The alcohol content ranges between 8 and 14.9. Either seems lower than what I had in mind. I would check the distribution of alcohol to see how many wines have this value."
   ]
  },
  {
   "cell_type": "code",
   "execution_count": 31,
   "metadata": {},
   "outputs": [
    {
     "data": {
      "text/plain": [
       "Index(['fixed acidity', 'volatile acidity', 'citric acid', 'residual sugar',\n",
       "       'chlorides', 'free sulfur dioxide', 'total sulfur dioxide', 'density',\n",
       "       'pH', 'sulphates', 'alcohol', 'quality', 'wine type'],\n",
       "      dtype='object')"
      ]
     },
     "execution_count": 31,
     "metadata": {},
     "output_type": "execute_result"
    }
   ],
   "source": [
    "df.columns"
   ]
  },
  {
   "cell_type": "code",
   "execution_count": 32,
   "metadata": {},
   "outputs": [],
   "source": [
    "# replace spaces in column names with underscores\n",
    "\n",
    "df.columns = df.columns.str.replace(' ', \"_\")"
   ]
  },
  {
   "cell_type": "markdown",
   "metadata": {},
   "source": [
    "**1. Plot histograms for all variables in this data set. Add a vertical line to show the average value of each variable. Add a chart title for each chart.**"
   ]
  },
  {
   "cell_type": "code",
   "execution_count": 35,
   "metadata": {},
   "outputs": [
    {
     "data": {
      "image/png": "[encoded data removed]",
      "text/plain": [
       "<Figure size 864x648 with 12 Axes>"
      ]
     },
     "metadata": {},
     "output_type": "display_data"
    }
   ],
   "source": [
    "import matplotlib.pyplot as plt\n",
    "import seaborn as sns\n",
    "\n",
    "fig, axes = plt.subplots(nrows=4, ncols=3, figsize=(12, 9))\n",
    "fig.tight_layout()\n",
    "\n",
    "for i, ax in enumerate(axes.flat):\n",
    "    col = df.columns[i]\n",
    "    df[col].hist(bins=50, ax=ax, grid=False, color='royalblue', alpha=.5)\n",
    "    ax.axvline(x=df[col].mean(), color='royalblue')\n",
    "    ax.set_title(col.upper().replace('_', ' '), weight='bold', size=10);"
   ]
  },
  {
   "cell_type": "markdown",
   "metadata": {},
   "source": [
    "**Observations:**\n",
    "\n",
    "* The histogram for alcohol does confirm that there are a very few wines between 8 and 9. \n",
    "* The `quality` variable is a numeric variable, but it's not a continuous variable; it's an ordinal variable.\n",
    "* The sulfur dioxide variables have large variance (standard deviation), but there seems to be some extreme (outlier?) that would affect its stadard deviation. If we were building a model (supervised or unsupervised), it may help to truncate some of these extreme values to make the model more stable."
   ]
  },
  {
   "cell_type": "markdown",
   "metadata": {},
   "source": [
    "**2. Identify two features that are most correlated with each other. Visualize their relationship using an appropriate chart type.**"
   ]
  },
  {
   "cell_type": "code",
   "execution_count": 36,
   "metadata": {},
   "outputs": [],
   "source": [
    "# correlation matrix\n",
    "df_corr = df.corr()\n",
    "\n",
    "# flatten the correlation matrix\n",
    "df_corr = df_corr.stack().reset_index()\n",
    "\n",
    "# rename columns\n",
    "df_corr = df_corr.rename(columns={'level_0': 'var1', 'level_1': 'var2', 0: 'corr'})\n",
    "\n",
    "# absolute correlation\n",
    "df_corr['abs_corr'] = abs(df_corr['corr'])\n",
    "\n",
    "# drop rows where var1 and var2 are the same\n",
    "df_corr = df_corr[df_corr['var1'] != df_corr['var2']]\n",
    "\n",
    "# sort values\n",
    "df_corr = df_corr.sort_values(by='abs_corr', ascending=False)"
   ]
  },
  {
   "cell_type": "code",
   "execution_count": 21,
   "metadata": {},
   "outputs": [
    {
     "data": {
      "text/html": [
       "<div>\n",
       "<style scoped>\n",
       "    .dataframe tbody tr th:only-of-type {\n",
       "        vertical-align: middle;\n",
       "    }\n",
       "\n",
       "    .dataframe tbody tr th {\n",
       "        vertical-align: top;\n",
       "    }\n",
       "\n",
       "    .dataframe thead th {\n",
       "        text-align: right;\n",
       "    }\n",
       "</style>\n",
       "<table border=\"1\" class=\"dataframe\">\n",
       "  <thead>\n",
       "    <tr style=\"text-align: right;\">\n",
       "      <th></th>\n",
       "      <th>var1</th>\n",
       "      <th>var2</th>\n",
       "      <th>corr</th>\n",
       "      <th>abs_corr</th>\n",
       "    </tr>\n",
       "  </thead>\n",
       "  <tbody>\n",
       "    <tr>\n",
       "      <th>77</th>\n",
       "      <td>total sulfur dioxide</td>\n",
       "      <td>free sulfur dioxide</td>\n",
       "      <td>0.720934</td>\n",
       "      <td>0.720934</td>\n",
       "    </tr>\n",
       "    <tr>\n",
       "      <th>66</th>\n",
       "      <td>free sulfur dioxide</td>\n",
       "      <td>total sulfur dioxide</td>\n",
       "      <td>0.720934</td>\n",
       "      <td>0.720934</td>\n",
       "    </tr>\n",
       "    <tr>\n",
       "      <th>127</th>\n",
       "      <td>alcohol</td>\n",
       "      <td>density</td>\n",
       "      <td>-0.686745</td>\n",
       "      <td>0.686745</td>\n",
       "    </tr>\n",
       "    <tr>\n",
       "      <th>94</th>\n",
       "      <td>density</td>\n",
       "      <td>alcohol</td>\n",
       "      <td>-0.686745</td>\n",
       "      <td>0.686745</td>\n",
       "    </tr>\n",
       "    <tr>\n",
       "      <th>87</th>\n",
       "      <td>density</td>\n",
       "      <td>residual sugar</td>\n",
       "      <td>0.552517</td>\n",
       "      <td>0.552517</td>\n",
       "    </tr>\n",
       "  </tbody>\n",
       "</table>\n",
       "</div>"
      ],
      "text/plain": [
       "                     var1                  var2      corr  abs_corr\n",
       "77   total sulfur dioxide   free sulfur dioxide  0.720934  0.720934\n",
       "66    free sulfur dioxide  total sulfur dioxide  0.720934  0.720934\n",
       "127               alcohol               density -0.686745  0.686745\n",
       "94                density               alcohol -0.686745  0.686745\n",
       "87                density        residual sugar  0.552517  0.552517"
      ]
     },
     "execution_count": 21,
     "metadata": {},
     "output_type": "execute_result"
    }
   ],
   "source": [
    "df_corr.head()"
   ]
  },
  {
   "cell_type": "markdown",
   "metadata": {},
   "source": [
    "**Note:** The high correlation between two sulfur dioxide variables is obvious. The second most strongest relationship (between `alcohol` and `density`) might be more interesting to explore or report back to the stakeholders."
   ]
  },
  {
   "cell_type": "code",
   "execution_count": 37,
   "metadata": {},
   "outputs": [
    {
     "data": {
      "text/html": [
       "<div>\n",
       "<style scoped>\n",
       "    .dataframe tbody tr th:only-of-type {\n",
       "        vertical-align: middle;\n",
       "    }\n",
       "\n",
       "    .dataframe tbody tr th {\n",
       "        vertical-align: top;\n",
       "    }\n",
       "\n",
       "    .dataframe thead th {\n",
       "        text-align: right;\n",
       "    }\n",
       "</style>\n",
       "<table border=\"1\" class=\"dataframe\">\n",
       "  <thead>\n",
       "    <tr style=\"text-align: right;\">\n",
       "      <th></th>\n",
       "      <th>var1</th>\n",
       "      <th>var2</th>\n",
       "      <th>corr</th>\n",
       "      <th>abs_corr</th>\n",
       "    </tr>\n",
       "  </thead>\n",
       "  <tbody>\n",
       "    <tr>\n",
       "      <th>77</th>\n",
       "      <td>total_sulfur_dioxide</td>\n",
       "      <td>free_sulfur_dioxide</td>\n",
       "      <td>0.720934</td>\n",
       "      <td>0.720934</td>\n",
       "    </tr>\n",
       "    <tr>\n",
       "      <th>66</th>\n",
       "      <td>free_sulfur_dioxide</td>\n",
       "      <td>total_sulfur_dioxide</td>\n",
       "      <td>0.720934</td>\n",
       "      <td>0.720934</td>\n",
       "    </tr>\n",
       "  </tbody>\n",
       "</table>\n",
       "</div>"
      ],
      "text/plain": [
       "                    var1                  var2      corr  abs_corr\n",
       "77  total_sulfur_dioxide   free_sulfur_dioxide  0.720934  0.720934\n",
       "66   free_sulfur_dioxide  total_sulfur_dioxide  0.720934  0.720934"
      ]
     },
     "execution_count": 37,
     "metadata": {},
     "output_type": "execute_result"
    }
   ],
   "source": [
    "# two variables with the highest absolute correlation\n",
    "\n",
    "df_corr.loc[df_corr['abs_corr'] == max(df_corr['abs_corr'])]"
   ]
  },
  {
   "cell_type": "code",
   "execution_count": 38,
   "metadata": {},
   "outputs": [
    {
     "data": {
      "text/html": [
       "<div>\n",
       "<style scoped>\n",
       "    .dataframe tbody tr th:only-of-type {\n",
       "        vertical-align: middle;\n",
       "    }\n",
       "\n",
       "    .dataframe tbody tr th {\n",
       "        vertical-align: top;\n",
       "    }\n",
       "\n",
       "    .dataframe thead th {\n",
       "        text-align: right;\n",
       "    }\n",
       "</style>\n",
       "<table border=\"1\" class=\"dataframe\">\n",
       "  <thead>\n",
       "    <tr style=\"text-align: right;\">\n",
       "      <th></th>\n",
       "      <th>var1</th>\n",
       "      <th>var2</th>\n",
       "      <th>corr</th>\n",
       "      <th>abs_corr</th>\n",
       "    </tr>\n",
       "  </thead>\n",
       "  <tbody>\n",
       "    <tr>\n",
       "      <th>77</th>\n",
       "      <td>total_sulfur_dioxide</td>\n",
       "      <td>free_sulfur_dioxide</td>\n",
       "      <td>0.720934</td>\n",
       "      <td>0.720934</td>\n",
       "    </tr>\n",
       "  </tbody>\n",
       "</table>\n",
       "</div>"
      ],
      "text/plain": [
       "                    var1                 var2      corr  abs_corr\n",
       "77  total_sulfur_dioxide  free_sulfur_dioxide  0.720934  0.720934"
      ]
     },
     "execution_count": 38,
     "metadata": {},
     "output_type": "execute_result"
    }
   ],
   "source": [
    "# while it's not necessary to drop these duplicate rows,\n",
    "# we can do that using `frozenset`\n",
    "\n",
    "df_corr = df_corr[~df_corr[['var1', 'var2']].apply(frozenset, axis=1).duplicated()]\n",
    "\n",
    "# two variables with the highest absolute correlation\n",
    "\n",
    "df_corr.loc[df_corr['abs_corr'] == max(df_corr['abs_corr'])]"
   ]
  },
  {
   "cell_type": "markdown",
   "metadata": {},
   "source": [
    "Scatterplot for the two most correlated variables."
   ]
  },
  {
   "cell_type": "code",
   "execution_count": 39,
   "metadata": {},
   "outputs": [
    {
     "data": {
      "image/png": "[encoded data removed]",
      "text/plain": [
       "<Figure size 864x648 with 1 Axes>"
      ]
     },
     "metadata": {},
     "output_type": "display_data"
    }
   ],
   "source": [
    "plt.figure(figsize=[12, 9])\n",
    "sns.set_style('darkgrid')\n",
    "\n",
    "ax = sns.scatterplot(x='total_sulfur_dioxide', \n",
    "                     y='free_sulfur_dioxide', \n",
    "                     data=df, \n",
    "                     color='royalblue')\n",
    "\n",
    "plt.xlabel('TOTAL SULFUR DIOXIDE', fontsize=12, weight='bold')\n",
    "plt.ylabel('FREE SULFUR DIOXIDE', fontsize=12, weight='bold');"
   ]
  },
  {
   "cell_type": "markdown",
   "metadata": {},
   "source": [
    "As we've noticed before, these two columns contains some extreme and rare values, because of which, it's hard to clearly see the relationship. We can explore another type of chart -- called Kernel Density plot -- that might be more useful here."
   ]
  },
  {
   "cell_type": "code",
   "execution_count": 40,
   "metadata": {},
   "outputs": [
    {
     "data": {
      "image/png": "[encoded data removed]",
      "text/plain": [
       "<Figure size 432x432 with 3 Axes>"
      ]
     },
     "metadata": {},
     "output_type": "display_data"
    }
   ],
   "source": [
    "sns.set_style(style='ticks')\n",
    "\n",
    "sns.jointplot(data=df,\n",
    "              x='total_sulfur_dioxide', \n",
    "              y='free_sulfur_dioxide', \n",
    "              kind='kde');"
   ]
  },
  {
   "cell_type": "markdown",
   "metadata": {},
   "source": [
    "We can zoom in to the area where most values are to see the trend more clearly. Let's find the 90th percentile values for both variables and use those to zoom in."
   ]
  },
  {
   "cell_type": "code",
   "execution_count": 49,
   "metadata": {},
   "outputs": [
    {
     "data": {
      "text/plain": [
       "(188.0, 54.0)"
      ]
     },
     "execution_count": 49,
     "metadata": {},
     "output_type": "execute_result"
    }
   ],
   "source": [
    "total_sulfur_dioxide_p90 = df.total_sulfur_dioxide.describe(percentiles=[.9]).T['90%']\n",
    "\n",
    "free_sulfur_dioxide_p90 = df.free_sulfur_dioxide.describe(percentiles=[.9]).T['90%']\n",
    "\n",
    "total_sulfur_dioxide_p90, free_sulfur_dioxide_p90"
   ]
  },
  {
   "cell_type": "code",
   "execution_count": 52,
   "metadata": {},
   "outputs": [
    {
     "data": {
      "image/png": "[encoded data removed]",
      "text/plain": [
       "<Figure size 432x432 with 3 Axes>"
      ]
     },
     "metadata": {},
     "output_type": "display_data"
    }
   ],
   "source": [
    "mask = (df.total_sulfur_dioxide < total_sulfur_dioxide_p90) & \\\n",
    "       (df.free_sulfur_dioxide < free_sulfur_dioxide_p90)\n",
    "\n",
    "sns.jointplot(data=df[mask],\n",
    "              x='total_sulfur_dioxide', \n",
    "              y='free_sulfur_dioxide', \n",
    "              kind='kde');"
   ]
  },
  {
   "cell_type": "markdown",
   "metadata": {},
   "source": [
    "Sometimes, zooming in to a region where most of your data points lie can help reveal patterns that are otherwise not visible."
   ]
  },
  {
   "cell_type": "code",
   "execution_count": 54,
   "metadata": {},
   "outputs": [
    {
     "data": {
      "text/html": [
       "<div>\n",
       "<style scoped>\n",
       "    .dataframe tbody tr th:only-of-type {\n",
       "        vertical-align: middle;\n",
       "    }\n",
       "\n",
       "    .dataframe tbody tr th {\n",
       "        vertical-align: top;\n",
       "    }\n",
       "\n",
       "    .dataframe thead th {\n",
       "        text-align: right;\n",
       "    }\n",
       "</style>\n",
       "<table border=\"1\" class=\"dataframe\">\n",
       "  <thead>\n",
       "    <tr style=\"text-align: right;\">\n",
       "      <th></th>\n",
       "      <th>total_sulfur_dioxide</th>\n",
       "      <th>free_sulfur_dioxide</th>\n",
       "    </tr>\n",
       "  </thead>\n",
       "  <tbody>\n",
       "    <tr>\n",
       "      <th>total_sulfur_dioxide</th>\n",
       "      <td>1.000000</td>\n",
       "      <td>0.689806</td>\n",
       "    </tr>\n",
       "    <tr>\n",
       "      <th>free_sulfur_dioxide</th>\n",
       "      <td>0.689806</td>\n",
       "      <td>1.000000</td>\n",
       "    </tr>\n",
       "  </tbody>\n",
       "</table>\n",
       "</div>"
      ],
      "text/plain": [
       "                      total_sulfur_dioxide  free_sulfur_dioxide\n",
       "total_sulfur_dioxide              1.000000             0.689806\n",
       "free_sulfur_dioxide               0.689806             1.000000"
      ]
     },
     "execution_count": 54,
     "metadata": {},
     "output_type": "execute_result"
    }
   ],
   "source": [
    "# let's check the corr coeff in this region\n",
    "\n",
    "df[mask][['total_sulfur_dioxide', 'free_sulfur_dioxide']].corr()"
   ]
  },
  {
   "cell_type": "markdown",
   "metadata": {},
   "source": [
    "The correlation coefficient is actually lower as compared to the corr coefficient calculated based on all data points. This shows how extreme/outlier values can affect the relationships between variables."
   ]
  },
  {
   "cell_type": "markdown",
   "metadata": {},
   "source": [
    "**3. Identify the feature that is most correlated with the wine quality and plot their relationship using an appropriate chart type.**"
   ]
  },
  {
   "cell_type": "code",
   "execution_count": 7,
   "metadata": {},
   "outputs": [
    {
     "data": {
      "text/html": [
       "<div>\n",
       "<style scoped>\n",
       "    .dataframe tbody tr th:only-of-type {\n",
       "        vertical-align: middle;\n",
       "    }\n",
       "\n",
       "    .dataframe tbody tr th {\n",
       "        vertical-align: top;\n",
       "    }\n",
       "\n",
       "    .dataframe thead th {\n",
       "        text-align: right;\n",
       "    }\n",
       "</style>\n",
       "<table border=\"1\" class=\"dataframe\">\n",
       "  <thead>\n",
       "    <tr style=\"text-align: right;\">\n",
       "      <th></th>\n",
       "      <th>var1</th>\n",
       "      <th>var2</th>\n",
       "      <th>corr</th>\n",
       "      <th>abs_corr</th>\n",
       "    </tr>\n",
       "  </thead>\n",
       "  <tbody>\n",
       "    <tr>\n",
       "      <th>142</th>\n",
       "      <td>quality</td>\n",
       "      <td>alcohol</td>\n",
       "      <td>0.444319</td>\n",
       "      <td>0.444319</td>\n",
       "    </tr>\n",
       "    <tr>\n",
       "      <th>139</th>\n",
       "      <td>quality</td>\n",
       "      <td>density</td>\n",
       "      <td>-0.305858</td>\n",
       "      <td>0.305858</td>\n",
       "    </tr>\n",
       "    <tr>\n",
       "      <th>134</th>\n",
       "      <td>quality</td>\n",
       "      <td>citric acid</td>\n",
       "      <td>0.085532</td>\n",
       "      <td>0.085532</td>\n",
       "    </tr>\n",
       "    <tr>\n",
       "      <th>132</th>\n",
       "      <td>quality</td>\n",
       "      <td>fixed acidity</td>\n",
       "      <td>-0.076743</td>\n",
       "      <td>0.076743</td>\n",
       "    </tr>\n",
       "    <tr>\n",
       "      <th>137</th>\n",
       "      <td>quality</td>\n",
       "      <td>free sulfur dioxide</td>\n",
       "      <td>0.055463</td>\n",
       "      <td>0.055463</td>\n",
       "    </tr>\n",
       "    <tr>\n",
       "      <th>138</th>\n",
       "      <td>quality</td>\n",
       "      <td>total sulfur dioxide</td>\n",
       "      <td>-0.041385</td>\n",
       "      <td>0.041385</td>\n",
       "    </tr>\n",
       "    <tr>\n",
       "      <th>135</th>\n",
       "      <td>quality</td>\n",
       "      <td>residual sugar</td>\n",
       "      <td>-0.036980</td>\n",
       "      <td>0.036980</td>\n",
       "    </tr>\n",
       "    <tr>\n",
       "      <th>140</th>\n",
       "      <td>quality</td>\n",
       "      <td>pH</td>\n",
       "      <td>0.019506</td>\n",
       "      <td>0.019506</td>\n",
       "    </tr>\n",
       "  </tbody>\n",
       "</table>\n",
       "</div>"
      ],
      "text/plain": [
       "        var1                  var2      corr  abs_corr\n",
       "142  quality               alcohol  0.444319  0.444319\n",
       "139  quality               density -0.305858  0.305858\n",
       "134  quality           citric acid  0.085532  0.085532\n",
       "132  quality         fixed acidity -0.076743  0.076743\n",
       "137  quality   free sulfur dioxide  0.055463  0.055463\n",
       "138  quality  total sulfur dioxide -0.041385  0.041385\n",
       "135  quality        residual sugar -0.036980  0.036980\n",
       "140  quality                    pH  0.019506  0.019506"
      ]
     },
     "execution_count": 7,
     "metadata": {},
     "output_type": "execute_result"
    }
   ],
   "source": [
    "df_corr[df_corr['var1'] == 'quality'].sort_values(by='abs_corr', ascending=False)"
   ]
  },
  {
   "cell_type": "markdown",
   "metadata": {},
   "source": [
    "The feature most correlated with `quality`:"
   ]
  },
  {
   "cell_type": "code",
   "execution_count": 56,
   "metadata": {},
   "outputs": [
    {
     "data": {
      "text/plain": [
       "'alcohol'"
      ]
     },
     "execution_count": 56,
     "metadata": {},
     "output_type": "execute_result"
    }
   ],
   "source": [
    "most_corr_with_y = df_corr[df_corr['var1'] == 'quality'].sort_values(by='abs_corr', \n",
    "                                                                     ascending=False).head(1)['var2'].values[0]\n",
    "\n",
    "most_corr_with_y"
   ]
  },
  {
   "cell_type": "markdown",
   "metadata": {},
   "source": [
    "So... the higher the alcohol content, the higher the wine quality! "
   ]
  },
  {
   "cell_type": "code",
   "execution_count": 9,
   "metadata": {},
   "outputs": [
    {
     "data": {
      "image/png": "[encoded data removed]",
      "text/plain": [
       "<Figure size 864x648 with 1 Axes>"
      ]
     },
     "metadata": {},
     "output_type": "display_data"
    }
   ],
   "source": [
    "plt.figure(figsize=[12, 9])\n",
    "sns.set_style('darkgrid')\n",
    "\n",
    "sns.boxplot(x='quality', y=most_corr_with_y, data=df)\n",
    "\n",
    "plt.xlabel('QUALITY', fontsize=14, weight='bold')\n",
    "plt.ylabel('ALCOHOL', fontsize=14, weight='bold');"
   ]
  },
  {
   "cell_type": "markdown",
   "metadata": {},
   "source": [
    "Although `quality` is a numeric variable in this dataset, it's actually an ordinal variable (with 7 distinct values in this dataset). A box plot (like above) or a violin plot would be more appropriate to view how another continuous variable varies across the different values of `quality`."
   ]
  },
  {
   "cell_type": "markdown",
   "metadata": {},
   "source": [
    "**4. Calcuate average alcohol content for each wine quality score. Store the average alcohol content for the best quality wine in a variable called `avg_alcohol_for_best_wine` and print it using the following statement: `print(f'The average alcohol content for best wine is {avg_alcohol_for_best_wine}.')`**"
   ]
  },
  {
   "cell_type": "code",
   "execution_count": 57,
   "metadata": {},
   "outputs": [
    {
     "data": {
      "text/plain": [
       "quality\n",
       "3    10.215000\n",
       "4    10.180093\n",
       "5     9.837783\n",
       "6    10.587553\n",
       "7    11.386006\n",
       "8    11.678756\n",
       "9    12.180000\n",
       "Name: alcohol, dtype: float64"
      ]
     },
     "execution_count": 57,
     "metadata": {},
     "output_type": "execute_result"
    }
   ],
   "source": [
    "# avg density by quality\n",
    "\n",
    "df.groupby(['quality'])['alcohol'].mean()"
   ]
  },
  {
   "cell_type": "code",
   "execution_count": 59,
   "metadata": {},
   "outputs": [
    {
     "name": "stdout",
     "output_type": "stream",
     "text": [
      "The average alcohol content for best wine is 12.18.\n"
     ]
    }
   ],
   "source": [
    "# average density for the best wine\n",
    "\n",
    "avg_alcohol_for_best_wine = df[df.quality == df.quality.max()]['alcohol'].mean()\n",
    "\n",
    "print(f'The average alcohol content for best wine is {avg_alcohol_for_best_wine}.')"
   ]
  },
  {
   "cell_type": "markdown",
   "metadata": {},
   "source": [
    "**5. Calculate correlation coefficients between wine quality and all other features _separately for each wine type_. Identify any one feature that has contradictory relationships across the wine type. (For example, a feture has positive correlation with the wine quality for red wines, and negative correlation coefficients with the wine quality of white wines.) Plot the relationship of the selected feature with wine quality using an appropriate chart type.**"
   ]
  },
  {
   "cell_type": "code",
   "execution_count": 10,
   "metadata": {},
   "outputs": [
    {
     "data": {
      "text/html": [
       "<div>\n",
       "<style scoped>\n",
       "    .dataframe tbody tr th:only-of-type {\n",
       "        vertical-align: middle;\n",
       "    }\n",
       "\n",
       "    .dataframe tbody tr th {\n",
       "        vertical-align: top;\n",
       "    }\n",
       "\n",
       "    .dataframe thead th {\n",
       "        text-align: right;\n",
       "    }\n",
       "</style>\n",
       "<table border=\"1\" class=\"dataframe\">\n",
       "  <thead>\n",
       "    <tr style=\"text-align: right;\">\n",
       "      <th></th>\n",
       "      <th>feature</th>\n",
       "      <th>corr_red</th>\n",
       "      <th>corr_white</th>\n",
       "    </tr>\n",
       "  </thead>\n",
       "  <tbody>\n",
       "    <tr>\n",
       "      <th>0</th>\n",
       "      <td>fixed acidity</td>\n",
       "      <td>0.062025</td>\n",
       "      <td>-0.054607</td>\n",
       "    </tr>\n",
       "    <tr>\n",
       "      <th>2</th>\n",
       "      <td>citric acid</td>\n",
       "      <td>0.117377</td>\n",
       "      <td>-0.010085</td>\n",
       "    </tr>\n",
       "    <tr>\n",
       "      <th>3</th>\n",
       "      <td>residual sugar</td>\n",
       "      <td>0.017757</td>\n",
       "      <td>-0.081373</td>\n",
       "    </tr>\n",
       "    <tr>\n",
       "      <th>5</th>\n",
       "      <td>free sulfur dioxide</td>\n",
       "      <td>-0.038301</td>\n",
       "      <td>0.004333</td>\n",
       "    </tr>\n",
       "    <tr>\n",
       "      <th>8</th>\n",
       "      <td>pH</td>\n",
       "      <td>-0.010949</td>\n",
       "      <td>0.070009</td>\n",
       "    </tr>\n",
       "  </tbody>\n",
       "</table>\n",
       "</div>"
      ],
      "text/plain": [
       "               feature  corr_red  corr_white\n",
       "0        fixed acidity  0.062025   -0.054607\n",
       "2          citric acid  0.117377   -0.010085\n",
       "3       residual sugar  0.017757   -0.081373\n",
       "5  free sulfur dioxide -0.038301    0.004333\n",
       "8                   pH -0.010949    0.070009"
      ]
     },
     "execution_count": 10,
     "metadata": {},
     "output_type": "execute_result"
    }
   ],
   "source": [
    "corr_with_quality_red, corr_with_quality_white = [], []\n",
    "\n",
    "df_red = df[df['wine type'] == 'Red']\n",
    "df_white = df[df['wine type'] == 'White']\n",
    "\n",
    "for col in df.columns[:-1]:\n",
    "    corr_with_quality_red.append(df_red['quality'].corr(df[col]))\n",
    "    corr_with_quality_white.append(df_white['quality'].corr(df[col]))\n",
    "    \n",
    "# create a dataframe to store the results\n",
    "df_corr_diff = pd.DataFrame(columns=['feature', 'corr_red', 'corr_white'])\n",
    "\n",
    "df_corr_diff['feature'] = df.columns[:-1].values\n",
    "df_corr_diff['corr_red'] = corr_with_quality_red\n",
    "df_corr_diff['corr_white'] = corr_with_quality_white\n",
    "\n",
    "# let's select only those rows where the correlations are contradictory \n",
    "#  i.e., have the opposite signs\n",
    "df_corr_diff = df_corr_diff[df_corr_diff['corr_red'] * df_corr_diff['corr_white'] < 0]\n",
    "\n",
    "df_corr_diff"
   ]
  },
  {
   "cell_type": "markdown",
   "metadata": {},
   "source": [
    "Let's pick `pH` from this list and visualize its relationship with `quality`."
   ]
  },
  {
   "cell_type": "code",
   "execution_count": 11,
   "metadata": {},
   "outputs": [
    {
     "data": {
      "image/png": "[encoded data removed]",
      "text/plain": [
       "<Figure size 864x432 with 2 Axes>"
      ]
     },
     "metadata": {},
     "output_type": "display_data"
    }
   ],
   "source": [
    "fig, axes = plt.subplots(nrows=1, ncols=2, figsize=(12, 6))\n",
    "fig.tight_layout()\n",
    "\n",
    "wine_types = df['wine type'].unique()\n",
    "\n",
    "for i, ax in enumerate(axes.flat):\n",
    "    wine_type = wine_types[i]\n",
    "    sns.boxplot(x='quality', y='pH', data=df[df['wine type'] == wine_type], ax=ax)\n",
    "    ax.set_title(wine_type.upper(), weight='bold', size=12)\n",
    "    ax.set_xlabel('QUALITY', fontsize=10, weight='bold')\n",
    "    ax.set_ylabel('pH', fontsize=10, weight='bold');"
   ]
  },
  {
   "cell_type": "markdown",
   "metadata": {},
   "source": [
    "**Observation:**\n",
    "We can see here that for white wines, the overall relationship is positive -- however, for the lower quality wines, the relationship is negative."
   ]
  },
  {
   "cell_type": "markdown",
   "metadata": {},
   "source": [
    "**Note**: We can also use the `hue` option to include both box plots in one chart."
   ]
  },
  {
   "cell_type": "markdown",
   "metadata": {},
   "source": [
    "**6. Create a dataframe (see example below) that contains one the overall average for each variable as well as its average value for Red and White wines. Divide both averages by the overall average to create an index for each variable. Multiply the index columns by 100. Which two variables have the highest index?**\n",
    "\n",
    "|                 | Red      | White    | Overall  | White_Index | Red_Index  |\n",
    "|-----------------|----------|----------|----------|-------------|------------|\n",
    "|fixed acidity\t  | 8.319637 | 6.854788 | 7.215307 | 95.003409   | 115.305381 |\n",
    "|volatile acidity |\t0.527821 | 0.278241\t| 0.339666 | 81.916094   | 155.3939   |\n",
    "|.................|..........|..........|..........|.............|............|"
   ]
  },
  {
   "cell_type": "code",
   "execution_count": 47,
   "metadata": {},
   "outputs": [
    {
     "data": {
      "text/html": [
       "<div>\n",
       "<style scoped>\n",
       "    .dataframe tbody tr th:only-of-type {\n",
       "        vertical-align: middle;\n",
       "    }\n",
       "\n",
       "    .dataframe tbody tr th {\n",
       "        vertical-align: top;\n",
       "    }\n",
       "\n",
       "    .dataframe thead th {\n",
       "        text-align: right;\n",
       "    }\n",
       "</style>\n",
       "<table border=\"1\" class=\"dataframe\">\n",
       "  <thead>\n",
       "    <tr style=\"text-align: right;\">\n",
       "      <th></th>\n",
       "      <th>Red</th>\n",
       "      <th>White</th>\n",
       "      <th>Overall</th>\n",
       "      <th>While_Index</th>\n",
       "      <th>Red_Index</th>\n",
       "    </tr>\n",
       "  </thead>\n",
       "  <tbody>\n",
       "    <tr>\n",
       "      <th>fixed acidity</th>\n",
       "      <td>8.319637</td>\n",
       "      <td>6.854788</td>\n",
       "      <td>7.215307</td>\n",
       "      <td>95.003409</td>\n",
       "      <td>115.305381</td>\n",
       "    </tr>\n",
       "    <tr>\n",
       "      <th>volatile acidity</th>\n",
       "      <td>0.527821</td>\n",
       "      <td>0.278241</td>\n",
       "      <td>0.339666</td>\n",
       "      <td>81.916094</td>\n",
       "      <td>155.393979</td>\n",
       "    </tr>\n",
       "    <tr>\n",
       "      <th>citric acid</th>\n",
       "      <td>0.270976</td>\n",
       "      <td>0.334192</td>\n",
       "      <td>0.318633</td>\n",
       "      <td>104.882822</td>\n",
       "      <td>85.043114</td>\n",
       "    </tr>\n",
       "    <tr>\n",
       "      <th>residual sugar</th>\n",
       "      <td>2.538806</td>\n",
       "      <td>6.391415</td>\n",
       "      <td>5.443235</td>\n",
       "      <td>117.419411</td>\n",
       "      <td>46.641480</td>\n",
       "    </tr>\n",
       "    <tr>\n",
       "      <th>chlorides</th>\n",
       "      <td>0.087467</td>\n",
       "      <td>0.045772</td>\n",
       "      <td>0.056034</td>\n",
       "      <td>81.686956</td>\n",
       "      <td>156.095866</td>\n",
       "    </tr>\n",
       "    <tr>\n",
       "      <th>free sulfur dioxide</th>\n",
       "      <td>15.874922</td>\n",
       "      <td>35.308085</td>\n",
       "      <td>30.525319</td>\n",
       "      <td>115.668192</td>\n",
       "      <td>52.005752</td>\n",
       "    </tr>\n",
       "    <tr>\n",
       "      <th>total sulfur dioxide</th>\n",
       "      <td>46.467792</td>\n",
       "      <td>138.360657</td>\n",
       "      <td>115.744574</td>\n",
       "      <td>119.539648</td>\n",
       "      <td>40.146843</td>\n",
       "    </tr>\n",
       "    <tr>\n",
       "      <th>density</th>\n",
       "      <td>0.996747</td>\n",
       "      <td>0.994027</td>\n",
       "      <td>0.994697</td>\n",
       "      <td>99.932717</td>\n",
       "      <td>100.206098</td>\n",
       "    </tr>\n",
       "    <tr>\n",
       "      <th>pH</th>\n",
       "      <td>3.311113</td>\n",
       "      <td>3.188267</td>\n",
       "      <td>3.218501</td>\n",
       "      <td>99.060612</td>\n",
       "      <td>102.877500</td>\n",
       "    </tr>\n",
       "    <tr>\n",
       "      <th>sulphates</th>\n",
       "      <td>0.658149</td>\n",
       "      <td>0.489847</td>\n",
       "      <td>0.531268</td>\n",
       "      <td>92.203299</td>\n",
       "      <td>123.882579</td>\n",
       "    </tr>\n",
       "    <tr>\n",
       "      <th>alcohol</th>\n",
       "      <td>10.422983</td>\n",
       "      <td>10.514267</td>\n",
       "      <td>10.491801</td>\n",
       "      <td>100.214131</td>\n",
       "      <td>99.344081</td>\n",
       "    </tr>\n",
       "    <tr>\n",
       "      <th>quality</th>\n",
       "      <td>5.636023</td>\n",
       "      <td>5.877909</td>\n",
       "      <td>5.818378</td>\n",
       "      <td>101.023166</td>\n",
       "      <td>96.865876</td>\n",
       "    </tr>\n",
       "  </tbody>\n",
       "</table>\n",
       "</div>"
      ],
      "text/plain": [
       "                            Red       White     Overall  While_Index  \\\n",
       "fixed acidity          8.319637    6.854788    7.215307    95.003409   \n",
       "volatile acidity       0.527821    0.278241    0.339666    81.916094   \n",
       "citric acid            0.270976    0.334192    0.318633   104.882822   \n",
       "residual sugar         2.538806    6.391415    5.443235   117.419411   \n",
       "chlorides              0.087467    0.045772    0.056034    81.686956   \n",
       "free sulfur dioxide   15.874922   35.308085   30.525319   115.668192   \n",
       "total sulfur dioxide  46.467792  138.360657  115.744574   119.539648   \n",
       "density                0.996747    0.994027    0.994697    99.932717   \n",
       "pH                     3.311113    3.188267    3.218501    99.060612   \n",
       "sulphates              0.658149    0.489847    0.531268    92.203299   \n",
       "alcohol               10.422983   10.514267   10.491801   100.214131   \n",
       "quality                5.636023    5.877909    5.818378   101.023166   \n",
       "\n",
       "                       Red_Index  \n",
       "fixed acidity         115.305381  \n",
       "volatile acidity      155.393979  \n",
       "citric acid            85.043114  \n",
       "residual sugar         46.641480  \n",
       "chlorides             156.095866  \n",
       "free sulfur dioxide    52.005752  \n",
       "total sulfur dioxide   40.146843  \n",
       "density               100.206098  \n",
       "pH                    102.877500  \n",
       "sulphates             123.882579  \n",
       "alcohol                99.344081  \n",
       "quality                96.865876  "
      ]
     },
     "execution_count": 47,
     "metadata": {},
     "output_type": "execute_result"
    }
   ],
   "source": [
    "grp_avg = df.groupby(['wine type']).mean().T\n",
    "\n",
    "overall_avg = df.mean().T.to_frame()\n",
    "overall_avg.columns = ['Overall']\n",
    "\n",
    "df_avg = grp_avg.join(overall_avg)\n",
    "\n",
    "df_avg['White_Index'] = 100 * df_avg['White'] / df_avg['Overall']\n",
    "df_avg['Red_Index'] = 100 * df_avg['Red'] / df_avg['Overall']\n",
    "\n",
    "df_avg"
   ]
  },
  {
   "cell_type": "markdown",
   "metadata": {},
   "source": [
    "This helps understand which attributes differ the most (on average) across white and red wines: chlorides and volatile acidity. "
   ]
  },
  {
   "cell_type": "markdown",
   "metadata": {},
   "source": [
    "**7. Replace 'Red' with 1 and 'White' with 0 in the `wine quality` column. What percentage of all records in the dataset are for Red wines?**"
   ]
  },
  {
   "cell_type": "code",
   "execution_count": 24,
   "metadata": {},
   "outputs": [
    {
     "name": "stdout",
     "output_type": "stream",
     "text": [
      "Red wines: 24.6%\n"
     ]
    }
   ],
   "source": [
    "df['wine type'] = df['wine type'].replace('Red', 1).replace('White', 0)\n",
    "\n",
    "pctg_red = df['wine type'].mean()\n",
    "\n",
    "print(f'Red wines: {pctg_red:.1%}')"
   ]
  }
 ],
 "metadata": {
  "kernelspec": {
   "display_name": "Python 3",
   "language": "python",
   "name": "python3"
  },
  "language_info": {
   "codemirror_mode": {
    "name": "ipython",
    "version": 3
   },
   "file_extension": ".py",
   "mimetype": "text/x-python",
   "name": "python",
   "nbconvert_exporter": "python",
   "pygments_lexer": "ipython3",
   "version": "3.8.5"
  }
 },
 "nbformat": 4,
 "nbformat_minor": 2
}
