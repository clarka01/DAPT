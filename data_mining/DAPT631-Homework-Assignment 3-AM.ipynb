{
 "cells": [
  {
   "cell_type": "markdown",
   "metadata": {},
   "source": [
    "# Purchase model using e-commerce data"
   ]
  },
  {
   "cell_type": "markdown",
   "metadata": {},
   "source": [
    "## Import Packages"
   ]
  },
  {
   "cell_type": "code",
   "execution_count": 1,
   "metadata": {},
   "outputs": [],
   "source": [
    "# data processing\n",
    "import numpy as np\n",
    "import pandas as pd\n",
    "from datetime import date\n",
    "import datetime as dt\n",
    "from sklearn.tree import DecisionTreeClassifier\n",
    "from sklearn.metrics import accuracy_score, f1_score, precision_score, recall_score, classification_report, confusion_matrix\n",
    "from sklearn.metrics import roc_auc_score\n",
    "from sklearn.metrics import roc_curve\n",
    "from sklearn.metrics import average_precision_score\n",
    "from sklearn.model_selection import train_test_split\n",
    "from sklearn.linear_model import LogisticRegression\n",
    "# plotting\n",
    "import matplotlib.pyplot as plt\n",
    "import seaborn as sns\n",
    "\n",
    "from functools import reduce"
   ]
  },
  {
   "cell_type": "markdown",
   "metadata": {},
   "source": [
    "### Setup"
   ]
  },
  {
   "cell_type": "code",
   "execution_count": 2,
   "metadata": {},
   "outputs": [],
   "source": [
    "# full path of the orders dataset\n",
    "orders_file = '../data/olist_orders_dataset.csv'\n",
    "\n",
    "# full path of the customer dataset\n",
    "cust_file = '../data/olist_customers_dataset.csv'"
   ]
  },
  {
   "cell_type": "markdown",
   "metadata": {},
   "source": [
    "### Read files"
   ]
  },
  {
   "cell_type": "code",
   "execution_count": 3,
   "metadata": {},
   "outputs": [],
   "source": [
    "orders = pd.read_csv(r\"../data/olist_orders_dataset.csv\", encoding='ISO-8859-2')\n",
    "\n",
    "customers = pd.read_csv(r\"../data/olist_customers_dataset.csv\", encoding='ISO-8859-2')\n"
   ]
  },
  {
   "cell_type": "code",
   "execution_count": 4,
   "metadata": {},
   "outputs": [
    {
     "data": {
      "text/plain": [
       "(99441, 8)"
      ]
     },
     "execution_count": 4,
     "metadata": {},
     "output_type": "execute_result"
    }
   ],
   "source": [
    "orders.shape"
   ]
  },
  {
   "cell_type": "code",
   "execution_count": 5,
   "metadata": {},
   "outputs": [],
   "source": [
    "#orders['order_purchase_timestamp'] = pd.to_datetime(orders['order_purchase_timestamp'])\n",
    "\n",
    "orders[['order_purchase_timestamp', 'order_approved_at','order_delivered_carrier_date',\n",
    "    'order_delivered_customer_date','order_estimated_delivery_date']]=orders[[\n",
    "    'order_purchase_timestamp', 'order_approved_at','order_delivered_carrier_date',\n",
    "    'order_delivered_customer_date','order_estimated_delivery_date']].apply(pd.to_datetime)"
   ]
  },
  {
   "cell_type": "markdown",
   "metadata": {},
   "source": [
    "## Exploratory"
   ]
  },
  {
   "cell_type": "code",
   "execution_count": 6,
   "metadata": {
    "scrolled": true
   },
   "outputs": [
    {
     "data": {
      "text/html": [
       "<div>\n",
       "<style scoped>\n",
       "    .dataframe tbody tr th:only-of-type {\n",
       "        vertical-align: middle;\n",
       "    }\n",
       "\n",
       "    .dataframe tbody tr th {\n",
       "        vertical-align: top;\n",
       "    }\n",
       "\n",
       "    .dataframe thead th {\n",
       "        text-align: right;\n",
       "    }\n",
       "</style>\n",
       "<table border=\"1\" class=\"dataframe\">\n",
       "  <thead>\n",
       "    <tr style=\"text-align: right;\">\n",
       "      <th></th>\n",
       "      <th>order_id</th>\n",
       "      <th>customer_id</th>\n",
       "      <th>order_status</th>\n",
       "      <th>order_purchase_timestamp</th>\n",
       "      <th>order_approved_at</th>\n",
       "      <th>order_delivered_carrier_date</th>\n",
       "      <th>order_delivered_customer_date</th>\n",
       "      <th>order_estimated_delivery_date</th>\n",
       "    </tr>\n",
       "  </thead>\n",
       "  <tbody>\n",
       "    <tr>\n",
       "      <th>0</th>\n",
       "      <td>e481f51cbdc54678b7cc49136f2d6af7</td>\n",
       "      <td>9ef432eb6251297304e76186b10a928d</td>\n",
       "      <td>delivered</td>\n",
       "      <td>2017-10-02 10:56:33</td>\n",
       "      <td>2017-10-02 11:07:15</td>\n",
       "      <td>2017-10-04 19:55:00</td>\n",
       "      <td>2017-10-10 21:25:13</td>\n",
       "      <td>2017-10-18</td>\n",
       "    </tr>\n",
       "    <tr>\n",
       "      <th>1</th>\n",
       "      <td>53cdb2fc8bc7dce0b6741e2150273451</td>\n",
       "      <td>b0830fb4747a6c6d20dea0b8c802d7ef</td>\n",
       "      <td>delivered</td>\n",
       "      <td>2018-07-24 20:41:37</td>\n",
       "      <td>2018-07-26 03:24:27</td>\n",
       "      <td>2018-07-26 14:31:00</td>\n",
       "      <td>2018-08-07 15:27:45</td>\n",
       "      <td>2018-08-13</td>\n",
       "    </tr>\n",
       "    <tr>\n",
       "      <th>2</th>\n",
       "      <td>47770eb9100c2d0c44946d9cf07ec65d</td>\n",
       "      <td>41ce2a54c0b03bf3443c3d931a367089</td>\n",
       "      <td>delivered</td>\n",
       "      <td>2018-08-08 08:38:49</td>\n",
       "      <td>2018-08-08 08:55:23</td>\n",
       "      <td>2018-08-08 13:50:00</td>\n",
       "      <td>2018-08-17 18:06:29</td>\n",
       "      <td>2018-09-04</td>\n",
       "    </tr>\n",
       "    <tr>\n",
       "      <th>3</th>\n",
       "      <td>949d5b44dbf5de918fe9c16f97b45f8a</td>\n",
       "      <td>f88197465ea7920adcdbec7375364d82</td>\n",
       "      <td>delivered</td>\n",
       "      <td>2017-11-18 19:28:06</td>\n",
       "      <td>2017-11-18 19:45:59</td>\n",
       "      <td>2017-11-22 13:39:59</td>\n",
       "      <td>2017-12-02 00:28:42</td>\n",
       "      <td>2017-12-15</td>\n",
       "    </tr>\n",
       "    <tr>\n",
       "      <th>4</th>\n",
       "      <td>ad21c59c0840e6cb83a9ceb5573f8159</td>\n",
       "      <td>8ab97904e6daea8866dbdbc4fb7aad2c</td>\n",
       "      <td>delivered</td>\n",
       "      <td>2018-02-13 21:18:39</td>\n",
       "      <td>2018-02-13 22:20:29</td>\n",
       "      <td>2018-02-14 19:46:34</td>\n",
       "      <td>2018-02-16 18:17:02</td>\n",
       "      <td>2018-02-26</td>\n",
       "    </tr>\n",
       "  </tbody>\n",
       "</table>\n",
       "</div>"
      ],
      "text/plain": [
       "                           order_id                       customer_id  \\\n",
       "0  e481f51cbdc54678b7cc49136f2d6af7  9ef432eb6251297304e76186b10a928d   \n",
       "1  53cdb2fc8bc7dce0b6741e2150273451  b0830fb4747a6c6d20dea0b8c802d7ef   \n",
       "2  47770eb9100c2d0c44946d9cf07ec65d  41ce2a54c0b03bf3443c3d931a367089   \n",
       "3  949d5b44dbf5de918fe9c16f97b45f8a  f88197465ea7920adcdbec7375364d82   \n",
       "4  ad21c59c0840e6cb83a9ceb5573f8159  8ab97904e6daea8866dbdbc4fb7aad2c   \n",
       "\n",
       "  order_status order_purchase_timestamp   order_approved_at  \\\n",
       "0    delivered      2017-10-02 10:56:33 2017-10-02 11:07:15   \n",
       "1    delivered      2018-07-24 20:41:37 2018-07-26 03:24:27   \n",
       "2    delivered      2018-08-08 08:38:49 2018-08-08 08:55:23   \n",
       "3    delivered      2017-11-18 19:28:06 2017-11-18 19:45:59   \n",
       "4    delivered      2018-02-13 21:18:39 2018-02-13 22:20:29   \n",
       "\n",
       "  order_delivered_carrier_date order_delivered_customer_date  \\\n",
       "0          2017-10-04 19:55:00           2017-10-10 21:25:13   \n",
       "1          2018-07-26 14:31:00           2018-08-07 15:27:45   \n",
       "2          2018-08-08 13:50:00           2018-08-17 18:06:29   \n",
       "3          2017-11-22 13:39:59           2017-12-02 00:28:42   \n",
       "4          2018-02-14 19:46:34           2018-02-16 18:17:02   \n",
       "\n",
       "  order_estimated_delivery_date  \n",
       "0                    2017-10-18  \n",
       "1                    2018-08-13  \n",
       "2                    2018-09-04  \n",
       "3                    2017-12-15  \n",
       "4                    2018-02-26  "
      ]
     },
     "execution_count": 6,
     "metadata": {},
     "output_type": "execute_result"
    }
   ],
   "source": [
    "orders.head()"
   ]
  },
  {
   "cell_type": "code",
   "execution_count": 7,
   "metadata": {
    "scrolled": true
   },
   "outputs": [
    {
     "data": {
      "text/html": [
       "<div>\n",
       "<style scoped>\n",
       "    .dataframe tbody tr th:only-of-type {\n",
       "        vertical-align: middle;\n",
       "    }\n",
       "\n",
       "    .dataframe tbody tr th {\n",
       "        vertical-align: top;\n",
       "    }\n",
       "\n",
       "    .dataframe thead th {\n",
       "        text-align: right;\n",
       "    }\n",
       "</style>\n",
       "<table border=\"1\" class=\"dataframe\">\n",
       "  <thead>\n",
       "    <tr style=\"text-align: right;\">\n",
       "      <th></th>\n",
       "      <th>customer_id</th>\n",
       "      <th>customer_unique_id</th>\n",
       "      <th>customer_zip_code_prefix</th>\n",
       "      <th>customer_city</th>\n",
       "      <th>customer_state</th>\n",
       "    </tr>\n",
       "  </thead>\n",
       "  <tbody>\n",
       "    <tr>\n",
       "      <th>0</th>\n",
       "      <td>06b8999e2fba1a1fbc88172c00ba8bc7</td>\n",
       "      <td>861eff4711a542e4b93843c6dd7febb0</td>\n",
       "      <td>14409</td>\n",
       "      <td>franca</td>\n",
       "      <td>SP</td>\n",
       "    </tr>\n",
       "    <tr>\n",
       "      <th>1</th>\n",
       "      <td>18955e83d337fd6b2def6b18a428ac77</td>\n",
       "      <td>290c77bc529b7ac935b93aa66c333dc3</td>\n",
       "      <td>9790</td>\n",
       "      <td>sao bernardo do campo</td>\n",
       "      <td>SP</td>\n",
       "    </tr>\n",
       "    <tr>\n",
       "      <th>2</th>\n",
       "      <td>4e7b3e00288586ebd08712fdd0374a03</td>\n",
       "      <td>060e732b5b29e8181a18229c7b0b2b5e</td>\n",
       "      <td>1151</td>\n",
       "      <td>sao paulo</td>\n",
       "      <td>SP</td>\n",
       "    </tr>\n",
       "    <tr>\n",
       "      <th>3</th>\n",
       "      <td>b2b6027bc5c5109e529d4dc6358b12c3</td>\n",
       "      <td>259dac757896d24d7702b9acbbff3f3c</td>\n",
       "      <td>8775</td>\n",
       "      <td>mogi das cruzes</td>\n",
       "      <td>SP</td>\n",
       "    </tr>\n",
       "    <tr>\n",
       "      <th>4</th>\n",
       "      <td>4f2d8ab171c80ec8364f7c12e35b23ad</td>\n",
       "      <td>345ecd01c38d18a9036ed96c73b8d066</td>\n",
       "      <td>13056</td>\n",
       "      <td>campinas</td>\n",
       "      <td>SP</td>\n",
       "    </tr>\n",
       "  </tbody>\n",
       "</table>\n",
       "</div>"
      ],
      "text/plain": [
       "                        customer_id                customer_unique_id  \\\n",
       "0  06b8999e2fba1a1fbc88172c00ba8bc7  861eff4711a542e4b93843c6dd7febb0   \n",
       "1  18955e83d337fd6b2def6b18a428ac77  290c77bc529b7ac935b93aa66c333dc3   \n",
       "2  4e7b3e00288586ebd08712fdd0374a03  060e732b5b29e8181a18229c7b0b2b5e   \n",
       "3  b2b6027bc5c5109e529d4dc6358b12c3  259dac757896d24d7702b9acbbff3f3c   \n",
       "4  4f2d8ab171c80ec8364f7c12e35b23ad  345ecd01c38d18a9036ed96c73b8d066   \n",
       "\n",
       "   customer_zip_code_prefix          customer_city customer_state  \n",
       "0                     14409                 franca             SP  \n",
       "1                      9790  sao bernardo do campo             SP  \n",
       "2                      1151              sao paulo             SP  \n",
       "3                      8775        mogi das cruzes             SP  \n",
       "4                     13056               campinas             SP  "
      ]
     },
     "execution_count": 7,
     "metadata": {},
     "output_type": "execute_result"
    }
   ],
   "source": [
    "customers.head()"
   ]
  },
  {
   "cell_type": "markdown",
   "metadata": {},
   "source": [
    "### Merge Orders and Customers"
   ]
  },
  {
   "cell_type": "code",
   "execution_count": 8,
   "metadata": {},
   "outputs": [
    {
     "data": {
      "text/html": [
       "<div>\n",
       "<style scoped>\n",
       "    .dataframe tbody tr th:only-of-type {\n",
       "        vertical-align: middle;\n",
       "    }\n",
       "\n",
       "    .dataframe tbody tr th {\n",
       "        vertical-align: top;\n",
       "    }\n",
       "\n",
       "    .dataframe thead th {\n",
       "        text-align: right;\n",
       "    }\n",
       "</style>\n",
       "<table border=\"1\" class=\"dataframe\">\n",
       "  <thead>\n",
       "    <tr style=\"text-align: right;\">\n",
       "      <th></th>\n",
       "      <th>order_id</th>\n",
       "      <th>customer_id</th>\n",
       "      <th>order_status</th>\n",
       "      <th>order_purchase_timestamp</th>\n",
       "      <th>order_approved_at</th>\n",
       "      <th>order_delivered_carrier_date</th>\n",
       "      <th>order_delivered_customer_date</th>\n",
       "      <th>order_estimated_delivery_date</th>\n",
       "      <th>customer_unique_id</th>\n",
       "      <th>customer_zip_code_prefix</th>\n",
       "      <th>customer_city</th>\n",
       "      <th>customer_state</th>\n",
       "    </tr>\n",
       "  </thead>\n",
       "  <tbody>\n",
       "    <tr>\n",
       "      <th>0</th>\n",
       "      <td>e481f51cbdc54678b7cc49136f2d6af7</td>\n",
       "      <td>9ef432eb6251297304e76186b10a928d</td>\n",
       "      <td>delivered</td>\n",
       "      <td>2017-10-02 10:56:33</td>\n",
       "      <td>2017-10-02 11:07:15</td>\n",
       "      <td>2017-10-04 19:55:00</td>\n",
       "      <td>2017-10-10 21:25:13</td>\n",
       "      <td>2017-10-18</td>\n",
       "      <td>7c396fd4830fd04220f754e42b4e5bff</td>\n",
       "      <td>3149</td>\n",
       "      <td>sao paulo</td>\n",
       "      <td>SP</td>\n",
       "    </tr>\n",
       "    <tr>\n",
       "      <th>1</th>\n",
       "      <td>53cdb2fc8bc7dce0b6741e2150273451</td>\n",
       "      <td>b0830fb4747a6c6d20dea0b8c802d7ef</td>\n",
       "      <td>delivered</td>\n",
       "      <td>2018-07-24 20:41:37</td>\n",
       "      <td>2018-07-26 03:24:27</td>\n",
       "      <td>2018-07-26 14:31:00</td>\n",
       "      <td>2018-08-07 15:27:45</td>\n",
       "      <td>2018-08-13</td>\n",
       "      <td>af07308b275d755c9edb36a90c618231</td>\n",
       "      <td>47813</td>\n",
       "      <td>barreiras</td>\n",
       "      <td>BA</td>\n",
       "    </tr>\n",
       "    <tr>\n",
       "      <th>2</th>\n",
       "      <td>47770eb9100c2d0c44946d9cf07ec65d</td>\n",
       "      <td>41ce2a54c0b03bf3443c3d931a367089</td>\n",
       "      <td>delivered</td>\n",
       "      <td>2018-08-08 08:38:49</td>\n",
       "      <td>2018-08-08 08:55:23</td>\n",
       "      <td>2018-08-08 13:50:00</td>\n",
       "      <td>2018-08-17 18:06:29</td>\n",
       "      <td>2018-09-04</td>\n",
       "      <td>3a653a41f6f9fc3d2a113cf8398680e8</td>\n",
       "      <td>75265</td>\n",
       "      <td>vianopolis</td>\n",
       "      <td>GO</td>\n",
       "    </tr>\n",
       "    <tr>\n",
       "      <th>3</th>\n",
       "      <td>949d5b44dbf5de918fe9c16f97b45f8a</td>\n",
       "      <td>f88197465ea7920adcdbec7375364d82</td>\n",
       "      <td>delivered</td>\n",
       "      <td>2017-11-18 19:28:06</td>\n",
       "      <td>2017-11-18 19:45:59</td>\n",
       "      <td>2017-11-22 13:39:59</td>\n",
       "      <td>2017-12-02 00:28:42</td>\n",
       "      <td>2017-12-15</td>\n",
       "      <td>7c142cf63193a1473d2e66489a9ae977</td>\n",
       "      <td>59296</td>\n",
       "      <td>sao goncalo do amarante</td>\n",
       "      <td>RN</td>\n",
       "    </tr>\n",
       "    <tr>\n",
       "      <th>4</th>\n",
       "      <td>ad21c59c0840e6cb83a9ceb5573f8159</td>\n",
       "      <td>8ab97904e6daea8866dbdbc4fb7aad2c</td>\n",
       "      <td>delivered</td>\n",
       "      <td>2018-02-13 21:18:39</td>\n",
       "      <td>2018-02-13 22:20:29</td>\n",
       "      <td>2018-02-14 19:46:34</td>\n",
       "      <td>2018-02-16 18:17:02</td>\n",
       "      <td>2018-02-26</td>\n",
       "      <td>72632f0f9dd73dfee390c9b22eb56dd6</td>\n",
       "      <td>9195</td>\n",
       "      <td>santo andre</td>\n",
       "      <td>SP</td>\n",
       "    </tr>\n",
       "    <tr>\n",
       "      <th>...</th>\n",
       "      <td>...</td>\n",
       "      <td>...</td>\n",
       "      <td>...</td>\n",
       "      <td>...</td>\n",
       "      <td>...</td>\n",
       "      <td>...</td>\n",
       "      <td>...</td>\n",
       "      <td>...</td>\n",
       "      <td>...</td>\n",
       "      <td>...</td>\n",
       "      <td>...</td>\n",
       "      <td>...</td>\n",
       "    </tr>\n",
       "    <tr>\n",
       "      <th>99436</th>\n",
       "      <td>9c5dedf39a927c1b2549525ed64a053c</td>\n",
       "      <td>39bd1228ee8140590ac3aca26f2dfe00</td>\n",
       "      <td>delivered</td>\n",
       "      <td>2017-03-09 09:54:05</td>\n",
       "      <td>2017-03-09 09:54:05</td>\n",
       "      <td>2017-03-10 11:18:03</td>\n",
       "      <td>2017-03-17 15:08:01</td>\n",
       "      <td>2017-03-28</td>\n",
       "      <td>6359f309b166b0196dbf7ad2ac62bb5a</td>\n",
       "      <td>12209</td>\n",
       "      <td>sao jose dos campos</td>\n",
       "      <td>SP</td>\n",
       "    </tr>\n",
       "    <tr>\n",
       "      <th>99437</th>\n",
       "      <td>63943bddc261676b46f01ca7ac2f7bd8</td>\n",
       "      <td>1fca14ff2861355f6e5f14306ff977a7</td>\n",
       "      <td>delivered</td>\n",
       "      <td>2018-02-06 12:58:58</td>\n",
       "      <td>2018-02-06 13:10:37</td>\n",
       "      <td>2018-02-07 23:22:42</td>\n",
       "      <td>2018-02-28 17:37:56</td>\n",
       "      <td>2018-03-02</td>\n",
       "      <td>da62f9e57a76d978d02ab5362c509660</td>\n",
       "      <td>11722</td>\n",
       "      <td>praia grande</td>\n",
       "      <td>SP</td>\n",
       "    </tr>\n",
       "    <tr>\n",
       "      <th>99438</th>\n",
       "      <td>83c1379a015df1e13d02aae0204711ab</td>\n",
       "      <td>1aa71eb042121263aafbe80c1b562c9c</td>\n",
       "      <td>delivered</td>\n",
       "      <td>2017-08-27 14:46:43</td>\n",
       "      <td>2017-08-27 15:04:16</td>\n",
       "      <td>2017-08-28 20:52:26</td>\n",
       "      <td>2017-09-21 11:24:17</td>\n",
       "      <td>2017-09-27</td>\n",
       "      <td>737520a9aad80b3fbbdad19b66b37b30</td>\n",
       "      <td>45920</td>\n",
       "      <td>nova vicosa</td>\n",
       "      <td>BA</td>\n",
       "    </tr>\n",
       "    <tr>\n",
       "      <th>99439</th>\n",
       "      <td>11c177c8e97725db2631073c19f07b62</td>\n",
       "      <td>b331b74b18dc79bcdf6532d51e1637c1</td>\n",
       "      <td>delivered</td>\n",
       "      <td>2018-01-08 21:28:27</td>\n",
       "      <td>2018-01-08 21:36:21</td>\n",
       "      <td>2018-01-12 15:35:03</td>\n",
       "      <td>2018-01-25 23:32:54</td>\n",
       "      <td>2018-02-15</td>\n",
       "      <td>5097a5312c8b157bb7be58ae360ef43c</td>\n",
       "      <td>28685</td>\n",
       "      <td>japuiba</td>\n",
       "      <td>RJ</td>\n",
       "    </tr>\n",
       "    <tr>\n",
       "      <th>99440</th>\n",
       "      <td>66dea50a8b16d9b4dee7af250b4be1a5</td>\n",
       "      <td>edb027a75a1449115f6b43211ae02a24</td>\n",
       "      <td>delivered</td>\n",
       "      <td>2018-03-08 20:57:30</td>\n",
       "      <td>2018-03-09 11:20:28</td>\n",
       "      <td>2018-03-09 22:11:59</td>\n",
       "      <td>2018-03-16 13:08:30</td>\n",
       "      <td>2018-04-03</td>\n",
       "      <td>60350aa974b26ff12caad89e55993bd6</td>\n",
       "      <td>83750</td>\n",
       "      <td>lapa</td>\n",
       "      <td>PR</td>\n",
       "    </tr>\n",
       "  </tbody>\n",
       "</table>\n",
       "<p>99441 rows × 12 columns</p>\n",
       "</div>"
      ],
      "text/plain": [
       "                               order_id                       customer_id  \\\n",
       "0      e481f51cbdc54678b7cc49136f2d6af7  9ef432eb6251297304e76186b10a928d   \n",
       "1      53cdb2fc8bc7dce0b6741e2150273451  b0830fb4747a6c6d20dea0b8c802d7ef   \n",
       "2      47770eb9100c2d0c44946d9cf07ec65d  41ce2a54c0b03bf3443c3d931a367089   \n",
       "3      949d5b44dbf5de918fe9c16f97b45f8a  f88197465ea7920adcdbec7375364d82   \n",
       "4      ad21c59c0840e6cb83a9ceb5573f8159  8ab97904e6daea8866dbdbc4fb7aad2c   \n",
       "...                                 ...                               ...   \n",
       "99436  9c5dedf39a927c1b2549525ed64a053c  39bd1228ee8140590ac3aca26f2dfe00   \n",
       "99437  63943bddc261676b46f01ca7ac2f7bd8  1fca14ff2861355f6e5f14306ff977a7   \n",
       "99438  83c1379a015df1e13d02aae0204711ab  1aa71eb042121263aafbe80c1b562c9c   \n",
       "99439  11c177c8e97725db2631073c19f07b62  b331b74b18dc79bcdf6532d51e1637c1   \n",
       "99440  66dea50a8b16d9b4dee7af250b4be1a5  edb027a75a1449115f6b43211ae02a24   \n",
       "\n",
       "      order_status order_purchase_timestamp   order_approved_at  \\\n",
       "0        delivered      2017-10-02 10:56:33 2017-10-02 11:07:15   \n",
       "1        delivered      2018-07-24 20:41:37 2018-07-26 03:24:27   \n",
       "2        delivered      2018-08-08 08:38:49 2018-08-08 08:55:23   \n",
       "3        delivered      2017-11-18 19:28:06 2017-11-18 19:45:59   \n",
       "4        delivered      2018-02-13 21:18:39 2018-02-13 22:20:29   \n",
       "...            ...                      ...                 ...   \n",
       "99436    delivered      2017-03-09 09:54:05 2017-03-09 09:54:05   \n",
       "99437    delivered      2018-02-06 12:58:58 2018-02-06 13:10:37   \n",
       "99438    delivered      2017-08-27 14:46:43 2017-08-27 15:04:16   \n",
       "99439    delivered      2018-01-08 21:28:27 2018-01-08 21:36:21   \n",
       "99440    delivered      2018-03-08 20:57:30 2018-03-09 11:20:28   \n",
       "\n",
       "      order_delivered_carrier_date order_delivered_customer_date  \\\n",
       "0              2017-10-04 19:55:00           2017-10-10 21:25:13   \n",
       "1              2018-07-26 14:31:00           2018-08-07 15:27:45   \n",
       "2              2018-08-08 13:50:00           2018-08-17 18:06:29   \n",
       "3              2017-11-22 13:39:59           2017-12-02 00:28:42   \n",
       "4              2018-02-14 19:46:34           2018-02-16 18:17:02   \n",
       "...                            ...                           ...   \n",
       "99436          2017-03-10 11:18:03           2017-03-17 15:08:01   \n",
       "99437          2018-02-07 23:22:42           2018-02-28 17:37:56   \n",
       "99438          2017-08-28 20:52:26           2017-09-21 11:24:17   \n",
       "99439          2018-01-12 15:35:03           2018-01-25 23:32:54   \n",
       "99440          2018-03-09 22:11:59           2018-03-16 13:08:30   \n",
       "\n",
       "      order_estimated_delivery_date                customer_unique_id  \\\n",
       "0                        2017-10-18  7c396fd4830fd04220f754e42b4e5bff   \n",
       "1                        2018-08-13  af07308b275d755c9edb36a90c618231   \n",
       "2                        2018-09-04  3a653a41f6f9fc3d2a113cf8398680e8   \n",
       "3                        2017-12-15  7c142cf63193a1473d2e66489a9ae977   \n",
       "4                        2018-02-26  72632f0f9dd73dfee390c9b22eb56dd6   \n",
       "...                             ...                               ...   \n",
       "99436                    2017-03-28  6359f309b166b0196dbf7ad2ac62bb5a   \n",
       "99437                    2018-03-02  da62f9e57a76d978d02ab5362c509660   \n",
       "99438                    2017-09-27  737520a9aad80b3fbbdad19b66b37b30   \n",
       "99439                    2018-02-15  5097a5312c8b157bb7be58ae360ef43c   \n",
       "99440                    2018-04-03  60350aa974b26ff12caad89e55993bd6   \n",
       "\n",
       "       customer_zip_code_prefix            customer_city customer_state  \n",
       "0                          3149                sao paulo             SP  \n",
       "1                         47813                barreiras             BA  \n",
       "2                         75265               vianopolis             GO  \n",
       "3                         59296  sao goncalo do amarante             RN  \n",
       "4                          9195              santo andre             SP  \n",
       "...                         ...                      ...            ...  \n",
       "99436                     12209      sao jose dos campos             SP  \n",
       "99437                     11722             praia grande             SP  \n",
       "99438                     45920              nova vicosa             BA  \n",
       "99439                     28685                  japuiba             RJ  \n",
       "99440                     83750                     lapa             PR  \n",
       "\n",
       "[99441 rows x 12 columns]"
      ]
     },
     "execution_count": 8,
     "metadata": {},
     "output_type": "execute_result"
    }
   ],
   "source": [
    "orders_cust = pd.merge(orders, customers, on='customer_id', how ='inner')\n",
    "orders_cust.shape\n",
    "\n",
    "orders_cust"
   ]
  },
  {
   "cell_type": "markdown",
   "metadata": {},
   "source": [
    "### Binary Classification Model : DATA PREPARATION"
   ]
  },
  {
   "cell_type": "markdown",
   "metadata": {},
   "source": [
    "Let's build a model to predict whether a customer will make atleast one purchase during the prediction window "
   ]
  },
  {
   "cell_type": "markdown",
   "metadata": {},
   "source": [
    "We will use January 2018 through July 2018, as the prediction window. In other words, we will use all available data prior to January 2018 to predict which customers will make a purchase during the prediction window."
   ]
  },
  {
   "cell_type": "code",
   "execution_count": 9,
   "metadata": {},
   "outputs": [],
   "source": [
    "snapshot_date = date(2017, 12, 31)"
   ]
  },
  {
   "cell_type": "markdown",
   "metadata": {},
   "source": [
    "For creating model attributes (features) we will have to restrict our data to the timeframe prior to the prediction window."
   ]
  },
  {
   "cell_type": "code",
   "execution_count": 10,
   "metadata": {
    "scrolled": false
   },
   "outputs": [
    {
     "data": {
      "text/plain": [
       "0     True\n",
       "1    False\n",
       "2    False\n",
       "3     True\n",
       "4    False\n",
       "Name: order_purchase_timestamp, dtype: bool"
      ]
     },
     "execution_count": 10,
     "metadata": {},
     "output_type": "execute_result"
    }
   ],
   "source": [
    "mask = orders_cust['order_purchase_timestamp'].dt.date <= snapshot_date\n",
    "\n",
    "mask.head()"
   ]
  },
  {
   "cell_type": "code",
   "execution_count": 11,
   "metadata": {},
   "outputs": [
    {
     "data": {
      "text/plain": [
       "(99441, 45430)"
      ]
     },
     "execution_count": 11,
     "metadata": {},
     "output_type": "execute_result"
    }
   ],
   "source": [
    "# apply the filter\n",
    "\n",
    "df_merged = orders_cust[mask]\n",
    "\n",
    "len(orders), len(df_merged)"
   ]
  },
  {
   "cell_type": "code",
   "execution_count": 12,
   "metadata": {},
   "outputs": [
    {
     "data": {
      "text/html": [
       "<div>\n",
       "<style scoped>\n",
       "    .dataframe tbody tr th:only-of-type {\n",
       "        vertical-align: middle;\n",
       "    }\n",
       "\n",
       "    .dataframe tbody tr th {\n",
       "        vertical-align: top;\n",
       "    }\n",
       "\n",
       "    .dataframe thead th {\n",
       "        text-align: right;\n",
       "    }\n",
       "</style>\n",
       "<table border=\"1\" class=\"dataframe\">\n",
       "  <thead>\n",
       "    <tr style=\"text-align: right;\">\n",
       "      <th></th>\n",
       "      <th>order_id</th>\n",
       "      <th>customer_id</th>\n",
       "      <th>order_status</th>\n",
       "      <th>order_purchase_timestamp</th>\n",
       "      <th>order_approved_at</th>\n",
       "      <th>order_delivered_carrier_date</th>\n",
       "      <th>order_delivered_customer_date</th>\n",
       "      <th>order_estimated_delivery_date</th>\n",
       "      <th>customer_unique_id</th>\n",
       "      <th>customer_zip_code_prefix</th>\n",
       "      <th>customer_city</th>\n",
       "      <th>customer_state</th>\n",
       "    </tr>\n",
       "  </thead>\n",
       "  <tbody>\n",
       "    <tr>\n",
       "      <th>0</th>\n",
       "      <td>e481f51cbdc54678b7cc49136f2d6af7</td>\n",
       "      <td>9ef432eb6251297304e76186b10a928d</td>\n",
       "      <td>delivered</td>\n",
       "      <td>2017-10-02 10:56:33</td>\n",
       "      <td>2017-10-02 11:07:15</td>\n",
       "      <td>2017-10-04 19:55:00</td>\n",
       "      <td>2017-10-10 21:25:13</td>\n",
       "      <td>2017-10-18</td>\n",
       "      <td>7c396fd4830fd04220f754e42b4e5bff</td>\n",
       "      <td>3149</td>\n",
       "      <td>sao paulo</td>\n",
       "      <td>SP</td>\n",
       "    </tr>\n",
       "    <tr>\n",
       "      <th>3</th>\n",
       "      <td>949d5b44dbf5de918fe9c16f97b45f8a</td>\n",
       "      <td>f88197465ea7920adcdbec7375364d82</td>\n",
       "      <td>delivered</td>\n",
       "      <td>2017-11-18 19:28:06</td>\n",
       "      <td>2017-11-18 19:45:59</td>\n",
       "      <td>2017-11-22 13:39:59</td>\n",
       "      <td>2017-12-02 00:28:42</td>\n",
       "      <td>2017-12-15</td>\n",
       "      <td>7c142cf63193a1473d2e66489a9ae977</td>\n",
       "      <td>59296</td>\n",
       "      <td>sao goncalo do amarante</td>\n",
       "      <td>RN</td>\n",
       "    </tr>\n",
       "    <tr>\n",
       "      <th>5</th>\n",
       "      <td>a4591c265e18cb1dcee52889e2d8acc3</td>\n",
       "      <td>503740e9ca751ccdda7ba28e9ab8f608</td>\n",
       "      <td>delivered</td>\n",
       "      <td>2017-07-09 21:57:05</td>\n",
       "      <td>2017-07-09 22:10:13</td>\n",
       "      <td>2017-07-11 14:58:04</td>\n",
       "      <td>2017-07-26 10:57:55</td>\n",
       "      <td>2017-08-01</td>\n",
       "      <td>80bb27c7c16e8f973207a5086ab329e2</td>\n",
       "      <td>86320</td>\n",
       "      <td>congonhinhas</td>\n",
       "      <td>PR</td>\n",
       "    </tr>\n",
       "    <tr>\n",
       "      <th>6</th>\n",
       "      <td>136cce7faa42fdb2cefd53fdc79a6098</td>\n",
       "      <td>ed0271e0b7da060a393796590e7b737a</td>\n",
       "      <td>invoiced</td>\n",
       "      <td>2017-04-11 12:22:08</td>\n",
       "      <td>2017-04-13 13:25:17</td>\n",
       "      <td>NaT</td>\n",
       "      <td>NaT</td>\n",
       "      <td>2017-05-09</td>\n",
       "      <td>36edbb3fb164b1f16485364b6fb04c73</td>\n",
       "      <td>98900</td>\n",
       "      <td>santa rosa</td>\n",
       "      <td>RS</td>\n",
       "    </tr>\n",
       "    <tr>\n",
       "      <th>7</th>\n",
       "      <td>6514b8ad8028c9f2cc2374ded245783f</td>\n",
       "      <td>9bdf08b4b3b52b5526ff42d37d47f222</td>\n",
       "      <td>delivered</td>\n",
       "      <td>2017-05-16 13:10:30</td>\n",
       "      <td>2017-05-16 13:22:11</td>\n",
       "      <td>2017-05-22 10:07:46</td>\n",
       "      <td>2017-05-26 12:55:51</td>\n",
       "      <td>2017-06-07</td>\n",
       "      <td>932afa1e708222e5821dac9cd5db4cae</td>\n",
       "      <td>26525</td>\n",
       "      <td>nilopolis</td>\n",
       "      <td>RJ</td>\n",
       "    </tr>\n",
       "  </tbody>\n",
       "</table>\n",
       "</div>"
      ],
      "text/plain": [
       "                           order_id                       customer_id  \\\n",
       "0  e481f51cbdc54678b7cc49136f2d6af7  9ef432eb6251297304e76186b10a928d   \n",
       "3  949d5b44dbf5de918fe9c16f97b45f8a  f88197465ea7920adcdbec7375364d82   \n",
       "5  a4591c265e18cb1dcee52889e2d8acc3  503740e9ca751ccdda7ba28e9ab8f608   \n",
       "6  136cce7faa42fdb2cefd53fdc79a6098  ed0271e0b7da060a393796590e7b737a   \n",
       "7  6514b8ad8028c9f2cc2374ded245783f  9bdf08b4b3b52b5526ff42d37d47f222   \n",
       "\n",
       "  order_status order_purchase_timestamp   order_approved_at  \\\n",
       "0    delivered      2017-10-02 10:56:33 2017-10-02 11:07:15   \n",
       "3    delivered      2017-11-18 19:28:06 2017-11-18 19:45:59   \n",
       "5    delivered      2017-07-09 21:57:05 2017-07-09 22:10:13   \n",
       "6     invoiced      2017-04-11 12:22:08 2017-04-13 13:25:17   \n",
       "7    delivered      2017-05-16 13:10:30 2017-05-16 13:22:11   \n",
       "\n",
       "  order_delivered_carrier_date order_delivered_customer_date  \\\n",
       "0          2017-10-04 19:55:00           2017-10-10 21:25:13   \n",
       "3          2017-11-22 13:39:59           2017-12-02 00:28:42   \n",
       "5          2017-07-11 14:58:04           2017-07-26 10:57:55   \n",
       "6                          NaT                           NaT   \n",
       "7          2017-05-22 10:07:46           2017-05-26 12:55:51   \n",
       "\n",
       "  order_estimated_delivery_date                customer_unique_id  \\\n",
       "0                    2017-10-18  7c396fd4830fd04220f754e42b4e5bff   \n",
       "3                    2017-12-15  7c142cf63193a1473d2e66489a9ae977   \n",
       "5                    2017-08-01  80bb27c7c16e8f973207a5086ab329e2   \n",
       "6                    2017-05-09  36edbb3fb164b1f16485364b6fb04c73   \n",
       "7                    2017-06-07  932afa1e708222e5821dac9cd5db4cae   \n",
       "\n",
       "   customer_zip_code_prefix            customer_city customer_state  \n",
       "0                      3149                sao paulo             SP  \n",
       "3                     59296  sao goncalo do amarante             RN  \n",
       "5                     86320             congonhinhas             PR  \n",
       "6                     98900               santa rosa             RS  \n",
       "7                     26525                nilopolis             RJ  "
      ]
     },
     "execution_count": 12,
     "metadata": {},
     "output_type": "execute_result"
    }
   ],
   "source": [
    "df_merged.head()"
   ]
  },
  {
   "cell_type": "code",
   "execution_count": 13,
   "metadata": {},
   "outputs": [
    {
     "data": {
      "text/plain": [
       "Timestamp('2017-12-31 23:29:31')"
      ]
     },
     "execution_count": 13,
     "metadata": {},
     "output_type": "execute_result"
    }
   ],
   "source": [
    "# check the max date\n",
    "\n",
    "df_merged.order_purchase_timestamp.max()"
   ]
  },
  {
   "cell_type": "markdown",
   "metadata": {},
   "source": [
    "### Attribute #1: Order recency"
   ]
  },
  {
   "cell_type": "markdown",
   "metadata": {},
   "source": [
    "To calculate recency (days since the most recent order), we will have to extract the most recent date for each customer."
   ]
  },
  {
   "cell_type": "code",
   "execution_count": 14,
   "metadata": {},
   "outputs": [],
   "source": [
    "def order_recency(df_merged, snapshot_date):\n",
    "    #Attribute #1: Order recency\n",
    "    # grab the max purchase date for each customer\n",
    "    max_cust_recency = df_merged.groupby('customer_unique_id')['order_purchase_timestamp'].max().reset_index()\n",
    "    \n",
    "    # count the number of days between the most recent order date and the snapshot date\n",
    "    delta = snapshot_date - max_cust_recency['order_purchase_timestamp'].dt.date\n",
    "    \n",
    "    # grab the number of days (as an integer) from the calculated deltas \n",
    "    max_cust_recency['order_recency'] = delta.dt.days / 30\n",
    "    max_cust_recency['order_recency'] = max_cust_recency['order_recency'].astype(int)\n",
    "    \n",
    "    # drop the date \n",
    "    max_cust_recency = max_cust_recency.drop('order_purchase_timestamp', axis=1)\n",
    "    \n",
    "    return max_cust_recency\n"
   ]
  },
  {
   "cell_type": "code",
   "execution_count": 15,
   "metadata": {},
   "outputs": [
    {
     "data": {
      "text/html": [
       "<div>\n",
       "<style scoped>\n",
       "    .dataframe tbody tr th:only-of-type {\n",
       "        vertical-align: middle;\n",
       "    }\n",
       "\n",
       "    .dataframe tbody tr th {\n",
       "        vertical-align: top;\n",
       "    }\n",
       "\n",
       "    .dataframe thead th {\n",
       "        text-align: right;\n",
       "    }\n",
       "</style>\n",
       "<table border=\"1\" class=\"dataframe\">\n",
       "  <thead>\n",
       "    <tr style=\"text-align: right;\">\n",
       "      <th></th>\n",
       "      <th>customer_unique_id</th>\n",
       "      <th>order_recency</th>\n",
       "    </tr>\n",
       "  </thead>\n",
       "  <tbody>\n",
       "    <tr>\n",
       "      <th>0</th>\n",
       "      <td>0000f46a3911fa3c0805444483337064</td>\n",
       "      <td>9</td>\n",
       "    </tr>\n",
       "    <tr>\n",
       "      <th>1</th>\n",
       "      <td>0000f6ccb0745a6a4b88665a16c9f078</td>\n",
       "      <td>2</td>\n",
       "    </tr>\n",
       "    <tr>\n",
       "      <th>2</th>\n",
       "      <td>0004aac84e0df4da2b147fca70cf8255</td>\n",
       "      <td>1</td>\n",
       "    </tr>\n",
       "    <tr>\n",
       "      <th>3</th>\n",
       "      <td>0005e1862207bf6ccc02e4228effd9a0</td>\n",
       "      <td>10</td>\n",
       "    </tr>\n",
       "    <tr>\n",
       "      <th>4</th>\n",
       "      <td>0006fdc98a402fceb4eb0ee528f6a8d4</td>\n",
       "      <td>5</td>\n",
       "    </tr>\n",
       "    <tr>\n",
       "      <th>...</th>\n",
       "      <td>...</td>\n",
       "      <td>...</td>\n",
       "    </tr>\n",
       "    <tr>\n",
       "      <th>44029</th>\n",
       "      <td>fffbf87b7a1a6fa8b03f081c5f51a201</td>\n",
       "      <td>0</td>\n",
       "    </tr>\n",
       "    <tr>\n",
       "      <th>44030</th>\n",
       "      <td>fffcf5a5ff07b0908bd4e2dbc735a684</td>\n",
       "      <td>6</td>\n",
       "    </tr>\n",
       "    <tr>\n",
       "      <th>44031</th>\n",
       "      <td>fffea47cd6d3cc0a88bd621562a9d061</td>\n",
       "      <td>0</td>\n",
       "    </tr>\n",
       "    <tr>\n",
       "      <th>44032</th>\n",
       "      <td>ffff371b4d645b6ecea244b27531430a</td>\n",
       "      <td>10</td>\n",
       "    </tr>\n",
       "    <tr>\n",
       "      <th>44033</th>\n",
       "      <td>ffffd2657e2aad2907e67c3e9daecbeb</td>\n",
       "      <td>8</td>\n",
       "    </tr>\n",
       "  </tbody>\n",
       "</table>\n",
       "<p>44034 rows × 2 columns</p>\n",
       "</div>"
      ],
      "text/plain": [
       "                     customer_unique_id  order_recency\n",
       "0      0000f46a3911fa3c0805444483337064              9\n",
       "1      0000f6ccb0745a6a4b88665a16c9f078              2\n",
       "2      0004aac84e0df4da2b147fca70cf8255              1\n",
       "3      0005e1862207bf6ccc02e4228effd9a0             10\n",
       "4      0006fdc98a402fceb4eb0ee528f6a8d4              5\n",
       "...                                 ...            ...\n",
       "44029  fffbf87b7a1a6fa8b03f081c5f51a201              0\n",
       "44030  fffcf5a5ff07b0908bd4e2dbc735a684              6\n",
       "44031  fffea47cd6d3cc0a88bd621562a9d061              0\n",
       "44032  ffff371b4d645b6ecea244b27531430a             10\n",
       "44033  ffffd2657e2aad2907e67c3e9daecbeb              8\n",
       "\n",
       "[44034 rows x 2 columns]"
      ]
     },
     "execution_count": 15,
     "metadata": {},
     "output_type": "execute_result"
    }
   ],
   "source": [
    "max_cust_recency = order_recency(df_merged, snapshot_date)\n",
    "max_cust_recency"
   ]
  },
  {
   "cell_type": "code",
   "execution_count": 16,
   "metadata": {},
   "outputs": [
    {
     "data": {
      "text/plain": [
       "(44034, 2)"
      ]
     },
     "execution_count": 16,
     "metadata": {},
     "output_type": "execute_result"
    }
   ],
   "source": [
    "# how many records (unique customers) do we have for this timeframe?\n",
    "max_cust_recency.shape"
   ]
  },
  {
   "cell_type": "markdown",
   "metadata": {},
   "source": [
    "This is the number of customers who are included in the modeling dasetset for this specific time-frame."
   ]
  },
  {
   "cell_type": "markdown",
   "metadata": {},
   "source": [
    "Let's check the distribution of this attribute."
   ]
  },
  {
   "cell_type": "code",
   "execution_count": 17,
   "metadata": {},
   "outputs": [
    {
     "name": "stderr",
     "output_type": "stream",
     "text": [
      "C:\\ProgramData\\Anaconda3\\lib\\site-packages\\seaborn\\distributions.py:2551: FutureWarning: `distplot` is a deprecated function and will be removed in a future version. Please adapt your code to use either `displot` (a figure-level function with similar flexibility) or `histplot` (an axes-level function for histograms).\n",
      "  warnings.warn(msg, FutureWarning)\n"
     ]
    },
    {
     "data": {
      "image/png": "[encoded data removed]",
      "text/plain": [
       "<Figure size 1080x432 with 1 Axes>"
      ]
     },
     "metadata": {},
     "output_type": "display_data"
    }
   ],
   "source": [
    "sns.set(style='darkgrid')\n",
    "\n",
    "# adjust the plot size\n",
    "plt.figure().set_size_inches(15, 6)\n",
    "\n",
    "# histogram\n",
    "sns.distplot(max_cust_recency['order_recency'], kde=False)\n",
    "\n",
    "# assign axis labels\n",
    "plt.ylabel('Number of Customers', fontsize=14)\n",
    "plt.xlabel('Days Since the Most Recent Order', fontsize=14);"
   ]
  },
  {
   "cell_type": "markdown",
   "metadata": {},
   "source": [
    "Let's take a look at the cumulative distribution of customers by recency."
   ]
  },
  {
   "cell_type": "code",
   "execution_count": 18,
   "metadata": {},
   "outputs": [],
   "source": [
    "recency_distr = max_cust_recency.groupby('order_recency').size().reset_index()\n",
    "\n",
    "recency_distr = recency_distr.rename(columns={0: 'cust_count'})\n"
   ]
  },
  {
   "cell_type": "code",
   "execution_count": 19,
   "metadata": {},
   "outputs": [],
   "source": [
    "# calculate cumulative percentages \n",
    "\n",
    "cum_pctg = recency_distr['cust_count'].cumsum() / sum(recency_distr['cust_count'])\n"
   ]
  },
  {
   "cell_type": "code",
   "execution_count": 20,
   "metadata": {},
   "outputs": [
    {
     "data": {
      "image/png": "[encoded data removed]",
      "text/plain": [
       "<Figure size 648x648 with 1 Axes>"
      ]
     },
     "metadata": {},
     "output_type": "display_data"
    }
   ],
   "source": [
    "sns.set(style='darkgrid')\n",
    "\n",
    "# adjust the plot size\n",
    "plt.figure().set_size_inches(9, 9)\n",
    "\n",
    "# histogram\n",
    "sns.lineplot(x=recency_distr['order_recency'], y=cum_pctg, color='royalblue', lw=3)\n",
    "\n",
    "# assign axis labels\n",
    "plt.ylabel('Cumulative % of Customers', fontsize=14)\n",
    "plt.xlabel('Months Since the Most Recent Order', fontsize=14);"
   ]
  },
  {
   "cell_type": "markdown",
   "metadata": {},
   "source": [
    "### Attribute #2: Number of orders per customer"
   ]
  },
  {
   "cell_type": "code",
   "execution_count": 21,
   "metadata": {},
   "outputs": [],
   "source": [
    "def No_of_orders(df_merged, snapshot_date):\n",
    "    # count total records (i.e., orders) per customer\n",
    "    cust_orders = df_merged.groupby('customer_unique_id').size().reset_index().rename(columns={0: 'total_orders'})\n",
    "\n",
    "    return cust_orders"
   ]
  },
  {
   "cell_type": "code",
   "execution_count": 22,
   "metadata": {},
   "outputs": [],
   "source": [
    "cust_orders = No_of_orders(df_merged, snapshot_date)"
   ]
  },
  {
   "cell_type": "code",
   "execution_count": 23,
   "metadata": {},
   "outputs": [
    {
     "data": {
      "text/plain": [
       "1     42770\n",
       "2      1164\n",
       "3        80\n",
       "4        14\n",
       "5         4\n",
       "10        1\n",
       "6         1\n",
       "Name: total_orders, dtype: int64"
      ]
     },
     "execution_count": 23,
     "metadata": {},
     "output_type": "execute_result"
    }
   ],
   "source": [
    "cust_orders.total_orders.value_counts()"
   ]
  },
  {
   "cell_type": "markdown",
   "metadata": {},
   "source": [
    "### Attribute set #3: Weekday"
   ]
  },
  {
   "cell_type": "code",
   "execution_count": 24,
   "metadata": {},
   "outputs": [],
   "source": [
    "def weekday(df_merged):\n",
    "    # Attribute set #3: Weekday\n",
    "\n",
    "    df_merged['order_dow'] = df_merged['order_purchase_timestamp'].dt.day_name()\n",
    "    \n",
    "    # get dummies\n",
    "    df_merged = pd.get_dummies(df_merged, columns=['order_dow'])\n",
    "    \n",
    "    # grab all binary columns that we just created\n",
    "    dummies = [x for x in df_merged.columns if 'order_dow_' in x]\n",
    "    \n",
    "    # aggreagte data to the customer-level, so that we have one record per customer\n",
    "    cust_dow = df_merged.groupby('customer_unique_id')[dummies].sum().reset_index()\n",
    "    \n",
    "    #cust_dow[cust_dow['order_dow_Monday'] > 1]\n",
    "    \n",
    "    return cust_dow"
   ]
  },
  {
   "cell_type": "code",
   "execution_count": 25,
   "metadata": {},
   "outputs": [
    {
     "name": "stderr",
     "output_type": "stream",
     "text": [
      "<ipython-input-24-acd99488dc0b>:4: SettingWithCopyWarning: \n",
      "A value is trying to be set on a copy of a slice from a DataFrame.\n",
      "Try using .loc[row_indexer,col_indexer] = value instead\n",
      "\n",
      "See the caveats in the documentation: https://pandas.pydata.org/pandas-docs/stable/user_guide/indexing.html#returning-a-view-versus-a-copy\n",
      "  df_merged['order_dow'] = df_merged['order_purchase_timestamp'].dt.day_name()\n"
     ]
    },
    {
     "data": {
      "text/html": [
       "<div>\n",
       "<style scoped>\n",
       "    .dataframe tbody tr th:only-of-type {\n",
       "        vertical-align: middle;\n",
       "    }\n",
       "\n",
       "    .dataframe tbody tr th {\n",
       "        vertical-align: top;\n",
       "    }\n",
       "\n",
       "    .dataframe thead th {\n",
       "        text-align: right;\n",
       "    }\n",
       "</style>\n",
       "<table border=\"1\" class=\"dataframe\">\n",
       "  <thead>\n",
       "    <tr style=\"text-align: right;\">\n",
       "      <th></th>\n",
       "      <th>customer_unique_id</th>\n",
       "      <th>order_dow_Friday</th>\n",
       "      <th>order_dow_Monday</th>\n",
       "      <th>order_dow_Saturday</th>\n",
       "      <th>order_dow_Sunday</th>\n",
       "      <th>order_dow_Thursday</th>\n",
       "      <th>order_dow_Tuesday</th>\n",
       "      <th>order_dow_Wednesday</th>\n",
       "    </tr>\n",
       "  </thead>\n",
       "  <tbody>\n",
       "    <tr>\n",
       "      <th>0</th>\n",
       "      <td>0000f46a3911fa3c0805444483337064</td>\n",
       "      <td>1</td>\n",
       "      <td>0</td>\n",
       "      <td>0</td>\n",
       "      <td>0</td>\n",
       "      <td>0</td>\n",
       "      <td>0</td>\n",
       "      <td>0</td>\n",
       "    </tr>\n",
       "    <tr>\n",
       "      <th>1</th>\n",
       "      <td>0000f6ccb0745a6a4b88665a16c9f078</td>\n",
       "      <td>0</td>\n",
       "      <td>0</td>\n",
       "      <td>0</td>\n",
       "      <td>0</td>\n",
       "      <td>1</td>\n",
       "      <td>0</td>\n",
       "      <td>0</td>\n",
       "    </tr>\n",
       "    <tr>\n",
       "      <th>2</th>\n",
       "      <td>0004aac84e0df4da2b147fca70cf8255</td>\n",
       "      <td>0</td>\n",
       "      <td>0</td>\n",
       "      <td>0</td>\n",
       "      <td>0</td>\n",
       "      <td>0</td>\n",
       "      <td>1</td>\n",
       "      <td>0</td>\n",
       "    </tr>\n",
       "    <tr>\n",
       "      <th>3</th>\n",
       "      <td>0005e1862207bf6ccc02e4228effd9a0</td>\n",
       "      <td>0</td>\n",
       "      <td>0</td>\n",
       "      <td>1</td>\n",
       "      <td>0</td>\n",
       "      <td>0</td>\n",
       "      <td>0</td>\n",
       "      <td>0</td>\n",
       "    </tr>\n",
       "    <tr>\n",
       "      <th>4</th>\n",
       "      <td>0006fdc98a402fceb4eb0ee528f6a8d4</td>\n",
       "      <td>0</td>\n",
       "      <td>0</td>\n",
       "      <td>0</td>\n",
       "      <td>0</td>\n",
       "      <td>0</td>\n",
       "      <td>1</td>\n",
       "      <td>0</td>\n",
       "    </tr>\n",
       "    <tr>\n",
       "      <th>...</th>\n",
       "      <td>...</td>\n",
       "      <td>...</td>\n",
       "      <td>...</td>\n",
       "      <td>...</td>\n",
       "      <td>...</td>\n",
       "      <td>...</td>\n",
       "      <td>...</td>\n",
       "      <td>...</td>\n",
       "    </tr>\n",
       "    <tr>\n",
       "      <th>44029</th>\n",
       "      <td>fffbf87b7a1a6fa8b03f081c5f51a201</td>\n",
       "      <td>0</td>\n",
       "      <td>0</td>\n",
       "      <td>0</td>\n",
       "      <td>0</td>\n",
       "      <td>0</td>\n",
       "      <td>0</td>\n",
       "      <td>1</td>\n",
       "    </tr>\n",
       "    <tr>\n",
       "      <th>44030</th>\n",
       "      <td>fffcf5a5ff07b0908bd4e2dbc735a684</td>\n",
       "      <td>0</td>\n",
       "      <td>0</td>\n",
       "      <td>0</td>\n",
       "      <td>0</td>\n",
       "      <td>1</td>\n",
       "      <td>0</td>\n",
       "      <td>0</td>\n",
       "    </tr>\n",
       "    <tr>\n",
       "      <th>44031</th>\n",
       "      <td>fffea47cd6d3cc0a88bd621562a9d061</td>\n",
       "      <td>0</td>\n",
       "      <td>0</td>\n",
       "      <td>0</td>\n",
       "      <td>1</td>\n",
       "      <td>0</td>\n",
       "      <td>0</td>\n",
       "      <td>0</td>\n",
       "    </tr>\n",
       "    <tr>\n",
       "      <th>44032</th>\n",
       "      <td>ffff371b4d645b6ecea244b27531430a</td>\n",
       "      <td>0</td>\n",
       "      <td>0</td>\n",
       "      <td>0</td>\n",
       "      <td>0</td>\n",
       "      <td>0</td>\n",
       "      <td>1</td>\n",
       "      <td>0</td>\n",
       "    </tr>\n",
       "    <tr>\n",
       "      <th>44033</th>\n",
       "      <td>ffffd2657e2aad2907e67c3e9daecbeb</td>\n",
       "      <td>0</td>\n",
       "      <td>0</td>\n",
       "      <td>0</td>\n",
       "      <td>0</td>\n",
       "      <td>0</td>\n",
       "      <td>1</td>\n",
       "      <td>0</td>\n",
       "    </tr>\n",
       "  </tbody>\n",
       "</table>\n",
       "<p>44034 rows × 8 columns</p>\n",
       "</div>"
      ],
      "text/plain": [
       "                     customer_unique_id  order_dow_Friday  order_dow_Monday  \\\n",
       "0      0000f46a3911fa3c0805444483337064                 1                 0   \n",
       "1      0000f6ccb0745a6a4b88665a16c9f078                 0                 0   \n",
       "2      0004aac84e0df4da2b147fca70cf8255                 0                 0   \n",
       "3      0005e1862207bf6ccc02e4228effd9a0                 0                 0   \n",
       "4      0006fdc98a402fceb4eb0ee528f6a8d4                 0                 0   \n",
       "...                                 ...               ...               ...   \n",
       "44029  fffbf87b7a1a6fa8b03f081c5f51a201                 0                 0   \n",
       "44030  fffcf5a5ff07b0908bd4e2dbc735a684                 0                 0   \n",
       "44031  fffea47cd6d3cc0a88bd621562a9d061                 0                 0   \n",
       "44032  ffff371b4d645b6ecea244b27531430a                 0                 0   \n",
       "44033  ffffd2657e2aad2907e67c3e9daecbeb                 0                 0   \n",
       "\n",
       "       order_dow_Saturday  order_dow_Sunday  order_dow_Thursday  \\\n",
       "0                       0                 0                   0   \n",
       "1                       0                 0                   1   \n",
       "2                       0                 0                   0   \n",
       "3                       1                 0                   0   \n",
       "4                       0                 0                   0   \n",
       "...                   ...               ...                 ...   \n",
       "44029                   0                 0                   0   \n",
       "44030                   0                 0                   1   \n",
       "44031                   0                 1                   0   \n",
       "44032                   0                 0                   0   \n",
       "44033                   0                 0                   0   \n",
       "\n",
       "       order_dow_Tuesday  order_dow_Wednesday  \n",
       "0                      0                    0  \n",
       "1                      0                    0  \n",
       "2                      1                    0  \n",
       "3                      0                    0  \n",
       "4                      1                    0  \n",
       "...                  ...                  ...  \n",
       "44029                  0                    1  \n",
       "44030                  0                    0  \n",
       "44031                  0                    0  \n",
       "44032                  1                    0  \n",
       "44033                  1                    0  \n",
       "\n",
       "[44034 rows x 8 columns]"
      ]
     },
     "execution_count": 25,
     "metadata": {},
     "output_type": "execute_result"
    }
   ],
   "source": [
    "cust_dow = weekday(df_merged)\n",
    "\n",
    "cust_dow"
   ]
  },
  {
   "cell_type": "markdown",
   "metadata": {},
   "source": [
    "### Attribute set #4: Month (How many orders placed each month by each customer)"
   ]
  },
  {
   "cell_type": "code",
   "execution_count": 26,
   "metadata": {},
   "outputs": [],
   "source": [
    "def order_month(df_merged):\n",
    "    df_merged['order_month'] = df_merged['order_purchase_timestamp'].dt.strftime('%b')\n",
    "    \n",
    "    # grab all binary columns that we just created\n",
    "    df_merged = pd.get_dummies(df_merged, columns=['order_month'])\n",
    "    \n",
    "    dummies2 = [x for x in df_merged.columns if 'order_month_' in x]\n",
    "    \n",
    "    # aggreagte data to the customer-level, so that we have one record per customer\n",
    "    cust_month = df_merged.groupby('customer_unique_id')[dummies2].sum().reset_index()\n",
    "\n",
    "    return cust_month"
   ]
  },
  {
   "cell_type": "code",
   "execution_count": 27,
   "metadata": {
    "scrolled": false
   },
   "outputs": [
    {
     "name": "stderr",
     "output_type": "stream",
     "text": [
      "<ipython-input-26-ce936d2aeb4b>:2: SettingWithCopyWarning: \n",
      "A value is trying to be set on a copy of a slice from a DataFrame.\n",
      "Try using .loc[row_indexer,col_indexer] = value instead\n",
      "\n",
      "See the caveats in the documentation: https://pandas.pydata.org/pandas-docs/stable/user_guide/indexing.html#returning-a-view-versus-a-copy\n",
      "  df_merged['order_month'] = df_merged['order_purchase_timestamp'].dt.strftime('%b')\n"
     ]
    },
    {
     "data": {
      "text/html": [
       "<div>\n",
       "<style scoped>\n",
       "    .dataframe tbody tr th:only-of-type {\n",
       "        vertical-align: middle;\n",
       "    }\n",
       "\n",
       "    .dataframe tbody tr th {\n",
       "        vertical-align: top;\n",
       "    }\n",
       "\n",
       "    .dataframe thead th {\n",
       "        text-align: right;\n",
       "    }\n",
       "</style>\n",
       "<table border=\"1\" class=\"dataframe\">\n",
       "  <thead>\n",
       "    <tr style=\"text-align: right;\">\n",
       "      <th></th>\n",
       "      <th>customer_unique_id</th>\n",
       "      <th>order_month_Apr</th>\n",
       "      <th>order_month_Aug</th>\n",
       "      <th>order_month_Dec</th>\n",
       "      <th>order_month_Feb</th>\n",
       "      <th>order_month_Jan</th>\n",
       "      <th>order_month_Jul</th>\n",
       "      <th>order_month_Jun</th>\n",
       "      <th>order_month_Mar</th>\n",
       "      <th>order_month_May</th>\n",
       "      <th>order_month_Nov</th>\n",
       "      <th>order_month_Oct</th>\n",
       "      <th>order_month_Sep</th>\n",
       "    </tr>\n",
       "  </thead>\n",
       "  <tbody>\n",
       "    <tr>\n",
       "      <th>0</th>\n",
       "      <td>0000f46a3911fa3c0805444483337064</td>\n",
       "      <td>0</td>\n",
       "      <td>0</td>\n",
       "      <td>0</td>\n",
       "      <td>0</td>\n",
       "      <td>0</td>\n",
       "      <td>0</td>\n",
       "      <td>0</td>\n",
       "      <td>1</td>\n",
       "      <td>0</td>\n",
       "      <td>0</td>\n",
       "      <td>0</td>\n",
       "      <td>0</td>\n",
       "    </tr>\n",
       "    <tr>\n",
       "      <th>1</th>\n",
       "      <td>0000f6ccb0745a6a4b88665a16c9f078</td>\n",
       "      <td>0</td>\n",
       "      <td>0</td>\n",
       "      <td>0</td>\n",
       "      <td>0</td>\n",
       "      <td>0</td>\n",
       "      <td>0</td>\n",
       "      <td>0</td>\n",
       "      <td>0</td>\n",
       "      <td>0</td>\n",
       "      <td>0</td>\n",
       "      <td>1</td>\n",
       "      <td>0</td>\n",
       "    </tr>\n",
       "    <tr>\n",
       "      <th>2</th>\n",
       "      <td>0004aac84e0df4da2b147fca70cf8255</td>\n",
       "      <td>0</td>\n",
       "      <td>0</td>\n",
       "      <td>0</td>\n",
       "      <td>0</td>\n",
       "      <td>0</td>\n",
       "      <td>0</td>\n",
       "      <td>0</td>\n",
       "      <td>0</td>\n",
       "      <td>0</td>\n",
       "      <td>1</td>\n",
       "      <td>0</td>\n",
       "      <td>0</td>\n",
       "    </tr>\n",
       "    <tr>\n",
       "      <th>3</th>\n",
       "      <td>0005e1862207bf6ccc02e4228effd9a0</td>\n",
       "      <td>0</td>\n",
       "      <td>0</td>\n",
       "      <td>0</td>\n",
       "      <td>0</td>\n",
       "      <td>0</td>\n",
       "      <td>0</td>\n",
       "      <td>0</td>\n",
       "      <td>1</td>\n",
       "      <td>0</td>\n",
       "      <td>0</td>\n",
       "      <td>0</td>\n",
       "      <td>0</td>\n",
       "    </tr>\n",
       "    <tr>\n",
       "      <th>4</th>\n",
       "      <td>0006fdc98a402fceb4eb0ee528f6a8d4</td>\n",
       "      <td>0</td>\n",
       "      <td>0</td>\n",
       "      <td>0</td>\n",
       "      <td>0</td>\n",
       "      <td>0</td>\n",
       "      <td>1</td>\n",
       "      <td>0</td>\n",
       "      <td>0</td>\n",
       "      <td>0</td>\n",
       "      <td>0</td>\n",
       "      <td>0</td>\n",
       "      <td>0</td>\n",
       "    </tr>\n",
       "    <tr>\n",
       "      <th>...</th>\n",
       "      <td>...</td>\n",
       "      <td>...</td>\n",
       "      <td>...</td>\n",
       "      <td>...</td>\n",
       "      <td>...</td>\n",
       "      <td>...</td>\n",
       "      <td>...</td>\n",
       "      <td>...</td>\n",
       "      <td>...</td>\n",
       "      <td>...</td>\n",
       "      <td>...</td>\n",
       "      <td>...</td>\n",
       "      <td>...</td>\n",
       "    </tr>\n",
       "    <tr>\n",
       "      <th>44029</th>\n",
       "      <td>fffbf87b7a1a6fa8b03f081c5f51a201</td>\n",
       "      <td>0</td>\n",
       "      <td>0</td>\n",
       "      <td>1</td>\n",
       "      <td>0</td>\n",
       "      <td>0</td>\n",
       "      <td>0</td>\n",
       "      <td>0</td>\n",
       "      <td>0</td>\n",
       "      <td>0</td>\n",
       "      <td>0</td>\n",
       "      <td>0</td>\n",
       "      <td>0</td>\n",
       "    </tr>\n",
       "    <tr>\n",
       "      <th>44030</th>\n",
       "      <td>fffcf5a5ff07b0908bd4e2dbc735a684</td>\n",
       "      <td>0</td>\n",
       "      <td>0</td>\n",
       "      <td>0</td>\n",
       "      <td>0</td>\n",
       "      <td>0</td>\n",
       "      <td>0</td>\n",
       "      <td>1</td>\n",
       "      <td>0</td>\n",
       "      <td>0</td>\n",
       "      <td>0</td>\n",
       "      <td>0</td>\n",
       "      <td>0</td>\n",
       "    </tr>\n",
       "    <tr>\n",
       "      <th>44031</th>\n",
       "      <td>fffea47cd6d3cc0a88bd621562a9d061</td>\n",
       "      <td>0</td>\n",
       "      <td>0</td>\n",
       "      <td>1</td>\n",
       "      <td>0</td>\n",
       "      <td>0</td>\n",
       "      <td>0</td>\n",
       "      <td>0</td>\n",
       "      <td>0</td>\n",
       "      <td>0</td>\n",
       "      <td>0</td>\n",
       "      <td>0</td>\n",
       "      <td>0</td>\n",
       "    </tr>\n",
       "    <tr>\n",
       "      <th>44032</th>\n",
       "      <td>ffff371b4d645b6ecea244b27531430a</td>\n",
       "      <td>0</td>\n",
       "      <td>0</td>\n",
       "      <td>0</td>\n",
       "      <td>1</td>\n",
       "      <td>0</td>\n",
       "      <td>0</td>\n",
       "      <td>0</td>\n",
       "      <td>0</td>\n",
       "      <td>0</td>\n",
       "      <td>0</td>\n",
       "      <td>0</td>\n",
       "      <td>0</td>\n",
       "    </tr>\n",
       "    <tr>\n",
       "      <th>44033</th>\n",
       "      <td>ffffd2657e2aad2907e67c3e9daecbeb</td>\n",
       "      <td>0</td>\n",
       "      <td>0</td>\n",
       "      <td>0</td>\n",
       "      <td>0</td>\n",
       "      <td>0</td>\n",
       "      <td>0</td>\n",
       "      <td>0</td>\n",
       "      <td>0</td>\n",
       "      <td>1</td>\n",
       "      <td>0</td>\n",
       "      <td>0</td>\n",
       "      <td>0</td>\n",
       "    </tr>\n",
       "  </tbody>\n",
       "</table>\n",
       "<p>44034 rows × 13 columns</p>\n",
       "</div>"
      ],
      "text/plain": [
       "                     customer_unique_id  order_month_Apr  order_month_Aug  \\\n",
       "0      0000f46a3911fa3c0805444483337064                0                0   \n",
       "1      0000f6ccb0745a6a4b88665a16c9f078                0                0   \n",
       "2      0004aac84e0df4da2b147fca70cf8255                0                0   \n",
       "3      0005e1862207bf6ccc02e4228effd9a0                0                0   \n",
       "4      0006fdc98a402fceb4eb0ee528f6a8d4                0                0   \n",
       "...                                 ...              ...              ...   \n",
       "44029  fffbf87b7a1a6fa8b03f081c5f51a201                0                0   \n",
       "44030  fffcf5a5ff07b0908bd4e2dbc735a684                0                0   \n",
       "44031  fffea47cd6d3cc0a88bd621562a9d061                0                0   \n",
       "44032  ffff371b4d645b6ecea244b27531430a                0                0   \n",
       "44033  ffffd2657e2aad2907e67c3e9daecbeb                0                0   \n",
       "\n",
       "       order_month_Dec  order_month_Feb  order_month_Jan  order_month_Jul  \\\n",
       "0                    0                0                0                0   \n",
       "1                    0                0                0                0   \n",
       "2                    0                0                0                0   \n",
       "3                    0                0                0                0   \n",
       "4                    0                0                0                1   \n",
       "...                ...              ...              ...              ...   \n",
       "44029                1                0                0                0   \n",
       "44030                0                0                0                0   \n",
       "44031                1                0                0                0   \n",
       "44032                0                1                0                0   \n",
       "44033                0                0                0                0   \n",
       "\n",
       "       order_month_Jun  order_month_Mar  order_month_May  order_month_Nov  \\\n",
       "0                    0                1                0                0   \n",
       "1                    0                0                0                0   \n",
       "2                    0                0                0                1   \n",
       "3                    0                1                0                0   \n",
       "4                    0                0                0                0   \n",
       "...                ...              ...              ...              ...   \n",
       "44029                0                0                0                0   \n",
       "44030                1                0                0                0   \n",
       "44031                0                0                0                0   \n",
       "44032                0                0                0                0   \n",
       "44033                0                0                1                0   \n",
       "\n",
       "       order_month_Oct  order_month_Sep  \n",
       "0                    0                0  \n",
       "1                    1                0  \n",
       "2                    0                0  \n",
       "3                    0                0  \n",
       "4                    0                0  \n",
       "...                ...              ...  \n",
       "44029                0                0  \n",
       "44030                0                0  \n",
       "44031                0                0  \n",
       "44032                0                0  \n",
       "44033                0                0  \n",
       "\n",
       "[44034 rows x 13 columns]"
      ]
     },
     "execution_count": 27,
     "metadata": {},
     "output_type": "execute_result"
    }
   ],
   "source": [
    "cust_month = order_month(df_merged)\n",
    "\n",
    "cust_month"
   ]
  },
  {
   "cell_type": "markdown",
   "metadata": {},
   "source": [
    "### Attribute set #5: Av. diff between order purchase and delivery   "
   ]
  },
  {
   "cell_type": "code",
   "execution_count": 72,
   "metadata": {},
   "outputs": [],
   "source": [
    "def avg_diff_order_purch_delv (df_merged):\n",
    "    df_merged['Difference'] = (df_merged['order_delivered_customer_date'] - df_merged['order_purchase_timestamp']).dt.days\n",
    "\n",
    "    # aggreagte data to the customer-level, so that we have one record per customer\n",
    "    av_cust_aggregate = df_merged.groupby('customer_unique_id')['Difference'].mean().reset_index().rename(columns={'Difference': 'avg_difference'})\n",
    "    \n",
    "    return av_cust_aggregate                                                                                                                                                                                                                      "
   ]
  },
  {
   "cell_type": "code",
   "execution_count": 73,
   "metadata": {},
   "outputs": [
    {
     "name": "stderr",
     "output_type": "stream",
     "text": [
      "<ipython-input-72-740a91ea3c05>:2: SettingWithCopyWarning: \n",
      "A value is trying to be set on a copy of a slice from a DataFrame.\n",
      "Try using .loc[row_indexer,col_indexer] = value instead\n",
      "\n",
      "See the caveats in the documentation: https://pandas.pydata.org/pandas-docs/stable/user_guide/indexing.html#returning-a-view-versus-a-copy\n",
      "  df_merged['Difference'] = (df_merged['order_delivered_customer_date'] - df_merged['order_purchase_timestamp']).dt.days\n"
     ]
    },
    {
     "data": {
      "text/plain": [
       "<bound method IndexOpsMixin.value_counts of 0        25.0\n",
       "1        20.0\n",
       "2        13.0\n",
       "3         4.0\n",
       "4        16.0\n",
       "         ... \n",
       "44029    18.0\n",
       "44030    27.0\n",
       "44031    30.0\n",
       "44032    14.0\n",
       "44033     7.0\n",
       "Name: avg_difference, Length: 44034, dtype: float64>"
      ]
     },
     "execution_count": 73,
     "metadata": {},
     "output_type": "execute_result"
    }
   ],
   "source": [
    "av_cust_aggregate = avg_diff_order_purch_delv(df_merged)\n",
    "\n",
    "test = av_cust_aggregate[av_cust_aggregate['customer_unique_id'] == '36edbb3fb164b1f16485364b6fb04c73']\n",
    "\n",
    "test\n",
    "\n",
    "av_cust_aggregate.avg_difference.value_counts"
   ]
  },
  {
   "cell_type": "code",
   "execution_count": 78,
   "metadata": {},
   "outputs": [],
   "source": [
    "av_cust_aggregate.avg_difference = av_cust_aggregate.avg_difference.replace(np.nan, 300)"
   ]
  },
  {
   "cell_type": "code",
   "execution_count": 79,
   "metadata": {},
   "outputs": [
    {
     "data": {
      "image/png": "[encoded data removed]",
      "text/plain": [
       "<Figure size 1080x432 with 1 Axes>"
      ]
     },
     "metadata": {},
     "output_type": "display_data"
    }
   ],
   "source": [
    "sns.set(style='darkgrid')\n",
    "\n",
    "# adjust the plot size\n",
    "plt.figure().set_size_inches(15, 6)\n",
    "\n",
    "# histogram\n",
    "sns.distplot(av_cust_aggregate['avg_difference'], kde=False, bins=20)\n",
    "\n",
    "# assign axis labels\n",
    "plt.ylabel('Number of Customers', fontsize=14)\n",
    "plt.xlabel('Avg days from Purchase to Delivery', fontsize=14);"
   ]
  },
  {
   "cell_type": "markdown",
   "metadata": {},
   "source": [
    "### Attribute set #6: Av. diff between order estimated and delivered date   "
   ]
  },
  {
   "cell_type": "code",
   "execution_count": 91,
   "metadata": {},
   "outputs": [],
   "source": [
    "def avg_diff_order_est_delv(df_merged):\n",
    "    df_merged['diff_dlv_est'] = (df_merged['order_estimated_delivery_date'] - df_merged['order_delivered_customer_date']).dt.days\n",
    "    # aggreagte data to the customer-level, so that we have one record per customer\n",
    "    av_cust_aggregate2 = df_merged.groupby('customer_unique_id')['diff_dlv_est'].mean().reset_index().rename(columns={'diff_dlv_est': 'avg_difference2'})\n",
    "    \n",
    "    return  av_cust_aggregate2"
   ]
  },
  {
   "cell_type": "code",
   "execution_count": 92,
   "metadata": {},
   "outputs": [
    {
     "name": "stdout",
     "output_type": "stream",
     "text": [
      "42398\n",
      "(44034,)\n"
     ]
    },
    {
     "name": "stderr",
     "output_type": "stream",
     "text": [
      "<ipython-input-91-d45c05698326>:2: SettingWithCopyWarning: \n",
      "A value is trying to be set on a copy of a slice from a DataFrame.\n",
      "Try using .loc[row_indexer,col_indexer] = value instead\n",
      "\n",
      "See the caveats in the documentation: https://pandas.pydata.org/pandas-docs/stable/user_guide/indexing.html#returning-a-view-versus-a-copy\n",
      "  df_merged['diff_dlv_est'] = (df_merged['order_estimated_delivery_date'] - df_merged['order_delivered_customer_date']).dt.days\n"
     ]
    }
   ],
   "source": [
    "av_cust_aggregate2 = avg_diff_order_est_delv(df_merged)\n",
    "\n",
    "print(av_cust_aggregate2.avg_difference2.count()) \n",
    "print(av_cust_aggregate2.avg_difference2.shape)"
   ]
  },
  {
   "cell_type": "code",
   "execution_count": 93,
   "metadata": {},
   "outputs": [
    {
     "data": {
      "image/png": "[encoded data removed]",
      "text/plain": [
       "<Figure size 1080x432 with 1 Axes>"
      ]
     },
     "metadata": {},
     "output_type": "display_data"
    }
   ],
   "source": [
    "sns.set(style='darkgrid')\n",
    "\n",
    "# adjust the plot size\n",
    "plt.figure().set_size_inches(15, 6)\n",
    "\n",
    "# histogram\n",
    "sns.distplot(av_cust_aggregate2['avg_difference2'], kde=False, bins=20)\n",
    "\n",
    "# assign axis labels\n",
    "plt.ylabel('Number of Customers', fontsize=14)\n",
    "plt.xlabel('Avg days from Estimated_del to actual_del', fontsize=14);"
   ]
  },
  {
   "cell_type": "markdown",
   "metadata": {},
   "source": [
    "### Attribute set #7: Total number of orders of each customer by location"
   ]
  },
  {
   "cell_type": "code",
   "execution_count": 94,
   "metadata": {},
   "outputs": [],
   "source": [
    "def cust_order_location(df_merged):\n",
    "#Check orders placed by a customer from each location \n",
    "#calculate total orders for each state\n",
    "    orders_cust.customer_state.value_counts()\n",
    "#Check orders placed by a customer from each location    \n",
    "    cust_orders_state = df_merged.groupby(['customer_unique_id', \n",
    "                                    'customer_state']).size().reset_index() \\\n",
    "                                        .rename(columns={0: 'state_total_orders'})\n",
    "   \n",
    "    cust_state_pivot = cust_orders_state.pivot(index = 'customer_unique_id', columns = 'customer_state', \n",
    "                               values = 'state_total_orders').rename_axis(None, axis=1).reset_index()\n",
    "    \n",
    "    cust_state_pivot = cust_state_pivot.fillna(0)\n",
    "    \n",
    "    return cust_state_pivot\n",
    "    #cust_orders_state[cust_orders_state['state_total_orders'] > 1]"
   ]
  },
  {
   "cell_type": "code",
   "execution_count": 95,
   "metadata": {},
   "outputs": [
    {
     "data": {
      "text/html": [
       "<div>\n",
       "<style scoped>\n",
       "    .dataframe tbody tr th:only-of-type {\n",
       "        vertical-align: middle;\n",
       "    }\n",
       "\n",
       "    .dataframe tbody tr th {\n",
       "        vertical-align: top;\n",
       "    }\n",
       "\n",
       "    .dataframe thead th {\n",
       "        text-align: right;\n",
       "    }\n",
       "</style>\n",
       "<table border=\"1\" class=\"dataframe\">\n",
       "  <thead>\n",
       "    <tr style=\"text-align: right;\">\n",
       "      <th></th>\n",
       "      <th>customer_unique_id</th>\n",
       "      <th>AC</th>\n",
       "      <th>AL</th>\n",
       "      <th>AM</th>\n",
       "      <th>AP</th>\n",
       "      <th>BA</th>\n",
       "      <th>CE</th>\n",
       "      <th>DF</th>\n",
       "      <th>ES</th>\n",
       "      <th>GO</th>\n",
       "      <th>...</th>\n",
       "      <th>PR</th>\n",
       "      <th>RJ</th>\n",
       "      <th>RN</th>\n",
       "      <th>RO</th>\n",
       "      <th>RR</th>\n",
       "      <th>RS</th>\n",
       "      <th>SC</th>\n",
       "      <th>SE</th>\n",
       "      <th>SP</th>\n",
       "      <th>TO</th>\n",
       "    </tr>\n",
       "  </thead>\n",
       "  <tbody>\n",
       "    <tr>\n",
       "      <th>0</th>\n",
       "      <td>0000f46a3911fa3c0805444483337064</td>\n",
       "      <td>0.0</td>\n",
       "      <td>0.0</td>\n",
       "      <td>0.0</td>\n",
       "      <td>0.0</td>\n",
       "      <td>0.0</td>\n",
       "      <td>0.0</td>\n",
       "      <td>0.0</td>\n",
       "      <td>0.0</td>\n",
       "      <td>0.0</td>\n",
       "      <td>...</td>\n",
       "      <td>0.0</td>\n",
       "      <td>0.0</td>\n",
       "      <td>0.0</td>\n",
       "      <td>0.0</td>\n",
       "      <td>0.0</td>\n",
       "      <td>0.0</td>\n",
       "      <td>1.0</td>\n",
       "      <td>0.0</td>\n",
       "      <td>0.0</td>\n",
       "      <td>0.0</td>\n",
       "    </tr>\n",
       "    <tr>\n",
       "      <th>1</th>\n",
       "      <td>0000f6ccb0745a6a4b88665a16c9f078</td>\n",
       "      <td>0.0</td>\n",
       "      <td>0.0</td>\n",
       "      <td>0.0</td>\n",
       "      <td>0.0</td>\n",
       "      <td>0.0</td>\n",
       "      <td>0.0</td>\n",
       "      <td>0.0</td>\n",
       "      <td>0.0</td>\n",
       "      <td>0.0</td>\n",
       "      <td>...</td>\n",
       "      <td>0.0</td>\n",
       "      <td>0.0</td>\n",
       "      <td>0.0</td>\n",
       "      <td>0.0</td>\n",
       "      <td>0.0</td>\n",
       "      <td>0.0</td>\n",
       "      <td>0.0</td>\n",
       "      <td>0.0</td>\n",
       "      <td>0.0</td>\n",
       "      <td>0.0</td>\n",
       "    </tr>\n",
       "    <tr>\n",
       "      <th>2</th>\n",
       "      <td>0004aac84e0df4da2b147fca70cf8255</td>\n",
       "      <td>0.0</td>\n",
       "      <td>0.0</td>\n",
       "      <td>0.0</td>\n",
       "      <td>0.0</td>\n",
       "      <td>0.0</td>\n",
       "      <td>0.0</td>\n",
       "      <td>0.0</td>\n",
       "      <td>0.0</td>\n",
       "      <td>0.0</td>\n",
       "      <td>...</td>\n",
       "      <td>0.0</td>\n",
       "      <td>0.0</td>\n",
       "      <td>0.0</td>\n",
       "      <td>0.0</td>\n",
       "      <td>0.0</td>\n",
       "      <td>0.0</td>\n",
       "      <td>0.0</td>\n",
       "      <td>0.0</td>\n",
       "      <td>1.0</td>\n",
       "      <td>0.0</td>\n",
       "    </tr>\n",
       "    <tr>\n",
       "      <th>3</th>\n",
       "      <td>0005e1862207bf6ccc02e4228effd9a0</td>\n",
       "      <td>0.0</td>\n",
       "      <td>0.0</td>\n",
       "      <td>0.0</td>\n",
       "      <td>0.0</td>\n",
       "      <td>0.0</td>\n",
       "      <td>0.0</td>\n",
       "      <td>0.0</td>\n",
       "      <td>0.0</td>\n",
       "      <td>0.0</td>\n",
       "      <td>...</td>\n",
       "      <td>0.0</td>\n",
       "      <td>1.0</td>\n",
       "      <td>0.0</td>\n",
       "      <td>0.0</td>\n",
       "      <td>0.0</td>\n",
       "      <td>0.0</td>\n",
       "      <td>0.0</td>\n",
       "      <td>0.0</td>\n",
       "      <td>0.0</td>\n",
       "      <td>0.0</td>\n",
       "    </tr>\n",
       "    <tr>\n",
       "      <th>4</th>\n",
       "      <td>0006fdc98a402fceb4eb0ee528f6a8d4</td>\n",
       "      <td>0.0</td>\n",
       "      <td>0.0</td>\n",
       "      <td>0.0</td>\n",
       "      <td>0.0</td>\n",
       "      <td>0.0</td>\n",
       "      <td>0.0</td>\n",
       "      <td>0.0</td>\n",
       "      <td>1.0</td>\n",
       "      <td>0.0</td>\n",
       "      <td>...</td>\n",
       "      <td>0.0</td>\n",
       "      <td>0.0</td>\n",
       "      <td>0.0</td>\n",
       "      <td>0.0</td>\n",
       "      <td>0.0</td>\n",
       "      <td>0.0</td>\n",
       "      <td>0.0</td>\n",
       "      <td>0.0</td>\n",
       "      <td>0.0</td>\n",
       "      <td>0.0</td>\n",
       "    </tr>\n",
       "    <tr>\n",
       "      <th>...</th>\n",
       "      <td>...</td>\n",
       "      <td>...</td>\n",
       "      <td>...</td>\n",
       "      <td>...</td>\n",
       "      <td>...</td>\n",
       "      <td>...</td>\n",
       "      <td>...</td>\n",
       "      <td>...</td>\n",
       "      <td>...</td>\n",
       "      <td>...</td>\n",
       "      <td>...</td>\n",
       "      <td>...</td>\n",
       "      <td>...</td>\n",
       "      <td>...</td>\n",
       "      <td>...</td>\n",
       "      <td>...</td>\n",
       "      <td>...</td>\n",
       "      <td>...</td>\n",
       "      <td>...</td>\n",
       "      <td>...</td>\n",
       "      <td>...</td>\n",
       "    </tr>\n",
       "    <tr>\n",
       "      <th>44029</th>\n",
       "      <td>fffbf87b7a1a6fa8b03f081c5f51a201</td>\n",
       "      <td>0.0</td>\n",
       "      <td>0.0</td>\n",
       "      <td>0.0</td>\n",
       "      <td>0.0</td>\n",
       "      <td>0.0</td>\n",
       "      <td>1.0</td>\n",
       "      <td>0.0</td>\n",
       "      <td>0.0</td>\n",
       "      <td>0.0</td>\n",
       "      <td>...</td>\n",
       "      <td>0.0</td>\n",
       "      <td>0.0</td>\n",
       "      <td>0.0</td>\n",
       "      <td>0.0</td>\n",
       "      <td>0.0</td>\n",
       "      <td>0.0</td>\n",
       "      <td>0.0</td>\n",
       "      <td>0.0</td>\n",
       "      <td>0.0</td>\n",
       "      <td>0.0</td>\n",
       "    </tr>\n",
       "    <tr>\n",
       "      <th>44030</th>\n",
       "      <td>fffcf5a5ff07b0908bd4e2dbc735a684</td>\n",
       "      <td>0.0</td>\n",
       "      <td>0.0</td>\n",
       "      <td>0.0</td>\n",
       "      <td>0.0</td>\n",
       "      <td>0.0</td>\n",
       "      <td>0.0</td>\n",
       "      <td>0.0</td>\n",
       "      <td>0.0</td>\n",
       "      <td>0.0</td>\n",
       "      <td>...</td>\n",
       "      <td>0.0</td>\n",
       "      <td>0.0</td>\n",
       "      <td>0.0</td>\n",
       "      <td>0.0</td>\n",
       "      <td>0.0</td>\n",
       "      <td>0.0</td>\n",
       "      <td>0.0</td>\n",
       "      <td>0.0</td>\n",
       "      <td>0.0</td>\n",
       "      <td>0.0</td>\n",
       "    </tr>\n",
       "    <tr>\n",
       "      <th>44031</th>\n",
       "      <td>fffea47cd6d3cc0a88bd621562a9d061</td>\n",
       "      <td>0.0</td>\n",
       "      <td>0.0</td>\n",
       "      <td>0.0</td>\n",
       "      <td>0.0</td>\n",
       "      <td>1.0</td>\n",
       "      <td>0.0</td>\n",
       "      <td>0.0</td>\n",
       "      <td>0.0</td>\n",
       "      <td>0.0</td>\n",
       "      <td>...</td>\n",
       "      <td>0.0</td>\n",
       "      <td>0.0</td>\n",
       "      <td>0.0</td>\n",
       "      <td>0.0</td>\n",
       "      <td>0.0</td>\n",
       "      <td>0.0</td>\n",
       "      <td>0.0</td>\n",
       "      <td>0.0</td>\n",
       "      <td>0.0</td>\n",
       "      <td>0.0</td>\n",
       "    </tr>\n",
       "    <tr>\n",
       "      <th>44032</th>\n",
       "      <td>ffff371b4d645b6ecea244b27531430a</td>\n",
       "      <td>0.0</td>\n",
       "      <td>0.0</td>\n",
       "      <td>0.0</td>\n",
       "      <td>0.0</td>\n",
       "      <td>0.0</td>\n",
       "      <td>0.0</td>\n",
       "      <td>0.0</td>\n",
       "      <td>0.0</td>\n",
       "      <td>0.0</td>\n",
       "      <td>...</td>\n",
       "      <td>0.0</td>\n",
       "      <td>0.0</td>\n",
       "      <td>0.0</td>\n",
       "      <td>0.0</td>\n",
       "      <td>0.0</td>\n",
       "      <td>0.0</td>\n",
       "      <td>0.0</td>\n",
       "      <td>0.0</td>\n",
       "      <td>0.0</td>\n",
       "      <td>0.0</td>\n",
       "    </tr>\n",
       "    <tr>\n",
       "      <th>44033</th>\n",
       "      <td>ffffd2657e2aad2907e67c3e9daecbeb</td>\n",
       "      <td>0.0</td>\n",
       "      <td>0.0</td>\n",
       "      <td>0.0</td>\n",
       "      <td>0.0</td>\n",
       "      <td>0.0</td>\n",
       "      <td>0.0</td>\n",
       "      <td>0.0</td>\n",
       "      <td>0.0</td>\n",
       "      <td>0.0</td>\n",
       "      <td>...</td>\n",
       "      <td>1.0</td>\n",
       "      <td>0.0</td>\n",
       "      <td>0.0</td>\n",
       "      <td>0.0</td>\n",
       "      <td>0.0</td>\n",
       "      <td>0.0</td>\n",
       "      <td>0.0</td>\n",
       "      <td>0.0</td>\n",
       "      <td>0.0</td>\n",
       "      <td>0.0</td>\n",
       "    </tr>\n",
       "  </tbody>\n",
       "</table>\n",
       "<p>44034 rows × 28 columns</p>\n",
       "</div>"
      ],
      "text/plain": [
       "                     customer_unique_id   AC   AL   AM   AP   BA   CE   DF  \\\n",
       "0      0000f46a3911fa3c0805444483337064  0.0  0.0  0.0  0.0  0.0  0.0  0.0   \n",
       "1      0000f6ccb0745a6a4b88665a16c9f078  0.0  0.0  0.0  0.0  0.0  0.0  0.0   \n",
       "2      0004aac84e0df4da2b147fca70cf8255  0.0  0.0  0.0  0.0  0.0  0.0  0.0   \n",
       "3      0005e1862207bf6ccc02e4228effd9a0  0.0  0.0  0.0  0.0  0.0  0.0  0.0   \n",
       "4      0006fdc98a402fceb4eb0ee528f6a8d4  0.0  0.0  0.0  0.0  0.0  0.0  0.0   \n",
       "...                                 ...  ...  ...  ...  ...  ...  ...  ...   \n",
       "44029  fffbf87b7a1a6fa8b03f081c5f51a201  0.0  0.0  0.0  0.0  0.0  1.0  0.0   \n",
       "44030  fffcf5a5ff07b0908bd4e2dbc735a684  0.0  0.0  0.0  0.0  0.0  0.0  0.0   \n",
       "44031  fffea47cd6d3cc0a88bd621562a9d061  0.0  0.0  0.0  0.0  1.0  0.0  0.0   \n",
       "44032  ffff371b4d645b6ecea244b27531430a  0.0  0.0  0.0  0.0  0.0  0.0  0.0   \n",
       "44033  ffffd2657e2aad2907e67c3e9daecbeb  0.0  0.0  0.0  0.0  0.0  0.0  0.0   \n",
       "\n",
       "        ES   GO  ...   PR   RJ   RN   RO   RR   RS   SC   SE   SP   TO  \n",
       "0      0.0  0.0  ...  0.0  0.0  0.0  0.0  0.0  0.0  1.0  0.0  0.0  0.0  \n",
       "1      0.0  0.0  ...  0.0  0.0  0.0  0.0  0.0  0.0  0.0  0.0  0.0  0.0  \n",
       "2      0.0  0.0  ...  0.0  0.0  0.0  0.0  0.0  0.0  0.0  0.0  1.0  0.0  \n",
       "3      0.0  0.0  ...  0.0  1.0  0.0  0.0  0.0  0.0  0.0  0.0  0.0  0.0  \n",
       "4      1.0  0.0  ...  0.0  0.0  0.0  0.0  0.0  0.0  0.0  0.0  0.0  0.0  \n",
       "...    ...  ...  ...  ...  ...  ...  ...  ...  ...  ...  ...  ...  ...  \n",
       "44029  0.0  0.0  ...  0.0  0.0  0.0  0.0  0.0  0.0  0.0  0.0  0.0  0.0  \n",
       "44030  0.0  0.0  ...  0.0  0.0  0.0  0.0  0.0  0.0  0.0  0.0  0.0  0.0  \n",
       "44031  0.0  0.0  ...  0.0  0.0  0.0  0.0  0.0  0.0  0.0  0.0  0.0  0.0  \n",
       "44032  0.0  0.0  ...  0.0  0.0  0.0  0.0  0.0  0.0  0.0  0.0  0.0  0.0  \n",
       "44033  0.0  0.0  ...  1.0  0.0  0.0  0.0  0.0  0.0  0.0  0.0  0.0  0.0  \n",
       "\n",
       "[44034 rows x 28 columns]"
      ]
     },
     "execution_count": 95,
     "metadata": {},
     "output_type": "execute_result"
    }
   ],
   "source": [
    "cust_state_pivot = cust_order_location(df_merged)\n",
    "\n",
    "cust_state_pivot"
   ]
  },
  {
   "cell_type": "code",
   "execution_count": 36,
   "metadata": {},
   "outputs": [],
   "source": [
    "#cust_orders_state[cust_orders_state['customer_unique_id'].duplicated() ]\n",
    "#cust_orders_state[cust_orders_state['customer_unique_id'] == '2410195f6521688005612363835a2671']"
   ]
  },
  {
   "cell_type": "markdown",
   "metadata": {},
   "source": [
    "### Attribute set #8: weekday vs weekend"
   ]
  },
  {
   "cell_type": "code",
   "execution_count": 103,
   "metadata": {},
   "outputs": [],
   "source": [
    "def weekday_vs_weekend(df_merged):\n",
    "    df_merged['is_weekend'] = df_merged['order_dow'].apply(lambda x: 'weekend' if x == 'Sunday' or x == 'Saturday' else 'weekday')\n",
    "    #create dummies\n",
    "    df_merged = pd.get_dummies(df_merged, columns=['is_weekend'])\n",
    "    #create two new columns\n",
    "    dummies = [x for x in df_merged.columns if 'is_weekend' in x]\n",
    "    print(dummies)\n",
    "    Wkend_vs_wkday = df_merged.groupby(['customer_unique_id'])[dummies].sum().reset_index()\n",
    "    \n",
    "    return Wkend_vs_wkday"
   ]
  },
  {
   "cell_type": "code",
   "execution_count": 104,
   "metadata": {},
   "outputs": [
    {
     "name": "stdout",
     "output_type": "stream",
     "text": [
      "['is_weekend_weekday', 'is_weekend_weekend']\n"
     ]
    },
    {
     "name": "stderr",
     "output_type": "stream",
     "text": [
      "<ipython-input-103-c88466fe408e>:2: SettingWithCopyWarning: \n",
      "A value is trying to be set on a copy of a slice from a DataFrame.\n",
      "Try using .loc[row_indexer,col_indexer] = value instead\n",
      "\n",
      "See the caveats in the documentation: https://pandas.pydata.org/pandas-docs/stable/user_guide/indexing.html#returning-a-view-versus-a-copy\n",
      "  df_merged['is_weekend'] = df_merged['order_dow'].apply(lambda x: 'weekend' if x == 'Sunday' or x == 'Saturday' else 'weekday')\n"
     ]
    },
    {
     "data": {
      "text/html": [
       "<div>\n",
       "<style scoped>\n",
       "    .dataframe tbody tr th:only-of-type {\n",
       "        vertical-align: middle;\n",
       "    }\n",
       "\n",
       "    .dataframe tbody tr th {\n",
       "        vertical-align: top;\n",
       "    }\n",
       "\n",
       "    .dataframe thead th {\n",
       "        text-align: right;\n",
       "    }\n",
       "</style>\n",
       "<table border=\"1\" class=\"dataframe\">\n",
       "  <thead>\n",
       "    <tr style=\"text-align: right;\">\n",
       "      <th></th>\n",
       "      <th>customer_unique_id</th>\n",
       "      <th>is_weekend_weekday</th>\n",
       "      <th>is_weekend_weekend</th>\n",
       "    </tr>\n",
       "  </thead>\n",
       "  <tbody>\n",
       "    <tr>\n",
       "      <th>0</th>\n",
       "      <td>0000f46a3911fa3c0805444483337064</td>\n",
       "      <td>1</td>\n",
       "      <td>0</td>\n",
       "    </tr>\n",
       "    <tr>\n",
       "      <th>1</th>\n",
       "      <td>0000f6ccb0745a6a4b88665a16c9f078</td>\n",
       "      <td>1</td>\n",
       "      <td>0</td>\n",
       "    </tr>\n",
       "    <tr>\n",
       "      <th>2</th>\n",
       "      <td>0004aac84e0df4da2b147fca70cf8255</td>\n",
       "      <td>1</td>\n",
       "      <td>0</td>\n",
       "    </tr>\n",
       "    <tr>\n",
       "      <th>3</th>\n",
       "      <td>0005e1862207bf6ccc02e4228effd9a0</td>\n",
       "      <td>0</td>\n",
       "      <td>1</td>\n",
       "    </tr>\n",
       "    <tr>\n",
       "      <th>4</th>\n",
       "      <td>0006fdc98a402fceb4eb0ee528f6a8d4</td>\n",
       "      <td>1</td>\n",
       "      <td>0</td>\n",
       "    </tr>\n",
       "    <tr>\n",
       "      <th>...</th>\n",
       "      <td>...</td>\n",
       "      <td>...</td>\n",
       "      <td>...</td>\n",
       "    </tr>\n",
       "    <tr>\n",
       "      <th>44029</th>\n",
       "      <td>fffbf87b7a1a6fa8b03f081c5f51a201</td>\n",
       "      <td>1</td>\n",
       "      <td>0</td>\n",
       "    </tr>\n",
       "    <tr>\n",
       "      <th>44030</th>\n",
       "      <td>fffcf5a5ff07b0908bd4e2dbc735a684</td>\n",
       "      <td>1</td>\n",
       "      <td>0</td>\n",
       "    </tr>\n",
       "    <tr>\n",
       "      <th>44031</th>\n",
       "      <td>fffea47cd6d3cc0a88bd621562a9d061</td>\n",
       "      <td>0</td>\n",
       "      <td>1</td>\n",
       "    </tr>\n",
       "    <tr>\n",
       "      <th>44032</th>\n",
       "      <td>ffff371b4d645b6ecea244b27531430a</td>\n",
       "      <td>1</td>\n",
       "      <td>0</td>\n",
       "    </tr>\n",
       "    <tr>\n",
       "      <th>44033</th>\n",
       "      <td>ffffd2657e2aad2907e67c3e9daecbeb</td>\n",
       "      <td>1</td>\n",
       "      <td>0</td>\n",
       "    </tr>\n",
       "  </tbody>\n",
       "</table>\n",
       "<p>44034 rows × 3 columns</p>\n",
       "</div>"
      ],
      "text/plain": [
       "                     customer_unique_id  is_weekend_weekday  \\\n",
       "0      0000f46a3911fa3c0805444483337064                   1   \n",
       "1      0000f6ccb0745a6a4b88665a16c9f078                   1   \n",
       "2      0004aac84e0df4da2b147fca70cf8255                   1   \n",
       "3      0005e1862207bf6ccc02e4228effd9a0                   0   \n",
       "4      0006fdc98a402fceb4eb0ee528f6a8d4                   1   \n",
       "...                                 ...                 ...   \n",
       "44029  fffbf87b7a1a6fa8b03f081c5f51a201                   1   \n",
       "44030  fffcf5a5ff07b0908bd4e2dbc735a684                   1   \n",
       "44031  fffea47cd6d3cc0a88bd621562a9d061                   0   \n",
       "44032  ffff371b4d645b6ecea244b27531430a                   1   \n",
       "44033  ffffd2657e2aad2907e67c3e9daecbeb                   1   \n",
       "\n",
       "       is_weekend_weekend  \n",
       "0                       0  \n",
       "1                       0  \n",
       "2                       0  \n",
       "3                       1  \n",
       "4                       0  \n",
       "...                   ...  \n",
       "44029                   0  \n",
       "44030                   0  \n",
       "44031                   1  \n",
       "44032                   0  \n",
       "44033                   0  \n",
       "\n",
       "[44034 rows x 3 columns]"
      ]
     },
     "execution_count": 104,
     "metadata": {},
     "output_type": "execute_result"
    }
   ],
   "source": [
    "Wkend_vs_wkday = weekday_vs_weekend(df_merged)\n",
    "\n",
    "Wkend_vs_wkday"
   ]
  },
  {
   "cell_type": "code",
   "execution_count": 39,
   "metadata": {
    "scrolled": true
   },
   "outputs": [],
   "source": [
    "#different way to calculate weekend vs weekdays\n",
    "# def is_weekday(orders_dow):\n",
    "#     if orders_dow == 'Sunday' or orders_dow == 'Saturday':\n",
    "#         return 'Y'\n",
    "#     else:\n",
    "#         return 'N'\n",
    "\n",
    "# df_merged['is_weekend'] = df_merged['order_dow'].apply(is_weekday)"
   ]
  },
  {
   "cell_type": "markdown",
   "metadata": {},
   "source": [
    "### Combine all attributes into a single dataframe"
   ]
  },
  {
   "cell_type": "code",
   "execution_count": 106,
   "metadata": {},
   "outputs": [
    {
     "data": {
      "text/plain": [
       "((44034, 2),\n",
       " (44034, 2),\n",
       " (44034, 8),\n",
       " (44034, 13),\n",
       " (44034, 2),\n",
       " (44034, 2),\n",
       " (44034, 28),\n",
       " (44034, 3))"
      ]
     },
     "execution_count": 106,
     "metadata": {},
     "output_type": "execute_result"
    }
   ],
   "source": [
    "# let's check the number of records in each dataframe first\n",
    "\n",
    "max_cust_recency.shape, cust_orders.shape, cust_dow.shape, cust_month.shape, av_cust_aggregate.shape, av_cust_aggregate2.shape, cust_state_pivot.shape, Wkend_vs_wkday.shape\n",
    "\n"
   ]
  },
  {
   "cell_type": "code",
   "execution_count": 107,
   "metadata": {},
   "outputs": [
    {
     "data": {
      "text/html": [
       "<div>\n",
       "<style scoped>\n",
       "    .dataframe tbody tr th:only-of-type {\n",
       "        vertical-align: middle;\n",
       "    }\n",
       "\n",
       "    .dataframe tbody tr th {\n",
       "        vertical-align: top;\n",
       "    }\n",
       "\n",
       "    .dataframe thead th {\n",
       "        text-align: right;\n",
       "    }\n",
       "</style>\n",
       "<table border=\"1\" class=\"dataframe\">\n",
       "  <thead>\n",
       "    <tr style=\"text-align: right;\">\n",
       "      <th></th>\n",
       "      <th>customer_unique_id</th>\n",
       "      <th>order_recency</th>\n",
       "      <th>total_orders</th>\n",
       "      <th>order_dow_Friday</th>\n",
       "      <th>order_dow_Monday</th>\n",
       "      <th>order_dow_Saturday</th>\n",
       "      <th>order_dow_Sunday</th>\n",
       "      <th>order_dow_Thursday</th>\n",
       "      <th>order_dow_Tuesday</th>\n",
       "      <th>order_dow_Wednesday</th>\n",
       "      <th>...</th>\n",
       "      <th>RN</th>\n",
       "      <th>RO</th>\n",
       "      <th>RR</th>\n",
       "      <th>RS</th>\n",
       "      <th>SC</th>\n",
       "      <th>SE</th>\n",
       "      <th>SP</th>\n",
       "      <th>TO</th>\n",
       "      <th>is_weekend_weekday</th>\n",
       "      <th>is_weekend_weekend</th>\n",
       "    </tr>\n",
       "  </thead>\n",
       "  <tbody>\n",
       "    <tr>\n",
       "      <th>0</th>\n",
       "      <td>0000f46a3911fa3c0805444483337064</td>\n",
       "      <td>9</td>\n",
       "      <td>1</td>\n",
       "      <td>1</td>\n",
       "      <td>0</td>\n",
       "      <td>0</td>\n",
       "      <td>0</td>\n",
       "      <td>0</td>\n",
       "      <td>0</td>\n",
       "      <td>0</td>\n",
       "      <td>...</td>\n",
       "      <td>0.0</td>\n",
       "      <td>0.0</td>\n",
       "      <td>0.0</td>\n",
       "      <td>0.0</td>\n",
       "      <td>1.0</td>\n",
       "      <td>0.0</td>\n",
       "      <td>0.0</td>\n",
       "      <td>0.0</td>\n",
       "      <td>1</td>\n",
       "      <td>0</td>\n",
       "    </tr>\n",
       "    <tr>\n",
       "      <th>1</th>\n",
       "      <td>0000f6ccb0745a6a4b88665a16c9f078</td>\n",
       "      <td>2</td>\n",
       "      <td>1</td>\n",
       "      <td>0</td>\n",
       "      <td>0</td>\n",
       "      <td>0</td>\n",
       "      <td>0</td>\n",
       "      <td>1</td>\n",
       "      <td>0</td>\n",
       "      <td>0</td>\n",
       "      <td>...</td>\n",
       "      <td>0.0</td>\n",
       "      <td>0.0</td>\n",
       "      <td>0.0</td>\n",
       "      <td>0.0</td>\n",
       "      <td>0.0</td>\n",
       "      <td>0.0</td>\n",
       "      <td>0.0</td>\n",
       "      <td>0.0</td>\n",
       "      <td>1</td>\n",
       "      <td>0</td>\n",
       "    </tr>\n",
       "    <tr>\n",
       "      <th>2</th>\n",
       "      <td>0004aac84e0df4da2b147fca70cf8255</td>\n",
       "      <td>1</td>\n",
       "      <td>1</td>\n",
       "      <td>0</td>\n",
       "      <td>0</td>\n",
       "      <td>0</td>\n",
       "      <td>0</td>\n",
       "      <td>0</td>\n",
       "      <td>1</td>\n",
       "      <td>0</td>\n",
       "      <td>...</td>\n",
       "      <td>0.0</td>\n",
       "      <td>0.0</td>\n",
       "      <td>0.0</td>\n",
       "      <td>0.0</td>\n",
       "      <td>0.0</td>\n",
       "      <td>0.0</td>\n",
       "      <td>1.0</td>\n",
       "      <td>0.0</td>\n",
       "      <td>1</td>\n",
       "      <td>0</td>\n",
       "    </tr>\n",
       "    <tr>\n",
       "      <th>3</th>\n",
       "      <td>0005e1862207bf6ccc02e4228effd9a0</td>\n",
       "      <td>10</td>\n",
       "      <td>1</td>\n",
       "      <td>0</td>\n",
       "      <td>0</td>\n",
       "      <td>1</td>\n",
       "      <td>0</td>\n",
       "      <td>0</td>\n",
       "      <td>0</td>\n",
       "      <td>0</td>\n",
       "      <td>...</td>\n",
       "      <td>0.0</td>\n",
       "      <td>0.0</td>\n",
       "      <td>0.0</td>\n",
       "      <td>0.0</td>\n",
       "      <td>0.0</td>\n",
       "      <td>0.0</td>\n",
       "      <td>0.0</td>\n",
       "      <td>0.0</td>\n",
       "      <td>0</td>\n",
       "      <td>1</td>\n",
       "    </tr>\n",
       "    <tr>\n",
       "      <th>4</th>\n",
       "      <td>0006fdc98a402fceb4eb0ee528f6a8d4</td>\n",
       "      <td>5</td>\n",
       "      <td>1</td>\n",
       "      <td>0</td>\n",
       "      <td>0</td>\n",
       "      <td>0</td>\n",
       "      <td>0</td>\n",
       "      <td>0</td>\n",
       "      <td>1</td>\n",
       "      <td>0</td>\n",
       "      <td>...</td>\n",
       "      <td>0.0</td>\n",
       "      <td>0.0</td>\n",
       "      <td>0.0</td>\n",
       "      <td>0.0</td>\n",
       "      <td>0.0</td>\n",
       "      <td>0.0</td>\n",
       "      <td>0.0</td>\n",
       "      <td>0.0</td>\n",
       "      <td>1</td>\n",
       "      <td>0</td>\n",
       "    </tr>\n",
       "    <tr>\n",
       "      <th>...</th>\n",
       "      <td>...</td>\n",
       "      <td>...</td>\n",
       "      <td>...</td>\n",
       "      <td>...</td>\n",
       "      <td>...</td>\n",
       "      <td>...</td>\n",
       "      <td>...</td>\n",
       "      <td>...</td>\n",
       "      <td>...</td>\n",
       "      <td>...</td>\n",
       "      <td>...</td>\n",
       "      <td>...</td>\n",
       "      <td>...</td>\n",
       "      <td>...</td>\n",
       "      <td>...</td>\n",
       "      <td>...</td>\n",
       "      <td>...</td>\n",
       "      <td>...</td>\n",
       "      <td>...</td>\n",
       "      <td>...</td>\n",
       "      <td>...</td>\n",
       "    </tr>\n",
       "    <tr>\n",
       "      <th>44029</th>\n",
       "      <td>fffbf87b7a1a6fa8b03f081c5f51a201</td>\n",
       "      <td>0</td>\n",
       "      <td>1</td>\n",
       "      <td>0</td>\n",
       "      <td>0</td>\n",
       "      <td>0</td>\n",
       "      <td>0</td>\n",
       "      <td>0</td>\n",
       "      <td>0</td>\n",
       "      <td>1</td>\n",
       "      <td>...</td>\n",
       "      <td>0.0</td>\n",
       "      <td>0.0</td>\n",
       "      <td>0.0</td>\n",
       "      <td>0.0</td>\n",
       "      <td>0.0</td>\n",
       "      <td>0.0</td>\n",
       "      <td>0.0</td>\n",
       "      <td>0.0</td>\n",
       "      <td>1</td>\n",
       "      <td>0</td>\n",
       "    </tr>\n",
       "    <tr>\n",
       "      <th>44030</th>\n",
       "      <td>fffcf5a5ff07b0908bd4e2dbc735a684</td>\n",
       "      <td>6</td>\n",
       "      <td>1</td>\n",
       "      <td>0</td>\n",
       "      <td>0</td>\n",
       "      <td>0</td>\n",
       "      <td>0</td>\n",
       "      <td>1</td>\n",
       "      <td>0</td>\n",
       "      <td>0</td>\n",
       "      <td>...</td>\n",
       "      <td>0.0</td>\n",
       "      <td>0.0</td>\n",
       "      <td>0.0</td>\n",
       "      <td>0.0</td>\n",
       "      <td>0.0</td>\n",
       "      <td>0.0</td>\n",
       "      <td>0.0</td>\n",
       "      <td>0.0</td>\n",
       "      <td>1</td>\n",
       "      <td>0</td>\n",
       "    </tr>\n",
       "    <tr>\n",
       "      <th>44031</th>\n",
       "      <td>fffea47cd6d3cc0a88bd621562a9d061</td>\n",
       "      <td>0</td>\n",
       "      <td>1</td>\n",
       "      <td>0</td>\n",
       "      <td>0</td>\n",
       "      <td>0</td>\n",
       "      <td>1</td>\n",
       "      <td>0</td>\n",
       "      <td>0</td>\n",
       "      <td>0</td>\n",
       "      <td>...</td>\n",
       "      <td>0.0</td>\n",
       "      <td>0.0</td>\n",
       "      <td>0.0</td>\n",
       "      <td>0.0</td>\n",
       "      <td>0.0</td>\n",
       "      <td>0.0</td>\n",
       "      <td>0.0</td>\n",
       "      <td>0.0</td>\n",
       "      <td>0</td>\n",
       "      <td>1</td>\n",
       "    </tr>\n",
       "    <tr>\n",
       "      <th>44032</th>\n",
       "      <td>ffff371b4d645b6ecea244b27531430a</td>\n",
       "      <td>10</td>\n",
       "      <td>1</td>\n",
       "      <td>0</td>\n",
       "      <td>0</td>\n",
       "      <td>0</td>\n",
       "      <td>0</td>\n",
       "      <td>0</td>\n",
       "      <td>1</td>\n",
       "      <td>0</td>\n",
       "      <td>...</td>\n",
       "      <td>0.0</td>\n",
       "      <td>0.0</td>\n",
       "      <td>0.0</td>\n",
       "      <td>0.0</td>\n",
       "      <td>0.0</td>\n",
       "      <td>0.0</td>\n",
       "      <td>0.0</td>\n",
       "      <td>0.0</td>\n",
       "      <td>1</td>\n",
       "      <td>0</td>\n",
       "    </tr>\n",
       "    <tr>\n",
       "      <th>44033</th>\n",
       "      <td>ffffd2657e2aad2907e67c3e9daecbeb</td>\n",
       "      <td>8</td>\n",
       "      <td>1</td>\n",
       "      <td>0</td>\n",
       "      <td>0</td>\n",
       "      <td>0</td>\n",
       "      <td>0</td>\n",
       "      <td>0</td>\n",
       "      <td>1</td>\n",
       "      <td>0</td>\n",
       "      <td>...</td>\n",
       "      <td>0.0</td>\n",
       "      <td>0.0</td>\n",
       "      <td>0.0</td>\n",
       "      <td>0.0</td>\n",
       "      <td>0.0</td>\n",
       "      <td>0.0</td>\n",
       "      <td>0.0</td>\n",
       "      <td>0.0</td>\n",
       "      <td>1</td>\n",
       "      <td>0</td>\n",
       "    </tr>\n",
       "  </tbody>\n",
       "</table>\n",
       "<p>44034 rows × 53 columns</p>\n",
       "</div>"
      ],
      "text/plain": [
       "                     customer_unique_id  order_recency  total_orders  \\\n",
       "0      0000f46a3911fa3c0805444483337064              9             1   \n",
       "1      0000f6ccb0745a6a4b88665a16c9f078              2             1   \n",
       "2      0004aac84e0df4da2b147fca70cf8255              1             1   \n",
       "3      0005e1862207bf6ccc02e4228effd9a0             10             1   \n",
       "4      0006fdc98a402fceb4eb0ee528f6a8d4              5             1   \n",
       "...                                 ...            ...           ...   \n",
       "44029  fffbf87b7a1a6fa8b03f081c5f51a201              0             1   \n",
       "44030  fffcf5a5ff07b0908bd4e2dbc735a684              6             1   \n",
       "44031  fffea47cd6d3cc0a88bd621562a9d061              0             1   \n",
       "44032  ffff371b4d645b6ecea244b27531430a             10             1   \n",
       "44033  ffffd2657e2aad2907e67c3e9daecbeb              8             1   \n",
       "\n",
       "       order_dow_Friday  order_dow_Monday  order_dow_Saturday  \\\n",
       "0                     1                 0                   0   \n",
       "1                     0                 0                   0   \n",
       "2                     0                 0                   0   \n",
       "3                     0                 0                   1   \n",
       "4                     0                 0                   0   \n",
       "...                 ...               ...                 ...   \n",
       "44029                 0                 0                   0   \n",
       "44030                 0                 0                   0   \n",
       "44031                 0                 0                   0   \n",
       "44032                 0                 0                   0   \n",
       "44033                 0                 0                   0   \n",
       "\n",
       "       order_dow_Sunday  order_dow_Thursday  order_dow_Tuesday  \\\n",
       "0                     0                   0                  0   \n",
       "1                     0                   1                  0   \n",
       "2                     0                   0                  1   \n",
       "3                     0                   0                  0   \n",
       "4                     0                   0                  1   \n",
       "...                 ...                 ...                ...   \n",
       "44029                 0                   0                  0   \n",
       "44030                 0                   1                  0   \n",
       "44031                 1                   0                  0   \n",
       "44032                 0                   0                  1   \n",
       "44033                 0                   0                  1   \n",
       "\n",
       "       order_dow_Wednesday  ...   RN   RO   RR   RS   SC   SE   SP   TO  \\\n",
       "0                        0  ...  0.0  0.0  0.0  0.0  1.0  0.0  0.0  0.0   \n",
       "1                        0  ...  0.0  0.0  0.0  0.0  0.0  0.0  0.0  0.0   \n",
       "2                        0  ...  0.0  0.0  0.0  0.0  0.0  0.0  1.0  0.0   \n",
       "3                        0  ...  0.0  0.0  0.0  0.0  0.0  0.0  0.0  0.0   \n",
       "4                        0  ...  0.0  0.0  0.0  0.0  0.0  0.0  0.0  0.0   \n",
       "...                    ...  ...  ...  ...  ...  ...  ...  ...  ...  ...   \n",
       "44029                    1  ...  0.0  0.0  0.0  0.0  0.0  0.0  0.0  0.0   \n",
       "44030                    0  ...  0.0  0.0  0.0  0.0  0.0  0.0  0.0  0.0   \n",
       "44031                    0  ...  0.0  0.0  0.0  0.0  0.0  0.0  0.0  0.0   \n",
       "44032                    0  ...  0.0  0.0  0.0  0.0  0.0  0.0  0.0  0.0   \n",
       "44033                    0  ...  0.0  0.0  0.0  0.0  0.0  0.0  0.0  0.0   \n",
       "\n",
       "       is_weekend_weekday  is_weekend_weekend  \n",
       "0                       1                   0  \n",
       "1                       1                   0  \n",
       "2                       1                   0  \n",
       "3                       0                   1  \n",
       "4                       1                   0  \n",
       "...                   ...                 ...  \n",
       "44029                   1                   0  \n",
       "44030                   1                   0  \n",
       "44031                   0                   1  \n",
       "44032                   1                   0  \n",
       "44033                   1                   0  \n",
       "\n",
       "[44034 rows x 53 columns]"
      ]
     },
     "execution_count": 107,
     "metadata": {},
     "output_type": "execute_result"
    }
   ],
   "source": [
    "# combine (merge) attributes so that we have all the attributes in one dataset\n",
    "all_data_frames = [max_cust_recency, cust_orders, cust_dow, cust_month, av_cust_aggregate, av_cust_aggregate2,\n",
    "                   cust_state_pivot, Wkend_vs_wkday]\n",
    "df_combined = reduce(lambda  left,right: pd.merge(left,right,on=['customer_unique_id'],\n",
    "                                            how='outer'), all_data_frames)\n",
    "#convert list into dataframe\n",
    "df_combined = pd.DataFrame(df_combined)\n",
    "\n",
    "df_combined"
   ]
  },
  {
   "cell_type": "markdown",
   "metadata": {},
   "source": [
    "#### Exclude customers who have not placed an order within the past one year"
   ]
  },
  {
   "cell_type": "code",
   "execution_count": 108,
   "metadata": {},
   "outputs": [],
   "source": [
    "df_combined = df_combined[df_combined['order_recency'] <= 12]"
   ]
  },
  {
   "cell_type": "code",
   "execution_count": 109,
   "metadata": {},
   "outputs": [
    {
     "data": {
      "text/plain": [
       "(43713, 53)"
      ]
     },
     "execution_count": 109,
     "metadata": {},
     "output_type": "execute_result"
    }
   ],
   "source": [
    "df_combined.shape\n"
   ]
  },
  {
   "cell_type": "markdown",
   "metadata": {},
   "source": [
    "### Assign labels (aka the target variable or the dependent variable)"
   ]
  },
  {
   "cell_type": "markdown",
   "metadata": {},
   "source": [
    "For this exercise, we will assume that the objective of the model is to predict whether a customer will make at least one purchase in the future (i.e., within the target window of the model)."
   ]
  },
  {
   "cell_type": "markdown",
   "metadata": {},
   "source": [
    "**Step 1:** Isolate all orders that were placed within the prediction window."
   ]
  },
  {
   "cell_type": "code",
   "execution_count": 110,
   "metadata": {},
   "outputs": [],
   "source": [
    "# select orders that were placed from Jan 2018 to July 2018\n",
    "startdate = date(2018, 1, 1)"
   ]
  },
  {
   "cell_type": "code",
   "execution_count": 111,
   "metadata": {},
   "outputs": [],
   "source": [
    "end_date = date(2018, 7, 31)"
   ]
  },
  {
   "cell_type": "code",
   "execution_count": 112,
   "metadata": {},
   "outputs": [],
   "source": [
    "mask2 = orders_cust['order_purchase_timestamp'].dt.date >= startdate \n",
    "mask3 = orders_cust['order_purchase_timestamp'].dt.date <= end_date"
   ]
  },
  {
   "cell_type": "code",
   "execution_count": 113,
   "metadata": {},
   "outputs": [
    {
     "data": {
      "text/html": [
       "<div>\n",
       "<style scoped>\n",
       "    .dataframe tbody tr th:only-of-type {\n",
       "        vertical-align: middle;\n",
       "    }\n",
       "\n",
       "    .dataframe tbody tr th {\n",
       "        vertical-align: top;\n",
       "    }\n",
       "\n",
       "    .dataframe thead th {\n",
       "        text-align: right;\n",
       "    }\n",
       "</style>\n",
       "<table border=\"1\" class=\"dataframe\">\n",
       "  <thead>\n",
       "    <tr style=\"text-align: right;\">\n",
       "      <th></th>\n",
       "      <th>order_id</th>\n",
       "      <th>customer_id</th>\n",
       "      <th>order_status</th>\n",
       "      <th>order_purchase_timestamp</th>\n",
       "      <th>order_approved_at</th>\n",
       "      <th>order_delivered_carrier_date</th>\n",
       "      <th>order_delivered_customer_date</th>\n",
       "      <th>order_estimated_delivery_date</th>\n",
       "      <th>customer_unique_id</th>\n",
       "      <th>customer_zip_code_prefix</th>\n",
       "      <th>customer_city</th>\n",
       "      <th>customer_state</th>\n",
       "    </tr>\n",
       "  </thead>\n",
       "  <tbody>\n",
       "    <tr>\n",
       "      <th>1</th>\n",
       "      <td>53cdb2fc8bc7dce0b6741e2150273451</td>\n",
       "      <td>b0830fb4747a6c6d20dea0b8c802d7ef</td>\n",
       "      <td>delivered</td>\n",
       "      <td>2018-07-24 20:41:37</td>\n",
       "      <td>2018-07-26 03:24:27</td>\n",
       "      <td>2018-07-26 14:31:00</td>\n",
       "      <td>2018-08-07 15:27:45</td>\n",
       "      <td>2018-08-13</td>\n",
       "      <td>af07308b275d755c9edb36a90c618231</td>\n",
       "      <td>47813</td>\n",
       "      <td>barreiras</td>\n",
       "      <td>BA</td>\n",
       "    </tr>\n",
       "    <tr>\n",
       "      <th>4</th>\n",
       "      <td>ad21c59c0840e6cb83a9ceb5573f8159</td>\n",
       "      <td>8ab97904e6daea8866dbdbc4fb7aad2c</td>\n",
       "      <td>delivered</td>\n",
       "      <td>2018-02-13 21:18:39</td>\n",
       "      <td>2018-02-13 22:20:29</td>\n",
       "      <td>2018-02-14 19:46:34</td>\n",
       "      <td>2018-02-16 18:17:02</td>\n",
       "      <td>2018-02-26</td>\n",
       "      <td>72632f0f9dd73dfee390c9b22eb56dd6</td>\n",
       "      <td>9195</td>\n",
       "      <td>santo andre</td>\n",
       "      <td>SP</td>\n",
       "    </tr>\n",
       "    <tr>\n",
       "      <th>12</th>\n",
       "      <td>82566a660a982b15fb86e904c8d32918</td>\n",
       "      <td>d3e3b74c766bc6214e0c830b17ee2341</td>\n",
       "      <td>delivered</td>\n",
       "      <td>2018-06-07 10:06:19</td>\n",
       "      <td>2018-06-09 03:13:12</td>\n",
       "      <td>2018-06-11 13:29:00</td>\n",
       "      <td>2018-06-19 12:05:52</td>\n",
       "      <td>2018-07-18</td>\n",
       "      <td>e97109680b052ee858d93a539597bba7</td>\n",
       "      <td>35400</td>\n",
       "      <td>ouro preto</td>\n",
       "      <td>MG</td>\n",
       "    </tr>\n",
       "    <tr>\n",
       "      <th>13</th>\n",
       "      <td>5ff96c15d0b717ac6ad1f3d77225a350</td>\n",
       "      <td>19402a48fe860416adf93348aba37740</td>\n",
       "      <td>delivered</td>\n",
       "      <td>2018-07-25 17:44:10</td>\n",
       "      <td>2018-07-25 17:55:14</td>\n",
       "      <td>2018-07-26 13:16:00</td>\n",
       "      <td>2018-07-30 15:52:25</td>\n",
       "      <td>2018-08-08</td>\n",
       "      <td>e2dfa3127fedbbca9707b36304996dab</td>\n",
       "      <td>4812</td>\n",
       "      <td>sao paulo</td>\n",
       "      <td>SP</td>\n",
       "    </tr>\n",
       "    <tr>\n",
       "      <th>14</th>\n",
       "      <td>432aaf21d85167c2c86ec9448c4e42cc</td>\n",
       "      <td>3df704f53d3f1d4818840b34ec672a9f</td>\n",
       "      <td>delivered</td>\n",
       "      <td>2018-03-01 14:14:28</td>\n",
       "      <td>2018-03-01 15:10:47</td>\n",
       "      <td>2018-03-02 21:09:20</td>\n",
       "      <td>2018-03-12 23:36:26</td>\n",
       "      <td>2018-03-21</td>\n",
       "      <td>04cf8185c71090d28baa4407b2e6d600</td>\n",
       "      <td>5271</td>\n",
       "      <td>sao paulo</td>\n",
       "      <td>SP</td>\n",
       "    </tr>\n",
       "    <tr>\n",
       "      <th>...</th>\n",
       "      <td>...</td>\n",
       "      <td>...</td>\n",
       "      <td>...</td>\n",
       "      <td>...</td>\n",
       "      <td>...</td>\n",
       "      <td>...</td>\n",
       "      <td>...</td>\n",
       "      <td>...</td>\n",
       "      <td>...</td>\n",
       "      <td>...</td>\n",
       "      <td>...</td>\n",
       "      <td>...</td>\n",
       "    </tr>\n",
       "    <tr>\n",
       "      <th>99428</th>\n",
       "      <td>c22a47117b6a87c967b0c278488110c1</td>\n",
       "      <td>6e153567dc52ea59c0498ef5383e9c7a</td>\n",
       "      <td>delivered</td>\n",
       "      <td>2018-06-22 20:53:29</td>\n",
       "      <td>2018-06-22 21:17:45</td>\n",
       "      <td>2018-06-25 17:50:00</td>\n",
       "      <td>2018-07-03 19:48:54</td>\n",
       "      <td>2018-07-23</td>\n",
       "      <td>e930b415f39ab827ea66de80a9d36a22</td>\n",
       "      <td>13218</td>\n",
       "      <td>jundiai</td>\n",
       "      <td>SP</td>\n",
       "    </tr>\n",
       "    <tr>\n",
       "      <th>99430</th>\n",
       "      <td>c81f74e50f0496fa39716cc77cacd460</td>\n",
       "      <td>7b270ebc87c25c8404348c10ff80a80e</td>\n",
       "      <td>delivered</td>\n",
       "      <td>2018-03-04 22:48:38</td>\n",
       "      <td>2018-03-04 23:09:22</td>\n",
       "      <td>2018-03-05 16:15:04</td>\n",
       "      <td>2018-03-13 18:54:32</td>\n",
       "      <td>2018-03-26</td>\n",
       "      <td>324a22205906aa2612a33e63c00ca8bb</td>\n",
       "      <td>31130</td>\n",
       "      <td>belo horizonte</td>\n",
       "      <td>MG</td>\n",
       "    </tr>\n",
       "    <tr>\n",
       "      <th>99437</th>\n",
       "      <td>63943bddc261676b46f01ca7ac2f7bd8</td>\n",
       "      <td>1fca14ff2861355f6e5f14306ff977a7</td>\n",
       "      <td>delivered</td>\n",
       "      <td>2018-02-06 12:58:58</td>\n",
       "      <td>2018-02-06 13:10:37</td>\n",
       "      <td>2018-02-07 23:22:42</td>\n",
       "      <td>2018-02-28 17:37:56</td>\n",
       "      <td>2018-03-02</td>\n",
       "      <td>da62f9e57a76d978d02ab5362c509660</td>\n",
       "      <td>11722</td>\n",
       "      <td>praia grande</td>\n",
       "      <td>SP</td>\n",
       "    </tr>\n",
       "    <tr>\n",
       "      <th>99439</th>\n",
       "      <td>11c177c8e97725db2631073c19f07b62</td>\n",
       "      <td>b331b74b18dc79bcdf6532d51e1637c1</td>\n",
       "      <td>delivered</td>\n",
       "      <td>2018-01-08 21:28:27</td>\n",
       "      <td>2018-01-08 21:36:21</td>\n",
       "      <td>2018-01-12 15:35:03</td>\n",
       "      <td>2018-01-25 23:32:54</td>\n",
       "      <td>2018-02-15</td>\n",
       "      <td>5097a5312c8b157bb7be58ae360ef43c</td>\n",
       "      <td>28685</td>\n",
       "      <td>japuiba</td>\n",
       "      <td>RJ</td>\n",
       "    </tr>\n",
       "    <tr>\n",
       "      <th>99440</th>\n",
       "      <td>66dea50a8b16d9b4dee7af250b4be1a5</td>\n",
       "      <td>edb027a75a1449115f6b43211ae02a24</td>\n",
       "      <td>delivered</td>\n",
       "      <td>2018-03-08 20:57:30</td>\n",
       "      <td>2018-03-09 11:20:28</td>\n",
       "      <td>2018-03-09 22:11:59</td>\n",
       "      <td>2018-03-16 13:08:30</td>\n",
       "      <td>2018-04-03</td>\n",
       "      <td>60350aa974b26ff12caad89e55993bd6</td>\n",
       "      <td>83750</td>\n",
       "      <td>lapa</td>\n",
       "      <td>PR</td>\n",
       "    </tr>\n",
       "  </tbody>\n",
       "</table>\n",
       "<p>47479 rows × 12 columns</p>\n",
       "</div>"
      ],
      "text/plain": [
       "                               order_id                       customer_id  \\\n",
       "1      53cdb2fc8bc7dce0b6741e2150273451  b0830fb4747a6c6d20dea0b8c802d7ef   \n",
       "4      ad21c59c0840e6cb83a9ceb5573f8159  8ab97904e6daea8866dbdbc4fb7aad2c   \n",
       "12     82566a660a982b15fb86e904c8d32918  d3e3b74c766bc6214e0c830b17ee2341   \n",
       "13     5ff96c15d0b717ac6ad1f3d77225a350  19402a48fe860416adf93348aba37740   \n",
       "14     432aaf21d85167c2c86ec9448c4e42cc  3df704f53d3f1d4818840b34ec672a9f   \n",
       "...                                 ...                               ...   \n",
       "99428  c22a47117b6a87c967b0c278488110c1  6e153567dc52ea59c0498ef5383e9c7a   \n",
       "99430  c81f74e50f0496fa39716cc77cacd460  7b270ebc87c25c8404348c10ff80a80e   \n",
       "99437  63943bddc261676b46f01ca7ac2f7bd8  1fca14ff2861355f6e5f14306ff977a7   \n",
       "99439  11c177c8e97725db2631073c19f07b62  b331b74b18dc79bcdf6532d51e1637c1   \n",
       "99440  66dea50a8b16d9b4dee7af250b4be1a5  edb027a75a1449115f6b43211ae02a24   \n",
       "\n",
       "      order_status order_purchase_timestamp   order_approved_at  \\\n",
       "1        delivered      2018-07-24 20:41:37 2018-07-26 03:24:27   \n",
       "4        delivered      2018-02-13 21:18:39 2018-02-13 22:20:29   \n",
       "12       delivered      2018-06-07 10:06:19 2018-06-09 03:13:12   \n",
       "13       delivered      2018-07-25 17:44:10 2018-07-25 17:55:14   \n",
       "14       delivered      2018-03-01 14:14:28 2018-03-01 15:10:47   \n",
       "...            ...                      ...                 ...   \n",
       "99428    delivered      2018-06-22 20:53:29 2018-06-22 21:17:45   \n",
       "99430    delivered      2018-03-04 22:48:38 2018-03-04 23:09:22   \n",
       "99437    delivered      2018-02-06 12:58:58 2018-02-06 13:10:37   \n",
       "99439    delivered      2018-01-08 21:28:27 2018-01-08 21:36:21   \n",
       "99440    delivered      2018-03-08 20:57:30 2018-03-09 11:20:28   \n",
       "\n",
       "      order_delivered_carrier_date order_delivered_customer_date  \\\n",
       "1              2018-07-26 14:31:00           2018-08-07 15:27:45   \n",
       "4              2018-02-14 19:46:34           2018-02-16 18:17:02   \n",
       "12             2018-06-11 13:29:00           2018-06-19 12:05:52   \n",
       "13             2018-07-26 13:16:00           2018-07-30 15:52:25   \n",
       "14             2018-03-02 21:09:20           2018-03-12 23:36:26   \n",
       "...                            ...                           ...   \n",
       "99428          2018-06-25 17:50:00           2018-07-03 19:48:54   \n",
       "99430          2018-03-05 16:15:04           2018-03-13 18:54:32   \n",
       "99437          2018-02-07 23:22:42           2018-02-28 17:37:56   \n",
       "99439          2018-01-12 15:35:03           2018-01-25 23:32:54   \n",
       "99440          2018-03-09 22:11:59           2018-03-16 13:08:30   \n",
       "\n",
       "      order_estimated_delivery_date                customer_unique_id  \\\n",
       "1                        2018-08-13  af07308b275d755c9edb36a90c618231   \n",
       "4                        2018-02-26  72632f0f9dd73dfee390c9b22eb56dd6   \n",
       "12                       2018-07-18  e97109680b052ee858d93a539597bba7   \n",
       "13                       2018-08-08  e2dfa3127fedbbca9707b36304996dab   \n",
       "14                       2018-03-21  04cf8185c71090d28baa4407b2e6d600   \n",
       "...                             ...                               ...   \n",
       "99428                    2018-07-23  e930b415f39ab827ea66de80a9d36a22   \n",
       "99430                    2018-03-26  324a22205906aa2612a33e63c00ca8bb   \n",
       "99437                    2018-03-02  da62f9e57a76d978d02ab5362c509660   \n",
       "99439                    2018-02-15  5097a5312c8b157bb7be58ae360ef43c   \n",
       "99440                    2018-04-03  60350aa974b26ff12caad89e55993bd6   \n",
       "\n",
       "       customer_zip_code_prefix   customer_city customer_state  \n",
       "1                         47813       barreiras             BA  \n",
       "4                          9195     santo andre             SP  \n",
       "12                        35400      ouro preto             MG  \n",
       "13                         4812       sao paulo             SP  \n",
       "14                         5271       sao paulo             SP  \n",
       "...                         ...             ...            ...  \n",
       "99428                     13218         jundiai             SP  \n",
       "99430                     31130  belo horizonte             MG  \n",
       "99437                     11722    praia grande             SP  \n",
       "99439                     28685         japuiba             RJ  \n",
       "99440                     83750            lapa             PR  \n",
       "\n",
       "[47479 rows x 12 columns]"
      ]
     },
     "execution_count": 113,
     "metadata": {},
     "output_type": "execute_result"
    }
   ],
   "source": [
    "#apply masks to get the test dataframe\n",
    "test_df = orders_cust[mask2 & mask3]\n",
    "\n",
    "test_df"
   ]
  },
  {
   "cell_type": "code",
   "execution_count": 114,
   "metadata": {},
   "outputs": [
    {
     "name": "stdout",
     "output_type": "stream",
     "text": [
      "2018-01-01 02:48:41 2018-07-31 23:54:20\n"
     ]
    }
   ],
   "source": [
    "# confirm the min and max dates\n",
    "print (test_df['order_purchase_timestamp'].min(), test_df['order_purchase_timestamp'].max())"
   ]
  },
  {
   "cell_type": "markdown",
   "metadata": {},
   "source": [
    "**Step 2:** Summarize data to get one record per customer."
   ]
  },
  {
   "cell_type": "code",
   "execution_count": 115,
   "metadata": {},
   "outputs": [],
   "source": [
    "# count the number of orders (we will convert this into a binary flag later)\n",
    "\n",
    "test_dataframe = test_df.groupby('customer_unique_id').size().reset_index().rename(columns={0: 'purch'})\n",
    "\n",
    "#Customers who have purchased within the prediction window\n",
    "test_dataframe['purch'] = 1"
   ]
  },
  {
   "cell_type": "code",
   "execution_count": 116,
   "metadata": {},
   "outputs": [
    {
     "data": {
      "text/plain": [
       "1    46412\n",
       "Name: purch, dtype: int64"
      ]
     },
     "execution_count": 116,
     "metadata": {},
     "output_type": "execute_result"
    }
   ],
   "source": [
    "test_dataframe.purch.value_counts()"
   ]
  },
  {
   "cell_type": "code",
   "execution_count": 117,
   "metadata": {},
   "outputs": [
    {
     "name": "stdout",
     "output_type": "stream",
     "text": [
      "Number of customers who made at least one purchase durnig the prediction window: 46,412\n"
     ]
    }
   ],
   "source": [
    "print(f'Number of customers who made at least one purchase durnig the prediction window: {len(test_dataframe):,}')"
   ]
  },
  {
   "cell_type": "markdown",
   "metadata": {},
   "source": [
    "**Step 3:** Merge this dataframe with the `attr` dataframe to create the modeling dataset."
   ]
  },
  {
   "cell_type": "code",
   "execution_count": 118,
   "metadata": {},
   "outputs": [
    {
     "data": {
      "text/html": [
       "<div>\n",
       "<style scoped>\n",
       "    .dataframe tbody tr th:only-of-type {\n",
       "        vertical-align: middle;\n",
       "    }\n",
       "\n",
       "    .dataframe tbody tr th {\n",
       "        vertical-align: top;\n",
       "    }\n",
       "\n",
       "    .dataframe thead th {\n",
       "        text-align: right;\n",
       "    }\n",
       "</style>\n",
       "<table border=\"1\" class=\"dataframe\">\n",
       "  <thead>\n",
       "    <tr style=\"text-align: right;\">\n",
       "      <th></th>\n",
       "      <th>customer_unique_id</th>\n",
       "      <th>order_recency</th>\n",
       "      <th>total_orders</th>\n",
       "      <th>order_dow_Friday</th>\n",
       "      <th>order_dow_Monday</th>\n",
       "      <th>order_dow_Saturday</th>\n",
       "      <th>order_dow_Sunday</th>\n",
       "      <th>order_dow_Thursday</th>\n",
       "      <th>order_dow_Tuesday</th>\n",
       "      <th>order_dow_Wednesday</th>\n",
       "      <th>...</th>\n",
       "      <th>RO</th>\n",
       "      <th>RR</th>\n",
       "      <th>RS</th>\n",
       "      <th>SC</th>\n",
       "      <th>SE</th>\n",
       "      <th>SP</th>\n",
       "      <th>TO</th>\n",
       "      <th>is_weekend_weekday</th>\n",
       "      <th>is_weekend_weekend</th>\n",
       "      <th>purch</th>\n",
       "    </tr>\n",
       "  </thead>\n",
       "  <tbody>\n",
       "    <tr>\n",
       "      <th>0</th>\n",
       "      <td>0000f46a3911fa3c0805444483337064</td>\n",
       "      <td>9</td>\n",
       "      <td>1</td>\n",
       "      <td>1</td>\n",
       "      <td>0</td>\n",
       "      <td>0</td>\n",
       "      <td>0</td>\n",
       "      <td>0</td>\n",
       "      <td>0</td>\n",
       "      <td>0</td>\n",
       "      <td>...</td>\n",
       "      <td>0.0</td>\n",
       "      <td>0.0</td>\n",
       "      <td>0.0</td>\n",
       "      <td>1.0</td>\n",
       "      <td>0.0</td>\n",
       "      <td>0.0</td>\n",
       "      <td>0.0</td>\n",
       "      <td>1</td>\n",
       "      <td>0</td>\n",
       "      <td>NaN</td>\n",
       "    </tr>\n",
       "    <tr>\n",
       "      <th>1</th>\n",
       "      <td>0000f6ccb0745a6a4b88665a16c9f078</td>\n",
       "      <td>2</td>\n",
       "      <td>1</td>\n",
       "      <td>0</td>\n",
       "      <td>0</td>\n",
       "      <td>0</td>\n",
       "      <td>0</td>\n",
       "      <td>1</td>\n",
       "      <td>0</td>\n",
       "      <td>0</td>\n",
       "      <td>...</td>\n",
       "      <td>0.0</td>\n",
       "      <td>0.0</td>\n",
       "      <td>0.0</td>\n",
       "      <td>0.0</td>\n",
       "      <td>0.0</td>\n",
       "      <td>0.0</td>\n",
       "      <td>0.0</td>\n",
       "      <td>1</td>\n",
       "      <td>0</td>\n",
       "      <td>NaN</td>\n",
       "    </tr>\n",
       "    <tr>\n",
       "      <th>2</th>\n",
       "      <td>0004aac84e0df4da2b147fca70cf8255</td>\n",
       "      <td>1</td>\n",
       "      <td>1</td>\n",
       "      <td>0</td>\n",
       "      <td>0</td>\n",
       "      <td>0</td>\n",
       "      <td>0</td>\n",
       "      <td>0</td>\n",
       "      <td>1</td>\n",
       "      <td>0</td>\n",
       "      <td>...</td>\n",
       "      <td>0.0</td>\n",
       "      <td>0.0</td>\n",
       "      <td>0.0</td>\n",
       "      <td>0.0</td>\n",
       "      <td>0.0</td>\n",
       "      <td>1.0</td>\n",
       "      <td>0.0</td>\n",
       "      <td>1</td>\n",
       "      <td>0</td>\n",
       "      <td>NaN</td>\n",
       "    </tr>\n",
       "    <tr>\n",
       "      <th>3</th>\n",
       "      <td>0005e1862207bf6ccc02e4228effd9a0</td>\n",
       "      <td>10</td>\n",
       "      <td>1</td>\n",
       "      <td>0</td>\n",
       "      <td>0</td>\n",
       "      <td>1</td>\n",
       "      <td>0</td>\n",
       "      <td>0</td>\n",
       "      <td>0</td>\n",
       "      <td>0</td>\n",
       "      <td>...</td>\n",
       "      <td>0.0</td>\n",
       "      <td>0.0</td>\n",
       "      <td>0.0</td>\n",
       "      <td>0.0</td>\n",
       "      <td>0.0</td>\n",
       "      <td>0.0</td>\n",
       "      <td>0.0</td>\n",
       "      <td>0</td>\n",
       "      <td>1</td>\n",
       "      <td>NaN</td>\n",
       "    </tr>\n",
       "    <tr>\n",
       "      <th>4</th>\n",
       "      <td>0006fdc98a402fceb4eb0ee528f6a8d4</td>\n",
       "      <td>5</td>\n",
       "      <td>1</td>\n",
       "      <td>0</td>\n",
       "      <td>0</td>\n",
       "      <td>0</td>\n",
       "      <td>0</td>\n",
       "      <td>0</td>\n",
       "      <td>1</td>\n",
       "      <td>0</td>\n",
       "      <td>...</td>\n",
       "      <td>0.0</td>\n",
       "      <td>0.0</td>\n",
       "      <td>0.0</td>\n",
       "      <td>0.0</td>\n",
       "      <td>0.0</td>\n",
       "      <td>0.0</td>\n",
       "      <td>0.0</td>\n",
       "      <td>1</td>\n",
       "      <td>0</td>\n",
       "      <td>NaN</td>\n",
       "    </tr>\n",
       "    <tr>\n",
       "      <th>...</th>\n",
       "      <td>...</td>\n",
       "      <td>...</td>\n",
       "      <td>...</td>\n",
       "      <td>...</td>\n",
       "      <td>...</td>\n",
       "      <td>...</td>\n",
       "      <td>...</td>\n",
       "      <td>...</td>\n",
       "      <td>...</td>\n",
       "      <td>...</td>\n",
       "      <td>...</td>\n",
       "      <td>...</td>\n",
       "      <td>...</td>\n",
       "      <td>...</td>\n",
       "      <td>...</td>\n",
       "      <td>...</td>\n",
       "      <td>...</td>\n",
       "      <td>...</td>\n",
       "      <td>...</td>\n",
       "      <td>...</td>\n",
       "      <td>...</td>\n",
       "    </tr>\n",
       "    <tr>\n",
       "      <th>43708</th>\n",
       "      <td>fffbf87b7a1a6fa8b03f081c5f51a201</td>\n",
       "      <td>0</td>\n",
       "      <td>1</td>\n",
       "      <td>0</td>\n",
       "      <td>0</td>\n",
       "      <td>0</td>\n",
       "      <td>0</td>\n",
       "      <td>0</td>\n",
       "      <td>0</td>\n",
       "      <td>1</td>\n",
       "      <td>...</td>\n",
       "      <td>0.0</td>\n",
       "      <td>0.0</td>\n",
       "      <td>0.0</td>\n",
       "      <td>0.0</td>\n",
       "      <td>0.0</td>\n",
       "      <td>0.0</td>\n",
       "      <td>0.0</td>\n",
       "      <td>1</td>\n",
       "      <td>0</td>\n",
       "      <td>NaN</td>\n",
       "    </tr>\n",
       "    <tr>\n",
       "      <th>43709</th>\n",
       "      <td>fffcf5a5ff07b0908bd4e2dbc735a684</td>\n",
       "      <td>6</td>\n",
       "      <td>1</td>\n",
       "      <td>0</td>\n",
       "      <td>0</td>\n",
       "      <td>0</td>\n",
       "      <td>0</td>\n",
       "      <td>1</td>\n",
       "      <td>0</td>\n",
       "      <td>0</td>\n",
       "      <td>...</td>\n",
       "      <td>0.0</td>\n",
       "      <td>0.0</td>\n",
       "      <td>0.0</td>\n",
       "      <td>0.0</td>\n",
       "      <td>0.0</td>\n",
       "      <td>0.0</td>\n",
       "      <td>0.0</td>\n",
       "      <td>1</td>\n",
       "      <td>0</td>\n",
       "      <td>NaN</td>\n",
       "    </tr>\n",
       "    <tr>\n",
       "      <th>43710</th>\n",
       "      <td>fffea47cd6d3cc0a88bd621562a9d061</td>\n",
       "      <td>0</td>\n",
       "      <td>1</td>\n",
       "      <td>0</td>\n",
       "      <td>0</td>\n",
       "      <td>0</td>\n",
       "      <td>1</td>\n",
       "      <td>0</td>\n",
       "      <td>0</td>\n",
       "      <td>0</td>\n",
       "      <td>...</td>\n",
       "      <td>0.0</td>\n",
       "      <td>0.0</td>\n",
       "      <td>0.0</td>\n",
       "      <td>0.0</td>\n",
       "      <td>0.0</td>\n",
       "      <td>0.0</td>\n",
       "      <td>0.0</td>\n",
       "      <td>0</td>\n",
       "      <td>1</td>\n",
       "      <td>NaN</td>\n",
       "    </tr>\n",
       "    <tr>\n",
       "      <th>43711</th>\n",
       "      <td>ffff371b4d645b6ecea244b27531430a</td>\n",
       "      <td>10</td>\n",
       "      <td>1</td>\n",
       "      <td>0</td>\n",
       "      <td>0</td>\n",
       "      <td>0</td>\n",
       "      <td>0</td>\n",
       "      <td>0</td>\n",
       "      <td>1</td>\n",
       "      <td>0</td>\n",
       "      <td>...</td>\n",
       "      <td>0.0</td>\n",
       "      <td>0.0</td>\n",
       "      <td>0.0</td>\n",
       "      <td>0.0</td>\n",
       "      <td>0.0</td>\n",
       "      <td>0.0</td>\n",
       "      <td>0.0</td>\n",
       "      <td>1</td>\n",
       "      <td>0</td>\n",
       "      <td>NaN</td>\n",
       "    </tr>\n",
       "    <tr>\n",
       "      <th>43712</th>\n",
       "      <td>ffffd2657e2aad2907e67c3e9daecbeb</td>\n",
       "      <td>8</td>\n",
       "      <td>1</td>\n",
       "      <td>0</td>\n",
       "      <td>0</td>\n",
       "      <td>0</td>\n",
       "      <td>0</td>\n",
       "      <td>0</td>\n",
       "      <td>1</td>\n",
       "      <td>0</td>\n",
       "      <td>...</td>\n",
       "      <td>0.0</td>\n",
       "      <td>0.0</td>\n",
       "      <td>0.0</td>\n",
       "      <td>0.0</td>\n",
       "      <td>0.0</td>\n",
       "      <td>0.0</td>\n",
       "      <td>0.0</td>\n",
       "      <td>1</td>\n",
       "      <td>0</td>\n",
       "      <td>NaN</td>\n",
       "    </tr>\n",
       "  </tbody>\n",
       "</table>\n",
       "<p>43713 rows × 54 columns</p>\n",
       "</div>"
      ],
      "text/plain": [
       "                     customer_unique_id  order_recency  total_orders  \\\n",
       "0      0000f46a3911fa3c0805444483337064              9             1   \n",
       "1      0000f6ccb0745a6a4b88665a16c9f078              2             1   \n",
       "2      0004aac84e0df4da2b147fca70cf8255              1             1   \n",
       "3      0005e1862207bf6ccc02e4228effd9a0             10             1   \n",
       "4      0006fdc98a402fceb4eb0ee528f6a8d4              5             1   \n",
       "...                                 ...            ...           ...   \n",
       "43708  fffbf87b7a1a6fa8b03f081c5f51a201              0             1   \n",
       "43709  fffcf5a5ff07b0908bd4e2dbc735a684              6             1   \n",
       "43710  fffea47cd6d3cc0a88bd621562a9d061              0             1   \n",
       "43711  ffff371b4d645b6ecea244b27531430a             10             1   \n",
       "43712  ffffd2657e2aad2907e67c3e9daecbeb              8             1   \n",
       "\n",
       "       order_dow_Friday  order_dow_Monday  order_dow_Saturday  \\\n",
       "0                     1                 0                   0   \n",
       "1                     0                 0                   0   \n",
       "2                     0                 0                   0   \n",
       "3                     0                 0                   1   \n",
       "4                     0                 0                   0   \n",
       "...                 ...               ...                 ...   \n",
       "43708                 0                 0                   0   \n",
       "43709                 0                 0                   0   \n",
       "43710                 0                 0                   0   \n",
       "43711                 0                 0                   0   \n",
       "43712                 0                 0                   0   \n",
       "\n",
       "       order_dow_Sunday  order_dow_Thursday  order_dow_Tuesday  \\\n",
       "0                     0                   0                  0   \n",
       "1                     0                   1                  0   \n",
       "2                     0                   0                  1   \n",
       "3                     0                   0                  0   \n",
       "4                     0                   0                  1   \n",
       "...                 ...                 ...                ...   \n",
       "43708                 0                   0                  0   \n",
       "43709                 0                   1                  0   \n",
       "43710                 1                   0                  0   \n",
       "43711                 0                   0                  1   \n",
       "43712                 0                   0                  1   \n",
       "\n",
       "       order_dow_Wednesday  ...   RO   RR   RS   SC   SE   SP   TO  \\\n",
       "0                        0  ...  0.0  0.0  0.0  1.0  0.0  0.0  0.0   \n",
       "1                        0  ...  0.0  0.0  0.0  0.0  0.0  0.0  0.0   \n",
       "2                        0  ...  0.0  0.0  0.0  0.0  0.0  1.0  0.0   \n",
       "3                        0  ...  0.0  0.0  0.0  0.0  0.0  0.0  0.0   \n",
       "4                        0  ...  0.0  0.0  0.0  0.0  0.0  0.0  0.0   \n",
       "...                    ...  ...  ...  ...  ...  ...  ...  ...  ...   \n",
       "43708                    1  ...  0.0  0.0  0.0  0.0  0.0  0.0  0.0   \n",
       "43709                    0  ...  0.0  0.0  0.0  0.0  0.0  0.0  0.0   \n",
       "43710                    0  ...  0.0  0.0  0.0  0.0  0.0  0.0  0.0   \n",
       "43711                    0  ...  0.0  0.0  0.0  0.0  0.0  0.0  0.0   \n",
       "43712                    0  ...  0.0  0.0  0.0  0.0  0.0  0.0  0.0   \n",
       "\n",
       "       is_weekend_weekday  is_weekend_weekend  purch  \n",
       "0                       1                   0    NaN  \n",
       "1                       1                   0    NaN  \n",
       "2                       1                   0    NaN  \n",
       "3                       0                   1    NaN  \n",
       "4                       1                   0    NaN  \n",
       "...                   ...                 ...    ...  \n",
       "43708                   1                   0    NaN  \n",
       "43709                   1                   0    NaN  \n",
       "43710                   0                   1    NaN  \n",
       "43711                   1                   0    NaN  \n",
       "43712                   1                   0    NaN  \n",
       "\n",
       "[43713 rows x 54 columns]"
      ]
     },
     "execution_count": 118,
     "metadata": {},
     "output_type": "execute_result"
    }
   ],
   "source": [
    "# merge `target_events` with the dataframe that contains customer attributes\n",
    "#ones who purchase put value 1 and 0 if not\n",
    "\n",
    "model_df = pd.merge(df_combined, test_dataframe, how='left', on='customer_unique_id')\n",
    "\n",
    "model_df"
   ]
  },
  {
   "cell_type": "code",
   "execution_count": 119,
   "metadata": {},
   "outputs": [],
   "source": [
    "#replace NaN to 0 in purch column\n",
    "model_df['purch'] = model_df['purch'].fillna(0)"
   ]
  },
  {
   "cell_type": "code",
   "execution_count": 120,
   "metadata": {},
   "outputs": [
    {
     "data": {
      "text/plain": [
       "0.0    43091\n",
       "1.0      622\n",
       "Name: purch, dtype: int64"
      ]
     },
     "execution_count": 120,
     "metadata": {},
     "output_type": "execute_result"
    }
   ],
   "source": [
    "model_df.purch.value_counts()"
   ]
  },
  {
   "cell_type": "code",
   "execution_count": 121,
   "metadata": {},
   "outputs": [
    {
     "data": {
      "text/plain": [
       "0.0    0.985771\n",
       "1.0    0.014229\n",
       "Name: purch, dtype: float64"
      ]
     },
     "execution_count": 121,
     "metadata": {},
     "output_type": "execute_result"
    }
   ],
   "source": [
    "# % distribution of the target flag\n",
    "\n",
    "model_df.purch.value_counts() / len(model_df)"
   ]
  },
  {
   "cell_type": "markdown",
   "metadata": {},
   "source": [
    "There are two issues here: (1) the target event is extremely rare, and (2) the number of target events is also extremely small."
   ]
  },
  {
   "cell_type": "code",
   "execution_count": 122,
   "metadata": {},
   "outputs": [
    {
     "data": {
      "text/plain": [
       "order_recency         -0.013936\n",
       "total_orders           0.070029\n",
       "order_dow_Friday      -0.000731\n",
       "order_dow_Monday       0.012103\n",
       "order_dow_Saturday    -0.003484\n",
       "order_dow_Sunday       0.012515\n",
       "order_dow_Thursday     0.003865\n",
       "order_dow_Tuesday      0.007170\n",
       "order_dow_Wednesday    0.006607\n",
       "order_month_Apr       -0.011012\n",
       "order_month_Aug        0.012872\n",
       "order_month_Dec        0.011475\n",
       "order_month_Feb       -0.007043\n",
       "order_month_Jan        0.006259\n",
       "order_month_Jul        0.004387\n",
       "order_month_Jun        0.004202\n",
       "order_month_Mar       -0.004089\n",
       "order_month_May        0.000918\n",
       "order_month_Nov        0.003840\n",
       "order_month_Oct        0.006814\n",
       "order_month_Sep        0.012755\n",
       "avg_difference        -0.005475\n",
       "avg_difference2        0.002910\n",
       "AC                     0.006535\n",
       "AL                    -0.002574\n",
       "AM                     0.004042\n",
       "AP                    -0.002994\n",
       "BA                    -0.005658\n",
       "CE                    -0.009942\n",
       "DF                    -0.000137\n",
       "ES                    -0.002219\n",
       "GO                     0.000527\n",
       "MA                     0.008988\n",
       "MG                     0.003943\n",
       "MS                    -0.009480\n",
       "MT                    -0.005692\n",
       "PA                    -0.002066\n",
       "PB                    -0.004143\n",
       "PE                    -0.005612\n",
       "PI                    -0.003190\n",
       "PR                     0.005590\n",
       "RJ                     0.003938\n",
       "RN                    -0.003446\n",
       "RO                     0.009663\n",
       "RR                    -0.002438\n",
       "RS                     0.000884\n",
       "SC                    -0.001435\n",
       "SE                     0.000721\n",
       "SP                     0.026832\n",
       "TO                     0.003737\n",
       "is_weekend_weekday     0.023459\n",
       "is_weekend_weekend     0.007050\n",
       "purch                  1.000000\n",
       "Name: purch, dtype: float64"
      ]
     },
     "execution_count": 122,
     "metadata": {},
     "output_type": "execute_result"
    }
   ],
   "source": [
    "# check the correlations\n",
    "\n",
    "model_df.corr()['purch']"
   ]
  },
  {
   "cell_type": "markdown",
   "metadata": {},
   "source": [
    "Before moving on to model building, let create a two-axis plot to view the purchase rates by recency."
   ]
  },
  {
   "cell_type": "code",
   "execution_count": 123,
   "metadata": {},
   "outputs": [
    {
     "data": {
      "image/png": "[encoded data removed]",
      "text/plain": [
       "<Figure size 864x432 with 2 Axes>"
      ]
     },
     "metadata": {},
     "output_type": "display_data"
    }
   ],
   "source": [
    "purch_rate_by_recency = model_df.groupby('order_recency')['purch'].mean().reset_index()\n",
    "purch_rate_by_recency['orders'] = model_df.groupby('order_recency').size().reset_index()[0]\n",
    "\n",
    "sns.set(style = 'dark')\n",
    "f, ax = plt.subplots(figsize = (12, 6))\n",
    "\n",
    "# create a secondary axis\n",
    "ax2 = ax.twinx()\n",
    "\n",
    "ax.bar(purch_rate_by_recency['order_recency'], purch_rate_by_recency['orders'], color='teal', alpha=0.3)\n",
    "\n",
    "ax2.plot(purch_rate_by_recency['order_recency'], purch_rate_by_recency['purch'], \n",
    "         color='orangered', marker='o', markersize=5, lw=1)\n",
    "\n",
    "ax.set_xlabel('Months Since the Most Recent Order', fontsize=14, weight='bold')\n",
    "ax.set_ylabel('Number of Customers', fontsize=14, weight='bold', color='teal')\n",
    "ax2.set_ylabel('Average Purchase Rate', fontsize = 14, color='orangered', weight='bold')\n",
    "\n",
    "ax.tick_params(axis='y', colors='teal')\n",
    "ax2.tick_params(axis='y', colors='orangered')"
   ]
  },
  {
   "cell_type": "markdown",
   "metadata": {},
   "source": [
    "# Two-fold partition"
   ]
  },
  {
   "cell_type": "markdown",
   "metadata": {},
   "source": [
    "#### Created two fold partition with oversampling and without oversampling using a two_fold_partition function"
   ]
  },
  {
   "cell_type": "code",
   "execution_count": 124,
   "metadata": {},
   "outputs": [],
   "source": [
    "def two_fold_partition (X, y):\n",
    "\n",
    "    # split the dataframe into train(70%) and test(30%)\n",
    "    X_train, X_test, y_train, y_test = train_test_split(X, y, test_size=0.3, random_state=1111)\n",
    "    \n",
    "    # target distribution in the trainig sample\n",
    "    print('target distribution in the trainig sample')\n",
    "    print(y_train.value_counts())\n",
    "    print('')\n",
    "    # target distribution in the test sample\n",
    "    print('target distribution in the test sample')\n",
    "    print(y_test.value_counts())\n",
    "\n",
    "    return X_train, X_test, y_train, y_test"
   ]
  },
  {
   "cell_type": "markdown",
   "metadata": {},
   "source": [
    "### Two fold partitioning with Oversampling"
   ]
  },
  {
   "cell_type": "code",
   "execution_count": 125,
   "metadata": {},
   "outputs": [
    {
     "data": {
      "text/plain": [
       "(86182, 54)"
      ]
     },
     "execution_count": 125,
     "metadata": {},
     "output_type": "execute_result"
    }
   ],
   "source": [
    "df_nonevents = model_df[model_df['purch'] == 0]\n",
    "df_events = model_df[model_df['purch'] == 1].sample(len(df_nonevents), replace = True)\n",
    "\n",
    "df_os_model = pd.concat([df_events, df_nonevents])\n",
    "df_os_model.shape"
   ]
  },
  {
   "cell_type": "code",
   "execution_count": 132,
   "metadata": {},
   "outputs": [
    {
     "data": {
      "text/plain": [
       "(43091, 54)"
      ]
     },
     "execution_count": 132,
     "metadata": {},
     "output_type": "execute_result"
    }
   ],
   "source": [
    "df_nonevents.shape"
   ]
  },
  {
   "cell_type": "code",
   "execution_count": 61,
   "metadata": {},
   "outputs": [
    {
     "data": {
      "text/plain": [
       "(43091, 54)"
      ]
     },
     "execution_count": 61,
     "metadata": {},
     "output_type": "execute_result"
    }
   ],
   "source": [
    "df_events.shape"
   ]
  },
  {
   "cell_type": "code",
   "execution_count": 133,
   "metadata": {},
   "outputs": [
    {
     "data": {
      "text/plain": [
       "Index(['customer_unique_id', 'order_recency', 'total_orders',\n",
       "       'order_dow_Friday', 'order_dow_Monday', 'order_dow_Saturday',\n",
       "       'order_dow_Sunday', 'order_dow_Thursday', 'order_dow_Tuesday',\n",
       "       'order_dow_Wednesday', 'order_month_Apr', 'order_month_Aug',\n",
       "       'order_month_Dec', 'order_month_Feb', 'order_month_Jan',\n",
       "       'order_month_Jul', 'order_month_Jun', 'order_month_Mar',\n",
       "       'order_month_May', 'order_month_Nov', 'order_month_Oct',\n",
       "       'order_month_Sep', 'avg_difference', 'avg_difference2', 'AC', 'AL',\n",
       "       'AM', 'AP', 'BA', 'CE', 'DF', 'ES', 'GO', 'MA', 'MG', 'MS', 'MT', 'PA',\n",
       "       'PB', 'PE', 'PI', 'PR', 'RJ', 'RN', 'RO', 'RR', 'RS', 'SC', 'SE', 'SP',\n",
       "       'TO', 'is_weekend_weekday', 'is_weekend_weekend', 'purch'],\n",
       "      dtype='object')"
      ]
     },
     "execution_count": 133,
     "metadata": {},
     "output_type": "execute_result"
    }
   ],
   "source": [
    "df_os_model.columns"
   ]
  },
  {
   "cell_type": "code",
   "execution_count": 134,
   "metadata": {},
   "outputs": [],
   "source": [
    "#replace NaN to 0 in purch column\n",
    "df_os_model = df_os_model.fillna(0)"
   ]
  },
  {
   "cell_type": "code",
   "execution_count": 136,
   "metadata": {},
   "outputs": [
    {
     "name": "stdout",
     "output_type": "stream",
     "text": [
      "target distribution in the trainig sample\n",
      "0.0    30165\n",
      "1.0    30162\n",
      "Name: purch, dtype: int64\n",
      "\n",
      "target distribution in the test sample\n",
      "1.0    12929\n",
      "0.0    12926\n",
      "Name: purch, dtype: int64\n"
     ]
    }
   ],
   "source": [
    "# set-up X and y for oversampled data\n",
    "\n",
    "preds = df_os_model.columns[1:-1]\n",
    "\n",
    "X_O = df_os_model[preds]\n",
    "y_o = df_os_model['purch']\n",
    "\n",
    "X_O_train, X_O_test, y_o_train, y_o_test = two_fold_partition(X_O, y_o)"
   ]
  },
  {
   "cell_type": "markdown",
   "metadata": {},
   "source": [
    "### Two fold partitioning without Oversampling"
   ]
  },
  {
   "cell_type": "code",
   "execution_count": 137,
   "metadata": {},
   "outputs": [],
   "source": [
    "#replace NaN to 0 in purch column\n",
    "model_df = model_df.fillna(0)"
   ]
  },
  {
   "cell_type": "code",
   "execution_count": 138,
   "metadata": {},
   "outputs": [
    {
     "name": "stdout",
     "output_type": "stream",
     "text": [
      "target distribution in the trainig sample\n",
      "0.0    30169\n",
      "1.0      430\n",
      "Name: purch, dtype: int64\n",
      "\n",
      "target distribution in the test sample\n",
      "0.0    12922\n",
      "1.0      192\n",
      "Name: purch, dtype: int64\n"
     ]
    }
   ],
   "source": [
    "# set-up X and y for non oversampled data\n",
    "\n",
    "preds = model_df.columns[1:-1]\n",
    "\n",
    "X_NO = model_df[preds]\n",
    "y_no = model_df['purch']\n",
    "\n",
    "X_NO_train, X_NO_test, y_no_train, y_no_test = two_fold_partition(X_NO, y_no)"
   ]
  },
  {
   "cell_type": "code",
   "execution_count": 139,
   "metadata": {},
   "outputs": [
    {
     "data": {
      "text/plain": [
       "False"
      ]
     },
     "execution_count": 139,
     "metadata": {},
     "output_type": "execute_result"
    }
   ],
   "source": [
    "#To check nulls if any\n",
    "X_O_train.isnull().values.any()"
   ]
  },
  {
   "cell_type": "markdown",
   "metadata": {},
   "source": [
    "### Model accuracy"
   ]
  },
  {
   "cell_type": "code",
   "execution_count": 140,
   "metadata": {},
   "outputs": [],
   "source": [
    "def model_accuracy_scores (y_test, y_preds, y_scores):\n",
    "\n",
    "    # calcualte AUC\n",
    "    AUC_score = roc_auc_score(y_test, y_scores)\n",
    "    print('AUC score: ', AUC_score)\n",
    "    \n",
    "    # calcualte Accuracy_score\n",
    "    Model_accuracy_score = accuracy_score(y_test, y_preds)\n",
    "    print('Accuracy Score: ', Model_accuracy_score)\n",
    "                   \n",
    "    # check model's predictions against actual value of the target event\n",
    "    crosstab = pd.crosstab(y_test, y_preds)\n",
    "    print('')\n",
    "    print('Confusion Matrix')\n",
    "    print(crosstab)\n",
    "    print('')\n",
    "    #Precision\n",
    "    average_precision = average_precision_score(y_test, y_scores)\n",
    "    \n",
    "    #Since it is an imbalanced dataset, we need to calculate f1_score, preciaion_score and recall_score\n",
    "    print('F1 score: ', f1_score(y_test, y_preds, average=\"macro\"))\n",
    "    print('Precision score: ', precision_score(y_test, y_preds, average=\"macro\"))\n",
    "    print('Recall score: ', recall_score(y_test, y_preds, average=\"macro\"))\n",
    "    \n",
    "    return AUC_score\n"
   ]
  },
  {
   "cell_type": "markdown",
   "metadata": {},
   "source": [
    "# Model Building"
   ]
  },
  {
   "cell_type": "markdown",
   "metadata": {},
   "source": [
    "### Model building with oversampling"
   ]
  },
  {
   "cell_type": "markdown",
   "metadata": {},
   "source": [
    "#### Logistic Regression Model"
   ]
  },
  {
   "cell_type": "code",
   "execution_count": 141,
   "metadata": {},
   "outputs": [
    {
     "name": "stdout",
     "output_type": "stream",
     "text": [
      "Mean of probability scores for LR:  0.49998574785310385\n"
     ]
    }
   ],
   "source": [
    "#define the model object ('liblinear' is recommended for small datasets)\n",
    "clf_O_lr = LogisticRegression(solver='liblinear', random_state=1111)\n",
    "#train (fit) the model using the training sample\n",
    "clf_O_lr.fit(X_O_train, y_o_train)\n",
    "\n",
    "#make predictions on the test sample\n",
    "y_o_preds = clf_O_lr.predict(X_O_test)\n",
    "\n",
    "# calculate the probabilities on the test sample\n",
    "y_o_scores_lr = clf_O_lr.predict_proba(X_O_test)[:, 1]\n",
    "\n",
    "print('Mean of probability scores for LR: ', clf_O_lr.predict_proba(X_O_train)[:, 1].mean())"
   ]
  },
  {
   "cell_type": "code",
   "execution_count": 142,
   "metadata": {
    "scrolled": true
   },
   "outputs": [
    {
     "name": "stdout",
     "output_type": "stream",
     "text": [
      "Logistic Regression Performance Metrics\n",
      "\n",
      "AUC score:  0.6041824110679008\n",
      "Accuracy Score:  0.5631792690001934\n",
      "\n",
      "Confusion Matrix\n",
      "col_0   0.0   1.0\n",
      "purch            \n",
      "0.0    7125  5801\n",
      "1.0    5493  7436\n",
      "\n",
      "F1 score:  0.5631160572555874\n",
      "Precision score:  0.5632141131946502\n",
      "Recall score:  0.5631778808809134\n"
     ]
    }
   ],
   "source": [
    "print('Logistic Regression Performance Metrics')\n",
    "print('')\n",
    "LR_O_AUC = model_accuracy_scores(y_o_test, y_o_preds, y_o_scores_lr)"
   ]
  },
  {
   "cell_type": "code",
   "execution_count": 143,
   "metadata": {
    "scrolled": true
   },
   "outputs": [
    {
     "name": "stdout",
     "output_type": "stream",
     "text": [
      "              precision    recall  f1-score   support\n",
      "\n",
      "           0       0.56      0.55      0.56     12926\n",
      "           1       0.56      0.58      0.57     12929\n",
      "\n",
      "    accuracy                           0.56     25855\n",
      "   macro avg       0.56      0.56      0.56     25855\n",
      "weighted avg       0.56      0.56      0.56     25855\n",
      "\n"
     ]
    }
   ],
   "source": [
    "# Classification report to check if scores are even or uneven for each class\n",
    "print(classification_report(y_o_test, y_o_preds, target_names=['0', '1']))"
   ]
  },
  {
   "cell_type": "markdown",
   "metadata": {},
   "source": [
    "#### Logistic Regression model scores are evenly distributed for each of the classes"
   ]
  },
  {
   "cell_type": "markdown",
   "metadata": {},
   "source": [
    "#### Decision Tree Model"
   ]
  },
  {
   "cell_type": "code",
   "execution_count": 159,
   "metadata": {},
   "outputs": [
    {
     "name": "stdout",
     "output_type": "stream",
     "text": [
      "Mean of probability scores for DT:  0.49997586778263525\n"
     ]
    }
   ],
   "source": [
    "# Create Decision Tree classifer object\n",
    "clf_O_dt = DecisionTreeClassifier(class_weight='balanced', random_state=1111)\n",
    "\n",
    "# Train Decision Tree Classifer\n",
    "clf_O_dt = clf_O_dt.fit(X_O_train, y_o_train)\n",
    "\n",
    "#Predict the response for test dataset\n",
    "y_o_pred_dt = clf_O_dt.predict(X_O_test)\n",
    "\n",
    "# calculate the probabilities on the test sample\n",
    "y_o_scores_dt = clf_O_dt.predict_proba(X_O_test)[:, 1]\n",
    "\n",
    "print('Mean of probability scores for DT: ', clf_O_dt.predict_proba(X_O_train)[:, 1].mean())"
   ]
  },
  {
   "cell_type": "code",
   "execution_count": 160,
   "metadata": {
    "scrolled": false
   },
   "outputs": [
    {
     "name": "stdout",
     "output_type": "stream",
     "text": [
      "Decision Tree Performance Metrics\n",
      "\n",
      "AUC score:  0.9850875615591155\n",
      "Accuracy Score:  0.9812802165925353\n",
      "\n",
      "Confusion Matrix\n",
      "col_0    0.0    1.0\n",
      "purch              \n",
      "0.0    12442    484\n",
      "1.0        0  12929\n",
      "\n",
      "F1 score:  0.9812735726821258\n",
      "Precision score:  0.9819578021322597\n",
      "Recall score:  0.9812780442518954\n"
     ]
    }
   ],
   "source": [
    "print('Decision Tree Performance Metrics')\n",
    "print('')\n",
    "DT_AUC = model_accuracy_scores(y_o_test, y_o_pred_dt, y_o_scores_dt)"
   ]
  },
  {
   "cell_type": "code",
   "execution_count": 162,
   "metadata": {
    "scrolled": true
   },
   "outputs": [
    {
     "name": "stdout",
     "output_type": "stream",
     "text": [
      "              precision    recall  f1-score   support\n",
      "\n",
      "           0       1.00      0.96      0.98     12926\n",
      "           1       0.96      1.00      0.98     12929\n",
      "\n",
      "    accuracy                           0.98     25855\n",
      "   macro avg       0.98      0.98      0.98     25855\n",
      "weighted avg       0.98      0.98      0.98     25855\n",
      "\n"
     ]
    }
   ],
   "source": [
    "# Classification report to check if scores are even or uneven for each class\n",
    "print(classification_report(y_o_test, y_o_pred_dt, target_names=['0', '1']))"
   ]
  },
  {
   "cell_type": "markdown",
   "metadata": {},
   "source": [
    "#### Decision Tree model scores are evenly distributed for each of the classes"
   ]
  },
  {
   "cell_type": "markdown",
   "metadata": {},
   "source": [
    "### Pearson Correlation"
   ]
  },
  {
   "cell_type": "code",
   "execution_count": 73,
   "metadata": {
    "scrolled": true
   },
   "outputs": [
    {
     "data": {
      "text/html": [
       "<div>\n",
       "<style scoped>\n",
       "    .dataframe tbody tr th:only-of-type {\n",
       "        vertical-align: middle;\n",
       "    }\n",
       "\n",
       "    .dataframe tbody tr th {\n",
       "        vertical-align: top;\n",
       "    }\n",
       "\n",
       "    .dataframe thead th {\n",
       "        text-align: right;\n",
       "    }\n",
       "</style>\n",
       "<table border=\"1\" class=\"dataframe\">\n",
       "  <thead>\n",
       "    <tr style=\"text-align: right;\">\n",
       "      <th></th>\n",
       "      <th>Log_Reg</th>\n",
       "      <th>Dec_Tree</th>\n",
       "    </tr>\n",
       "  </thead>\n",
       "  <tbody>\n",
       "    <tr>\n",
       "      <th>Log_Reg</th>\n",
       "      <td>1.000000</td>\n",
       "      <td>0.210318</td>\n",
       "    </tr>\n",
       "    <tr>\n",
       "      <th>Dec_Tree</th>\n",
       "      <td>0.210318</td>\n",
       "      <td>1.000000</td>\n",
       "    </tr>\n",
       "  </tbody>\n",
       "</table>\n",
       "</div>"
      ],
      "text/plain": [
       "           Log_Reg  Dec_Tree\n",
       "Log_Reg   1.000000  0.210318\n",
       "Dec_Tree  0.210318  1.000000"
      ]
     },
     "execution_count": 73,
     "metadata": {},
     "output_type": "execute_result"
    }
   ],
   "source": [
    "y__o_scores_lr\n",
    "y_o_scores_dt\n",
    "\n",
    "df_y_o_scores = pd.DataFrame(y__o_scores_lr, y_o_scores_dt).reset_index().rename(columns={0: 'Dec_Tree', 'index': 'Log_Reg'})\n",
    "\n",
    "df_y_o_scores.head()\n",
    "\n",
    "pearsoncorr = df_y_o_scores.corr(method='pearson')\n",
    "\n",
    "pearsoncorr"
   ]
  },
  {
   "cell_type": "markdown",
   "metadata": {},
   "source": [
    "### ROC AUC Curve"
   ]
  },
  {
   "cell_type": "code",
   "execution_count": 74,
   "metadata": {
    "scrolled": false
   },
   "outputs": [
    {
     "data": {
      "image/png": "[encoded data removed]",
      "text/plain": [
       "<Figure size 432x288 with 1 Axes>"
      ]
     },
     "metadata": {},
     "output_type": "display_data"
    }
   ],
   "source": [
    "lr_fpr, lr_tpr, _ = roc_curve(y_o_test, y__o_scores_lr)\n",
    "dt_fpr, dt_tpr, _ = roc_curve(y_o_test, y_o_scores_dt)\n",
    "# plot the roc curve for the model\n",
    "plt.plot(lr_fpr, lr_tpr, linestyle='--', label='Logistic Regression')\n",
    "plt.plot(dt_fpr, dt_tpr, marker='.', label='Decision Tree')\n",
    "# axis labels\n",
    "plt.xlabel('False Positive Rate')\n",
    "plt.ylabel('True Positive Rate')\n",
    "# show the legend\n",
    "plt.legend()\n",
    "# show the plot\n",
    "plt.show()"
   ]
  },
  {
   "cell_type": "markdown",
   "metadata": {},
   "source": [
    "### Based on the model validation scores, It is recommended to use Decision Tree model"
   ]
  },
  {
   "cell_type": "markdown",
   "metadata": {},
   "source": [
    "## _k_-fold Cross-validation"
   ]
  },
  {
   "cell_type": "markdown",
   "metadata": {},
   "source": [
    "#### Logistic Regression _k_-fold Cross-validation"
   ]
  },
  {
   "cell_type": "code",
   "execution_count": 79,
   "metadata": {},
   "outputs": [
    {
     "name": "stdout",
     "output_type": "stream",
     "text": [
      "AUC Scores:  [0.5998707375219239, 0.604362575305211, 0.6030231445418144]\n",
      "Mean AUC Score:  0.602418819122983\n"
     ]
    }
   ],
   "source": [
    "# let's use three folds\n",
    "k_folds = 3\n",
    "clf_O_lr = LogisticRegression(solver='liblinear', random_state=1111)\n",
    "auc_scores = []\n",
    "\n",
    "for k in range(k_folds):\n",
    "    \n",
    "    X_train_k, X_test_k, y_train_k, y_test_k = \\\n",
    "        train_test_split(X_O, y_o, test_size=1/k_folds)\n",
    "\n",
    "    clf.fit(X_train_k, y_train_k)\n",
    "    \n",
    "    y_scores_k = clf.predict_proba(X_test_k)[:, 1]\n",
    "\n",
    "    # calcualte AUC\n",
    "    auc = roc_auc_score(y_test_k, y_scores_k)\n",
    "    \n",
    "    auc_scores.append(auc)\n",
    "    \n",
    "print('AUC Scores: ', auc_scores)\n",
    "print('Mean AUC Score: ', sum(auc_scores)/len(auc_scores))"
   ]
  },
  {
   "cell_type": "markdown",
   "metadata": {},
   "source": [
    "#### Decision Tree _k_-fold Cross-validation"
   ]
  },
  {
   "cell_type": "code",
   "execution_count": 80,
   "metadata": {},
   "outputs": [
    {
     "name": "stdout",
     "output_type": "stream",
     "text": [
      "AUC Scores:  [0.6032123880379845, 0.6041404681281233, 0.5993170804857553]\n",
      "Mean AUC Score:  0.6022233122172876\n"
     ]
    }
   ],
   "source": [
    "# let's use three folds\n",
    "k_folds = 3\n",
    "clf_O_dt = DecisionTreeClassifier(class_weight='balanced', random_state=1111)\n",
    "auc_scores = []\n",
    "\n",
    "for k in range(k_folds):\n",
    "    \n",
    "    X_train_k, X_test_k, y_train_k, y_test_k = \\\n",
    "        train_test_split(X_O, y_o, test_size=1/k_folds)\n",
    "\n",
    "    clf.fit(X_train_k, y_train_k)\n",
    "    \n",
    "    y_scores_k = clf.predict_proba(X_test_k)[:, 1]\n",
    "\n",
    "    # calcualte AUC\n",
    "    auc = roc_auc_score(y_test_k, y_scores_k)\n",
    "    \n",
    "    auc_scores.append(auc)\n",
    "    \n",
    "print('AUC Scores: ', auc_scores)\n",
    "print('Mean AUC Score: ', sum(auc_scores)/len(auc_scores))"
   ]
  },
  {
   "cell_type": "markdown",
   "metadata": {},
   "source": [
    "# Model building without oversampling"
   ]
  },
  {
   "cell_type": "markdown",
   "metadata": {},
   "source": [
    "#### Logistic Regression Model"
   ]
  },
  {
   "cell_type": "code",
   "execution_count": 139,
   "metadata": {},
   "outputs": [
    {
     "name": "stdout",
     "output_type": "stream",
     "text": [
      "Mean of probability scores for LR:  0.47985434988895925\n"
     ]
    }
   ],
   "source": [
    "clf = LogisticRegression(solver='liblinear', class_weight='balanced', random_state=1111)\n",
    "#train (fit) the model using the training sample\n",
    "clf.fit(X_NO_train, y_no_train)\n",
    "\n",
    "#make predictions on the test sample\n",
    "y_preds = clf.predict(X_NO_test)\n",
    "\n",
    "# calculate the probabilities on the test sample\n",
    "y_scores_lr = clf.predict_proba(X_NO_test)[:, 1]\n",
    "\n",
    "print('Mean of probability scores for LR: ', clf.predict_proba(X_NO_train)[:, 1].mean())"
   ]
  },
  {
   "cell_type": "code",
   "execution_count": 140,
   "metadata": {},
   "outputs": [
    {
     "name": "stdout",
     "output_type": "stream",
     "text": [
      "Logistic Regression Performance Metrics\n",
      "\n",
      "AUC score:  0.5586570303229634\n",
      "Accuracy Score:  0.5796858319353363\n",
      "\n",
      "Confusion Matrix\n",
      "col_0   0.0   1.0\n",
      "purch            \n",
      "0.0    7508  5414\n",
      "1.0      98    94\n",
      "\n",
      "F1 score:  0.38223557725178103\n",
      "Precision score:  0.5020907604381436\n",
      "Recall score:  0.5353039712634783\n"
     ]
    }
   ],
   "source": [
    "print('Logistic Regression Performance Metrics')\n",
    "print('')\n",
    "LR_AUC = model_accuracy_scores(y_no_test, y_preds, y_scores_lr)"
   ]
  },
  {
   "cell_type": "code",
   "execution_count": 149,
   "metadata": {},
   "outputs": [
    {
     "name": "stdout",
     "output_type": "stream",
     "text": [
      "0.4797, 0.0141, 0.0146\n"
     ]
    }
   ],
   "source": [
    "#check the scores mean\n",
    "print(f'{y_scores_lr.mean():.4f}, {y_no_train.mean():.4f}, {y_no_test.mean():.4f}')"
   ]
  },
  {
   "cell_type": "code",
   "execution_count": 142,
   "metadata": {
    "scrolled": false
   },
   "outputs": [
    {
     "name": "stdout",
     "output_type": "stream",
     "text": [
      "              precision    recall  f1-score   support\n",
      "\n",
      "           0       0.99      0.58      0.73     12922\n",
      "           1       0.02      0.49      0.03       192\n",
      "\n",
      "    accuracy                           0.58     13114\n",
      "   macro avg       0.50      0.54      0.38     13114\n",
      "weighted avg       0.97      0.58      0.72     13114\n",
      "\n"
     ]
    }
   ],
   "source": [
    "# Classification report to check if scores are even or uneven for each class\n",
    "print(classification_report(y_no_test, y_preds, target_names=['0', '1']))"
   ]
  },
  {
   "cell_type": "markdown",
   "metadata": {},
   "source": [
    "#### Logistic Regression model scores are not evenly distributed for each of the classes"
   ]
  },
  {
   "cell_type": "markdown",
   "metadata": {},
   "source": [
    "#### Decision Tree Model"
   ]
  },
  {
   "cell_type": "code",
   "execution_count": 84,
   "metadata": {},
   "outputs": [
    {
     "name": "stdout",
     "output_type": "stream",
     "text": [
      "Mean of probability scores for DT:  0.02499138698564928\n"
     ]
    }
   ],
   "source": [
    "# Create Decision Tree classifer object\n",
    "D_clf = DecisionTreeClassifier(class_weight='balanced', random_state=1111)\n",
    "\n",
    "# Train Decision Tree Classifer\n",
    "D_clf = D_clf.fit(X_NO_train, y_no_train)\n",
    "\n",
    "#Predict the response for test dataset\n",
    "y_pred = D_clf.predict(X_NO_test)\n",
    "\n",
    "# calculate the probabilities on the test sample\n",
    "y_scores_dt = D_clf.predict_proba(X_NO_test)[:, 1]\n",
    "\n",
    "print('Mean of probability scores for DT: ', D_clf.predict_proba(X_NO_train)[:, 1].mean())"
   ]
  },
  {
   "cell_type": "code",
   "execution_count": 85,
   "metadata": {
    "scrolled": false
   },
   "outputs": [
    {
     "name": "stdout",
     "output_type": "stream",
     "text": [
      "Decision Tree Performance Metrics\n",
      "\n",
      "AUC score:  0.5019675343729041\n",
      "Accuracy Score:  0.9588226323013573\n",
      "\n",
      "Confusion Matrix\n",
      "col_0    0.0  1.0\n",
      "purch            \n",
      "0.0    12568  354\n",
      "1.0      186    6\n",
      "\n",
      "F1 score:  0.5003539085730542\n",
      "Precision score:  0.5010415033192201\n",
      "Recall score:  0.5019274299644019\n"
     ]
    }
   ],
   "source": [
    "print('Decision Tree Performance Metrics')\n",
    "print('')\n",
    "DT_AUC = model_accuracy_scores(y_no_test, y_pred, y_scores_dt)"
   ]
  },
  {
   "cell_type": "code",
   "execution_count": 163,
   "metadata": {
    "scrolled": true
   },
   "outputs": [
    {
     "name": "stdout",
     "output_type": "stream",
     "text": [
      "              precision    recall  f1-score   support\n",
      "\n",
      "           0       0.99      0.97      0.98     12922\n",
      "           1       0.02      0.03      0.02       192\n",
      "\n",
      "    accuracy                           0.96     13114\n",
      "   macro avg       0.50      0.50      0.50     13114\n",
      "weighted avg       0.97      0.96      0.96     13114\n",
      "\n"
     ]
    }
   ],
   "source": [
    "# Classification report to check if scores are even or uneven for each class\n",
    "print(classification_report(y_no_test, y_pred, target_names=['0', '1']))"
   ]
  },
  {
   "cell_type": "markdown",
   "metadata": {},
   "source": [
    "#### Decision Tree model scores are not evenly distributed for each of the classes"
   ]
  },
  {
   "cell_type": "markdown",
   "metadata": {},
   "source": [
    "### Pearson Correlation"
   ]
  },
  {
   "cell_type": "code",
   "execution_count": 86,
   "metadata": {},
   "outputs": [
    {
     "data": {
      "text/html": [
       "<div>\n",
       "<style scoped>\n",
       "    .dataframe tbody tr th:only-of-type {\n",
       "        vertical-align: middle;\n",
       "    }\n",
       "\n",
       "    .dataframe tbody tr th {\n",
       "        vertical-align: top;\n",
       "    }\n",
       "\n",
       "    .dataframe thead th {\n",
       "        text-align: right;\n",
       "    }\n",
       "</style>\n",
       "<table border=\"1\" class=\"dataframe\">\n",
       "  <thead>\n",
       "    <tr style=\"text-align: right;\">\n",
       "      <th></th>\n",
       "      <th>Log_Reg</th>\n",
       "      <th>Dec_Tree</th>\n",
       "    </tr>\n",
       "  </thead>\n",
       "  <tbody>\n",
       "    <tr>\n",
       "      <th>Log_Reg</th>\n",
       "      <td>1.000000</td>\n",
       "      <td>0.045568</td>\n",
       "    </tr>\n",
       "    <tr>\n",
       "      <th>Dec_Tree</th>\n",
       "      <td>0.045568</td>\n",
       "      <td>1.000000</td>\n",
       "    </tr>\n",
       "  </tbody>\n",
       "</table>\n",
       "</div>"
      ],
      "text/plain": [
       "           Log_Reg  Dec_Tree\n",
       "Log_Reg   1.000000  0.045568\n",
       "Dec_Tree  0.045568  1.000000"
      ]
     },
     "execution_count": 86,
     "metadata": {},
     "output_type": "execute_result"
    }
   ],
   "source": [
    "y_scores_lr\n",
    "y_scores_dt\n",
    "\n",
    "df_y_scores = pd.DataFrame(y_scores_lr, y_scores_dt).reset_index().rename(columns={0: 'Dec_Tree', 'index': 'Log_Reg'})\n",
    "\n",
    "df_y_scores.head()\n",
    "\n",
    "pearsoncorr = df_y_scores.corr(method='pearson')\n",
    "\n",
    "pearsoncorr"
   ]
  },
  {
   "cell_type": "markdown",
   "metadata": {},
   "source": [
    "### ROC AUC Curve"
   ]
  },
  {
   "cell_type": "code",
   "execution_count": 88,
   "metadata": {},
   "outputs": [
    {
     "data": {
      "image/png": "[encoded data removed]",
      "text/plain": [
       "<Figure size 432x288 with 1 Axes>"
      ]
     },
     "metadata": {},
     "output_type": "display_data"
    }
   ],
   "source": [
    "lr_fpr, lr_tpr, _ = roc_curve(y_no_test, y_scores_lr)\n",
    "dt_fpr, dt_tpr, _ = roc_curve(y_no_test, y_scores_dt)\n",
    "# plot the roc curve for the model\n",
    "plt.plot(lr_fpr, lr_tpr, linestyle='--', label='Logistic Regression')\n",
    "plt.plot(dt_fpr, dt_tpr, marker='.', label='Decision Tree')\n",
    "# axis labels\n",
    "plt.xlabel('False Positive Rate')\n",
    "plt.ylabel('True Positive Rate')\n",
    "# show the legend\n",
    "plt.legend()\n",
    "# show the plot\n",
    "plt.show()"
   ]
  },
  {
   "cell_type": "markdown",
   "metadata": {},
   "source": [
    "### Based on the model validation scores, It is recommended to use Decision Tree model because it is an imbalanced dataset and Accuracy and F1 score is higher than the Logistic Regression Model."
   ]
  },
  {
   "cell_type": "markdown",
   "metadata": {},
   "source": [
    "## _k_-fold Cross-validation"
   ]
  },
  {
   "cell_type": "markdown",
   "metadata": {},
   "source": [
    "#### Logistic Regression _k_-fold Cross-validation"
   ]
  },
  {
   "cell_type": "code",
   "execution_count": 90,
   "metadata": {},
   "outputs": [
    {
     "name": "stdout",
     "output_type": "stream",
     "text": [
      "AUC Scores:  [0.5283183289809258, 0.5596486877084162, 0.535150906598953]\n",
      "Mean AUC Score:  0.541039307762765\n"
     ]
    }
   ],
   "source": [
    "# let's use three folds\n",
    "k_folds = 3\n",
    "clf = LogisticRegression(solver='liblinear', class_weight='balanced', random_state=1111)\n",
    "auc_scores = []\n",
    "\n",
    "for k in range(k_folds):\n",
    "    \n",
    "    X_train_k, X_test_k, y_train_k, y_test_k = \\\n",
    "        train_test_split(X_NO, y_no, test_size=1/k_folds)\n",
    "\n",
    "    clf.fit(X_train_k, y_train_k)\n",
    "    \n",
    "    y_scores_k = clf.predict_proba(X_test_k)[:, 1]\n",
    "\n",
    "    # calcualte AUC\n",
    "    auc = roc_auc_score(y_test_k, y_scores_k)\n",
    "    \n",
    "    auc_scores.append(auc)\n",
    "    \n",
    "print('AUC Scores: ', auc_scores)\n",
    "print('Mean AUC Score: ', sum(auc_scores)/len(auc_scores))"
   ]
  },
  {
   "cell_type": "markdown",
   "metadata": {},
   "source": [
    "#### Decision Tree _k_-fold Cross-validation"
   ]
  },
  {
   "cell_type": "code",
   "execution_count": 91,
   "metadata": {
    "scrolled": true
   },
   "outputs": [
    {
     "name": "stdout",
     "output_type": "stream",
     "text": [
      "AUC Scores:  [0.5298278530455823, 0.5363000899611778, 0.5194034856870106]\n",
      "Mean AUC Score:  0.5285104762312569\n"
     ]
    }
   ],
   "source": [
    "# let's use three folds\n",
    "k_folds = 3\n",
    "D_clf = DecisionTreeClassifier(class_weight='balanced', random_state=1111)\n",
    "auc_scores = []\n",
    "\n",
    "for k in range(k_folds):\n",
    "    \n",
    "    X_train_k, X_test_k, y_train_k, y_test_k = \\\n",
    "        train_test_split(X_NO, y_no, test_size=1/k_folds)\n",
    "\n",
    "    clf.fit(X_train_k, y_train_k)\n",
    "    \n",
    "    y_scores_k = clf.predict_proba(X_test_k)[:, 1]\n",
    "\n",
    "    # calcualte AUC\n",
    "    auc = roc_auc_score(y_test_k, y_scores_k)\n",
    "    \n",
    "    auc_scores.append(auc)\n",
    "    \n",
    "print('AUC Scores: ', auc_scores)\n",
    "print('Mean AUC Score: ', sum(auc_scores)/len(auc_scores))"
   ]
  }
 ],
 "metadata": {
  "kernelspec": {
   "display_name": "Python 3",
   "language": "python",
   "name": "python3"
  },
  "language_info": {
   "codemirror_mode": {
    "name": "ipython",
    "version": 3
   },
   "file_extension": ".py",
   "mimetype": "text/x-python",
   "name": "python",
   "nbconvert_exporter": "python",
   "pygments_lexer": "ipython3",
   "version": "3.8.5"
  }
 },
 "nbformat": 4,
 "nbformat_minor": 4
}
