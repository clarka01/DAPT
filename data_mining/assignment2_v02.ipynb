{
 "cells": [
  {
   "cell_type": "markdown",
   "metadata": {},
   "source": [
    "# Purchase model using e-commerce data"
   ]
  },
  {
   "cell_type": "markdown",
   "metadata": {},
   "source": [
    "### Import packages"
   ]
  },
  {
   "cell_type": "code",
   "execution_count": 1,
   "metadata": {},
   "outputs": [],
   "source": [
    "# data processing\n",
    "import numpy as np\n",
    "import pandas as pd\n",
    "from datetime import date\n",
    "\n",
    "# plotting\n",
    "import matplotlib.pyplot as plt\n",
    "import seaborn as sns"
   ]
  },
  {
   "cell_type": "markdown",
   "metadata": {},
   "source": [
    "### Set-up"
   ]
  },
  {
   "cell_type": "markdown",
   "metadata": {},
   "source": [
    "For this expercise, we will utilize two files (listed below) from the 'Brazilian E-Commerce Public Dataset' originally posted on [Kaggle]( https://www.kaggle.com/olistbr/brazilian-ecommerce)."
   ]
  },
  {
   "cell_type": "code",
   "execution_count": 2,
   "metadata": {},
   "outputs": [],
   "source": [
    "# full path of the orders dataset\n",
    "orders_file = '../data/olist_orders_dataset.csv'\n",
    "\n",
    "# full path of the customer dataset\n",
    "cust_file = '../data/olist_customers_dataset.csv'"
   ]
  },
  {
   "cell_type": "markdown",
   "metadata": {},
   "source": [
    "### Read data"
   ]
  },
  {
   "cell_type": "code",
   "execution_count": 3,
   "metadata": {},
   "outputs": [],
   "source": [
    "def read_olist_data(file1, file2, use_cols, cutoff_dt, verbose):\n",
    "    \n",
    "    # read the orders data\n",
    "    orders = pd.read_csv(file1)\n",
    "\n",
    "    if verbose:\n",
    "        print (f'{len(orders):,} read from the orders file.')\n",
    "\n",
    "    # date-time conversion\n",
    "    orders['order_purchase_timestamp'] = pd.to_datetime(orders['order_purchase_timestamp'])\n",
    "\n",
    "    # let's convert the order purchase timestamps into dates\n",
    "    orders['order_purchase_date'] = orders['order_purchase_timestamp'].dt.date\n",
    "\n",
    "    # extract month from the order date\n",
    "    orders['order_dow'] = orders['order_purchase_timestamp'].dt.day_name()\n",
    "\n",
    "    # read the file that contains the unique customer identifier\n",
    "    # also, let's keep only the following two columns: customer_id, customer_unique_id\n",
    "    cust = pd.read_csv(file2, usecols=['customer_id', 'customer_unique_id'])\n",
    "    \n",
    "    if verbose:\n",
    "        print (f'{len(cust):,} read from the customer file.')\n",
    "\n",
    "    # merge orders and cust dataframes\n",
    "    orders_out = pd.merge(orders, cust, on='customer_id', how='inner')\n",
    "    \n",
    "    # discard (incomplete) data after cutoff_dt\n",
    "    # we do this here by using a boolean (True/False) mask\n",
    "    mask = orders_out['order_purchase_date'] <= cutoff_dt\n",
    "\n",
    "    orders_out = orders_out[mask]\n",
    "    \n",
    "    # sort the output dataset by order date for each customer\n",
    "    orders_out = orders_out[use_cols].sort_values(['customer_unique_id', 'order_purchase_timestamp'])\n",
    "\n",
    "    if verbose:\n",
    "        print (f'{len(orders_out):,} records in the output  file.')\n",
    "    \n",
    "    return orders_out"
   ]
  },
  {
   "cell_type": "code",
   "execution_count": 4,
   "metadata": {
    "scrolled": true
   },
   "outputs": [
    {
     "name": "stdout",
     "output_type": "stream",
     "text": [
      "99,441 read from the orders file.\n",
      "99,441 read from the customer file.\n",
      "98,906 records in the output  file.\n"
     ]
    }
   ],
   "source": [
    "# we will keep only these columns for this exercise\n",
    "use_cols = ['customer_unique_id', 'order_id', 'order_purchase_timestamp', 'order_dow']\n",
    "\n",
    "# we will discard (incomplete) data after 8/22/18 (see 06_pandas_wrangle.ipynb for the rationale)\n",
    "cutoff_date = date(2018, 8, 22)\n",
    "\n",
    "orders = read_olist_data(orders_file, cust_file, use_cols, cutoff_date, 1)"
   ]
  },
  {
   "cell_type": "markdown",
   "metadata": {},
   "source": [
    "This is our combined raw dataset from which we will create attributes and label for each customer."
   ]
  },
  {
   "cell_type": "markdown",
   "metadata": {},
   "source": [
    "## Binary Classification Model: Data Preparation"
   ]
  },
  {
   "cell_type": "markdown",
   "metadata": {},
   "source": [
    "Let's build a model to predict whether a customer will make a purchase within the next month."
   ]
  },
  {
   "cell_type": "markdown",
   "metadata": {},
   "source": [
    "<img src=\"../misc/prediction-window.png\" align=left width=750>"
   ]
  },
  {
   "cell_type": "markdown",
   "metadata": {},
   "source": [
    "We will use *July 2018*, which is the most recent complete month, as the prediction window. In other words, we will use all available data prior to July 2018 to predict which customers will make a purchase in July 2018."
   ]
  },
  {
   "cell_type": "code",
   "execution_count": 5,
   "metadata": {},
   "outputs": [],
   "source": [
    "snapshot_date = date(2018, 6, 30)"
   ]
  },
  {
   "cell_type": "markdown",
   "metadata": {},
   "source": [
    "### Attribute #1: Order recency"
   ]
  },
  {
   "cell_type": "markdown",
   "metadata": {},
   "source": [
    "For creating model attributes (features) we will have to restrict our data to the timeframe prior to the prediction window."
   ]
  },
  {
   "cell_type": "code",
   "execution_count": 6,
   "metadata": {},
   "outputs": [],
   "source": [
    "mask = orders['order_purchase_timestamp'].dt.date <= snapshot_date\n"
   ]
  },
  {
   "cell_type": "code",
   "execution_count": 7,
   "metadata": {},
   "outputs": [
    {
     "data": {
      "text/plain": [
       "(98906, 86617)"
      ]
     },
     "execution_count": 7,
     "metadata": {},
     "output_type": "execute_result"
    }
   ],
   "source": [
    "# apply the filter\n",
    "\n",
    "df_raw = orders[mask]\n",
    "\n",
    "len(orders), len(df_raw)"
   ]
  },
  {
   "cell_type": "code",
   "execution_count": 8,
   "metadata": {},
   "outputs": [
    {
     "data": {
      "text/plain": [
       "Timestamp('2018-06-30 23:59:49')"
      ]
     },
     "execution_count": 8,
     "metadata": {},
     "output_type": "execute_result"
    }
   ],
   "source": [
    "# check the max date\n",
    "\n",
    "df_raw.order_purchase_timestamp.max()"
   ]
  },
  {
   "cell_type": "markdown",
   "metadata": {},
   "source": [
    "To calculate recency (days since the most recent order), we will have to extract *the most recent date* for each customer."
   ]
  },
  {
   "cell_type": "code",
   "execution_count": 9,
   "metadata": {},
   "outputs": [
    {
     "data": {
      "text/html": [
       "<div>\n",
       "<style scoped>\n",
       "    .dataframe tbody tr th:only-of-type {\n",
       "        vertical-align: middle;\n",
       "    }\n",
       "\n",
       "    .dataframe tbody tr th {\n",
       "        vertical-align: top;\n",
       "    }\n",
       "\n",
       "    .dataframe thead th {\n",
       "        text-align: right;\n",
       "    }\n",
       "</style>\n",
       "<table border=\"1\" class=\"dataframe\">\n",
       "  <thead>\n",
       "    <tr style=\"text-align: right;\">\n",
       "      <th></th>\n",
       "      <th>customer_unique_id</th>\n",
       "      <th>order_purchase_timestamp</th>\n",
       "    </tr>\n",
       "  </thead>\n",
       "  <tbody>\n",
       "    <tr>\n",
       "      <th>0</th>\n",
       "      <td>0000366f3b9a7992bf8c76cfdf3221e2</td>\n",
       "      <td>2018-05-10 10:56:27</td>\n",
       "    </tr>\n",
       "    <tr>\n",
       "      <th>1</th>\n",
       "      <td>0000b849f77a49e4a4ce2b2a4ca5be3f</td>\n",
       "      <td>2018-05-07 11:11:27</td>\n",
       "    </tr>\n",
       "    <tr>\n",
       "      <th>2</th>\n",
       "      <td>0000f46a3911fa3c0805444483337064</td>\n",
       "      <td>2017-03-10 21:05:03</td>\n",
       "    </tr>\n",
       "    <tr>\n",
       "      <th>3</th>\n",
       "      <td>0000f6ccb0745a6a4b88665a16c9f078</td>\n",
       "      <td>2017-10-12 20:29:41</td>\n",
       "    </tr>\n",
       "    <tr>\n",
       "      <th>4</th>\n",
       "      <td>0004aac84e0df4da2b147fca70cf8255</td>\n",
       "      <td>2017-11-14 19:45:42</td>\n",
       "    </tr>\n",
       "  </tbody>\n",
       "</table>\n",
       "</div>"
      ],
      "text/plain": [
       "                 customer_unique_id order_purchase_timestamp\n",
       "0  0000366f3b9a7992bf8c76cfdf3221e2      2018-05-10 10:56:27\n",
       "1  0000b849f77a49e4a4ce2b2a4ca5be3f      2018-05-07 11:11:27\n",
       "2  0000f46a3911fa3c0805444483337064      2017-03-10 21:05:03\n",
       "3  0000f6ccb0745a6a4b88665a16c9f078      2017-10-12 20:29:41\n",
       "4  0004aac84e0df4da2b147fca70cf8255      2017-11-14 19:45:42"
      ]
     },
     "execution_count": 9,
     "metadata": {},
     "output_type": "execute_result"
    }
   ],
   "source": [
    "# grab the max purchase date for each customer\n",
    "\n",
    "cust_recency = df_raw.groupby('customer_unique_id')['order_purchase_timestamp'].max().reset_index()\n",
    "\n",
    "cust_recency.head()"
   ]
  },
  {
   "cell_type": "code",
   "execution_count": 10,
   "metadata": {},
   "outputs": [
    {
     "data": {
      "text/plain": [
       "0    51 days\n",
       "1    54 days\n",
       "2   477 days\n",
       "3   261 days\n",
       "4   228 days\n",
       "Name: order_purchase_timestamp, dtype: timedelta64[ns]"
      ]
     },
     "execution_count": 10,
     "metadata": {},
     "output_type": "execute_result"
    }
   ],
   "source": [
    "# count the number of days between the most recent order date and the snapshot date\n",
    "\n",
    "delta = snapshot_date - cust_recency['order_purchase_timestamp'].dt.date\n",
    "\n",
    "delta.head()"
   ]
  },
  {
   "cell_type": "code",
   "execution_count": 11,
   "metadata": {},
   "outputs": [
    {
     "data": {
      "text/html": [
       "<div>\n",
       "<style scoped>\n",
       "    .dataframe tbody tr th:only-of-type {\n",
       "        vertical-align: middle;\n",
       "    }\n",
       "\n",
       "    .dataframe tbody tr th {\n",
       "        vertical-align: top;\n",
       "    }\n",
       "\n",
       "    .dataframe thead th {\n",
       "        text-align: right;\n",
       "    }\n",
       "</style>\n",
       "<table border=\"1\" class=\"dataframe\">\n",
       "  <thead>\n",
       "    <tr style=\"text-align: right;\">\n",
       "      <th></th>\n",
       "      <th>customer_unique_id</th>\n",
       "      <th>order_purchase_timestamp</th>\n",
       "      <th>order_recency</th>\n",
       "    </tr>\n",
       "  </thead>\n",
       "  <tbody>\n",
       "    <tr>\n",
       "      <th>0</th>\n",
       "      <td>0000366f3b9a7992bf8c76cfdf3221e2</td>\n",
       "      <td>2018-05-10 10:56:27</td>\n",
       "      <td>1</td>\n",
       "    </tr>\n",
       "    <tr>\n",
       "      <th>1</th>\n",
       "      <td>0000b849f77a49e4a4ce2b2a4ca5be3f</td>\n",
       "      <td>2018-05-07 11:11:27</td>\n",
       "      <td>1</td>\n",
       "    </tr>\n",
       "    <tr>\n",
       "      <th>2</th>\n",
       "      <td>0000f46a3911fa3c0805444483337064</td>\n",
       "      <td>2017-03-10 21:05:03</td>\n",
       "      <td>15</td>\n",
       "    </tr>\n",
       "    <tr>\n",
       "      <th>3</th>\n",
       "      <td>0000f6ccb0745a6a4b88665a16c9f078</td>\n",
       "      <td>2017-10-12 20:29:41</td>\n",
       "      <td>8</td>\n",
       "    </tr>\n",
       "    <tr>\n",
       "      <th>4</th>\n",
       "      <td>0004aac84e0df4da2b147fca70cf8255</td>\n",
       "      <td>2017-11-14 19:45:42</td>\n",
       "      <td>7</td>\n",
       "    </tr>\n",
       "  </tbody>\n",
       "</table>\n",
       "</div>"
      ],
      "text/plain": [
       "                 customer_unique_id order_purchase_timestamp  order_recency\n",
       "0  0000366f3b9a7992bf8c76cfdf3221e2      2018-05-10 10:56:27              1\n",
       "1  0000b849f77a49e4a4ce2b2a4ca5be3f      2018-05-07 11:11:27              1\n",
       "2  0000f46a3911fa3c0805444483337064      2017-03-10 21:05:03             15\n",
       "3  0000f6ccb0745a6a4b88665a16c9f078      2017-10-12 20:29:41              8\n",
       "4  0004aac84e0df4da2b147fca70cf8255      2017-11-14 19:45:42              7"
      ]
     },
     "execution_count": 11,
     "metadata": {},
     "output_type": "execute_result"
    }
   ],
   "source": [
    "# grab the number of days (as an integer) from the calculated deltas \n",
    "\n",
    "cust_recency['order_recency'] = delta.dt.days / 30\n",
    "cust_recency['order_recency'] = cust_recency['order_recency'].astype(int)\n",
    "cust_recency.head()"
   ]
  },
  {
   "cell_type": "code",
   "execution_count": 12,
   "metadata": {},
   "outputs": [],
   "source": [
    "# drop the date (we don't need it any more for this exercise)\n",
    "\n",
    "cust_recency = cust_recency.drop('order_purchase_timestamp', axis=1)"
   ]
  },
  {
   "cell_type": "code",
   "execution_count": 13,
   "metadata": {},
   "outputs": [
    {
     "data": {
      "text/plain": [
       "83748"
      ]
     },
     "execution_count": 13,
     "metadata": {},
     "output_type": "execute_result"
    }
   ],
   "source": [
    "# how many records (unique customers) do we have for this timeframe?\n",
    "\n",
    "len(cust_recency)"
   ]
  },
  {
   "cell_type": "markdown",
   "metadata": {},
   "source": [
    "This is the number of customers who are included in the modeling dasetset for this specific time-frame."
   ]
  },
  {
   "cell_type": "markdown",
   "metadata": {},
   "source": [
    "Let's check the distribution of this attribute."
   ]
  },
  {
   "cell_type": "code",
   "execution_count": 14,
   "metadata": {},
   "outputs": [
    {
     "name": "stderr",
     "output_type": "stream",
     "text": [
      "C:\\ProgramData\\Anaconda3\\lib\\site-packages\\seaborn\\distributions.py:2551: FutureWarning: `distplot` is a deprecated function and will be removed in a future version. Please adapt your code to use either `displot` (a figure-level function with similar flexibility) or `histplot` (an axes-level function for histograms).\n",
      "  warnings.warn(msg, FutureWarning)\n"
     ]
    },
    {
     "data": {
      "image/png": "[encoded data removed]",
      "text/plain": [
       "<Figure size 1080x432 with 1 Axes>"
      ]
     },
     "metadata": {},
     "output_type": "display_data"
    }
   ],
   "source": [
    "sns.set(style='darkgrid')\n",
    "\n",
    "# adjust the plot size\n",
    "plt.figure().set_size_inches(15, 6)\n",
    "\n",
    "# histogram\n",
    "sns.distplot(cust_recency['order_recency'], kde=False)\n",
    "\n",
    "# assign axis labels\n",
    "plt.ylabel('Number of Customers', fontsize=14)\n",
    "plt.xlabel('Days Since the Most Recent Order', fontsize=14);"
   ]
  },
  {
   "cell_type": "markdown",
   "metadata": {},
   "source": [
    "Let's take a look at the cumulative distribution of customers by recency."
   ]
  },
  {
   "cell_type": "code",
   "execution_count": 15,
   "metadata": {},
   "outputs": [
    {
     "data": {
      "text/html": [
       "<div>\n",
       "<style scoped>\n",
       "    .dataframe tbody tr th:only-of-type {\n",
       "        vertical-align: middle;\n",
       "    }\n",
       "\n",
       "    .dataframe tbody tr th {\n",
       "        vertical-align: top;\n",
       "    }\n",
       "\n",
       "    .dataframe thead th {\n",
       "        text-align: right;\n",
       "    }\n",
       "</style>\n",
       "<table border=\"1\" class=\"dataframe\">\n",
       "  <thead>\n",
       "    <tr style=\"text-align: right;\">\n",
       "      <th></th>\n",
       "      <th>order_recency</th>\n",
       "      <th>cust_count</th>\n",
       "    </tr>\n",
       "  </thead>\n",
       "  <tbody>\n",
       "    <tr>\n",
       "      <th>0</th>\n",
       "      <td>0</td>\n",
       "      <td>6128</td>\n",
       "    </tr>\n",
       "    <tr>\n",
       "      <th>1</th>\n",
       "      <td>1</td>\n",
       "      <td>6526</td>\n",
       "    </tr>\n",
       "    <tr>\n",
       "      <th>2</th>\n",
       "      <td>2</td>\n",
       "      <td>6858</td>\n",
       "    </tr>\n",
       "    <tr>\n",
       "      <th>3</th>\n",
       "      <td>3</td>\n",
       "      <td>6717</td>\n",
       "    </tr>\n",
       "    <tr>\n",
       "      <th>4</th>\n",
       "      <td>4</td>\n",
       "      <td>6998</td>\n",
       "    </tr>\n",
       "  </tbody>\n",
       "</table>\n",
       "</div>"
      ],
      "text/plain": [
       "   order_recency  cust_count\n",
       "0              0        6128\n",
       "1              1        6526\n",
       "2              2        6858\n",
       "3              3        6717\n",
       "4              4        6998"
      ]
     },
     "execution_count": 15,
     "metadata": {},
     "output_type": "execute_result"
    }
   ],
   "source": [
    "recency_distr = cust_recency.groupby('order_recency').size().reset_index()\n",
    "\n",
    "recency_distr = recency_distr.rename(columns={0: 'cust_count'})\n",
    "\n",
    "recency_distr.head()"
   ]
  },
  {
   "cell_type": "code",
   "execution_count": 16,
   "metadata": {},
   "outputs": [
    {
     "data": {
      "text/plain": [
       "0    0.073172\n",
       "1    0.151096\n",
       "2    0.232985\n",
       "3    0.313190\n",
       "4    0.396750\n",
       "Name: cust_count, dtype: float64"
      ]
     },
     "execution_count": 16,
     "metadata": {},
     "output_type": "execute_result"
    }
   ],
   "source": [
    "# calculate cumulative percentages \n",
    "\n",
    "cum_pctg = recency_distr['cust_count'].cumsum() / sum(recency_distr['cust_count'])\n",
    "\n",
    "cum_pctg.head()"
   ]
  },
  {
   "cell_type": "code",
   "execution_count": 17,
   "metadata": {},
   "outputs": [
    {
     "data": {
      "image/png": "[encoded data removed]",
      "text/plain": [
       "<Figure size 648x648 with 1 Axes>"
      ]
     },
     "metadata": {},
     "output_type": "display_data"
    }
   ],
   "source": [
    "sns.set(style='darkgrid')\n",
    "\n",
    "# adjust the plot size\n",
    "plt.figure().set_size_inches(9, 9)\n",
    "\n",
    "# histogram\n",
    "sns.lineplot(x=recency_distr['order_recency'], y=cum_pctg, color='royalblue', lw=3)\n",
    "\n",
    "# assign axis labels\n",
    "plt.ylabel('Cumulative % of Customers', fontsize=14)\n",
    "plt.xlabel('Months Since the Most Recent Order', fontsize=14);"
   ]
  },
  {
   "cell_type": "markdown",
   "metadata": {},
   "source": [
    "Additional eligibility criteria can be applied to exclude customers (from the modeling dataset) who have not shopped in more than, e.g., one/two years."
   ]
  },
  {
   "cell_type": "markdown",
   "metadata": {},
   "source": [
    "### Attribute #2: Number of orders per customer"
   ]
  },
  {
   "cell_type": "code",
   "execution_count": 18,
   "metadata": {},
   "outputs": [
    {
     "data": {
      "text/html": [
       "<div>\n",
       "<style scoped>\n",
       "    .dataframe tbody tr th:only-of-type {\n",
       "        vertical-align: middle;\n",
       "    }\n",
       "\n",
       "    .dataframe tbody tr th {\n",
       "        vertical-align: top;\n",
       "    }\n",
       "\n",
       "    .dataframe thead th {\n",
       "        text-align: right;\n",
       "    }\n",
       "</style>\n",
       "<table border=\"1\" class=\"dataframe\">\n",
       "  <thead>\n",
       "    <tr style=\"text-align: right;\">\n",
       "      <th></th>\n",
       "      <th>customer_unique_id</th>\n",
       "      <th>total_orders</th>\n",
       "    </tr>\n",
       "  </thead>\n",
       "  <tbody>\n",
       "    <tr>\n",
       "      <th>0</th>\n",
       "      <td>0000366f3b9a7992bf8c76cfdf3221e2</td>\n",
       "      <td>1</td>\n",
       "    </tr>\n",
       "    <tr>\n",
       "      <th>1</th>\n",
       "      <td>0000b849f77a49e4a4ce2b2a4ca5be3f</td>\n",
       "      <td>1</td>\n",
       "    </tr>\n",
       "    <tr>\n",
       "      <th>2</th>\n",
       "      <td>0000f46a3911fa3c0805444483337064</td>\n",
       "      <td>1</td>\n",
       "    </tr>\n",
       "    <tr>\n",
       "      <th>3</th>\n",
       "      <td>0000f6ccb0745a6a4b88665a16c9f078</td>\n",
       "      <td>1</td>\n",
       "    </tr>\n",
       "    <tr>\n",
       "      <th>4</th>\n",
       "      <td>0004aac84e0df4da2b147fca70cf8255</td>\n",
       "      <td>1</td>\n",
       "    </tr>\n",
       "  </tbody>\n",
       "</table>\n",
       "</div>"
      ],
      "text/plain": [
       "                 customer_unique_id  total_orders\n",
       "0  0000366f3b9a7992bf8c76cfdf3221e2             1\n",
       "1  0000b849f77a49e4a4ce2b2a4ca5be3f             1\n",
       "2  0000f46a3911fa3c0805444483337064             1\n",
       "3  0000f6ccb0745a6a4b88665a16c9f078             1\n",
       "4  0004aac84e0df4da2b147fca70cf8255             1"
      ]
     },
     "execution_count": 18,
     "metadata": {},
     "output_type": "execute_result"
    }
   ],
   "source": [
    "# count total records (i.e., orders) per customer\n",
    "\n",
    "cust_orders = df_raw.groupby('customer_unique_id').size().reset_index().rename(columns={0: 'total_orders'})\n",
    "\n",
    "cust_orders.head()"
   ]
  },
  {
   "cell_type": "code",
   "execution_count": 19,
   "metadata": {},
   "outputs": [
    {
     "data": {
      "text/plain": [
       "1     81174\n",
       "2      2361\n",
       "3       171\n",
       "4        24\n",
       "5         8\n",
       "6         5\n",
       "7         3\n",
       "12        1\n",
       "9         1\n",
       "Name: total_orders, dtype: int64"
      ]
     },
     "execution_count": 19,
     "metadata": {},
     "output_type": "execute_result"
    }
   ],
   "source": [
    "cust_orders.total_orders.value_counts()"
   ]
  },
  {
   "cell_type": "markdown",
   "metadata": {},
   "source": [
    "### Attribute set #3: Weekday"
   ]
  },
  {
   "cell_type": "code",
   "execution_count": 20,
   "metadata": {
    "scrolled": true
   },
   "outputs": [
    {
     "data": {
      "text/html": [
       "<div>\n",
       "<style scoped>\n",
       "    .dataframe tbody tr th:only-of-type {\n",
       "        vertical-align: middle;\n",
       "    }\n",
       "\n",
       "    .dataframe tbody tr th {\n",
       "        vertical-align: top;\n",
       "    }\n",
       "\n",
       "    .dataframe thead th {\n",
       "        text-align: right;\n",
       "    }\n",
       "</style>\n",
       "<table border=\"1\" class=\"dataframe\">\n",
       "  <thead>\n",
       "    <tr style=\"text-align: right;\">\n",
       "      <th></th>\n",
       "      <th>customer_unique_id</th>\n",
       "      <th>order_id</th>\n",
       "      <th>order_purchase_timestamp</th>\n",
       "      <th>order_dow</th>\n",
       "    </tr>\n",
       "  </thead>\n",
       "  <tbody>\n",
       "    <tr>\n",
       "      <th>52798</th>\n",
       "      <td>0000366f3b9a7992bf8c76cfdf3221e2</td>\n",
       "      <td>e22acc9c116caa3f2b7121bbb380d08e</td>\n",
       "      <td>2018-05-10 10:56:27</td>\n",
       "      <td>Thursday</td>\n",
       "    </tr>\n",
       "    <tr>\n",
       "      <th>73889</th>\n",
       "      <td>0000b849f77a49e4a4ce2b2a4ca5be3f</td>\n",
       "      <td>3594e05a005ac4d06a72673270ef9ec9</td>\n",
       "      <td>2018-05-07 11:11:27</td>\n",
       "      <td>Monday</td>\n",
       "    </tr>\n",
       "    <tr>\n",
       "      <th>26460</th>\n",
       "      <td>0000f46a3911fa3c0805444483337064</td>\n",
       "      <td>b33ec3b699337181488304f362a6b734</td>\n",
       "      <td>2017-03-10 21:05:03</td>\n",
       "      <td>Friday</td>\n",
       "    </tr>\n",
       "    <tr>\n",
       "      <th>98493</th>\n",
       "      <td>0000f6ccb0745a6a4b88665a16c9f078</td>\n",
       "      <td>41272756ecddd9a9ed0180413cc22fb6</td>\n",
       "      <td>2017-10-12 20:29:41</td>\n",
       "      <td>Thursday</td>\n",
       "    </tr>\n",
       "    <tr>\n",
       "      <th>41564</th>\n",
       "      <td>0004aac84e0df4da2b147fca70cf8255</td>\n",
       "      <td>d957021f1127559cd947b62533f484f7</td>\n",
       "      <td>2017-11-14 19:45:42</td>\n",
       "      <td>Tuesday</td>\n",
       "    </tr>\n",
       "  </tbody>\n",
       "</table>\n",
       "</div>"
      ],
      "text/plain": [
       "                     customer_unique_id                          order_id  \\\n",
       "52798  0000366f3b9a7992bf8c76cfdf3221e2  e22acc9c116caa3f2b7121bbb380d08e   \n",
       "73889  0000b849f77a49e4a4ce2b2a4ca5be3f  3594e05a005ac4d06a72673270ef9ec9   \n",
       "26460  0000f46a3911fa3c0805444483337064  b33ec3b699337181488304f362a6b734   \n",
       "98493  0000f6ccb0745a6a4b88665a16c9f078  41272756ecddd9a9ed0180413cc22fb6   \n",
       "41564  0004aac84e0df4da2b147fca70cf8255  d957021f1127559cd947b62533f484f7   \n",
       "\n",
       "      order_purchase_timestamp order_dow  \n",
       "52798      2018-05-10 10:56:27  Thursday  \n",
       "73889      2018-05-07 11:11:27    Monday  \n",
       "26460      2017-03-10 21:05:03    Friday  \n",
       "98493      2017-10-12 20:29:41  Thursday  \n",
       "41564      2017-11-14 19:45:42   Tuesday  "
      ]
     },
     "execution_count": 20,
     "metadata": {},
     "output_type": "execute_result"
    }
   ],
   "source": [
    "df_raw.head()"
   ]
  },
  {
   "cell_type": "code",
   "execution_count": 21,
   "metadata": {},
   "outputs": [
    {
     "data": {
      "text/html": [
       "<div>\n",
       "<style scoped>\n",
       "    .dataframe tbody tr th:only-of-type {\n",
       "        vertical-align: middle;\n",
       "    }\n",
       "\n",
       "    .dataframe tbody tr th {\n",
       "        vertical-align: top;\n",
       "    }\n",
       "\n",
       "    .dataframe thead th {\n",
       "        text-align: right;\n",
       "    }\n",
       "</style>\n",
       "<table border=\"1\" class=\"dataframe\">\n",
       "  <thead>\n",
       "    <tr style=\"text-align: right;\">\n",
       "      <th></th>\n",
       "      <th>customer_unique_id</th>\n",
       "      <th>order_id</th>\n",
       "      <th>order_purchase_timestamp</th>\n",
       "      <th>order_dow_Friday</th>\n",
       "      <th>order_dow_Monday</th>\n",
       "      <th>order_dow_Saturday</th>\n",
       "      <th>order_dow_Sunday</th>\n",
       "      <th>order_dow_Thursday</th>\n",
       "      <th>order_dow_Tuesday</th>\n",
       "      <th>order_dow_Wednesday</th>\n",
       "    </tr>\n",
       "  </thead>\n",
       "  <tbody>\n",
       "    <tr>\n",
       "      <th>52798</th>\n",
       "      <td>0000366f3b9a7992bf8c76cfdf3221e2</td>\n",
       "      <td>e22acc9c116caa3f2b7121bbb380d08e</td>\n",
       "      <td>2018-05-10 10:56:27</td>\n",
       "      <td>0</td>\n",
       "      <td>0</td>\n",
       "      <td>0</td>\n",
       "      <td>0</td>\n",
       "      <td>1</td>\n",
       "      <td>0</td>\n",
       "      <td>0</td>\n",
       "    </tr>\n",
       "    <tr>\n",
       "      <th>73889</th>\n",
       "      <td>0000b849f77a49e4a4ce2b2a4ca5be3f</td>\n",
       "      <td>3594e05a005ac4d06a72673270ef9ec9</td>\n",
       "      <td>2018-05-07 11:11:27</td>\n",
       "      <td>0</td>\n",
       "      <td>1</td>\n",
       "      <td>0</td>\n",
       "      <td>0</td>\n",
       "      <td>0</td>\n",
       "      <td>0</td>\n",
       "      <td>0</td>\n",
       "    </tr>\n",
       "    <tr>\n",
       "      <th>26460</th>\n",
       "      <td>0000f46a3911fa3c0805444483337064</td>\n",
       "      <td>b33ec3b699337181488304f362a6b734</td>\n",
       "      <td>2017-03-10 21:05:03</td>\n",
       "      <td>1</td>\n",
       "      <td>0</td>\n",
       "      <td>0</td>\n",
       "      <td>0</td>\n",
       "      <td>0</td>\n",
       "      <td>0</td>\n",
       "      <td>0</td>\n",
       "    </tr>\n",
       "    <tr>\n",
       "      <th>98493</th>\n",
       "      <td>0000f6ccb0745a6a4b88665a16c9f078</td>\n",
       "      <td>41272756ecddd9a9ed0180413cc22fb6</td>\n",
       "      <td>2017-10-12 20:29:41</td>\n",
       "      <td>0</td>\n",
       "      <td>0</td>\n",
       "      <td>0</td>\n",
       "      <td>0</td>\n",
       "      <td>1</td>\n",
       "      <td>0</td>\n",
       "      <td>0</td>\n",
       "    </tr>\n",
       "    <tr>\n",
       "      <th>41564</th>\n",
       "      <td>0004aac84e0df4da2b147fca70cf8255</td>\n",
       "      <td>d957021f1127559cd947b62533f484f7</td>\n",
       "      <td>2017-11-14 19:45:42</td>\n",
       "      <td>0</td>\n",
       "      <td>0</td>\n",
       "      <td>0</td>\n",
       "      <td>0</td>\n",
       "      <td>0</td>\n",
       "      <td>1</td>\n",
       "      <td>0</td>\n",
       "    </tr>\n",
       "  </tbody>\n",
       "</table>\n",
       "</div>"
      ],
      "text/plain": [
       "                     customer_unique_id                          order_id  \\\n",
       "52798  0000366f3b9a7992bf8c76cfdf3221e2  e22acc9c116caa3f2b7121bbb380d08e   \n",
       "73889  0000b849f77a49e4a4ce2b2a4ca5be3f  3594e05a005ac4d06a72673270ef9ec9   \n",
       "26460  0000f46a3911fa3c0805444483337064  b33ec3b699337181488304f362a6b734   \n",
       "98493  0000f6ccb0745a6a4b88665a16c9f078  41272756ecddd9a9ed0180413cc22fb6   \n",
       "41564  0004aac84e0df4da2b147fca70cf8255  d957021f1127559cd947b62533f484f7   \n",
       "\n",
       "      order_purchase_timestamp  order_dow_Friday  order_dow_Monday  \\\n",
       "52798      2018-05-10 10:56:27                 0                 0   \n",
       "73889      2018-05-07 11:11:27                 0                 1   \n",
       "26460      2017-03-10 21:05:03                 1                 0   \n",
       "98493      2017-10-12 20:29:41                 0                 0   \n",
       "41564      2017-11-14 19:45:42                 0                 0   \n",
       "\n",
       "       order_dow_Saturday  order_dow_Sunday  order_dow_Thursday  \\\n",
       "52798                   0                 0                   1   \n",
       "73889                   0                 0                   0   \n",
       "26460                   0                 0                   0   \n",
       "98493                   0                 0                   1   \n",
       "41564                   0                 0                   0   \n",
       "\n",
       "       order_dow_Tuesday  order_dow_Wednesday  \n",
       "52798                  0                    0  \n",
       "73889                  0                    0  \n",
       "26460                  0                    0  \n",
       "98493                  0                    0  \n",
       "41564                  1                    0  "
      ]
     },
     "execution_count": 21,
     "metadata": {},
     "output_type": "execute_result"
    }
   ],
   "source": [
    "# get dummies\n",
    "\n",
    "df_raw = pd.get_dummies(df_raw, columns=['order_dow'])\n",
    "\n",
    "df_raw.head()"
   ]
  },
  {
   "cell_type": "code",
   "execution_count": 97,
   "metadata": {},
   "outputs": [
    {
     "data": {
      "text/html": [
       "<div>\n",
       "<style scoped>\n",
       "    .dataframe tbody tr th:only-of-type {\n",
       "        vertical-align: middle;\n",
       "    }\n",
       "\n",
       "    .dataframe tbody tr th {\n",
       "        vertical-align: top;\n",
       "    }\n",
       "\n",
       "    .dataframe thead th {\n",
       "        text-align: right;\n",
       "    }\n",
       "</style>\n",
       "<table border=\"1\" class=\"dataframe\">\n",
       "  <thead>\n",
       "    <tr style=\"text-align: right;\">\n",
       "      <th></th>\n",
       "      <th>customer_unique_id</th>\n",
       "      <th>order_dow_Friday</th>\n",
       "      <th>order_dow_Monday</th>\n",
       "      <th>order_dow_Saturday</th>\n",
       "      <th>order_dow_Sunday</th>\n",
       "      <th>order_dow_Thursday</th>\n",
       "      <th>order_dow_Tuesday</th>\n",
       "      <th>order_dow_Wednesday</th>\n",
       "    </tr>\n",
       "  </thead>\n",
       "  <tbody>\n",
       "    <tr>\n",
       "      <th>0</th>\n",
       "      <td>0000366f3b9a7992bf8c76cfdf3221e2</td>\n",
       "      <td>0</td>\n",
       "      <td>0</td>\n",
       "      <td>0</td>\n",
       "      <td>0</td>\n",
       "      <td>1</td>\n",
       "      <td>0</td>\n",
       "      <td>0</td>\n",
       "    </tr>\n",
       "    <tr>\n",
       "      <th>1</th>\n",
       "      <td>0000b849f77a49e4a4ce2b2a4ca5be3f</td>\n",
       "      <td>0</td>\n",
       "      <td>1</td>\n",
       "      <td>0</td>\n",
       "      <td>0</td>\n",
       "      <td>0</td>\n",
       "      <td>0</td>\n",
       "      <td>0</td>\n",
       "    </tr>\n",
       "    <tr>\n",
       "      <th>2</th>\n",
       "      <td>0000f46a3911fa3c0805444483337064</td>\n",
       "      <td>1</td>\n",
       "      <td>0</td>\n",
       "      <td>0</td>\n",
       "      <td>0</td>\n",
       "      <td>0</td>\n",
       "      <td>0</td>\n",
       "      <td>0</td>\n",
       "    </tr>\n",
       "    <tr>\n",
       "      <th>3</th>\n",
       "      <td>0000f6ccb0745a6a4b88665a16c9f078</td>\n",
       "      <td>0</td>\n",
       "      <td>0</td>\n",
       "      <td>0</td>\n",
       "      <td>0</td>\n",
       "      <td>1</td>\n",
       "      <td>0</td>\n",
       "      <td>0</td>\n",
       "    </tr>\n",
       "    <tr>\n",
       "      <th>4</th>\n",
       "      <td>0004aac84e0df4da2b147fca70cf8255</td>\n",
       "      <td>0</td>\n",
       "      <td>0</td>\n",
       "      <td>0</td>\n",
       "      <td>0</td>\n",
       "      <td>0</td>\n",
       "      <td>1</td>\n",
       "      <td>0</td>\n",
       "    </tr>\n",
       "  </tbody>\n",
       "</table>\n",
       "</div>"
      ],
      "text/plain": [
       "                 customer_unique_id  order_dow_Friday  order_dow_Monday  \\\n",
       "0  0000366f3b9a7992bf8c76cfdf3221e2                 0                 0   \n",
       "1  0000b849f77a49e4a4ce2b2a4ca5be3f                 0                 1   \n",
       "2  0000f46a3911fa3c0805444483337064                 1                 0   \n",
       "3  0000f6ccb0745a6a4b88665a16c9f078                 0                 0   \n",
       "4  0004aac84e0df4da2b147fca70cf8255                 0                 0   \n",
       "\n",
       "   order_dow_Saturday  order_dow_Sunday  order_dow_Thursday  \\\n",
       "0                   0                 0                   1   \n",
       "1                   0                 0                   0   \n",
       "2                   0                 0                   0   \n",
       "3                   0                 0                   1   \n",
       "4                   0                 0                   0   \n",
       "\n",
       "   order_dow_Tuesday  order_dow_Wednesday  \n",
       "0                  0                    0  \n",
       "1                  0                    0  \n",
       "2                  0                    0  \n",
       "3                  0                    0  \n",
       "4                  1                    0  "
      ]
     },
     "execution_count": 97,
     "metadata": {},
     "output_type": "execute_result"
    }
   ],
   "source": [
    "# grab all binary columns that we just created\n",
    "dummies = [x for x in df_raw.columns if 'order_dow' in x]\n",
    "\n",
    "# aggreagte data to the customer-level, so that we have one record per customer\n",
    "cust_dow = df_raw.groupby('customer_unique_id')[dummies].sum().reset_index()\n",
    "\n",
    "cust_dow.head()"
   ]
  },
  {
   "cell_type": "markdown",
   "metadata": {},
   "source": [
    "### Combine all attributes into a single dataframe"
   ]
  },
  {
   "cell_type": "code",
   "execution_count": 98,
   "metadata": {},
   "outputs": [
    {
     "data": {
      "text/plain": [
       "((83748, 2), (83748, 2), (83748, 8))"
      ]
     },
     "execution_count": 98,
     "metadata": {},
     "output_type": "execute_result"
    }
   ],
   "source": [
    "# let's check the number of records in each dataframe first\n",
    "\n",
    "cust_recency.shape, cust_orders.shape, cust_dow.shape"
   ]
  },
  {
   "cell_type": "code",
   "execution_count": 99,
   "metadata": {},
   "outputs": [
    {
     "data": {
      "text/plain": [
       "(83748, 10)"
      ]
     },
     "execution_count": 99,
     "metadata": {},
     "output_type": "execute_result"
    }
   ],
   "source": [
    "# combine (merge) `cust_recency` with `cust_orders` so that we have both attributes in one dataset\n",
    "\n",
    "df = pd.merge(cust_recency, cust_orders, on='customer_unique_id').merge(cust_dow, on='customer_unique_id')\n",
    "\n",
    "df.shape"
   ]
  },
  {
   "cell_type": "code",
   "execution_count": 100,
   "metadata": {},
   "outputs": [
    {
     "data": {
      "text/html": [
       "<div>\n",
       "<style scoped>\n",
       "    .dataframe tbody tr th:only-of-type {\n",
       "        vertical-align: middle;\n",
       "    }\n",
       "\n",
       "    .dataframe tbody tr th {\n",
       "        vertical-align: top;\n",
       "    }\n",
       "\n",
       "    .dataframe thead th {\n",
       "        text-align: right;\n",
       "    }\n",
       "</style>\n",
       "<table border=\"1\" class=\"dataframe\">\n",
       "  <thead>\n",
       "    <tr style=\"text-align: right;\">\n",
       "      <th></th>\n",
       "      <th>customer_unique_id</th>\n",
       "      <th>order_recency</th>\n",
       "      <th>total_orders</th>\n",
       "      <th>order_dow_Friday</th>\n",
       "      <th>order_dow_Monday</th>\n",
       "      <th>order_dow_Saturday</th>\n",
       "      <th>order_dow_Sunday</th>\n",
       "      <th>order_dow_Thursday</th>\n",
       "      <th>order_dow_Tuesday</th>\n",
       "      <th>order_dow_Wednesday</th>\n",
       "    </tr>\n",
       "  </thead>\n",
       "  <tbody>\n",
       "    <tr>\n",
       "      <th>0</th>\n",
       "      <td>0000366f3b9a7992bf8c76cfdf3221e2</td>\n",
       "      <td>1</td>\n",
       "      <td>1</td>\n",
       "      <td>0</td>\n",
       "      <td>0</td>\n",
       "      <td>0</td>\n",
       "      <td>0</td>\n",
       "      <td>1</td>\n",
       "      <td>0</td>\n",
       "      <td>0</td>\n",
       "    </tr>\n",
       "    <tr>\n",
       "      <th>1</th>\n",
       "      <td>0000b849f77a49e4a4ce2b2a4ca5be3f</td>\n",
       "      <td>1</td>\n",
       "      <td>1</td>\n",
       "      <td>0</td>\n",
       "      <td>1</td>\n",
       "      <td>0</td>\n",
       "      <td>0</td>\n",
       "      <td>0</td>\n",
       "      <td>0</td>\n",
       "      <td>0</td>\n",
       "    </tr>\n",
       "    <tr>\n",
       "      <th>2</th>\n",
       "      <td>0000f46a3911fa3c0805444483337064</td>\n",
       "      <td>15</td>\n",
       "      <td>1</td>\n",
       "      <td>1</td>\n",
       "      <td>0</td>\n",
       "      <td>0</td>\n",
       "      <td>0</td>\n",
       "      <td>0</td>\n",
       "      <td>0</td>\n",
       "      <td>0</td>\n",
       "    </tr>\n",
       "    <tr>\n",
       "      <th>3</th>\n",
       "      <td>0000f6ccb0745a6a4b88665a16c9f078</td>\n",
       "      <td>8</td>\n",
       "      <td>1</td>\n",
       "      <td>0</td>\n",
       "      <td>0</td>\n",
       "      <td>0</td>\n",
       "      <td>0</td>\n",
       "      <td>1</td>\n",
       "      <td>0</td>\n",
       "      <td>0</td>\n",
       "    </tr>\n",
       "    <tr>\n",
       "      <th>4</th>\n",
       "      <td>0004aac84e0df4da2b147fca70cf8255</td>\n",
       "      <td>7</td>\n",
       "      <td>1</td>\n",
       "      <td>0</td>\n",
       "      <td>0</td>\n",
       "      <td>0</td>\n",
       "      <td>0</td>\n",
       "      <td>0</td>\n",
       "      <td>1</td>\n",
       "      <td>0</td>\n",
       "    </tr>\n",
       "  </tbody>\n",
       "</table>\n",
       "</div>"
      ],
      "text/plain": [
       "                 customer_unique_id  order_recency  total_orders  \\\n",
       "0  0000366f3b9a7992bf8c76cfdf3221e2              1             1   \n",
       "1  0000b849f77a49e4a4ce2b2a4ca5be3f              1             1   \n",
       "2  0000f46a3911fa3c0805444483337064             15             1   \n",
       "3  0000f6ccb0745a6a4b88665a16c9f078              8             1   \n",
       "4  0004aac84e0df4da2b147fca70cf8255              7             1   \n",
       "\n",
       "   order_dow_Friday  order_dow_Monday  order_dow_Saturday  order_dow_Sunday  \\\n",
       "0                 0                 0                   0                 0   \n",
       "1                 0                 1                   0                 0   \n",
       "2                 1                 0                   0                 0   \n",
       "3                 0                 0                   0                 0   \n",
       "4                 0                 0                   0                 0   \n",
       "\n",
       "   order_dow_Thursday  order_dow_Tuesday  order_dow_Wednesday  \n",
       "0                   1                  0                    0  \n",
       "1                   0                  0                    0  \n",
       "2                   0                  0                    0  \n",
       "3                   1                  0                    0  \n",
       "4                   0                  1                    0  "
      ]
     },
     "execution_count": 100,
     "metadata": {},
     "output_type": "execute_result"
    }
   ],
   "source": [
    "df.head()"
   ]
  },
  {
   "cell_type": "markdown",
   "metadata": {},
   "source": [
    "Exclude customers who have not placed an order within the past one year."
   ]
  },
  {
   "cell_type": "code",
   "execution_count": 101,
   "metadata": {},
   "outputs": [
    {
     "data": {
      "text/plain": [
       "72085"
      ]
     },
     "execution_count": 101,
     "metadata": {},
     "output_type": "execute_result"
    }
   ],
   "source": [
    "df = df[df['order_recency'] <= 12]\n",
    "\n",
    "len(df)"
   ]
  },
  {
   "cell_type": "markdown",
   "metadata": {},
   "source": [
    "### Assign labels (aka the target variable or the dependent variable)"
   ]
  },
  {
   "cell_type": "markdown",
   "metadata": {},
   "source": [
    "For this exercise, we will assume that the objective of the model is to predict whether a customer will make *at least one purchase* in the future (i.e., within the target window of the model)."
   ]
  },
  {
   "cell_type": "markdown",
   "metadata": {},
   "source": [
    "**Step 1:** Isolate all orders that were placed within the prediction window."
   ]
  },
  {
   "cell_type": "code",
   "execution_count": 102,
   "metadata": {},
   "outputs": [
    {
     "data": {
      "text/plain": [
       "6292"
      ]
     },
     "execution_count": 102,
     "metadata": {},
     "output_type": "execute_result"
    }
   ],
   "source": [
    "# select orders that were placed in July 2018\n",
    "\n",
    "mask = (orders['order_purchase_timestamp'].dt.month == 7) & \\\n",
    "        (orders['order_purchase_timestamp'].dt.year == 2018)\n",
    "\n",
    "target_events_raw = orders[mask]\n",
    "\n",
    "len(target_events_raw)"
   ]
  },
  {
   "cell_type": "code",
   "execution_count": 103,
   "metadata": {},
   "outputs": [
    {
     "name": "stdout",
     "output_type": "stream",
     "text": [
      "2018-07-01 00:25:07 2018-07-31 23:54:20\n"
     ]
    }
   ],
   "source": [
    "# confirm the min and max dates are within the month of July 2018\n",
    "\n",
    "print (target_events_raw['order_purchase_timestamp'].min(), target_events_raw['order_purchase_timestamp'].max())"
   ]
  },
  {
   "cell_type": "markdown",
   "metadata": {},
   "source": [
    "**Step 2:** Summarize data to get one record per customer."
   ]
  },
  {
   "cell_type": "code",
   "execution_count": 104,
   "metadata": {},
   "outputs": [
    {
     "data": {
      "text/html": [
       "<div>\n",
       "<style scoped>\n",
       "    .dataframe tbody tr th:only-of-type {\n",
       "        vertical-align: middle;\n",
       "    }\n",
       "\n",
       "    .dataframe tbody tr th {\n",
       "        vertical-align: top;\n",
       "    }\n",
       "\n",
       "    .dataframe thead th {\n",
       "        text-align: right;\n",
       "    }\n",
       "</style>\n",
       "<table border=\"1\" class=\"dataframe\">\n",
       "  <thead>\n",
       "    <tr style=\"text-align: right;\">\n",
       "      <th></th>\n",
       "      <th>customer_unique_id</th>\n",
       "      <th>purch</th>\n",
       "    </tr>\n",
       "  </thead>\n",
       "  <tbody>\n",
       "    <tr>\n",
       "      <th>0</th>\n",
       "      <td>000fbf0473c10fc1ab6f8d2d286ce20c</td>\n",
       "      <td>1</td>\n",
       "    </tr>\n",
       "    <tr>\n",
       "      <th>1</th>\n",
       "      <td>00172711b30d52eea8b313a7f2cced02</td>\n",
       "      <td>1</td>\n",
       "    </tr>\n",
       "    <tr>\n",
       "      <th>2</th>\n",
       "      <td>00196c4c9a3af7dd2ad10eade69c926f</td>\n",
       "      <td>1</td>\n",
       "    </tr>\n",
       "    <tr>\n",
       "      <th>3</th>\n",
       "      <td>001a34eb30ecb8e3aacb07c475ca4dd1</td>\n",
       "      <td>1</td>\n",
       "    </tr>\n",
       "    <tr>\n",
       "      <th>4</th>\n",
       "      <td>0025795df7a7d077c4c90162fa820085</td>\n",
       "      <td>1</td>\n",
       "    </tr>\n",
       "  </tbody>\n",
       "</table>\n",
       "</div>"
      ],
      "text/plain": [
       "                 customer_unique_id  purch\n",
       "0  000fbf0473c10fc1ab6f8d2d286ce20c      1\n",
       "1  00172711b30d52eea8b313a7f2cced02      1\n",
       "2  00196c4c9a3af7dd2ad10eade69c926f      1\n",
       "3  001a34eb30ecb8e3aacb07c475ca4dd1      1\n",
       "4  0025795df7a7d077c4c90162fa820085      1"
      ]
     },
     "execution_count": 104,
     "metadata": {},
     "output_type": "execute_result"
    }
   ],
   "source": [
    "# count the number of orders (we will convert this into a binary flag later)\n",
    "\n",
    "target_events = target_events_raw.groupby('customer_unique_id').size().reset_index().rename(columns={0: 'purch'})\n",
    "\n",
    "target_events.head(5)"
   ]
  },
  {
   "cell_type": "code",
   "execution_count": 105,
   "metadata": {},
   "outputs": [
    {
     "name": "stdout",
     "output_type": "stream",
     "text": [
      "Number of customers who made at least one purchase durnig the prediction window: 6,230\n"
     ]
    }
   ],
   "source": [
    "print(f'Number of customers who made at least one purchase durnig the prediction window: {len(target_events):,}')"
   ]
  },
  {
   "cell_type": "markdown",
   "metadata": {},
   "source": [
    "**Step 3:** Merge this dataframe with the `attr` dataframe to create the modeling dataset."
   ]
  },
  {
   "cell_type": "code",
   "execution_count": 106,
   "metadata": {},
   "outputs": [
    {
     "data": {
      "text/plain": [
       "(72085, 11)"
      ]
     },
     "execution_count": 106,
     "metadata": {},
     "output_type": "execute_result"
    }
   ],
   "source": [
    "# merge `target_events` with the dataframe that contains customer attributes\n",
    "\n",
    "df = pd.merge(df, target_events, how='left', on='customer_unique_id')\n",
    "\n",
    "df.shape"
   ]
  },
  {
   "cell_type": "code",
   "execution_count": 107,
   "metadata": {},
   "outputs": [
    {
     "data": {
      "text/html": [
       "<div>\n",
       "<style scoped>\n",
       "    .dataframe tbody tr th:only-of-type {\n",
       "        vertical-align: middle;\n",
       "    }\n",
       "\n",
       "    .dataframe tbody tr th {\n",
       "        vertical-align: top;\n",
       "    }\n",
       "\n",
       "    .dataframe thead th {\n",
       "        text-align: right;\n",
       "    }\n",
       "</style>\n",
       "<table border=\"1\" class=\"dataframe\">\n",
       "  <thead>\n",
       "    <tr style=\"text-align: right;\">\n",
       "      <th></th>\n",
       "      <th>customer_unique_id</th>\n",
       "      <th>order_recency</th>\n",
       "      <th>total_orders</th>\n",
       "      <th>order_dow_Friday</th>\n",
       "      <th>order_dow_Monday</th>\n",
       "      <th>order_dow_Saturday</th>\n",
       "      <th>order_dow_Sunday</th>\n",
       "      <th>order_dow_Thursday</th>\n",
       "      <th>order_dow_Tuesday</th>\n",
       "      <th>order_dow_Wednesday</th>\n",
       "      <th>purch</th>\n",
       "    </tr>\n",
       "  </thead>\n",
       "  <tbody>\n",
       "    <tr>\n",
       "      <th>0</th>\n",
       "      <td>0000366f3b9a7992bf8c76cfdf3221e2</td>\n",
       "      <td>1</td>\n",
       "      <td>1</td>\n",
       "      <td>0</td>\n",
       "      <td>0</td>\n",
       "      <td>0</td>\n",
       "      <td>0</td>\n",
       "      <td>1</td>\n",
       "      <td>0</td>\n",
       "      <td>0</td>\n",
       "      <td>NaN</td>\n",
       "    </tr>\n",
       "    <tr>\n",
       "      <th>1</th>\n",
       "      <td>0000b849f77a49e4a4ce2b2a4ca5be3f</td>\n",
       "      <td>1</td>\n",
       "      <td>1</td>\n",
       "      <td>0</td>\n",
       "      <td>1</td>\n",
       "      <td>0</td>\n",
       "      <td>0</td>\n",
       "      <td>0</td>\n",
       "      <td>0</td>\n",
       "      <td>0</td>\n",
       "      <td>NaN</td>\n",
       "    </tr>\n",
       "    <tr>\n",
       "      <th>2</th>\n",
       "      <td>0000f6ccb0745a6a4b88665a16c9f078</td>\n",
       "      <td>8</td>\n",
       "      <td>1</td>\n",
       "      <td>0</td>\n",
       "      <td>0</td>\n",
       "      <td>0</td>\n",
       "      <td>0</td>\n",
       "      <td>1</td>\n",
       "      <td>0</td>\n",
       "      <td>0</td>\n",
       "      <td>NaN</td>\n",
       "    </tr>\n",
       "    <tr>\n",
       "      <th>3</th>\n",
       "      <td>0004aac84e0df4da2b147fca70cf8255</td>\n",
       "      <td>7</td>\n",
       "      <td>1</td>\n",
       "      <td>0</td>\n",
       "      <td>0</td>\n",
       "      <td>0</td>\n",
       "      <td>0</td>\n",
       "      <td>0</td>\n",
       "      <td>1</td>\n",
       "      <td>0</td>\n",
       "      <td>NaN</td>\n",
       "    </tr>\n",
       "    <tr>\n",
       "      <th>4</th>\n",
       "      <td>0004bd2a26a76fe21f786e4fbd80607f</td>\n",
       "      <td>2</td>\n",
       "      <td>1</td>\n",
       "      <td>0</td>\n",
       "      <td>0</td>\n",
       "      <td>0</td>\n",
       "      <td>0</td>\n",
       "      <td>1</td>\n",
       "      <td>0</td>\n",
       "      <td>0</td>\n",
       "      <td>NaN</td>\n",
       "    </tr>\n",
       "  </tbody>\n",
       "</table>\n",
       "</div>"
      ],
      "text/plain": [
       "                 customer_unique_id  order_recency  total_orders  \\\n",
       "0  0000366f3b9a7992bf8c76cfdf3221e2              1             1   \n",
       "1  0000b849f77a49e4a4ce2b2a4ca5be3f              1             1   \n",
       "2  0000f6ccb0745a6a4b88665a16c9f078              8             1   \n",
       "3  0004aac84e0df4da2b147fca70cf8255              7             1   \n",
       "4  0004bd2a26a76fe21f786e4fbd80607f              2             1   \n",
       "\n",
       "   order_dow_Friday  order_dow_Monday  order_dow_Saturday  order_dow_Sunday  \\\n",
       "0                 0                 0                   0                 0   \n",
       "1                 0                 1                   0                 0   \n",
       "2                 0                 0                   0                 0   \n",
       "3                 0                 0                   0                 0   \n",
       "4                 0                 0                   0                 0   \n",
       "\n",
       "   order_dow_Thursday  order_dow_Tuesday  order_dow_Wednesday  purch  \n",
       "0                   1                  0                    0    NaN  \n",
       "1                   0                  0                    0    NaN  \n",
       "2                   1                  0                    0    NaN  \n",
       "3                   0                  1                    0    NaN  \n",
       "4                   1                  0                    0    NaN  "
      ]
     },
     "execution_count": 107,
     "metadata": {},
     "output_type": "execute_result"
    }
   ],
   "source": [
    "df.head()"
   ]
  },
  {
   "cell_type": "code",
   "execution_count": 108,
   "metadata": {},
   "outputs": [
    {
     "data": {
      "text/plain": [
       "1.0    145\n",
       "2.0      1\n",
       "Name: purch, dtype: int64"
      ]
     },
     "execution_count": 108,
     "metadata": {},
     "output_type": "execute_result"
    }
   ],
   "source": [
    "df['purch'].value_counts()"
   ]
  },
  {
   "cell_type": "markdown",
   "metadata": {},
   "source": [
    "We need to convert this variable into a binary flag."
   ]
  },
  {
   "cell_type": "markdown",
   "metadata": {},
   "source": [
    "**Step 4:** Set the target variable to 1 if at least one purchase was made, 0 otherwise."
   ]
  },
  {
   "cell_type": "code",
   "execution_count": 109,
   "metadata": {},
   "outputs": [
    {
     "data": {
      "text/plain": [
       "0    71939\n",
       "1      146\n",
       "Name: purch, dtype: int64"
      ]
     },
     "execution_count": 109,
     "metadata": {},
     "output_type": "execute_result"
    }
   ],
   "source": [
    "# create the binary target flag\n",
    "\n",
    "df['purch'] = [1 if x > 0 else 0 for x in df['purch']]\n",
    "\n",
    "df.purch.value_counts()"
   ]
  },
  {
   "cell_type": "code",
   "execution_count": 110,
   "metadata": {},
   "outputs": [
    {
     "data": {
      "text/plain": [
       "0    0.997975\n",
       "1    0.002025\n",
       "Name: purch, dtype: float64"
      ]
     },
     "execution_count": 110,
     "metadata": {},
     "output_type": "execute_result"
    }
   ],
   "source": [
    "# % distribution of the target flag\n",
    "\n",
    "df.purch.value_counts() / len(df)"
   ]
  },
  {
   "cell_type": "markdown",
   "metadata": {},
   "source": [
    "There are two issues here: (1) the target event is extremely rare, and (2) the number of target events is also extremely small. There are several ways to circumvent these issues, but for now we will proceed with this dataset. "
   ]
  },
  {
   "cell_type": "code",
   "execution_count": 111,
   "metadata": {},
   "outputs": [
    {
     "data": {
      "text/plain": [
       "order_recency         -0.014356\n",
       "total_orders           0.028143\n",
       "order_dow_Friday      -0.000851\n",
       "order_dow_Monday       0.002185\n",
       "order_dow_Saturday    -0.001580\n",
       "order_dow_Sunday       0.002719\n",
       "order_dow_Thursday     0.003834\n",
       "order_dow_Tuesday      0.010368\n",
       "order_dow_Wednesday   -0.000424\n",
       "purch                  1.000000\n",
       "Name: purch, dtype: float64"
      ]
     },
     "execution_count": 111,
     "metadata": {},
     "output_type": "execute_result"
    }
   ],
   "source": [
    "# check the correlations\n",
    "\n",
    "df.corr()['purch']"
   ]
  },
  {
   "cell_type": "markdown",
   "metadata": {},
   "source": [
    "Before moving on to model building, let create a two-axis plot to view the purchase rates by recency."
   ]
  },
  {
   "cell_type": "code",
   "execution_count": 37,
   "metadata": {},
   "outputs": [
    {
     "data": {
      "image/png": "[encoded data removed]",
      "text/plain": [
       "<Figure size 864x432 with 2 Axes>"
      ]
     },
     "metadata": {},
     "output_type": "display_data"
    }
   ],
   "source": [
    "purch_rate_by_recency = df.groupby('order_recency')['purch'].mean().reset_index()\n",
    "\n",
    "purch_rate_by_recency['orders'] = df.groupby('order_recency').size().reset_index()[0]\n",
    "\n",
    "sns.set(style = 'dark')\n",
    "f, ax = plt.subplots(figsize = (12, 6))\n",
    "\n",
    "# create a secondary axis\n",
    "ax2 = ax.twinx()\n",
    "\n",
    "#bar chart for number of orders\n",
    "\n",
    "ax.bar(purch_rate_by_recency['order_recency'], purch_rate_by_recency['orders'], color='teal', alpha=0.3)\n",
    "\n",
    "ax2.plot(purch_rate_by_recency['order_recency'], purch_rate_by_recency['purch'], \n",
    "         color='orangered', marker='o', markersize=5, lw=1)\n",
    "\n",
    "ax.set_xlabel('Months Since the Most Recent Order', fontsize=14, weight='bold')\n",
    "ax.set_ylabel('Number of Customers', fontsize=14, weight='bold', color='teal')\n",
    "ax2.set_ylabel('Average Purchase Rate', fontsize = 14, color='orangered', weight='bold')\n",
    "\n",
    "ax.tick_params(axis='y', colors='teal')\n",
    "ax2.tick_params(axis='y', colors='orangered')"
   ]
  },
  {
   "cell_type": "markdown",
   "metadata": {},
   "source": [
    "### Model building"
   ]
  },
  {
   "cell_type": "code",
   "execution_count": 112,
   "metadata": {},
   "outputs": [
    {
     "data": {
      "text/plain": [
       "Index(['customer_unique_id', 'order_recency', 'total_orders',\n",
       "       'order_dow_Friday', 'order_dow_Monday', 'order_dow_Saturday',\n",
       "       'order_dow_Sunday', 'order_dow_Thursday', 'order_dow_Tuesday',\n",
       "       'order_dow_Wednesday', 'purch'],\n",
       "      dtype='object')"
      ]
     },
     "execution_count": 112,
     "metadata": {},
     "output_type": "execute_result"
    }
   ],
   "source": [
    "df.columns"
   ]
  },
  {
   "cell_type": "code",
   "execution_count": 113,
   "metadata": {},
   "outputs": [],
   "source": [
    "# set-up\n",
    "\n",
    "preds = df.columns[1:-1]\n",
    "\n",
    "X = df[preds]\n",
    "y = df['purch']"
   ]
  },
  {
   "cell_type": "markdown",
   "metadata": {},
   "source": [
    "Tri-fold partitioning is recommended as long as there's sufficient sample size avaiable. In this example, since the number of target events is very small, we will perform a two-fold paritioning of the modeling sample."
   ]
  },
  {
   "cell_type": "markdown",
   "metadata": {},
   "source": [
    "Note that we could increase the size of the prediction window to capture more purchase events. However, for this exercise we will continue with the current prediction window (of one month)."
   ]
  },
  {
   "cell_type": "markdown",
   "metadata": {},
   "source": [
    "#### Two-fold partition"
   ]
  },
  {
   "cell_type": "code",
   "execution_count": 117,
   "metadata": {},
   "outputs": [
    {
     "data": {
      "text/plain": [
       "((36042, 9), (36043, 9), (36042,), (36043,))"
      ]
     },
     "execution_count": 117,
     "metadata": {},
     "output_type": "execute_result"
    }
   ],
   "source": [
    "# split the dataframe into train(50%) and test(50%)\n",
    "\n",
    "from sklearn.model_selection import train_test_split\n",
    "\n",
    "X_train, X_test, y_train, y_test = train_test_split(X, y, test_size=0.5, random_state=314)\n",
    "\n",
    "len(X_train), len(X_test)\n",
    "\n",
    "X_train.shape, X_test.shape, y_train.shape, y_test.shape"
   ]
  },
  {
   "cell_type": "code",
   "execution_count": 118,
   "metadata": {},
   "outputs": [
    {
     "data": {
      "text/plain": [
       "0    35973\n",
       "1       69\n",
       "Name: purch, dtype: int64"
      ]
     },
     "execution_count": 118,
     "metadata": {},
     "output_type": "execute_result"
    }
   ],
   "source": [
    "# target distribution in the trainig sample\n",
    "\n",
    "y_train.value_counts()"
   ]
  },
  {
   "cell_type": "code",
   "execution_count": 119,
   "metadata": {},
   "outputs": [
    {
     "data": {
      "text/plain": [
       "0    35966\n",
       "1       77\n",
       "Name: purch, dtype: int64"
      ]
     },
     "execution_count": 119,
     "metadata": {},
     "output_type": "execute_result"
    }
   ],
   "source": [
    "# target distribution in the test sample\n",
    "\n",
    "y_test.value_counts()"
   ]
  },
  {
   "cell_type": "code",
   "execution_count": 123,
   "metadata": {},
   "outputs": [],
   "source": [
    "from sklearn.linear_model import LogisticRegression\n",
    "\n",
    "# define the model object ('liblinear' is recommended for small datasets), initialize classifier\n",
    "clf = LogisticRegression(solver='liblinear', random_state=314)\n",
    "\n",
    "# train (fit) the model using the training sample\n",
    "clf.fit(X_train, y_train)\n",
    "\n",
    "# make predictions on the test sample, contains 0's or 1's.\n",
    "y_preds = clf.predict(X_test)"
   ]
  },
  {
   "cell_type": "code",
   "execution_count": 124,
   "metadata": {},
   "outputs": [
    {
     "data": {
      "text/plain": [
       "array([0, 0, 0, 0, 0, 0, 0, 0, 0, 0], dtype=int64)"
      ]
     },
     "execution_count": 124,
     "metadata": {},
     "output_type": "execute_result"
    }
   ],
   "source": [
    "y_preds[:10]"
   ]
  },
  {
   "cell_type": "markdown",
   "metadata": {},
   "source": [
    "### Model accuracy"
   ]
  },
  {
   "cell_type": "code",
   "execution_count": 122,
   "metadata": {},
   "outputs": [
    {
     "data": {
      "text/plain": [
       "0.9978636628471548"
      ]
     },
     "execution_count": 122,
     "metadata": {},
     "output_type": "execute_result"
    }
   ],
   "source": [
    "from sklearn.metrics import accuracy_score\n",
    "\n",
    "accuracy_score(y_test, y_preds)"
   ]
  },
  {
   "cell_type": "markdown",
   "metadata": {},
   "source": [
    "Why does the model appear to be very strong in spite of only two predictors that didn't look correlated with the target?"
   ]
  },
  {
   "cell_type": "code",
   "execution_count": 45,
   "metadata": {},
   "outputs": [
    {
     "data": {
      "text/html": [
       "<div>\n",
       "<style scoped>\n",
       "    .dataframe tbody tr th:only-of-type {\n",
       "        vertical-align: middle;\n",
       "    }\n",
       "\n",
       "    .dataframe tbody tr th {\n",
       "        vertical-align: top;\n",
       "    }\n",
       "\n",
       "    .dataframe thead th {\n",
       "        text-align: right;\n",
       "    }\n",
       "</style>\n",
       "<table border=\"1\" class=\"dataframe\">\n",
       "  <thead>\n",
       "    <tr style=\"text-align: right;\">\n",
       "      <th>col_0</th>\n",
       "      <th>0</th>\n",
       "    </tr>\n",
       "    <tr>\n",
       "      <th>purch</th>\n",
       "      <th></th>\n",
       "    </tr>\n",
       "  </thead>\n",
       "  <tbody>\n",
       "    <tr>\n",
       "      <th>0</th>\n",
       "      <td>35966</td>\n",
       "    </tr>\n",
       "    <tr>\n",
       "      <th>1</th>\n",
       "      <td>77</td>\n",
       "    </tr>\n",
       "  </tbody>\n",
       "</table>\n",
       "</div>"
      ],
      "text/plain": [
       "col_0      0\n",
       "purch       \n",
       "0      35966\n",
       "1         77"
      ]
     },
     "execution_count": 45,
     "metadata": {},
     "output_type": "execute_result"
    }
   ],
   "source": [
    "# check model's predictions against actual value of the target event\n",
    "\n",
    "pd.crosstab(y_test, y_preds)"
   ]
  },
  {
   "cell_type": "markdown",
   "metadata": {},
   "source": [
    "The model is predicting 0 (no purchase) for all customers! Accuracy score is not a reliable measure while dealing with rare events. Let's take a look at a few additional metrics. (We will learn about these metrics in the class later.)"
   ]
  },
  {
   "cell_type": "markdown",
   "metadata": {},
   "source": [
    "Area under the ROC curve (AUC)"
   ]
  },
  {
   "cell_type": "code",
   "execution_count": 125,
   "metadata": {},
   "outputs": [
    {
     "data": {
      "text/plain": [
       "0.5361902041682947"
      ]
     },
     "execution_count": 125,
     "metadata": {},
     "output_type": "execute_result"
    }
   ],
   "source": [
    "from sklearn.metrics import roc_auc_score\n",
    "\n",
    "# calculate the probabilities on the test sample\n",
    "y_scores = clf.predict_proba(X_test)[:, 1]\n",
    "\n",
    "# calcualte AUC\n",
    "roc_auc_score(y_test, y_scores)"
   ]
  },
  {
   "cell_type": "markdown",
   "metadata": {},
   "source": [
    "Precision"
   ]
  },
  {
   "cell_type": "code",
   "execution_count": 126,
   "metadata": {},
   "outputs": [
    {
     "data": {
      "text/plain": [
       "0.0037491967236356538"
      ]
     },
     "execution_count": 126,
     "metadata": {},
     "output_type": "execute_result"
    }
   ],
   "source": [
    "from sklearn.metrics import average_precision_score\n",
    "\n",
    "average_precision = average_precision_score(y_test, y_scores)\n",
    "\n",
    "average_precision"
   ]
  },
  {
   "cell_type": "code",
   "execution_count": 48,
   "metadata": {},
   "outputs": [
    {
     "name": "stdout",
     "output_type": "stream",
     "text": [
      "0.0020, 0.0019, 0.0021\n"
     ]
    }
   ],
   "source": [
    "print(f'{y_scores.mean():.4f}, {y_train.mean():.4f}, {y_test.mean():.4f}')"
   ]
  },
  {
   "cell_type": "markdown",
   "metadata": {},
   "source": [
    "## Export results"
   ]
  },
  {
   "cell_type": "markdown",
   "metadata": {},
   "source": [
    "#### 1. Scored dataset (with all model attributes)"
   ]
  },
  {
   "cell_type": "code",
   "execution_count": 127,
   "metadata": {},
   "outputs": [
    {
     "data": {
      "text/html": [
       "<div>\n",
       "<style scoped>\n",
       "    .dataframe tbody tr th:only-of-type {\n",
       "        vertical-align: middle;\n",
       "    }\n",
       "\n",
       "    .dataframe tbody tr th {\n",
       "        vertical-align: top;\n",
       "    }\n",
       "\n",
       "    .dataframe thead th {\n",
       "        text-align: right;\n",
       "    }\n",
       "</style>\n",
       "<table border=\"1\" class=\"dataframe\">\n",
       "  <thead>\n",
       "    <tr style=\"text-align: right;\">\n",
       "      <th></th>\n",
       "      <th>customer_unique_id</th>\n",
       "      <th>order_recency</th>\n",
       "      <th>total_orders</th>\n",
       "      <th>order_dow_Friday</th>\n",
       "      <th>order_dow_Monday</th>\n",
       "      <th>order_dow_Saturday</th>\n",
       "      <th>order_dow_Sunday</th>\n",
       "      <th>order_dow_Thursday</th>\n",
       "      <th>order_dow_Tuesday</th>\n",
       "      <th>order_dow_Wednesday</th>\n",
       "      <th>purch</th>\n",
       "      <th>prob_to_purchase</th>\n",
       "    </tr>\n",
       "  </thead>\n",
       "  <tbody>\n",
       "    <tr>\n",
       "      <th>0</th>\n",
       "      <td>0000366f3b9a7992bf8c76cfdf3221e2</td>\n",
       "      <td>1</td>\n",
       "      <td>1</td>\n",
       "      <td>0</td>\n",
       "      <td>0</td>\n",
       "      <td>0</td>\n",
       "      <td>0</td>\n",
       "      <td>1</td>\n",
       "      <td>0</td>\n",
       "      <td>0</td>\n",
       "      <td>0</td>\n",
       "      <td>0.003955</td>\n",
       "    </tr>\n",
       "    <tr>\n",
       "      <th>1</th>\n",
       "      <td>0000b849f77a49e4a4ce2b2a4ca5be3f</td>\n",
       "      <td>1</td>\n",
       "      <td>1</td>\n",
       "      <td>0</td>\n",
       "      <td>1</td>\n",
       "      <td>0</td>\n",
       "      <td>0</td>\n",
       "      <td>0</td>\n",
       "      <td>0</td>\n",
       "      <td>0</td>\n",
       "      <td>0</td>\n",
       "      <td>0.002920</td>\n",
       "    </tr>\n",
       "    <tr>\n",
       "      <th>2</th>\n",
       "      <td>0000f6ccb0745a6a4b88665a16c9f078</td>\n",
       "      <td>8</td>\n",
       "      <td>1</td>\n",
       "      <td>0</td>\n",
       "      <td>0</td>\n",
       "      <td>0</td>\n",
       "      <td>0</td>\n",
       "      <td>1</td>\n",
       "      <td>0</td>\n",
       "      <td>0</td>\n",
       "      <td>0</td>\n",
       "      <td>0.001722</td>\n",
       "    </tr>\n",
       "    <tr>\n",
       "      <th>3</th>\n",
       "      <td>0004aac84e0df4da2b147fca70cf8255</td>\n",
       "      <td>7</td>\n",
       "      <td>1</td>\n",
       "      <td>0</td>\n",
       "      <td>0</td>\n",
       "      <td>0</td>\n",
       "      <td>0</td>\n",
       "      <td>0</td>\n",
       "      <td>1</td>\n",
       "      <td>0</td>\n",
       "      <td>0</td>\n",
       "      <td>0.002201</td>\n",
       "    </tr>\n",
       "    <tr>\n",
       "      <th>4</th>\n",
       "      <td>0004bd2a26a76fe21f786e4fbd80607f</td>\n",
       "      <td>2</td>\n",
       "      <td>1</td>\n",
       "      <td>0</td>\n",
       "      <td>0</td>\n",
       "      <td>0</td>\n",
       "      <td>0</td>\n",
       "      <td>1</td>\n",
       "      <td>0</td>\n",
       "      <td>0</td>\n",
       "      <td>0</td>\n",
       "      <td>0.003512</td>\n",
       "    </tr>\n",
       "  </tbody>\n",
       "</table>\n",
       "</div>"
      ],
      "text/plain": [
       "                 customer_unique_id  order_recency  total_orders  \\\n",
       "0  0000366f3b9a7992bf8c76cfdf3221e2              1             1   \n",
       "1  0000b849f77a49e4a4ce2b2a4ca5be3f              1             1   \n",
       "2  0000f6ccb0745a6a4b88665a16c9f078              8             1   \n",
       "3  0004aac84e0df4da2b147fca70cf8255              7             1   \n",
       "4  0004bd2a26a76fe21f786e4fbd80607f              2             1   \n",
       "\n",
       "   order_dow_Friday  order_dow_Monday  order_dow_Saturday  order_dow_Sunday  \\\n",
       "0                 0                 0                   0                 0   \n",
       "1                 0                 1                   0                 0   \n",
       "2                 0                 0                   0                 0   \n",
       "3                 0                 0                   0                 0   \n",
       "4                 0                 0                   0                 0   \n",
       "\n",
       "   order_dow_Thursday  order_dow_Tuesday  order_dow_Wednesday  purch  \\\n",
       "0                   1                  0                    0      0   \n",
       "1                   0                  0                    0      0   \n",
       "2                   1                  0                    0      0   \n",
       "3                   0                  1                    0      0   \n",
       "4                   1                  0                    0      0   \n",
       "\n",
       "   prob_to_purchase  \n",
       "0          0.003955  \n",
       "1          0.002920  \n",
       "2          0.001722  \n",
       "3          0.002201  \n",
       "4          0.003512  "
      ]
     },
     "execution_count": 127,
     "metadata": {},
     "output_type": "execute_result"
    }
   ],
   "source": [
    "scores_all = clf.predict_proba(df[preds])[:, 1]\n",
    "\n",
    "df['prob_to_purchase'] = scores_all\n",
    "\n",
    "df.head()"
   ]
  },
  {
   "cell_type": "code",
   "execution_count": 129,
   "metadata": {},
   "outputs": [],
   "source": [
    "csv_file_zipped = '../output/purch_model_scores.csv.gz'\n",
    "\n",
    "df.to_csv(csv_file_zipped, compression='gzip')"
   ]
  },
  {
   "cell_type": "markdown",
   "metadata": {},
   "source": [
    "#### 2. Export the model"
   ]
  },
  {
   "cell_type": "code",
   "execution_count": 130,
   "metadata": {},
   "outputs": [
    {
     "data": {
      "text/plain": [
       "['../output/purch_model.joblib']"
      ]
     },
     "execution_count": 130,
     "metadata": {},
     "output_type": "execute_result"
    }
   ],
   "source": [
    "import joblib\n",
    "\n",
    "model_pkl_file = '../output/purch_model.joblib'\n",
    "\n",
    "joblib.dump(clf, model_pkl_file)"
   ]
  },
  {
   "cell_type": "markdown",
   "metadata": {},
   "source": [
    "##### Load the model"
   ]
  },
  {
   "cell_type": "code",
   "execution_count": 131,
   "metadata": {},
   "outputs": [
    {
     "data": {
      "text/plain": [
       "LogisticRegression(random_state=314, solver='liblinear')"
      ]
     },
     "execution_count": 131,
     "metadata": {},
     "output_type": "execute_result"
    }
   ],
   "source": [
    "clf_loaded = joblib.load(model_pkl_file)\n",
    "\n",
    "clf_loaded"
   ]
  },
  {
   "cell_type": "code",
   "execution_count": 132,
   "metadata": {},
   "outputs": [
    {
     "data": {
      "text/plain": [
       "array([[9.99111062e-01, 8.88938378e-04],\n",
       "       [9.98822863e-01, 1.17713703e-03],\n",
       "       [9.98783584e-01, 1.21641603e-03],\n",
       "       ...,\n",
       "       [9.98042503e-01, 1.95749664e-03],\n",
       "       [9.98569205e-01, 1.43079465e-03],\n",
       "       [9.99164076e-01, 8.35923715e-04]])"
      ]
     },
     "execution_count": 132,
     "metadata": {},
     "output_type": "execute_result"
    }
   ],
   "source": [
    "# use the model to score a \"new\" data frame\n",
    "\n",
    "clf_loaded.predict_proba(X_test)"
   ]
  },
  {
   "cell_type": "markdown",
   "metadata": {},
   "source": [
    "# Oversampling"
   ]
  },
  {
   "cell_type": "code",
   "execution_count": 139,
   "metadata": {},
   "outputs": [
    {
     "data": {
      "text/plain": [
       "(292, 12)"
      ]
     },
     "execution_count": 139,
     "metadata": {},
     "output_type": "execute_result"
    }
   ],
   "source": [
    "df_events = df[df['purch'] == 1]\n",
    "df_nonevents = df[df['purch'] == 0].sample(len(df_events)) #picks same number of events. \n",
    "\n",
    "df_os = pd.concat([df_events, df_nonevents])\n",
    "df_os.shape"
   ]
  },
  {
   "cell_type": "code",
   "execution_count": 140,
   "metadata": {},
   "outputs": [],
   "source": [
    "X_os = df_os[preds]\n",
    "y_os = df_os['purch']"
   ]
  },
  {
   "cell_type": "code",
   "execution_count": 141,
   "metadata": {},
   "outputs": [
    {
     "data": {
      "text/plain": [
       "LogisticRegression(random_state=314, solver='liblinear')"
      ]
     },
     "execution_count": 141,
     "metadata": {},
     "output_type": "execute_result"
    }
   ],
   "source": [
    "clf = LogisticRegression(solver='liblinear', random_state=314)\n",
    "\n",
    "# train (fit) the model using the over-sampled data\n",
    "clf.fit(X_os, y_os)"
   ]
  },
  {
   "cell_type": "code",
   "execution_count": 142,
   "metadata": {},
   "outputs": [],
   "source": [
    "y_preds = clf.predict(X)"
   ]
  },
  {
   "cell_type": "code",
   "execution_count": 143,
   "metadata": {},
   "outputs": [
    {
     "data": {
      "text/plain": [
       "0.5210376638690435"
      ]
     },
     "execution_count": 143,
     "metadata": {},
     "output_type": "execute_result"
    }
   ],
   "source": [
    "accuracy_score(y, y_preds)"
   ]
  },
  {
   "cell_type": "code",
   "execution_count": 138,
   "metadata": {},
   "outputs": [
    {
     "data": {
      "text/html": [
       "<div>\n",
       "<style scoped>\n",
       "    .dataframe tbody tr th:only-of-type {\n",
       "        vertical-align: middle;\n",
       "    }\n",
       "\n",
       "    .dataframe tbody tr th {\n",
       "        vertical-align: top;\n",
       "    }\n",
       "\n",
       "    .dataframe thead th {\n",
       "        text-align: right;\n",
       "    }\n",
       "</style>\n",
       "<table border=\"1\" class=\"dataframe\">\n",
       "  <thead>\n",
       "    <tr style=\"text-align: right;\">\n",
       "      <th>col_0</th>\n",
       "      <th>0</th>\n",
       "      <th>1</th>\n",
       "    </tr>\n",
       "    <tr>\n",
       "      <th>purch</th>\n",
       "      <th></th>\n",
       "      <th></th>\n",
       "    </tr>\n",
       "  </thead>\n",
       "  <tbody>\n",
       "    <tr>\n",
       "      <th>0</th>\n",
       "      <td>38233</td>\n",
       "      <td>33706</td>\n",
       "    </tr>\n",
       "    <tr>\n",
       "      <th>1</th>\n",
       "      <td>53</td>\n",
       "      <td>93</td>\n",
       "    </tr>\n",
       "  </tbody>\n",
       "</table>\n",
       "</div>"
      ],
      "text/plain": [
       "col_0      0      1\n",
       "purch              \n",
       "0      38233  33706\n",
       "1         53     93"
      ]
     },
     "execution_count": 138,
     "metadata": {},
     "output_type": "execute_result"
    }
   ],
   "source": [
    "pd.crosstab(y, y_preds)"
   ]
  },
  {
   "cell_type": "code",
   "execution_count": 144,
   "metadata": {},
   "outputs": [
    {
     "data": {
      "text/plain": [
       "0.6108721392001253"
      ]
     },
     "execution_count": 144,
     "metadata": {},
     "output_type": "execute_result"
    }
   ],
   "source": [
    "y_scores = clf.predict_proba(X)[:, 1]\n",
    "\n",
    "# calcualte AUC\n",
    "roc_auc_score(y, y_scores)"
   ]
  },
  {
   "cell_type": "markdown",
   "metadata": {},
   "source": [
    "Do you notice an issue with the way we validated this model?"
   ]
  },
  {
   "cell_type": "markdown",
   "metadata": {},
   "source": [
    "The training data above is a subset of the original dataset. And then we used the original dataset for model validation. This is likely to give us a biased sense of how well the model works on unseen data. The training and test set should be mutually exclusive."
   ]
  },
  {
   "cell_type": "code",
   "execution_count": 146,
   "metadata": {},
   "outputs": [
    {
     "data": {
      "text/plain": [
       "(146, 146)"
      ]
     },
     "execution_count": 146,
     "metadata": {},
     "output_type": "execute_result"
    }
   ],
   "source": [
    "X_train_os, X_test_os, y_train_os, y_test_os = \\\n",
    "    train_test_split(X_os, y_os, test_size=0.5, random_state=314)\n",
    "\n",
    "len(X_train_os), len(X_test_os)"
   ]
  },
  {
   "cell_type": "code",
   "execution_count": 147,
   "metadata": {},
   "outputs": [],
   "source": [
    "# train (fit) the model using the (oversampled) training sample\n",
    "clf.fit(X_train_os, y_train_os)\n",
    "\n",
    "# make predictions on the test sample\n",
    "y_preds_os = clf.predict(X_test_os)"
   ]
  },
  {
   "cell_type": "code",
   "execution_count": 148,
   "metadata": {},
   "outputs": [
    {
     "data": {
      "text/plain": [
       "0.5547945205479452"
      ]
     },
     "execution_count": 148,
     "metadata": {},
     "output_type": "execute_result"
    }
   ],
   "source": [
    "accuracy_score(y_test_os, y_preds_os)"
   ]
  },
  {
   "cell_type": "code",
   "execution_count": 149,
   "metadata": {},
   "outputs": [
    {
     "data": {
      "text/html": [
       "<div>\n",
       "<style scoped>\n",
       "    .dataframe tbody tr th:only-of-type {\n",
       "        vertical-align: middle;\n",
       "    }\n",
       "\n",
       "    .dataframe tbody tr th {\n",
       "        vertical-align: top;\n",
       "    }\n",
       "\n",
       "    .dataframe thead th {\n",
       "        text-align: right;\n",
       "    }\n",
       "</style>\n",
       "<table border=\"1\" class=\"dataframe\">\n",
       "  <thead>\n",
       "    <tr style=\"text-align: right;\">\n",
       "      <th>col_0</th>\n",
       "      <th>0</th>\n",
       "      <th>1</th>\n",
       "    </tr>\n",
       "    <tr>\n",
       "      <th>purch</th>\n",
       "      <th></th>\n",
       "      <th></th>\n",
       "    </tr>\n",
       "  </thead>\n",
       "  <tbody>\n",
       "    <tr>\n",
       "      <th>0</th>\n",
       "      <td>46</td>\n",
       "      <td>25</td>\n",
       "    </tr>\n",
       "    <tr>\n",
       "      <th>1</th>\n",
       "      <td>40</td>\n",
       "      <td>35</td>\n",
       "    </tr>\n",
       "  </tbody>\n",
       "</table>\n",
       "</div>"
      ],
      "text/plain": [
       "col_0   0   1\n",
       "purch        \n",
       "0      46  25\n",
       "1      40  35"
      ]
     },
     "execution_count": 149,
     "metadata": {},
     "output_type": "execute_result"
    }
   ],
   "source": [
    "pd.crosstab(y_test_os, y_preds_os)"
   ]
  },
  {
   "cell_type": "code",
   "execution_count": 150,
   "metadata": {},
   "outputs": [
    {
     "data": {
      "text/plain": [
       "0.5543661971830987"
      ]
     },
     "execution_count": 150,
     "metadata": {},
     "output_type": "execute_result"
    }
   ],
   "source": [
    "y_scores_os = clf.predict_proba(X_test_os)[:, 1]\n",
    "\n",
    "# calcualte AUC\n",
    "roc_auc_score(y_test_os, y_scores_os)"
   ]
  },
  {
   "cell_type": "code",
   "execution_count": 151,
   "metadata": {},
   "outputs": [
    {
     "data": {
      "text/plain": [
       "0.49160011743225246"
      ]
     },
     "execution_count": 151,
     "metadata": {},
     "output_type": "execute_result"
    }
   ],
   "source": [
    "y_scores_os.mean()"
   ]
  },
  {
   "cell_type": "markdown",
   "metadata": {},
   "source": [
    "Because we trained our model on a dataset with over-sampled events, the predicted probabilities here are aligned with the event:non-event proportion in the training set."
   ]
  },
  {
   "cell_type": "markdown",
   "metadata": {},
   "source": [
    "Instead of manually oversampling, we can use `class_weight` to achieve the same results."
   ]
  },
  {
   "cell_type": "code",
   "execution_count": 153,
   "metadata": {},
   "outputs": [
    {
     "data": {
      "text/plain": [
       "0.4736047864743716"
      ]
     },
     "execution_count": 153,
     "metadata": {},
     "output_type": "execute_result"
    }
   ],
   "source": [
    "clf = LogisticRegression(solver='liblinear', class_weight='balanced', random_state=314)\n",
    "\n",
    "clf.fit(X_train, y_train)\n",
    "\n",
    "clf.predict_proba(X_train)[:, 1].mean()"
   ]
  },
  {
   "cell_type": "code",
   "execution_count": 69,
   "metadata": {},
   "outputs": [
    {
     "data": {
      "text/plain": [
       "0.5791839117897062"
      ]
     },
     "execution_count": 69,
     "metadata": {},
     "output_type": "execute_result"
    }
   ],
   "source": [
    "y_scores = clf.predict_proba(X_test)[:, 1]\n",
    "\n",
    "# calcualte AUC\n",
    "roc_auc_score(y_test, y_scores)"
   ]
  },
  {
   "cell_type": "markdown",
   "metadata": {},
   "source": [
    "## _k_-fold Cross-validation"
   ]
  },
  {
   "cell_type": "markdown",
   "metadata": {},
   "source": [
    "We used 50% of the dataset as a test set. Since the number of events in this dataset is very small, this is an expensive thing to do. Ideally, we'd like to train the model with more events to make it more generalizable. We can use _k_-fold cross-validation to achieve this."
   ]
  },
  {
   "cell_type": "code",
   "execution_count": 154,
   "metadata": {},
   "outputs": [
    {
     "name": "stdout",
     "output_type": "stream",
     "text": [
      "[0.550402096412495, 0.5354561133616169, 0.6520952142588984]\n"
     ]
    }
   ],
   "source": [
    "# let's use three folds\n",
    "k_folds = 3\n",
    "clf = LogisticRegression(solver='liblinear', class_weight='balanced', random_state=314)\n",
    "auc_scores = []\n",
    "\n",
    "for k in range(k_folds):\n",
    "    \n",
    "    X_train_k, X_test_k, y_train_k, y_test_k = \\\n",
    "        train_test_split(X, y, test_size=1/k_folds)\n",
    "\n",
    "    clf.fit(X_train_k, y_train_k)\n",
    "    \n",
    "    y_scores_k = clf.predict_proba(X_test_k)[:, 1]\n",
    "\n",
    "    # calcualte AUC\n",
    "    auc = roc_auc_score(y_test_k, y_scores_k)\n",
    "    \n",
    "    auc_scores.append(auc)\n",
    "    \n",
    "print(auc_scores)"
   ]
  },
  {
   "cell_type": "code",
   "execution_count": 71,
   "metadata": {},
   "outputs": [
    {
     "data": {
      "text/plain": [
       "0.5736409016441154"
      ]
     },
     "execution_count": 71,
     "metadata": {},
     "output_type": "execute_result"
    }
   ],
   "source": [
    "sum(auc_scores) / len(auc_scores)"
   ]
  },
  {
   "cell_type": "markdown",
   "metadata": {},
   "source": [
    "This shows us how well the model will work, on average, on unseen data."
   ]
  },
  {
   "cell_type": "markdown",
   "metadata": {},
   "source": [
    "__________________"
   ]
  },
  {
   "cell_type": "markdown",
   "metadata": {},
   "source": [
    "<img src=\"../misc/purch-model-process.png\" align=left width=750>"
   ]
  }
 ],
 "metadata": {
  "kernelspec": {
   "display_name": "Python 3",
   "language": "python",
   "name": "python3"
  },
  "language_info": {
   "codemirror_mode": {
    "name": "ipython",
    "version": 3
   },
   "file_extension": ".py",
   "mimetype": "text/x-python",
   "name": "python",
   "nbconvert_exporter": "python",
   "pygments_lexer": "ipython3",
   "version": "3.8.5"
  }
 },
 "nbformat": 4,
 "nbformat_minor": 2
}
