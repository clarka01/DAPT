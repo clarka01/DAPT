{
 "cells": [
  {
   "cell_type": "markdown",
   "metadata": {},
   "source": [
    "# Caesar Cipher"
   ]
  },
  {
   "cell_type": "markdown",
   "metadata": {},
   "source": [
    "![title](http://www.maths-resources.net/enrich/codes/caesar/images/caesarwheel3.gif)\n",
    "\n",
    "The letters on the outer circle represent letters in the original text (message). The letters on the inner circle represent the (encoded) cipher text.\n",
    "\n",
    "Here, the inner circle is rotated to the left by 3 (`k`=3). "
   ]
  },
  {
   "cell_type": "markdown",
   "metadata": {},
   "source": [
    "### The `chr()` and `ord()` Functions"
   ]
  },
  {
   "cell_type": "markdown",
   "metadata": {},
   "source": [
    "_`ord(c)`: Returns an integer representing the Unicode code point of the character `c`._"
   ]
  },
  {
   "cell_type": "code",
   "execution_count": 1,
   "metadata": {},
   "outputs": [
    {
     "data": {
      "text/plain": [
       "65"
      ]
     },
     "execution_count": 1,
     "metadata": {},
     "output_type": "execute_result"
    }
   ],
   "source": [
    "ord('A')"
   ]
  },
  {
   "cell_type": "markdown",
   "metadata": {},
   "source": [
    "_`chr(i)`: Returns a string of one character whose ASCII code is the integer `i`._"
   ]
  },
  {
   "cell_type": "code",
   "execution_count": 2,
   "metadata": {},
   "outputs": [
    {
     "data": {
      "text/plain": [
       "'A'"
      ]
     },
     "execution_count": 2,
     "metadata": {},
     "output_type": "execute_result"
    }
   ],
   "source": [
    "chr(65)"
   ]
  },
  {
   "cell_type": "code",
   "execution_count": 3,
   "metadata": {},
   "outputs": [
    {
     "data": {
      "text/plain": [
       "'D'"
      ]
     },
     "execution_count": 3,
     "metadata": {},
     "output_type": "execute_result"
    }
   ],
   "source": [
    "k = 3\n",
    "\n",
    "chr(65 + k)"
   ]
  },
  {
   "cell_type": "code",
   "execution_count": 4,
   "metadata": {},
   "outputs": [
    {
     "data": {
      "text/plain": [
       "68"
      ]
     },
     "execution_count": 4,
     "metadata": {},
     "output_type": "execute_result"
    }
   ],
   "source": [
    "ord(chr(65 + k))"
   ]
  },
  {
   "cell_type": "markdown",
   "metadata": {},
   "source": [
    "_The `ord()` and `chr()` functions are the opposite of each other._"
   ]
  },
  {
   "cell_type": "markdown",
   "metadata": {},
   "source": [
    "### Caesar cipher in Python"
   ]
  },
  {
   "cell_type": "markdown",
   "metadata": {},
   "source": [
    "1. Define a message text, and a key."
   ]
  },
  {
   "cell_type": "code",
   "execution_count": 5,
   "metadata": {},
   "outputs": [],
   "source": [
    "message = 'Et tu, Brute?'\n",
    "\n",
    "k = 3"
   ]
  },
  {
   "cell_type": "markdown",
   "metadata": {},
   "source": [
    "Print the message and key."
   ]
  },
  {
   "cell_type": "code",
   "execution_count": 6,
   "metadata": {},
   "outputs": [
    {
     "name": "stdout",
     "output_type": "stream",
     "text": [
      "The message is: Et tu, Brute?\n",
      "The key is: 3\n"
     ]
    }
   ],
   "source": [
    "print ('The message is:', message)\n",
    "\n",
    "print ('The key is:', k)"
   ]
  },
  {
   "cell_type": "markdown",
   "metadata": {},
   "source": [
    "_We will use this key to encrypt the message._"
   ]
  },
  {
   "cell_type": "markdown",
   "metadata": {},
   "source": [
    "2. Encrypt the message, one character at a time"
   ]
  },
  {
   "cell_type": "code",
   "execution_count": 41,
   "metadata": {},
   "outputs": [
    {
     "name": "stdout",
     "output_type": "stream",
     "text": [
      "Input character: E\n",
      "Encrypted character: H\n",
      "Input character: t\n",
      "Encrypted character: w\n",
      "Input character:  \n",
      "Encrypted character: #\n",
      "Input character: t\n",
      "Encrypted character: w\n",
      "Input character: u\n",
      "Encrypted character: x\n",
      "Input character: ,\n",
      "Encrypted character: /\n",
      "Input character:  \n",
      "Encrypted character: #\n",
      "Input character: B\n",
      "Encrypted character: E\n",
      "Input character: r\n",
      "Encrypted character: u\n",
      "Input character: u\n",
      "Encrypted character: x\n",
      "Input character: t\n",
      "Encrypted character: w\n",
      "Input character: e\n",
      "Encrypted character: h\n",
      "Input character: ?\n",
      "Encrypted character: B\n"
     ]
    }
   ],
   "source": [
    "message = 'Et tu, Brute?'\n",
    "\n",
    "k = 3\n",
    "\n",
    "for input_char in message:\n",
    "    \n",
    "    # print this letter\n",
    "    print ('Input character:', input_char)\n",
    "    \n",
    "    # retrieve the ASCII code for this character\n",
    "    num = ord(input_char)\n",
    "    \n",
    "    # add the key to that code to encrupt this character\n",
    "    num = num + k\n",
    "    \n",
    "    # retrieve the character for that ASCII code\n",
    "    encrypted_char = chr(num)\n",
    "\n",
    "    # print the encrypted letter\n",
    "    print ('Encrypted character:', encrypted_char)"
   ]
  },
  {
   "cell_type": "markdown",
   "metadata": {},
   "source": [
    "_Let's encrypt only letters in the alphabet, and ignore special character like exclamation points and spaces. We can use `isalpha()` function for this purpose._"
   ]
  },
  {
   "cell_type": "code",
   "execution_count": 8,
   "metadata": {},
   "outputs": [
    {
     "data": {
      "text/plain": [
       "True"
      ]
     },
     "execution_count": 8,
     "metadata": {},
     "output_type": "execute_result"
    }
   ],
   "source": [
    "mychar = 'V'\n",
    "\n",
    "mychar.isalpha()"
   ]
  },
  {
   "cell_type": "code",
   "execution_count": 9,
   "metadata": {},
   "outputs": [
    {
     "data": {
      "text/plain": [
       "False"
      ]
     },
     "execution_count": 9,
     "metadata": {},
     "output_type": "execute_result"
    }
   ],
   "source": [
    "mychar = '?'\n",
    "\n",
    "mychar.isalpha()"
   ]
  },
  {
   "cell_type": "markdown",
   "metadata": {},
   "source": [
    "3. Encrypt the message, one character at a time. Ignore special characters."
   ]
  },
  {
   "cell_type": "code",
   "execution_count": 42,
   "metadata": {},
   "outputs": [
    {
     "name": "stdout",
     "output_type": "stream",
     "text": [
      "E --> H\n",
      "t --> w\n",
      "  -->  \n",
      "t --> w\n",
      "u --> x\n",
      ", --> ,\n",
      "  -->  \n",
      "B --> E\n",
      "r --> u\n",
      "u --> x\n",
      "t --> w\n",
      "e --> h\n",
      "? --> ?\n"
     ]
    }
   ],
   "source": [
    "for input_char in message:\n",
    "    \n",
    "    # check if this character is a letter\n",
    "    if input_char.isalpha():\n",
    "        \n",
    "        # retrieve the ASCII code for this letter \n",
    "        num = ord(input_char)\n",
    "        \n",
    "        # add the key to that code to encrupt this letter\n",
    "        num += k\n",
    "        \n",
    "        # retrieve the character for that ASCII code\n",
    "        encrypted_char = chr(num)\n",
    "    \n",
    "    else:\n",
    "        \n",
    "        # if special character, keep it as it is\n",
    "        encrypted_char = input_char\n",
    "    \n",
    "    print (input_char, '-->', encrypted_char)"
   ]
  },
  {
   "cell_type": "markdown",
   "metadata": {},
   "source": [
    "_Notice how `num = num + k` can also be written as `num += k`._"
   ]
  },
  {
   "cell_type": "markdown",
   "metadata": {},
   "source": [
    "4. Save the encypted message in a single string."
   ]
  },
  {
   "cell_type": "code",
   "execution_count": 43,
   "metadata": {},
   "outputs": [],
   "source": [
    "# initialize the output (encrypted) message as an empty string\n",
    "encrypted_message = ''\n",
    "\n",
    "for input_char in message:\n",
    "    \n",
    "    # check if this character is a letter\n",
    "    if input_char.isalpha():\n",
    "        \n",
    "        # retrieve the ASCII code for this letter         \n",
    "        num = ord(input_char)\n",
    "        \n",
    "        # add the key to that code to encrupt this letter\n",
    "        num += k\n",
    "        \n",
    "        # append the encrypted char to the encrypted message string\n",
    "        encrypted_message += chr(num)\n",
    "        \n",
    "    else:\n",
    "        \n",
    "        # if special character, append the original character\n",
    "        encrypted_message += input_char"
   ]
  },
  {
   "cell_type": "code",
   "execution_count": 44,
   "metadata": {},
   "outputs": [
    {
     "name": "stdout",
     "output_type": "stream",
     "text": [
      "Input message: Et tu, Brute?\n",
      "Encrypted message: Hw wx, Euxwh?\n"
     ]
    }
   ],
   "source": [
    "print ('Input message:', message)\n",
    "\n",
    "print ('Encrypted message:', encrypted_message)"
   ]
  },
  {
   "cell_type": "markdown",
   "metadata": {},
   "source": [
    "_Let's try a different key._"
   ]
  },
  {
   "cell_type": "code",
   "execution_count": 13,
   "metadata": {},
   "outputs": [
    {
     "name": "stdout",
     "output_type": "stream",
     "text": [
      "Input message: Et tu, Brute?\n",
      "Encrypted message: Jy yz, Gwzyj?\n"
     ]
    }
   ],
   "source": [
    "# define a new key\n",
    "k = 5\n",
    "\n",
    "# initialize the output (encrypted) message as an empty string\n",
    "encrypted_message = ''\n",
    "\n",
    "for input_char in message:\n",
    "    \n",
    "    # check if this character is a letter\n",
    "    if input_char.isalpha():\n",
    "        \n",
    "        # retrieve the ASCII code for this letter         \n",
    "        num = ord(input_char)\n",
    "        \n",
    "        # add the key to that code to encrupt this letter\n",
    "        num += k\n",
    "        \n",
    "        # append the encrypted char to the encrypted message string\n",
    "        encrypted_message += chr(num)\n",
    "        \n",
    "    else:\n",
    "        \n",
    "        # if special character, append the original character\n",
    "        encrypted_message += input_char\n",
    "\n",
    "print ('Input message:', message)\n",
    "print ('Encrypted message:', encrypted_message)"
   ]
  },
  {
   "cell_type": "markdown",
   "metadata": {},
   "source": [
    "_If you want to try different messages and different keys, it's useful to create a **function**._"
   ]
  },
  {
   "cell_type": "markdown",
   "metadata": {},
   "source": [
    "4. Let's create a function!"
   ]
  },
  {
   "cell_type": "code",
   "execution_count": 40,
   "metadata": {},
   "outputs": [
    {
     "name": "stdout",
     "output_type": "stream",
     "text": [
      "Semester two is going fast. My k value is 0.\n"
     ]
    }
   ],
   "source": [
    "k = 0\n",
    "\n",
    "def encrypt_message(in_message):\n",
    "\n",
    "    # initialize the output (encrypted) message\n",
    "    out_message = ''\n",
    "\n",
    "    for in_char in in_message:\n",
    "        \n",
    "        if in_char.isalpha():\n",
    "            \n",
    "            # if letter, encrypt it\n",
    "            out_message += chr(ord(in_char) + k)\n",
    "        \n",
    "        else:\n",
    "            \n",
    "            # otherwise, keep it as is\n",
    "            out_message += in_char\n",
    "\n",
    "    return out_message\n",
    "\n",
    "print(encrypt_message(f'Semester two is going fast. My k value is {k}.'))"
   ]
  },
  {
   "cell_type": "code",
   "execution_count": 17,
   "metadata": {},
   "outputs": [
    {
     "data": {
      "text/plain": [
       "function"
      ]
     },
     "execution_count": 17,
     "metadata": {},
     "output_type": "execute_result"
    }
   ],
   "source": [
    "type(encrypt_message)"
   ]
  },
  {
   "cell_type": "markdown",
   "metadata": {},
   "source": [
    "_`encrypt_message` is a user defined function (UDF). Python also has a lot of built-in functions._"
   ]
  },
  {
   "cell_type": "code",
   "execution_count": null,
   "metadata": {},
   "outputs": [],
   "source": [
    "type(print)"
   ]
  },
  {
   "cell_type": "code",
   "execution_count": null,
   "metadata": {},
   "outputs": [],
   "source": [
    "# call the function to encrypt the message\n",
    "\n",
    "encrypted_msg = encrypt_message(message)"
   ]
  },
  {
   "cell_type": "code",
   "execution_count": null,
   "metadata": {},
   "outputs": [],
   "source": [
    "# print the encrypted message\n",
    "\n",
    "print ('Original message:', message)\n",
    "\n",
    "print ('Encrypted message:', encrypted_msg)"
   ]
  },
  {
   "cell_type": "markdown",
   "metadata": {},
   "source": [
    "**EXERCISE:** Modify the function to include</i> `k` <i>as one of its parameters."
   ]
  },
  {
   "cell_type": "code",
   "execution_count": null,
   "metadata": {},
   "outputs": [],
   "source": [
    "def encrypt_message(in_message, key):\n",
    "\n",
    "    # initialize the output (encrypted) message\n",
    "    out_message = ''\n",
    "\n",
    "    for in_char in in_message:\n",
    "        \n",
    "        if in_char.isalpha():\n",
    "            \n",
    "            # if letter, encrypt it\n",
    "            out_message += chr(ord(in_char) + key)\n",
    "        \n",
    "        else:\n",
    "            \n",
    "            # otherwise, keep it as is\n",
    "            out_message += in_char\n",
    "\n",
    "    return out_message\n",
    "\n",
    "print ('Original message:', message)\n",
    "\n",
    "print ('Encrypted message (k=3):', encrypt_message(message, 3))\n",
    "\n",
    "print ('Encrypted message (k=7):', encrypt_message(message, 7))\n",
    "\n",
    "print ('Encrypted message (k=0):', encrypt_message(message, 0))"
   ]
  },
  {
   "cell_type": "markdown",
   "metadata": {},
   "source": [
    "_Encrypt a new message using this function._"
   ]
  },
  {
   "cell_type": "code",
   "execution_count": null,
   "metadata": {},
   "outputs": [],
   "source": [
    "print ('Encrypted message (k=0):', encrypt_message('Virginia Commonwealth University', 3))"
   ]
  },
  {
   "cell_type": "markdown",
   "metadata": {},
   "source": [
    "_Notice that for `k=3`, letter 'y' would get encrypted into the the pipe symbol '|'. See the ASCII table below for reference._"
   ]
  },
  {
   "cell_type": "markdown",
   "metadata": {},
   "source": [
    "![image](http://www.asciitable.com/index/asciifull.gif)"
   ]
  },
  {
   "cell_type": "markdown",
   "metadata": {},
   "source": [
    "_Let's modify the function to avoid situations where the encrypted message contains non-alphabetic character(s). In other words, force the encryption to \"wrap around\" to the beginning of the alphabet if it encounters non-alphabetic characters._"
   ]
  },
  {
   "cell_type": "markdown",
   "metadata": {},
   "source": [
    "5. Encrypt message using a function. Avoid special characters in the encrypted message."
   ]
  },
  {
   "cell_type": "code",
   "execution_count": 2,
   "metadata": {},
   "outputs": [],
   "source": [
    "def encrypt_message(in_message, key):\n",
    "\n",
    "    # Initialize the output (encrypted) message\n",
    "    out_message = ''\n",
    "\n",
    "    for in_char in in_message:\n",
    "        \n",
    "        if in_char.isalpha():\n",
    "            \n",
    "            # if letter, encrypt it\n",
    "            num = ord(in_char) + key\n",
    "            \n",
    "            # if the encrypted char is a special char,\n",
    "            #  then subtract 26 to wrap around to the beginning of the alphabet\n",
    "            \n",
    "            if in_char.isupper() and num > ord('Z'):\n",
    "                num -= 26\n",
    "                \n",
    "            elif in_char.islower() and num > ord('z'):\n",
    "                num -= 26\n",
    "            \n",
    "            # append the encrypted letter to the output string\n",
    "            out_message += chr(num)\n",
    "            \n",
    "        else:\n",
    "            \n",
    "            # if not a letter, append to the ouput string as is\n",
    "            out_message += in_char\n",
    "\n",
    "    return out_message"
   ]
  },
  {
   "cell_type": "code",
   "execution_count": 3,
   "metadata": {},
   "outputs": [
    {
     "data": {
      "text/plain": [
       "'lipps xlivi'"
      ]
     },
     "execution_count": 3,
     "metadata": {},
     "output_type": "execute_result"
    }
   ],
   "source": [
    "encrypt_message('hello there', 4)"
   ]
  },
  {
   "cell_type": "code",
   "execution_count": null,
   "metadata": {},
   "outputs": [],
   "source": [
    "print ('Original message:', message)\n",
    "\n",
    "print ('Encrypted message (k=3):', encrypt_message(message, 3))\n",
    "\n",
    "print ('Encrypted message (k=3):', encrypt_message(message, 7))"
   ]
  },
  {
   "cell_type": "markdown",
   "metadata": {},
   "source": [
    "6. Write a function to _decode_ an encrypted message using a key."
   ]
  },
  {
   "cell_type": "code",
   "execution_count": null,
   "metadata": {},
   "outputs": [],
   "source": [
    "def decrypt_message(in_message, key):\n",
    "\n",
    "    # initialize the output (decrypted) message\n",
    "    out_message = ''\n",
    "\n",
    "    for in_char in in_message:\n",
    "        \n",
    "        if in_char.isalpha():\n",
    "            \n",
    "            num = ord(in_char)\n",
    "            \n",
    "            # for decrypting the message, we need to substract the key\n",
    "            num -= key\n",
    "            \n",
    "            # add the decrypted letter to the output\n",
    "            out_message += chr(num)\n",
    "        \n",
    "        else:\n",
    "            \n",
    "            out_message += in_char\n",
    "\n",
    "    return out_message"
   ]
  },
  {
   "cell_type": "code",
   "execution_count": null,
   "metadata": {},
   "outputs": [],
   "source": [
    "encrypted_message = 'Hw wx, Euxwh?'\n",
    "\n",
    "print ('Decrypted message:', decrypt_message(encrypted_message, 3))"
   ]
  }
 ],
 "metadata": {
  "kernelspec": {
   "display_name": "Python 3",
   "language": "python",
   "name": "python3"
  },
  "language_info": {
   "codemirror_mode": {
    "name": "ipython",
    "version": 3
   },
   "file_extension": ".py",
   "mimetype": "text/x-python",
   "name": "python",
   "nbconvert_exporter": "python",
   "pygments_lexer": "ipython3",
   "version": "3.8.5"
  }
 },
 "nbformat": 4,
 "nbformat_minor": 2
}
