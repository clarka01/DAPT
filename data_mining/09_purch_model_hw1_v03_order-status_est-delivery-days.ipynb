{
 "cells": [
  {
   "cell_type": "markdown",
   "metadata": {},
   "source": [
    "# Purchase model using e-commerce data"
   ]
  },
  {
   "cell_type": "markdown",
   "metadata": {},
   "source": [
    "### Import packages"
   ]
  },
  {
   "cell_type": "code",
   "execution_count": 261,
   "metadata": {},
   "outputs": [],
   "source": [
    "# data processing\n",
    "import numpy as np\n",
    "import pandas as pd\n",
    "from datetime import date\n",
    "\n",
    "# plotting\n",
    "import matplotlib.pyplot as plt\n",
    "import seaborn as sns"
   ]
  },
  {
   "cell_type": "markdown",
   "metadata": {},
   "source": [
    "### Set-up"
   ]
  },
  {
   "cell_type": "markdown",
   "metadata": {},
   "source": [
    "For this expercise, we will utilize two files (listed below) from the 'Brazilian E-Commerce Public Dataset' originally posted on [Kaggle]( https://www.kaggle.com/olistbr/brazilian-ecommerce)."
   ]
  },
  {
   "cell_type": "code",
   "execution_count": 262,
   "metadata": {},
   "outputs": [],
   "source": [
    "# full path of the orders dataset\n",
    "orders_file = '../data/olist_orders_dataset.csv'\n",
    "\n",
    "# full path of the customer dataset\n",
    "cust_file = '../data/olist_customers_dataset.csv'\n",
    "\n",
    "##look at files to determine other attributes...\n",
    "# cust_file_test = pd.read_csv('../data/olist_customers_dataset.csv')\n",
    "# cust_file_test.head()\n",
    "\n",
    "# orders_file_test = pd.read_csv('../data/olist_orders_dataset.csv')\n",
    "# orders_file_test.head()"
   ]
  },
  {
   "cell_type": "markdown",
   "metadata": {},
   "source": [
    "### Read data"
   ]
  },
  {
   "cell_type": "code",
   "execution_count": 461,
   "metadata": {},
   "outputs": [],
   "source": [
    "def read_olist_data(file1, file2, use_cols, cutoff_dt, verbose):\n",
    "    \n",
    "    # read the orders data\n",
    "    orders = pd.read_csv(file1)\n",
    "\n",
    "    if verbose:\n",
    "        print (f'{len(orders):,} read from the orders file.')\n",
    "\n",
    "    # date-time conversion\n",
    "    orders['order_purchase_timestamp'] = pd.to_datetime(orders['order_purchase_timestamp'])\n",
    "    orders['order_estimated_delivery_date'] = pd.to_datetime(orders['order_estimated_delivery_date'])\n",
    "\n",
    "\n",
    "    # let's convert the order purchase timestamps into dates\n",
    "    orders['order_purchase_date'] = orders['order_purchase_timestamp'].dt.date\n",
    "    orders['order_estimated_delivery_date'] = orders['order_estimated_delivery_date'].dt.date\n",
    "\n",
    "    # extract month from the order date\n",
    "    orders['order_dow'] = orders['order_purchase_timestamp'].dt.day_name()\n",
    "\n",
    "    # read the file that contains the unique customer identifier\n",
    "    # also, let's keep only the following two columns: customer_id, customer_unique_id\n",
    "    cust = pd.read_csv(file2, usecols=['customer_id', 'customer_unique_id'])\n",
    "    \n",
    "    if verbose:\n",
    "        print (f'{len(cust):,} read from the customer file.')\n",
    "\n",
    "    # merge orders and cust dataframes\n",
    "    orders_out = pd.merge(orders, cust, on='customer_id', how='inner')\n",
    "    \n",
    "    # discard (incomplete) data after cutoff_dt\n",
    "    # we do this here by using a boolean (True/False) mask\n",
    "    mask = orders_out['order_purchase_date'] <= cutoff_dt\n",
    "\n",
    "    orders_out = orders_out[mask]\n",
    "    \n",
    "    # sort the output dataset by order date for each customer\n",
    "    orders_out = orders_out[use_cols].sort_values(['customer_unique_id', 'order_purchase_timestamp'])\n",
    "\n",
    "    if verbose:\n",
    "        print (f'{len(orders_out):,} records in the output  file.')\n",
    "    \n",
    "    return orders_out"
   ]
  },
  {
   "cell_type": "code",
   "execution_count": 462,
   "metadata": {
    "scrolled": true
   },
   "outputs": [
    {
     "name": "stdout",
     "output_type": "stream",
     "text": [
      "99,441 read from the orders file.\n",
      "99,441 read from the customer file.\n",
      "98,906 records in the output  file.\n"
     ]
    }
   ],
   "source": [
    "# we will keep only these columns for this exercise\n",
    "use_cols = ['customer_unique_id', 'order_id', 'order_purchase_timestamp', 'order_dow']\n",
    "\n",
    "# we will discard (incomplete) data after 8/22/18 (see 06_pandas_wrangle.ipynb for the rationale)\n",
    "cutoff_date = date(2018, 8, 22)\n",
    "\n",
    "orders = read_olist_data(orders_file, cust_file, use_cols, cutoff_date, 1)"
   ]
  },
  {
   "cell_type": "markdown",
   "metadata": {},
   "source": [
    "This is our combined raw dataset from which we will create attributes and label for each customer."
   ]
  },
  {
   "cell_type": "markdown",
   "metadata": {},
   "source": [
    "## Binary Classification Model: Data Preparation"
   ]
  },
  {
   "cell_type": "markdown",
   "metadata": {},
   "source": [
    "Let's build a model to predict whether a customer will make a purchase within the next month."
   ]
  },
  {
   "cell_type": "markdown",
   "metadata": {},
   "source": [
    "We will use *July 2018*, which is the most recent complete month, as the prediction window. In other words, we will use all available data prior to July 2018 to predict which customers will make a purchase in July 2018."
   ]
  },
  {
   "cell_type": "code",
   "execution_count": 463,
   "metadata": {},
   "outputs": [],
   "source": [
    "snapshot_date = date(2017,12,31) #for assign3 change this to (2017, 12, 31) #latest observation window date"
   ]
  },
  {
   "cell_type": "code",
   "execution_count": 266,
   "metadata": {},
   "outputs": [],
   "source": [
    "#df_raw[(df_raw['order_dow'] == 'Thursday')].iloc[0:2]"
   ]
  },
  {
   "cell_type": "markdown",
   "metadata": {},
   "source": [
    "### MODIFY DF FOR ADDT'L ATTRIBUTES AC"
   ]
  },
  {
   "cell_type": "code",
   "execution_count": 486,
   "metadata": {},
   "outputs": [
    {
     "name": "stdout",
     "output_type": "stream",
     "text": [
      "99,441 read from the orders file.\n",
      "99,441 read from the customer file.\n",
      "98,906 records in the output  file.\n"
     ]
    }
   ],
   "source": [
    "#add 'order_status' to use_cols2\n",
    "\n",
    "use_cols2 = ['customer_unique_id', 'order_id', 'order_purchase_timestamp', 'order_estimated_delivery_date','order_status']\n",
    "\n",
    "orders2 = read_olist_data(orders_file, cust_file, use_cols2, cutoff_date, 1)"
   ]
  },
  {
   "cell_type": "code",
   "execution_count": 487,
   "metadata": {},
   "outputs": [
    {
     "name": "stdout",
     "output_type": "stream",
     "text": [
      "45430 2016-09-04 21:15:19 2017-12-31 23:29:31\n"
     ]
    }
   ],
   "source": [
    "mask = orders2['order_purchase_timestamp'].dt.date <= snapshot_date\n",
    "\n",
    "df_raw2 = orders2[mask]\n",
    "\n",
    "print(len(df_raw2), df_raw2.order_purchase_timestamp.min(),df_raw2.order_purchase_timestamp.max())"
   ]
  },
  {
   "cell_type": "markdown",
   "metadata": {},
   "source": [
    "### Attribute #5 AC: ESTIMATED DELIVERY TIME"
   ]
  },
  {
   "cell_type": "code",
   "execution_count": 488,
   "metadata": {},
   "outputs": [
    {
     "name": "stderr",
     "output_type": "stream",
     "text": [
      "<ipython-input-488-a75360f86446>:6: SettingWithCopyWarning: \n",
      "A value is trying to be set on a copy of a slice from a DataFrame.\n",
      "Try using .loc[row_indexer,col_indexer] = value instead\n",
      "\n",
      "See the caveats in the documentation: https://pandas.pydata.org/pandas-docs/stable/user_guide/indexing.html#returning-a-view-versus-a-copy\n",
      "  df_raw2['order_estimated_delivery_date'] = pd.to_datetime(df_raw2['order_estimated_delivery_date'])\n"
     ]
    },
    {
     "data": {
      "text/plain": [
       "26460   28 days\n",
       "98493   32 days\n",
       "41564   21 days\n",
       "71235   33 days\n",
       "26203   28 days\n",
       "          ...  \n",
       "23135   33 days\n",
       "87007   55 days\n",
       "20556   33 days\n",
       "43943   45 days\n",
       "70017   24 days\n",
       "Length: 45430, dtype: timedelta64[ns]"
      ]
     },
     "execution_count": 488,
     "metadata": {},
     "output_type": "execute_result"
    }
   ],
   "source": [
    "# there are empty delivery dates for customers that didn't order. I think it would be important not to remove them...\n",
    "# probably have to use estimated delivery date...make sense because that MAY be what caused them to cancel.\n",
    "\n",
    "# 'order_estimated_delivery_date' Shows the ESTIMATED order delivery date to the customer.\n",
    "\n",
    "df_raw2['order_estimated_delivery_date'] = pd.to_datetime(df_raw2['order_estimated_delivery_date'])\n",
    "\n",
    "delta2 = df_raw2['order_estimated_delivery_date'].dt.date - df_raw2['order_purchase_timestamp'].dt.date\n"
   ]
  },
  {
   "cell_type": "code",
   "execution_count": 489,
   "metadata": {},
   "outputs": [
    {
     "name": "stderr",
     "output_type": "stream",
     "text": [
      "<ipython-input-489-072ab6d90456>:1: SettingWithCopyWarning: \n",
      "A value is trying to be set on a copy of a slice from a DataFrame.\n",
      "Try using .loc[row_indexer,col_indexer] = value instead\n",
      "\n",
      "See the caveats in the documentation: https://pandas.pydata.org/pandas-docs/stable/user_guide/indexing.html#returning-a-view-versus-a-copy\n",
      "  df_raw2['est_delivery_days'] = delta2.dt.days\n",
      "C:\\ProgramData\\Anaconda3\\lib\\site-packages\\pandas\\core\\generic.py:5168: SettingWithCopyWarning: \n",
      "A value is trying to be set on a copy of a slice from a DataFrame.\n",
      "Try using .loc[row_indexer,col_indexer] = value instead\n",
      "\n",
      "See the caveats in the documentation: https://pandas.pydata.org/pandas-docs/stable/user_guide/indexing.html#returning-a-view-versus-a-copy\n",
      "  self[name] = value\n"
     ]
    },
    {
     "data": {
      "text/html": [
       "<div>\n",
       "<style scoped>\n",
       "    .dataframe tbody tr th:only-of-type {\n",
       "        vertical-align: middle;\n",
       "    }\n",
       "\n",
       "    .dataframe tbody tr th {\n",
       "        vertical-align: top;\n",
       "    }\n",
       "\n",
       "    .dataframe thead th {\n",
       "        text-align: right;\n",
       "    }\n",
       "</style>\n",
       "<table border=\"1\" class=\"dataframe\">\n",
       "  <thead>\n",
       "    <tr style=\"text-align: right;\">\n",
       "      <th></th>\n",
       "      <th>customer_unique_id</th>\n",
       "      <th>order_id</th>\n",
       "      <th>order_purchase_timestamp</th>\n",
       "      <th>order_estimated_delivery_date</th>\n",
       "      <th>order_status</th>\n",
       "      <th>est_delivery_days</th>\n",
       "    </tr>\n",
       "  </thead>\n",
       "  <tbody>\n",
       "    <tr>\n",
       "      <th>26460</th>\n",
       "      <td>0000f46a3911fa3c0805444483337064</td>\n",
       "      <td>b33ec3b699337181488304f362a6b734</td>\n",
       "      <td>2017-03-10 21:05:03</td>\n",
       "      <td>2017-04-07</td>\n",
       "      <td>delivered</td>\n",
       "      <td>28</td>\n",
       "    </tr>\n",
       "    <tr>\n",
       "      <th>98493</th>\n",
       "      <td>0000f6ccb0745a6a4b88665a16c9f078</td>\n",
       "      <td>41272756ecddd9a9ed0180413cc22fb6</td>\n",
       "      <td>2017-10-12 20:29:41</td>\n",
       "      <td>2017-11-13</td>\n",
       "      <td>delivered</td>\n",
       "      <td>32</td>\n",
       "    </tr>\n",
       "    <tr>\n",
       "      <th>41564</th>\n",
       "      <td>0004aac84e0df4da2b147fca70cf8255</td>\n",
       "      <td>d957021f1127559cd947b62533f484f7</td>\n",
       "      <td>2017-11-14 19:45:42</td>\n",
       "      <td>2017-12-05</td>\n",
       "      <td>delivered</td>\n",
       "      <td>21</td>\n",
       "    </tr>\n",
       "    <tr>\n",
       "      <th>71235</th>\n",
       "      <td>0005e1862207bf6ccc02e4228effd9a0</td>\n",
       "      <td>ae76bef74b97bcb0b3e355e60d9a6f9c</td>\n",
       "      <td>2017-03-04 23:32:12</td>\n",
       "      <td>2017-04-06</td>\n",
       "      <td>delivered</td>\n",
       "      <td>33</td>\n",
       "    </tr>\n",
       "    <tr>\n",
       "      <th>26203</th>\n",
       "      <td>0006fdc98a402fceb4eb0ee528f6a8d4</td>\n",
       "      <td>6681163e3dab91c549952b2845b20281</td>\n",
       "      <td>2017-07-18 09:23:10</td>\n",
       "      <td>2017-08-15</td>\n",
       "      <td>delivered</td>\n",
       "      <td>28</td>\n",
       "    </tr>\n",
       "  </tbody>\n",
       "</table>\n",
       "</div>"
      ],
      "text/plain": [
       "                     customer_unique_id                          order_id  \\\n",
       "26460  0000f46a3911fa3c0805444483337064  b33ec3b699337181488304f362a6b734   \n",
       "98493  0000f6ccb0745a6a4b88665a16c9f078  41272756ecddd9a9ed0180413cc22fb6   \n",
       "41564  0004aac84e0df4da2b147fca70cf8255  d957021f1127559cd947b62533f484f7   \n",
       "71235  0005e1862207bf6ccc02e4228effd9a0  ae76bef74b97bcb0b3e355e60d9a6f9c   \n",
       "26203  0006fdc98a402fceb4eb0ee528f6a8d4  6681163e3dab91c549952b2845b20281   \n",
       "\n",
       "      order_purchase_timestamp order_estimated_delivery_date order_status  \\\n",
       "26460      2017-03-10 21:05:03                    2017-04-07    delivered   \n",
       "98493      2017-10-12 20:29:41                    2017-11-13    delivered   \n",
       "41564      2017-11-14 19:45:42                    2017-12-05    delivered   \n",
       "71235      2017-03-04 23:32:12                    2017-04-06    delivered   \n",
       "26203      2017-07-18 09:23:10                    2017-08-15    delivered   \n",
       "\n",
       "       est_delivery_days  \n",
       "26460                 28  \n",
       "98493                 32  \n",
       "41564                 21  \n",
       "71235                 33  \n",
       "26203                 28  "
      ]
     },
     "execution_count": 489,
     "metadata": {},
     "output_type": "execute_result"
    }
   ],
   "source": [
    "# grab the number of days (as an integer) from the calculated deltas\n",
    "\n",
    "df_raw2['est_delivery_days'] = delta2.dt.days\n",
    "\n",
    "df_raw2.est_delivery_days = df_raw2.est_delivery_days.astype(int)\n",
    "\n",
    "df_raw2.head()"
   ]
  },
  {
   "cell_type": "code",
   "execution_count": 491,
   "metadata": {},
   "outputs": [
    {
     "data": {
      "text/plain": [
       "44034"
      ]
     },
     "execution_count": 491,
     "metadata": {},
     "output_type": "execute_result"
    }
   ],
   "source": [
    "# grab the max purchase date for each customer\n",
    "\n",
    "est_delivery = df_raw2.groupby('customer_unique_id')['est_delivery_days'].mean().reset_index()\n",
    "\n",
    "len(cust_recency)"
   ]
  },
  {
   "cell_type": "markdown",
   "metadata": {},
   "source": [
    "### Attribute #4 AC: Order Status"
   ]
  },
  {
   "cell_type": "code",
   "execution_count": 425,
   "metadata": {},
   "outputs": [],
   "source": [
    "# dummies for order_status (approved, canceled, etc)\n",
    "\n",
    "df_raw4 = pd.get_dummies(df_raw2, columns=['order_status'])"
   ]
  },
  {
   "cell_type": "code",
   "execution_count": 426,
   "metadata": {},
   "outputs": [
    {
     "data": {
      "text/html": [
       "<div>\n",
       "<style scoped>\n",
       "    .dataframe tbody tr th:only-of-type {\n",
       "        vertical-align: middle;\n",
       "    }\n",
       "\n",
       "    .dataframe tbody tr th {\n",
       "        vertical-align: top;\n",
       "    }\n",
       "\n",
       "    .dataframe thead th {\n",
       "        text-align: right;\n",
       "    }\n",
       "</style>\n",
       "<table border=\"1\" class=\"dataframe\">\n",
       "  <thead>\n",
       "    <tr style=\"text-align: right;\">\n",
       "      <th></th>\n",
       "      <th>customer_unique_id</th>\n",
       "      <th>order_status_approved</th>\n",
       "      <th>order_status_canceled</th>\n",
       "      <th>order_status_created</th>\n",
       "      <th>order_status_delivered</th>\n",
       "      <th>order_status_invoiced</th>\n",
       "      <th>order_status_processing</th>\n",
       "      <th>order_status_shipped</th>\n",
       "      <th>order_status_unavailable</th>\n",
       "    </tr>\n",
       "  </thead>\n",
       "  <tbody>\n",
       "    <tr>\n",
       "      <th>0</th>\n",
       "      <td>0000f46a3911fa3c0805444483337064</td>\n",
       "      <td>0</td>\n",
       "      <td>0</td>\n",
       "      <td>0</td>\n",
       "      <td>1</td>\n",
       "      <td>0</td>\n",
       "      <td>0</td>\n",
       "      <td>0</td>\n",
       "      <td>0</td>\n",
       "    </tr>\n",
       "    <tr>\n",
       "      <th>1</th>\n",
       "      <td>0000f6ccb0745a6a4b88665a16c9f078</td>\n",
       "      <td>0</td>\n",
       "      <td>0</td>\n",
       "      <td>0</td>\n",
       "      <td>1</td>\n",
       "      <td>0</td>\n",
       "      <td>0</td>\n",
       "      <td>0</td>\n",
       "      <td>0</td>\n",
       "    </tr>\n",
       "    <tr>\n",
       "      <th>2</th>\n",
       "      <td>0004aac84e0df4da2b147fca70cf8255</td>\n",
       "      <td>0</td>\n",
       "      <td>0</td>\n",
       "      <td>0</td>\n",
       "      <td>1</td>\n",
       "      <td>0</td>\n",
       "      <td>0</td>\n",
       "      <td>0</td>\n",
       "      <td>0</td>\n",
       "    </tr>\n",
       "    <tr>\n",
       "      <th>3</th>\n",
       "      <td>0005e1862207bf6ccc02e4228effd9a0</td>\n",
       "      <td>0</td>\n",
       "      <td>0</td>\n",
       "      <td>0</td>\n",
       "      <td>1</td>\n",
       "      <td>0</td>\n",
       "      <td>0</td>\n",
       "      <td>0</td>\n",
       "      <td>0</td>\n",
       "    </tr>\n",
       "    <tr>\n",
       "      <th>4</th>\n",
       "      <td>0006fdc98a402fceb4eb0ee528f6a8d4</td>\n",
       "      <td>0</td>\n",
       "      <td>0</td>\n",
       "      <td>0</td>\n",
       "      <td>1</td>\n",
       "      <td>0</td>\n",
       "      <td>0</td>\n",
       "      <td>0</td>\n",
       "      <td>0</td>\n",
       "    </tr>\n",
       "  </tbody>\n",
       "</table>\n",
       "</div>"
      ],
      "text/plain": [
       "                 customer_unique_id  order_status_approved  \\\n",
       "0  0000f46a3911fa3c0805444483337064                      0   \n",
       "1  0000f6ccb0745a6a4b88665a16c9f078                      0   \n",
       "2  0004aac84e0df4da2b147fca70cf8255                      0   \n",
       "3  0005e1862207bf6ccc02e4228effd9a0                      0   \n",
       "4  0006fdc98a402fceb4eb0ee528f6a8d4                      0   \n",
       "\n",
       "   order_status_canceled  order_status_created  order_status_delivered  \\\n",
       "0                      0                     0                       1   \n",
       "1                      0                     0                       1   \n",
       "2                      0                     0                       1   \n",
       "3                      0                     0                       1   \n",
       "4                      0                     0                       1   \n",
       "\n",
       "   order_status_invoiced  order_status_processing  order_status_shipped  \\\n",
       "0                      0                        0                     0   \n",
       "1                      0                        0                     0   \n",
       "2                      0                        0                     0   \n",
       "3                      0                        0                     0   \n",
       "4                      0                        0                     0   \n",
       "\n",
       "   order_status_unavailable  \n",
       "0                         0  \n",
       "1                         0  \n",
       "2                         0  \n",
       "3                         0  \n",
       "4                         0  "
      ]
     },
     "execution_count": 426,
     "metadata": {},
     "output_type": "execute_result"
    }
   ],
   "source": [
    "# grab all binary columns that we just created\n",
    "dummies2 = [x for x in df_raw4.columns if 'order_status' in x]\n",
    "\n",
    "# aggreagte data to the customer-level, so that we have one record per customer\n",
    "cust_order_status = df_raw4.groupby('customer_unique_id')[dummies2].sum().reset_index()\n",
    "\n",
    "cust_order_status.head()"
   ]
  },
  {
   "cell_type": "code",
   "execution_count": 430,
   "metadata": {},
   "outputs": [
    {
     "data": {
      "text/plain": [
       "44034"
      ]
     },
     "execution_count": 430,
     "metadata": {},
     "output_type": "execute_result"
    }
   ],
   "source": [
    "#len(orders2), len(df_raw2), len(cust_order_status)\n",
    "len(cust_order_status)"
   ]
  },
  {
   "cell_type": "markdown",
   "metadata": {},
   "source": [
    "### Attribute #1: Order recency"
   ]
  },
  {
   "cell_type": "markdown",
   "metadata": {},
   "source": [
    "For creating model attributes (features) we will have to restrict our data to the timeframe prior to the prediction window."
   ]
  },
  {
   "cell_type": "code",
   "execution_count": 390,
   "metadata": {},
   "outputs": [],
   "source": [
    "mask = orders['order_purchase_timestamp'].dt.date <= snapshot_date"
   ]
  },
  {
   "cell_type": "code",
   "execution_count": 391,
   "metadata": {},
   "outputs": [
    {
     "data": {
      "text/plain": [
       "(98906, 45430)"
      ]
     },
     "execution_count": 391,
     "metadata": {},
     "output_type": "execute_result"
    }
   ],
   "source": [
    "# apply the filter\n",
    "\n",
    "df_raw = orders[mask]\n",
    "\n",
    "len(orders), len(df_raw)"
   ]
  },
  {
   "cell_type": "code",
   "execution_count": 269,
   "metadata": {},
   "outputs": [
    {
     "name": "stdout",
     "output_type": "stream",
     "text": [
      "2016-09-04 21:15:19 2017-12-31 23:29:31\n"
     ]
    }
   ],
   "source": [
    "# check the max date\n",
    "\n",
    "print(df_raw.order_purchase_timestamp.min(),df_raw.order_purchase_timestamp.max())"
   ]
  },
  {
   "cell_type": "markdown",
   "metadata": {},
   "source": [
    "To calculate recency (days since the most recent order), we will have to extract *the most recent date* for each customer."
   ]
  },
  {
   "cell_type": "code",
   "execution_count": 270,
   "metadata": {},
   "outputs": [
    {
     "data": {
      "text/html": [
       "<div>\n",
       "<style scoped>\n",
       "    .dataframe tbody tr th:only-of-type {\n",
       "        vertical-align: middle;\n",
       "    }\n",
       "\n",
       "    .dataframe tbody tr th {\n",
       "        vertical-align: top;\n",
       "    }\n",
       "\n",
       "    .dataframe thead th {\n",
       "        text-align: right;\n",
       "    }\n",
       "</style>\n",
       "<table border=\"1\" class=\"dataframe\">\n",
       "  <thead>\n",
       "    <tr style=\"text-align: right;\">\n",
       "      <th></th>\n",
       "      <th>customer_unique_id</th>\n",
       "      <th>order_purchase_timestamp</th>\n",
       "    </tr>\n",
       "  </thead>\n",
       "  <tbody>\n",
       "    <tr>\n",
       "      <th>0</th>\n",
       "      <td>0000f46a3911fa3c0805444483337064</td>\n",
       "      <td>2017-03-10 21:05:03</td>\n",
       "    </tr>\n",
       "    <tr>\n",
       "      <th>1</th>\n",
       "      <td>0000f6ccb0745a6a4b88665a16c9f078</td>\n",
       "      <td>2017-10-12 20:29:41</td>\n",
       "    </tr>\n",
       "    <tr>\n",
       "      <th>2</th>\n",
       "      <td>0004aac84e0df4da2b147fca70cf8255</td>\n",
       "      <td>2017-11-14 19:45:42</td>\n",
       "    </tr>\n",
       "    <tr>\n",
       "      <th>3</th>\n",
       "      <td>0005e1862207bf6ccc02e4228effd9a0</td>\n",
       "      <td>2017-03-04 23:32:12</td>\n",
       "    </tr>\n",
       "    <tr>\n",
       "      <th>4</th>\n",
       "      <td>0006fdc98a402fceb4eb0ee528f6a8d4</td>\n",
       "      <td>2017-07-18 09:23:10</td>\n",
       "    </tr>\n",
       "  </tbody>\n",
       "</table>\n",
       "</div>"
      ],
      "text/plain": [
       "                 customer_unique_id order_purchase_timestamp\n",
       "0  0000f46a3911fa3c0805444483337064      2017-03-10 21:05:03\n",
       "1  0000f6ccb0745a6a4b88665a16c9f078      2017-10-12 20:29:41\n",
       "2  0004aac84e0df4da2b147fca70cf8255      2017-11-14 19:45:42\n",
       "3  0005e1862207bf6ccc02e4228effd9a0      2017-03-04 23:32:12\n",
       "4  0006fdc98a402fceb4eb0ee528f6a8d4      2017-07-18 09:23:10"
      ]
     },
     "execution_count": 270,
     "metadata": {},
     "output_type": "execute_result"
    }
   ],
   "source": [
    "# grab the max purchase date for each customer\n",
    "\n",
    "cust_recency = df_raw.groupby('customer_unique_id')['order_purchase_timestamp'].max().reset_index()\n",
    "\n",
    "cust_recency.head()"
   ]
  },
  {
   "cell_type": "code",
   "execution_count": 271,
   "metadata": {},
   "outputs": [
    {
     "data": {
      "text/plain": [
       "0   296 days\n",
       "1    80 days\n",
       "2    47 days\n",
       "3   302 days\n",
       "4   166 days\n",
       "Name: order_purchase_timestamp, dtype: timedelta64[ns]"
      ]
     },
     "execution_count": 271,
     "metadata": {},
     "output_type": "execute_result"
    }
   ],
   "source": [
    "# count the number of days between the most recent order date and the snapshot date\n",
    "\n",
    "delta = snapshot_date - cust_recency['order_purchase_timestamp'].dt.date\n",
    "\n",
    "delta.head()"
   ]
  },
  {
   "cell_type": "code",
   "execution_count": 272,
   "metadata": {},
   "outputs": [
    {
     "data": {
      "text/html": [
       "<div>\n",
       "<style scoped>\n",
       "    .dataframe tbody tr th:only-of-type {\n",
       "        vertical-align: middle;\n",
       "    }\n",
       "\n",
       "    .dataframe tbody tr th {\n",
       "        vertical-align: top;\n",
       "    }\n",
       "\n",
       "    .dataframe thead th {\n",
       "        text-align: right;\n",
       "    }\n",
       "</style>\n",
       "<table border=\"1\" class=\"dataframe\">\n",
       "  <thead>\n",
       "    <tr style=\"text-align: right;\">\n",
       "      <th></th>\n",
       "      <th>customer_unique_id</th>\n",
       "      <th>order_purchase_timestamp</th>\n",
       "      <th>order_recency</th>\n",
       "    </tr>\n",
       "  </thead>\n",
       "  <tbody>\n",
       "    <tr>\n",
       "      <th>0</th>\n",
       "      <td>0000f46a3911fa3c0805444483337064</td>\n",
       "      <td>2017-03-10 21:05:03</td>\n",
       "      <td>9</td>\n",
       "    </tr>\n",
       "    <tr>\n",
       "      <th>1</th>\n",
       "      <td>0000f6ccb0745a6a4b88665a16c9f078</td>\n",
       "      <td>2017-10-12 20:29:41</td>\n",
       "      <td>2</td>\n",
       "    </tr>\n",
       "    <tr>\n",
       "      <th>2</th>\n",
       "      <td>0004aac84e0df4da2b147fca70cf8255</td>\n",
       "      <td>2017-11-14 19:45:42</td>\n",
       "      <td>1</td>\n",
       "    </tr>\n",
       "    <tr>\n",
       "      <th>3</th>\n",
       "      <td>0005e1862207bf6ccc02e4228effd9a0</td>\n",
       "      <td>2017-03-04 23:32:12</td>\n",
       "      <td>10</td>\n",
       "    </tr>\n",
       "    <tr>\n",
       "      <th>4</th>\n",
       "      <td>0006fdc98a402fceb4eb0ee528f6a8d4</td>\n",
       "      <td>2017-07-18 09:23:10</td>\n",
       "      <td>5</td>\n",
       "    </tr>\n",
       "  </tbody>\n",
       "</table>\n",
       "</div>"
      ],
      "text/plain": [
       "                 customer_unique_id order_purchase_timestamp  order_recency\n",
       "0  0000f46a3911fa3c0805444483337064      2017-03-10 21:05:03              9\n",
       "1  0000f6ccb0745a6a4b88665a16c9f078      2017-10-12 20:29:41              2\n",
       "2  0004aac84e0df4da2b147fca70cf8255      2017-11-14 19:45:42              1\n",
       "3  0005e1862207bf6ccc02e4228effd9a0      2017-03-04 23:32:12             10\n",
       "4  0006fdc98a402fceb4eb0ee528f6a8d4      2017-07-18 09:23:10              5"
      ]
     },
     "execution_count": 272,
     "metadata": {},
     "output_type": "execute_result"
    }
   ],
   "source": [
    "# grab the number of days (as an integer) from the calculated deltas IN MONTHS\n",
    "\n",
    "cust_recency['order_recency'] = delta.dt.days /30\n",
    "cust_recency['order_recency'] = cust_recency['order_recency'].astype(int)\n",
    "cust_recency.head()"
   ]
  },
  {
   "cell_type": "code",
   "execution_count": 273,
   "metadata": {},
   "outputs": [],
   "source": [
    "# drop the date (we don't need it any more for this exercise)\n",
    "\n",
    "cust_recency = cust_recency.drop('order_purchase_timestamp', axis=1)"
   ]
  },
  {
   "cell_type": "code",
   "execution_count": 274,
   "metadata": {},
   "outputs": [
    {
     "data": {
      "text/plain": [
       "44034"
      ]
     },
     "execution_count": 274,
     "metadata": {},
     "output_type": "execute_result"
    }
   ],
   "source": [
    "# how many records (unique customers) do we have for this timeframe?\n",
    "\n",
    "len(cust_recency) #unique because customers are aggregated depsite orders"
   ]
  },
  {
   "cell_type": "markdown",
   "metadata": {},
   "source": [
    "This is the number of customers who are included in the modeling dasetset for this specific time-frame."
   ]
  },
  {
   "cell_type": "markdown",
   "metadata": {},
   "source": [
    "Let's check the distribution of this attribute."
   ]
  },
  {
   "cell_type": "code",
   "execution_count": 275,
   "metadata": {
    "scrolled": false
   },
   "outputs": [
    {
     "name": "stderr",
     "output_type": "stream",
     "text": [
      "C:\\ProgramData\\Anaconda3\\lib\\site-packages\\seaborn\\distributions.py:2551: FutureWarning: `distplot` is a deprecated function and will be removed in a future version. Please adapt your code to use either `displot` (a figure-level function with similar flexibility) or `histplot` (an axes-level function for histograms).\n",
      "  warnings.warn(msg, FutureWarning)\n"
     ]
    },
    {
     "data": {
      "image/png": "[encoded data removed]",
      "text/plain": [
       "<Figure size 1080x432 with 1 Axes>"
      ]
     },
     "metadata": {},
     "output_type": "display_data"
    }
   ],
   "source": [
    "sns.set(style='darkgrid')\n",
    "\n",
    "# adjust the plot size\n",
    "plt.figure().set_size_inches(15, 6)\n",
    "\n",
    "# histogram\n",
    "sns.distplot(cust_recency['order_recency'], kde=False)\n",
    "\n",
    "# assign axis labels\n",
    "plt.ylabel('Number of Customers', fontsize=14)\n",
    "plt.xlabel('Days Since the Most Recent Order (should this be \"months\"???)', fontsize=14);"
   ]
  },
  {
   "cell_type": "code",
   "execution_count": 276,
   "metadata": {},
   "outputs": [
    {
     "data": {
      "text/html": [
       "<div>\n",
       "<style scoped>\n",
       "    .dataframe tbody tr th:only-of-type {\n",
       "        vertical-align: middle;\n",
       "    }\n",
       "\n",
       "    .dataframe tbody tr th {\n",
       "        vertical-align: top;\n",
       "    }\n",
       "\n",
       "    .dataframe thead th {\n",
       "        text-align: right;\n",
       "    }\n",
       "</style>\n",
       "<table border=\"1\" class=\"dataframe\">\n",
       "  <thead>\n",
       "    <tr style=\"text-align: right;\">\n",
       "      <th></th>\n",
       "      <th>customer_unique_id</th>\n",
       "      <th>order_recency</th>\n",
       "    </tr>\n",
       "  </thead>\n",
       "  <tbody>\n",
       "    <tr>\n",
       "      <th>0</th>\n",
       "      <td>0000f46a3911fa3c0805444483337064</td>\n",
       "      <td>9</td>\n",
       "    </tr>\n",
       "    <tr>\n",
       "      <th>1</th>\n",
       "      <td>0000f6ccb0745a6a4b88665a16c9f078</td>\n",
       "      <td>2</td>\n",
       "    </tr>\n",
       "    <tr>\n",
       "      <th>2</th>\n",
       "      <td>0004aac84e0df4da2b147fca70cf8255</td>\n",
       "      <td>1</td>\n",
       "    </tr>\n",
       "    <tr>\n",
       "      <th>3</th>\n",
       "      <td>0005e1862207bf6ccc02e4228effd9a0</td>\n",
       "      <td>10</td>\n",
       "    </tr>\n",
       "    <tr>\n",
       "      <th>4</th>\n",
       "      <td>0006fdc98a402fceb4eb0ee528f6a8d4</td>\n",
       "      <td>5</td>\n",
       "    </tr>\n",
       "  </tbody>\n",
       "</table>\n",
       "</div>"
      ],
      "text/plain": [
       "                 customer_unique_id  order_recency\n",
       "0  0000f46a3911fa3c0805444483337064              9\n",
       "1  0000f6ccb0745a6a4b88665a16c9f078              2\n",
       "2  0004aac84e0df4da2b147fca70cf8255              1\n",
       "3  0005e1862207bf6ccc02e4228effd9a0             10\n",
       "4  0006fdc98a402fceb4eb0ee528f6a8d4              5"
      ]
     },
     "execution_count": 276,
     "metadata": {},
     "output_type": "execute_result"
    }
   ],
   "source": [
    "cust_recency.head()"
   ]
  },
  {
   "cell_type": "markdown",
   "metadata": {},
   "source": [
    "Let's take a look at the cumulative distribution of customers by recency."
   ]
  },
  {
   "cell_type": "code",
   "execution_count": 277,
   "metadata": {},
   "outputs": [
    {
     "data": {
      "text/html": [
       "<div>\n",
       "<style scoped>\n",
       "    .dataframe tbody tr th:only-of-type {\n",
       "        vertical-align: middle;\n",
       "    }\n",
       "\n",
       "    .dataframe tbody tr th {\n",
       "        vertical-align: top;\n",
       "    }\n",
       "\n",
       "    .dataframe thead th {\n",
       "        text-align: right;\n",
       "    }\n",
       "</style>\n",
       "<table border=\"1\" class=\"dataframe\">\n",
       "  <thead>\n",
       "    <tr style=\"text-align: right;\">\n",
       "      <th></th>\n",
       "      <th>order_recency</th>\n",
       "      <th>cust_count</th>\n",
       "    </tr>\n",
       "  </thead>\n",
       "  <tbody>\n",
       "    <tr>\n",
       "      <th>0</th>\n",
       "      <td>0</td>\n",
       "      <td>5336</td>\n",
       "    </tr>\n",
       "    <tr>\n",
       "      <th>1</th>\n",
       "      <td>1</td>\n",
       "      <td>7548</td>\n",
       "    </tr>\n",
       "    <tr>\n",
       "      <th>2</th>\n",
       "      <td>2</td>\n",
       "      <td>4354</td>\n",
       "    </tr>\n",
       "    <tr>\n",
       "      <th>3</th>\n",
       "      <td>3</td>\n",
       "      <td>4160</td>\n",
       "    </tr>\n",
       "    <tr>\n",
       "      <th>4</th>\n",
       "      <td>4</td>\n",
       "      <td>3972</td>\n",
       "    </tr>\n",
       "    <tr>\n",
       "      <th>5</th>\n",
       "      <td>5</td>\n",
       "      <td>3920</td>\n",
       "    </tr>\n",
       "    <tr>\n",
       "      <th>6</th>\n",
       "      <td>6</td>\n",
       "      <td>3103</td>\n",
       "    </tr>\n",
       "    <tr>\n",
       "      <th>7</th>\n",
       "      <td>7</td>\n",
       "      <td>3414</td>\n",
       "    </tr>\n",
       "    <tr>\n",
       "      <th>8</th>\n",
       "      <td>8</td>\n",
       "      <td>2480</td>\n",
       "    </tr>\n",
       "    <tr>\n",
       "      <th>9</th>\n",
       "      <td>9</td>\n",
       "      <td>2476</td>\n",
       "    </tr>\n",
       "    <tr>\n",
       "      <th>10</th>\n",
       "      <td>10</td>\n",
       "      <td>1941</td>\n",
       "    </tr>\n",
       "    <tr>\n",
       "      <th>11</th>\n",
       "      <td>11</td>\n",
       "      <td>991</td>\n",
       "    </tr>\n",
       "    <tr>\n",
       "      <th>12</th>\n",
       "      <td>12</td>\n",
       "      <td>18</td>\n",
       "    </tr>\n",
       "    <tr>\n",
       "      <th>13</th>\n",
       "      <td>14</td>\n",
       "      <td>104</td>\n",
       "    </tr>\n",
       "    <tr>\n",
       "      <th>14</th>\n",
       "      <td>15</td>\n",
       "      <td>215</td>\n",
       "    </tr>\n",
       "    <tr>\n",
       "      <th>15</th>\n",
       "      <td>16</td>\n",
       "      <td>2</td>\n",
       "    </tr>\n",
       "  </tbody>\n",
       "</table>\n",
       "</div>"
      ],
      "text/plain": [
       "    order_recency  cust_count\n",
       "0               0        5336\n",
       "1               1        7548\n",
       "2               2        4354\n",
       "3               3        4160\n",
       "4               4        3972\n",
       "5               5        3920\n",
       "6               6        3103\n",
       "7               7        3414\n",
       "8               8        2480\n",
       "9               9        2476\n",
       "10             10        1941\n",
       "11             11         991\n",
       "12             12          18\n",
       "13             14         104\n",
       "14             15         215\n",
       "15             16           2"
      ]
     },
     "execution_count": 277,
     "metadata": {},
     "output_type": "execute_result"
    }
   ],
   "source": [
    "recency_distr = cust_recency.groupby('order_recency').size().reset_index()\n",
    "    #'size()' seems to count the number of order_recency, vs 'count()' counting the number of customer_unique_d\n",
    "    #size also \"counts\" NaN's\n",
    "\n",
    "recency_distr = recency_distr.rename(columns={0: 'cust_count'})\n",
    "\n",
    "recency_distr"
   ]
  },
  {
   "cell_type": "code",
   "execution_count": 278,
   "metadata": {},
   "outputs": [
    {
     "data": {
      "text/plain": [
       "0    0.121179\n",
       "1    0.292592\n",
       "2    0.391470\n",
       "3    0.485943\n",
       "4    0.576146\n",
       "Name: cust_count, dtype: float64"
      ]
     },
     "execution_count": 278,
     "metadata": {},
     "output_type": "execute_result"
    }
   ],
   "source": [
    "# calculate cumulative percentages \n",
    "\n",
    "cum_pctg = recency_distr['cust_count'].cumsum() / sum(recency_distr['cust_count'])\n",
    "\n",
    "cum_pctg.head()"
   ]
  },
  {
   "cell_type": "code",
   "execution_count": 279,
   "metadata": {},
   "outputs": [
    {
     "data": {
      "image/png": "[encoded data removed]",
      "text/plain": [
       "<Figure size 648x648 with 1 Axes>"
      ]
     },
     "metadata": {},
     "output_type": "display_data"
    }
   ],
   "source": [
    "sns.set(style='darkgrid')\n",
    "\n",
    "# adjust the plot size\n",
    "plt.figure().set_size_inches(9, 9)\n",
    "\n",
    "# histogram\n",
    "sns.lineplot(x=recency_distr['order_recency'], y=cum_pctg, color='royalblue', lw=3)\n",
    "\n",
    "# assign axis labels\n",
    "plt.ylabel('Cumulative % of Customers', fontsize=14)\n",
    "plt.xlabel('Months Since the Most Recent Order', fontsize=14);"
   ]
  },
  {
   "cell_type": "markdown",
   "metadata": {},
   "source": [
    "Additional eligibility criteria can be applied to exclude customers (from the modeling dataset) who have not shopped in more than, e.g., one/two years."
   ]
  },
  {
   "cell_type": "markdown",
   "metadata": {},
   "source": [
    "### Attribute #2: Number of orders per customer"
   ]
  },
  {
   "cell_type": "code",
   "execution_count": 280,
   "metadata": {},
   "outputs": [
    {
     "data": {
      "text/html": [
       "<div>\n",
       "<style scoped>\n",
       "    .dataframe tbody tr th:only-of-type {\n",
       "        vertical-align: middle;\n",
       "    }\n",
       "\n",
       "    .dataframe tbody tr th {\n",
       "        vertical-align: top;\n",
       "    }\n",
       "\n",
       "    .dataframe thead th {\n",
       "        text-align: right;\n",
       "    }\n",
       "</style>\n",
       "<table border=\"1\" class=\"dataframe\">\n",
       "  <thead>\n",
       "    <tr style=\"text-align: right;\">\n",
       "      <th></th>\n",
       "      <th>customer_unique_id</th>\n",
       "      <th>total_orders</th>\n",
       "    </tr>\n",
       "  </thead>\n",
       "  <tbody>\n",
       "    <tr>\n",
       "      <th>0</th>\n",
       "      <td>0000f46a3911fa3c0805444483337064</td>\n",
       "      <td>1</td>\n",
       "    </tr>\n",
       "    <tr>\n",
       "      <th>1</th>\n",
       "      <td>0000f6ccb0745a6a4b88665a16c9f078</td>\n",
       "      <td>1</td>\n",
       "    </tr>\n",
       "    <tr>\n",
       "      <th>2</th>\n",
       "      <td>0004aac84e0df4da2b147fca70cf8255</td>\n",
       "      <td>1</td>\n",
       "    </tr>\n",
       "    <tr>\n",
       "      <th>3</th>\n",
       "      <td>0005e1862207bf6ccc02e4228effd9a0</td>\n",
       "      <td>1</td>\n",
       "    </tr>\n",
       "    <tr>\n",
       "      <th>4</th>\n",
       "      <td>0006fdc98a402fceb4eb0ee528f6a8d4</td>\n",
       "      <td>1</td>\n",
       "    </tr>\n",
       "  </tbody>\n",
       "</table>\n",
       "</div>"
      ],
      "text/plain": [
       "                 customer_unique_id  total_orders\n",
       "0  0000f46a3911fa3c0805444483337064             1\n",
       "1  0000f6ccb0745a6a4b88665a16c9f078             1\n",
       "2  0004aac84e0df4da2b147fca70cf8255             1\n",
       "3  0005e1862207bf6ccc02e4228effd9a0             1\n",
       "4  0006fdc98a402fceb4eb0ee528f6a8d4             1"
      ]
     },
     "execution_count": 280,
     "metadata": {},
     "output_type": "execute_result"
    }
   ],
   "source": [
    "# count total records (i.e., orders) per customer\n",
    "\n",
    "cust_orders = df_raw.groupby('customer_unique_id').size().reset_index().rename(columns={0: 'total_orders'})\n",
    "\n",
    "cust_orders.head()"
   ]
  },
  {
   "cell_type": "code",
   "execution_count": 281,
   "metadata": {},
   "outputs": [],
   "source": [
    "cust_orders = df_raw.groupby('customer_unique_id').size().reset_index().rename(columns={0: 'total_orders'})\n"
   ]
  },
  {
   "cell_type": "code",
   "execution_count": 282,
   "metadata": {},
   "outputs": [
    {
     "data": {
      "text/plain": [
       "(45430, 44034)"
      ]
     },
     "execution_count": 282,
     "metadata": {},
     "output_type": "execute_result"
    }
   ],
   "source": [
    "order_count_totals = cust_orders.groupby('total_orders').size()\n",
    "\n",
    "len(df_raw), len(cust_orders)"
   ]
  },
  {
   "cell_type": "code",
   "execution_count": 283,
   "metadata": {},
   "outputs": [
    {
     "data": {
      "text/plain": [
       "total_orders\n",
       "1     42770\n",
       "2      1164\n",
       "3        80\n",
       "4        14\n",
       "5         4\n",
       "6         1\n",
       "10        1\n",
       "dtype: int64"
      ]
     },
     "execution_count": 283,
     "metadata": {},
     "output_type": "execute_result"
    }
   ],
   "source": [
    "order_count_totals"
   ]
  },
  {
   "cell_type": "markdown",
   "metadata": {},
   "source": [
    "### Attribute set #3: Weekday"
   ]
  },
  {
   "cell_type": "code",
   "execution_count": 284,
   "metadata": {},
   "outputs": [
    {
     "data": {
      "text/html": [
       "<div>\n",
       "<style scoped>\n",
       "    .dataframe tbody tr th:only-of-type {\n",
       "        vertical-align: middle;\n",
       "    }\n",
       "\n",
       "    .dataframe tbody tr th {\n",
       "        vertical-align: top;\n",
       "    }\n",
       "\n",
       "    .dataframe thead th {\n",
       "        text-align: right;\n",
       "    }\n",
       "</style>\n",
       "<table border=\"1\" class=\"dataframe\">\n",
       "  <thead>\n",
       "    <tr style=\"text-align: right;\">\n",
       "      <th></th>\n",
       "      <th>customer_unique_id</th>\n",
       "      <th>order_id</th>\n",
       "      <th>order_purchase_timestamp</th>\n",
       "      <th>order_dow</th>\n",
       "    </tr>\n",
       "  </thead>\n",
       "  <tbody>\n",
       "    <tr>\n",
       "      <th>26460</th>\n",
       "      <td>0000f46a3911fa3c0805444483337064</td>\n",
       "      <td>b33ec3b699337181488304f362a6b734</td>\n",
       "      <td>2017-03-10 21:05:03</td>\n",
       "      <td>Friday</td>\n",
       "    </tr>\n",
       "    <tr>\n",
       "      <th>98493</th>\n",
       "      <td>0000f6ccb0745a6a4b88665a16c9f078</td>\n",
       "      <td>41272756ecddd9a9ed0180413cc22fb6</td>\n",
       "      <td>2017-10-12 20:29:41</td>\n",
       "      <td>Thursday</td>\n",
       "    </tr>\n",
       "    <tr>\n",
       "      <th>41564</th>\n",
       "      <td>0004aac84e0df4da2b147fca70cf8255</td>\n",
       "      <td>d957021f1127559cd947b62533f484f7</td>\n",
       "      <td>2017-11-14 19:45:42</td>\n",
       "      <td>Tuesday</td>\n",
       "    </tr>\n",
       "    <tr>\n",
       "      <th>71235</th>\n",
       "      <td>0005e1862207bf6ccc02e4228effd9a0</td>\n",
       "      <td>ae76bef74b97bcb0b3e355e60d9a6f9c</td>\n",
       "      <td>2017-03-04 23:32:12</td>\n",
       "      <td>Saturday</td>\n",
       "    </tr>\n",
       "    <tr>\n",
       "      <th>26203</th>\n",
       "      <td>0006fdc98a402fceb4eb0ee528f6a8d4</td>\n",
       "      <td>6681163e3dab91c549952b2845b20281</td>\n",
       "      <td>2017-07-18 09:23:10</td>\n",
       "      <td>Tuesday</td>\n",
       "    </tr>\n",
       "  </tbody>\n",
       "</table>\n",
       "</div>"
      ],
      "text/plain": [
       "                     customer_unique_id                          order_id  \\\n",
       "26460  0000f46a3911fa3c0805444483337064  b33ec3b699337181488304f362a6b734   \n",
       "98493  0000f6ccb0745a6a4b88665a16c9f078  41272756ecddd9a9ed0180413cc22fb6   \n",
       "41564  0004aac84e0df4da2b147fca70cf8255  d957021f1127559cd947b62533f484f7   \n",
       "71235  0005e1862207bf6ccc02e4228effd9a0  ae76bef74b97bcb0b3e355e60d9a6f9c   \n",
       "26203  0006fdc98a402fceb4eb0ee528f6a8d4  6681163e3dab91c549952b2845b20281   \n",
       "\n",
       "      order_purchase_timestamp order_dow  \n",
       "26460      2017-03-10 21:05:03    Friday  \n",
       "98493      2017-10-12 20:29:41  Thursday  \n",
       "41564      2017-11-14 19:45:42   Tuesday  \n",
       "71235      2017-03-04 23:32:12  Saturday  \n",
       "26203      2017-07-18 09:23:10   Tuesday  "
      ]
     },
     "execution_count": 284,
     "metadata": {},
     "output_type": "execute_result"
    }
   ],
   "source": [
    "df_raw.head()"
   ]
  },
  {
   "cell_type": "code",
   "execution_count": 285,
   "metadata": {
    "scrolled": true
   },
   "outputs": [],
   "source": [
    "# get dummies\n",
    "\n",
    "df_raw = pd.get_dummies(df_raw, columns=['order_dow'])"
   ]
  },
  {
   "cell_type": "code",
   "execution_count": 286,
   "metadata": {},
   "outputs": [
    {
     "name": "stdout",
     "output_type": "stream",
     "text": [
      "['order_dow_Friday', 'order_dow_Monday', 'order_dow_Saturday', 'order_dow_Sunday', 'order_dow_Thursday', 'order_dow_Tuesday', 'order_dow_Wednesday']\n"
     ]
    }
   ],
   "source": [
    "print(dummies)"
   ]
  },
  {
   "cell_type": "code",
   "execution_count": 287,
   "metadata": {},
   "outputs": [
    {
     "data": {
      "text/html": [
       "<div>\n",
       "<style scoped>\n",
       "    .dataframe tbody tr th:only-of-type {\n",
       "        vertical-align: middle;\n",
       "    }\n",
       "\n",
       "    .dataframe tbody tr th {\n",
       "        vertical-align: top;\n",
       "    }\n",
       "\n",
       "    .dataframe thead th {\n",
       "        text-align: right;\n",
       "    }\n",
       "</style>\n",
       "<table border=\"1\" class=\"dataframe\">\n",
       "  <thead>\n",
       "    <tr style=\"text-align: right;\">\n",
       "      <th></th>\n",
       "      <th>customer_unique_id</th>\n",
       "      <th>order_dow_Friday</th>\n",
       "      <th>order_dow_Monday</th>\n",
       "      <th>order_dow_Saturday</th>\n",
       "      <th>order_dow_Sunday</th>\n",
       "      <th>order_dow_Thursday</th>\n",
       "      <th>order_dow_Tuesday</th>\n",
       "      <th>order_dow_Wednesday</th>\n",
       "    </tr>\n",
       "  </thead>\n",
       "  <tbody>\n",
       "    <tr>\n",
       "      <th>0</th>\n",
       "      <td>0000f46a3911fa3c0805444483337064</td>\n",
       "      <td>1</td>\n",
       "      <td>0</td>\n",
       "      <td>0</td>\n",
       "      <td>0</td>\n",
       "      <td>0</td>\n",
       "      <td>0</td>\n",
       "      <td>0</td>\n",
       "    </tr>\n",
       "    <tr>\n",
       "      <th>1</th>\n",
       "      <td>0000f6ccb0745a6a4b88665a16c9f078</td>\n",
       "      <td>0</td>\n",
       "      <td>0</td>\n",
       "      <td>0</td>\n",
       "      <td>0</td>\n",
       "      <td>1</td>\n",
       "      <td>0</td>\n",
       "      <td>0</td>\n",
       "    </tr>\n",
       "    <tr>\n",
       "      <th>2</th>\n",
       "      <td>0004aac84e0df4da2b147fca70cf8255</td>\n",
       "      <td>0</td>\n",
       "      <td>0</td>\n",
       "      <td>0</td>\n",
       "      <td>0</td>\n",
       "      <td>0</td>\n",
       "      <td>1</td>\n",
       "      <td>0</td>\n",
       "    </tr>\n",
       "    <tr>\n",
       "      <th>3</th>\n",
       "      <td>0005e1862207bf6ccc02e4228effd9a0</td>\n",
       "      <td>0</td>\n",
       "      <td>0</td>\n",
       "      <td>1</td>\n",
       "      <td>0</td>\n",
       "      <td>0</td>\n",
       "      <td>0</td>\n",
       "      <td>0</td>\n",
       "    </tr>\n",
       "    <tr>\n",
       "      <th>4</th>\n",
       "      <td>0006fdc98a402fceb4eb0ee528f6a8d4</td>\n",
       "      <td>0</td>\n",
       "      <td>0</td>\n",
       "      <td>0</td>\n",
       "      <td>0</td>\n",
       "      <td>0</td>\n",
       "      <td>1</td>\n",
       "      <td>0</td>\n",
       "    </tr>\n",
       "  </tbody>\n",
       "</table>\n",
       "</div>"
      ],
      "text/plain": [
       "                 customer_unique_id  order_dow_Friday  order_dow_Monday  \\\n",
       "0  0000f46a3911fa3c0805444483337064                 1                 0   \n",
       "1  0000f6ccb0745a6a4b88665a16c9f078                 0                 0   \n",
       "2  0004aac84e0df4da2b147fca70cf8255                 0                 0   \n",
       "3  0005e1862207bf6ccc02e4228effd9a0                 0                 0   \n",
       "4  0006fdc98a402fceb4eb0ee528f6a8d4                 0                 0   \n",
       "\n",
       "   order_dow_Saturday  order_dow_Sunday  order_dow_Thursday  \\\n",
       "0                   0                 0                   0   \n",
       "1                   0                 0                   1   \n",
       "2                   0                 0                   0   \n",
       "3                   1                 0                   0   \n",
       "4                   0                 0                   0   \n",
       "\n",
       "   order_dow_Tuesday  order_dow_Wednesday  \n",
       "0                  0                    0  \n",
       "1                  0                    0  \n",
       "2                  1                    0  \n",
       "3                  0                    0  \n",
       "4                  1                    0  "
      ]
     },
     "execution_count": 287,
     "metadata": {},
     "output_type": "execute_result"
    }
   ],
   "source": [
    "# grab all binary columns that we just created\n",
    "dummies = [x for x in df_raw.columns if 'order_dow' in x]\n",
    "\n",
    "# aggreagte data to the customer-level, so that we have one record per customer\n",
    "cust_dow = df_raw.groupby('customer_unique_id')[dummies].sum().reset_index()\n",
    "\n",
    "cust_dow.head()"
   ]
  },
  {
   "cell_type": "markdown",
   "metadata": {},
   "source": [
    "### Combine all attributes into a single dataframe"
   ]
  },
  {
   "cell_type": "code",
   "execution_count": 289,
   "metadata": {},
   "outputs": [
    {
     "data": {
      "text/plain": [
       "((44034, 2), (44034, 2), (44034, 8))"
      ]
     },
     "execution_count": 289,
     "metadata": {},
     "output_type": "execute_result"
    }
   ],
   "source": [
    "# let's check the number of records in each dataframe first\n",
    "\n",
    "cust_recency.shape, cust_orders.shape, cust_dow.shape\n"
   ]
  },
  {
   "cell_type": "code",
   "execution_count": 305,
   "metadata": {},
   "outputs": [
    {
     "data": {
      "text/plain": [
       "(44034, 10)"
      ]
     },
     "execution_count": 305,
     "metadata": {},
     "output_type": "execute_result"
    }
   ],
   "source": [
    "# combine (merge) `cust_recency` with `cust_orders` so that we have both attributes in one dataset\n",
    "\n",
    "df = pd.merge(cust_recency, cust_orders, on='customer_unique_id').merge(cust_dow, on='customer_unique_id')\n",
    "\n",
    "df.shape"
   ]
  },
  {
   "cell_type": "code",
   "execution_count": 306,
   "metadata": {},
   "outputs": [
    {
     "data": {
      "text/html": [
       "<div>\n",
       "<style scoped>\n",
       "    .dataframe tbody tr th:only-of-type {\n",
       "        vertical-align: middle;\n",
       "    }\n",
       "\n",
       "    .dataframe tbody tr th {\n",
       "        vertical-align: top;\n",
       "    }\n",
       "\n",
       "    .dataframe thead th {\n",
       "        text-align: right;\n",
       "    }\n",
       "</style>\n",
       "<table border=\"1\" class=\"dataframe\">\n",
       "  <thead>\n",
       "    <tr style=\"text-align: right;\">\n",
       "      <th></th>\n",
       "      <th>customer_unique_id</th>\n",
       "      <th>order_recency</th>\n",
       "      <th>total_orders</th>\n",
       "      <th>order_dow_Friday</th>\n",
       "      <th>order_dow_Monday</th>\n",
       "      <th>order_dow_Saturday</th>\n",
       "      <th>order_dow_Sunday</th>\n",
       "      <th>order_dow_Thursday</th>\n",
       "      <th>order_dow_Tuesday</th>\n",
       "      <th>order_dow_Wednesday</th>\n",
       "    </tr>\n",
       "  </thead>\n",
       "  <tbody>\n",
       "    <tr>\n",
       "      <th>0</th>\n",
       "      <td>0000f46a3911fa3c0805444483337064</td>\n",
       "      <td>9</td>\n",
       "      <td>1</td>\n",
       "      <td>1</td>\n",
       "      <td>0</td>\n",
       "      <td>0</td>\n",
       "      <td>0</td>\n",
       "      <td>0</td>\n",
       "      <td>0</td>\n",
       "      <td>0</td>\n",
       "    </tr>\n",
       "    <tr>\n",
       "      <th>1</th>\n",
       "      <td>0000f6ccb0745a6a4b88665a16c9f078</td>\n",
       "      <td>2</td>\n",
       "      <td>1</td>\n",
       "      <td>0</td>\n",
       "      <td>0</td>\n",
       "      <td>0</td>\n",
       "      <td>0</td>\n",
       "      <td>1</td>\n",
       "      <td>0</td>\n",
       "      <td>0</td>\n",
       "    </tr>\n",
       "    <tr>\n",
       "      <th>2</th>\n",
       "      <td>0004aac84e0df4da2b147fca70cf8255</td>\n",
       "      <td>1</td>\n",
       "      <td>1</td>\n",
       "      <td>0</td>\n",
       "      <td>0</td>\n",
       "      <td>0</td>\n",
       "      <td>0</td>\n",
       "      <td>0</td>\n",
       "      <td>1</td>\n",
       "      <td>0</td>\n",
       "    </tr>\n",
       "    <tr>\n",
       "      <th>3</th>\n",
       "      <td>0005e1862207bf6ccc02e4228effd9a0</td>\n",
       "      <td>10</td>\n",
       "      <td>1</td>\n",
       "      <td>0</td>\n",
       "      <td>0</td>\n",
       "      <td>1</td>\n",
       "      <td>0</td>\n",
       "      <td>0</td>\n",
       "      <td>0</td>\n",
       "      <td>0</td>\n",
       "    </tr>\n",
       "    <tr>\n",
       "      <th>4</th>\n",
       "      <td>0006fdc98a402fceb4eb0ee528f6a8d4</td>\n",
       "      <td>5</td>\n",
       "      <td>1</td>\n",
       "      <td>0</td>\n",
       "      <td>0</td>\n",
       "      <td>0</td>\n",
       "      <td>0</td>\n",
       "      <td>0</td>\n",
       "      <td>1</td>\n",
       "      <td>0</td>\n",
       "    </tr>\n",
       "  </tbody>\n",
       "</table>\n",
       "</div>"
      ],
      "text/plain": [
       "                 customer_unique_id  order_recency  total_orders  \\\n",
       "0  0000f46a3911fa3c0805444483337064              9             1   \n",
       "1  0000f6ccb0745a6a4b88665a16c9f078              2             1   \n",
       "2  0004aac84e0df4da2b147fca70cf8255              1             1   \n",
       "3  0005e1862207bf6ccc02e4228effd9a0             10             1   \n",
       "4  0006fdc98a402fceb4eb0ee528f6a8d4              5             1   \n",
       "\n",
       "   order_dow_Friday  order_dow_Monday  order_dow_Saturday  order_dow_Sunday  \\\n",
       "0                 1                 0                   0                 0   \n",
       "1                 0                 0                   0                 0   \n",
       "2                 0                 0                   0                 0   \n",
       "3                 0                 0                   1                 0   \n",
       "4                 0                 0                   0                 0   \n",
       "\n",
       "   order_dow_Thursday  order_dow_Tuesday  order_dow_Wednesday  \n",
       "0                   0                  0                    0  \n",
       "1                   1                  0                    0  \n",
       "2                   0                  1                    0  \n",
       "3                   0                  0                    0  \n",
       "4                   0                  1                    0  "
      ]
     },
     "execution_count": 306,
     "metadata": {},
     "output_type": "execute_result"
    }
   ],
   "source": [
    "df.head()"
   ]
  },
  {
   "cell_type": "markdown",
   "metadata": {},
   "source": [
    "Exclude customers who have not placed an order within the past one year."
   ]
  },
  {
   "cell_type": "code",
   "execution_count": 307,
   "metadata": {},
   "outputs": [
    {
     "data": {
      "text/plain": [
       "43713"
      ]
     },
     "execution_count": 307,
     "metadata": {},
     "output_type": "execute_result"
    }
   ],
   "source": [
    "df = df[df['order_recency'] <= 12]\n",
    "\n",
    "len(df)"
   ]
  },
  {
   "cell_type": "markdown",
   "metadata": {},
   "source": [
    "### Assign labels (aka the target variable or the dependent variable)"
   ]
  },
  {
   "cell_type": "markdown",
   "metadata": {},
   "source": [
    "For this exercise, we will assume that the objective of the model is to predict whether a customer will make *at least one purchase* in the future (i.e., within the target window of the model)."
   ]
  },
  {
   "cell_type": "markdown",
   "metadata": {},
   "source": [
    "**Step 1:** Isolate all orders that were placed within the prediction window."
   ]
  },
  {
   "cell_type": "code",
   "execution_count": 308,
   "metadata": {},
   "outputs": [
    {
     "data": {
      "text/plain": [
       "47479"
      ]
     },
     "execution_count": 308,
     "metadata": {},
     "output_type": "execute_result"
    }
   ],
   "source": [
    "# select orders that were placed between jan 1 2018 & july 31 2018 (cutoff_date)\n",
    "\n",
    "mask = (orders['order_purchase_timestamp'].dt.month >= 1) & \\\n",
    "        (orders['order_purchase_timestamp'].dt.month <= 7) & \\\n",
    "        (orders['order_purchase_timestamp'].dt.year == 2018)\n",
    "\n",
    "target_events_raw = orders[mask] #masks ALL orders\n",
    "\n",
    "len(target_events_raw)"
   ]
  },
  {
   "cell_type": "code",
   "execution_count": 309,
   "metadata": {},
   "outputs": [
    {
     "name": "stdout",
     "output_type": "stream",
     "text": [
      "{Timestamp('2018-01-01 02:48:41')} {Timestamp('2018-07-31 23:54:20')}\n"
     ]
    }
   ],
   "source": [
    "# confirm the min and max dates are between Jan and July 2018\n",
    "\n",
    "print({target_events_raw['order_purchase_timestamp'].min()},{target_events_raw['order_purchase_timestamp'].max()})"
   ]
  },
  {
   "cell_type": "markdown",
   "metadata": {},
   "source": [
    "**Step 2:** Summarize data to get one record per customer."
   ]
  },
  {
   "cell_type": "code",
   "execution_count": 376,
   "metadata": {},
   "outputs": [
    {
     "data": {
      "text/plain": [
       "46412"
      ]
     },
     "execution_count": 376,
     "metadata": {},
     "output_type": "execute_result"
    }
   ],
   "source": [
    "# count the number of orders (we will convert this into a binary flag later) \n",
    "#NOT LOOKING AT how many purchases here...b/c this is the predictor group...\n",
    "\n",
    "target_events = target_events_raw.groupby('customer_unique_id').size().reset_index().rename(columns={0: 'purch'})\n",
    "\n",
    "len(target_events)"
   ]
  },
  {
   "cell_type": "code",
   "execution_count": 311,
   "metadata": {},
   "outputs": [
    {
     "name": "stdout",
     "output_type": "stream",
     "text": [
      "Number of customers who made at least one purchase during the prediction window: 46,412\n"
     ]
    }
   ],
   "source": [
    "print(f'Number of customers who made at least one purchase during the prediction window: {len(target_events):,}')"
   ]
  },
  {
   "cell_type": "markdown",
   "metadata": {},
   "source": [
    "**Step 3:** Merge this dataframe with the `attr` dataframe to create the modeling dataset."
   ]
  },
  {
   "cell_type": "code",
   "execution_count": 312,
   "metadata": {},
   "outputs": [
    {
     "data": {
      "text/plain": [
       "(43713, 11)"
      ]
     },
     "execution_count": 312,
     "metadata": {},
     "output_type": "execute_result"
    }
   ],
   "source": [
    "# merge `target_events` with the dataframe that contains customer attributes\n",
    "\n",
    "df = pd.merge(df, target_events, how='left', on='customer_unique_id')\n",
    "\n",
    "df.shape\n"
   ]
  },
  {
   "cell_type": "markdown",
   "metadata": {},
   "source": [
    "We need to convert this variable into a binary flag."
   ]
  },
  {
   "cell_type": "markdown",
   "metadata": {},
   "source": [
    "**Step 4:** Set the target variable to 1 if at least one purchase was made, 0 otherwise."
   ]
  },
  {
   "cell_type": "code",
   "execution_count": 348,
   "metadata": {},
   "outputs": [
    {
     "data": {
      "text/plain": [
       "0    43091\n",
       "1      622\n",
       "Name: purch, dtype: int64"
      ]
     },
     "execution_count": 348,
     "metadata": {},
     "output_type": "execute_result"
    }
   ],
   "source": [
    "# create the binary target flag \n",
    "# keep in mind these customers (622) mostly made purchases in the predicted window, results in 622\n",
    "\n",
    "df['purch'] = [1 if x > 0 else 0 for x in df['purch']]\n",
    "\n",
    "df.purch.value_counts()"
   ]
  },
  {
   "cell_type": "code",
   "execution_count": 346,
   "metadata": {},
   "outputs": [
    {
     "name": "stdout",
     "output_type": "stream",
     "text": [
      "# of customers that made purchase at least 1 purchase in the predicted window is \n",
      "622 for the snapshot window\n"
     ]
    }
   ],
   "source": [
    "print(f'''# of customers that made purchase at least 1 purchase in the predicted window is \n",
    "{df.purch.value_counts()[1]:,} for the snapshot window''')"
   ]
  },
  {
   "cell_type": "code",
   "execution_count": 347,
   "metadata": {},
   "outputs": [
    {
     "data": {
      "text/plain": [
       "0    0.985771\n",
       "1    0.014229\n",
       "Name: purch, dtype: float64"
      ]
     },
     "execution_count": 347,
     "metadata": {},
     "output_type": "execute_result"
    }
   ],
   "source": [
    "# % distribution of the target flag\n",
    "\n",
    "df.purch.value_counts() / len(df)"
   ]
  },
  {
   "cell_type": "markdown",
   "metadata": {},
   "source": [
    "There are two issues here: (1) the target event is extremely rare, and (2) the number of target events is also extremely small. There are several ways to circumvent these issues, but for now we will proceed with this dataset. "
   ]
  },
  {
   "cell_type": "code",
   "execution_count": 349,
   "metadata": {},
   "outputs": [
    {
     "data": {
      "text/plain": [
       "order_recency         -0.013936\n",
       "total_orders           0.070029\n",
       "order_dow_Friday      -0.000731\n",
       "order_dow_Monday       0.012103\n",
       "order_dow_Saturday    -0.003484\n",
       "order_dow_Sunday       0.012515\n",
       "order_dow_Thursday     0.003865\n",
       "order_dow_Tuesday      0.007170\n",
       "order_dow_Wednesday    0.006607\n",
       "purch                  1.000000\n",
       "Name: purch, dtype: float64"
      ]
     },
     "execution_count": 349,
     "metadata": {},
     "output_type": "execute_result"
    }
   ],
   "source": [
    "# check the correlations\n",
    "\n",
    "df.corr()['purch']"
   ]
  },
  {
   "cell_type": "markdown",
   "metadata": {},
   "source": [
    "Before moving on to model building, let create a two-axis plot to view the purchase rates by recency."
   ]
  },
  {
   "cell_type": "code",
   "execution_count": 323,
   "metadata": {},
   "outputs": [
    {
     "data": {
      "image/png": "[encoded data removed]",
      "text/plain": [
       "<Figure size 864x432 with 2 Axes>"
      ]
     },
     "metadata": {},
     "output_type": "display_data"
    }
   ],
   "source": [
    "purch_rate_by_recency = df.groupby('order_recency')['purch'].mean().reset_index()\n",
    "\n",
    "purch_rate_by_recency['orders'] = df.groupby('order_recency').size().reset_index()[0]\n",
    "\n",
    "sns.set(style = 'dark')\n",
    "f, ax = plt.subplots(figsize = (12, 6))\n",
    "\n",
    "# create a secondary axis\n",
    "ax2 = ax.twinx()\n",
    "\n",
    "#bar chart for number of orders\n",
    "\n",
    "ax.bar(purch_rate_by_recency['order_recency'], purch_rate_by_recency['orders'], color='teal', alpha=0.3)\n",
    "\n",
    "ax2.plot(purch_rate_by_recency['order_recency'], purch_rate_by_recency['purch'], \n",
    "         color='orangered', marker='o', markersize=5, lw=1)\n",
    "\n",
    "ax.set_xlabel('Months Since the Most Recent Order', fontsize=14, weight='bold')\n",
    "ax.set_ylabel('Number of Customers', fontsize=14, weight='bold', color='teal')\n",
    "ax2.set_ylabel('Average Purchase Rate', fontsize = 14, color='orangered', weight='bold')\n",
    "\n",
    "ax.tick_params(axis='y', colors='teal')\n",
    "ax2.tick_params(axis='y', colors='orangered')"
   ]
  },
  {
   "cell_type": "markdown",
   "metadata": {},
   "source": [
    "### Model building"
   ]
  },
  {
   "cell_type": "code",
   "execution_count": 110,
   "metadata": {},
   "outputs": [
    {
     "data": {
      "text/plain": [
       "Index(['customer_unique_id', 'order_recency', 'total_orders',\n",
       "       'order_dow_Friday', 'order_dow_Monday', 'order_dow_Saturday',\n",
       "       'order_dow_Sunday', 'order_dow_Thursday', 'order_dow_Tuesday',\n",
       "       'order_dow_Wednesday', 'purch'],\n",
       "      dtype='object')"
      ]
     },
     "execution_count": 110,
     "metadata": {},
     "output_type": "execute_result"
    }
   ],
   "source": [
    "df.columns"
   ]
  },
  {
   "cell_type": "code",
   "execution_count": 111,
   "metadata": {},
   "outputs": [],
   "source": [
    "# set-up\n",
    "\n",
    "preds = df.columns[1:-1]\n",
    "\n",
    "X = df[preds]\n",
    "y = df['purch']"
   ]
  },
  {
   "cell_type": "markdown",
   "metadata": {},
   "source": [
    "Tri-fold partitioning is recommended as long as there's sufficient sample size avaiable. In this example, since the number of target events is very small, we will perform a two-fold paritioning of the modeling sample."
   ]
  },
  {
   "cell_type": "markdown",
   "metadata": {},
   "source": [
    "Note that we could increase the size of the prediction window to capture more purchase events. However, for this exercise we will continue with the current prediction window (of one month)."
   ]
  },
  {
   "cell_type": "markdown",
   "metadata": {},
   "source": [
    "#### Two-fold partition"
   ]
  },
  {
   "cell_type": "code",
   "execution_count": 112,
   "metadata": {},
   "outputs": [
    {
     "data": {
      "text/plain": [
       "((21856, 9), (21857, 9), (21856,), (21857,))"
      ]
     },
     "execution_count": 112,
     "metadata": {},
     "output_type": "execute_result"
    }
   ],
   "source": [
    "# split the dataframe into train(50%) and test(50%)\n",
    "\n",
    "from sklearn.model_selection import train_test_split\n",
    "\n",
    "X_train, X_test, y_train, y_test = train_test_split(X, y, test_size=0.5, random_state=314)\n",
    "\n",
    "len(X_train), len(X_test)\n",
    "\n",
    "X_train.shape, X_test.shape, y_train.shape, y_test.shape"
   ]
  },
  {
   "cell_type": "code",
   "execution_count": 113,
   "metadata": {},
   "outputs": [
    {
     "data": {
      "text/plain": [
       "0    21564\n",
       "1      292\n",
       "Name: purch, dtype: int64"
      ]
     },
     "execution_count": 113,
     "metadata": {},
     "output_type": "execute_result"
    }
   ],
   "source": [
    "# target distribution in the training sample\n",
    "\n",
    "y_train.value_counts()"
   ]
  },
  {
   "cell_type": "code",
   "execution_count": 114,
   "metadata": {},
   "outputs": [
    {
     "data": {
      "text/plain": [
       "0    21527\n",
       "1      330\n",
       "Name: purch, dtype: int64"
      ]
     },
     "execution_count": 114,
     "metadata": {},
     "output_type": "execute_result"
    }
   ],
   "source": [
    "# target distribution in the test sample\n",
    "\n",
    "y_test.value_counts()"
   ]
  },
  {
   "cell_type": "code",
   "execution_count": 115,
   "metadata": {},
   "outputs": [],
   "source": [
    "from sklearn.linear_model import LogisticRegression\n",
    "\n",
    "# define the model object ('liblinear' is recommended for small datasets), initialize classifier\n",
    "clf = LogisticRegression(solver='liblinear', random_state=314)\n",
    "\n",
    "# train (fit) the model using the training sample\n",
    "clf.fit(X_train, y_train)\n",
    "\n",
    "# make predictions on the test sample, contains 0's or 1's.\n",
    "y_preds = clf.predict(X_test)"
   ]
  },
  {
   "cell_type": "code",
   "execution_count": 116,
   "metadata": {},
   "outputs": [
    {
     "data": {
      "text/plain": [
       "array([0, 0, 0, 0, 0, 0, 0, 0, 0, 0], dtype=int64)"
      ]
     },
     "execution_count": 116,
     "metadata": {},
     "output_type": "execute_result"
    }
   ],
   "source": [
    "y_preds[:10]"
   ]
  },
  {
   "cell_type": "markdown",
   "metadata": {},
   "source": [
    "### Model accuracy"
   ]
  },
  {
   "cell_type": "code",
   "execution_count": 117,
   "metadata": {},
   "outputs": [
    {
     "data": {
      "text/plain": [
       "0.9849476140366931"
      ]
     },
     "execution_count": 117,
     "metadata": {},
     "output_type": "execute_result"
    }
   ],
   "source": [
    "from sklearn.metrics import accuracy_score\n",
    "\n",
    "accuracy_score(y_test, y_preds)"
   ]
  },
  {
   "cell_type": "markdown",
   "metadata": {},
   "source": [
    "Why does the model appear to be very strong in spite of only two predictors that didn't look correlated with the target?"
   ]
  },
  {
   "cell_type": "code",
   "execution_count": 118,
   "metadata": {},
   "outputs": [
    {
     "data": {
      "text/html": [
       "<div>\n",
       "<style scoped>\n",
       "    .dataframe tbody tr th:only-of-type {\n",
       "        vertical-align: middle;\n",
       "    }\n",
       "\n",
       "    .dataframe tbody tr th {\n",
       "        vertical-align: top;\n",
       "    }\n",
       "\n",
       "    .dataframe thead th {\n",
       "        text-align: right;\n",
       "    }\n",
       "</style>\n",
       "<table border=\"1\" class=\"dataframe\">\n",
       "  <thead>\n",
       "    <tr style=\"text-align: right;\">\n",
       "      <th>col_0</th>\n",
       "      <th>0</th>\n",
       "      <th>1</th>\n",
       "    </tr>\n",
       "    <tr>\n",
       "      <th>purch</th>\n",
       "      <th></th>\n",
       "      <th></th>\n",
       "    </tr>\n",
       "  </thead>\n",
       "  <tbody>\n",
       "    <tr>\n",
       "      <th>0</th>\n",
       "      <td>21527</td>\n",
       "      <td>0</td>\n",
       "    </tr>\n",
       "    <tr>\n",
       "      <th>1</th>\n",
       "      <td>329</td>\n",
       "      <td>1</td>\n",
       "    </tr>\n",
       "  </tbody>\n",
       "</table>\n",
       "</div>"
      ],
      "text/plain": [
       "col_0      0  1\n",
       "purch          \n",
       "0      21527  0\n",
       "1        329  1"
      ]
     },
     "execution_count": 118,
     "metadata": {},
     "output_type": "execute_result"
    }
   ],
   "source": [
    "# check model's predictions against actual value of the target event\n",
    "\n",
    "pd.crosstab(y_test, y_preds)"
   ]
  },
  {
   "cell_type": "markdown",
   "metadata": {},
   "source": [
    "The model is predicting 0 (no purchase) for all customers! Accuracy score is not a reliable measure while dealing with rare events. Let's take a look at a few additional metrics. (We will learn about these metrics in the class later.)"
   ]
  },
  {
   "cell_type": "markdown",
   "metadata": {},
   "source": [
    "Area under the ROC curve (AUC)"
   ]
  },
  {
   "cell_type": "code",
   "execution_count": 119,
   "metadata": {},
   "outputs": [
    {
     "data": {
      "text/plain": [
       "0.547324571961075"
      ]
     },
     "execution_count": 119,
     "metadata": {},
     "output_type": "execute_result"
    }
   ],
   "source": [
    "from sklearn.metrics import roc_auc_score\n",
    "\n",
    "# calculate the probabilities on the test sample\n",
    "y_scores = clf.predict_proba(X_test)[:, 1]\n",
    "\n",
    "# calcualte AUC\n",
    "roc_auc_score(y_test, y_scores)"
   ]
  },
  {
   "cell_type": "markdown",
   "metadata": {},
   "source": [
    "Precision"
   ]
  },
  {
   "cell_type": "code",
   "execution_count": 120,
   "metadata": {},
   "outputs": [
    {
     "data": {
      "text/plain": [
       "0.04121246862460806"
      ]
     },
     "execution_count": 120,
     "metadata": {},
     "output_type": "execute_result"
    }
   ],
   "source": [
    "from sklearn.metrics import average_precision_score\n",
    "\n",
    "average_precision = average_precision_score(y_test, y_scores)\n",
    "\n",
    "average_precision"
   ]
  },
  {
   "cell_type": "code",
   "execution_count": 121,
   "metadata": {},
   "outputs": [
    {
     "name": "stdout",
     "output_type": "stream",
     "text": [
      "0.0137, 0.0134, 0.0151\n"
     ]
    }
   ],
   "source": [
    "print(f'{y_scores.mean():.4f}, {y_train.mean():.4f}, {y_test.mean():.4f}')\n",
    "\n",
    "#probabilities "
   ]
  },
  {
   "cell_type": "markdown",
   "metadata": {},
   "source": [
    "## Export results"
   ]
  },
  {
   "cell_type": "markdown",
   "metadata": {},
   "source": [
    "#### 1. Scored dataset (with all model attributes)"
   ]
  },
  {
   "cell_type": "code",
   "execution_count": 122,
   "metadata": {},
   "outputs": [
    {
     "data": {
      "text/html": [
       "<div>\n",
       "<style scoped>\n",
       "    .dataframe tbody tr th:only-of-type {\n",
       "        vertical-align: middle;\n",
       "    }\n",
       "\n",
       "    .dataframe tbody tr th {\n",
       "        vertical-align: top;\n",
       "    }\n",
       "\n",
       "    .dataframe thead th {\n",
       "        text-align: right;\n",
       "    }\n",
       "</style>\n",
       "<table border=\"1\" class=\"dataframe\">\n",
       "  <thead>\n",
       "    <tr style=\"text-align: right;\">\n",
       "      <th></th>\n",
       "      <th>customer_unique_id</th>\n",
       "      <th>order_recency</th>\n",
       "      <th>total_orders</th>\n",
       "      <th>order_dow_Friday</th>\n",
       "      <th>order_dow_Monday</th>\n",
       "      <th>order_dow_Saturday</th>\n",
       "      <th>order_dow_Sunday</th>\n",
       "      <th>order_dow_Thursday</th>\n",
       "      <th>order_dow_Tuesday</th>\n",
       "      <th>order_dow_Wednesday</th>\n",
       "      <th>purch</th>\n",
       "      <th>prob_to_purchase</th>\n",
       "    </tr>\n",
       "  </thead>\n",
       "  <tbody>\n",
       "    <tr>\n",
       "      <th>0</th>\n",
       "      <td>0000f46a3911fa3c0805444483337064</td>\n",
       "      <td>9</td>\n",
       "      <td>1</td>\n",
       "      <td>1</td>\n",
       "      <td>0</td>\n",
       "      <td>0</td>\n",
       "      <td>0</td>\n",
       "      <td>0</td>\n",
       "      <td>0</td>\n",
       "      <td>0</td>\n",
       "      <td>0</td>\n",
       "      <td>0.008913</td>\n",
       "    </tr>\n",
       "    <tr>\n",
       "      <th>1</th>\n",
       "      <td>0000f6ccb0745a6a4b88665a16c9f078</td>\n",
       "      <td>2</td>\n",
       "      <td>1</td>\n",
       "      <td>0</td>\n",
       "      <td>0</td>\n",
       "      <td>0</td>\n",
       "      <td>0</td>\n",
       "      <td>1</td>\n",
       "      <td>0</td>\n",
       "      <td>0</td>\n",
       "      <td>0</td>\n",
       "      <td>0.014726</td>\n",
       "    </tr>\n",
       "    <tr>\n",
       "      <th>2</th>\n",
       "      <td>0004aac84e0df4da2b147fca70cf8255</td>\n",
       "      <td>1</td>\n",
       "      <td>1</td>\n",
       "      <td>0</td>\n",
       "      <td>0</td>\n",
       "      <td>0</td>\n",
       "      <td>0</td>\n",
       "      <td>0</td>\n",
       "      <td>1</td>\n",
       "      <td>0</td>\n",
       "      <td>0</td>\n",
       "      <td>0.014688</td>\n",
       "    </tr>\n",
       "    <tr>\n",
       "      <th>3</th>\n",
       "      <td>0005e1862207bf6ccc02e4228effd9a0</td>\n",
       "      <td>10</td>\n",
       "      <td>1</td>\n",
       "      <td>0</td>\n",
       "      <td>0</td>\n",
       "      <td>1</td>\n",
       "      <td>0</td>\n",
       "      <td>0</td>\n",
       "      <td>0</td>\n",
       "      <td>0</td>\n",
       "      <td>0</td>\n",
       "      <td>0.008330</td>\n",
       "    </tr>\n",
       "    <tr>\n",
       "      <th>4</th>\n",
       "      <td>0006fdc98a402fceb4eb0ee528f6a8d4</td>\n",
       "      <td>5</td>\n",
       "      <td>1</td>\n",
       "      <td>0</td>\n",
       "      <td>0</td>\n",
       "      <td>0</td>\n",
       "      <td>0</td>\n",
       "      <td>0</td>\n",
       "      <td>1</td>\n",
       "      <td>0</td>\n",
       "      <td>0</td>\n",
       "      <td>0.011899</td>\n",
       "    </tr>\n",
       "  </tbody>\n",
       "</table>\n",
       "</div>"
      ],
      "text/plain": [
       "                 customer_unique_id  order_recency  total_orders  \\\n",
       "0  0000f46a3911fa3c0805444483337064              9             1   \n",
       "1  0000f6ccb0745a6a4b88665a16c9f078              2             1   \n",
       "2  0004aac84e0df4da2b147fca70cf8255              1             1   \n",
       "3  0005e1862207bf6ccc02e4228effd9a0             10             1   \n",
       "4  0006fdc98a402fceb4eb0ee528f6a8d4              5             1   \n",
       "\n",
       "   order_dow_Friday  order_dow_Monday  order_dow_Saturday  order_dow_Sunday  \\\n",
       "0                 1                 0                   0                 0   \n",
       "1                 0                 0                   0                 0   \n",
       "2                 0                 0                   0                 0   \n",
       "3                 0                 0                   1                 0   \n",
       "4                 0                 0                   0                 0   \n",
       "\n",
       "   order_dow_Thursday  order_dow_Tuesday  order_dow_Wednesday  purch  \\\n",
       "0                   0                  0                    0      0   \n",
       "1                   1                  0                    0      0   \n",
       "2                   0                  1                    0      0   \n",
       "3                   0                  0                    0      0   \n",
       "4                   0                  1                    0      0   \n",
       "\n",
       "   prob_to_purchase  \n",
       "0          0.008913  \n",
       "1          0.014726  \n",
       "2          0.014688  \n",
       "3          0.008330  \n",
       "4          0.011899  "
      ]
     },
     "execution_count": 122,
     "metadata": {},
     "output_type": "execute_result"
    }
   ],
   "source": [
    "scores_all = clf.predict_proba(df[preds])[:, 1] #makes probabilities append to end of df\n",
    "\n",
    "df['prob_to_purchase'] = scores_all\n",
    "\n",
    "df.head()"
   ]
  },
  {
   "cell_type": "code",
   "execution_count": 123,
   "metadata": {},
   "outputs": [],
   "source": [
    "csv_file_zipped = '../output/purch_model_scores.csv.gz'\n",
    "\n",
    "df.to_csv(csv_file_zipped, compression='gzip')"
   ]
  },
  {
   "cell_type": "markdown",
   "metadata": {},
   "source": [
    "#### 2. Export the model"
   ]
  },
  {
   "cell_type": "code",
   "execution_count": 124,
   "metadata": {},
   "outputs": [
    {
     "data": {
      "text/plain": [
       "['../output/purch_model.joblib']"
      ]
     },
     "execution_count": 124,
     "metadata": {},
     "output_type": "execute_result"
    }
   ],
   "source": [
    "import joblib\n",
    "\n",
    "model_pkl_file = '../output/purch_model.joblib'\n",
    "\n",
    "joblib.dump(clf, model_pkl_file)"
   ]
  },
  {
   "cell_type": "markdown",
   "metadata": {},
   "source": [
    "##### Load the model"
   ]
  },
  {
   "cell_type": "code",
   "execution_count": 125,
   "metadata": {},
   "outputs": [
    {
     "data": {
      "text/plain": [
       "LogisticRegression(random_state=314, solver='liblinear')"
      ]
     },
     "execution_count": 125,
     "metadata": {},
     "output_type": "execute_result"
    }
   ],
   "source": [
    "clf_loaded = joblib.load(model_pkl_file)\n",
    "\n",
    "clf_loaded"
   ]
  },
  {
   "cell_type": "code",
   "execution_count": 126,
   "metadata": {},
   "outputs": [
    {
     "data": {
      "text/plain": [
       "array([[0.98782292, 0.01217708],\n",
       "       [0.98677857, 0.01322143],\n",
       "       [0.98893089, 0.01106911],\n",
       "       ...,\n",
       "       [0.98640757, 0.01359243],\n",
       "       [0.98624843, 0.01375157],\n",
       "       [0.98531186, 0.01468814]])"
      ]
     },
     "execution_count": 126,
     "metadata": {},
     "output_type": "execute_result"
    }
   ],
   "source": [
    "# use the model to score a \"new\" data frame\n",
    "\n",
    "clf_loaded.predict_proba(X_test)"
   ]
  },
  {
   "cell_type": "markdown",
   "metadata": {},
   "source": [
    "# Oversampling"
   ]
  },
  {
   "cell_type": "code",
   "execution_count": 127,
   "metadata": {},
   "outputs": [
    {
     "data": {
      "text/plain": [
       "(1244, 12)"
      ]
     },
     "execution_count": 127,
     "metadata": {},
     "output_type": "execute_result"
    }
   ],
   "source": [
    "df_events = df[df['purch'] == 1]\n",
    "df_nonevents = df[df['purch'] == 0].sample(len(df_events)) #picks same number of events. \n",
    "\n",
    "df_os = pd.concat([df_events, df_nonevents])\n",
    "df_os.shape"
   ]
  },
  {
   "cell_type": "code",
   "execution_count": 128,
   "metadata": {},
   "outputs": [],
   "source": [
    "X_os = df_os[preds]\n",
    "y_os = df_os['purch']"
   ]
  },
  {
   "cell_type": "code",
   "execution_count": 129,
   "metadata": {},
   "outputs": [
    {
     "data": {
      "text/plain": [
       "LogisticRegression(random_state=314, solver='liblinear')"
      ]
     },
     "execution_count": 129,
     "metadata": {},
     "output_type": "execute_result"
    }
   ],
   "source": [
    "clf = LogisticRegression(solver='liblinear', random_state=314)\n",
    "\n",
    "# train (fit) the model using the over-sampled data\n",
    "clf.fit(X_os, y_os)"
   ]
  },
  {
   "cell_type": "code",
   "execution_count": 130,
   "metadata": {},
   "outputs": [],
   "source": [
    "y_preds = clf.predict(X)"
   ]
  },
  {
   "cell_type": "code",
   "execution_count": 131,
   "metadata": {},
   "outputs": [
    {
     "data": {
      "text/plain": [
       "0.5311920938851142"
      ]
     },
     "execution_count": 131,
     "metadata": {},
     "output_type": "execute_result"
    }
   ],
   "source": [
    "accuracy_score(y, y_preds)"
   ]
  },
  {
   "cell_type": "code",
   "execution_count": 132,
   "metadata": {},
   "outputs": [
    {
     "data": {
      "text/html": [
       "<div>\n",
       "<style scoped>\n",
       "    .dataframe tbody tr th:only-of-type {\n",
       "        vertical-align: middle;\n",
       "    }\n",
       "\n",
       "    .dataframe tbody tr th {\n",
       "        vertical-align: top;\n",
       "    }\n",
       "\n",
       "    .dataframe thead th {\n",
       "        text-align: right;\n",
       "    }\n",
       "</style>\n",
       "<table border=\"1\" class=\"dataframe\">\n",
       "  <thead>\n",
       "    <tr style=\"text-align: right;\">\n",
       "      <th>col_0</th>\n",
       "      <th>0</th>\n",
       "      <th>1</th>\n",
       "    </tr>\n",
       "    <tr>\n",
       "      <th>purch</th>\n",
       "      <th></th>\n",
       "      <th></th>\n",
       "    </tr>\n",
       "  </thead>\n",
       "  <tbody>\n",
       "    <tr>\n",
       "      <th>0</th>\n",
       "      <td>22892</td>\n",
       "      <td>20199</td>\n",
       "    </tr>\n",
       "    <tr>\n",
       "      <th>1</th>\n",
       "      <td>294</td>\n",
       "      <td>328</td>\n",
       "    </tr>\n",
       "  </tbody>\n",
       "</table>\n",
       "</div>"
      ],
      "text/plain": [
       "col_0      0      1\n",
       "purch              \n",
       "0      22892  20199\n",
       "1        294    328"
      ]
     },
     "execution_count": 132,
     "metadata": {},
     "output_type": "execute_result"
    }
   ],
   "source": [
    "pd.crosstab(y, y_preds)"
   ]
  },
  {
   "cell_type": "code",
   "execution_count": 133,
   "metadata": {},
   "outputs": [
    {
     "data": {
      "text/plain": [
       "0.5561643791151323"
      ]
     },
     "execution_count": 133,
     "metadata": {},
     "output_type": "execute_result"
    }
   ],
   "source": [
    "y_scores = clf.predict_proba(X)[:, 1]\n",
    "\n",
    "# calcualte AUC\n",
    "roc_auc_score(y, y_scores)"
   ]
  },
  {
   "cell_type": "markdown",
   "metadata": {},
   "source": [
    "Do you notice an issue with the way we validated this model?"
   ]
  },
  {
   "cell_type": "markdown",
   "metadata": {},
   "source": [
    "The training data above is a subset of the original dataset. And then we used the original dataset for model validation. This is likely to give us a biased sense of how well the model works on unseen data. The training and test set should be mutually exclusive."
   ]
  },
  {
   "cell_type": "code",
   "execution_count": 134,
   "metadata": {},
   "outputs": [
    {
     "data": {
      "text/plain": [
       "(622, 622)"
      ]
     },
     "execution_count": 134,
     "metadata": {},
     "output_type": "execute_result"
    }
   ],
   "source": [
    "X_train_os, X_test_os, y_train_os, y_test_os = \\\n",
    "    train_test_split(X_os, y_os, test_size=0.5, random_state=314)\n",
    "\n",
    "len(X_train_os), len(X_test_os)"
   ]
  },
  {
   "cell_type": "code",
   "execution_count": 135,
   "metadata": {},
   "outputs": [],
   "source": [
    "# train (fit) the model using the (oversampled) training sample\n",
    "clf.fit(X_train_os, y_train_os)\n",
    "\n",
    "# make predictions on the test sample\n",
    "y_preds_os = clf.predict(X_test_os)"
   ]
  },
  {
   "cell_type": "code",
   "execution_count": 136,
   "metadata": {},
   "outputs": [
    {
     "data": {
      "text/plain": [
       "0.5305466237942122"
      ]
     },
     "execution_count": 136,
     "metadata": {},
     "output_type": "execute_result"
    }
   ],
   "source": [
    "accuracy_score(y_test_os, y_preds_os)"
   ]
  },
  {
   "cell_type": "code",
   "execution_count": 137,
   "metadata": {},
   "outputs": [
    {
     "data": {
      "text/html": [
       "<div>\n",
       "<style scoped>\n",
       "    .dataframe tbody tr th:only-of-type {\n",
       "        vertical-align: middle;\n",
       "    }\n",
       "\n",
       "    .dataframe tbody tr th {\n",
       "        vertical-align: top;\n",
       "    }\n",
       "\n",
       "    .dataframe thead th {\n",
       "        text-align: right;\n",
       "    }\n",
       "</style>\n",
       "<table border=\"1\" class=\"dataframe\">\n",
       "  <thead>\n",
       "    <tr style=\"text-align: right;\">\n",
       "      <th>col_0</th>\n",
       "      <th>0</th>\n",
       "      <th>1</th>\n",
       "    </tr>\n",
       "    <tr>\n",
       "      <th>purch</th>\n",
       "      <th></th>\n",
       "      <th></th>\n",
       "    </tr>\n",
       "  </thead>\n",
       "  <tbody>\n",
       "    <tr>\n",
       "      <th>0</th>\n",
       "      <td>160</td>\n",
       "      <td>150</td>\n",
       "    </tr>\n",
       "    <tr>\n",
       "      <th>1</th>\n",
       "      <td>142</td>\n",
       "      <td>170</td>\n",
       "    </tr>\n",
       "  </tbody>\n",
       "</table>\n",
       "</div>"
      ],
      "text/plain": [
       "col_0    0    1\n",
       "purch          \n",
       "0      160  150\n",
       "1      142  170"
      ]
     },
     "execution_count": 137,
     "metadata": {},
     "output_type": "execute_result"
    }
   ],
   "source": [
    "pd.crosstab(y_test_os, y_preds_os)"
   ]
  },
  {
   "cell_type": "code",
   "execution_count": 138,
   "metadata": {},
   "outputs": [
    {
     "data": {
      "text/plain": [
       "0.5570978081058725"
      ]
     },
     "execution_count": 138,
     "metadata": {},
     "output_type": "execute_result"
    }
   ],
   "source": [
    "y_scores_os = clf.predict_proba(X_test_os)[:, 1]\n",
    "\n",
    "# calcualte AUC\n",
    "roc_auc_score(y_test_os, y_scores_os)"
   ]
  },
  {
   "cell_type": "code",
   "execution_count": 139,
   "metadata": {},
   "outputs": [
    {
     "data": {
      "text/plain": [
       "0.5040690772667682"
      ]
     },
     "execution_count": 139,
     "metadata": {},
     "output_type": "execute_result"
    }
   ],
   "source": [
    "y_scores_os.mean()"
   ]
  },
  {
   "cell_type": "markdown",
   "metadata": {},
   "source": [
    "Because we trained our model on a dataset with over-sampled events, the predicted probabilities here are aligned with the event:non-event proportion in the training set."
   ]
  },
  {
   "cell_type": "markdown",
   "metadata": {},
   "source": [
    "Instead of manually oversampling, we can use `class_weight` to achieve the same results."
   ]
  },
  {
   "cell_type": "code",
   "execution_count": 140,
   "metadata": {},
   "outputs": [
    {
     "data": {
      "text/plain": [
       "0.48599497977146083"
      ]
     },
     "execution_count": 140,
     "metadata": {},
     "output_type": "execute_result"
    }
   ],
   "source": [
    "clf = LogisticRegression(solver='liblinear', class_weight='balanced', random_state=314)\n",
    "\n",
    "clf.fit(X_train, y_train)\n",
    "\n",
    "clf.predict_proba(X_train)[:, 1].mean()"
   ]
  },
  {
   "cell_type": "code",
   "execution_count": 141,
   "metadata": {},
   "outputs": [
    {
     "data": {
      "text/plain": [
       "0.5504670667280414"
      ]
     },
     "execution_count": 141,
     "metadata": {},
     "output_type": "execute_result"
    }
   ],
   "source": [
    "y_scores = clf.predict_proba(X_test)[:, 1]\n",
    "\n",
    "# calcualte AUC\n",
    "roc_auc_score(y_test, y_scores)"
   ]
  },
  {
   "cell_type": "markdown",
   "metadata": {},
   "source": [
    "## _k_-fold Cross-validation"
   ]
  },
  {
   "cell_type": "markdown",
   "metadata": {},
   "source": [
    "We used 50% of the dataset as a test set. Since the number of events in this dataset is very small, this is an expensive thing to do. Ideally, we'd like to train the model with more events to make it more generalizable. We can use _k_-fold cross-validation to achieve this."
   ]
  },
  {
   "cell_type": "code",
   "execution_count": 142,
   "metadata": {},
   "outputs": [
    {
     "name": "stdout",
     "output_type": "stream",
     "text": [
      "[0.5610879255468232, 0.5252265681504092, 0.5330671425211482]\n"
     ]
    }
   ],
   "source": [
    "# let's use three folds\n",
    "k_folds = 3\n",
    "clf = LogisticRegression(solver='liblinear', class_weight='balanced', random_state=314)\n",
    "auc_scores = []\n",
    "\n",
    "for k in range(k_folds):\n",
    "    \n",
    "    X_train_k, X_test_k, y_train_k, y_test_k = \\\n",
    "        train_test_split(X, y, test_size=1/k_folds)\n",
    "\n",
    "    clf.fit(X_train_k, y_train_k)\n",
    "    \n",
    "    y_scores_k = clf.predict_proba(X_test_k)[:, 1]\n",
    "\n",
    "    # calcualte AUC\n",
    "    auc = roc_auc_score(y_test_k, y_scores_k)\n",
    "    \n",
    "    auc_scores.append(auc)\n",
    "    \n",
    "print(auc_scores)"
   ]
  },
  {
   "cell_type": "code",
   "execution_count": 143,
   "metadata": {},
   "outputs": [
    {
     "data": {
      "text/plain": [
       "0.5397938787394602"
      ]
     },
     "execution_count": 143,
     "metadata": {},
     "output_type": "execute_result"
    }
   ],
   "source": [
    "sum(auc_scores) / len(auc_scores)"
   ]
  },
  {
   "cell_type": "markdown",
   "metadata": {},
   "source": [
    "This shows us how well the model will work, on average, on unseen data."
   ]
  },
  {
   "cell_type": "markdown",
   "metadata": {},
   "source": [
    "__________________"
   ]
  },
  {
   "cell_type": "markdown",
   "metadata": {},
   "source": [
    "<img src=\"../misc/purch-model-process.png\" align=left width=750>"
   ]
  }
 ],
 "metadata": {
  "kernelspec": {
   "display_name": "Python 3",
   "language": "python",
   "name": "python3"
  },
  "language_info": {
   "codemirror_mode": {
    "name": "ipython",
    "version": 3
   },
   "file_extension": ".py",
   "mimetype": "text/x-python",
   "name": "python",
   "nbconvert_exporter": "python",
   "pygments_lexer": "ipython3",
   "version": "3.8.5"
  }
 },
 "nbformat": 4,
 "nbformat_minor": 2
}
