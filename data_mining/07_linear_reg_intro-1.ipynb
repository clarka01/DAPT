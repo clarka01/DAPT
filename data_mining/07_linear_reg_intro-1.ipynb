{
 "cells": [
  {
   "cell_type": "markdown",
   "metadata": {},
   "source": [
    "# An introduction to Linear Regression using Python"
   ]
  },
  {
   "cell_type": "markdown",
   "metadata": {},
   "source": [
    "### Import Packages"
   ]
  },
  {
   "cell_type": "code",
   "execution_count": 1,
   "metadata": {},
   "outputs": [],
   "source": [
    "# data processing\n",
    "import numpy as np\n",
    "import pandas as pd\n",
    "\n",
    "# modeling\n",
    "from sklearn import linear_model\n",
    "\n",
    "# plotting\n",
    "import matplotlib.pyplot as plt\n",
    "import seaborn as sns"
   ]
  },
  {
   "cell_type": "code",
   "execution_count": 2,
   "metadata": {},
   "outputs": [
    {
     "data": {
      "text/plain": [
       "(20, 2)"
      ]
     },
     "execution_count": 2,
     "metadata": {},
     "output_type": "execute_result"
    }
   ],
   "source": [
    "# let's simulate some data for this exercise\n",
    "\n",
    "def simulate_linreg_data(rows):\n",
    "    # set-up\n",
    "    n_samples = rows\n",
    "    np.random.seed(314)\n",
    "\n",
    "    def true_fun(X):\n",
    "        return -np.sin(2.2 * np.pi * X)\n",
    "\n",
    "    # generate data\n",
    "    x = np.sort(np.random.rand(n_samples))\n",
    "\n",
    "    y = true_fun(x) + np.random.randn(n_samples) * 0.1\n",
    "    \n",
    "    return pd.DataFrame({'x': x, 'y': y})\n",
    "\n",
    "df = simulate_linreg_data(20)\n",
    "\n",
    "df.shape"
   ]
  },
  {
   "cell_type": "code",
   "execution_count": 3,
   "metadata": {},
   "outputs": [
    {
     "data": {
      "text/html": [
       "<div>\n",
       "<style scoped>\n",
       "    .dataframe tbody tr th:only-of-type {\n",
       "        vertical-align: middle;\n",
       "    }\n",
       "\n",
       "    .dataframe tbody tr th {\n",
       "        vertical-align: top;\n",
       "    }\n",
       "\n",
       "    .dataframe thead th {\n",
       "        text-align: right;\n",
       "    }\n",
       "</style>\n",
       "<table border=\"1\" class=\"dataframe\">\n",
       "  <thead>\n",
       "    <tr style=\"text-align: right;\">\n",
       "      <th></th>\n",
       "      <th>x</th>\n",
       "      <th>y</th>\n",
       "    </tr>\n",
       "  </thead>\n",
       "  <tbody>\n",
       "    <tr>\n",
       "      <th>0</th>\n",
       "      <td>0.069914</td>\n",
       "      <td>-0.346400</td>\n",
       "    </tr>\n",
       "    <tr>\n",
       "      <th>1</th>\n",
       "      <td>0.122291</td>\n",
       "      <td>-0.636178</td>\n",
       "    </tr>\n",
       "    <tr>\n",
       "      <th>2</th>\n",
       "      <td>0.260480</td>\n",
       "      <td>-1.160382</td>\n",
       "    </tr>\n",
       "    <tr>\n",
       "      <th>3</th>\n",
       "      <td>0.260757</td>\n",
       "      <td>-1.036982</td>\n",
       "    </tr>\n",
       "    <tr>\n",
       "      <th>4</th>\n",
       "      <td>0.261531</td>\n",
       "      <td>-1.048191</td>\n",
       "    </tr>\n",
       "  </tbody>\n",
       "</table>\n",
       "</div>"
      ],
      "text/plain": [
       "          x         y\n",
       "0  0.069914 -0.346400\n",
       "1  0.122291 -0.636178\n",
       "2  0.260480 -1.160382\n",
       "3  0.260757 -1.036982\n",
       "4  0.261531 -1.048191"
      ]
     },
     "execution_count": 3,
     "metadata": {},
     "output_type": "execute_result"
    }
   ],
   "source": [
    "df.head()"
   ]
  },
  {
   "cell_type": "markdown",
   "metadata": {},
   "source": [
    "Plot the data."
   ]
  },
  {
   "cell_type": "code",
   "execution_count": 4,
   "metadata": {},
   "outputs": [
    {
     "data": {
      "image/png": "[encoded data removed]",
      "text/plain": [
       "<Figure size 864x648 with 1 Axes>"
      ]
     },
     "metadata": {},
     "output_type": "display_data"
    }
   ],
   "source": [
    "sns.set(style='darkgrid')\n",
    "\n",
    "plt.figure().set_size_inches(12, 9)\n",
    "\n",
    "plt.scatter(df.x, df.y, color='lightcoral', s=100)\n",
    "\n",
    "plt.xlabel('x', fontsize=14)\n",
    "plt.ylabel('y', fontsize=14)\n",
    "plt.title('Sample Data for Simple Linear Regression', fontsize=14, weight='semibold');"
   ]
  },
  {
   "cell_type": "markdown",
   "metadata": {},
   "source": [
    "### Correlation coefficient"
   ]
  },
  {
   "cell_type": "code",
   "execution_count": 5,
   "metadata": {},
   "outputs": [
    {
     "data": {
      "text/plain": [
       "array([[1.        , 0.67656828],\n",
       "       [0.67656828, 1.        ]])"
      ]
     },
     "execution_count": 5,
     "metadata": {},
     "output_type": "execute_result"
    }
   ],
   "source": [
    "# calculate the correlation coefficient using numpy\n",
    "\n",
    "np.corrcoef(df.x, df.y)"
   ]
  },
  {
   "cell_type": "code",
   "execution_count": 6,
   "metadata": {},
   "outputs": [
    {
     "name": "stdout",
     "output_type": "stream",
     "text": [
      "0.6765682759221\n"
     ]
    }
   ],
   "source": [
    "# grab the correlatino coefficient from the correlation matrix\n",
    "\n",
    "corr_coef = np.corrcoef(df.x, df.y)[1][0]\n",
    "\n",
    "print(corr_coef)"
   ]
  },
  {
   "cell_type": "markdown",
   "metadata": {},
   "source": [
    "Is this the same as the sumproduct of the standarized `x` and `y`?"
   ]
  },
  {
   "cell_type": "code",
   "execution_count": 7,
   "metadata": {},
   "outputs": [
    {
     "name": "stdout",
     "output_type": "stream",
     "text": [
      "Original means (x, y):\n",
      "0.55, 0.01\n",
      "\n",
      "Means after standardizing (x_std, y_std):\n",
      "-0.00, 0.00\n"
     ]
    }
   ],
   "source": [
    "# standardize x and y using numpy\n",
    "x_std = (df.x - np.mean(df.x)) / np.std(df.x)\n",
    "y_std = (df.y - np.mean(df.y)) / np.std(df.y)\n",
    "\n",
    "print(f'Original means (x, y):\\n{df.x.mean():0.2f}, {df.y.mean():0.2f}\\n')\n",
    "print(f'Means after standardizing (x_std, y_std):\\n{x_std.mean():.2f}, {y_std.mean():.2f}')"
   ]
  },
  {
   "cell_type": "code",
   "execution_count": 8,
   "metadata": {},
   "outputs": [
    {
     "name": "stdout",
     "output_type": "stream",
     "text": [
      "0.6765682759221\n"
     ]
    }
   ],
   "source": [
    "# take the sum product of standardized x and y, and divide by sample size\n",
    "\n",
    "print (np.dot(x_std, y_std) / df.shape[0])"
   ]
  },
  {
   "cell_type": "markdown",
   "metadata": {},
   "source": [
    "<img src=\"../misc/corr_coeff.png\" align=left width=300>"
   ]
  },
  {
   "cell_type": "markdown",
   "metadata": {},
   "source": [
    "## Simple Linear Regression"
   ]
  },
  {
   "cell_type": "markdown",
   "metadata": {},
   "source": [
    "Step 1: Create linear regression object."
   ]
  },
  {
   "cell_type": "code",
   "execution_count": 9,
   "metadata": {},
   "outputs": [],
   "source": [
    "linreg = linear_model.LinearRegression()"
   ]
  },
  {
   "cell_type": "markdown",
   "metadata": {},
   "source": [
    "Step 2: Fit the model."
   ]
  },
  {
   "cell_type": "code",
   "execution_count": 10,
   "metadata": {},
   "outputs": [
    {
     "data": {
      "text/plain": [
       "LinearRegression()"
      ]
     },
     "execution_count": 10,
     "metadata": {},
     "output_type": "execute_result"
    }
   ],
   "source": [
    "linreg.fit(df.x[:, np.newaxis], df.y)"
   ]
  },
  {
   "cell_type": "markdown",
   "metadata": {},
   "source": [
    "Intercept and regression coefficients."
   ]
  },
  {
   "cell_type": "code",
   "execution_count": 11,
   "metadata": {},
   "outputs": [
    {
     "name": "stdout",
     "output_type": "stream",
     "text": [
      "-0.9651642167052664 1.7755723445596452\n"
     ]
    }
   ],
   "source": [
    "print(linreg.intercept_, linreg.coef_[0])"
   ]
  },
  {
   "cell_type": "code",
   "execution_count": 12,
   "metadata": {},
   "outputs": [],
   "source": [
    "intercept = linreg.intercept_\n",
    "\n",
    "coeff = linreg.coef_[0]"
   ]
  },
  {
   "cell_type": "markdown",
   "metadata": {},
   "source": [
    "Step 3: Make predictions."
   ]
  },
  {
   "cell_type": "code",
   "execution_count": 13,
   "metadata": {},
   "outputs": [
    {
     "data": {
      "text/plain": [
       "array([-0.8410274 , -0.74802704, -0.50266238, -0.50217209, -0.50079676,\n",
       "       -0.49455276, -0.47123664, -0.27978346,  0.06685514,  0.07313017,\n",
       "        0.07983453,  0.15896776,  0.3273663 ,  0.39559186,  0.4254736 ,\n",
       "        0.50386446,  0.52646081,  0.65373766,  0.66281116,  0.66481308])"
      ]
     },
     "execution_count": 13,
     "metadata": {},
     "output_type": "execute_result"
    }
   ],
   "source": [
    "# we will make predictions on the same data that we used for training\n",
    "\n",
    "linreg.predict(df.x[:, np.newaxis])"
   ]
  },
  {
   "cell_type": "code",
   "execution_count": 14,
   "metadata": {},
   "outputs": [],
   "source": [
    "# save those predictions in a new variable\n",
    "\n",
    "y_hat = linreg.predict(df.x[:, np.newaxis])"
   ]
  },
  {
   "cell_type": "markdown",
   "metadata": {},
   "source": [
    "Plot the data with the regression line."
   ]
  },
  {
   "cell_type": "code",
   "execution_count": 15,
   "metadata": {},
   "outputs": [
    {
     "data": {
      "image/png": "[encoded data removed]",
      "text/plain": [
       "<Figure size 864x648 with 1 Axes>"
      ]
     },
     "metadata": {},
     "output_type": "display_data"
    }
   ],
   "source": [
    "sns.set(style='darkgrid')\n",
    "plt.figure().set_size_inches(12, 9)\n",
    "\n",
    "plt.scatter(df.x, df.y, color='lightcoral', s=100)\n",
    "\n",
    "plt.scatter(df.x, y_hat, color='crimson')\n",
    "plt.plot(df.x, linreg.predict(df.x[:, np.newaxis]), color='crimson', linewidth=3)\n",
    "\n",
    "plt.text(.28, 0, f'y = {intercept:.2f} + {coeff:.2f}*x', \n",
    "         fontsize=18, color='crimson', weight='semibold')\n",
    "\n",
    "plt.xlabel('x', fontsize=14)\n",
    "plt.ylabel('y', fontsize=14)\n",
    "plt.title('Simple Linear Regression', fontsize=14, weight='semibold')\n",
    "plt.show()"
   ]
  },
  {
   "cell_type": "markdown",
   "metadata": {},
   "source": [
    "### Regression Slope and Intercept"
   ]
  },
  {
   "cell_type": "markdown",
   "metadata": {},
   "source": [
    "We can manually calculate the regression slope and intercept using the correlation coefficient, the averages and standard deviations for `x` and `y`."
   ]
  },
  {
   "cell_type": "code",
   "execution_count": 16,
   "metadata": {},
   "outputs": [
    {
     "name": "stdout",
     "output_type": "stream",
     "text": [
      "1.7755723445596445\n"
     ]
    }
   ],
   "source": [
    "reg_slope = corr_coef * np.std(df.y) / np.std(df.x)\n",
    "\n",
    "print(reg_slope)"
   ]
  },
  {
   "cell_type": "code",
   "execution_count": 17,
   "metadata": {},
   "outputs": [
    {
     "name": "stdout",
     "output_type": "stream",
     "text": [
      "-0.9651642167052661\n"
     ]
    }
   ],
   "source": [
    "reg_intercept = df.y.mean() - reg_slope * df.x.mean()\n",
    "\n",
    "print(reg_intercept)"
   ]
  },
  {
   "cell_type": "markdown",
   "metadata": {},
   "source": [
    "<img src='../misc/reg_slope_and_intercept.png' align=left width=700>"
   ]
  },
  {
   "cell_type": "markdown",
   "metadata": {},
   "source": [
    "## Multiple Linear Regression"
   ]
  },
  {
   "cell_type": "markdown",
   "metadata": {},
   "source": [
    "#### Read the wine quality data and perform linear regression using all numeric features to predict the wine quality."
   ]
  },
  {
   "cell_type": "markdown",
   "metadata": {},
   "source": [
    "Step 1: Read data into a dataframe."
   ]
  },
  {
   "cell_type": "code",
   "execution_count": 18,
   "metadata": {},
   "outputs": [
    {
     "data": {
      "text/plain": [
       "(6497, 13)"
      ]
     },
     "execution_count": 18,
     "metadata": {},
     "output_type": "execute_result"
    }
   ],
   "source": [
    "df_wine = pd.read_csv(r'../data/winequality.csv', index_col=0)\n",
    "\n",
    "df_wine.shape"
   ]
  },
  {
   "cell_type": "markdown",
   "metadata": {},
   "source": [
    "Step 2: Check column types."
   ]
  },
  {
   "cell_type": "code",
   "execution_count": 19,
   "metadata": {},
   "outputs": [
    {
     "data": {
      "text/plain": [
       "fixed acidity           float64\n",
       "volatile acidity        float64\n",
       "citric acid             float64\n",
       "residual sugar          float64\n",
       "chlorides               float64\n",
       "free sulfur dioxide     float64\n",
       "total sulfur dioxide    float64\n",
       "density                 float64\n",
       "pH                      float64\n",
       "sulphates               float64\n",
       "alcohol                 float64\n",
       "quality                   int64\n",
       "wine type                object\n",
       "dtype: object"
      ]
     },
     "execution_count": 19,
     "metadata": {},
     "output_type": "execute_result"
    }
   ],
   "source": [
    "df_wine.dtypes"
   ]
  },
  {
   "cell_type": "markdown",
   "metadata": {},
   "source": [
    "Step 3: Isolate numeric columns. We will use all variables of type float as predictors in our model."
   ]
  },
  {
   "cell_type": "code",
   "execution_count": 20,
   "metadata": {},
   "outputs": [
    {
     "name": "stdout",
     "output_type": "stream",
     "text": [
      "Predictors: \n",
      " Index(['fixed acidity', 'volatile acidity', 'citric acid', 'residual sugar',\n",
      "       'chlorides', 'free sulfur dioxide', 'total sulfur dioxide', 'density',\n",
      "       'pH', 'sulphates', 'alcohol'],\n",
      "      dtype='object')\n"
     ]
    }
   ],
   "source": [
    "x_vars = df_wine.columns[df_wine.dtypes == 'float64']\n",
    "\n",
    "print(f'Predictors: \\n {x_vars}')"
   ]
  },
  {
   "cell_type": "markdown",
   "metadata": {},
   "source": [
    "Step 4: Create linear regression object."
   ]
  },
  {
   "cell_type": "code",
   "execution_count": 21,
   "metadata": {},
   "outputs": [],
   "source": [
    "linreg = linear_model.LinearRegression()"
   ]
  },
  {
   "cell_type": "markdown",
   "metadata": {},
   "source": [
    "Step 5: Fit a regression model using these predictors. Use `quality` as the target variable."
   ]
  },
  {
   "cell_type": "code",
   "execution_count": 22,
   "metadata": {},
   "outputs": [
    {
     "data": {
      "text/plain": [
       "LinearRegression()"
      ]
     },
     "execution_count": 22,
     "metadata": {},
     "output_type": "execute_result"
    }
   ],
   "source": [
    "X = df_wine[x_vars]\n",
    "y = df_wine.quality\n",
    "\n",
    "linreg.fit(X, y)"
   ]
  },
  {
   "cell_type": "markdown",
   "metadata": {},
   "source": [
    "Step 6: View (print) intercept and coefficient values."
   ]
  },
  {
   "cell_type": "code",
   "execution_count": 23,
   "metadata": {},
   "outputs": [
    {
     "data": {
      "text/plain": [
       "(55.76274961173735,\n",
       " array([ 6.76839156e-02, -1.32789221e+00, -1.09656648e-01,  4.35587507e-02,\n",
       "        -4.83713531e-01,  5.96988830e-03, -2.48129841e-03, -5.49669422e+01,\n",
       "         4.39296072e-01,  7.68251760e-01,  2.67030009e-01]))"
      ]
     },
     "execution_count": 23,
     "metadata": {},
     "output_type": "execute_result"
    }
   ],
   "source": [
    "linreg.intercept_, linreg.coef_"
   ]
  },
  {
   "cell_type": "markdown",
   "metadata": {},
   "source": [
    "Combine coefficients with the column names."
   ]
  },
  {
   "cell_type": "code",
   "execution_count": 24,
   "metadata": {},
   "outputs": [
    {
     "data": {
      "text/plain": [
       "[('fixed acidity', 0.06768391557153516),\n",
       " ('volatile acidity', -1.3278922111895095),\n",
       " ('citric acid', -0.10965664815793238),\n",
       " ('residual sugar', 0.04355875074070315),\n",
       " ('chlorides', -0.48371353068604117),\n",
       " ('free sulfur dioxide', 0.005969888299277128),\n",
       " ('total sulfur dioxide', -0.0024812984083657993),\n",
       " ('density', -54.96694221961977),\n",
       " ('pH', 0.43929607193865716),\n",
       " ('sulphates', 0.7682517601447575),\n",
       " ('alcohol', 0.2670300088387691)]"
      ]
     },
     "execution_count": 24,
     "metadata": {},
     "output_type": "execute_result"
    }
   ],
   "source": [
    "list(zip(x_vars, linreg.coef_))"
   ]
  },
  {
   "cell_type": "markdown",
   "metadata": {},
   "source": [
    "Create a dataframe and store the results (parameters and coefficients) into it."
   ]
  },
  {
   "cell_type": "code",
   "execution_count": 25,
   "metadata": {},
   "outputs": [
    {
     "data": {
      "text/html": [
       "<div>\n",
       "<style scoped>\n",
       "    .dataframe tbody tr th:only-of-type {\n",
       "        vertical-align: middle;\n",
       "    }\n",
       "\n",
       "    .dataframe tbody tr th {\n",
       "        vertical-align: top;\n",
       "    }\n",
       "\n",
       "    .dataframe thead th {\n",
       "        text-align: right;\n",
       "    }\n",
       "</style>\n",
       "<table border=\"1\" class=\"dataframe\">\n",
       "  <thead>\n",
       "    <tr style=\"text-align: right;\">\n",
       "      <th></th>\n",
       "      <th>feature</th>\n",
       "      <th>coeff</th>\n",
       "    </tr>\n",
       "  </thead>\n",
       "  <tbody>\n",
       "    <tr>\n",
       "      <th>0</th>\n",
       "      <td>fixed acidity</td>\n",
       "      <td>0.067684</td>\n",
       "    </tr>\n",
       "    <tr>\n",
       "      <th>1</th>\n",
       "      <td>volatile acidity</td>\n",
       "      <td>-1.327892</td>\n",
       "    </tr>\n",
       "    <tr>\n",
       "      <th>2</th>\n",
       "      <td>citric acid</td>\n",
       "      <td>-0.109657</td>\n",
       "    </tr>\n",
       "    <tr>\n",
       "      <th>3</th>\n",
       "      <td>residual sugar</td>\n",
       "      <td>0.043559</td>\n",
       "    </tr>\n",
       "    <tr>\n",
       "      <th>4</th>\n",
       "      <td>chlorides</td>\n",
       "      <td>-0.483714</td>\n",
       "    </tr>\n",
       "    <tr>\n",
       "      <th>5</th>\n",
       "      <td>free sulfur dioxide</td>\n",
       "      <td>0.005970</td>\n",
       "    </tr>\n",
       "    <tr>\n",
       "      <th>6</th>\n",
       "      <td>total sulfur dioxide</td>\n",
       "      <td>-0.002481</td>\n",
       "    </tr>\n",
       "    <tr>\n",
       "      <th>7</th>\n",
       "      <td>density</td>\n",
       "      <td>-54.966942</td>\n",
       "    </tr>\n",
       "    <tr>\n",
       "      <th>8</th>\n",
       "      <td>pH</td>\n",
       "      <td>0.439296</td>\n",
       "    </tr>\n",
       "    <tr>\n",
       "      <th>9</th>\n",
       "      <td>sulphates</td>\n",
       "      <td>0.768252</td>\n",
       "    </tr>\n",
       "    <tr>\n",
       "      <th>10</th>\n",
       "      <td>alcohol</td>\n",
       "      <td>0.267030</td>\n",
       "    </tr>\n",
       "  </tbody>\n",
       "</table>\n",
       "</div>"
      ],
      "text/plain": [
       "                 feature      coeff\n",
       "0          fixed acidity   0.067684\n",
       "1       volatile acidity  -1.327892\n",
       "2            citric acid  -0.109657\n",
       "3         residual sugar   0.043559\n",
       "4              chlorides  -0.483714\n",
       "5    free sulfur dioxide   0.005970\n",
       "6   total sulfur dioxide  -0.002481\n",
       "7                density -54.966942\n",
       "8                     pH   0.439296\n",
       "9              sulphates   0.768252\n",
       "10               alcohol   0.267030"
      ]
     },
     "execution_count": 25,
     "metadata": {},
     "output_type": "execute_result"
    }
   ],
   "source": [
    "df_coeff = pd.DataFrame(columns=['feature', 'coeff'])\n",
    "\n",
    "df_coeff['feature'] = x_vars\n",
    "df_coeff['coeff'] = linreg.coef_\n",
    "\n",
    "df_coeff"
   ]
  },
  {
   "cell_type": "markdown",
   "metadata": {},
   "source": [
    "_Note: All of these features have different means and variances. In order to compare the coefficients across features, we must either standardize the data first or calculate standardized coefficients._"
   ]
  },
  {
   "cell_type": "markdown",
   "metadata": {},
   "source": [
    "Step 7: Make predictions and store them in the same dataframe (as a new column)."
   ]
  },
  {
   "cell_type": "code",
   "execution_count": 26,
   "metadata": {},
   "outputs": [
    {
     "data": {
      "text/html": [
       "<div>\n",
       "<style scoped>\n",
       "    .dataframe tbody tr th:only-of-type {\n",
       "        vertical-align: middle;\n",
       "    }\n",
       "\n",
       "    .dataframe tbody tr th {\n",
       "        vertical-align: top;\n",
       "    }\n",
       "\n",
       "    .dataframe thead th {\n",
       "        text-align: right;\n",
       "    }\n",
       "</style>\n",
       "<table border=\"1\" class=\"dataframe\">\n",
       "  <thead>\n",
       "    <tr style=\"text-align: right;\">\n",
       "      <th></th>\n",
       "      <th>quality</th>\n",
       "      <th>preds</th>\n",
       "    </tr>\n",
       "  </thead>\n",
       "  <tbody>\n",
       "    <tr>\n",
       "      <th>0</th>\n",
       "      <td>6</td>\n",
       "      <td>5.556809</td>\n",
       "    </tr>\n",
       "    <tr>\n",
       "      <th>1</th>\n",
       "      <td>6</td>\n",
       "      <td>5.281311</td>\n",
       "    </tr>\n",
       "    <tr>\n",
       "      <th>2</th>\n",
       "      <td>6</td>\n",
       "      <td>5.879632</td>\n",
       "    </tr>\n",
       "    <tr>\n",
       "      <th>3</th>\n",
       "      <td>6</td>\n",
       "      <td>5.697990</td>\n",
       "    </tr>\n",
       "    <tr>\n",
       "      <th>4</th>\n",
       "      <td>6</td>\n",
       "      <td>5.697990</td>\n",
       "    </tr>\n",
       "    <tr>\n",
       "      <th>5</th>\n",
       "      <td>6</td>\n",
       "      <td>5.879632</td>\n",
       "    </tr>\n",
       "    <tr>\n",
       "      <th>6</th>\n",
       "      <td>6</td>\n",
       "      <td>5.499621</td>\n",
       "    </tr>\n",
       "    <tr>\n",
       "      <th>7</th>\n",
       "      <td>6</td>\n",
       "      <td>5.556809</td>\n",
       "    </tr>\n",
       "    <tr>\n",
       "      <th>8</th>\n",
       "      <td>6</td>\n",
       "      <td>5.281311</td>\n",
       "    </tr>\n",
       "    <tr>\n",
       "      <th>9</th>\n",
       "      <td>6</td>\n",
       "      <td>5.934254</td>\n",
       "    </tr>\n",
       "  </tbody>\n",
       "</table>\n",
       "</div>"
      ],
      "text/plain": [
       "   quality     preds\n",
       "0        6  5.556809\n",
       "1        6  5.281311\n",
       "2        6  5.879632\n",
       "3        6  5.697990\n",
       "4        6  5.697990\n",
       "5        6  5.879632\n",
       "6        6  5.499621\n",
       "7        6  5.556809\n",
       "8        6  5.281311\n",
       "9        6  5.934254"
      ]
     },
     "execution_count": 26,
     "metadata": {},
     "output_type": "execute_result"
    }
   ],
   "source": [
    "df_wine['preds'] = linreg.predict(X)\n",
    "\n",
    "df_wine[['quality', 'preds']].head(10)"
   ]
  },
  {
   "cell_type": "markdown",
   "metadata": {},
   "source": [
    "Step 8: Plot the actuals (wine quality) versus residuals."
   ]
  },
  {
   "cell_type": "code",
   "execution_count": 27,
   "metadata": {},
   "outputs": [
    {
     "data": {
      "image/png": "[encoded data removed]",
      "text/plain": [
       "<Figure size 864x648 with 1 Axes>"
      ]
     },
     "metadata": {},
     "output_type": "display_data"
    }
   ],
   "source": [
    "sns.set(style='whitegrid')\n",
    "plt.figure().set_size_inches(12, 9)\n",
    "\n",
    "plt.scatter(df_wine.quality, df_wine.preds, color='olive', s=100, alpha=0.2)\n",
    "\n",
    "plt.xlabel('x', fontsize=14)\n",
    "plt.ylabel('y', fontsize=14)\n",
    "\n",
    "plt.xlim([2, 10])\n",
    "plt.ylim([2, 10])\n",
    "\n",
    "plt.xlabel('Wine Quality: Actual', fontsize=12, weight='semibold')\n",
    "plt.ylabel('Wine Quality: Predicted', fontsize=12, weight='semibold')\n",
    "plt.title('Wine Quality Model: Actuals vs. Predicted', fontsize=14, weight='semibold')\n",
    "plt.show();"
   ]
  },
  {
   "cell_type": "markdown",
   "metadata": {},
   "source": [
    "Coefficient of determination: R squared"
   ]
  },
  {
   "cell_type": "code",
   "execution_count": 28,
   "metadata": {},
   "outputs": [
    {
     "data": {
      "text/plain": [
       "0.29213688504020474"
      ]
     },
     "execution_count": 28,
     "metadata": {},
     "output_type": "execute_result"
    }
   ],
   "source": [
    "from sklearn.metrics import r2_score\n",
    "\n",
    "r2 = r2_score(df_wine.quality, df_wine.preds)\n",
    "\n",
    "r2"
   ]
  },
  {
   "cell_type": "markdown",
   "metadata": {},
   "source": [
    "Adjusted R squared"
   ]
  },
  {
   "cell_type": "code",
   "execution_count": 29,
   "metadata": {},
   "outputs": [
    {
     "data": {
      "text/plain": [
       "0.2906080230208531"
      ]
     },
     "execution_count": 29,
     "metadata": {},
     "output_type": "execute_result"
    }
   ],
   "source": [
    "n, p = df_wine.shape[0], df_wine.shape[1]\n",
    "\n",
    "adj_r2 = 1 - (1 - r2) * (n - 1) / (n - p - 1)\n",
    "\n",
    "adj_r2"
   ]
  },
  {
   "cell_type": "markdown",
   "metadata": {},
   "source": [
    "Mean Squared Error (MSE)"
   ]
  },
  {
   "cell_type": "code",
   "execution_count": 30,
   "metadata": {},
   "outputs": [
    {
     "data": {
      "text/plain": [
       "0.5397154672783371"
      ]
     },
     "execution_count": 30,
     "metadata": {},
     "output_type": "execute_result"
    }
   ],
   "source": [
    "from sklearn.metrics import mean_squared_error\n",
    "\n",
    "mean_squared_error(df_wine.quality, df_wine.preds)"
   ]
  },
  {
   "cell_type": "markdown",
   "metadata": {},
   "source": [
    "## Forward selection"
   ]
  },
  {
   "cell_type": "code",
   "execution_count": 31,
   "metadata": {},
   "outputs": [
    {
     "data": {
      "text/plain": [
       "['alcohol',\n",
       " 'citric acid',\n",
       " 'free sulfur dioxide',\n",
       " 'sulphates',\n",
       " 'pH',\n",
       " 'residual sugar',\n",
       " 'total sulfur dioxide',\n",
       " 'fixed acidity',\n",
       " 'chlorides',\n",
       " 'volatile acidity',\n",
       " 'density']"
      ]
     },
     "execution_count": 31,
     "metadata": {},
     "output_type": "execute_result"
    }
   ],
   "source": [
    "corr = []\n",
    "for x in x_vars:\n",
    "    corr.append(df_wine[x].corr(df_wine['quality']))\n",
    "\n",
    "sorted_vars = [x for _, x in sorted(zip(corr, x_vars), reverse=True)]\n",
    "\n",
    "sorted_vars"
   ]
  },
  {
   "cell_type": "code",
   "execution_count": 34,
   "metadata": {},
   "outputs": [
    {
     "name": "stdout",
     "output_type": "stream",
     "text": [
      "Model with 1 predictors\n",
      "\tMSE: 0.612, Adj. R-squared: 0.196\n",
      "Model with 2 predictors\n",
      "\tMSE: 0.606, Adj. R-squared: 0.204\n",
      "Model with 3 predictors\n",
      "\tMSE: 0.593, Adj. R-squared: 0.220\n",
      "Model with 4 predictors\n",
      "\tMSE: 0.591, Adj. R-squared: 0.224\n",
      "Model with 5 predictors\n",
      "\tMSE: 0.591, Adj. R-squared: 0.224\n",
      "Model with 6 predictors\n",
      "\tMSE: 0.584, Adj. R-squared: 0.232\n",
      "Model with 7 predictors\n",
      "\tMSE: 0.583, Adj. R-squared: 0.234\n",
      "Model with 8 predictors\n",
      "\tMSE: 0.581, Adj. R-squared: 0.236\n",
      "Model with 9 predictors\n",
      "\tMSE: 0.575, Adj. R-squared: 0.244\n",
      "Model with 10 predictors\n",
      "\tMSE: 0.541, Adj. R-squared: 0.288\n",
      "Model with 11 predictors\n",
      "\tMSE: 0.540, Adj. R-squared: 0.291\n"
     ]
    }
   ],
   "source": [
    "for i in range(len(sorted_vars)):\n",
    "    _x_vars = sorted_vars[:i+1]\n",
    "    X = df_wine[_x_vars]\n",
    "    print(f'Model with {i+1} predictors')\n",
    "    \n",
    "    _preds = linreg.fit(X, y).predict(X)\n",
    "    \n",
    "    _adj_r2 = 1 - (1 - r2_score(df_wine.quality, _preds)) * (n - 1) / (n - p - 1)\n",
    "    \n",
    "    print(f'\\tMSE: {mean_squared_error(y, _preds):.3f}, Adj. R-squared: {_adj_r2:.3f}')"
   ]
  },
  {
   "cell_type": "markdown",
   "metadata": {},
   "source": [
    "For this dataset, it looks like including all available variables as predictors makes sense because both MSE and Adj. R-squared values continue to increase as we add more predictors in the model. However, if you had more variables, you might see that there are diminishing returns in model accuracy metrics after a certain point. This would help determining when to stop adding more predictors in the model (aka feature selection)."
   ]
  }
 ],
 "metadata": {
  "kernelspec": {
   "display_name": "Python 3",
   "language": "python",
   "name": "python3"
  },
  "language_info": {
   "codemirror_mode": {
    "name": "ipython",
    "version": 3
   },
   "file_extension": ".py",
   "mimetype": "text/x-python",
   "name": "python",
   "nbconvert_exporter": "python",
   "pygments_lexer": "ipython3",
   "version": "3.8.3"
  }
 },
 "nbformat": 4,
 "nbformat_minor": 2
}
