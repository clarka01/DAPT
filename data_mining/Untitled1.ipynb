{
 "cells": [
  {
   "cell_type": "code",
   "execution_count": 27,
   "metadata": {},
   "outputs": [
    {
     "name": "stdout",
     "output_type": "stream",
     "text": [
      "Aastha Score:0, Bindhya Score:0, Brie Score:0\n",
      "Skynet chooses: Brie\n",
      "Aastha Score:0, Bindhya Score:0, Brie Score:1\n",
      "Skynet chooses: Aastha\n",
      "Aastha Score:1, Bindhya Score:0, Brie Score:1\n",
      "Skynet chooses: Brie\n",
      "Aastha Score:1, Bindhya Score:0, Brie Score:2\n",
      "Skynet chooses: Aastha\n",
      "Aastha Score:2, Bindhya Score:0, Brie Score:2\n",
      "Skynet chooses: Aastha\n",
      "Aastha Score:3, Bindhya Score:0, Brie Score:2\n",
      "Skynet chooses: Aastha\n",
      "Aastha Score:4, Bindhya Score:0, Brie Score:2\n",
      "Skynet chooses: Bindhya\n",
      "Aastha Score:4, Bindhya Score:1, Brie Score:2\n",
      "Skynet chooses: Aastha\n",
      "congrats, Skynet picked Aastha\n"
     ]
    }
   ],
   "source": [
    "#first to 5 wins...\n",
    "\n",
    "from random import randint\n",
    "\n",
    "Aastha = 0\n",
    "Bindhya = 0\n",
    "Brie = 0\n",
    "final_score = 5\n",
    "\n",
    "while Aastha < final_score and Bindhya < final_score and Brie < final_score:\n",
    "    print(f'Aastha Score:{Aastha}, Bindhya Score:{Bindhya}, Brie Score:{Brie}')\n",
    "\n",
    "    assignment_topic = ['Aastha', 'Bindhya', 'Brie']\n",
    "\n",
    "    paper = random.choice(assignment_topic)\n",
    "\n",
    "    if paper == \"Aastha\":\n",
    "        Aastha +=1\n",
    "    if paper == \"Bindhya\":\n",
    "        Bindhya +=1\n",
    "    if paper == \"Brie\":\n",
    "        Brie +=1\n",
    "    print(f'Skynet chooses: {paper}')\n",
    "        \n",
    "if Aastha == final_score or Bindhya == final_score or Brie == final_score: \n",
    "\tprint(f'congrats, Skynet picked {paper}')"
   ]
  },
  {
   "cell_type": "code",
   "execution_count": 28,
   "metadata": {},
   "outputs": [
    {
     "name": "stdout",
     "output_type": "stream",
     "text": [
      "Aastha Score:0, Bindhya Score:0, Brie Score:0\n",
      "Skynet chooses: Bindhya\n",
      "Aastha Score:0, Bindhya Score:1, Brie Score:0\n",
      "Skynet chooses: Aastha\n",
      "Aastha Score:1, Bindhya Score:1, Brie Score:0\n",
      "Skynet chooses: Bindhya\n",
      "Aastha Score:1, Bindhya Score:2, Brie Score:0\n",
      "Skynet chooses: Aastha\n",
      "Aastha Score:2, Bindhya Score:2, Brie Score:0\n",
      "Skynet chooses: Aastha\n",
      "Aastha Score:3, Bindhya Score:2, Brie Score:0\n",
      "Skynet chooses: Bindhya\n",
      "Aastha Score:3, Bindhya Score:3, Brie Score:0\n",
      "Skynet chooses: Aastha\n",
      "Aastha Score:4, Bindhya Score:3, Brie Score:0\n",
      "Skynet chooses: Brie\n",
      "Aastha Score:4, Bindhya Score:3, Brie Score:1\n",
      "Skynet chooses: Bindhya\n",
      "Aastha Score:4, Bindhya Score:4, Brie Score:1\n",
      "Skynet chooses: Brie\n",
      "Aastha Score:4, Bindhya Score:4, Brie Score:2\n",
      "Skynet chooses: Aastha\n",
      "congrats, Skynet picked Aastha\n"
     ]
    }
   ],
   "source": [
    "#first to 5 wins...\n",
    "\n",
    "from random import randint\n",
    "\n",
    "Aastha = 0\n",
    "Bindhya = 0\n",
    "Brie = 0\n",
    "final_score = 5\n",
    "\n",
    "while Aastha < final_score and Bindhya < final_score and Brie < final_score:\n",
    "    print(f'Aastha Score:{Aastha}, Bindhya Score:{Bindhya}, Brie Score:{Brie}')\n",
    "\n",
    "    assignment_topic = ['Aastha', 'Bindhya', 'Brie']\n",
    "\n",
    "    paper = random.choice(assignment_topic)\n",
    "\n",
    "    if paper == \"Aastha\":\n",
    "        Aastha +=1\n",
    "    if paper == \"Bindhya\":\n",
    "        Bindhya +=1\n",
    "    if paper == \"Brie\":\n",
    "        Brie +=1\n",
    "    print(f'Skynet chooses: {paper}')\n",
    "        \n",
    "if Aastha == final_score or Bindhya == final_score or Brie == final_score: \n",
    "\tprint(f'congrats, Skynet picked {paper}')"
   ]
  },
  {
   "cell_type": "code",
   "execution_count": null,
   "metadata": {},
   "outputs": [],
   "source": []
  }
 ],
 "metadata": {
  "kernelspec": {
   "display_name": "Python 3",
   "language": "python",
   "name": "python3"
  },
  "language_info": {
   "codemirror_mode": {
    "name": "ipython",
    "version": 3
   },
   "file_extension": ".py",
   "mimetype": "text/x-python",
   "name": "python",
   "nbconvert_exporter": "python",
   "pygments_lexer": "ipython3",
   "version": "3.8.5"
  }
 },
 "nbformat": 4,
 "nbformat_minor": 4
}
