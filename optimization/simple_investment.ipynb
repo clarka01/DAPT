{
 "cells": [
  {
   "cell_type": "markdown",
   "metadata": {},
   "source": [
    "# Simple Investment"
   ]
  },
  {
   "cell_type": "markdown",
   "metadata": {},
   "source": [
    "Load libraries."
   ]
  },
  {
   "cell_type": "code",
   "execution_count": null,
   "metadata": {},
   "outputs": [],
   "source": [
    "from pyomo.environ import *\n",
    "from brooks import *\n",
    "import pandas as pd"
   ]
  },
  {
   "cell_type": "markdown",
   "metadata": {},
   "source": [
    "Read data with pandas."
   ]
  },
  {
   "cell_type": "code",
   "execution_count": null,
   "metadata": {},
   "outputs": [],
   "source": [
    "simple_inv_data = pd.read_excel(\"optimization_data_for_python.xlsx\",\n",
    "                               sheet_name=\"SimplInv\",\n",
    "                               index_col=0)\n",
    "L = list(simple_inv_data)\n",
    "interest = dict(zip(L, simple_inv_data.loc['Interest_rate']))\n",
    "bad = dict(zip(L, simple_inv_data.loc['Bad_debt_ratio']))\n",
    "total_limit = 12\n",
    "pct_FC = 0.4\n",
    "pct_H = 0.5\n",
    "pct_bad = 0.04"
   ]
  },
  {
   "cell_type": "markdown",
   "metadata": {},
   "source": [
    "Declare a model object."
   ]
  },
  {
   "cell_type": "code",
   "execution_count": null,
   "metadata": {},
   "outputs": [],
   "source": [
    "model = Model()"
   ]
  },
  {
   "cell_type": "markdown",
   "metadata": {},
   "source": [
    "Declare nonnegative variables for each loan type."
   ]
  },
  {
   "cell_type": "code",
   "execution_count": null,
   "metadata": {},
   "outputs": [],
   "source": [
    "if hasattr(model, 'x'):\n",
    "    model.delete(model.x)\n",
    "model.x = Var(L, domain=NonNegativeReals)"
   ]
  },
  {
   "cell_type": "markdown",
   "metadata": {},
   "source": [
    "Define the objective function."
   ]
  },
  {
   "cell_type": "code",
   "execution_count": null,
   "metadata": {},
   "outputs": [],
   "source": [
    "if hasattr(model, 'profit_objective'):\n",
    "    model.delete(model.profit_objective)\n",
    "model.profit_objective = (\n",
    "    Objective(expr = sum(interest[i]*(1-bad[i])*model.x[i] - bad[i]*model.x[i] for i in L), \n",
    "              sense=maximize\n",
    "             )\n",
    ")"
   ]
  },
  {
   "cell_type": "markdown",
   "metadata": {},
   "source": [
    "Specify the budget constraint. "
   ]
  },
  {
   "cell_type": "code",
   "execution_count": null,
   "metadata": {},
   "outputs": [],
   "source": [
    "if hasattr(model, 'total_investment'):\n",
    "    model.delete(model.total_investment)\n",
    "model.total_investment = Constraint(expr = sum(model.x[i] for i in L) <= total_limit)"
   ]
  },
  {
   "cell_type": "markdown",
   "metadata": {},
   "source": [
    "Specify the constraint on farm and commercial investment."
   ]
  },
  {
   "cell_type": "code",
   "execution_count": null,
   "metadata": {},
   "outputs": [],
   "source": [
    "if hasattr(model, 'fc_constraint'):\n",
    "    model.delete(model.fc_constraint)\n",
    "model.fc_constraint = (\n",
    "    Constraint(expr = model.x['Farm'] + model.x['Commercial'] \n",
    "                        >= pct_FC * sum(model.x[i] for i in L) \n",
    "              )\n",
    ")"
   ]
  },
  {
   "cell_type": "markdown",
   "metadata": {},
   "source": [
    "Specify the constraint on home investment as a percentage of personal, car, and home investment."
   ]
  },
  {
   "cell_type": "code",
   "execution_count": null,
   "metadata": {},
   "outputs": [],
   "source": [
    "if hasattr(model, 'h_constraint'):\n",
    "    model.delete(model.h_constraint)\n",
    "model.h_constraint = (\n",
    "    Constraint(expr = model.x['Home'] \n",
    "                        >= pct_H * (model.x['Personal'] \n",
    "                                 + model.x['Car'] \n",
    "                                 + model.x['Home'])\n",
    "              )\n",
    ")"
   ]
  },
  {
   "cell_type": "markdown",
   "metadata": {},
   "source": [
    "Specify constraint on bad debt."
   ]
  },
  {
   "cell_type": "code",
   "execution_count": null,
   "metadata": {},
   "outputs": [],
   "source": [
    "if hasattr(model, 'bad_constraint'):\n",
    "    model.delete(model.bad_constraint)\n",
    "model.bad_constraint = (\n",
    "    Constraint(expr = sum(bad[i]*model.x[i] for i in L)\n",
    "                        <= pct_bad * sum(model.x[i] for i in L)\n",
    "              )\n",
    ")"
   ]
  },
  {
   "cell_type": "markdown",
   "metadata": {},
   "source": [
    "Check 'written-out' formulation."
   ]
  },
  {
   "cell_type": "code",
   "execution_count": null,
   "metadata": {},
   "outputs": [],
   "source": [
    "model.pprint()"
   ]
  },
  {
   "cell_type": "code",
   "execution_count": null,
   "metadata": {},
   "outputs": [],
   "source": [
    "solver = SolverFactory('glpk')\n",
    "status = solver.solve(model)"
   ]
  },
  {
   "cell_type": "markdown",
   "metadata": {},
   "source": [
    "Get status."
   ]
  },
  {
   "cell_type": "code",
   "execution_count": null,
   "metadata": {},
   "outputs": [],
   "source": [
    "print('Status = %s' % status)"
   ]
  },
  {
   "cell_type": "markdown",
   "metadata": {},
   "source": [
    "Get solution and objective function value."
   ]
  },
  {
   "cell_type": "code",
   "execution_count": null,
   "metadata": {},
   "outputs": [],
   "source": [
    "for i in L:\n",
    "    print('%s = %f' % (model.x[i], value(model.x[i])))\n",
    "print(\"Objective = %f\" % value(model.profit_objective))"
   ]
  },
  {
   "cell_type": "markdown",
   "metadata": {},
   "source": [
    "The optimal solution is to invest \\\\$7.2 million in home and \\\\$4.8 million in commercial for a profit of \\\\$996,480."
   ]
  }
 ],
 "metadata": {
  "kernelspec": {
   "display_name": "Python 3",
   "language": "python",
   "name": "python3"
  },
  "language_info": {
   "codemirror_mode": {
    "name": "ipython",
    "version": 3
   },
   "file_extension": ".py",
   "mimetype": "text/x-python",
   "name": "python",
   "nbconvert_exporter": "python",
   "pygments_lexer": "ipython3",
   "version": "3.7.7"
  }
 },
 "nbformat": 4,
 "nbformat_minor": 4
}
