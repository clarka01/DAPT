{
 "cells": [
  {
   "cell_type": "markdown",
   "metadata": {},
   "source": [
    "Import Pyomo and course code."
   ]
  },
  {
   "cell_type": "code",
   "execution_count": 1,
   "metadata": {},
   "outputs": [],
   "source": [
    "from pyomo.environ import *\n",
    "from brooks import *"
   ]
  },
  {
   "cell_type": "markdown",
   "metadata": {},
   "source": [
    "\n",
    "Define data."
   ]
  },
  {
   "cell_type": "code",
   "execution_count": 2,
   "metadata": {},
   "outputs": [],
   "source": [
    "L = ['peach', 'raspberry']\n",
    "profit = {'peach': 8, 'raspberry': 12}\n",
    "sugar_req = {'peach': 4, 'raspberry': 3}\n",
    "juice_req = {'peach': 1, 'raspberry': 2}\n",
    "demand = {'peach': 4, 'raspberry': 2}\n",
    "juice_avail = 5\n",
    "sugar_avail =12 "
   ]
  },
  {
   "cell_type": "markdown",
   "metadata": {},
   "source": [
    "Declare a model object."
   ]
  },
  {
   "cell_type": "code",
   "execution_count": 3,
   "metadata": {},
   "outputs": [],
   "source": [
    "model = Model()"
   ]
  },
  {
   "cell_type": "markdown",
   "metadata": {},
   "source": [
    "Declare nonnegative variables for peach and raspberry lemonade."
   ]
  },
  {
   "cell_type": "code",
   "execution_count": 4,
   "metadata": {},
   "outputs": [],
   "source": [
    "if hasattr(model,'x'):\n",
    "    model.delete(model.x)\n",
    "model.x = Var(L, domain=NonNegativeReals)"
   ]
  },
  {
   "cell_type": "markdown",
   "metadata": {},
   "source": [
    "Define the objective function."
   ]
  },
  {
   "cell_type": "code",
   "execution_count": 5,
   "metadata": {
    "scrolled": true
   },
   "outputs": [],
   "source": [
    "if hasattr(model, 'profit_objective'):\n",
    "    model.delete(model.profit_objective)\n",
    "model.profit_objective = Objective(expr = sum(profit[i]*model.x[i] for i in L), sense=maximize)"
   ]
  },
  {
   "cell_type": "markdown",
   "metadata": {},
   "source": [
    "Specify the juice constraint. "
   ]
  },
  {
   "cell_type": "code",
   "execution_count": 6,
   "metadata": {},
   "outputs": [],
   "source": [
    "if hasattr(model, 'juice_constraint'):\n",
    "    model.delete(model.juice_constraint)\n",
    "model.juice_constraint = Constraint(expr = sum(juice_req[i]*model.x[i] for i in L) <= juice_avail)"
   ]
  },
  {
   "cell_type": "markdown",
   "metadata": {},
   "source": [
    "Specify the sugar constraint."
   ]
  },
  {
   "cell_type": "code",
   "execution_count": 7,
   "metadata": {},
   "outputs": [],
   "source": [
    "if hasattr(model, 'sugar_constraint'):\n",
    "    model.delete(model.sugar_constraint)\n",
    "model.sugar_constraint = Constraint(expr = sum(sugar_req[i]*model.x[i] for i in L) <= sugar_avail)"
   ]
  },
  {
   "cell_type": "code",
   "execution_count": 8,
   "metadata": {},
   "outputs": [
    {
     "name": "stdout",
     "output_type": "stream",
     "text": [
      "1 Set Declarations\n",
      "    x_index : Size=1, Index=None, Ordered=Insertion\n",
      "        Key  : Dimen : Domain : Size : Members\n",
      "        None :     1 :    Any :    2 : {'peach', 'raspberry'}\n",
      "\n",
      "1 Var Declarations\n",
      "    x : Size=2, Index=x_index\n",
      "        Key       : Lower : Value : Upper : Fixed : Stale : Domain\n",
      "            peach :     0 :  None :  None : False :  True : NonNegativeReals\n",
      "        raspberry :     0 :  None :  None : False :  True : NonNegativeReals\n",
      "\n",
      "1 Objective Declarations\n",
      "    profit_objective : Size=1, Index=None, Active=True\n",
      "        Key  : Active : Sense    : Expression\n",
      "        None :   True : maximize : 8*x[peach] + 12*x[raspberry]\n",
      "\n",
      "2 Constraint Declarations\n",
      "    juice_constraint : Size=1, Index=None, Active=True\n",
      "        Key  : Lower : Body                      : Upper : Active\n",
      "        None :  -Inf : x[peach] + 2*x[raspberry] :   5.0 :   True\n",
      "    sugar_constraint : Size=1, Index=None, Active=True\n",
      "        Key  : Lower : Body                        : Upper : Active\n",
      "        None :  -Inf : 4*x[peach] + 3*x[raspberry] :  12.0 :   True\n",
      "\n",
      "5 Declarations: x_index x profit_objective juice_constraint sugar_constraint\n"
     ]
    }
   ],
   "source": [
    "model.pprint()"
   ]
  },
  {
   "cell_type": "markdown",
   "metadata": {},
   "source": [
    "Add the demand constraints as a set of constraints.  "
   ]
  },
  {
   "cell_type": "code",
   "execution_count": 9,
   "metadata": {},
   "outputs": [],
   "source": [
    "if hasattr(model, 'demand_constraint'):\n",
    "    model.delete(model.demand_constraint)\n",
    "    \n",
    "model.demand_constraint = ConstraintList()\n",
    "for i in L:\n",
    "    model.demand_constraint.add(model.x[i] <= demand[i])"
   ]
  },
  {
   "cell_type": "markdown",
   "metadata": {},
   "source": [
    "Specify solver and solve.\n"
   ]
  },
  {
   "cell_type": "code",
   "execution_count": 10,
   "metadata": {},
   "outputs": [],
   "source": [
    "\n",
    "solver = SolverFactory('glpk')\n",
    "status = solver.solve(model)"
   ]
  },
  {
   "cell_type": "markdown",
   "metadata": {},
   "source": [
    "Get status."
   ]
  },
  {
   "cell_type": "code",
   "execution_count": 11,
   "metadata": {},
   "outputs": [
    {
     "name": "stdout",
     "output_type": "stream",
     "text": [
      "Status = \n",
      "Problem: \n",
      "- Name: unknown\n",
      "  Lower bound: 33.6\n",
      "  Upper bound: 33.6\n",
      "  Number of objectives: 1\n",
      "  Number of constraints: 5\n",
      "  Number of variables: 3\n",
      "  Number of nonzeros: 7\n",
      "  Sense: maximize\n",
      "Solver: \n",
      "- Status: ok\n",
      "  Termination condition: optimal\n",
      "  Statistics: \n",
      "    Branch and bound: \n",
      "      Number of bounded subproblems: 0\n",
      "      Number of created subproblems: 0\n",
      "  Error rc: 0\n",
      "  Time: 0.017319917678833008\n",
      "Solution: \n",
      "- number of solutions: 0\n",
      "  number of solutions displayed: 0\n",
      "\n"
     ]
    }
   ],
   "source": [
    "print('Status = %s' % status)"
   ]
  },
  {
   "cell_type": "markdown",
   "metadata": {},
   "source": [
    "Get solution and objective function value."
   ]
  },
  {
   "cell_type": "code",
   "execution_count": 12,
   "metadata": {},
   "outputs": [
    {
     "name": "stdout",
     "output_type": "stream",
     "text": [
      "x[peach] = 1.800000\n",
      "x[raspberry] = 1.600000\n",
      "Objective = 33.600000\n"
     ]
    }
   ],
   "source": [
    "for i in L:\n",
    "    print('%s = %f' % (model.x[i], value(model.x[i])))\n",
    "print(\"Objective = %f\" % value(model.profit_objective))\n"
   ]
  },
  {
   "cell_type": "markdown",
   "metadata": {},
   "source": [
    "The optimal solution is to produce 1.8 gallons of peach lemonade and 1.5 gallons of raspberry lemonade for a profit of \\$33.60."
   ]
  }
 ],
 "metadata": {
  "kernelspec": {
   "display_name": "Python 3",
   "language": "python",
   "name": "python3"
  },
  "language_info": {
   "codemirror_mode": {
    "name": "ipython",
    "version": 3
   },
   "file_extension": ".py",
   "mimetype": "text/x-python",
   "name": "python",
   "nbconvert_exporter": "python",
   "pygments_lexer": "ipython3",
   "version": "3.7.7"
  }
 },
 "nbformat": 4,
 "nbformat_minor": 4
}
