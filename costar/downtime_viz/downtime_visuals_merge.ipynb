{
 "cells": [
  {
   "cell_type": "code",
   "execution_count": 8,
   "id": "e9e122cf",
   "metadata": {},
   "outputs": [],
   "source": [
    "#libraries\n",
    "\n",
    "import pandas as pd\n",
    "import datetime\n",
    "import psycopg2\n",
    "import numpy as np\n",
    "import os\n",
    "# import seaborn as sns\n",
    "# pd.set_option(\"display.max_columns\",999)\n",
    "# import seaborn as sns\n",
    "\n",
    "# import warnings\n",
    "# warnings.filterwarnings('ignore')\n",
    "\n",
    "# pd.options.display.float_format = '{:.2f}'.format\n",
    "# %matplotlib inline\n",
    "# import matplotlib.pyplot as plt\n",
    "# plt.style.use('seaborn-white')"
   ]
  },
  {
   "cell_type": "code",
   "execution_count": 2,
   "id": "7295807e",
   "metadata": {},
   "outputs": [
    {
     "data": {
      "text/plain": [
       "'C:\\\\Users\\\\clark\\\\Documents\\\\LOCAL_REPOSITORY_LOCATION\\\\DAPT\\\\costar\\\\downtime_viz'"
      ]
     },
     "execution_count": 2,
     "metadata": {},
     "output_type": "execute_result"
    }
   ],
   "source": [
    "os.getcwd()"
   ]
  },
  {
   "cell_type": "code",
   "execution_count": 5,
   "id": "dd894207",
   "metadata": {},
   "outputs": [],
   "source": [
    "# file paths\n",
    "\n",
    "LOCAL = os.environ['LOCAL_REPOSITORY_LOCATION']\n",
    "fdr = 'DAPT\\costar\\downtime_viz'\n",
    "fn = 'rent_submarket.xlsx'\n",
    "path_file = os.path.join(LOCAL, fdr, fn)\n"
   ]
  },
  {
   "cell_type": "code",
   "execution_count": 9,
   "id": "59e57da4",
   "metadata": {},
   "outputs": [],
   "source": [
    "# RDS Connection\n",
    "\n",
    "conn = psycopg2.connect(\n",
    "    host = 'lease-data.cnzawwknyviz.us-east-1.rds.amazonaws.com',\n",
    "    port = 5432,\n",
    "    user = 'costar',\n",
    "    password = 'Costar12',\n",
    "    database='costar'\n",
    "    )\n",
    "cursor = conn.cursor() "
   ]
  },
  {
   "cell_type": "code",
   "execution_count": 45,
   "id": "9a3f03c0",
   "metadata": {},
   "outputs": [],
   "source": [
    "def read_data_merge():\n",
    "\n",
    "# read downtime table from RDS\n",
    "\n",
    "    q1 = '''SELECT * FROM downtime_lease_nov8'''\n",
    "\n",
    "    downtime = pd.read_sql(q1, \n",
    "                           con = conn)\n",
    "\n",
    "    # read rent table from excel or RDS (try RDS first)\n",
    "    try:\n",
    "        # read RDW\n",
    "\n",
    "        q1 = '''SELECT * FROM rent_submarket'''\n",
    "\n",
    "        rent = pd.read_sql(q1, \n",
    "                           con = conn)\n",
    "    except:\n",
    "        # read excel\n",
    "        rent = pd.read_excel(path_file)\n",
    "\n",
    "    rent.rename(columns = {'SubmarketName': 'submarket_name', \n",
    "                           'CBSAID': 'cbsaid',\n",
    "                           'BuildingRatingID': 'building_rating_id'}, inplace = True)\n",
    "\n",
    "    downtime.cbsaid = pd.to_numeric(downtime.cbsaid)\n",
    "\n",
    "    df = pd.merge(downtime, \n",
    "                  rent, \n",
    "                  how = 'left', \n",
    "                  on = ['cbsaid', 'submarket_name', 'building_rating_id'])\n",
    "\n",
    "    df.to_csv(os.path.join(LOCAL, fdr, 'downtime_rent.csv'), index = False)\n",
    "    \n",
    "read_data_merge()"
   ]
  }
 ],
 "metadata": {
  "kernelspec": {
   "display_name": "Python 3 (ipykernel)",
   "language": "python",
   "name": "python3"
  },
  "language_info": {
   "codemirror_mode": {
    "name": "ipython",
    "version": 3
   },
   "file_extension": ".py",
   "mimetype": "text/x-python",
   "name": "python",
   "nbconvert_exporter": "python",
   "pygments_lexer": "ipython3",
   "version": "3.8.11"
  }
 },
 "nbformat": 4,
 "nbformat_minor": 5
}
