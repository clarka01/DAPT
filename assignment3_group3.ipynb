{
 "cells": [
  {
   "cell_type": "code",
   "execution_count": 1,
   "metadata": {},
   "outputs": [],
   "source": [
    "from pyomo.environ import *\n",
    "from brooks import *\n",
    "import pandas as pd"
   ]
  },
  {
   "cell_type": "markdown",
   "metadata": {},
   "source": [
    "# DAPT Group 3: Optimization Project"
   ]
  },
  {
   "cell_type": "markdown",
   "metadata": {},
   "source": [
    "## Part 1\n",
    "\n",
    "### 1.1 Problem\n",
    "\n"
   ]
  },
  {
   "cell_type": "markdown",
   "metadata": {},
   "source": [
    "### 1.2 Data"
   ]
  },
  {
   "cell_type": "markdown",
   "metadata": {},
   "source": [
    "### 1.3 Objective Stated in Words"
   ]
  },
  {
   "cell_type": "markdown",
   "metadata": {},
   "source": [
    "### 1.4 Formulate the Objective Function and Constraints in Terms of the Decision Variables\n",
    "\n",
    "**Decision variables:**\n",
    "\n",
    "**Objectives and constraints:**"
   ]
  },
  {
   "cell_type": "markdown",
   "metadata": {},
   "source": [
    "## Part 2\n",
    "\n",
    "### 2.1 Problem\n",
    "**Camm et al. 13.4. Real Estate Project Selection.** <br>\n",
    "_Brooks Development Corporation (BDC) faces the following capital budgeting decision.  Six real estate projects are available for investment.  The net present value and expenditures required for each project (in millions of dollars) are as follows:_\n",
    "\n",
    "Project                  | 1  | 2  | 3  | 4  | 5   | 6  |\n",
    "| --                     | -- | -- | -- | -- | --  | -- |      \n",
    "Net Present Value (NPV): | 15 | 5  | 13 | 14 | 20  |  9 |\n",
    "Expenditures:            | 90 | 34 | 81 | 70 | 114 | 50 |\n",
    "\n",
    "_There are conditions that limit the investment alternatives:_\n",
    " - _At least two of projects 1, 3, 5, and 6 must be undertaken._\n",
    " - _If either project 3 or 5 is undertaken, they must both be undertaken._\n",
    " - _Project 4 cannot be undertaken unless both projects 1 and 3 also are undertaken._\n",
    "\n",
    "_The budget for this investment period is $220 million._\n"
   ]
  },
  {
   "cell_type": "markdown",
   "metadata": {},
   "source": [
    "### 2.2 Data\n",
    "\n",
    "$\\text{Let } P = {1,2,3,4,5,6}.$\n",
    "\n",
    "$\\text{Let } npv_{i} \\text{be the net present value (in millions) for projects } i, i \\in P.$\n",
    "\n",
    "$\\text{Let } exp_{i} \\text{be the net present value (in millions) for projects } i, i \\in P.$\n",
    "\n",
    "$\\text{Let } limit_{total} \\text{be the maximum expenditure.}$\n",
    "\n",
    "$limit_{total} \\text{ 220 million}$"
   ]
  },
  {
   "cell_type": "markdown",
   "metadata": {},
   "source": [
    "### 2.3 Objective in Words\n",
    "\n",
    "Determine which real estate projects to invest in such that the NPV is maximized, subject to the following constraints:\n",
    " - The budget for this investment period is $220 million.\n",
    " - At least two of projects 1, 3, 5, and 6 must be undertaken.\t\n",
    " - If either project 3 or 5 is undertaken, they must both be undertaken.\n",
    " - Project 4 cannot be undertaken unless both projects 1 and 3 also are undertaken.\n"
   ]
  },
  {
   "cell_type": "markdown",
   "metadata": {},
   "source": [
    "### 2.4 Formulate the Objective Function and Constraints in Terms of the Decision Variables\n",
    "\n",
    "**Decision variables:**\n",
    "<br>\n",
    "\n",
    "$\\text{Let } x_{i} \\text{be 1 if we invest in projects} i, i \\in L$ \n",
    "\n",
    "$\\text{0 o.w. for projects } i, i \\in P$\n",
    "\n",
    "**Objective and constraints:**\n",
    "<br>\n",
    "\n",
    "$max \\sum_{i \\in P} nvp_{i}x_{i}$  (net present value)\n",
    "\n",
    "$\\text{s.t. } sum_{i \\in P} exp_{i}x+{i} \\le limit_{total}$ (total expenditure)\n",
    "\n",
    "$x_{i \\in}\\{0,1\\}, i \\in P$ (Binary Variable Constraint) \n",
    "\n",
    "$x_{1} + x_{2} + x_{5} + x_{6} \\ge 2,$ \t\t (Project Dependancies)\n",
    "\n",
    "$x_{3} = x_{5},$\n",
    "\n",
    "$x_{4} \\le (x_{1}+x_{3}) / 2$\n",
    "\n",
    "$exp_{i} \\le 0, i \\in P$"
   ]
  }
 ],
 "metadata": {
  "interpreter": {
   "hash": "6b7f74c688ea7c58a0fb9e7a336501221ea26caf5b16825ef3541fd436b93562"
  },
  "kernelspec": {
   "display_name": "Python 3.8.11 64-bit ('base': conda)",
   "name": "python3"
  },
  "language_info": {
   "codemirror_mode": {
    "name": "ipython",
    "version": 3
   },
   "file_extension": ".py",
   "mimetype": "text/x-python",
   "name": "python",
   "nbconvert_exporter": "python",
   "pygments_lexer": "ipython3",
   "version": "3.8.11"
  },
  "orig_nbformat": 4
 },
 "nbformat": 4,
 "nbformat_minor": 2
}
