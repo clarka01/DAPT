{
 "cells": [
  {
   "cell_type": "code",
   "execution_count": 1,
   "metadata": {},
   "outputs": [],
   "source": [
    "from pyomo.environ import *\n",
    "from brooks import *\n",
    "import pandas as pd"
   ]
  },
  {
   "cell_type": "markdown",
   "metadata": {},
   "source": [
    "# DAPT Group 3: Optimization Project\n",
    "\n",
    "**Group 3: Aaron Clark, Aastha Malhotra, Bindhya Neupane, Kate Loomis, & Brie Dubinsky**"
   ]
  },
  {
   "cell_type": "markdown",
   "metadata": {},
   "source": [
    "## Part 1\n",
    "\n",
    "### 1.1 Problem\n",
    "**Camm et al. 12.5.  Hotel Room Reservations.**  \n",
    "Round Tree Manor is a hotel that provides two types of rooms with three rental classes: Super Saver, Deluxe, and Business. The profit per night for each type of room and rental class is as follows:\n",
    "\n",
    "|Room                      | Super Saver\t       |  Deluxe     | Business |\n",
    "| --                       |      --               |    --       | --       |\n",
    "|Type I (Mountain View)\t   |  $30\t               | $35\t     |          |\n",
    "|Type II (Street View)     |  $20\t               | $30\t     | $40      |\n",
    "\n",
    "Round Tree’s management makes a forecast of the demand by rental class for each night in the future. A linear programming model developed to maximize profit is used to determine how many reservations to accept for each rental class. The demand forecast for a particular night is 130 rentals in the Super Saver class, 60 in the Deluxe class, and 50 in the Business class. Since these are the forecasted demands, Round Tree will take no more than these amounts of each reservation for each rental class. Round Tree has a limited number of each type of room. There are 100 Type I rooms and 120 Type II rooms.\n",
    "\n"
   ]
  },
  {
   "cell_type": "markdown",
   "metadata": {},
   "source": [
    "### 1.2 Data\n",
    "\n",
    "Let,\n",
    "$T = \\text{Type of room T } = {1,2} \\text{Where} 1 = \\text{Type I (Mountain View),} 2 = \\text{Type II (Street View)}$ <br>\n",
    "\n",
    "$C = \\text{Types of Rental classes} C = {SS, DC, BC} \\text{where SS = SuperSaver, DC = Deluxe , BC = Business}$ <br>\n",
    "\n",
    "$x_{ij} = \\text{occupancy for Room } ij, i \\in T, j \\in C$   <br>\n",
    "\n",
    "$r_{ij} = \\text{revenue for type i class j, r = revenue}$  <br>\n",
    "\n",
    "$Max rooms = \\text{Total number of rooms available.}$  <br>\n",
    "\n",
    "$DemForecast SS = \\text{Demand forecast for SuperSaver rooms}$  <br>\n",
    "\n",
    "$DemForecastDC = \\text{Demand forecast for Deluxe rooms}$  <br>\n",
    "\n",
    "$DemForecastBC = \\text{Demand forecast for Business rooms}$  <br>\n",
    "\n",
    "$Type1Max = \\text{Maximum number of Type1 rooms}$ <br>\n",
    "\n",
    "$Type2Max = \\text{Maximum number of Type2 rooms}$ <br>\n",
    "\n",
    " - Max_rooms =     220 \n",
    " - DemForecast_SS = 130\n",
    " - DemForecast_DC = 60\n",
    " - DemForecast_BC = 50\n",
    " - Type1_Max = 100\n",
    " - Type2_Max = 120"
   ]
  },
  {
   "cell_type": "markdown",
   "metadata": {},
   "source": [
    "### 1.3 Objective Stated in Words\n",
    "\n",
    "Decide the number of rooms in each class and room type so that revenue is maximized subject to the following constraints:\n",
    " - Total number of rooms should not exceed 200.\n",
    " - Demand for SuperSaver rooms should not exceed 130.\n",
    " - Demand for Deluxe rooms should not exceed 60.\n",
    " - Demand for Business rooms should not exceed 50.\n",
    " - Demand for Type 1 rooms should not exceed 100.\n",
    " - Demand for Type 2 rooms should not exceed 120.\n"
   ]
  },
  {
   "cell_type": "markdown",
   "metadata": {},
   "source": [
    "### 1.4 Algebraic Formulation\n",
    "\n",
    "$\\sum_{i \\in T j \\in C} x_{ij} * r_{ij} \\text{(Maximum Revenue)}$\n",
    "\n",
    "$\\sum_{i\\in T j \\in C} x_{ij} \\le 220  \\text{(Maximum rooms available)}$\n",
    "\n",
    "$\\sum_{j = SS} x_{j} \\le 130 \\text{(DemforecastSS)}$\n",
    "\n",
    "$\\sum_{j = DC} x_{j} \\le 60 \\text{(DemforecastDC)}$\n",
    "\n",
    "$\\sum_{j = BC} x_{j} \\le 50 \\text{(DemforecastBC)}$\n",
    "\n",
    "$\\sum{i = 1} x_{i} \\le 100 \\text{(Type1Max)}$\n",
    "\n",
    "$\\sum{i=2} x_{i} \\le 120 \\text{(Type2Max)}$\n",
    "\n",
    "$x_{ij} \\ge 0, i \\in T, j \\in C x_{ij} \\text{is an integer}$"
   ]
  },
  {
   "cell_type": "markdown",
   "metadata": {},
   "source": [
    "### 1.5 Implementation\n",
    "\n",
    "See attached file, for the implementation and solution of the model using Pyomo and GLPK in Python."
   ]
  },
  {
   "cell_type": "markdown",
   "metadata": {},
   "source": [
    "### 1.6 Results\n",
    "\n",
    "We got the optimal solution as such with the revenue of $7,000.\n",
    "\n",
    "\n",
    "| Types and Class of Room | SS_1 | SS_2 | DC_1 | DC_2 | BC_1 | BC_2 |\n",
    "| --                      | --   | --   | --   | --   | --   | --   |\n",
    "| Number of Rooms         |  100 | 10   | 0    | 60   | 0    | 50   |\n",
    "\n"
   ]
  },
  {
   "cell_type": "markdown",
   "metadata": {},
   "source": [
    "## Part 2\n",
    "\n",
    "### 2.1 Problem\n",
    "**Camm et al. 13.4. Real Estate Project Selection.** <br>\n",
    "_Brooks Development Corporation (BDC) faces the following capital budgeting decision.  Six real estate projects are available for investment.  The net present value and expenditures required for each project (in millions of dollars) are as follows:_\n",
    "\n",
    "Project                  | 1  | 2  | 3  | 4  | 5   | 6  |\n",
    "| --                     | -- | -- | -- | -- | --  | -- |      \n",
    "Net Present Value (NPV): | 15 | 5  | 13 | 14 | 20  |  9 |\n",
    "Expenditures:            | 90 | 34 | 81 | 70 | 114 | 50 |\n",
    "\n",
    "_There are conditions that limit the investment alternatives:_\n",
    " - _At least two of projects 1, 3, 5, and 6 must be undertaken._\n",
    " - _If either project 3 or 5 is undertaken, they must both be undertaken._\n",
    " - _Project 4 cannot be undertaken unless both projects 1 and 3 also are undertaken._\n",
    "\n",
    "_The budget for this investment period is $220 million._\n"
   ]
  },
  {
   "cell_type": "markdown",
   "metadata": {},
   "source": [
    "### 2.2 Data\n",
    "\n",
    "$\\text{Let } P = {1,2,3,4,5,6}.$\n",
    "\n",
    "$\\text{Let } npv_{i} \\text{be the net present value (in millions) for projects } i, i \\in P.$\n",
    "\n",
    "$\\text{Let } exp_{i} \\text{be the net present value (in millions) for projects } i, i \\in P.$\n",
    "\n",
    "$\\text{Let } limit_{total} \\text{be the maximum expenditure.}$\n",
    "\n",
    "$limit_{total} \\text{ 220 million}$"
   ]
  },
  {
   "cell_type": "markdown",
   "metadata": {},
   "source": [
    "### 2.3 Objective in Words\n",
    "\n",
    "Determine which real estate projects to invest in such that the NPV is maximized, subject to the following constraints:\n",
    " - The budget for this investment period is $220 million.\n",
    " - At least two of projects 1, 3, 5, and 6 must be undertaken.\t\n",
    " - If either project 3 or 5 is undertaken, they must both be undertaken.\n",
    " - Project 4 cannot be undertaken unless both projects 1 and 3 also are undertaken.\n"
   ]
  },
  {
   "cell_type": "markdown",
   "metadata": {},
   "source": [
    "### 2.4 Formulate the Objective Function and Constraints in Terms of the Decision Variables\n",
    "\n",
    "**Decision variables:**\n",
    "<br>\n",
    "\n",
    "$\\text{Let } x_{i} \\text{be 1 if we invest in projects} i, i \\in L$ \n",
    "\n",
    "$\\text{0 o.w. for projects } i, i \\in P$\n",
    "\n",
    "**Objective and constraints:**\n",
    "<br>\n",
    "\n",
    "$max \\sum_{i \\in P} nvp_{i}x_{i}$  (net present value)\n",
    "\n",
    "$\\text{s.t. } sum_{i \\in P} exp_{i}x+{i} \\le limit_{total}$ (total expenditure)\n",
    "\n",
    "$x_{i \\in}\\{0,1\\}, i \\in P$ (Binary Variable Constraint) \n",
    "\n",
    "$x_{1} + x_{2} + x_{5} + x_{6} \\ge 2,$ \t\t (Project Dependancies)\n",
    "\n",
    "$x_{3} = x_{5},$\n",
    "\n",
    "$x_{4} \\le (x_{1}+x_{3}) / 2$\n",
    "\n",
    "$exp_{i} \\le 0, i \\in P$"
   ]
  },
  {
   "cell_type": "markdown",
   "metadata": {},
   "source": [
    "## Part 3"
   ]
  },
  {
   "cell_type": "markdown",
   "metadata": {},
   "source": [
    "### 3.1 Problem\n",
    "\n",
    "Consider the data on 350 hospitals including (e.g., number of beds, number of physicians, infection rate, readmission rate): hospital data.  Determine which hospitals are on the frontier.  In your writeup, you only need to provide the Essential Components of an Optimization Solution for a single generic hospital.  Explain that you solve a model for each hospital and provide the hospital numbers for those on the frontier.\n"
   ]
  },
  {
   "cell_type": "markdown",
   "metadata": {},
   "source": [
    "### 3.2 Data\n",
    "\n",
    "$\\text{Let A} = \\{attributes\\}$\n",
    "\n",
    "$\\text{Let H} = \\{Hospitals\\}$\n",
    "\n",
    "$\\text{my\\_data}_{ij} = \\text{score for hospital i on attribute j,}  i \\in H, j \\in A$"
   ]
  },
  {
   "cell_type": "markdown",
   "metadata": {},
   "source": [
    "### 3.3 Objective Stated in Words\n",
    "\n",
    "Decide the weights for attributes so that hospital scores are maximized. \n",
    "\n",
    "Subject to the following constraints:\n",
    " - Normalization constraint\n",
    " - Weights are positive"
   ]
  },
  {
   "cell_type": "markdown",
   "metadata": {},
   "source": [
    "### 3.4 1.4 Algebraic Formulation\n",
    "\n",
    "**Decision variables:**\n",
    "\n",
    " - $Let x1 = \\text{weight for attribute} 1$\n",
    " - $Let x2 = \\text{weight for attribute} 2$\n",
    " - $Let x3 = \\text{weight for attribute} 3$\n",
    " - $Let x4 = \\text{weight for attribute} 4$\n",
    " - $Let x5 = \\text{weight for attribute} 5$\n",
    " - $Let x6 = \\text{weight for attribute} 6$\n",
    " - $Let x7 = \\text{weight for attribute} 7$\n",
    " - $Let x8 = \\text{weight for attribute} 8$\n",
    " - $Let x9 = \\text{weight for attribute} 9$\n",
    " - $Let x10 = \\text{weight for attribute} 10$\n",
    " - $xj = \\text{weight for attributes j, j} \\in A$\n",
    "\n",
    "**Onjective and Constraints:** <br>\n",
    "$\\text{maximize} my\\_data_{1,1}, x_{1} + mydata_{1,2} x_{2} \\\\$\n",
    "$+ mydata_{1,3} x_{3} + mydata_{1,4} x_{4} \\\\$ \n",
    "$+ mydata_{1,5} x_{5} + mydata_{1,6} x_{6} \\\\$ \n",
    "$+ mydata_{1,7} x_{7} + mydata_{1,8} x_{8} \\\\$ \n",
    "$+ mydata_{1,9} x_{9} + mydata_{1,10} x_{10}$\n",
    "\n",
    "**Objectives**<br>\n",
    "\n",
    "$\\sum_{j \\in A} my\\_data_{ij} x_{j}, i \\in H$\n",
    "\n",
    "**Normalization:** <br>\n",
    "$\\sum_{j \\in A} \\ge 0$\n",
    "\n",
    "**Weights are positive:** <br>\n",
    "$\\sum_{xj} \\ge 0, j \\in A$\n",
    "\n",
    "**Normalization** <br>\n",
    "$x_{1}+ x_{2} + x_{3} + x_{4} + x_{5} + x_{6} + x_{7} + x_{8} + x_{9} + x_{10} \\le 1$"
   ]
  },
  {
   "cell_type": "markdown",
   "metadata": {},
   "source": [
    "### 3.5 Implementation"
   ]
  },
  {
   "cell_type": "markdown",
   "metadata": {},
   "source": [
    "### 3.6 Results"
   ]
  }
 ],
 "metadata": {
  "interpreter": {
   "hash": "6b7f74c688ea7c58a0fb9e7a336501221ea26caf5b16825ef3541fd436b93562"
  },
  "kernelspec": {
   "display_name": "Python 3.8.11 64-bit ('base': conda)",
   "name": "python3"
  },
  "language_info": {
   "codemirror_mode": {
    "name": "ipython",
    "version": 3
   },
   "file_extension": ".py",
   "mimetype": "text/x-python",
   "name": "python",
   "nbconvert_exporter": "python",
   "pygments_lexer": "ipython3",
   "version": "3.8.11"
  },
  "orig_nbformat": 4
 },
 "nbformat": 4,
 "nbformat_minor": 2
}
