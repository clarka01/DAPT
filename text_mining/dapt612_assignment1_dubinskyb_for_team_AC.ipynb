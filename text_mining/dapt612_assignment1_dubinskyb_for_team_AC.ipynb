{
 "cells": [
  {
   "cell_type": "markdown",
   "metadata": {
    "id": "73jaTjgb7S_I"
   },
   "source": [
    "# DAPT 612: Text Mining\n",
    "## Assignment 1: Part 1\n",
    "Brie Dubinsky, Group 3\n",
    "\n",
    "Aaron Clark -- Differences in feedback between male/female students, specialty: Aaron"
   ]
  },
  {
   "cell_type": "code",
   "execution_count": 54,
   "metadata": {
    "colab": {
     "base_uri": "https://localhost:8080/",
     "height": 389
    },
    "executionInfo": {
     "elapsed": 283,
     "status": "error",
     "timestamp": 1635290797674,
     "user": {
      "displayName": "Brie Dubinsky",
      "photoUrl": "https://lh3.googleusercontent.com/a-/AOh14GgoXe5D0Pmm2SVHSEErBC0ApKl7udOs9OXNcU3h=s64",
      "userId": "05785611437323900093"
     },
     "user_tz": 240
    },
    "id": "ahoVNFgq7S_M",
    "outputId": "230847a4-e9f3-4159-f193-517b2b1281fb"
   },
   "outputs": [],
   "source": [
    "# tag: #AC1103\n",
    "\n",
    "from collections import OrderedDict\n",
    "import csv\n",
    "from elasticsearch import helpers, Elasticsearch as es\n",
    "import en_core_web_sm\n",
    "#import gensim.downloader as gensim_api\n",
    "#import gensim\n",
    "# import langdetect\n",
    "import matplotlib.pyplot as plt\n",
    "%matplotlib inline\n",
    "import nltk\n",
    "from nltk.corpus import stopwords\n",
    "import numpy as np\n",
    "import os\n",
    "import pandas as pd\n",
    "#from pprint import pprint\n",
    "import re\n",
    "import requests\n",
    "#from sklearn import feature_extraction, manifold\n",
    "import spacy\n",
    "#from spacy.matcher import Matcher\n",
    "import string\n",
    "from textblob import TextBlob\n",
    "import texthero as hero\n",
    "# import textacy\n",
    "# from textacy import preprocessing, extract\n",
    "import seaborn as sns\n",
    "#import wordcloud\n",
    "#from wordcloud import STOPWORDS\n",
    "nlp = en_core_web_sm.load()\n",
    "#matcher = Matcher(nlp.vocab)\n",
    "\n",
    "#nltk.download('punkt')\n",
    "\n",
    "#nltk.download('averaged_perceptron_tagger')"
   ]
  },
  {
   "cell_type": "code",
   "execution_count": 59,
   "metadata": {},
   "outputs": [
    {
     "name": "stdout",
     "output_type": "stream",
     "text": [
      "C:\\Users\\clark\\Documents\\LOCAL_REPOSITORY_LOCATION\\612_TextMining\n"
     ]
    }
   ],
   "source": [
    "#AC1103\n",
    "\n",
    "# LOCAL_REPOSITORY_LOCATION = os.environ['LOCAL_REPOSITORY_LOCATION'] \n",
    "\n",
    "# os.chdir(os.path.join(LOCAL_REPOSITORY_LOCATION, '612_TextMining'))\n",
    "\n",
    "print(os.getcwd())\n",
    "\n",
    "# LOCAL_REPOSITORY_LOCATION"
   ]
  },
  {
   "cell_type": "code",
   "execution_count": 20,
   "metadata": {},
   "outputs": [
    {
     "data": {
      "text/plain": [
       "'C:\\\\Users\\\\clark\\\\Documents\\\\LOCAL_REPOSITORY_LOCATION\\\\612_TextMining'"
      ]
     },
     "execution_count": 20,
     "metadata": {},
     "output_type": "execute_result"
    }
   ],
   "source": [
    "os.getcwd() #AC1103"
   ]
  },
  {
   "cell_type": "code",
   "execution_count": 64,
   "metadata": {
    "id": "SIKudLj97S_P"
   },
   "outputs": [],
   "source": [
    "# read in the file #AC1103\n",
    "df = pd.read_csv('eval_data_dapt.csv', encoding = 'utf-8', dtype = str)"
   ]
  },
  {
   "cell_type": "code",
   "execution_count": 65,
   "metadata": {
    "id": "ByctRoX-7S_Q",
    "outputId": "46dfa8b9-ab70-45bb-ca19-255dbe169327"
   },
   "outputs": [
    {
     "data": {
      "text/html": [
       "<div>\n",
       "<style scoped>\n",
       "    .dataframe tbody tr th:only-of-type {\n",
       "        vertical-align: middle;\n",
       "    }\n",
       "\n",
       "    .dataframe tbody tr th {\n",
       "        vertical-align: top;\n",
       "    }\n",
       "\n",
       "    .dataframe thead th {\n",
       "        text-align: right;\n",
       "    }\n",
       "</style>\n",
       "<table border=\"1\" class=\"dataframe\">\n",
       "  <thead>\n",
       "    <tr style=\"text-align: right;\">\n",
       "      <th></th>\n",
       "      <th>eval_id</th>\n",
       "      <th>student_id</th>\n",
       "      <th>gender</th>\n",
       "      <th>course</th>\n",
       "      <th>preceptor</th>\n",
       "      <th>epa_number</th>\n",
       "      <th>rating_score</th>\n",
       "      <th>rating_label</th>\n",
       "      <th>comments</th>\n",
       "    </tr>\n",
       "  </thead>\n",
       "  <tbody>\n",
       "    <tr>\n",
       "      <th>0</th>\n",
       "      <td>55339</td>\n",
       "      <td>855</td>\n",
       "      <td>M</td>\n",
       "      <td>Pediatrics</td>\n",
       "      <td>Attending</td>\n",
       "      <td>EPA 1</td>\n",
       "      <td>3</td>\n",
       "      <td>I had to prompt them from time to time</td>\n",
       "      <td>Work on your interview structure. Keep it cons...</td>\n",
       "    </tr>\n",
       "    <tr>\n",
       "      <th>1</th>\n",
       "      <td>55453</td>\n",
       "      <td>855</td>\n",
       "      <td>M</td>\n",
       "      <td>Pediatrics</td>\n",
       "      <td>Attending</td>\n",
       "      <td>EPA 6</td>\n",
       "      <td>3</td>\n",
       "      <td>I had to prompt them from time to time</td>\n",
       "      <td>Develop ED focused presentation skills by pres...</td>\n",
       "    </tr>\n",
       "    <tr>\n",
       "      <th>2</th>\n",
       "      <td>56658</td>\n",
       "      <td>855</td>\n",
       "      <td>M</td>\n",
       "      <td>Pediatrics</td>\n",
       "      <td>Attending</td>\n",
       "      <td>EPA 2</td>\n",
       "      <td>4</td>\n",
       "      <td>I needed to be available just in case</td>\n",
       "      <td>Watch as many physical exams as possible</td>\n",
       "    </tr>\n",
       "  </tbody>\n",
       "</table>\n",
       "</div>"
      ],
      "text/plain": [
       "  eval_id student_id gender      course  preceptor epa_number rating_score  \\\n",
       "0   55339        855      M  Pediatrics  Attending      EPA 1            3   \n",
       "1   55453        855      M  Pediatrics  Attending      EPA 6            3   \n",
       "2   56658        855      M  Pediatrics  Attending      EPA 2            4   \n",
       "\n",
       "                             rating_label  \\\n",
       "0  I had to prompt them from time to time   \n",
       "1  I had to prompt them from time to time   \n",
       "2   I needed to be available just in case   \n",
       "\n",
       "                                            comments  \n",
       "0  Work on your interview structure. Keep it cons...  \n",
       "1  Develop ED focused presentation skills by pres...  \n",
       "2          Watch as many physical exams as possible   "
      ]
     },
     "execution_count": 65,
     "metadata": {},
     "output_type": "execute_result"
    }
   ],
   "source": [
    "df.head(3)"
   ]
  },
  {
   "cell_type": "code",
   "execution_count": 66,
   "metadata": {},
   "outputs": [],
   "source": [
    "# join display label (competency) to epa_number\n",
    "\n",
    "dfc = pd.read_excel('competency_definitions.xlsx')\n",
    "\n",
    "dfm = pd.merge(df, dfc, on = 'epa_number', how = 'left' )\n",
    "\n",
    "df = dfm"
   ]
  },
  {
   "cell_type": "code",
   "execution_count": 93,
   "metadata": {},
   "outputs": [
    {
     "name": "stdout",
     "output_type": "stream",
     "text": [
      "798 442\n"
     ]
    }
   ],
   "source": [
    "# exploratory\n",
    "\n",
    "df = dfm\n",
    "\n",
    "m_cnt = df.gender[df.gender == 'M'].count()\n",
    "f_cnt = df.gender[df.gender == 'F'].count()\n",
    "\n",
    "print(m_cnt, f_cnt)\n",
    "\n"
   ]
  },
  {
   "cell_type": "code",
   "execution_count": 96,
   "metadata": {},
   "outputs": [],
   "source": [
    "gdr = df.groupby('gender')\n",
    "crse = df.groupby('course')\n",
    "gdr_crse = df.groupby(['gender', 'course'])\n",
    "# gdr_crse.get_group(('M','Surgery')).count()"
   ]
  },
  {
   "cell_type": "code",
   "execution_count": 120,
   "metadata": {},
   "outputs": [
    {
     "data": {
      "text/plain": [
       "gender\n",
       "F    442\n",
       "M    798\n",
       "dtype: int64"
      ]
     },
     "execution_count": 120,
     "metadata": {},
     "output_type": "execute_result"
    }
   ],
   "source": [
    "gdr.size()\n",
    "# crse.size()"
   ]
  },
  {
   "cell_type": "code",
   "execution_count": 119,
   "metadata": {},
   "outputs": [
    {
     "data": {
      "text/plain": [
       "gender  course                 \n",
       "F       Ambulatory                  57\n",
       "        Family Medicine             50\n",
       "        Internal Medicine           92\n",
       "        Neurology                   26\n",
       "        Obstetrics & Gynecology     47\n",
       "        Pediatrics                  49\n",
       "        Psychiatry                  64\n",
       "        Surgery                     57\n",
       "M       Ambulatory                 119\n",
       "        Family Medicine            127\n",
       "        Internal Medicine          141\n",
       "        Neurology                   50\n",
       "        Obstetrics & Gynecology     50\n",
       "        Pediatrics                  93\n",
       "        Psychiatry                 140\n",
       "        Surgery                     78\n",
       "dtype: int64"
      ]
     },
     "execution_count": 119,
     "metadata": {},
     "output_type": "execute_result"
    }
   ],
   "source": [
    "gdr_crse.size()"
   ]
  },
  {
   "cell_type": "code",
   "execution_count": null,
   "metadata": {},
   "outputs": [],
   "source": [
    "\n",
    "\n",
    "\n",
    "\n",
    "\n",
    "\n",
    "\n",
    "\n",
    "\n",
    "\n",
    "\n",
    "\n",
    "\n",
    "\n"
   ]
  },
  {
   "cell_type": "markdown",
   "metadata": {
    "id": "4O7k1EAr7S_P"
   },
   "source": [
    "# Description of the data set\n",
    "This dataset represents a behavioral assessment of medical student clinical performance. Students receive these evaluations once a week from the supervising physicians who teach them. This assessment is similar to a workplace-based assessment (WBA) and provides students with a real-time understanding of their performance on 13 core clinical skills (<a href=\"https://www.aamc.org/what-we-do/mission-areas/medical-education/cbme/core-epas\">entrustable professional activities</a>). The evaluation utilizes a modified version of the Ottawa Clinic Assessment Scale (<a href=\"https://pubmed.ncbi.nlm.nih.gov/27052202/\">OCAT</a>) to describe the student's readiness for independent practice. In this dataset, the rating values range from 1 (_I had to do it for them_) to 5 (_I did not need to be there_)."
   ]
  },
  {
   "cell_type": "markdown",
   "metadata": {
    "id": "0hrhD60e7S_S"
   },
   "source": [
    "## Manual pre-processing steps:\n",
    "\n",
    " - **Student:** I converted student names to lowercase.\n",
    " -  **Course:** I replaced a compound name (`Obstetrics & Gynecology`) with a short name (`Obstetrics`) to improve sorting/tagging."
   ]
  },
  {
   "cell_type": "code",
   "execution_count": 26,
   "metadata": {
    "id": "8Nu7X_bf7S_T"
   },
   "outputs": [
    {
     "ename": "KeyError",
     "evalue": "'student'",
     "output_type": "error",
     "traceback": [
      "\u001b[1;31m---------------------------------------------------------------------------\u001b[0m",
      "\u001b[1;31mKeyError\u001b[0m                                  Traceback (most recent call last)",
      "\u001b[1;32mC:\\ProgramData\\Anaconda3\\lib\\site-packages\\pandas\\core\\indexes\\base.py\u001b[0m in \u001b[0;36mget_loc\u001b[1;34m(self, key, method, tolerance)\u001b[0m\n\u001b[0;32m   3360\u001b[0m             \u001b[1;32mtry\u001b[0m\u001b[1;33m:\u001b[0m\u001b[1;33m\u001b[0m\u001b[1;33m\u001b[0m\u001b[0m\n\u001b[1;32m-> 3361\u001b[1;33m                 \u001b[1;32mreturn\u001b[0m \u001b[0mself\u001b[0m\u001b[1;33m.\u001b[0m\u001b[0m_engine\u001b[0m\u001b[1;33m.\u001b[0m\u001b[0mget_loc\u001b[0m\u001b[1;33m(\u001b[0m\u001b[0mcasted_key\u001b[0m\u001b[1;33m)\u001b[0m\u001b[1;33m\u001b[0m\u001b[1;33m\u001b[0m\u001b[0m\n\u001b[0m\u001b[0;32m   3362\u001b[0m             \u001b[1;32mexcept\u001b[0m \u001b[0mKeyError\u001b[0m \u001b[1;32mas\u001b[0m \u001b[0merr\u001b[0m\u001b[1;33m:\u001b[0m\u001b[1;33m\u001b[0m\u001b[1;33m\u001b[0m\u001b[0m\n",
      "\u001b[1;32mC:\\ProgramData\\Anaconda3\\lib\\site-packages\\pandas\\_libs\\index.pyx\u001b[0m in \u001b[0;36mpandas._libs.index.IndexEngine.get_loc\u001b[1;34m()\u001b[0m\n",
      "\u001b[1;32mC:\\ProgramData\\Anaconda3\\lib\\site-packages\\pandas\\_libs\\index.pyx\u001b[0m in \u001b[0;36mpandas._libs.index.IndexEngine.get_loc\u001b[1;34m()\u001b[0m\n",
      "\u001b[1;32mpandas\\_libs\\hashtable_class_helper.pxi\u001b[0m in \u001b[0;36mpandas._libs.hashtable.PyObjectHashTable.get_item\u001b[1;34m()\u001b[0m\n",
      "\u001b[1;32mpandas\\_libs\\hashtable_class_helper.pxi\u001b[0m in \u001b[0;36mpandas._libs.hashtable.PyObjectHashTable.get_item\u001b[1;34m()\u001b[0m\n",
      "\u001b[1;31mKeyError\u001b[0m: 'student'",
      "\nThe above exception was the direct cause of the following exception:\n",
      "\u001b[1;31mKeyError\u001b[0m                                  Traceback (most recent call last)",
      "\u001b[1;32m~\\AppData\\Local\\Temp/ipykernel_15200/3350092032.py\u001b[0m in \u001b[0;36m<module>\u001b[1;34m\u001b[0m\n\u001b[1;32m----> 1\u001b[1;33m \u001b[0mdata\u001b[0m\u001b[1;33m[\u001b[0m\u001b[1;34m'student'\u001b[0m\u001b[1;33m]\u001b[0m \u001b[1;33m=\u001b[0m \u001b[0mdata\u001b[0m\u001b[1;33m[\u001b[0m\u001b[1;34m'student'\u001b[0m\u001b[1;33m]\u001b[0m\u001b[1;33m.\u001b[0m\u001b[0mstr\u001b[0m\u001b[1;33m.\u001b[0m\u001b[0mlower\u001b[0m\u001b[1;33m(\u001b[0m\u001b[1;33m)\u001b[0m\u001b[1;33m\u001b[0m\u001b[1;33m\u001b[0m\u001b[0m\n\u001b[0m\u001b[0;32m      2\u001b[0m \u001b[1;33m\u001b[0m\u001b[0m\n\u001b[0;32m      3\u001b[0m \u001b[0mdata\u001b[0m\u001b[1;33m[\u001b[0m\u001b[1;34m'course'\u001b[0m\u001b[1;33m]\u001b[0m \u001b[1;33m=\u001b[0m \u001b[1;33m(\u001b[0m\u001b[0mdata\u001b[0m\u001b[1;33m[\u001b[0m\u001b[1;34m'course'\u001b[0m\u001b[1;33m]\u001b[0m\u001b[1;33m.\u001b[0m\u001b[0mstr\u001b[0m\u001b[1;33m.\u001b[0m\u001b[0mreplace\u001b[0m\u001b[1;33m(\u001b[0m\u001b[1;34m'Obstetrics & Gynecology'\u001b[0m\u001b[1;33m,\u001b[0m \u001b[1;34m'Obstetrics'\u001b[0m\u001b[1;33m)\u001b[0m\u001b[1;33m)\u001b[0m\u001b[1;33m\u001b[0m\u001b[1;33m\u001b[0m\u001b[0m\n",
      "\u001b[1;32mC:\\ProgramData\\Anaconda3\\lib\\site-packages\\pandas\\core\\frame.py\u001b[0m in \u001b[0;36m__getitem__\u001b[1;34m(self, key)\u001b[0m\n\u001b[0;32m   3453\u001b[0m             \u001b[1;32mif\u001b[0m \u001b[0mself\u001b[0m\u001b[1;33m.\u001b[0m\u001b[0mcolumns\u001b[0m\u001b[1;33m.\u001b[0m\u001b[0mnlevels\u001b[0m \u001b[1;33m>\u001b[0m \u001b[1;36m1\u001b[0m\u001b[1;33m:\u001b[0m\u001b[1;33m\u001b[0m\u001b[1;33m\u001b[0m\u001b[0m\n\u001b[0;32m   3454\u001b[0m                 \u001b[1;32mreturn\u001b[0m \u001b[0mself\u001b[0m\u001b[1;33m.\u001b[0m\u001b[0m_getitem_multilevel\u001b[0m\u001b[1;33m(\u001b[0m\u001b[0mkey\u001b[0m\u001b[1;33m)\u001b[0m\u001b[1;33m\u001b[0m\u001b[1;33m\u001b[0m\u001b[0m\n\u001b[1;32m-> 3455\u001b[1;33m             \u001b[0mindexer\u001b[0m \u001b[1;33m=\u001b[0m \u001b[0mself\u001b[0m\u001b[1;33m.\u001b[0m\u001b[0mcolumns\u001b[0m\u001b[1;33m.\u001b[0m\u001b[0mget_loc\u001b[0m\u001b[1;33m(\u001b[0m\u001b[0mkey\u001b[0m\u001b[1;33m)\u001b[0m\u001b[1;33m\u001b[0m\u001b[1;33m\u001b[0m\u001b[0m\n\u001b[0m\u001b[0;32m   3456\u001b[0m             \u001b[1;32mif\u001b[0m \u001b[0mis_integer\u001b[0m\u001b[1;33m(\u001b[0m\u001b[0mindexer\u001b[0m\u001b[1;33m)\u001b[0m\u001b[1;33m:\u001b[0m\u001b[1;33m\u001b[0m\u001b[1;33m\u001b[0m\u001b[0m\n\u001b[0;32m   3457\u001b[0m                 \u001b[0mindexer\u001b[0m \u001b[1;33m=\u001b[0m \u001b[1;33m[\u001b[0m\u001b[0mindexer\u001b[0m\u001b[1;33m]\u001b[0m\u001b[1;33m\u001b[0m\u001b[1;33m\u001b[0m\u001b[0m\n",
      "\u001b[1;32mC:\\ProgramData\\Anaconda3\\lib\\site-packages\\pandas\\core\\indexes\\base.py\u001b[0m in \u001b[0;36mget_loc\u001b[1;34m(self, key, method, tolerance)\u001b[0m\n\u001b[0;32m   3361\u001b[0m                 \u001b[1;32mreturn\u001b[0m \u001b[0mself\u001b[0m\u001b[1;33m.\u001b[0m\u001b[0m_engine\u001b[0m\u001b[1;33m.\u001b[0m\u001b[0mget_loc\u001b[0m\u001b[1;33m(\u001b[0m\u001b[0mcasted_key\u001b[0m\u001b[1;33m)\u001b[0m\u001b[1;33m\u001b[0m\u001b[1;33m\u001b[0m\u001b[0m\n\u001b[0;32m   3362\u001b[0m             \u001b[1;32mexcept\u001b[0m \u001b[0mKeyError\u001b[0m \u001b[1;32mas\u001b[0m \u001b[0merr\u001b[0m\u001b[1;33m:\u001b[0m\u001b[1;33m\u001b[0m\u001b[1;33m\u001b[0m\u001b[0m\n\u001b[1;32m-> 3363\u001b[1;33m                 \u001b[1;32mraise\u001b[0m \u001b[0mKeyError\u001b[0m\u001b[1;33m(\u001b[0m\u001b[0mkey\u001b[0m\u001b[1;33m)\u001b[0m \u001b[1;32mfrom\u001b[0m \u001b[0merr\u001b[0m\u001b[1;33m\u001b[0m\u001b[1;33m\u001b[0m\u001b[0m\n\u001b[0m\u001b[0;32m   3364\u001b[0m \u001b[1;33m\u001b[0m\u001b[0m\n\u001b[0;32m   3365\u001b[0m         \u001b[1;32mif\u001b[0m \u001b[0mis_scalar\u001b[0m\u001b[1;33m(\u001b[0m\u001b[0mkey\u001b[0m\u001b[1;33m)\u001b[0m \u001b[1;32mand\u001b[0m \u001b[0misna\u001b[0m\u001b[1;33m(\u001b[0m\u001b[0mkey\u001b[0m\u001b[1;33m)\u001b[0m \u001b[1;32mand\u001b[0m \u001b[1;32mnot\u001b[0m \u001b[0mself\u001b[0m\u001b[1;33m.\u001b[0m\u001b[0mhasnans\u001b[0m\u001b[1;33m:\u001b[0m\u001b[1;33m\u001b[0m\u001b[1;33m\u001b[0m\u001b[0m\n",
      "\u001b[1;31mKeyError\u001b[0m: 'student'"
     ]
    }
   ],
   "source": [
    "data['student'] = data['student'].str.lower()\n",
    "\n",
    "data['course'] = (data['course'].str.replace('Obstetrics & Gynecology', 'Obstetrics'))"
   ]
  },
  {
   "cell_type": "code",
   "execution_count": null,
   "metadata": {
    "id": "Xm7vj2d_7S_T",
    "outputId": "c0fd31d2-25dd-44ea-da0f-e645da7a8680"
   },
   "outputs": [
    {
     "data": {
      "text/plain": [
       "array(['ryan', 'stephen', 'seth', 'matthew', 'mark', 'james', 'robert',\n",
       "       'rebecca', 'scott', 'courtney', 'sarah', 'christopher', 'nicholas',\n",
       "       'kelly', 'william', 'dennis', 'david', 'aaron', 'amanda',\n",
       "       'katherine', 'eric', 'kimberly'], dtype=object)"
      ]
     },
     "execution_count": 54,
     "metadata": {},
     "output_type": "execute_result"
    }
   ],
   "source": [
    "data['student'].unique()"
   ]
  },
  {
   "cell_type": "markdown",
   "metadata": {
    "id": "oWKJubRl7S_U"
   },
   "source": [
    "I created a custom pipeline in TextHero that:\n",
    "\n",
    " - removes whitespace between words\n",
    " - removes common stopwords\n",
    " - removes punctuation, diacritics, and digits\n",
    " - drops empty rows\n",
    "\n",
    "I will apply this later, after exploring the raw data further. "
   ]
  },
  {
   "cell_type": "code",
   "execution_count": null,
   "metadata": {
    "id": "1N1QMsrI7S_V"
   },
   "outputs": [],
   "source": [
    "from texthero import preprocessing\n",
    "\n",
    "custom_pipeline = [preprocessing.remove_whitespace,\n",
    "                   preprocessing.remove_stopwords,\n",
    "                   preprocessing.remove_diacritics,\n",
    "                   preprocessing.remove_punctuation,\n",
    "                   preprocessing.remove_digits,\n",
    "                   preprocessing.drop_no_content]"
   ]
  },
  {
   "cell_type": "markdown",
   "metadata": {
    "id": "SGxOYB2u7S_V"
   },
   "source": [
    "There are eight core specialties represented in the dataset:"
   ]
  },
  {
   "cell_type": "code",
   "execution_count": null,
   "metadata": {
    "id": "YvK0JkM07S_W",
    "outputId": "9891c526-def3-4f00-d462-7dea20212132"
   },
   "outputs": [
    {
     "data": {
      "text/plain": [
       "array(['Pediatrics', 'Obstetrics', 'Neurology', 'Psychiatry',\n",
       "       'Ambulatory', 'Family Medicine', 'Surgery', 'Internal Medicine'],\n",
       "      dtype=object)"
      ]
     },
     "execution_count": 56,
     "metadata": {},
     "output_type": "execute_result"
    }
   ],
   "source": [
    "data['course'].unique()"
   ]
  },
  {
   "cell_type": "markdown",
   "metadata": {
    "id": "7T4i8fxT7S_W"
   },
   "source": [
    "Students receive instruction from supervising senior physicians (attendings), physicians pursuing specialized post-graduate training (residents), and various members of the healthcare team (e.g., nurses)."
   ]
  },
  {
   "cell_type": "code",
   "execution_count": null,
   "metadata": {
    "id": "EGOGONae7S_W",
    "outputId": "f0d29189-4017-4dfe-bafb-f519538e566a"
   },
   "outputs": [
    {
     "data": {
      "text/plain": [
       "array(['Attending', 'Resident', 'Other'], dtype=object)"
      ]
     },
     "execution_count": 57,
     "metadata": {},
     "output_type": "execute_result"
    }
   ],
   "source": [
    "data.preceptor.unique()"
   ]
  },
  {
   "cell_type": "markdown",
   "metadata": {
    "id": "sTk1-0Qg7S_X"
   },
   "source": [
    "# Descriptive statistics\n",
    "\n",
    "There are 1,240 observations in the dataset, representing evaluations on 22 students. It's interesting that the most frequent comment in the dataset is \"no comments,\" because comments are recorded in a free-text field (i.e., there are no \"canned\" or pre-populated options). Given the busy pace of work in the hospital, and the high volume of required paperwork they must also complete, this is understandable though not ideal."
   ]
  },
  {
   "cell_type": "code",
   "execution_count": null,
   "metadata": {
    "id": "4R0WF1Eo7S_X",
    "outputId": "9d23882a-1ffc-41fb-ae73-cb13d2063345"
   },
   "outputs": [
    {
     "data": {
      "text/html": [
       "<div>\n",
       "<style scoped>\n",
       "    .dataframe tbody tr th:only-of-type {\n",
       "        vertical-align: middle;\n",
       "    }\n",
       "\n",
       "    .dataframe tbody tr th {\n",
       "        vertical-align: top;\n",
       "    }\n",
       "\n",
       "    .dataframe thead th {\n",
       "        text-align: right;\n",
       "    }\n",
       "</style>\n",
       "<table border=\"1\" class=\"dataframe\">\n",
       "  <thead>\n",
       "    <tr style=\"text-align: right;\">\n",
       "      <th></th>\n",
       "      <th>student</th>\n",
       "      <th>gender</th>\n",
       "      <th>course</th>\n",
       "      <th>preceptor</th>\n",
       "      <th>competency</th>\n",
       "      <th>rating</th>\n",
       "      <th>competency_label</th>\n",
       "      <th>comments_raw</th>\n",
       "    </tr>\n",
       "  </thead>\n",
       "  <tbody>\n",
       "    <tr>\n",
       "      <th>count</th>\n",
       "      <td>1240</td>\n",
       "      <td>1240</td>\n",
       "      <td>1240</td>\n",
       "      <td>1240</td>\n",
       "      <td>1240</td>\n",
       "      <td>1240</td>\n",
       "      <td>1240</td>\n",
       "      <td>1240</td>\n",
       "    </tr>\n",
       "    <tr>\n",
       "      <th>unique</th>\n",
       "      <td>22</td>\n",
       "      <td>2</td>\n",
       "      <td>8</td>\n",
       "      <td>3</td>\n",
       "      <td>13</td>\n",
       "      <td>5</td>\n",
       "      <td>5</td>\n",
       "      <td>1120</td>\n",
       "    </tr>\n",
       "    <tr>\n",
       "      <th>top</th>\n",
       "      <td>james</td>\n",
       "      <td>M</td>\n",
       "      <td>Internal Medicine</td>\n",
       "      <td>Attending</td>\n",
       "      <td>EPA 1</td>\n",
       "      <td>4</td>\n",
       "      <td>I needed to be available just in case</td>\n",
       "      <td>No comments</td>\n",
       "    </tr>\n",
       "    <tr>\n",
       "      <th>freq</th>\n",
       "      <td>90</td>\n",
       "      <td>798</td>\n",
       "      <td>233</td>\n",
       "      <td>596</td>\n",
       "      <td>299</td>\n",
       "      <td>641</td>\n",
       "      <td>641</td>\n",
       "      <td>38</td>\n",
       "    </tr>\n",
       "  </tbody>\n",
       "</table>\n",
       "</div>"
      ],
      "text/plain": [
       "       student gender             course  preceptor competency rating  \\\n",
       "count     1240   1240               1240       1240       1240   1240   \n",
       "unique      22      2                  8          3         13      5   \n",
       "top      james      M  Internal Medicine  Attending      EPA 1      4   \n",
       "freq        90    798                233        596        299    641   \n",
       "\n",
       "                             competency_label comments_raw  \n",
       "count                                    1240         1240  \n",
       "unique                                      5         1120  \n",
       "top     I needed to be available just in case  No comments  \n",
       "freq                                      641           38  "
      ]
     },
     "execution_count": 58,
     "metadata": {},
     "output_type": "execute_result"
    }
   ],
   "source": [
    "data.describe()"
   ]
  },
  {
   "cell_type": "markdown",
   "metadata": {
    "id": "ufJrTUxi7S_Y"
   },
   "source": [
    "I was curious to see whether the ratings aligned with qualitative feedback, as most evaluations rate students at a 4 or higher. A small sample reveals some room for improvement and a few common typos. For example, one physician used the shorthand for \"patient\" (\"pt\") when perhaps they're referring to the student (Ryan). "
   ]
  },
  {
   "cell_type": "code",
   "execution_count": null,
   "metadata": {
    "id": "4IqCIXiD7S_Y",
    "outputId": "a095b6f5-99ae-4978-e83e-2f0df2aafe5f"
   },
   "outputs": [
    {
     "data": {
      "text/html": [
       "<div>\n",
       "<style scoped>\n",
       "    .dataframe tbody tr th:only-of-type {\n",
       "        vertical-align: middle;\n",
       "    }\n",
       "\n",
       "    .dataframe tbody tr th {\n",
       "        vertical-align: top;\n",
       "    }\n",
       "\n",
       "    .dataframe thead th {\n",
       "        text-align: right;\n",
       "    }\n",
       "</style>\n",
       "<table border=\"1\" class=\"dataframe\">\n",
       "  <thead>\n",
       "    <tr style=\"text-align: right;\">\n",
       "      <th></th>\n",
       "      <th>student</th>\n",
       "      <th>gender</th>\n",
       "      <th>course</th>\n",
       "      <th>preceptor</th>\n",
       "      <th>competency</th>\n",
       "      <th>rating</th>\n",
       "      <th>competency_label</th>\n",
       "      <th>comments_raw</th>\n",
       "    </tr>\n",
       "  </thead>\n",
       "  <tbody>\n",
       "    <tr>\n",
       "      <th>12</th>\n",
       "      <td>ryan</td>\n",
       "      <td>M</td>\n",
       "      <td>Neurology</td>\n",
       "      <td>Attending</td>\n",
       "      <td>EPA 6</td>\n",
       "      <td>5</td>\n",
       "      <td>I did not need to be there</td>\n",
       "      <td>Pt would easily become independent with additi...</td>\n",
       "    </tr>\n",
       "    <tr>\n",
       "      <th>15</th>\n",
       "      <td>ryan</td>\n",
       "      <td>M</td>\n",
       "      <td>Psychiatry</td>\n",
       "      <td>Resident</td>\n",
       "      <td>EPA 2</td>\n",
       "      <td>5</td>\n",
       "      <td>I did not need to be there</td>\n",
       "      <td>Doing a good job</td>\n",
       "    </tr>\n",
       "    <tr>\n",
       "      <th>16</th>\n",
       "      <td>ryan</td>\n",
       "      <td>M</td>\n",
       "      <td>Psychiatry</td>\n",
       "      <td>Resident</td>\n",
       "      <td>EPA 2</td>\n",
       "      <td>5</td>\n",
       "      <td>I did not need to be there</td>\n",
       "      <td>Doing a good job</td>\n",
       "    </tr>\n",
       "    <tr>\n",
       "      <th>17</th>\n",
       "      <td>ryan</td>\n",
       "      <td>M</td>\n",
       "      <td>Psychiatry</td>\n",
       "      <td>Resident</td>\n",
       "      <td>EPA 7</td>\n",
       "      <td>5</td>\n",
       "      <td>I did not need to be there</td>\n",
       "      <td>continuing to do good work</td>\n",
       "    </tr>\n",
       "    <tr>\n",
       "      <th>19</th>\n",
       "      <td>ryan</td>\n",
       "      <td>M</td>\n",
       "      <td>Psychiatry</td>\n",
       "      <td>Resident</td>\n",
       "      <td>EPA 1</td>\n",
       "      <td>5</td>\n",
       "      <td>I did not need to be there</td>\n",
       "      <td>Very thorough. Doing a great job</td>\n",
       "    </tr>\n",
       "  </tbody>\n",
       "</table>\n",
       "</div>"
      ],
      "text/plain": [
       "   student gender      course  preceptor competency rating  \\\n",
       "12    ryan      M   Neurology  Attending      EPA 6      5   \n",
       "15    ryan      M  Psychiatry   Resident      EPA 2      5   \n",
       "16    ryan      M  Psychiatry   Resident      EPA 2      5   \n",
       "17    ryan      M  Psychiatry   Resident      EPA 7      5   \n",
       "19    ryan      M  Psychiatry   Resident      EPA 1      5   \n",
       "\n",
       "              competency_label  \\\n",
       "12  I did not need to be there   \n",
       "15  I did not need to be there   \n",
       "16  I did not need to be there   \n",
       "17  I did not need to be there   \n",
       "19  I did not need to be there   \n",
       "\n",
       "                                         comments_raw  \n",
       "12  Pt would easily become independent with additi...  \n",
       "15                                   Doing a good job  \n",
       "16                                   Doing a good job  \n",
       "17                         continuing to do good work  \n",
       "19                   Very thorough. Doing a great job  "
      ]
     },
     "execution_count": 59,
     "metadata": {},
     "output_type": "execute_result"
    }
   ],
   "source": [
    "data[data['rating'] == '5'].head()"
   ]
  },
  {
   "cell_type": "markdown",
   "metadata": {
    "id": "Oyo0ri-i7S_Y"
   },
   "source": [
    "## Checking for missing values\n",
    "\n",
    "We don't have any missing values in this data set, which simplifies some steps for cleaning."
   ]
  },
  {
   "cell_type": "code",
   "execution_count": null,
   "metadata": {
    "id": "DOdKm8xo7S_a",
    "outputId": "4d3e2ccf-8c35-40fe-ecf1-9ba40f4d5d03"
   },
   "outputs": [
    {
     "data": {
      "text/plain": [
       "student             0\n",
       "gender              0\n",
       "course              0\n",
       "preceptor           0\n",
       "competency          0\n",
       "rating              0\n",
       "competency_label    0\n",
       "comments_raw        0\n",
       "dtype: int64"
      ]
     },
     "execution_count": 60,
     "metadata": {},
     "output_type": "execute_result"
    }
   ],
   "source": [
    "data.isna().sum()"
   ]
  },
  {
   "cell_type": "markdown",
   "metadata": {
    "id": "BOrTv_OQ7S_a"
   },
   "source": [
    "# Are students evaluated more often in some competencies than others?\n",
    "There seems to be a preference for evaluating students in their history and physical exam (EPA 1), oral presentations (EPA 6), clinical documentation (EPA 5), and differential diagnosis (EPA 2). This makes sense, because many of the less utilized competencies represent complex tasks that students may not be authorized to perform in every setting."
   ]
  },
  {
   "cell_type": "code",
   "execution_count": null,
   "metadata": {
    "id": "9QQlvLk_7S_a",
    "outputId": "8afaf8fe-861c-4bd6-fee6-042221e9b0e9"
   },
   "outputs": [
    {
     "data": {
      "image/png": "[encoded data removed]",
      "text/plain": [
       "<Figure size 360x360 with 1 Axes>"
      ]
     },
     "metadata": {
      "needs_background": "light"
     },
     "output_type": "display_data"
    }
   ],
   "source": [
    "total = len(data)\n",
    "\n",
    "plt.figure(figsize = (5, 5))\n",
    "plt.title('Competency frequency')\n",
    "ax = sns.countplot(y = 'competency', data = data)\n",
    "for p in ax.patches:\n",
    "    percentage = '{0:.0f}%'.format(p.get_height() / total * 100)\n",
    "    x = p.get_x() + p.get_width() / 2\n",
    "    y = p.get_height() + 20\n",
    "    ax.annotate(percentage, (x, y), ha = 'center')\n",
    "plt.show()"
   ]
  },
  {
   "cell_type": "markdown",
   "metadata": {
    "id": "9CcvIg-m7S_a"
   },
   "source": [
    "# Visualize the comments in a word cloud"
   ]
  },
  {
   "cell_type": "code",
   "execution_count": null,
   "metadata": {
    "id": "rhhq9G3q7S_a",
    "outputId": "548aee59-2ddf-4783-fdc3-a0a7e26c1c73"
   },
   "outputs": [
    {
     "data": {
      "image/png": "[encoded data removed]",
      "text/plain": [
       "<Figure size 432x288 with 1 Axes>"
      ]
     },
     "metadata": {
      "needs_background": "light"
     },
     "output_type": "display_data"
    }
   ],
   "source": [
    "# https://amueller.github.io/word_cloud/auto_examples/simple.html\n",
    "# https://www.python-graph-gallery.com/wordcloud/\n",
    "# https://towardsdatascience.com/how-to-create-beautiful-word-clouds-in-python-cfcf85141214\n",
    "\n",
    "from nltk.corpus import stopwords\n",
    "stopwords = nltk.corpus.stopwords.words('english')\n",
    "from wordcloud import WordCloud, STOPWORDS\n",
    "\n",
    "# collect the comments\n",
    "comment = \" \".join(comment for comment in data.comments_raw)\n",
    "wordcloud = WordCloud(max_font_size = 40,\n",
    "                      collocations = False, \n",
    "                      stopwords = stopwords,\n",
    "                      margin = 0, \n",
    "                      background_color = 'white', \n",
    "                      colormap = 'twilight').generate(comment)\n",
    "plt.imshow(wordcloud, interpolation = 'bilinear')\n",
    "plt.axis(\"off\")\n",
    "plt.savefig('wordcloud11.png')\n",
    "plt.show()"
   ]
  },
  {
   "cell_type": "markdown",
   "metadata": {
    "id": "uzUu9NFL7S_a"
   },
   "source": [
    "Based on the information visualized in the wordcloud, I decided to incorporate key words, like \"patient\" and \"student\" into the list of stopwords."
   ]
  },
  {
   "cell_type": "code",
   "execution_count": null,
   "metadata": {
    "id": "ORF4G07D7S_b"
   },
   "outputs": [],
   "source": [
    "wn = nltk.WordNetLemmatizer()\n",
    "\n",
    "# Create function for text cleaning \n",
    "def clean_text(text):\n",
    "    text = ''.join([word.lower() for word in text if word not in string.punctuation])\n",
    "    tokens = re.findall('\\S+', text)\n",
    "    text = [wn.lemmatize(word) for word in tokens if word not in stopwords] \n",
    "    return text\n",
    "\n",
    "data['words'] = data['comments_raw'].apply(lambda x: clean_text(str(x)))\n",
    "\n",
    "# Define extra stopwords\n",
    "extra_stopwords = ['history', 'h', 'p', 'sure', 'well', 'patient', 'student', 'exam', 'make']\n",
    "\n",
    "# this doesn't seem to matter :/\n",
    "names = list(data['student'].unique())\n",
    "extra_stopwords.append(names)\n",
    "\n",
    "# Remove extra stopwords  \n",
    "data['words'] = data['words'].apply(lambda x: [word for word in x if word not in extra_stopwords])"
   ]
  },
  {
   "cell_type": "code",
   "execution_count": null,
   "metadata": {
    "id": "04Zu7IIi7S_b",
    "outputId": "a3aeacbc-a2cf-44e2-bd17-fcb3970c3dc6"
   },
   "outputs": [
    {
     "data": {
      "text/html": [
       "<div>\n",
       "<style scoped>\n",
       "    .dataframe tbody tr th:only-of-type {\n",
       "        vertical-align: middle;\n",
       "    }\n",
       "\n",
       "    .dataframe tbody tr th {\n",
       "        vertical-align: top;\n",
       "    }\n",
       "\n",
       "    .dataframe thead th {\n",
       "        text-align: right;\n",
       "    }\n",
       "</style>\n",
       "<table border=\"1\" class=\"dataframe\">\n",
       "  <thead>\n",
       "    <tr style=\"text-align: right;\">\n",
       "      <th></th>\n",
       "      <th>comments_raw</th>\n",
       "      <th>words</th>\n",
       "    </tr>\n",
       "  </thead>\n",
       "  <tbody>\n",
       "    <tr>\n",
       "      <th>0</th>\n",
       "      <td>Work on your interview structure. Keep it cons...</td>\n",
       "      <td>[work, interview, structure, keep, consistent,...</td>\n",
       "    </tr>\n",
       "    <tr>\n",
       "      <th>1</th>\n",
       "      <td>Develop ED focused presentation skills by pres...</td>\n",
       "      <td>[develop, ed, focused, presentation, skill, pr...</td>\n",
       "    </tr>\n",
       "    <tr>\n",
       "      <th>2</th>\n",
       "      <td>Watch as many physical exams as possible</td>\n",
       "      <td>[watch, many, physical, possible]</td>\n",
       "    </tr>\n",
       "    <tr>\n",
       "      <th>3</th>\n",
       "      <td>Should work on being more methodical in collec...</td>\n",
       "      <td>[work, methodical, collecting, information, pr...</td>\n",
       "    </tr>\n",
       "    <tr>\n",
       "      <th>4</th>\n",
       "      <td>Did well reorganizing the assessment by proble...</td>\n",
       "      <td>[reorganizing, assessment, problem, plan, prob...</td>\n",
       "    </tr>\n",
       "    <tr>\n",
       "      <th>5</th>\n",
       "      <td>I think it's great to get involved with what p...</td>\n",
       "      <td>[think, great, get, involved, physical, therap...</td>\n",
       "    </tr>\n",
       "    <tr>\n",
       "      <th>6</th>\n",
       "      <td>Present, scrubbed and engaged for a hysterecto...</td>\n",
       "      <td>[present, scrubbed, engaged, hysterectomy, ask...</td>\n",
       "    </tr>\n",
       "    <tr>\n",
       "      <th>7</th>\n",
       "      <td>Needs to work on physical exam skills and orga...</td>\n",
       "      <td>[need, work, physical, skill, organizing, pres...</td>\n",
       "    </tr>\n",
       "    <tr>\n",
       "      <th>8</th>\n",
       "      <td>This was a presentation for a case based teach...</td>\n",
       "      <td>[presentation, case, based, teaching, conferen...</td>\n",
       "    </tr>\n",
       "    <tr>\n",
       "      <th>9</th>\n",
       "      <td>Doing just fine for a new third year.</td>\n",
       "      <td>[fine, new, third, year]</td>\n",
       "    </tr>\n",
       "    <tr>\n",
       "      <th>10</th>\n",
       "      <td>Continue thinking about how the history influe...</td>\n",
       "      <td>[continue, thinking, influence, additional, ne...</td>\n",
       "    </tr>\n",
       "    <tr>\n",
       "      <th>11</th>\n",
       "      <td>We discussed when CT would be ordered and revi...</td>\n",
       "      <td>[discussed, ct, would, ordered, reviewed, ct, ...</td>\n",
       "    </tr>\n",
       "    <tr>\n",
       "      <th>12</th>\n",
       "      <td>Pt would easily become independent with additi...</td>\n",
       "      <td>[pt, would, easily, become, independent, addit...</td>\n",
       "    </tr>\n",
       "    <tr>\n",
       "      <th>13</th>\n",
       "      <td>attention to details</td>\n",
       "      <td>[attention, detail]</td>\n",
       "    </tr>\n",
       "    <tr>\n",
       "      <th>14</th>\n",
       "      <td>Continue clinical exposure to more and varied ...</td>\n",
       "      <td>[continue, clinical, exposure, varied, develop...</td>\n",
       "    </tr>\n",
       "    <tr>\n",
       "      <th>15</th>\n",
       "      <td>Doing a good job</td>\n",
       "      <td>[good, job]</td>\n",
       "    </tr>\n",
       "    <tr>\n",
       "      <th>16</th>\n",
       "      <td>Doing a good job</td>\n",
       "      <td>[good, job]</td>\n",
       "    </tr>\n",
       "    <tr>\n",
       "      <th>17</th>\n",
       "      <td>continuing to do good work</td>\n",
       "      <td>[continuing, good, work]</td>\n",
       "    </tr>\n",
       "    <tr>\n",
       "      <th>18</th>\n",
       "      <td>The medical student was able to complete a bri...</td>\n",
       "      <td>[medical, able, complete, brief, structured, p...</td>\n",
       "    </tr>\n",
       "    <tr>\n",
       "      <th>19</th>\n",
       "      <td>Very thorough. Doing a great job</td>\n",
       "      <td>[thorough, great, job]</td>\n",
       "    </tr>\n",
       "  </tbody>\n",
       "</table>\n",
       "</div>"
      ],
      "text/plain": [
       "                                         comments_raw  \\\n",
       "0   Work on your interview structure. Keep it cons...   \n",
       "1   Develop ED focused presentation skills by pres...   \n",
       "2           Watch as many physical exams as possible    \n",
       "3   Should work on being more methodical in collec...   \n",
       "4   Did well reorganizing the assessment by proble...   \n",
       "5   I think it's great to get involved with what p...   \n",
       "6   Present, scrubbed and engaged for a hysterecto...   \n",
       "7   Needs to work on physical exam skills and orga...   \n",
       "8   This was a presentation for a case based teach...   \n",
       "9              Doing just fine for a new third year.    \n",
       "10  Continue thinking about how the history influe...   \n",
       "11  We discussed when CT would be ordered and revi...   \n",
       "12  Pt would easily become independent with additi...   \n",
       "13                               attention to details   \n",
       "14  Continue clinical exposure to more and varied ...   \n",
       "15                                   Doing a good job   \n",
       "16                                   Doing a good job   \n",
       "17                         continuing to do good work   \n",
       "18  The medical student was able to complete a bri...   \n",
       "19                   Very thorough. Doing a great job   \n",
       "\n",
       "                                                words  \n",
       "0   [work, interview, structure, keep, consistent,...  \n",
       "1   [develop, ed, focused, presentation, skill, pr...  \n",
       "2                   [watch, many, physical, possible]  \n",
       "3   [work, methodical, collecting, information, pr...  \n",
       "4   [reorganizing, assessment, problem, plan, prob...  \n",
       "5   [think, great, get, involved, physical, therap...  \n",
       "6   [present, scrubbed, engaged, hysterectomy, ask...  \n",
       "7   [need, work, physical, skill, organizing, pres...  \n",
       "8   [presentation, case, based, teaching, conferen...  \n",
       "9                            [fine, new, third, year]  \n",
       "10  [continue, thinking, influence, additional, ne...  \n",
       "11  [discussed, ct, would, ordered, reviewed, ct, ...  \n",
       "12  [pt, would, easily, become, independent, addit...  \n",
       "13                                [attention, detail]  \n",
       "14  [continue, clinical, exposure, varied, develop...  \n",
       "15                                        [good, job]  \n",
       "16                                        [good, job]  \n",
       "17                           [continuing, good, work]  \n",
       "18  [medical, able, complete, brief, structured, p...  \n",
       "19                             [thorough, great, job]  "
      ]
     },
     "execution_count": 64,
     "metadata": {},
     "output_type": "execute_result"
    }
   ],
   "source": [
    "data[['comments_raw', 'words']].head(20)"
   ]
  },
  {
   "cell_type": "markdown",
   "metadata": {
    "id": "Xg9bNFq27S_c"
   },
   "source": [
    "As I experimented with various NLP packages, I opted to preserve the \"raw comments\" and added a new column for comments I passed through the TextHero preprocessing pipleline."
   ]
  },
  {
   "cell_type": "code",
   "execution_count": null,
   "metadata": {
    "id": "Z31I2S8M7S_c",
    "outputId": "200eaf54-631e-46f0-b8c6-4cd4a0e0d82a"
   },
   "outputs": [
    {
     "data": {
      "text/html": [
       "<div>\n",
       "<style scoped>\n",
       "    .dataframe tbody tr th:only-of-type {\n",
       "        vertical-align: middle;\n",
       "    }\n",
       "\n",
       "    .dataframe tbody tr th {\n",
       "        vertical-align: top;\n",
       "    }\n",
       "\n",
       "    .dataframe thead th {\n",
       "        text-align: right;\n",
       "    }\n",
       "</style>\n",
       "<table border=\"1\" class=\"dataframe\">\n",
       "  <thead>\n",
       "    <tr style=\"text-align: right;\">\n",
       "      <th></th>\n",
       "      <th>student</th>\n",
       "      <th>gender</th>\n",
       "      <th>course</th>\n",
       "      <th>preceptor</th>\n",
       "      <th>competency</th>\n",
       "      <th>rating</th>\n",
       "      <th>competency_label</th>\n",
       "      <th>comments_raw</th>\n",
       "      <th>words</th>\n",
       "      <th>comments_clean</th>\n",
       "    </tr>\n",
       "  </thead>\n",
       "  <tbody>\n",
       "    <tr>\n",
       "      <th>0</th>\n",
       "      <td>ryan</td>\n",
       "      <td>M</td>\n",
       "      <td>Pediatrics</td>\n",
       "      <td>Attending</td>\n",
       "      <td>EPA 1</td>\n",
       "      <td>3</td>\n",
       "      <td>I had to prompt them from time to time</td>\n",
       "      <td>Work on your interview structure. Keep it cons...</td>\n",
       "      <td>[work, interview, structure, keep, consistent,...</td>\n",
       "      <td>Work   interview structure  Keep  consistent  ...</td>\n",
       "    </tr>\n",
       "    <tr>\n",
       "      <th>1</th>\n",
       "      <td>ryan</td>\n",
       "      <td>M</td>\n",
       "      <td>Pediatrics</td>\n",
       "      <td>Attending</td>\n",
       "      <td>EPA 6</td>\n",
       "      <td>3</td>\n",
       "      <td>I had to prompt them from time to time</td>\n",
       "      <td>Develop ED focused presentation skills by pres...</td>\n",
       "      <td>[develop, ed, focused, presentation, skill, pr...</td>\n",
       "      <td>Develop ED focused presentation skills  presen...</td>\n",
       "    </tr>\n",
       "    <tr>\n",
       "      <th>2</th>\n",
       "      <td>ryan</td>\n",
       "      <td>M</td>\n",
       "      <td>Pediatrics</td>\n",
       "      <td>Attending</td>\n",
       "      <td>EPA 2</td>\n",
       "      <td>4</td>\n",
       "      <td>I needed to be available just in case</td>\n",
       "      <td>Watch as many physical exams as possible</td>\n",
       "      <td>[watch, many, physical, possible]</td>\n",
       "      <td>Watch  many physical exams  possible</td>\n",
       "    </tr>\n",
       "    <tr>\n",
       "      <th>3</th>\n",
       "      <td>ryan</td>\n",
       "      <td>M</td>\n",
       "      <td>Pediatrics</td>\n",
       "      <td>Attending</td>\n",
       "      <td>EPA 3</td>\n",
       "      <td>3</td>\n",
       "      <td>I had to prompt them from time to time</td>\n",
       "      <td>Should work on being more methodical in collec...</td>\n",
       "      <td>[work, methodical, collecting, information, pr...</td>\n",
       "      <td>Should work    methodical  collecting informat...</td>\n",
       "    </tr>\n",
       "    <tr>\n",
       "      <th>4</th>\n",
       "      <td>ryan</td>\n",
       "      <td>M</td>\n",
       "      <td>Pediatrics</td>\n",
       "      <td>Attending</td>\n",
       "      <td>EPA 5</td>\n",
       "      <td>3</td>\n",
       "      <td>I had to prompt them from time to time</td>\n",
       "      <td>Did well reorganizing the assessment by proble...</td>\n",
       "      <td>[reorganizing, assessment, problem, plan, prob...</td>\n",
       "      <td>Did well reorganizing  assessment  problem   p...</td>\n",
       "    </tr>\n",
       "    <tr>\n",
       "      <th>5</th>\n",
       "      <td>ryan</td>\n",
       "      <td>M</td>\n",
       "      <td>Pediatrics</td>\n",
       "      <td>Attending</td>\n",
       "      <td>EPA 9</td>\n",
       "      <td>4</td>\n",
       "      <td>I needed to be available just in case</td>\n",
       "      <td>I think it's great to get involved with what p...</td>\n",
       "      <td>[think, great, get, involved, physical, therap...</td>\n",
       "      <td>I think   great  get involved   physical thera...</td>\n",
       "    </tr>\n",
       "    <tr>\n",
       "      <th>6</th>\n",
       "      <td>ryan</td>\n",
       "      <td>M</td>\n",
       "      <td>Obstetrics</td>\n",
       "      <td>Attending</td>\n",
       "      <td>EPA 9</td>\n",
       "      <td>3</td>\n",
       "      <td>I had to prompt them from time to time</td>\n",
       "      <td>Present, scrubbed and engaged for a hysterecto...</td>\n",
       "      <td>[present, scrubbed, engaged, hysterectomy, ask...</td>\n",
       "      <td>Present  scrubbed  engaged   hysterectomy  Ask...</td>\n",
       "    </tr>\n",
       "    <tr>\n",
       "      <th>7</th>\n",
       "      <td>ryan</td>\n",
       "      <td>M</td>\n",
       "      <td>Obstetrics</td>\n",
       "      <td>Resident</td>\n",
       "      <td>EPA 6</td>\n",
       "      <td>3</td>\n",
       "      <td>I had to prompt them from time to time</td>\n",
       "      <td>Needs to work on physical exam skills and orga...</td>\n",
       "      <td>[need, work, physical, skill, organizing, pres...</td>\n",
       "      <td>Needs  work  physical exam skills  organizing ...</td>\n",
       "    </tr>\n",
       "    <tr>\n",
       "      <th>8</th>\n",
       "      <td>ryan</td>\n",
       "      <td>M</td>\n",
       "      <td>Obstetrics</td>\n",
       "      <td>Attending</td>\n",
       "      <td>EPA 6</td>\n",
       "      <td>3</td>\n",
       "      <td>I had to prompt them from time to time</td>\n",
       "      <td>This was a presentation for a case based teach...</td>\n",
       "      <td>[presentation, case, based, teaching, conferen...</td>\n",
       "      <td>This   presentation   case based teaching conf...</td>\n",
       "    </tr>\n",
       "    <tr>\n",
       "      <th>9</th>\n",
       "      <td>ryan</td>\n",
       "      <td>M</td>\n",
       "      <td>Obstetrics</td>\n",
       "      <td>Resident</td>\n",
       "      <td>EPA 7</td>\n",
       "      <td>3</td>\n",
       "      <td>I had to prompt them from time to time</td>\n",
       "      <td>Doing just fine for a new third year.</td>\n",
       "      <td>[fine, new, third, year]</td>\n",
       "      <td>Doing  fine   new third year</td>\n",
       "    </tr>\n",
       "  </tbody>\n",
       "</table>\n",
       "</div>"
      ],
      "text/plain": [
       "  student gender      course  preceptor competency rating  \\\n",
       "0    ryan      M  Pediatrics  Attending      EPA 1      3   \n",
       "1    ryan      M  Pediatrics  Attending      EPA 6      3   \n",
       "2    ryan      M  Pediatrics  Attending      EPA 2      4   \n",
       "3    ryan      M  Pediatrics  Attending      EPA 3      3   \n",
       "4    ryan      M  Pediatrics  Attending      EPA 5      3   \n",
       "5    ryan      M  Pediatrics  Attending      EPA 9      4   \n",
       "6    ryan      M  Obstetrics  Attending      EPA 9      3   \n",
       "7    ryan      M  Obstetrics   Resident      EPA 6      3   \n",
       "8    ryan      M  Obstetrics  Attending      EPA 6      3   \n",
       "9    ryan      M  Obstetrics   Resident      EPA 7      3   \n",
       "\n",
       "                         competency_label  \\\n",
       "0  I had to prompt them from time to time   \n",
       "1  I had to prompt them from time to time   \n",
       "2   I needed to be available just in case   \n",
       "3  I had to prompt them from time to time   \n",
       "4  I had to prompt them from time to time   \n",
       "5   I needed to be available just in case   \n",
       "6  I had to prompt them from time to time   \n",
       "7  I had to prompt them from time to time   \n",
       "8  I had to prompt them from time to time   \n",
       "9  I had to prompt them from time to time   \n",
       "\n",
       "                                        comments_raw  \\\n",
       "0  Work on your interview structure. Keep it cons...   \n",
       "1  Develop ED focused presentation skills by pres...   \n",
       "2          Watch as many physical exams as possible    \n",
       "3  Should work on being more methodical in collec...   \n",
       "4  Did well reorganizing the assessment by proble...   \n",
       "5  I think it's great to get involved with what p...   \n",
       "6  Present, scrubbed and engaged for a hysterecto...   \n",
       "7  Needs to work on physical exam skills and orga...   \n",
       "8  This was a presentation for a case based teach...   \n",
       "9             Doing just fine for a new third year.    \n",
       "\n",
       "                                               words  \\\n",
       "0  [work, interview, structure, keep, consistent,...   \n",
       "1  [develop, ed, focused, presentation, skill, pr...   \n",
       "2                  [watch, many, physical, possible]   \n",
       "3  [work, methodical, collecting, information, pr...   \n",
       "4  [reorganizing, assessment, problem, plan, prob...   \n",
       "5  [think, great, get, involved, physical, therap...   \n",
       "6  [present, scrubbed, engaged, hysterectomy, ask...   \n",
       "7  [need, work, physical, skill, organizing, pres...   \n",
       "8  [presentation, case, based, teaching, conferen...   \n",
       "9                           [fine, new, third, year]   \n",
       "\n",
       "                                      comments_clean  \n",
       "0  Work   interview structure  Keep  consistent  ...  \n",
       "1  Develop ED focused presentation skills  presen...  \n",
       "2               Watch  many physical exams  possible  \n",
       "3  Should work    methodical  collecting informat...  \n",
       "4  Did well reorganizing  assessment  problem   p...  \n",
       "5  I think   great  get involved   physical thera...  \n",
       "6  Present  scrubbed  engaged   hysterectomy  Ask...  \n",
       "7  Needs  work  physical exam skills  organizing ...  \n",
       "8  This   presentation   case based teaching conf...  \n",
       "9                      Doing  fine   new third year   "
      ]
     },
     "execution_count": 65,
     "metadata": {},
     "output_type": "execute_result"
    }
   ],
   "source": [
    "data['comments_clean'] = data['comments_raw']\n",
    "\n",
    "# clean the comments but preserve the original comments\n",
    "data['comments_clean'] = hero.clean(data['comments_clean'], custom_pipeline)\n",
    "\n",
    "data.head(10)"
   ]
  },
  {
   "cell_type": "markdown",
   "metadata": {
    "id": "tkUtsXKz7S_c"
   },
   "source": [
    "# Visualizing top words associated with high/low evaluation ratings"
   ]
  },
  {
   "cell_type": "code",
   "execution_count": null,
   "metadata": {
    "id": "O_Wu4yXF7S_c",
    "outputId": "e41b46b0-a021-427b-e054-0ba81325e101"
   },
   "outputs": [
    {
     "data": {
      "text/plain": [
       "Text(0.5, 1.0, 'Words used often in evaluations with high ratings')"
      ]
     },
     "execution_count": 66,
     "metadata": {},
     "output_type": "execute_result"
    },
    {
     "data": {
      "image/png": "[encoded data removed]",
      "text/plain": [
       "<Figure size 1080x360 with 1 Axes>"
      ]
     },
     "metadata": {
      "needs_background": "light"
     },
     "output_type": "display_data"
    }
   ],
   "source": [
    "from collections import Counter\n",
    "\n",
    "high_rating = list(data.loc[data.rating == '5', 'words'])\n",
    "\n",
    "# Flatten list of lists\n",
    "high_rating = list(np.concatenate(high_rating).flat)\n",
    "\n",
    "# Create dictionary to store word frequency\n",
    "high_rating = Counter(high_rating)\n",
    "hr_words = pd.DataFrame(high_rating.most_common(30), columns = ['word', 'frequency'])\n",
    "\n",
    "# plot most common words related to the H&P competency\n",
    "fig, ax = plt.subplots(figsize = (15, 5))\n",
    "sns.barplot(x = 'frequency', y = 'word', data = hr_words, ax = ax)\n",
    "plt.xticks(rotation = '90')\n",
    "plt.title('Words used often in evaluations with high ratings')"
   ]
  },
  {
   "cell_type": "markdown",
   "metadata": {
    "id": "MDAfOY9U7S_c"
   },
   "source": [
    "The results make sense, given that lower ratings indicate that the student's skills are developing. Words like _continue_ and _practice_ reflect this."
   ]
  },
  {
   "cell_type": "code",
   "execution_count": null,
   "metadata": {
    "id": "l9m3lrVh7S_d",
    "outputId": "02ad1381-6233-4efc-97c4-10aacc64ef55"
   },
   "outputs": [
    {
     "data": {
      "text/plain": [
       "Text(0.5, 1.0, 'Words used often in evaluations with low ratings')"
      ]
     },
     "execution_count": 67,
     "metadata": {},
     "output_type": "execute_result"
    },
    {
     "data": {
      "image/png": "[encoded data removed]",
      "text/plain": [
       "<Figure size 1080x360 with 1 Axes>"
      ]
     },
     "metadata": {
      "needs_background": "light"
     },
     "output_type": "display_data"
    }
   ],
   "source": [
    "low_rating = list(data.loc[data.rating < '3', 'words'])\n",
    "\n",
    "# Flatten list of lists\n",
    "low_rating = list(np.concatenate(low_rating).flat)\n",
    "\n",
    "# Create dictionary to store word frequency\n",
    "low_rating = Counter(low_rating)\n",
    "lr_words = pd.DataFrame(low_rating.most_common(30), columns = ['word', 'frequency'])\n",
    "\n",
    "# plot most common words related to the H&P competency\n",
    "fig, ax = plt.subplots(figsize = (15, 5))\n",
    "sns.barplot(x = 'frequency', y = 'word', data = lr_words, ax = ax)\n",
    "plt.xticks(rotation = '90')\n",
    "plt.title('Words used often in evaluations with low ratings')"
   ]
  },
  {
   "cell_type": "markdown",
   "metadata": {
    "id": "kdtR9t2d7S_d"
   },
   "source": [
    "# SQL Lite\n",
    "\n",
    "As I was exploring different techniques, I came across a suggestion to utilize SQL Lite (<a href=\"https://www.oreilly.com/library/view/blueprints-for-text/9781492074076/ch04.html\">Albrecht, Ramachanran, & Winkler</a>). I kept this in my final list of steps because it provided additional flexibility to revert back to earlier iterations of the dataframe."
   ]
  },
  {
   "cell_type": "code",
   "execution_count": null,
   "metadata": {
    "id": "UrTd6Xch7S_d",
    "outputId": "f0f631dc-16d4-4fa6-c7c3-2a74e2e32b29"
   },
   "outputs": [
    {
     "data": {
      "text/plain": [
       "Index(['student', 'gender', 'course', 'preceptor', 'competency', 'rating',\n",
       "       'competency_label', 'comments_raw', 'words', 'comments_clean'],\n",
       "      dtype='object')"
      ]
     },
     "execution_count": 68,
     "metadata": {},
     "output_type": "execute_result"
    }
   ],
   "source": [
    "data.columns"
   ]
  },
  {
   "cell_type": "code",
   "execution_count": null,
   "metadata": {
    "id": "gtB6yem77S_d"
   },
   "outputs": [],
   "source": [
    "column_map = {'course' : 'course', 'student' : 'student', 'gender' : 'gender', 'competency' : 'competency', \n",
    "              'competency_label' : 'competency_label', 'rating' : 'rating', 'comments_raw': 'comments_raw'\n",
    "              }\n",
    "\n",
    "# define remaining columns\n",
    "columns = [c for c in column_map.keys() if column_map[c] != None]\n",
    "\n",
    "# select and rename those columns\n",
    "eval_data = data[columns].rename(columns = column_map)"
   ]
  },
  {
   "cell_type": "code",
   "execution_count": null,
   "metadata": {
    "id": "lloBmnp17S_e",
    "outputId": "f451b47c-6950-47f2-9c6b-bd08fad7f63f"
   },
   "outputs": [
    {
     "data": {
      "text/html": [
       "<div>\n",
       "<style scoped>\n",
       "    .dataframe tbody tr th:only-of-type {\n",
       "        vertical-align: middle;\n",
       "    }\n",
       "\n",
       "    .dataframe tbody tr th {\n",
       "        vertical-align: top;\n",
       "    }\n",
       "\n",
       "    .dataframe thead th {\n",
       "        text-align: right;\n",
       "    }\n",
       "</style>\n",
       "<table border=\"1\" class=\"dataframe\">\n",
       "  <thead>\n",
       "    <tr style=\"text-align: right;\">\n",
       "      <th></th>\n",
       "      <th>course</th>\n",
       "      <th>student</th>\n",
       "      <th>gender</th>\n",
       "      <th>competency</th>\n",
       "      <th>competency_label</th>\n",
       "      <th>rating</th>\n",
       "      <th>comments_raw</th>\n",
       "    </tr>\n",
       "  </thead>\n",
       "  <tbody>\n",
       "    <tr>\n",
       "      <th>0</th>\n",
       "      <td>Pediatrics</td>\n",
       "      <td>ryan</td>\n",
       "      <td>M</td>\n",
       "      <td>EPA 1</td>\n",
       "      <td>I had to prompt them from time to time</td>\n",
       "      <td>3</td>\n",
       "      <td>Work on your interview structure. Keep it cons...</td>\n",
       "    </tr>\n",
       "    <tr>\n",
       "      <th>1</th>\n",
       "      <td>Pediatrics</td>\n",
       "      <td>ryan</td>\n",
       "      <td>M</td>\n",
       "      <td>EPA 6</td>\n",
       "      <td>I had to prompt them from time to time</td>\n",
       "      <td>3</td>\n",
       "      <td>Develop ED focused presentation skills by pres...</td>\n",
       "    </tr>\n",
       "    <tr>\n",
       "      <th>2</th>\n",
       "      <td>Pediatrics</td>\n",
       "      <td>ryan</td>\n",
       "      <td>M</td>\n",
       "      <td>EPA 2</td>\n",
       "      <td>I needed to be available just in case</td>\n",
       "      <td>4</td>\n",
       "      <td>Watch as many physical exams as possible</td>\n",
       "    </tr>\n",
       "  </tbody>\n",
       "</table>\n",
       "</div>"
      ],
      "text/plain": [
       "       course student gender competency  \\\n",
       "0  Pediatrics    ryan      M      EPA 1   \n",
       "1  Pediatrics    ryan      M      EPA 6   \n",
       "2  Pediatrics    ryan      M      EPA 2   \n",
       "\n",
       "                         competency_label rating  \\\n",
       "0  I had to prompt them from time to time      3   \n",
       "1  I had to prompt them from time to time      3   \n",
       "2   I needed to be available just in case      4   \n",
       "\n",
       "                                        comments_raw  \n",
       "0  Work on your interview structure. Keep it cons...  \n",
       "1  Develop ED focused presentation skills by pres...  \n",
       "2          Watch as many physical exams as possible   "
      ]
     },
     "execution_count": 70,
     "metadata": {},
     "output_type": "execute_result"
    }
   ],
   "source": [
    "eval_data.head(3)"
   ]
  },
  {
   "cell_type": "code",
   "execution_count": null,
   "metadata": {
    "id": "Dv2Zgek97S_e"
   },
   "outputs": [],
   "source": [
    "import sqlite3\n",
    "# https://www.oreilly.com/library/view/blueprints-for-text/9781492074076/ch04.html\n",
    "\n",
    "db_name = 'evaluation.db'\n",
    "con = sqlite3.connect(db_name)\n",
    "eval_data.to_sql('eval', con, \n",
    "            index = False, \n",
    "            if_exists = 'replace')\n",
    "con.close()"
   ]
  },
  {
   "cell_type": "code",
   "execution_count": null,
   "metadata": {
    "id": "w93Kvjyh7S_e"
   },
   "outputs": [],
   "source": [
    "con = sqlite3.connect(db_name)\n",
    "sample_evals = pd.read_sql(\"select competency_label, rating, comments_raw from eval\", con)\n",
    "con.close()"
   ]
  },
  {
   "cell_type": "markdown",
   "metadata": {
    "id": "BYgb0nCK7S_e"
   },
   "source": [
    "# Sentiment analysis\n",
    "\n",
    "I used Spacy, Textacy, and TextBlob for sentiment analysis and named entity recognition (NER)."
   ]
  },
  {
   "cell_type": "code",
   "execution_count": 123,
   "metadata": {
    "id": "wm_PX5Wh7S_e"
   },
   "outputs": [
    {
     "ename": "KeyError",
     "evalue": "'comments_raw'",
     "output_type": "error",
     "traceback": [
      "\u001b[1;31m---------------------------------------------------------------------------\u001b[0m",
      "\u001b[1;31mKeyError\u001b[0m                                  Traceback (most recent call last)",
      "\u001b[1;32mC:\\ProgramData\\Anaconda3\\lib\\site-packages\\pandas\\core\\indexes\\base.py\u001b[0m in \u001b[0;36mget_loc\u001b[1;34m(self, key, method, tolerance)\u001b[0m\n\u001b[0;32m   3360\u001b[0m             \u001b[1;32mtry\u001b[0m\u001b[1;33m:\u001b[0m\u001b[1;33m\u001b[0m\u001b[1;33m\u001b[0m\u001b[0m\n\u001b[1;32m-> 3361\u001b[1;33m                 \u001b[1;32mreturn\u001b[0m \u001b[0mself\u001b[0m\u001b[1;33m.\u001b[0m\u001b[0m_engine\u001b[0m\u001b[1;33m.\u001b[0m\u001b[0mget_loc\u001b[0m\u001b[1;33m(\u001b[0m\u001b[0mcasted_key\u001b[0m\u001b[1;33m)\u001b[0m\u001b[1;33m\u001b[0m\u001b[1;33m\u001b[0m\u001b[0m\n\u001b[0m\u001b[0;32m   3362\u001b[0m             \u001b[1;32mexcept\u001b[0m \u001b[0mKeyError\u001b[0m \u001b[1;32mas\u001b[0m \u001b[0merr\u001b[0m\u001b[1;33m:\u001b[0m\u001b[1;33m\u001b[0m\u001b[1;33m\u001b[0m\u001b[0m\n",
      "\u001b[1;32mC:\\ProgramData\\Anaconda3\\lib\\site-packages\\pandas\\_libs\\index.pyx\u001b[0m in \u001b[0;36mpandas._libs.index.IndexEngine.get_loc\u001b[1;34m()\u001b[0m\n",
      "\u001b[1;32mC:\\ProgramData\\Anaconda3\\lib\\site-packages\\pandas\\_libs\\index.pyx\u001b[0m in \u001b[0;36mpandas._libs.index.IndexEngine.get_loc\u001b[1;34m()\u001b[0m\n",
      "\u001b[1;32mpandas\\_libs\\hashtable_class_helper.pxi\u001b[0m in \u001b[0;36mpandas._libs.hashtable.PyObjectHashTable.get_item\u001b[1;34m()\u001b[0m\n",
      "\u001b[1;32mpandas\\_libs\\hashtable_class_helper.pxi\u001b[0m in \u001b[0;36mpandas._libs.hashtable.PyObjectHashTable.get_item\u001b[1;34m()\u001b[0m\n",
      "\u001b[1;31mKeyError\u001b[0m: 'comments_raw'",
      "\nThe above exception was the direct cause of the following exception:\n",
      "\u001b[1;31mKeyError\u001b[0m                                  Traceback (most recent call last)",
      "\u001b[1;32m~\\AppData\\Local\\Temp/ipykernel_15200/219759749.py\u001b[0m in \u001b[0;36m<module>\u001b[1;34m\u001b[0m\n\u001b[1;32m----> 1\u001b[1;33m \u001b[0mtexts\u001b[0m \u001b[1;33m=\u001b[0m \u001b[0mdata\u001b[0m\u001b[1;33m[\u001b[0m\u001b[1;34m'comments_raw'\u001b[0m\u001b[1;33m]\u001b[0m\u001b[1;33m.\u001b[0m\u001b[0mstr\u001b[0m\u001b[1;33m.\u001b[0m\u001b[0msplit\u001b[0m\u001b[1;33m(\u001b[0m\u001b[1;34m'\\n'\u001b[0m\u001b[1;33m)\u001b[0m\u001b[1;33m\u001b[0m\u001b[1;33m\u001b[0m\u001b[0m\n\u001b[0m\u001b[0;32m      2\u001b[0m \u001b[1;33m\u001b[0m\u001b[0m\n\u001b[0;32m      3\u001b[0m \u001b[0mstring\u001b[0m \u001b[1;33m=\u001b[0m \u001b[1;34m' '\u001b[0m\u001b[1;33m.\u001b[0m\u001b[0mjoin\u001b[0m\u001b[1;33m(\u001b[0m\u001b[1;33m[\u001b[0m\u001b[0mstr\u001b[0m\u001b[1;33m(\u001b[0m\u001b[0mitem\u001b[0m\u001b[1;33m)\u001b[0m \u001b[1;32mfor\u001b[0m \u001b[0mitem\u001b[0m \u001b[1;32min\u001b[0m \u001b[0mtexts\u001b[0m\u001b[1;33m]\u001b[0m\u001b[1;33m)\u001b[0m\u001b[1;33m\u001b[0m\u001b[1;33m\u001b[0m\u001b[0m\n\u001b[0;32m      4\u001b[0m \u001b[1;33m\u001b[0m\u001b[0m\n\u001b[0;32m      5\u001b[0m \u001b[0mblob\u001b[0m \u001b[1;33m=\u001b[0m \u001b[0mTextBlob\u001b[0m\u001b[1;33m(\u001b[0m\u001b[0mstring\u001b[0m\u001b[1;33m)\u001b[0m\u001b[1;33m\u001b[0m\u001b[1;33m\u001b[0m\u001b[0m\n",
      "\u001b[1;32mC:\\ProgramData\\Anaconda3\\lib\\site-packages\\pandas\\core\\frame.py\u001b[0m in \u001b[0;36m__getitem__\u001b[1;34m(self, key)\u001b[0m\n\u001b[0;32m   3453\u001b[0m             \u001b[1;32mif\u001b[0m \u001b[0mself\u001b[0m\u001b[1;33m.\u001b[0m\u001b[0mcolumns\u001b[0m\u001b[1;33m.\u001b[0m\u001b[0mnlevels\u001b[0m \u001b[1;33m>\u001b[0m \u001b[1;36m1\u001b[0m\u001b[1;33m:\u001b[0m\u001b[1;33m\u001b[0m\u001b[1;33m\u001b[0m\u001b[0m\n\u001b[0;32m   3454\u001b[0m                 \u001b[1;32mreturn\u001b[0m \u001b[0mself\u001b[0m\u001b[1;33m.\u001b[0m\u001b[0m_getitem_multilevel\u001b[0m\u001b[1;33m(\u001b[0m\u001b[0mkey\u001b[0m\u001b[1;33m)\u001b[0m\u001b[1;33m\u001b[0m\u001b[1;33m\u001b[0m\u001b[0m\n\u001b[1;32m-> 3455\u001b[1;33m             \u001b[0mindexer\u001b[0m \u001b[1;33m=\u001b[0m \u001b[0mself\u001b[0m\u001b[1;33m.\u001b[0m\u001b[0mcolumns\u001b[0m\u001b[1;33m.\u001b[0m\u001b[0mget_loc\u001b[0m\u001b[1;33m(\u001b[0m\u001b[0mkey\u001b[0m\u001b[1;33m)\u001b[0m\u001b[1;33m\u001b[0m\u001b[1;33m\u001b[0m\u001b[0m\n\u001b[0m\u001b[0;32m   3456\u001b[0m             \u001b[1;32mif\u001b[0m \u001b[0mis_integer\u001b[0m\u001b[1;33m(\u001b[0m\u001b[0mindexer\u001b[0m\u001b[1;33m)\u001b[0m\u001b[1;33m:\u001b[0m\u001b[1;33m\u001b[0m\u001b[1;33m\u001b[0m\u001b[0m\n\u001b[0;32m   3457\u001b[0m                 \u001b[0mindexer\u001b[0m \u001b[1;33m=\u001b[0m \u001b[1;33m[\u001b[0m\u001b[0mindexer\u001b[0m\u001b[1;33m]\u001b[0m\u001b[1;33m\u001b[0m\u001b[1;33m\u001b[0m\u001b[0m\n",
      "\u001b[1;32mC:\\ProgramData\\Anaconda3\\lib\\site-packages\\pandas\\core\\indexes\\base.py\u001b[0m in \u001b[0;36mget_loc\u001b[1;34m(self, key, method, tolerance)\u001b[0m\n\u001b[0;32m   3361\u001b[0m                 \u001b[1;32mreturn\u001b[0m \u001b[0mself\u001b[0m\u001b[1;33m.\u001b[0m\u001b[0m_engine\u001b[0m\u001b[1;33m.\u001b[0m\u001b[0mget_loc\u001b[0m\u001b[1;33m(\u001b[0m\u001b[0mcasted_key\u001b[0m\u001b[1;33m)\u001b[0m\u001b[1;33m\u001b[0m\u001b[1;33m\u001b[0m\u001b[0m\n\u001b[0;32m   3362\u001b[0m             \u001b[1;32mexcept\u001b[0m \u001b[0mKeyError\u001b[0m \u001b[1;32mas\u001b[0m \u001b[0merr\u001b[0m\u001b[1;33m:\u001b[0m\u001b[1;33m\u001b[0m\u001b[1;33m\u001b[0m\u001b[0m\n\u001b[1;32m-> 3363\u001b[1;33m                 \u001b[1;32mraise\u001b[0m \u001b[0mKeyError\u001b[0m\u001b[1;33m(\u001b[0m\u001b[0mkey\u001b[0m\u001b[1;33m)\u001b[0m \u001b[1;32mfrom\u001b[0m \u001b[0merr\u001b[0m\u001b[1;33m\u001b[0m\u001b[1;33m\u001b[0m\u001b[0m\n\u001b[0m\u001b[0;32m   3364\u001b[0m \u001b[1;33m\u001b[0m\u001b[0m\n\u001b[0;32m   3365\u001b[0m         \u001b[1;32mif\u001b[0m \u001b[0mis_scalar\u001b[0m\u001b[1;33m(\u001b[0m\u001b[0mkey\u001b[0m\u001b[1;33m)\u001b[0m \u001b[1;32mand\u001b[0m \u001b[0misna\u001b[0m\u001b[1;33m(\u001b[0m\u001b[0mkey\u001b[0m\u001b[1;33m)\u001b[0m \u001b[1;32mand\u001b[0m \u001b[1;32mnot\u001b[0m \u001b[0mself\u001b[0m\u001b[1;33m.\u001b[0m\u001b[0mhasnans\u001b[0m\u001b[1;33m:\u001b[0m\u001b[1;33m\u001b[0m\u001b[1;33m\u001b[0m\u001b[0m\n",
      "\u001b[1;31mKeyError\u001b[0m: 'comments_raw'"
     ]
    }
   ],
   "source": [
    "texts = data['comments_raw'].str.split('\\n')\n",
    "\n",
    "string = ' '.join([str(item) for item in texts])\n",
    "\n",
    "blob = TextBlob(string)\n",
    "\n",
    "doc = nlp(string)"
   ]
  },
  {
   "cell_type": "code",
   "execution_count": 122,
   "metadata": {
    "id": "a9cUZvv37S_e",
    "outputId": "eada89a0-e44d-49d5-b5c2-548b233111cb"
   },
   "outputs": [
    {
     "ename": "ModuleNotFoundError",
     "evalue": "No module named 'textacy'",
     "output_type": "error",
     "traceback": [
      "\u001b[1;31m---------------------------------------------------------------------------\u001b[0m",
      "\u001b[1;31mModuleNotFoundError\u001b[0m                       Traceback (most recent call last)",
      "\u001b[1;32m~\\AppData\\Local\\Temp/ipykernel_15200/1822232581.py\u001b[0m in \u001b[0;36m<module>\u001b[1;34m\u001b[0m\n\u001b[1;32m----> 1\u001b[1;33m \u001b[1;32mfrom\u001b[0m \u001b[0mtextacy\u001b[0m\u001b[1;33m.\u001b[0m\u001b[0mextract\u001b[0m \u001b[1;32mimport\u001b[0m \u001b[0mkeyterms\u001b[0m \u001b[1;32mas\u001b[0m \u001b[0mkt\u001b[0m\u001b[1;33m\u001b[0m\u001b[1;33m\u001b[0m\u001b[0m\n\u001b[0m\u001b[0;32m      2\u001b[0m \u001b[1;33m\u001b[0m\u001b[0m\n\u001b[0;32m      3\u001b[0m \u001b[1;31m# get key terms\u001b[0m\u001b[1;33m\u001b[0m\u001b[1;33m\u001b[0m\u001b[1;33m\u001b[0m\u001b[0m\n\u001b[0;32m      4\u001b[0m \u001b[0mkt\u001b[0m\u001b[1;33m.\u001b[0m\u001b[0mtextrank\u001b[0m\u001b[1;33m(\u001b[0m\u001b[0mdoc\u001b[0m\u001b[1;33m,\u001b[0m \u001b[0mnormalize\u001b[0m \u001b[1;33m=\u001b[0m \u001b[1;34m\"lemma\"\u001b[0m\u001b[1;33m,\u001b[0m \u001b[0mtopn\u001b[0m \u001b[1;33m=\u001b[0m \u001b[1;36m10\u001b[0m\u001b[1;33m)\u001b[0m\u001b[1;33m\u001b[0m\u001b[1;33m\u001b[0m\u001b[0m\n",
      "\u001b[1;31mModuleNotFoundError\u001b[0m: No module named 'textacy'"
     ]
    }
   ],
   "source": [
    "from textacy.extract import keyterms as kt\n",
    "\n",
    "# get key terms\n",
    "kt.textrank(doc, normalize = \"lemma\", topn = 10)"
   ]
  },
  {
   "cell_type": "markdown",
   "metadata": {
    "id": "0g4eVPW17S_f"
   },
   "source": [
    "I extracted the polarity of statements in the dataset, using a random sample."
   ]
  },
  {
   "cell_type": "code",
   "execution_count": null,
   "metadata": {
    "id": "4HklTw7L7S_f"
   },
   "outputs": [],
   "source": [
    "# https://towardsdatascience.com/having-fun-with-textblob-7e9eed783d3f\n",
    "\n",
    "sample = sample_evals.sample(frac = 0.8, replace = False, random_state = 1)\n",
    "\n",
    "def detect_polarity(text):\n",
    "    return TextBlob(text).sentiment.polarity\n",
    "\n",
    "sample['polarity'] = sample.comments_raw.apply(detect_polarity)"
   ]
  },
  {
   "cell_type": "code",
   "execution_count": null,
   "metadata": {
    "id": "3sJI9UM-7S_f",
    "outputId": "3ec71a07-bb6b-4a8d-dab1-dc98de1ce108"
   },
   "outputs": [
    {
     "data": {
      "text/html": [
       "<div>\n",
       "<style scoped>\n",
       "    .dataframe tbody tr th:only-of-type {\n",
       "        vertical-align: middle;\n",
       "    }\n",
       "\n",
       "    .dataframe tbody tr th {\n",
       "        vertical-align: top;\n",
       "    }\n",
       "\n",
       "    .dataframe thead th {\n",
       "        text-align: right;\n",
       "    }\n",
       "</style>\n",
       "<table border=\"1\" class=\"dataframe\">\n",
       "  <thead>\n",
       "    <tr style=\"text-align: right;\">\n",
       "      <th></th>\n",
       "      <th>competency_label</th>\n",
       "      <th>rating</th>\n",
       "      <th>comments_raw</th>\n",
       "      <th>polarity</th>\n",
       "    </tr>\n",
       "  </thead>\n",
       "  <tbody>\n",
       "    <tr>\n",
       "      <th>119</th>\n",
       "      <td>I had to prompt them from time to time</td>\n",
       "      <td>3</td>\n",
       "      <td>doing well</td>\n",
       "      <td>0.000000</td>\n",
       "    </tr>\n",
       "    <tr>\n",
       "      <th>202</th>\n",
       "      <td>I needed to be available just in case</td>\n",
       "      <td>4</td>\n",
       "      <td>Experience with time</td>\n",
       "      <td>0.000000</td>\n",
       "    </tr>\n",
       "    <tr>\n",
       "      <th>482</th>\n",
       "      <td>I needed to be available just in case</td>\n",
       "      <td>4</td>\n",
       "      <td>Continue seeing patients and developing differ...</td>\n",
       "      <td>0.000000</td>\n",
       "    </tr>\n",
       "    <tr>\n",
       "      <th>403</th>\n",
       "      <td>I had to prompt them from time to time</td>\n",
       "      <td>3</td>\n",
       "      <td>Continue to familiarize yourself with DSM5 cri...</td>\n",
       "      <td>-0.118750</td>\n",
       "    </tr>\n",
       "    <tr>\n",
       "      <th>259</th>\n",
       "      <td>I did not need to be there</td>\n",
       "      <td>5</td>\n",
       "      <td>No comments</td>\n",
       "      <td>0.000000</td>\n",
       "    </tr>\n",
       "    <tr>\n",
       "      <th>167</th>\n",
       "      <td>I did not need to be there</td>\n",
       "      <td>5</td>\n",
       "      <td>Good recognition of MSK and good DPX</td>\n",
       "      <td>0.700000</td>\n",
       "    </tr>\n",
       "    <tr>\n",
       "      <th>940</th>\n",
       "      <td>I needed to be available just in case</td>\n",
       "      <td>4</td>\n",
       "      <td>Great at obtaining relevant information. Just ...</td>\n",
       "      <td>0.225455</td>\n",
       "    </tr>\n",
       "    <tr>\n",
       "      <th>679</th>\n",
       "      <td>I needed to be available just in case</td>\n",
       "      <td>4</td>\n",
       "      <td>Continue to practice.</td>\n",
       "      <td>0.000000</td>\n",
       "    </tr>\n",
       "    <tr>\n",
       "      <th>1076</th>\n",
       "      <td>I did not need to be there</td>\n",
       "      <td>5</td>\n",
       "      <td>Excellent documentation of your call with her ...</td>\n",
       "      <td>0.300000</td>\n",
       "    </tr>\n",
       "    <tr>\n",
       "      <th>991</th>\n",
       "      <td>I needed to be available just in case</td>\n",
       "      <td>4</td>\n",
       "      <td>Did well on a fairly complicated patient.</td>\n",
       "      <td>-0.500000</td>\n",
       "    </tr>\n",
       "  </tbody>\n",
       "</table>\n",
       "</div>"
      ],
      "text/plain": [
       "                            competency_label rating  \\\n",
       "119   I had to prompt them from time to time      3   \n",
       "202    I needed to be available just in case      4   \n",
       "482    I needed to be available just in case      4   \n",
       "403   I had to prompt them from time to time      3   \n",
       "259               I did not need to be there      5   \n",
       "167               I did not need to be there      5   \n",
       "940    I needed to be available just in case      4   \n",
       "679    I needed to be available just in case      4   \n",
       "1076              I did not need to be there      5   \n",
       "991    I needed to be available just in case      4   \n",
       "\n",
       "                                           comments_raw  polarity  \n",
       "119                                          doing well  0.000000  \n",
       "202                               Experience with time   0.000000  \n",
       "482   Continue seeing patients and developing differ...  0.000000  \n",
       "403   Continue to familiarize yourself with DSM5 cri... -0.118750  \n",
       "259                                         No comments  0.000000  \n",
       "167                Good recognition of MSK and good DPX  0.700000  \n",
       "940   Great at obtaining relevant information. Just ...  0.225455  \n",
       "679                             Continue to practice.    0.000000  \n",
       "1076  Excellent documentation of your call with her ...  0.300000  \n",
       "991          Did well on a fairly complicated patient.  -0.500000  "
      ]
     },
     "execution_count": 76,
     "metadata": {},
     "output_type": "execute_result"
    }
   ],
   "source": [
    "sample.head(10)"
   ]
  },
  {
   "cell_type": "code",
   "execution_count": null,
   "metadata": {
    "id": "VoiHuLVK7S_f",
    "outputId": "66650347-b01e-4a64-c1a9-b6e26f095c7d"
   },
   "outputs": [
    {
     "data": {
      "image/png": "[encoded data removed]",
      "text/plain": [
       "<Figure size 720x432 with 1 Axes>"
      ]
     },
     "metadata": {
      "needs_background": "light"
     },
     "output_type": "display_data"
    }
   ],
   "source": [
    "num_bins = 30\n",
    "plt.figure(figsize = (10,6))\n",
    "n, bins, patches = plt.hist(sample.polarity, num_bins, facecolor = 'teal', alpha = 0.5)\n",
    "plt.xlabel('Polarity')\n",
    "plt.ylabel('Count')\n",
    "plt.title('Histogram examining polarity')\n",
    "plt.show();"
   ]
  },
  {
   "cell_type": "markdown",
   "metadata": {
    "id": "AmO_7NG47S_f"
   },
   "source": [
    "It seems to be correctly flagging words like \"excellent\", and it's interesting to see that these are associated with the highest possible rating (_I did not need to be there_)."
   ]
  },
  {
   "cell_type": "code",
   "execution_count": null,
   "metadata": {
    "id": "qOqEErTm7S_g",
    "outputId": "fef48a8c-140a-4e60-d213-e079332d0c57"
   },
   "outputs": [
    {
     "data": {
      "text/html": [
       "<div>\n",
       "<style scoped>\n",
       "    .dataframe tbody tr th:only-of-type {\n",
       "        vertical-align: middle;\n",
       "    }\n",
       "\n",
       "    .dataframe tbody tr th {\n",
       "        vertical-align: top;\n",
       "    }\n",
       "\n",
       "    .dataframe thead th {\n",
       "        text-align: right;\n",
       "    }\n",
       "</style>\n",
       "<table border=\"1\" class=\"dataframe\">\n",
       "  <thead>\n",
       "    <tr style=\"text-align: right;\">\n",
       "      <th></th>\n",
       "      <th>competency_label</th>\n",
       "      <th>rating</th>\n",
       "      <th>comments_raw</th>\n",
       "      <th>polarity</th>\n",
       "    </tr>\n",
       "  </thead>\n",
       "  <tbody>\n",
       "    <tr>\n",
       "      <th>167</th>\n",
       "      <td>I did not need to be there</td>\n",
       "      <td>5</td>\n",
       "      <td>Good recognition of MSK and good DPX</td>\n",
       "      <td>0.700000</td>\n",
       "    </tr>\n",
       "    <tr>\n",
       "      <th>1076</th>\n",
       "      <td>I did not need to be there</td>\n",
       "      <td>5</td>\n",
       "      <td>Excellent documentation of your call with her ...</td>\n",
       "      <td>0.300000</td>\n",
       "    </tr>\n",
       "    <tr>\n",
       "      <th>65</th>\n",
       "      <td>I did not need to be there</td>\n",
       "      <td>5</td>\n",
       "      <td>good job on this task</td>\n",
       "      <td>0.700000</td>\n",
       "    </tr>\n",
       "    <tr>\n",
       "      <th>831</th>\n",
       "      <td>I had to prompt them from time to time</td>\n",
       "      <td>3</td>\n",
       "      <td>Continue to synthesize patient information as ...</td>\n",
       "      <td>0.366667</td>\n",
       "    </tr>\n",
       "    <tr>\n",
       "      <th>815</th>\n",
       "      <td>I did not need to be there</td>\n",
       "      <td>5</td>\n",
       "      <td>Jim creates excellent differentials and is a v...</td>\n",
       "      <td>0.760000</td>\n",
       "    </tr>\n",
       "  </tbody>\n",
       "</table>\n",
       "</div>"
      ],
      "text/plain": [
       "                            competency_label rating  \\\n",
       "167               I did not need to be there      5   \n",
       "1076              I did not need to be there      5   \n",
       "65                I did not need to be there      5   \n",
       "831   I had to prompt them from time to time      3   \n",
       "815               I did not need to be there      5   \n",
       "\n",
       "                                           comments_raw  polarity  \n",
       "167                Good recognition of MSK and good DPX  0.700000  \n",
       "1076  Excellent documentation of your call with her ...  0.300000  \n",
       "65                                good job on this task  0.700000  \n",
       "831   Continue to synthesize patient information as ...  0.366667  \n",
       "815   Jim creates excellent differentials and is a v...  0.760000  "
      ]
     },
     "execution_count": 78,
     "metadata": {},
     "output_type": "execute_result"
    }
   ],
   "source": [
    "sample[sample.polarity > .30].head(5)"
   ]
  },
  {
   "cell_type": "markdown",
   "metadata": {
    "id": "NECyqugP7S_g"
   },
   "source": [
    "Neutral statements are more mixed in quality--again, _no comments_ surfaces. It's not surprising to see that ratings skew a little high, in general."
   ]
  },
  {
   "cell_type": "code",
   "execution_count": null,
   "metadata": {
    "id": "1KcNyCI87S_g",
    "outputId": "d6f6f37b-54aa-4a21-d33b-d6f3700a6206"
   },
   "outputs": [
    {
     "data": {
      "text/html": [
       "<div>\n",
       "<style scoped>\n",
       "    .dataframe tbody tr th:only-of-type {\n",
       "        vertical-align: middle;\n",
       "    }\n",
       "\n",
       "    .dataframe tbody tr th {\n",
       "        vertical-align: top;\n",
       "    }\n",
       "\n",
       "    .dataframe thead th {\n",
       "        text-align: right;\n",
       "    }\n",
       "</style>\n",
       "<table border=\"1\" class=\"dataframe\">\n",
       "  <thead>\n",
       "    <tr style=\"text-align: right;\">\n",
       "      <th></th>\n",
       "      <th>competency_label</th>\n",
       "      <th>rating</th>\n",
       "      <th>comments_raw</th>\n",
       "      <th>polarity</th>\n",
       "    </tr>\n",
       "  </thead>\n",
       "  <tbody>\n",
       "    <tr>\n",
       "      <th>119</th>\n",
       "      <td>I had to prompt them from time to time</td>\n",
       "      <td>3</td>\n",
       "      <td>doing well</td>\n",
       "      <td>0.0</td>\n",
       "    </tr>\n",
       "    <tr>\n",
       "      <th>202</th>\n",
       "      <td>I needed to be available just in case</td>\n",
       "      <td>4</td>\n",
       "      <td>Experience with time</td>\n",
       "      <td>0.0</td>\n",
       "    </tr>\n",
       "    <tr>\n",
       "      <th>482</th>\n",
       "      <td>I needed to be available just in case</td>\n",
       "      <td>4</td>\n",
       "      <td>Continue seeing patients and developing differ...</td>\n",
       "      <td>0.0</td>\n",
       "    </tr>\n",
       "    <tr>\n",
       "      <th>259</th>\n",
       "      <td>I did not need to be there</td>\n",
       "      <td>5</td>\n",
       "      <td>No comments</td>\n",
       "      <td>0.0</td>\n",
       "    </tr>\n",
       "    <tr>\n",
       "      <th>679</th>\n",
       "      <td>I needed to be available just in case</td>\n",
       "      <td>4</td>\n",
       "      <td>Continue to practice.</td>\n",
       "      <td>0.0</td>\n",
       "    </tr>\n",
       "  </tbody>\n",
       "</table>\n",
       "</div>"
      ],
      "text/plain": [
       "                           competency_label rating  \\\n",
       "119  I had to prompt them from time to time      3   \n",
       "202   I needed to be available just in case      4   \n",
       "482   I needed to be available just in case      4   \n",
       "259              I did not need to be there      5   \n",
       "679   I needed to be available just in case      4   \n",
       "\n",
       "                                          comments_raw  polarity  \n",
       "119                                         doing well       0.0  \n",
       "202                              Experience with time        0.0  \n",
       "482  Continue seeing patients and developing differ...       0.0  \n",
       "259                                        No comments       0.0  \n",
       "679                            Continue to practice.         0.0  "
      ]
     },
     "execution_count": 79,
     "metadata": {},
     "output_type": "execute_result"
    }
   ],
   "source": [
    "sample[sample.polarity == 0].head(5)"
   ]
  },
  {
   "cell_type": "code",
   "execution_count": null,
   "metadata": {
    "id": "UPGNA7Of7S_g",
    "outputId": "5ee09d93-b633-4316-982d-217f86be29ca"
   },
   "outputs": [
    {
     "data": {
      "text/html": [
       "<div>\n",
       "<style scoped>\n",
       "    .dataframe tbody tr th:only-of-type {\n",
       "        vertical-align: middle;\n",
       "    }\n",
       "\n",
       "    .dataframe tbody tr th {\n",
       "        vertical-align: top;\n",
       "    }\n",
       "\n",
       "    .dataframe thead th {\n",
       "        text-align: right;\n",
       "    }\n",
       "</style>\n",
       "<table border=\"1\" class=\"dataframe\">\n",
       "  <thead>\n",
       "    <tr style=\"text-align: right;\">\n",
       "      <th></th>\n",
       "      <th>competency_label</th>\n",
       "      <th>rating</th>\n",
       "      <th>comments_raw</th>\n",
       "      <th>polarity</th>\n",
       "    </tr>\n",
       "  </thead>\n",
       "  <tbody>\n",
       "    <tr>\n",
       "      <th>403</th>\n",
       "      <td>I had to prompt them from time to time</td>\n",
       "      <td>3</td>\n",
       "      <td>Continue to familiarize yourself with DSM5 cri...</td>\n",
       "      <td>-0.11875</td>\n",
       "    </tr>\n",
       "    <tr>\n",
       "      <th>991</th>\n",
       "      <td>I needed to be available just in case</td>\n",
       "      <td>4</td>\n",
       "      <td>Did well on a fairly complicated patient.</td>\n",
       "      <td>-0.50000</td>\n",
       "    </tr>\n",
       "    <tr>\n",
       "      <th>575</th>\n",
       "      <td>I needed to be available just in case</td>\n",
       "      <td>4</td>\n",
       "      <td>at expected level, just continue to read and s...</td>\n",
       "      <td>-0.10000</td>\n",
       "    </tr>\n",
       "    <tr>\n",
       "      <th>1196</th>\n",
       "      <td>I needed to be available just in case</td>\n",
       "      <td>4</td>\n",
       "      <td>Very clear presentation on an evasive patient....</td>\n",
       "      <td>-0.04250</td>\n",
       "    </tr>\n",
       "    <tr>\n",
       "      <th>777</th>\n",
       "      <td>I had to prompt them from time to time</td>\n",
       "      <td>3</td>\n",
       "      <td>when there is a missing piece of information o...</td>\n",
       "      <td>-0.10000</td>\n",
       "    </tr>\n",
       "  </tbody>\n",
       "</table>\n",
       "</div>"
      ],
      "text/plain": [
       "                            competency_label rating  \\\n",
       "403   I had to prompt them from time to time      3   \n",
       "991    I needed to be available just in case      4   \n",
       "575    I needed to be available just in case      4   \n",
       "1196   I needed to be available just in case      4   \n",
       "777   I had to prompt them from time to time      3   \n",
       "\n",
       "                                           comments_raw  polarity  \n",
       "403   Continue to familiarize yourself with DSM5 cri...  -0.11875  \n",
       "991          Did well on a fairly complicated patient.   -0.50000  \n",
       "575   at expected level, just continue to read and s...  -0.10000  \n",
       "1196  Very clear presentation on an evasive patient....  -0.04250  \n",
       "777   when there is a missing piece of information o...  -0.10000  "
      ]
     },
     "execution_count": 80,
     "metadata": {},
     "output_type": "execute_result"
    }
   ],
   "source": [
    "sample[sample.polarity < 0].head(5)"
   ]
  },
  {
   "cell_type": "code",
   "execution_count": null,
   "metadata": {
    "id": "7MUXL_7p7S_g",
    "outputId": "887a9ff4-584b-470e-cf99-baeb1fe865a9"
   },
   "outputs": [
    {
     "data": {
      "text/plain": [
       "0                                          {}\n",
       "1                       {'ORG': 'Develop ED'}\n",
       "2                                          {}\n",
       "3       {'DATE': 'just beginning third year'}\n",
       "4                                          {}\n",
       "                        ...                  \n",
       "1235                        {'DATE': 'daily'}\n",
       "1236                   {'PERSON': 'Kimberly'}\n",
       "1237                                       {}\n",
       "1238                                       {}\n",
       "1239                                       {}\n",
       "Name: comments_raw, Length: 1240, dtype: object"
      ]
     },
     "execution_count": 81,
     "metadata": {},
     "output_type": "execute_result"
    }
   ],
   "source": [
    "# https://stackoverflow.com/questions/67983109/how-can-i-pass-table-or-dataframe-instead-of-text-with-entity-recognition-using\n",
    "def get_entities(x):\n",
    "    result = {}\n",
    "    doc = nlp(x)\n",
    "    for ent in doc.ents:\n",
    "        result[ent.label_] = ent.text\n",
    "    return result\n",
    "\n",
    "ent_matches = data['comments_raw'].apply(get_entities)\n",
    "\n",
    "ent_matches"
   ]
  },
  {
   "cell_type": "code",
   "execution_count": null,
   "metadata": {
    "id": "14ou-K5s7S_h",
    "outputId": "de5b35af-5a9f-4e6c-f891-f49ebb2f50ce"
   },
   "outputs": [
    {
     "data": {
      "text/html": [
       "<div>\n",
       "<style scoped>\n",
       "    .dataframe tbody tr th:only-of-type {\n",
       "        vertical-align: middle;\n",
       "    }\n",
       "\n",
       "    .dataframe tbody tr th {\n",
       "        vertical-align: top;\n",
       "    }\n",
       "\n",
       "    .dataframe thead th {\n",
       "        text-align: right;\n",
       "    }\n",
       "</style>\n",
       "<table border=\"1\" class=\"dataframe\">\n",
       "  <thead>\n",
       "    <tr style=\"text-align: right;\">\n",
       "      <th></th>\n",
       "      <th>polarity</th>\n",
       "    </tr>\n",
       "  </thead>\n",
       "  <tbody>\n",
       "    <tr>\n",
       "      <th>count</th>\n",
       "      <td>992.000000</td>\n",
       "    </tr>\n",
       "    <tr>\n",
       "      <th>mean</th>\n",
       "      <td>0.306842</td>\n",
       "    </tr>\n",
       "    <tr>\n",
       "      <th>std</th>\n",
       "      <td>0.325759</td>\n",
       "    </tr>\n",
       "    <tr>\n",
       "      <th>min</th>\n",
       "      <td>-0.800000</td>\n",
       "    </tr>\n",
       "    <tr>\n",
       "      <th>25%</th>\n",
       "      <td>0.000000</td>\n",
       "    </tr>\n",
       "    <tr>\n",
       "      <th>50%</th>\n",
       "      <td>0.275000</td>\n",
       "    </tr>\n",
       "    <tr>\n",
       "      <th>75%</th>\n",
       "      <td>0.500000</td>\n",
       "    </tr>\n",
       "    <tr>\n",
       "      <th>max</th>\n",
       "      <td>1.000000</td>\n",
       "    </tr>\n",
       "  </tbody>\n",
       "</table>\n",
       "</div>"
      ],
      "text/plain": [
       "         polarity\n",
       "count  992.000000\n",
       "mean     0.306842\n",
       "std      0.325759\n",
       "min     -0.800000\n",
       "25%      0.000000\n",
       "50%      0.275000\n",
       "75%      0.500000\n",
       "max      1.000000"
      ]
     },
     "execution_count": 82,
     "metadata": {},
     "output_type": "execute_result"
    }
   ],
   "source": [
    "sample.describe()"
   ]
  },
  {
   "cell_type": "markdown",
   "metadata": {
    "id": "KOJDluJF7S_h"
   },
   "source": [
    "I used a few sample phrases to train a small model for sentiment analysis."
   ]
  },
  {
   "cell_type": "code",
   "execution_count": null,
   "metadata": {
    "id": "Bl_wMkWS7S_i"
   },
   "outputs": [],
   "source": [
    "from textblob import classifiers\n",
    "\n",
    "training = [\n",
    "    ('great job especially beginning third year', 'pos'), \n",
    "    ('wonderful building rapport', 'pos'),\n",
    "    ('handled communication non English speaking family well', 'pos'),\n",
    "    ('integrates strong organization skills complex scenario', 'pos'),\n",
    "    ('thorough physical exam Well done', 'pos'),\n",
    "    ('Great job', 'pos'),\n",
    "    ('Good job. Continue good work', 'pos'),\n",
    "    ('Great work, especially early in third year!' , 'pos'),\n",
    "    ('Presentations could concise organized No need repeat studies imaging already discussed prior days', 'neg'),\n",
    "    ('Should work on being more methodical in collecting information and presenting so nothing is forgotten or missed.', 'neg'),\n",
    "    ('Work overall organization material want cover slow slightly allow audience follow discussion readily.', 'neg'),\n",
    "    ('Great thoughts presented', 'pos'),\n",
    "    ('Good critical thinking differential diagnosis presentation', 'pos'),\n",
    "    ('More work needed. Continue reading and practicing.', 'neg'),\n",
    "    ('Continue work on your knowledge base.', 'neg'),\n",
    "    ('Asked appropriate questions, but would encourage him to closely observe more and ask only a few key, critical questions especially during surgery when the surgeons may be concentrating.', 'neg'), \n",
    "    ('Keep it consistent so you don’t forget things.', 'neg'), \n",
    "    ('the plan probably couldve been more streamlined by cutting out the old stuff', 'neg'), \n",
    "    ('Increase efficiency patient using interpreter requires intentional  rushed interaction.', 'neg'),\n",
    "    ('Watch as many physical exams as possible.', 'neg'), \n",
    "    ('No comment.', 'neg'),\n",
    "    ('needs continue work redirecting patient finishing interview timely manner. This comes with practice.', 'neg')]\n",
    "\n",
    "classifier = classifiers.NaiveBayesClassifier(training)\n"
   ]
  },
  {
   "cell_type": "markdown",
   "metadata": {
    "id": "UGX2A2o17S_i"
   },
   "source": [
    "Then, performing a quick test to see if the model can correctly flag the statement below as positive."
   ]
  },
  {
   "cell_type": "code",
   "execution_count": null,
   "metadata": {
    "id": "HELlWlTX7S_i",
    "outputId": "89292b2f-25e4-4e06-cb35-e5941b3a1a33"
   },
   "outputs": [
    {
     "data": {
      "text/plain": [
       "'pos'"
      ]
     },
     "execution_count": 84,
     "metadata": {},
     "output_type": "execute_result"
    }
   ],
   "source": [
    "classifier.classify('Wonderful student. Fantastic work!')"
   ]
  },
  {
   "cell_type": "markdown",
   "metadata": {
    "id": "ZWxSgnne7S_j"
   },
   "source": [
    "Reviewing the output, it does a pretty good job, but providing it with richer training data may improve future results."
   ]
  },
  {
   "cell_type": "code",
   "execution_count": null,
   "metadata": {
    "id": "_PajG-iZ7S_j"
   },
   "outputs": [],
   "source": [
    "# https://textblob.readthedocs.io/en/dev/classifiers.html\n",
    "from textblob import Blobber\n",
    "from textblob.taggers import NLTKTagger\n",
    "from textblob.tokenizers import SentenceTokenizer\n",
    "\n",
    "testing = data['comments_raw'].str.split('\\n')\n",
    "\n",
    "test_data = ' '.join([str(item) for item in testing])\n",
    "\n",
    "tb = Blobber(pos_tagger = NLTKTagger(), tokenizer = SentenceTokenizer(), classifier = classifier)\n",
    "\n",
    "blob = tb(test_data)\n",
    "\n",
    "for s in blob.sentences:\n",
    "    print(s)\n",
    "    print(s.classify())"
   ]
  },
  {
   "cell_type": "code",
   "execution_count": null,
   "metadata": {
    "id": "tGgiACX77S_j",
    "outputId": "5deb1564-46d0-4ff2-9c0f-2b508ff1037a"
   },
   "outputs": [
    {
     "name": "stdout",
     "output_type": "stream",
     "text": [
      "Most Informative Features\n",
      "    contains(especially) = True              pos : neg    =      2.0 : 1.0\n",
      "          contains(work) = True              neg : pos    =      1.5 : 1.0\n",
      "      contains(Continue) = True              neg : pos    =      1.4 : 1.0\n",
      "         contains(Great) = False             neg : pos    =      1.4 : 1.0\n",
      "           contains(job) = False             neg : pos    =      1.4 : 1.0\n"
     ]
    }
   ],
   "source": [
    "classifier.show_informative_features(5)"
   ]
  },
  {
   "cell_type": "markdown",
   "metadata": {
    "id": "uTf0zQn_7S_j"
   },
   "source": [
    "# PCA with TextHero"
   ]
  },
  {
   "cell_type": "code",
   "execution_count": 121,
   "metadata": {
    "id": "B8fQS3Td7S_j",
    "outputId": "98c5da81-d205-49b7-b55d-4b4a97cf7a79"
   },
   "outputs": [
    {
     "ename": "KeyError",
     "evalue": "'comments_raw'",
     "output_type": "error",
     "traceback": [
      "\u001b[1;31m---------------------------------------------------------------------------\u001b[0m",
      "\u001b[1;31mKeyError\u001b[0m                                  Traceback (most recent call last)",
      "\u001b[1;32mC:\\ProgramData\\Anaconda3\\lib\\site-packages\\pandas\\core\\indexes\\base.py\u001b[0m in \u001b[0;36mget_loc\u001b[1;34m(self, key, method, tolerance)\u001b[0m\n\u001b[0;32m   3360\u001b[0m             \u001b[1;32mtry\u001b[0m\u001b[1;33m:\u001b[0m\u001b[1;33m\u001b[0m\u001b[1;33m\u001b[0m\u001b[0m\n\u001b[1;32m-> 3361\u001b[1;33m                 \u001b[1;32mreturn\u001b[0m \u001b[0mself\u001b[0m\u001b[1;33m.\u001b[0m\u001b[0m_engine\u001b[0m\u001b[1;33m.\u001b[0m\u001b[0mget_loc\u001b[0m\u001b[1;33m(\u001b[0m\u001b[0mcasted_key\u001b[0m\u001b[1;33m)\u001b[0m\u001b[1;33m\u001b[0m\u001b[1;33m\u001b[0m\u001b[0m\n\u001b[0m\u001b[0;32m   3362\u001b[0m             \u001b[1;32mexcept\u001b[0m \u001b[0mKeyError\u001b[0m \u001b[1;32mas\u001b[0m \u001b[0merr\u001b[0m\u001b[1;33m:\u001b[0m\u001b[1;33m\u001b[0m\u001b[1;33m\u001b[0m\u001b[0m\n",
      "\u001b[1;32mC:\\ProgramData\\Anaconda3\\lib\\site-packages\\pandas\\_libs\\index.pyx\u001b[0m in \u001b[0;36mpandas._libs.index.IndexEngine.get_loc\u001b[1;34m()\u001b[0m\n",
      "\u001b[1;32mC:\\ProgramData\\Anaconda3\\lib\\site-packages\\pandas\\_libs\\index.pyx\u001b[0m in \u001b[0;36mpandas._libs.index.IndexEngine.get_loc\u001b[1;34m()\u001b[0m\n",
      "\u001b[1;32mpandas\\_libs\\hashtable_class_helper.pxi\u001b[0m in \u001b[0;36mpandas._libs.hashtable.PyObjectHashTable.get_item\u001b[1;34m()\u001b[0m\n",
      "\u001b[1;32mpandas\\_libs\\hashtable_class_helper.pxi\u001b[0m in \u001b[0;36mpandas._libs.hashtable.PyObjectHashTable.get_item\u001b[1;34m()\u001b[0m\n",
      "\u001b[1;31mKeyError\u001b[0m: 'comments_raw'",
      "\nThe above exception was the direct cause of the following exception:\n",
      "\u001b[1;31mKeyError\u001b[0m                                  Traceback (most recent call last)",
      "\u001b[1;32m~\\AppData\\Local\\Temp/ipykernel_15200/2771653045.py\u001b[0m in \u001b[0;36m<module>\u001b[1;34m\u001b[0m\n\u001b[0;32m      3\u001b[0m \u001b[1;33m\u001b[0m\u001b[0m\n\u001b[0;32m      4\u001b[0m df['tfidf'] = (\n\u001b[1;32m----> 5\u001b[1;33m     \u001b[0mdata\u001b[0m\u001b[1;33m[\u001b[0m\u001b[1;34m'comments_raw'\u001b[0m\u001b[1;33m]\u001b[0m\u001b[1;33m\u001b[0m\u001b[1;33m\u001b[0m\u001b[0m\n\u001b[0m\u001b[0;32m      6\u001b[0m     \u001b[1;33m.\u001b[0m\u001b[0mpipe\u001b[0m\u001b[1;33m(\u001b[0m\u001b[0mhero\u001b[0m\u001b[1;33m.\u001b[0m\u001b[0mclean\u001b[0m\u001b[1;33m)\u001b[0m\u001b[1;33m\u001b[0m\u001b[1;33m\u001b[0m\u001b[0m\n\u001b[0;32m      7\u001b[0m     \u001b[1;33m.\u001b[0m\u001b[0mpipe\u001b[0m\u001b[1;33m(\u001b[0m\u001b[0mhero\u001b[0m\u001b[1;33m.\u001b[0m\u001b[0mtfidf\u001b[0m\u001b[1;33m)\u001b[0m\u001b[1;33m\u001b[0m\u001b[1;33m\u001b[0m\u001b[0m\n",
      "\u001b[1;32mC:\\ProgramData\\Anaconda3\\lib\\site-packages\\pandas\\core\\frame.py\u001b[0m in \u001b[0;36m__getitem__\u001b[1;34m(self, key)\u001b[0m\n\u001b[0;32m   3453\u001b[0m             \u001b[1;32mif\u001b[0m \u001b[0mself\u001b[0m\u001b[1;33m.\u001b[0m\u001b[0mcolumns\u001b[0m\u001b[1;33m.\u001b[0m\u001b[0mnlevels\u001b[0m \u001b[1;33m>\u001b[0m \u001b[1;36m1\u001b[0m\u001b[1;33m:\u001b[0m\u001b[1;33m\u001b[0m\u001b[1;33m\u001b[0m\u001b[0m\n\u001b[0;32m   3454\u001b[0m                 \u001b[1;32mreturn\u001b[0m \u001b[0mself\u001b[0m\u001b[1;33m.\u001b[0m\u001b[0m_getitem_multilevel\u001b[0m\u001b[1;33m(\u001b[0m\u001b[0mkey\u001b[0m\u001b[1;33m)\u001b[0m\u001b[1;33m\u001b[0m\u001b[1;33m\u001b[0m\u001b[0m\n\u001b[1;32m-> 3455\u001b[1;33m             \u001b[0mindexer\u001b[0m \u001b[1;33m=\u001b[0m \u001b[0mself\u001b[0m\u001b[1;33m.\u001b[0m\u001b[0mcolumns\u001b[0m\u001b[1;33m.\u001b[0m\u001b[0mget_loc\u001b[0m\u001b[1;33m(\u001b[0m\u001b[0mkey\u001b[0m\u001b[1;33m)\u001b[0m\u001b[1;33m\u001b[0m\u001b[1;33m\u001b[0m\u001b[0m\n\u001b[0m\u001b[0;32m   3456\u001b[0m             \u001b[1;32mif\u001b[0m \u001b[0mis_integer\u001b[0m\u001b[1;33m(\u001b[0m\u001b[0mindexer\u001b[0m\u001b[1;33m)\u001b[0m\u001b[1;33m:\u001b[0m\u001b[1;33m\u001b[0m\u001b[1;33m\u001b[0m\u001b[0m\n\u001b[0;32m   3457\u001b[0m                 \u001b[0mindexer\u001b[0m \u001b[1;33m=\u001b[0m \u001b[1;33m[\u001b[0m\u001b[0mindexer\u001b[0m\u001b[1;33m]\u001b[0m\u001b[1;33m\u001b[0m\u001b[1;33m\u001b[0m\u001b[0m\n",
      "\u001b[1;32mC:\\ProgramData\\Anaconda3\\lib\\site-packages\\pandas\\core\\indexes\\base.py\u001b[0m in \u001b[0;36mget_loc\u001b[1;34m(self, key, method, tolerance)\u001b[0m\n\u001b[0;32m   3361\u001b[0m                 \u001b[1;32mreturn\u001b[0m \u001b[0mself\u001b[0m\u001b[1;33m.\u001b[0m\u001b[0m_engine\u001b[0m\u001b[1;33m.\u001b[0m\u001b[0mget_loc\u001b[0m\u001b[1;33m(\u001b[0m\u001b[0mcasted_key\u001b[0m\u001b[1;33m)\u001b[0m\u001b[1;33m\u001b[0m\u001b[1;33m\u001b[0m\u001b[0m\n\u001b[0;32m   3362\u001b[0m             \u001b[1;32mexcept\u001b[0m \u001b[0mKeyError\u001b[0m \u001b[1;32mas\u001b[0m \u001b[0merr\u001b[0m\u001b[1;33m:\u001b[0m\u001b[1;33m\u001b[0m\u001b[1;33m\u001b[0m\u001b[0m\n\u001b[1;32m-> 3363\u001b[1;33m                 \u001b[1;32mraise\u001b[0m \u001b[0mKeyError\u001b[0m\u001b[1;33m(\u001b[0m\u001b[0mkey\u001b[0m\u001b[1;33m)\u001b[0m \u001b[1;32mfrom\u001b[0m \u001b[0merr\u001b[0m\u001b[1;33m\u001b[0m\u001b[1;33m\u001b[0m\u001b[0m\n\u001b[0m\u001b[0;32m   3364\u001b[0m \u001b[1;33m\u001b[0m\u001b[0m\n\u001b[0;32m   3365\u001b[0m         \u001b[1;32mif\u001b[0m \u001b[0mis_scalar\u001b[0m\u001b[1;33m(\u001b[0m\u001b[0mkey\u001b[0m\u001b[1;33m)\u001b[0m \u001b[1;32mand\u001b[0m \u001b[0misna\u001b[0m\u001b[1;33m(\u001b[0m\u001b[0mkey\u001b[0m\u001b[1;33m)\u001b[0m \u001b[1;32mand\u001b[0m \u001b[1;32mnot\u001b[0m \u001b[0mself\u001b[0m\u001b[1;33m.\u001b[0m\u001b[0mhasnans\u001b[0m\u001b[1;33m:\u001b[0m\u001b[1;33m\u001b[0m\u001b[1;33m\u001b[0m\u001b[0m\n",
      "\u001b[1;31mKeyError\u001b[0m: 'comments_raw'"
     ]
    }
   ],
   "source": [
    "import texthero as hero\n",
    "import pandas as pd\n",
    "\n",
    "df['tfidf'] = (\n",
    "    data['comments_raw']\n",
    "    .pipe(hero.clean)\n",
    "    .pipe(hero.tfidf)\n",
    ")\n",
    "\n",
    "df['kmeans_labels'] = (\n",
    "    df['tfidf']\n",
    "    .pipe(hero.kmeans, n_clusters = 5)\n",
    "    .astype(str)\n",
    ")\n",
    "\n",
    "df['pca'] = df['tfidf'].pipe(hero.pca)\n",
    "\n",
    "hero.scatterplot(df, 'pca', color = 'kmeans_labels', title = 'K-means')"
   ]
  },
  {
   "cell_type": "markdown",
   "metadata": {
    "id": "k8OuKiHY7S_k"
   },
   "source": [
    "# Entity recognition in Spacy\n",
    "\n",
    "This aspect of the project took a few iterations. I noticed that Spacy would correctly identify one, or sometimes a few instances of a name (e.g., _Amanda_, but wouldn't flag every instance. There were some misclassifications, like _H&P_ (medical shorthand for \"history and physical\"), which Spacy identified as an organization.\n",
    "\n",
    "In the future, I plan to further refine the pre-processing options to replace common medical shorthand with full words. Additionally, I'd like to explore the Spacy library to customize and improve on the model's ability to recognize entities in the data. "
   ]
  },
  {
   "cell_type": "code",
   "execution_count": null,
   "metadata": {
    "id": "XQwcntXI7S_k"
   },
   "outputs": [],
   "source": [
    "from spacy import displacy\n",
    "\n",
    "nlp = spacy.load('en_core_web_trf')\n",
    "\n",
    "spacy.displacy.render(doc, style = 'ent')"
   ]
  },
  {
   "cell_type": "code",
   "execution_count": null,
   "metadata": {
    "id": "Yt24hR_V7S_k"
   },
   "outputs": [],
   "source": [
    "# predicting named entities\n",
    "for ent in doc.ents:\n",
    "    print(ent.text, ent.label_)"
   ]
  },
  {
   "cell_type": "code",
   "execution_count": null,
   "metadata": {
    "id": "LLTwFWHb7S_p"
   },
   "outputs": [],
   "source": [
    "list(extract.keyword_in_context(doc, 'good', window_width = 25, pad_context = True))"
   ]
  },
  {
   "cell_type": "code",
   "execution_count": null,
   "metadata": {
    "id": "2U-el6m67S_p"
   },
   "outputs": [],
   "source": [
    "nlp.analyze_pipes()"
   ]
  },
  {
   "cell_type": "code",
   "execution_count": null,
   "metadata": {
    "id": "I4dtw-cK7S_q"
   },
   "outputs": [],
   "source": [
    "from elasticsearch import helpers, Elasticsearch\n",
    "import csv\n",
    "\n",
    "es = Elasticsearch()"
   ]
  },
  {
   "cell_type": "code",
   "execution_count": null,
   "metadata": {
    "id": "D3DWsfDt7S_q",
    "outputId": "7c498ff0-6a66-4a7f-e57d-2fa9f337edab"
   },
   "outputs": [
    {
     "name": "stderr",
     "output_type": "stream",
     "text": [
      "C:\\Users\\short\\anaconda3\\lib\\site-packages\\elasticsearch\\connection\\base.py:208: ElasticsearchWarning:\n",
      "\n",
      "Elasticsearch built-in security features are not enabled. Without authentication, your cluster could be accessible to anyone. See https://www.elastic.co/guide/en/elasticsearch/reference/7.14/security-minimal-setup.html to enable security.\n",
      "\n"
     ]
    }
   ],
   "source": [
    "with open('sample_xport.csv', encoding=\"utf-8\") as f:\n",
    "    reader = csv.DictReader(f)\n",
    "    helpers.bulk(es, reader, index='epa')"
   ]
  }
 ],
 "metadata": {
  "colab": {
   "name": "dapt612_assignment1_dubinskyb_for_team.ipynb",
   "provenance": []
  },
  "interpreter": {
   "hash": "6b7f74c688ea7c58a0fb9e7a336501221ea26caf5b16825ef3541fd436b93562"
  },
  "kernelspec": {
   "display_name": "Python 3 (ipykernel)",
   "language": "python",
   "name": "python3"
  },
  "language_info": {
   "codemirror_mode": {
    "name": "ipython",
    "version": 3
   },
   "file_extension": ".py",
   "mimetype": "text/x-python",
   "name": "python",
   "nbconvert_exporter": "python",
   "pygments_lexer": "ipython3",
   "version": "3.8.11"
  }
 },
 "nbformat": 4,
 "nbformat_minor": 1
}
