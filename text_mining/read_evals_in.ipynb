{
 "cells": [
  {
   "cell_type": "code",
   "execution_count": 8,
   "metadata": {},
   "outputs": [
    {
     "name": "stdout",
     "output_type": "stream",
     "text": [
      "b'C:\\\\Users\\\\clark\\\\Documents\\\\LOCAL_REPOSITORY_LOCATION\\\\612_TextMining'\n"
     ]
    }
   ],
   "source": [
    "import csv\n",
    "import numpy as np\n",
    "import os\n",
    "import pandas as pd\n",
    "\n",
    "LOCAL_REPOSITORY_LOCATION = os.environ.get('LOCAL_REPOSITORY_LOCATION')\n",
    "\n",
    "os.chdir(r'C:\\Users\\clark\\Documents\\LOCAL_REPOSITORY_LOCATION\\612_TextMining')\n",
    "\n",
    "print(os.getcwdb())"
   ]
  },
  {
   "cell_type": "code",
   "execution_count": 9,
   "metadata": {},
   "outputs": [],
   "source": [
    "# read in the eval data\n",
    "df1 = pd.read_csv('eval_data_dapt.csv', encoding = 'utf-8', dtype = str)\n",
    "\n",
    "# read in the lookup values\n",
    "df2 = pd.read_excel(r'competency_definitions.xlsx', sheet_name = 0)"
   ]
  },
  {
   "cell_type": "code",
   "execution_count": 10,
   "metadata": {},
   "outputs": [
    {
     "data": {
      "text/plain": [
       "Index(['eval_id', 'student_id', 'gender', 'course', 'preceptor', 'epa_number',\n",
       "       'rating_score', 'rating_label', 'comments'],\n",
       "      dtype='object')"
      ]
     },
     "execution_count": 10,
     "metadata": {},
     "output_type": "execute_result"
    }
   ],
   "source": [
    "df1.columns"
   ]
  },
  {
   "cell_type": "code",
   "execution_count": 11,
   "metadata": {},
   "outputs": [
    {
     "data": {
      "text/plain": [
       "Index(['epa_number', 'display_label'], dtype='object')"
      ]
     },
     "execution_count": 11,
     "metadata": {},
     "output_type": "execute_result"
    }
   ],
   "source": [
    "df2.columns"
   ]
  },
  {
   "cell_type": "code",
   "execution_count": 12,
   "metadata": {},
   "outputs": [],
   "source": [
    "df3 = pd.merge(df1, df2, on = 'epa_number', how = 'left')"
   ]
  },
  {
   "cell_type": "code",
   "execution_count": 13,
   "metadata": {},
   "outputs": [],
   "source": [
    "df3 = df3[['eval_id', 'student_id', 'gender', 'course', 'preceptor', 'epa_number', 'display_label', 'rating_score', 'rating_label', 'comments']]"
   ]
  },
  {
   "cell_type": "code",
   "execution_count": 14,
   "metadata": {},
   "outputs": [
    {
     "data": {
      "text/html": [
       "<div>\n",
       "<style scoped>\n",
       "    .dataframe tbody tr th:only-of-type {\n",
       "        vertical-align: middle;\n",
       "    }\n",
       "\n",
       "    .dataframe tbody tr th {\n",
       "        vertical-align: top;\n",
       "    }\n",
       "\n",
       "    .dataframe thead th {\n",
       "        text-align: right;\n",
       "    }\n",
       "</style>\n",
       "<table border=\"1\" class=\"dataframe\">\n",
       "  <thead>\n",
       "    <tr style=\"text-align: right;\">\n",
       "      <th></th>\n",
       "      <th>eval_id</th>\n",
       "      <th>student_id</th>\n",
       "      <th>gender</th>\n",
       "      <th>course</th>\n",
       "      <th>preceptor</th>\n",
       "      <th>epa_number</th>\n",
       "      <th>display_label</th>\n",
       "      <th>rating_score</th>\n",
       "      <th>rating_label</th>\n",
       "      <th>comments</th>\n",
       "    </tr>\n",
       "  </thead>\n",
       "  <tbody>\n",
       "    <tr>\n",
       "      <th>0</th>\n",
       "      <td>55339</td>\n",
       "      <td>855</td>\n",
       "      <td>M</td>\n",
       "      <td>Pediatrics</td>\n",
       "      <td>Attending</td>\n",
       "      <td>EPA 1</td>\n",
       "      <td>Gather a History and Perform a Physical Examin...</td>\n",
       "      <td>3</td>\n",
       "      <td>I had to prompt them from time to time</td>\n",
       "      <td>Work on your interview structure. Keep it cons...</td>\n",
       "    </tr>\n",
       "    <tr>\n",
       "      <th>1</th>\n",
       "      <td>55453</td>\n",
       "      <td>855</td>\n",
       "      <td>M</td>\n",
       "      <td>Pediatrics</td>\n",
       "      <td>Attending</td>\n",
       "      <td>EPA 6</td>\n",
       "      <td>Provide an Oral Presentation of a Clinical Enc...</td>\n",
       "      <td>3</td>\n",
       "      <td>I had to prompt them from time to time</td>\n",
       "      <td>Develop ED focused presentation skills by pres...</td>\n",
       "    </tr>\n",
       "    <tr>\n",
       "      <th>2</th>\n",
       "      <td>56658</td>\n",
       "      <td>855</td>\n",
       "      <td>M</td>\n",
       "      <td>Pediatrics</td>\n",
       "      <td>Attending</td>\n",
       "      <td>EPA 2</td>\n",
       "      <td>Prioritize a Differential Diagnosis Following ...</td>\n",
       "      <td>4</td>\n",
       "      <td>I needed to be available just in case</td>\n",
       "      <td>Watch as many physical exams as possible</td>\n",
       "    </tr>\n",
       "    <tr>\n",
       "      <th>3</th>\n",
       "      <td>57949</td>\n",
       "      <td>855</td>\n",
       "      <td>M</td>\n",
       "      <td>Pediatrics</td>\n",
       "      <td>Attending</td>\n",
       "      <td>EPA 3</td>\n",
       "      <td>Recommend and Interpret Common Diagnostic and ...</td>\n",
       "      <td>3</td>\n",
       "      <td>I had to prompt them from time to time</td>\n",
       "      <td>Should work on being more methodical in collec...</td>\n",
       "    </tr>\n",
       "    <tr>\n",
       "      <th>4</th>\n",
       "      <td>62690</td>\n",
       "      <td>855</td>\n",
       "      <td>M</td>\n",
       "      <td>Pediatrics</td>\n",
       "      <td>Attending</td>\n",
       "      <td>EPA 5</td>\n",
       "      <td>Document a Clinical Encounter in the Patient R...</td>\n",
       "      <td>3</td>\n",
       "      <td>I had to prompt them from time to time</td>\n",
       "      <td>Did well reorganizing the assessment by proble...</td>\n",
       "    </tr>\n",
       "    <tr>\n",
       "      <th>5</th>\n",
       "      <td>62692</td>\n",
       "      <td>855</td>\n",
       "      <td>M</td>\n",
       "      <td>Pediatrics</td>\n",
       "      <td>Attending</td>\n",
       "      <td>EPA 9</td>\n",
       "      <td>Collaborate as a Member of an Interprofessiona...</td>\n",
       "      <td>4</td>\n",
       "      <td>I needed to be available just in case</td>\n",
       "      <td>I think it's great to get involved with what p...</td>\n",
       "    </tr>\n",
       "    <tr>\n",
       "      <th>6</th>\n",
       "      <td>63905</td>\n",
       "      <td>855</td>\n",
       "      <td>M</td>\n",
       "      <td>Obstetrics &amp; Gynecology</td>\n",
       "      <td>Attending</td>\n",
       "      <td>EPA 9</td>\n",
       "      <td>Collaborate as a Member of an Interprofessiona...</td>\n",
       "      <td>3</td>\n",
       "      <td>I had to prompt them from time to time</td>\n",
       "      <td>Present, scrubbed and engaged for a hysterecto...</td>\n",
       "    </tr>\n",
       "    <tr>\n",
       "      <th>7</th>\n",
       "      <td>64208</td>\n",
       "      <td>855</td>\n",
       "      <td>M</td>\n",
       "      <td>Obstetrics &amp; Gynecology</td>\n",
       "      <td>Resident</td>\n",
       "      <td>EPA 6</td>\n",
       "      <td>Provide an Oral Presentation of a Clinical Enc...</td>\n",
       "      <td>3</td>\n",
       "      <td>I had to prompt them from time to time</td>\n",
       "      <td>Needs to work on physical exam skills and orga...</td>\n",
       "    </tr>\n",
       "    <tr>\n",
       "      <th>8</th>\n",
       "      <td>65824</td>\n",
       "      <td>855</td>\n",
       "      <td>M</td>\n",
       "      <td>Obstetrics &amp; Gynecology</td>\n",
       "      <td>Attending</td>\n",
       "      <td>EPA 6</td>\n",
       "      <td>Provide an Oral Presentation of a Clinical Enc...</td>\n",
       "      <td>3</td>\n",
       "      <td>I had to prompt them from time to time</td>\n",
       "      <td>This was a presentation for a case based teach...</td>\n",
       "    </tr>\n",
       "    <tr>\n",
       "      <th>9</th>\n",
       "      <td>68077</td>\n",
       "      <td>855</td>\n",
       "      <td>M</td>\n",
       "      <td>Obstetrics &amp; Gynecology</td>\n",
       "      <td>Resident</td>\n",
       "      <td>EPA 7</td>\n",
       "      <td>Form Clinical Questions and Retrieve Evidence ...</td>\n",
       "      <td>3</td>\n",
       "      <td>I had to prompt them from time to time</td>\n",
       "      <td>Doing just fine for a new third year.</td>\n",
       "    </tr>\n",
       "  </tbody>\n",
       "</table>\n",
       "</div>"
      ],
      "text/plain": [
       "  eval_id student_id gender                   course  preceptor epa_number  \\\n",
       "0   55339        855      M               Pediatrics  Attending      EPA 1   \n",
       "1   55453        855      M               Pediatrics  Attending      EPA 6   \n",
       "2   56658        855      M               Pediatrics  Attending      EPA 2   \n",
       "3   57949        855      M               Pediatrics  Attending      EPA 3   \n",
       "4   62690        855      M               Pediatrics  Attending      EPA 5   \n",
       "5   62692        855      M               Pediatrics  Attending      EPA 9   \n",
       "6   63905        855      M  Obstetrics & Gynecology  Attending      EPA 9   \n",
       "7   64208        855      M  Obstetrics & Gynecology   Resident      EPA 6   \n",
       "8   65824        855      M  Obstetrics & Gynecology  Attending      EPA 6   \n",
       "9   68077        855      M  Obstetrics & Gynecology   Resident      EPA 7   \n",
       "\n",
       "                                       display_label rating_score  \\\n",
       "0  Gather a History and Perform a Physical Examin...            3   \n",
       "1  Provide an Oral Presentation of a Clinical Enc...            3   \n",
       "2  Prioritize a Differential Diagnosis Following ...            4   \n",
       "3  Recommend and Interpret Common Diagnostic and ...            3   \n",
       "4  Document a Clinical Encounter in the Patient R...            3   \n",
       "5  Collaborate as a Member of an Interprofessiona...            4   \n",
       "6  Collaborate as a Member of an Interprofessiona...            3   \n",
       "7  Provide an Oral Presentation of a Clinical Enc...            3   \n",
       "8  Provide an Oral Presentation of a Clinical Enc...            3   \n",
       "9  Form Clinical Questions and Retrieve Evidence ...            3   \n",
       "\n",
       "                             rating_label  \\\n",
       "0  I had to prompt them from time to time   \n",
       "1  I had to prompt them from time to time   \n",
       "2   I needed to be available just in case   \n",
       "3  I had to prompt them from time to time   \n",
       "4  I had to prompt them from time to time   \n",
       "5   I needed to be available just in case   \n",
       "6  I had to prompt them from time to time   \n",
       "7  I had to prompt them from time to time   \n",
       "8  I had to prompt them from time to time   \n",
       "9  I had to prompt them from time to time   \n",
       "\n",
       "                                            comments  \n",
       "0  Work on your interview structure. Keep it cons...  \n",
       "1  Develop ED focused presentation skills by pres...  \n",
       "2          Watch as many physical exams as possible   \n",
       "3  Should work on being more methodical in collec...  \n",
       "4  Did well reorganizing the assessment by proble...  \n",
       "5  I think it's great to get involved with what p...  \n",
       "6  Present, scrubbed and engaged for a hysterecto...  \n",
       "7  Needs to work on physical exam skills and orga...  \n",
       "8  This was a presentation for a case based teach...  \n",
       "9             Doing just fine for a new third year.   "
      ]
     },
     "execution_count": 14,
     "metadata": {},
     "output_type": "execute_result"
    }
   ],
   "source": [
    "df3.head(10)"
   ]
  }
 ],
 "metadata": {
  "interpreter": {
   "hash": "6b7f74c688ea7c58a0fb9e7a336501221ea26caf5b16825ef3541fd436b93562"
  },
  "kernelspec": {
   "display_name": "Python 3 (ipykernel)",
   "language": "python",
   "name": "python3"
  },
  "language_info": {
   "codemirror_mode": {
    "name": "ipython",
    "version": 3
   },
   "file_extension": ".py",
   "mimetype": "text/x-python",
   "name": "python",
   "nbconvert_exporter": "python",
   "pygments_lexer": "ipython3",
   "version": "3.8.11"
  }
 },
 "nbformat": 4,
 "nbformat_minor": 2
}
