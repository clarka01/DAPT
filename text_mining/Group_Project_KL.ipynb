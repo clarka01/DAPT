{
 "cells": [
  {
   "cell_type": "code",
   "execution_count": 1,
   "metadata": {},
   "outputs": [],
   "source": [
    "import textacy\n",
    "import texthero as hero\n",
    "import string\n",
    "import nltk"
   ]
  },
  {
   "cell_type": "code",
   "execution_count": 2,
   "metadata": {},
   "outputs": [],
   "source": [
    "from textblob import TextBlob\n",
    "from textblob import Word\n",
    "from textacy import preprocessing, extract\n",
    "from texthero import preprocessing"
   ]
  },
  {
   "cell_type": "code",
   "execution_count": 3,
   "metadata": {},
   "outputs": [],
   "source": [
    "from nltk import word_tokenize\n",
    "from nltk.corpus import stopwords\n",
    "from nltk.tokenize import RegexpTokenizer\n",
    "from nltk.stem import WordNetLemmatizer\n",
    "from nltk.stem.porter import PorterStemmer"
   ]
  },
  {
   "cell_type": "code",
   "execution_count": 4,
   "metadata": {},
   "outputs": [],
   "source": [
    "import matplotlib.pyplot as plt"
   ]
  },
  {
   "cell_type": "code",
   "execution_count": 5,
   "metadata": {},
   "outputs": [],
   "source": [
    "import csv\n",
    "import numpy as np\n",
    "import os\n",
    "import pandas as pd\n",
    "import seaborn as sns\n",
    "\n",
    "# LOCAL_REPOSITORY_LOCATION = os.environ.get('LOCAL_REPOSITORY_LOCATION')\n",
    "\n",
    "# os.chdir(r'C:\\Users\\baxna\\Documents\\LOCAL_REPOSITORY_LOCATION\\DAPT\\Text_Mining')\n",
    "\n",
    "# print(os.getcwdb())"
   ]
  },
  {
   "cell_type": "code",
   "execution_count": 6,
   "metadata": {},
   "outputs": [],
   "source": [
    "# read in the eval data\n",
    "df1 = pd.read_csv(r'eval_data_dapt.csv', encoding = 'utf-8', dtype = str)\n",
    "\n",
    "# read in the lookup values\n",
    "df2 = pd.read_excel(r'competency_definitions.xlsx', sheet_name = 0)"
   ]
  },
  {
   "cell_type": "code",
   "execution_count": 7,
   "metadata": {},
   "outputs": [
    {
     "data": {
      "text/plain": [
       "Index(['eval_id', 'student_id', 'gender', 'course', 'preceptor', 'epa_number',\n",
       "       'rating_score', 'rating_label', 'comments'],\n",
       "      dtype='object')"
      ]
     },
     "execution_count": 7,
     "metadata": {},
     "output_type": "execute_result"
    }
   ],
   "source": [
    "df1.columns"
   ]
  },
  {
   "cell_type": "code",
   "execution_count": 8,
   "metadata": {},
   "outputs": [
    {
     "data": {
      "text/plain": [
       "Index(['epa_number', 'display_label'], dtype='object')"
      ]
     },
     "execution_count": 8,
     "metadata": {},
     "output_type": "execute_result"
    }
   ],
   "source": [
    "df2.columns"
   ]
  },
  {
   "cell_type": "code",
   "execution_count": 9,
   "metadata": {},
   "outputs": [],
   "source": [
    "df3 = pd.merge(df1, df2, on = 'epa_number', how = 'left')"
   ]
  },
  {
   "cell_type": "code",
   "execution_count": 10,
   "metadata": {},
   "outputs": [],
   "source": [
    "df3 = df3[['eval_id', 'student_id', 'gender', 'course', 'preceptor', 'epa_number', 'display_label', 'rating_score', 'rating_label', 'comments']]"
   ]
  },
  {
   "cell_type": "code",
   "execution_count": 12,
   "metadata": {
    "scrolled": true
   },
   "outputs": [
    {
     "data": {
      "text/plain": [
       "(1240, 10)"
      ]
     },
     "execution_count": 12,
     "metadata": {},
     "output_type": "execute_result"
    }
   ],
   "source": [
    "df3.shape"
   ]
  },
  {
   "cell_type": "code",
   "execution_count": 265,
   "metadata": {},
   "outputs": [
    {
     "data": {
      "text/plain": [
       "0"
      ]
     },
     "execution_count": 265,
     "metadata": {},
     "output_type": "execute_result"
    }
   ],
   "source": [
    "df3.isnull().sum().sum()"
   ]
  },
  {
   "cell_type": "code",
   "execution_count": 266,
   "metadata": {},
   "outputs": [],
   "source": [
    "custom_pipeline = [preprocessing.lowercase,\n",
    "                   preprocessing.remove_whitespace,\n",
    "                   preprocessing.remove_stopwords,\n",
    "                   preprocessing.remove_diacritics,\n",
    "                   preprocessing.remove_punctuation,\n",
    "                   preprocessing.remove_digits,\n",
    "                   preprocessing.drop_no_content]"
   ]
  },
  {
   "cell_type": "code",
   "execution_count": 267,
   "metadata": {},
   "outputs": [],
   "source": [
    "df3['comments'] = hero.clean(df3['comments'], custom_pipeline)"
   ]
  },
  {
   "cell_type": "code",
   "execution_count": 268,
   "metadata": {},
   "outputs": [
    {
     "data": {
      "text/html": [
       "<div>\n",
       "<style scoped>\n",
       "    .dataframe tbody tr th:only-of-type {\n",
       "        vertical-align: middle;\n",
       "    }\n",
       "\n",
       "    .dataframe tbody tr th {\n",
       "        vertical-align: top;\n",
       "    }\n",
       "\n",
       "    .dataframe thead th {\n",
       "        text-align: right;\n",
       "    }\n",
       "</style>\n",
       "<table border=\"1\" class=\"dataframe\">\n",
       "  <thead>\n",
       "    <tr style=\"text-align: right;\">\n",
       "      <th></th>\n",
       "      <th>eval_id</th>\n",
       "      <th>student_id</th>\n",
       "      <th>gender</th>\n",
       "      <th>course</th>\n",
       "      <th>preceptor</th>\n",
       "      <th>epa_number</th>\n",
       "      <th>display_label</th>\n",
       "      <th>rating_score</th>\n",
       "      <th>rating_label</th>\n",
       "      <th>comments</th>\n",
       "    </tr>\n",
       "  </thead>\n",
       "  <tbody>\n",
       "    <tr>\n",
       "      <th>0</th>\n",
       "      <td>55339</td>\n",
       "      <td>855</td>\n",
       "      <td>M</td>\n",
       "      <td>Pediatrics</td>\n",
       "      <td>Attending</td>\n",
       "      <td>EPA 1</td>\n",
       "      <td>Gather a History and Perform a Physical Examin...</td>\n",
       "      <td>3</td>\n",
       "      <td>I had to prompt them from time to time</td>\n",
       "      <td>work   interview structure  keep  consistent  ...</td>\n",
       "    </tr>\n",
       "    <tr>\n",
       "      <th>1</th>\n",
       "      <td>55453</td>\n",
       "      <td>855</td>\n",
       "      <td>M</td>\n",
       "      <td>Pediatrics</td>\n",
       "      <td>Attending</td>\n",
       "      <td>EPA 6</td>\n",
       "      <td>Provide an Oral Presentation of a Clinical Enc...</td>\n",
       "      <td>3</td>\n",
       "      <td>I had to prompt them from time to time</td>\n",
       "      <td>develop ed focused presentation skills  presen...</td>\n",
       "    </tr>\n",
       "    <tr>\n",
       "      <th>2</th>\n",
       "      <td>56658</td>\n",
       "      <td>855</td>\n",
       "      <td>M</td>\n",
       "      <td>Pediatrics</td>\n",
       "      <td>Attending</td>\n",
       "      <td>EPA 2</td>\n",
       "      <td>Prioritize a Differential Diagnosis Following ...</td>\n",
       "      <td>4</td>\n",
       "      <td>I needed to be available just in case</td>\n",
       "      <td>watch  many physical exams  possible</td>\n",
       "    </tr>\n",
       "    <tr>\n",
       "      <th>3</th>\n",
       "      <td>57949</td>\n",
       "      <td>855</td>\n",
       "      <td>M</td>\n",
       "      <td>Pediatrics</td>\n",
       "      <td>Attending</td>\n",
       "      <td>EPA 3</td>\n",
       "      <td>Recommend and Interpret Common Diagnostic and ...</td>\n",
       "      <td>3</td>\n",
       "      <td>I had to prompt them from time to time</td>\n",
       "      <td>work    methodical  collecting information  p...</td>\n",
       "    </tr>\n",
       "    <tr>\n",
       "      <th>4</th>\n",
       "      <td>62690</td>\n",
       "      <td>855</td>\n",
       "      <td>M</td>\n",
       "      <td>Pediatrics</td>\n",
       "      <td>Attending</td>\n",
       "      <td>EPA 5</td>\n",
       "      <td>Document a Clinical Encounter in the Patient R...</td>\n",
       "      <td>3</td>\n",
       "      <td>I had to prompt them from time to time</td>\n",
       "      <td>well reorganizing  assessment  problem   plan...</td>\n",
       "    </tr>\n",
       "    <tr>\n",
       "      <th>5</th>\n",
       "      <td>62692</td>\n",
       "      <td>855</td>\n",
       "      <td>M</td>\n",
       "      <td>Pediatrics</td>\n",
       "      <td>Attending</td>\n",
       "      <td>EPA 9</td>\n",
       "      <td>Collaborate as a Member of an Interprofessiona...</td>\n",
       "      <td>4</td>\n",
       "      <td>I needed to be available just in case</td>\n",
       "      <td>think   great  get involved   physical therap...</td>\n",
       "    </tr>\n",
       "    <tr>\n",
       "      <th>6</th>\n",
       "      <td>63905</td>\n",
       "      <td>855</td>\n",
       "      <td>M</td>\n",
       "      <td>Obstetrics &amp; Gynecology</td>\n",
       "      <td>Attending</td>\n",
       "      <td>EPA 9</td>\n",
       "      <td>Collaborate as a Member of an Interprofessiona...</td>\n",
       "      <td>3</td>\n",
       "      <td>I had to prompt them from time to time</td>\n",
       "      <td>present  scrubbed  engaged   hysterectomy  ask...</td>\n",
       "    </tr>\n",
       "    <tr>\n",
       "      <th>7</th>\n",
       "      <td>64208</td>\n",
       "      <td>855</td>\n",
       "      <td>M</td>\n",
       "      <td>Obstetrics &amp; Gynecology</td>\n",
       "      <td>Resident</td>\n",
       "      <td>EPA 6</td>\n",
       "      <td>Provide an Oral Presentation of a Clinical Enc...</td>\n",
       "      <td>3</td>\n",
       "      <td>I had to prompt them from time to time</td>\n",
       "      <td>needs  work  physical exam skills  organizing ...</td>\n",
       "    </tr>\n",
       "    <tr>\n",
       "      <th>8</th>\n",
       "      <td>65824</td>\n",
       "      <td>855</td>\n",
       "      <td>M</td>\n",
       "      <td>Obstetrics &amp; Gynecology</td>\n",
       "      <td>Attending</td>\n",
       "      <td>EPA 6</td>\n",
       "      <td>Provide an Oral Presentation of a Clinical Enc...</td>\n",
       "      <td>3</td>\n",
       "      <td>I had to prompt them from time to time</td>\n",
       "      <td>presentation   case based teaching conferen...</td>\n",
       "    </tr>\n",
       "    <tr>\n",
       "      <th>9</th>\n",
       "      <td>68077</td>\n",
       "      <td>855</td>\n",
       "      <td>M</td>\n",
       "      <td>Obstetrics &amp; Gynecology</td>\n",
       "      <td>Resident</td>\n",
       "      <td>EPA 7</td>\n",
       "      <td>Form Clinical Questions and Retrieve Evidence ...</td>\n",
       "      <td>3</td>\n",
       "      <td>I had to prompt them from time to time</td>\n",
       "      <td>fine   new third year</td>\n",
       "    </tr>\n",
       "  </tbody>\n",
       "</table>\n",
       "</div>"
      ],
      "text/plain": [
       "  eval_id student_id gender                   course  preceptor epa_number  \\\n",
       "0   55339        855      M               Pediatrics  Attending      EPA 1   \n",
       "1   55453        855      M               Pediatrics  Attending      EPA 6   \n",
       "2   56658        855      M               Pediatrics  Attending      EPA 2   \n",
       "3   57949        855      M               Pediatrics  Attending      EPA 3   \n",
       "4   62690        855      M               Pediatrics  Attending      EPA 5   \n",
       "5   62692        855      M               Pediatrics  Attending      EPA 9   \n",
       "6   63905        855      M  Obstetrics & Gynecology  Attending      EPA 9   \n",
       "7   64208        855      M  Obstetrics & Gynecology   Resident      EPA 6   \n",
       "8   65824        855      M  Obstetrics & Gynecology  Attending      EPA 6   \n",
       "9   68077        855      M  Obstetrics & Gynecology   Resident      EPA 7   \n",
       "\n",
       "                                       display_label rating_score  \\\n",
       "0  Gather a History and Perform a Physical Examin...            3   \n",
       "1  Provide an Oral Presentation of a Clinical Enc...            3   \n",
       "2  Prioritize a Differential Diagnosis Following ...            4   \n",
       "3  Recommend and Interpret Common Diagnostic and ...            3   \n",
       "4  Document a Clinical Encounter in the Patient R...            3   \n",
       "5  Collaborate as a Member of an Interprofessiona...            4   \n",
       "6  Collaborate as a Member of an Interprofessiona...            3   \n",
       "7  Provide an Oral Presentation of a Clinical Enc...            3   \n",
       "8  Provide an Oral Presentation of a Clinical Enc...            3   \n",
       "9  Form Clinical Questions and Retrieve Evidence ...            3   \n",
       "\n",
       "                             rating_label  \\\n",
       "0  I had to prompt them from time to time   \n",
       "1  I had to prompt them from time to time   \n",
       "2   I needed to be available just in case   \n",
       "3  I had to prompt them from time to time   \n",
       "4  I had to prompt them from time to time   \n",
       "5   I needed to be available just in case   \n",
       "6  I had to prompt them from time to time   \n",
       "7  I had to prompt them from time to time   \n",
       "8  I had to prompt them from time to time   \n",
       "9  I had to prompt them from time to time   \n",
       "\n",
       "                                            comments  \n",
       "0  work   interview structure  keep  consistent  ...  \n",
       "1  develop ed focused presentation skills  presen...  \n",
       "2               watch  many physical exams  possible  \n",
       "3   work    methodical  collecting information  p...  \n",
       "4   well reorganizing  assessment  problem   plan...  \n",
       "5   think   great  get involved   physical therap...  \n",
       "6  present  scrubbed  engaged   hysterectomy  ask...  \n",
       "7  needs  work  physical exam skills  organizing ...  \n",
       "8     presentation   case based teaching conferen...  \n",
       "9                             fine   new third year   "
      ]
     },
     "execution_count": 268,
     "metadata": {},
     "output_type": "execute_result"
    }
   ],
   "source": [
    "df3.head(10)"
   ]
  },
  {
   "cell_type": "code",
   "execution_count": 269,
   "metadata": {},
   "outputs": [],
   "source": []
  },
  {
   "cell_type": "code",
   "execution_count": 270,
   "metadata": {},
   "outputs": [
    {
     "data": {
      "text/html": [
       "<div>\n",
       "<style scoped>\n",
       "    .dataframe tbody tr th:only-of-type {\n",
       "        vertical-align: middle;\n",
       "    }\n",
       "\n",
       "    .dataframe tbody tr th {\n",
       "        vertical-align: top;\n",
       "    }\n",
       "\n",
       "    .dataframe thead th {\n",
       "        text-align: right;\n",
       "    }\n",
       "</style>\n",
       "<table border=\"1\" class=\"dataframe\">\n",
       "  <thead>\n",
       "    <tr style=\"text-align: right;\">\n",
       "      <th></th>\n",
       "      <th>eval_id</th>\n",
       "      <th>student_id</th>\n",
       "      <th>gender</th>\n",
       "      <th>course</th>\n",
       "      <th>preceptor</th>\n",
       "      <th>epa_number</th>\n",
       "      <th>display_label</th>\n",
       "      <th>rating_score</th>\n",
       "      <th>rating_label</th>\n",
       "      <th>comments</th>\n",
       "      <th>count</th>\n",
       "    </tr>\n",
       "  </thead>\n",
       "  <tbody>\n",
       "    <tr>\n",
       "      <th>0</th>\n",
       "      <td>55339</td>\n",
       "      <td>855</td>\n",
       "      <td>M</td>\n",
       "      <td>Pediatrics</td>\n",
       "      <td>Attending</td>\n",
       "      <td>EPA 1</td>\n",
       "      <td>Gather a History and Perform a Physical Examin...</td>\n",
       "      <td>3</td>\n",
       "      <td>I had to prompt them from time to time</td>\n",
       "      <td>work   interview structure  keep  consistent  ...</td>\n",
       "      <td>19.0</td>\n",
       "    </tr>\n",
       "    <tr>\n",
       "      <th>1</th>\n",
       "      <td>55453</td>\n",
       "      <td>855</td>\n",
       "      <td>M</td>\n",
       "      <td>Pediatrics</td>\n",
       "      <td>Attending</td>\n",
       "      <td>EPA 6</td>\n",
       "      <td>Provide an Oral Presentation of a Clinical Enc...</td>\n",
       "      <td>3</td>\n",
       "      <td>I had to prompt them from time to time</td>\n",
       "      <td>develop ed focused presentation skills  presen...</td>\n",
       "      <td>10.0</td>\n",
       "    </tr>\n",
       "    <tr>\n",
       "      <th>2</th>\n",
       "      <td>56658</td>\n",
       "      <td>855</td>\n",
       "      <td>M</td>\n",
       "      <td>Pediatrics</td>\n",
       "      <td>Attending</td>\n",
       "      <td>EPA 2</td>\n",
       "      <td>Prioritize a Differential Diagnosis Following ...</td>\n",
       "      <td>4</td>\n",
       "      <td>I needed to be available just in case</td>\n",
       "      <td>watch  many physical exams  possible</td>\n",
       "      <td>5.0</td>\n",
       "    </tr>\n",
       "    <tr>\n",
       "      <th>3</th>\n",
       "      <td>57949</td>\n",
       "      <td>855</td>\n",
       "      <td>M</td>\n",
       "      <td>Pediatrics</td>\n",
       "      <td>Attending</td>\n",
       "      <td>EPA 3</td>\n",
       "      <td>Recommend and Interpret Common Diagnostic and ...</td>\n",
       "      <td>3</td>\n",
       "      <td>I had to prompt them from time to time</td>\n",
       "      <td>work    methodical  collecting information  p...</td>\n",
       "      <td>14.0</td>\n",
       "    </tr>\n",
       "    <tr>\n",
       "      <th>4</th>\n",
       "      <td>62690</td>\n",
       "      <td>855</td>\n",
       "      <td>M</td>\n",
       "      <td>Pediatrics</td>\n",
       "      <td>Attending</td>\n",
       "      <td>EPA 5</td>\n",
       "      <td>Document a Clinical Encounter in the Patient R...</td>\n",
       "      <td>3</td>\n",
       "      <td>I had to prompt them from time to time</td>\n",
       "      <td>well reorganizing  assessment  problem   plan...</td>\n",
       "      <td>11.0</td>\n",
       "    </tr>\n",
       "  </tbody>\n",
       "</table>\n",
       "</div>"
      ],
      "text/plain": [
       "  eval_id student_id gender      course  preceptor epa_number  \\\n",
       "0   55339        855      M  Pediatrics  Attending      EPA 1   \n",
       "1   55453        855      M  Pediatrics  Attending      EPA 6   \n",
       "2   56658        855      M  Pediatrics  Attending      EPA 2   \n",
       "3   57949        855      M  Pediatrics  Attending      EPA 3   \n",
       "4   62690        855      M  Pediatrics  Attending      EPA 5   \n",
       "\n",
       "                                       display_label rating_score  \\\n",
       "0  Gather a History and Perform a Physical Examin...            3   \n",
       "1  Provide an Oral Presentation of a Clinical Enc...            3   \n",
       "2  Prioritize a Differential Diagnosis Following ...            4   \n",
       "3  Recommend and Interpret Common Diagnostic and ...            3   \n",
       "4  Document a Clinical Encounter in the Patient R...            3   \n",
       "\n",
       "                             rating_label  \\\n",
       "0  I had to prompt them from time to time   \n",
       "1  I had to prompt them from time to time   \n",
       "2   I needed to be available just in case   \n",
       "3  I had to prompt them from time to time   \n",
       "4  I had to prompt them from time to time   \n",
       "\n",
       "                                            comments  count  \n",
       "0  work   interview structure  keep  consistent  ...   19.0  \n",
       "1  develop ed focused presentation skills  presen...   10.0  \n",
       "2               watch  many physical exams  possible    5.0  \n",
       "3   work    methodical  collecting information  p...   14.0  \n",
       "4   well reorganizing  assessment  problem   plan...   11.0  "
      ]
     },
     "execution_count": 270,
     "metadata": {},
     "output_type": "execute_result"
    }
   ],
   "source": [
    "df3.head()"
   ]
  },
  {
   "cell_type": "code",
   "execution_count": 271,
   "metadata": {
    "scrolled": false
   },
   "outputs": [
    {
     "data": {
      "text/plain": [
       "rating_score\n",
       "1    14.500000\n",
       "2    13.851852\n",
       "3    15.821277\n",
       "4    10.463339\n",
       "5     7.303951\n",
       "Name: count, dtype: float64"
      ]
     },
     "execution_count": 271,
     "metadata": {},
     "output_type": "execute_result"
    }
   ],
   "source": [
    "df3.groupby('rating_score')['count'].mean()\n"
   ]
  },
  {
   "cell_type": "code",
   "execution_count": 272,
   "metadata": {},
   "outputs": [
    {
     "data": {
      "image/png": "[encoded data removed]",
      "text/plain": [
       "<Figure size 432x288 with 1 Axes>"
      ]
     },
     "metadata": {},
     "output_type": "display_data"
    }
   ],
   "source": [
    "import matplotlib.pyplot as plt\n",
    "fig = plt.figure()\n",
    "ax = fig.add_axes([0,0,1,1])\n",
    "rating_scores = ['1', '2', '3', '4', '5']\n",
    "Average_Word_Counts = [14.50,13.85,15.82,10.46,7.30]\n",
    "ax.bar(rating_scores,Average_Word_Counts)\n",
    "ax.set_ylabel('Average Word Count')\n",
    "ax.set_xlabel('Rating Scores')\n",
    "ax.set_title('Average Word Counts by Rating Scores')\n",
    "plt.show()"
   ]
  },
  {
   "cell_type": "code",
   "execution_count": 273,
   "metadata": {
    "scrolled": true
   },
   "outputs": [
    {
     "data": {
      "text/plain": [
       "rating_score\n",
       "1    5.0\n",
       "2    3.0\n",
       "3    1.0\n",
       "4    1.0\n",
       "5    1.0\n",
       "Name: count, dtype: float64"
      ]
     },
     "execution_count": 273,
     "metadata": {},
     "output_type": "execute_result"
    }
   ],
   "source": [
    "df3.groupby('rating_score')['count'].min()"
   ]
  },
  {
   "cell_type": "code",
   "execution_count": 274,
   "metadata": {
    "scrolled": false
   },
   "outputs": [
    {
     "data": {
      "text/plain": [
       "rating_score\n",
       "1     25.0\n",
       "2     33.0\n",
       "3    166.0\n",
       "4    147.0\n",
       "5     64.0\n",
       "Name: count, dtype: float64"
      ]
     },
     "execution_count": 274,
     "metadata": {},
     "output_type": "execute_result"
    }
   ],
   "source": [
    "df3.groupby('rating_score')['count'].max()"
   ]
  },
  {
   "cell_type": "code",
   "execution_count": 275,
   "metadata": {
    "scrolled": true
   },
   "outputs": [
    {
     "data": {
      "text/plain": [
       "preceptor  rating_score\n",
       "Attending  1                9.000000\n",
       "           2               20.375000\n",
       "           3               16.858156\n",
       "           4               12.139601\n",
       "           5               10.054348\n",
       "Other      3                3.285714\n",
       "           4                3.246914\n",
       "           5                3.639175\n",
       "Resident   1               20.000000\n",
       "           2               11.105263\n",
       "           3               16.187500\n",
       "           4               10.444976\n",
       "           5                8.035714\n",
       "Name: count, dtype: float64"
      ]
     },
     "execution_count": 275,
     "metadata": {},
     "output_type": "execute_result"
    }
   ],
   "source": [
    "# Average number of words per rating score by preceptor\n",
    "df3.groupby(['preceptor', 'rating_score'])['count'].mean()"
   ]
  },
  {
   "cell_type": "code",
   "execution_count": 297,
   "metadata": {},
   "outputs": [
    {
     "data": {
      "image/png": "[encoded data removed]",
      "text/plain": [
       "<Figure size 432x288 with 1 Axes>"
      ]
     },
     "metadata": {},
     "output_type": "display_data"
    }
   ],
   "source": [
    "labels = ['1', '2', '3', '4', '5']\n",
    "attending_means = [9.00, 20.38, 16.86, 12.14, 10.05]\n",
    "other_means = [0, 0, 3.28, 3.25, 3.64]\n",
    "resident_means = [20.00, 11.11, 16.19, 10.44, 8.03]\n",
    "width = 0.7      # adjusts the width of the bars\n",
    "\n",
    "fig, ax = plt.subplots()\n",
    "\n",
    "ax.bar(labels, attending_means, width, label='Attending')\n",
    "ax.bar(labels, other_means, width, label='Other')\n",
    "ax.bar(labels, resident_means, width, bottom=attending_means, label='Resident')\n",
    "\n",
    "\n",
    "ax.set_ylabel('Average Ratings')\n",
    "ax.set_title('Average Word Counts by Ratings and Preceptor')\n",
    "ax.legend()\n",
    "plt.legend(prop={\"size\":13})\n",
    "\n",
    "plt.show()"
   ]
  },
  {
   "cell_type": "code",
   "execution_count": 277,
   "metadata": {},
   "outputs": [
    {
     "data": {
      "text/plain": [
       "course                   rating_score\n",
       "Ambulatory               3               10.155556\n",
       "                         4                9.476190\n",
       "                         5               11.108696\n",
       "Family Medicine          1                5.000000\n",
       "                         3                5.090909\n",
       "                         4                3.868421\n",
       "                         5                3.438202\n",
       "Internal Medicine        2               14.416667\n",
       "                         3               22.420000\n",
       "                         4               17.195312\n",
       "                         5                9.837209\n",
       "Neurology                1               16.000000\n",
       "                         2               13.666667\n",
       "                         3               17.000000\n",
       "                         4                8.170732\n",
       "                         5                8.000000\n",
       "Obstetrics & Gynecology  1                6.000000\n",
       "                         2               14.000000\n",
       "                         3               12.960000\n",
       "                         4                9.813953\n",
       "                         5               11.185185\n",
       "Pediatrics               2               16.500000\n",
       "                         3               20.593750\n",
       "                         4               10.404255\n",
       "                         5               10.000000\n",
       "Psychiatry               2               13.200000\n",
       "                         3               16.107143\n",
       "                         4               10.166667\n",
       "                         5                7.428571\n",
       "Surgery                  1               20.000000\n",
       "                         2               11.750000\n",
       "                         3               13.500000\n",
       "                         4                8.701493\n",
       "                         5                4.156250\n",
       "Name: count, dtype: float64"
      ]
     },
     "execution_count": 277,
     "metadata": {},
     "output_type": "execute_result"
    }
   ],
   "source": [
    "df3.groupby(['course', 'rating_score'])['count'].mean()"
   ]
  },
  {
   "cell_type": "code",
   "execution_count": 278,
   "metadata": {
    "scrolled": false
   },
   "outputs": [],
   "source": [
    "# Average number of words per rating score by course\n",
    "\n",
    "#df4 = df3.groupby(['course', 'rating_score'])['count'].mean()"
   ]
  },
  {
   "cell_type": "code",
   "execution_count": 279,
   "metadata": {},
   "outputs": [],
   "source": [
    "#df5 = pd.DataFrame(df4)\n",
    "#df5.reset_index(inplace = True)"
   ]
  },
  {
   "cell_type": "code",
   "execution_count": 280,
   "metadata": {
    "scrolled": true
   },
   "outputs": [
    {
     "data": {
      "text/html": [
       "<div>\n",
       "<style scoped>\n",
       "    .dataframe tbody tr th:only-of-type {\n",
       "        vertical-align: middle;\n",
       "    }\n",
       "\n",
       "    .dataframe tbody tr th {\n",
       "        vertical-align: top;\n",
       "    }\n",
       "\n",
       "    .dataframe thead th {\n",
       "        text-align: right;\n",
       "    }\n",
       "</style>\n",
       "<table border=\"1\" class=\"dataframe\">\n",
       "  <thead>\n",
       "    <tr style=\"text-align: right;\">\n",
       "      <th></th>\n",
       "      <th>course</th>\n",
       "      <th>rating_score</th>\n",
       "      <th>count</th>\n",
       "    </tr>\n",
       "  </thead>\n",
       "  <tbody>\n",
       "    <tr>\n",
       "      <th>0</th>\n",
       "      <td>Ambulatory</td>\n",
       "      <td>3</td>\n",
       "      <td>10.155556</td>\n",
       "    </tr>\n",
       "    <tr>\n",
       "      <th>1</th>\n",
       "      <td>Ambulatory</td>\n",
       "      <td>4</td>\n",
       "      <td>9.476190</td>\n",
       "    </tr>\n",
       "    <tr>\n",
       "      <th>2</th>\n",
       "      <td>Ambulatory</td>\n",
       "      <td>5</td>\n",
       "      <td>11.108696</td>\n",
       "    </tr>\n",
       "    <tr>\n",
       "      <th>3</th>\n",
       "      <td>Family Medicine</td>\n",
       "      <td>1</td>\n",
       "      <td>5.000000</td>\n",
       "    </tr>\n",
       "    <tr>\n",
       "      <th>4</th>\n",
       "      <td>Family Medicine</td>\n",
       "      <td>3</td>\n",
       "      <td>5.090909</td>\n",
       "    </tr>\n",
       "    <tr>\n",
       "      <th>5</th>\n",
       "      <td>Family Medicine</td>\n",
       "      <td>4</td>\n",
       "      <td>3.868421</td>\n",
       "    </tr>\n",
       "    <tr>\n",
       "      <th>6</th>\n",
       "      <td>Family Medicine</td>\n",
       "      <td>5</td>\n",
       "      <td>3.438202</td>\n",
       "    </tr>\n",
       "    <tr>\n",
       "      <th>7</th>\n",
       "      <td>Internal Medicine</td>\n",
       "      <td>2</td>\n",
       "      <td>14.416667</td>\n",
       "    </tr>\n",
       "    <tr>\n",
       "      <th>8</th>\n",
       "      <td>Internal Medicine</td>\n",
       "      <td>3</td>\n",
       "      <td>22.420000</td>\n",
       "    </tr>\n",
       "    <tr>\n",
       "      <th>9</th>\n",
       "      <td>Internal Medicine</td>\n",
       "      <td>4</td>\n",
       "      <td>17.195312</td>\n",
       "    </tr>\n",
       "  </tbody>\n",
       "</table>\n",
       "</div>"
      ],
      "text/plain": [
       "              course rating_score      count\n",
       "0         Ambulatory            3  10.155556\n",
       "1         Ambulatory            4   9.476190\n",
       "2         Ambulatory            5  11.108696\n",
       "3    Family Medicine            1   5.000000\n",
       "4    Family Medicine            3   5.090909\n",
       "5    Family Medicine            4   3.868421\n",
       "6    Family Medicine            5   3.438202\n",
       "7  Internal Medicine            2  14.416667\n",
       "8  Internal Medicine            3  22.420000\n",
       "9  Internal Medicine            4  17.195312"
      ]
     },
     "execution_count": 280,
     "metadata": {},
     "output_type": "execute_result"
    }
   ],
   "source": [
    "#df5.head(10)"
   ]
  },
  {
   "cell_type": "code",
   "execution_count": 281,
   "metadata": {
    "scrolled": true
   },
   "outputs": [
    {
     "data": {
      "text/plain": [
       "course           object\n",
       "rating_score     object\n",
       "count           float64\n",
       "dtype: object"
      ]
     },
     "execution_count": 281,
     "metadata": {},
     "output_type": "execute_result"
    }
   ],
   "source": [
    "#df5.dtypes"
   ]
  },
  {
   "cell_type": "code",
   "execution_count": 282,
   "metadata": {},
   "outputs": [],
   "source": [
    "#df5[\"course_rating\"] = df5[\"course\"] + df5[\"rating_score\"]"
   ]
  },
  {
   "cell_type": "code",
   "execution_count": 283,
   "metadata": {
    "scrolled": true
   },
   "outputs": [
    {
     "data": {
      "text/html": [
       "<div>\n",
       "<style scoped>\n",
       "    .dataframe tbody tr th:only-of-type {\n",
       "        vertical-align: middle;\n",
       "    }\n",
       "\n",
       "    .dataframe tbody tr th {\n",
       "        vertical-align: top;\n",
       "    }\n",
       "\n",
       "    .dataframe thead th {\n",
       "        text-align: right;\n",
       "    }\n",
       "</style>\n",
       "<table border=\"1\" class=\"dataframe\">\n",
       "  <thead>\n",
       "    <tr style=\"text-align: right;\">\n",
       "      <th></th>\n",
       "      <th>course</th>\n",
       "      <th>rating_score</th>\n",
       "      <th>count</th>\n",
       "      <th>course_rating</th>\n",
       "    </tr>\n",
       "  </thead>\n",
       "  <tbody>\n",
       "    <tr>\n",
       "      <th>0</th>\n",
       "      <td>Ambulatory</td>\n",
       "      <td>3</td>\n",
       "      <td>10.155556</td>\n",
       "      <td>Ambulatory3</td>\n",
       "    </tr>\n",
       "    <tr>\n",
       "      <th>1</th>\n",
       "      <td>Ambulatory</td>\n",
       "      <td>4</td>\n",
       "      <td>9.476190</td>\n",
       "      <td>Ambulatory4</td>\n",
       "    </tr>\n",
       "    <tr>\n",
       "      <th>2</th>\n",
       "      <td>Ambulatory</td>\n",
       "      <td>5</td>\n",
       "      <td>11.108696</td>\n",
       "      <td>Ambulatory5</td>\n",
       "    </tr>\n",
       "    <tr>\n",
       "      <th>3</th>\n",
       "      <td>Family Medicine</td>\n",
       "      <td>1</td>\n",
       "      <td>5.000000</td>\n",
       "      <td>Family Medicine1</td>\n",
       "    </tr>\n",
       "    <tr>\n",
       "      <th>4</th>\n",
       "      <td>Family Medicine</td>\n",
       "      <td>3</td>\n",
       "      <td>5.090909</td>\n",
       "      <td>Family Medicine3</td>\n",
       "    </tr>\n",
       "  </tbody>\n",
       "</table>\n",
       "</div>"
      ],
      "text/plain": [
       "            course rating_score      count     course_rating\n",
       "0       Ambulatory            3  10.155556       Ambulatory3\n",
       "1       Ambulatory            4   9.476190       Ambulatory4\n",
       "2       Ambulatory            5  11.108696       Ambulatory5\n",
       "3  Family Medicine            1   5.000000  Family Medicine1\n",
       "4  Family Medicine            3   5.090909  Family Medicine3"
      ]
     },
     "execution_count": 283,
     "metadata": {},
     "output_type": "execute_result"
    }
   ],
   "source": [
    "#df5.head()"
   ]
  },
  {
   "cell_type": "code",
   "execution_count": 284,
   "metadata": {},
   "outputs": [
    {
     "data": {
      "text/html": [
       "<div>\n",
       "<style scoped>\n",
       "    .dataframe tbody tr th:only-of-type {\n",
       "        vertical-align: middle;\n",
       "    }\n",
       "\n",
       "    .dataframe tbody tr th {\n",
       "        vertical-align: top;\n",
       "    }\n",
       "\n",
       "    .dataframe thead th {\n",
       "        text-align: right;\n",
       "    }\n",
       "</style>\n",
       "<table border=\"1\" class=\"dataframe\">\n",
       "  <thead>\n",
       "    <tr style=\"text-align: right;\">\n",
       "      <th>course</th>\n",
       "      <th>Ambulatory</th>\n",
       "      <th>Family Medicine</th>\n",
       "      <th>Internal Medicine</th>\n",
       "      <th>Neurology</th>\n",
       "      <th>Obstetrics &amp; Gynecology</th>\n",
       "      <th>Pediatrics</th>\n",
       "      <th>Psychiatry</th>\n",
       "      <th>Surgery</th>\n",
       "    </tr>\n",
       "    <tr>\n",
       "      <th>rating_score</th>\n",
       "      <th></th>\n",
       "      <th></th>\n",
       "      <th></th>\n",
       "      <th></th>\n",
       "      <th></th>\n",
       "      <th></th>\n",
       "      <th></th>\n",
       "      <th></th>\n",
       "    </tr>\n",
       "  </thead>\n",
       "  <tbody>\n",
       "    <tr>\n",
       "      <th>1</th>\n",
       "      <td>0.000000</td>\n",
       "      <td>5.000000</td>\n",
       "      <td>0.000000</td>\n",
       "      <td>16.000000</td>\n",
       "      <td>6.000000</td>\n",
       "      <td>0.000000</td>\n",
       "      <td>0.000000</td>\n",
       "      <td>20.000000</td>\n",
       "    </tr>\n",
       "    <tr>\n",
       "      <th>2</th>\n",
       "      <td>0.000000</td>\n",
       "      <td>0.000000</td>\n",
       "      <td>14.416667</td>\n",
       "      <td>13.666667</td>\n",
       "      <td>14.000000</td>\n",
       "      <td>16.500000</td>\n",
       "      <td>13.200000</td>\n",
       "      <td>11.750000</td>\n",
       "    </tr>\n",
       "    <tr>\n",
       "      <th>3</th>\n",
       "      <td>10.155556</td>\n",
       "      <td>5.090909</td>\n",
       "      <td>22.420000</td>\n",
       "      <td>17.000000</td>\n",
       "      <td>12.960000</td>\n",
       "      <td>20.593750</td>\n",
       "      <td>16.107143</td>\n",
       "      <td>13.500000</td>\n",
       "    </tr>\n",
       "    <tr>\n",
       "      <th>4</th>\n",
       "      <td>9.476190</td>\n",
       "      <td>3.868421</td>\n",
       "      <td>17.195312</td>\n",
       "      <td>8.170732</td>\n",
       "      <td>9.813953</td>\n",
       "      <td>10.404255</td>\n",
       "      <td>10.166667</td>\n",
       "      <td>8.701493</td>\n",
       "    </tr>\n",
       "    <tr>\n",
       "      <th>5</th>\n",
       "      <td>11.108696</td>\n",
       "      <td>3.438202</td>\n",
       "      <td>9.837209</td>\n",
       "      <td>8.000000</td>\n",
       "      <td>11.185185</td>\n",
       "      <td>10.000000</td>\n",
       "      <td>7.428571</td>\n",
       "      <td>4.156250</td>\n",
       "    </tr>\n",
       "  </tbody>\n",
       "</table>\n",
       "</div>"
      ],
      "text/plain": [
       "course        Ambulatory  Family Medicine  Internal Medicine  Neurology  \\\n",
       "rating_score                                                              \n",
       "1               0.000000         5.000000           0.000000  16.000000   \n",
       "2               0.000000         0.000000          14.416667  13.666667   \n",
       "3              10.155556         5.090909          22.420000  17.000000   \n",
       "4               9.476190         3.868421          17.195312   8.170732   \n",
       "5              11.108696         3.438202           9.837209   8.000000   \n",
       "\n",
       "course        Obstetrics & Gynecology  Pediatrics  Psychiatry    Surgery  \n",
       "rating_score                                                              \n",
       "1                            6.000000    0.000000    0.000000  20.000000  \n",
       "2                           14.000000   16.500000   13.200000  11.750000  \n",
       "3                           12.960000   20.593750   16.107143  13.500000  \n",
       "4                            9.813953   10.404255   10.166667   8.701493  \n",
       "5                           11.185185   10.000000    7.428571   4.156250  "
      ]
     },
     "execution_count": 284,
     "metadata": {},
     "output_type": "execute_result"
    }
   ],
   "source": [
    "agg_df3 = df3.groupby(['rating_score', 'course'])['count'].mean().unstack().fillna(0)\n",
    "agg_df3"
   ]
  },
  {
   "cell_type": "code",
   "execution_count": 291,
   "metadata": {},
   "outputs": [
    {
     "data": {
      "image/png": "[encoded data removed]",
      "text/plain": [
       "<Figure size 1116x540 with 1 Axes>"
      ]
     },
     "metadata": {},
     "output_type": "display_data"
    }
   ],
   "source": [
    "from matplotlib import pyplot as plt\n",
    "\n",
    "fig, ax = plt.subplots()\n",
    "\n",
    "# Initialize the bottom at zero for the first set of bars.\n",
    "bottom = np.zeros(len(agg_df3))\n",
    "\n",
    "# Plot each layer of the bar, adding each bar to the \"bottom\" so\n",
    "# the next bar starts higher.\n",
    "for i, col in enumerate(agg_df3.columns):\n",
    "  ax.bar(agg_df3.index, agg_df3[col], bottom=bottom, label=col)\n",
    "  bottom += np.array(agg_df3[col])\n",
    "\n",
    "ax.set_title('Average Word Count by Course and Rating')\n",
    "ax.legend()\n",
    "plt.legend(prop={\"size\":13})\n",
    "fig.set_size_inches(15.5, 7.5)\n"
   ]
  }
 ],
 "metadata": {
  "interpreter": {
   "hash": "6b7f74c688ea7c58a0fb9e7a336501221ea26caf5b16825ef3541fd436b93562"
  },
  "kernelspec": {
   "display_name": "Python 3 (ipykernel)",
   "language": "python",
   "name": "python3"
  },
  "language_info": {
   "codemirror_mode": {
    "name": "ipython",
    "version": 3
   },
   "file_extension": ".py",
   "mimetype": "text/x-python",
   "name": "python",
   "nbconvert_exporter": "python",
   "pygments_lexer": "ipython3",
   "version": "3.8.11"
  }
 },
 "nbformat": 4,
 "nbformat_minor": 2
}
